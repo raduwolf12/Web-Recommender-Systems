{
 "cells": [
  {
   "cell_type": "markdown",
   "id": "b3e9793b",
   "metadata": {},
   "source": [
    "# 1) Week 6"
   ]
  },
  {
   "cell_type": "code",
   "execution_count": null,
   "id": "dbc7711a",
   "metadata": {},
   "outputs": [],
   "source": [
    "import json\n",
    "import pandas as pd\n",
    "import gzip\n",
    "import numpy as np"
   ]
  },
  {
   "cell_type": "code",
   "execution_count": null,
   "id": "cd56331e",
   "metadata": {},
   "outputs": [],
   "source": [
    "test_df = pd.read_csv('E:/Master/WebRecomandredSystems/test.data', sep='\\t', header=None)\n",
    "\n",
    "test_df.columns = ['user_id', 'movie_id','rating', 'timestamp']"
   ]
  },
  {
   "cell_type": "code",
   "execution_count": null,
   "id": "e50fc93a",
   "metadata": {},
   "outputs": [],
   "source": [
    "train_df = pd.read_csv('E:/Master/WebRecomandredSystems/train.data', sep='\\t', header=None)\n",
    "\n",
    "train_df.columns = ['user_id', 'movie_id','rating', 'timestamp']\n"
   ]
  },
  {
   "cell_type": "code",
   "execution_count": null,
   "id": "0f5ae8aa",
   "metadata": {},
   "outputs": [
    {
     "name": "stdout",
     "output_type": "stream",
     "text": [
      "   user_id  movie_id  rating  timestamp\n",
      "0        1         6       5  887431973\n",
      "1        1        10       3  875693118\n",
      "2        1        12       5  878542960\n",
      "3        1        14       5  874965706\n",
      "4        1        17       3  875073198\n",
      "Size: 20000\n"
     ]
    }
   ],
   "source": [
    "print(test_df.head())\n",
    "print(\"Size:\",test_df.shape[0])"
   ]
  },
  {
   "cell_type": "code",
   "execution_count": null,
   "id": "4360199b",
   "metadata": {},
   "outputs": [
    {
     "name": "stdout",
     "output_type": "stream",
     "text": [
      "   user_id  movie_id  rating  timestamp\n",
      "0        1         1       5  874965758\n",
      "1        1         2       3  876893171\n",
      "2        1         3       4  878542960\n",
      "3        1         4       3  876893119\n",
      "4        1         5       3  889751712\n",
      "Size: 80000\n"
     ]
    }
   ],
   "source": [
    "print(train_df.head())\n",
    "print(\"Size:\",train_df.shape[0])\n"
   ]
  },
  {
   "cell_type": "markdown",
   "id": "f6818f19",
   "metadata": {},
   "source": [
    "Clean both splits from missing ratings and duplicates (cases where the same user has rated the same item multiple times) if any. Sort the duplicate entries in ascending order by user id, movie id, and timestamp. Keep only the last row, i.e., the most recent rating"
   ]
  },
  {
   "cell_type": "code",
   "execution_count": null,
   "id": "1a014c81",
   "metadata": {},
   "outputs": [],
   "source": [
    "def data_cleaning(df):\n",
    "\n",
    "    df_cleaned = df.sort_values(by=['user_id', 'movie_id', 'timestamp'])\n",
    "    df_cleaned= df_cleaned.drop_duplicates(subset=['user_id', 'movie_id'])\n",
    "    df_cleaned= df_cleaned.dropna(subset=['rating'])\n",
    "\n",
    "    return df_cleaned"
   ]
  },
  {
   "cell_type": "code",
   "execution_count": null,
   "id": "d6cc2bb6",
   "metadata": {},
   "outputs": [
    {
     "data": {
      "text/html": [
       "<div>\n",
       "<style scoped>\n",
       "    .dataframe tbody tr th:only-of-type {\n",
       "        vertical-align: middle;\n",
       "    }\n",
       "\n",
       "    .dataframe tbody tr th {\n",
       "        vertical-align: top;\n",
       "    }\n",
       "\n",
       "    .dataframe thead th {\n",
       "        text-align: right;\n",
       "    }\n",
       "</style>\n",
       "<table border=\"1\" class=\"dataframe\">\n",
       "  <thead>\n",
       "    <tr style=\"text-align: right;\">\n",
       "      <th></th>\n",
       "      <th>user_id</th>\n",
       "      <th>movie_id</th>\n",
       "      <th>rating</th>\n",
       "      <th>timestamp</th>\n",
       "    </tr>\n",
       "  </thead>\n",
       "  <tbody>\n",
       "    <tr>\n",
       "      <th>0</th>\n",
       "      <td>1</td>\n",
       "      <td>6</td>\n",
       "      <td>5</td>\n",
       "      <td>887431973</td>\n",
       "    </tr>\n",
       "    <tr>\n",
       "      <th>1</th>\n",
       "      <td>1</td>\n",
       "      <td>10</td>\n",
       "      <td>3</td>\n",
       "      <td>875693118</td>\n",
       "    </tr>\n",
       "    <tr>\n",
       "      <th>2</th>\n",
       "      <td>1</td>\n",
       "      <td>12</td>\n",
       "      <td>5</td>\n",
       "      <td>878542960</td>\n",
       "    </tr>\n",
       "    <tr>\n",
       "      <th>3</th>\n",
       "      <td>1</td>\n",
       "      <td>14</td>\n",
       "      <td>5</td>\n",
       "      <td>874965706</td>\n",
       "    </tr>\n",
       "    <tr>\n",
       "      <th>4</th>\n",
       "      <td>1</td>\n",
       "      <td>17</td>\n",
       "      <td>3</td>\n",
       "      <td>875073198</td>\n",
       "    </tr>\n",
       "    <tr>\n",
       "      <th>...</th>\n",
       "      <td>...</td>\n",
       "      <td>...</td>\n",
       "      <td>...</td>\n",
       "      <td>...</td>\n",
       "    </tr>\n",
       "    <tr>\n",
       "      <th>19995</th>\n",
       "      <td>458</td>\n",
       "      <td>648</td>\n",
       "      <td>4</td>\n",
       "      <td>886395899</td>\n",
       "    </tr>\n",
       "    <tr>\n",
       "      <th>19996</th>\n",
       "      <td>458</td>\n",
       "      <td>1101</td>\n",
       "      <td>4</td>\n",
       "      <td>886397931</td>\n",
       "    </tr>\n",
       "    <tr>\n",
       "      <th>19997</th>\n",
       "      <td>459</td>\n",
       "      <td>934</td>\n",
       "      <td>3</td>\n",
       "      <td>879563639</td>\n",
       "    </tr>\n",
       "    <tr>\n",
       "      <th>19998</th>\n",
       "      <td>460</td>\n",
       "      <td>10</td>\n",
       "      <td>3</td>\n",
       "      <td>882912371</td>\n",
       "    </tr>\n",
       "    <tr>\n",
       "      <th>19999</th>\n",
       "      <td>462</td>\n",
       "      <td>682</td>\n",
       "      <td>5</td>\n",
       "      <td>886365231</td>\n",
       "    </tr>\n",
       "  </tbody>\n",
       "</table>\n",
       "<p>20000 rows × 4 columns</p>\n",
       "</div>"
      ],
      "text/plain": [
       "       user_id  movie_id  rating  timestamp\n",
       "0            1         6       5  887431973\n",
       "1            1        10       3  875693118\n",
       "2            1        12       5  878542960\n",
       "3            1        14       5  874965706\n",
       "4            1        17       3  875073198\n",
       "...        ...       ...     ...        ...\n",
       "19995      458       648       4  886395899\n",
       "19996      458      1101       4  886397931\n",
       "19997      459       934       3  879563639\n",
       "19998      460        10       3  882912371\n",
       "19999      462       682       5  886365231\n",
       "\n",
       "[20000 rows x 4 columns]"
      ]
     },
     "execution_count": 7,
     "metadata": {},
     "output_type": "execute_result"
    }
   ],
   "source": [
    "test_df = data_cleaning(test_df)\n",
    "test_df"
   ]
  },
  {
   "cell_type": "code",
   "execution_count": null,
   "id": "37fae4f3",
   "metadata": {},
   "outputs": [
    {
     "data": {
      "text/html": [
       "<div>\n",
       "<style scoped>\n",
       "    .dataframe tbody tr th:only-of-type {\n",
       "        vertical-align: middle;\n",
       "    }\n",
       "\n",
       "    .dataframe tbody tr th {\n",
       "        vertical-align: top;\n",
       "    }\n",
       "\n",
       "    .dataframe thead th {\n",
       "        text-align: right;\n",
       "    }\n",
       "</style>\n",
       "<table border=\"1\" class=\"dataframe\">\n",
       "  <thead>\n",
       "    <tr style=\"text-align: right;\">\n",
       "      <th></th>\n",
       "      <th>user_id</th>\n",
       "      <th>movie_id</th>\n",
       "      <th>rating</th>\n",
       "      <th>timestamp</th>\n",
       "    </tr>\n",
       "  </thead>\n",
       "  <tbody>\n",
       "    <tr>\n",
       "      <th>0</th>\n",
       "      <td>1</td>\n",
       "      <td>1</td>\n",
       "      <td>5</td>\n",
       "      <td>874965758</td>\n",
       "    </tr>\n",
       "    <tr>\n",
       "      <th>1</th>\n",
       "      <td>1</td>\n",
       "      <td>2</td>\n",
       "      <td>3</td>\n",
       "      <td>876893171</td>\n",
       "    </tr>\n",
       "    <tr>\n",
       "      <th>2</th>\n",
       "      <td>1</td>\n",
       "      <td>3</td>\n",
       "      <td>4</td>\n",
       "      <td>878542960</td>\n",
       "    </tr>\n",
       "    <tr>\n",
       "      <th>3</th>\n",
       "      <td>1</td>\n",
       "      <td>4</td>\n",
       "      <td>3</td>\n",
       "      <td>876893119</td>\n",
       "    </tr>\n",
       "    <tr>\n",
       "      <th>4</th>\n",
       "      <td>1</td>\n",
       "      <td>5</td>\n",
       "      <td>3</td>\n",
       "      <td>889751712</td>\n",
       "    </tr>\n",
       "    <tr>\n",
       "      <th>...</th>\n",
       "      <td>...</td>\n",
       "      <td>...</td>\n",
       "      <td>...</td>\n",
       "      <td>...</td>\n",
       "    </tr>\n",
       "    <tr>\n",
       "      <th>79995</th>\n",
       "      <td>943</td>\n",
       "      <td>1067</td>\n",
       "      <td>2</td>\n",
       "      <td>875501756</td>\n",
       "    </tr>\n",
       "    <tr>\n",
       "      <th>79996</th>\n",
       "      <td>943</td>\n",
       "      <td>1074</td>\n",
       "      <td>4</td>\n",
       "      <td>888640250</td>\n",
       "    </tr>\n",
       "    <tr>\n",
       "      <th>79997</th>\n",
       "      <td>943</td>\n",
       "      <td>1188</td>\n",
       "      <td>3</td>\n",
       "      <td>888640250</td>\n",
       "    </tr>\n",
       "    <tr>\n",
       "      <th>79998</th>\n",
       "      <td>943</td>\n",
       "      <td>1228</td>\n",
       "      <td>3</td>\n",
       "      <td>888640275</td>\n",
       "    </tr>\n",
       "    <tr>\n",
       "      <th>79999</th>\n",
       "      <td>943</td>\n",
       "      <td>1330</td>\n",
       "      <td>3</td>\n",
       "      <td>888692465</td>\n",
       "    </tr>\n",
       "  </tbody>\n",
       "</table>\n",
       "<p>80000 rows × 4 columns</p>\n",
       "</div>"
      ],
      "text/plain": [
       "       user_id  movie_id  rating  timestamp\n",
       "0            1         1       5  874965758\n",
       "1            1         2       3  876893171\n",
       "2            1         3       4  878542960\n",
       "3            1         4       3  876893119\n",
       "4            1         5       3  889751712\n",
       "...        ...       ...     ...        ...\n",
       "79995      943      1067       2  875501756\n",
       "79996      943      1074       4  888640250\n",
       "79997      943      1188       3  888640250\n",
       "79998      943      1228       3  888640275\n",
       "79999      943      1330       3  888692465\n",
       "\n",
       "[80000 rows x 4 columns]"
      ]
     },
     "execution_count": 8,
     "metadata": {},
     "output_type": "execute_result"
    }
   ],
   "source": [
    "train_df = data_cleaning(train_df)\n",
    "train_df"
   ]
  },
  {
   "cell_type": "markdown",
   "id": "340cd57b",
   "metadata": {},
   "source": [
    "Double check that all users from the test split also appear in the training\n",
    "set, and remove those that do not appear in training."
   ]
  },
  {
   "cell_type": "code",
   "execution_count": null,
   "id": "32cddd13",
   "metadata": {},
   "outputs": [
    {
     "name": "stdout",
     "output_type": "stream",
     "text": [
      "Training split: 80000\n",
      "Test split: 20000\n"
     ]
    }
   ],
   "source": [
    "# Find the set of users that appear in both the training and test splits\n",
    "test_users= test_df['user_id'].unique()\n",
    "train_users = train_df['user_id'].unique()\n",
    "common_users = set(train_users).intersection(set(test_users))\n",
    "# Convert the result back to a NumPy array\n",
    "common_users = np.array(list(common_users))\n",
    "# print('Common users:', len(common_users))\n",
    "\n",
    "# Remove any users from the test split that do not appear in the training split\n",
    "test_df = test_df[test_df['user_id'].isin(common_users)]\n",
    "\n",
    "# Print the number of rows in the training and test splits to verify that users were removed correctly\n",
    "print('Training split:', len(train_df))\n",
    "print('Test split:', len(test_df))"
   ]
  },
  {
   "cell_type": "markdown",
   "id": "1349423a",
   "metadata": {},
   "source": [
    "The id map.csv mapping table contains two fields:\n",
    "1) id in movielens, which is the movie ID in the MovieLens 100K dataset; and\n",
    "2) id in metadata, which is the movie ID in the movies metadata.csv file.\n",
    "For each movie in MovieLens 100K, use the mapping table to get the corresponding overview column in the movies metadata.csv file. Not all movies have a mapping, so after steps (2) and (3) you will need to discard movies that do not have a mapping from all splits"
   ]
  },
  {
   "cell_type": "code",
   "execution_count": null,
   "id": "05c5a803",
   "metadata": {},
   "outputs": [
    {
     "data": {
      "text/html": [
       "<div>\n",
       "<style scoped>\n",
       "    .dataframe tbody tr th:only-of-type {\n",
       "        vertical-align: middle;\n",
       "    }\n",
       "\n",
       "    .dataframe tbody tr th {\n",
       "        vertical-align: top;\n",
       "    }\n",
       "\n",
       "    .dataframe thead th {\n",
       "        text-align: right;\n",
       "    }\n",
       "</style>\n",
       "<table border=\"1\" class=\"dataframe\">\n",
       "  <thead>\n",
       "    <tr style=\"text-align: right;\">\n",
       "      <th></th>\n",
       "      <th>id_in_movielens</th>\n",
       "      <th>id_in_metadata</th>\n",
       "    </tr>\n",
       "  </thead>\n",
       "  <tbody>\n",
       "    <tr>\n",
       "      <th>0</th>\n",
       "      <td>1</td>\n",
       "      <td>862</td>\n",
       "    </tr>\n",
       "    <tr>\n",
       "      <th>1</th>\n",
       "      <td>2</td>\n",
       "      <td>710</td>\n",
       "    </tr>\n",
       "    <tr>\n",
       "      <th>2</th>\n",
       "      <td>3</td>\n",
       "      <td>5</td>\n",
       "    </tr>\n",
       "    <tr>\n",
       "      <th>3</th>\n",
       "      <td>4</td>\n",
       "      <td>8012</td>\n",
       "    </tr>\n",
       "    <tr>\n",
       "      <th>4</th>\n",
       "      <td>5</td>\n",
       "      <td>1710</td>\n",
       "    </tr>\n",
       "    <tr>\n",
       "      <th>...</th>\n",
       "      <td>...</td>\n",
       "      <td>...</td>\n",
       "    </tr>\n",
       "    <tr>\n",
       "      <th>1496</th>\n",
       "      <td>1640</td>\n",
       "      <td>36998</td>\n",
       "    </tr>\n",
       "    <tr>\n",
       "      <th>1497</th>\n",
       "      <td>1643</td>\n",
       "      <td>2892</td>\n",
       "    </tr>\n",
       "    <tr>\n",
       "      <th>1498</th>\n",
       "      <td>1657</td>\n",
       "      <td>124639</td>\n",
       "    </tr>\n",
       "    <tr>\n",
       "      <th>1499</th>\n",
       "      <td>1673</td>\n",
       "      <td>226229</td>\n",
       "    </tr>\n",
       "    <tr>\n",
       "      <th>1500</th>\n",
       "      <td>1676</td>\n",
       "      <td>59232</td>\n",
       "    </tr>\n",
       "  </tbody>\n",
       "</table>\n",
       "<p>1501 rows × 2 columns</p>\n",
       "</div>"
      ],
      "text/plain": [
       "      id_in_movielens  id_in_metadata\n",
       "0                   1             862\n",
       "1                   2             710\n",
       "2                   3               5\n",
       "3                   4            8012\n",
       "4                   5            1710\n",
       "...               ...             ...\n",
       "1496             1640           36998\n",
       "1497             1643            2892\n",
       "1498             1657          124639\n",
       "1499             1673          226229\n",
       "1500             1676           59232\n",
       "\n",
       "[1501 rows x 2 columns]"
      ]
     },
     "execution_count": 10,
     "metadata": {},
     "output_type": "execute_result"
    }
   ],
   "source": [
    "# Load the mapping table\n",
    "mapping_table = pd.read_csv('id_map.csv')\n",
    "mapping_table"
   ]
  },
  {
   "cell_type": "code",
   "execution_count": null,
   "id": "688e21b7",
   "metadata": {},
   "outputs": [
    {
     "data": {
      "text/html": [
       "<div>\n",
       "<style scoped>\n",
       "    .dataframe tbody tr th:only-of-type {\n",
       "        vertical-align: middle;\n",
       "    }\n",
       "\n",
       "    .dataframe tbody tr th {\n",
       "        vertical-align: top;\n",
       "    }\n",
       "\n",
       "    .dataframe thead th {\n",
       "        text-align: right;\n",
       "    }\n",
       "</style>\n",
       "<table border=\"1\" class=\"dataframe\">\n",
       "  <thead>\n",
       "    <tr style=\"text-align: right;\">\n",
       "      <th></th>\n",
       "      <th>id</th>\n",
       "      <th>overview</th>\n",
       "    </tr>\n",
       "  </thead>\n",
       "  <tbody>\n",
       "    <tr>\n",
       "      <th>0</th>\n",
       "      <td>862</td>\n",
       "      <td>Led by Woody, Andy's toys live happily in his ...</td>\n",
       "    </tr>\n",
       "    <tr>\n",
       "      <th>1</th>\n",
       "      <td>8844</td>\n",
       "      <td>When siblings Judy and Peter discover an encha...</td>\n",
       "    </tr>\n",
       "    <tr>\n",
       "      <th>2</th>\n",
       "      <td>15602</td>\n",
       "      <td>A family wedding reignites the ancient feud be...</td>\n",
       "    </tr>\n",
       "    <tr>\n",
       "      <th>3</th>\n",
       "      <td>31357</td>\n",
       "      <td>Cheated on, mistreated and stepped on, the wom...</td>\n",
       "    </tr>\n",
       "    <tr>\n",
       "      <th>4</th>\n",
       "      <td>11862</td>\n",
       "      <td>Just when George Banks has recovered from his ...</td>\n",
       "    </tr>\n",
       "    <tr>\n",
       "      <th>...</th>\n",
       "      <td>...</td>\n",
       "      <td>...</td>\n",
       "    </tr>\n",
       "    <tr>\n",
       "      <th>45461</th>\n",
       "      <td>439050</td>\n",
       "      <td>Rising and falling between a man and woman.</td>\n",
       "    </tr>\n",
       "    <tr>\n",
       "      <th>45462</th>\n",
       "      <td>111109</td>\n",
       "      <td>An artist struggles to finish his work while a...</td>\n",
       "    </tr>\n",
       "    <tr>\n",
       "      <th>45463</th>\n",
       "      <td>67758</td>\n",
       "      <td>When one of her hits goes wrong, a professiona...</td>\n",
       "    </tr>\n",
       "    <tr>\n",
       "      <th>45464</th>\n",
       "      <td>227506</td>\n",
       "      <td>In a small town live two brothers, one a minis...</td>\n",
       "    </tr>\n",
       "    <tr>\n",
       "      <th>45465</th>\n",
       "      <td>461257</td>\n",
       "      <td>50 years after decriminalisation of homosexual...</td>\n",
       "    </tr>\n",
       "  </tbody>\n",
       "</table>\n",
       "<p>45466 rows × 2 columns</p>\n",
       "</div>"
      ],
      "text/plain": [
       "           id                                           overview\n",
       "0         862  Led by Woody, Andy's toys live happily in his ...\n",
       "1        8844  When siblings Judy and Peter discover an encha...\n",
       "2       15602  A family wedding reignites the ancient feud be...\n",
       "3       31357  Cheated on, mistreated and stepped on, the wom...\n",
       "4       11862  Just when George Banks has recovered from his ...\n",
       "...       ...                                                ...\n",
       "45461  439050        Rising and falling between a man and woman.\n",
       "45462  111109  An artist struggles to finish his work while a...\n",
       "45463   67758  When one of her hits goes wrong, a professiona...\n",
       "45464  227506  In a small town live two brothers, one a minis...\n",
       "45465  461257  50 years after decriminalisation of homosexual...\n",
       "\n",
       "[45466 rows x 2 columns]"
      ]
     },
     "execution_count": 11,
     "metadata": {},
     "output_type": "execute_result"
    }
   ],
   "source": [
    "# Load the metadata file\n",
    "metadata = pd.read_csv('movies_metadata.csv', usecols=['id', 'overview'])\n",
    "metadata"
   ]
  },
  {
   "cell_type": "code",
   "execution_count": null,
   "id": "a3450e09",
   "metadata": {},
   "outputs": [
    {
     "name": "stdout",
     "output_type": "stream",
     "text": [
      "id_in_movielens    int64\n",
      "id_in_metadata     int64\n",
      "dtype: object\n",
      "id          object\n",
      "overview    object\n",
      "dtype: object\n"
     ]
    }
   ],
   "source": [
    "print(mapping_table.dtypes)\n",
    "print(metadata.dtypes)"
   ]
  },
  {
   "cell_type": "code",
   "execution_count": null,
   "id": "781c1387",
   "metadata": {},
   "outputs": [],
   "source": [
    "#remove rows that had invalide id's\n",
    "metadata = metadata[pd.to_numeric(metadata['id'], errors='coerce').notna()]\n",
    "\n"
   ]
  },
  {
   "cell_type": "code",
   "execution_count": 17,
   "id": "133b2e21",
   "metadata": {},
   "outputs": [
    {
     "data": {
      "text/plain": [
       "0           862\n",
       "1          8844\n",
       "2         15602\n",
       "3         31357\n",
       "4         11862\n",
       "          ...  \n",
       "45461    439050\n",
       "45462    111109\n",
       "45463     67758\n",
       "45464    227506\n",
       "45465    461257\n",
       "Name: id, Length: 45463, dtype: int32"
      ]
     },
     "execution_count": 17,
     "metadata": {},
     "output_type": "execute_result"
    }
   ],
   "source": [
    "# Convert the 'id' column in metadata to int64\n",
    "metadata_copy = metadata.copy()\n",
    "metadata_copy['id'] = metadata_copy['id'].astype(int)\n",
    "metadata_copy['id']\n"
   ]
  },
  {
   "cell_type": "code",
   "execution_count": 18,
   "id": "cc840bdf",
   "metadata": {},
   "outputs": [
    {
     "name": "stdout",
     "output_type": "stream",
     "text": [
      "id_in_movielens    int64\n",
      "id_in_metadata     int64\n",
      "dtype: object\n",
      "id          object\n",
      "overview    object\n",
      "dtype: object\n"
     ]
    }
   ],
   "source": [
    "print(mapping_table.dtypes)\n",
    "print(metadata.dtypes)"
   ]
  },
  {
   "cell_type": "code",
   "execution_count": 20,
   "id": "9574b77a",
   "metadata": {},
   "outputs": [
    {
     "data": {
      "text/html": [
       "<div>\n",
       "<style scoped>\n",
       "    .dataframe tbody tr th:only-of-type {\n",
       "        vertical-align: middle;\n",
       "    }\n",
       "\n",
       "    .dataframe tbody tr th {\n",
       "        vertical-align: top;\n",
       "    }\n",
       "\n",
       "    .dataframe thead th {\n",
       "        text-align: right;\n",
       "    }\n",
       "</style>\n",
       "<table border=\"1\" class=\"dataframe\">\n",
       "  <thead>\n",
       "    <tr style=\"text-align: right;\">\n",
       "      <th></th>\n",
       "      <th>id</th>\n",
       "      <th>overview</th>\n",
       "    </tr>\n",
       "  </thead>\n",
       "  <tbody>\n",
       "    <tr>\n",
       "      <th>0</th>\n",
       "      <td>862</td>\n",
       "      <td>Led by Woody, Andy's toys live happily in his ...</td>\n",
       "    </tr>\n",
       "    <tr>\n",
       "      <th>1</th>\n",
       "      <td>8844</td>\n",
       "      <td>When siblings Judy and Peter discover an encha...</td>\n",
       "    </tr>\n",
       "    <tr>\n",
       "      <th>2</th>\n",
       "      <td>15602</td>\n",
       "      <td>A family wedding reignites the ancient feud be...</td>\n",
       "    </tr>\n",
       "    <tr>\n",
       "      <th>3</th>\n",
       "      <td>31357</td>\n",
       "      <td>Cheated on, mistreated and stepped on, the wom...</td>\n",
       "    </tr>\n",
       "    <tr>\n",
       "      <th>4</th>\n",
       "      <td>11862</td>\n",
       "      <td>Just when George Banks has recovered from his ...</td>\n",
       "    </tr>\n",
       "    <tr>\n",
       "      <th>...</th>\n",
       "      <td>...</td>\n",
       "      <td>...</td>\n",
       "    </tr>\n",
       "    <tr>\n",
       "      <th>45461</th>\n",
       "      <td>439050</td>\n",
       "      <td>Rising and falling between a man and woman.</td>\n",
       "    </tr>\n",
       "    <tr>\n",
       "      <th>45462</th>\n",
       "      <td>111109</td>\n",
       "      <td>An artist struggles to finish his work while a...</td>\n",
       "    </tr>\n",
       "    <tr>\n",
       "      <th>45463</th>\n",
       "      <td>67758</td>\n",
       "      <td>When one of her hits goes wrong, a professiona...</td>\n",
       "    </tr>\n",
       "    <tr>\n",
       "      <th>45464</th>\n",
       "      <td>227506</td>\n",
       "      <td>In a small town live two brothers, one a minis...</td>\n",
       "    </tr>\n",
       "    <tr>\n",
       "      <th>45465</th>\n",
       "      <td>461257</td>\n",
       "      <td>50 years after decriminalisation of homosexual...</td>\n",
       "    </tr>\n",
       "  </tbody>\n",
       "</table>\n",
       "<p>45463 rows × 2 columns</p>\n",
       "</div>"
      ],
      "text/plain": [
       "           id                                           overview\n",
       "0         862  Led by Woody, Andy's toys live happily in his ...\n",
       "1        8844  When siblings Judy and Peter discover an encha...\n",
       "2       15602  A family wedding reignites the ancient feud be...\n",
       "3       31357  Cheated on, mistreated and stepped on, the wom...\n",
       "4       11862  Just when George Banks has recovered from his ...\n",
       "...       ...                                                ...\n",
       "45461  439050        Rising and falling between a man and woman.\n",
       "45462  111109  An artist struggles to finish his work while a...\n",
       "45463   67758  When one of her hits goes wrong, a professiona...\n",
       "45464  227506  In a small town live two brothers, one a minis...\n",
       "45465  461257  50 years after decriminalisation of homosexual...\n",
       "\n",
       "[45463 rows x 2 columns]"
      ]
     },
     "execution_count": 20,
     "metadata": {},
     "output_type": "execute_result"
    }
   ],
   "source": [
    "metadata_copy = metadata.copy()\n",
    "metadata_copy['id'] = metadata_copy['id'].astype(int)\n",
    "metadata_copy"
   ]
  },
  {
   "cell_type": "code",
   "execution_count": 21,
   "id": "99cae111",
   "metadata": {},
   "outputs": [
    {
     "data": {
      "text/html": [
       "<div>\n",
       "<style scoped>\n",
       "    .dataframe tbody tr th:only-of-type {\n",
       "        vertical-align: middle;\n",
       "    }\n",
       "\n",
       "    .dataframe tbody tr th {\n",
       "        vertical-align: top;\n",
       "    }\n",
       "\n",
       "    .dataframe thead th {\n",
       "        text-align: right;\n",
       "    }\n",
       "</style>\n",
       "<table border=\"1\" class=\"dataframe\">\n",
       "  <thead>\n",
       "    <tr style=\"text-align: right;\">\n",
       "      <th></th>\n",
       "      <th>id_in_movielens</th>\n",
       "      <th>id_in_metadata</th>\n",
       "      <th>id</th>\n",
       "      <th>overview</th>\n",
       "    </tr>\n",
       "  </thead>\n",
       "  <tbody>\n",
       "    <tr>\n",
       "      <th>0</th>\n",
       "      <td>1</td>\n",
       "      <td>862</td>\n",
       "      <td>862</td>\n",
       "      <td>Led by Woody, Andy's toys live happily in his ...</td>\n",
       "    </tr>\n",
       "    <tr>\n",
       "      <th>1</th>\n",
       "      <td>2</td>\n",
       "      <td>710</td>\n",
       "      <td>710</td>\n",
       "      <td>James Bond must unmask the mysterious head of ...</td>\n",
       "    </tr>\n",
       "    <tr>\n",
       "      <th>2</th>\n",
       "      <td>3</td>\n",
       "      <td>5</td>\n",
       "      <td>5</td>\n",
       "      <td>It's Ted the Bellhop's first night on the job....</td>\n",
       "    </tr>\n",
       "    <tr>\n",
       "      <th>3</th>\n",
       "      <td>4</td>\n",
       "      <td>8012</td>\n",
       "      <td>8012</td>\n",
       "      <td>Chili Palmer is a Miami mobster who gets sent ...</td>\n",
       "    </tr>\n",
       "    <tr>\n",
       "      <th>4</th>\n",
       "      <td>5</td>\n",
       "      <td>1710</td>\n",
       "      <td>1710</td>\n",
       "      <td>An agoraphobic psychologist and a female detec...</td>\n",
       "    </tr>\n",
       "    <tr>\n",
       "      <th>...</th>\n",
       "      <td>...</td>\n",
       "      <td>...</td>\n",
       "      <td>...</td>\n",
       "      <td>...</td>\n",
       "    </tr>\n",
       "    <tr>\n",
       "      <th>1496</th>\n",
       "      <td>1640</td>\n",
       "      <td>36998</td>\n",
       "      <td>36998</td>\n",
       "      <td>Georges has Down syndrome, living at a mental-...</td>\n",
       "    </tr>\n",
       "    <tr>\n",
       "      <th>1497</th>\n",
       "      <td>1643</td>\n",
       "      <td>2892</td>\n",
       "      <td>2892</td>\n",
       "      <td>Two schizophrenics meet during therapy and fal...</td>\n",
       "    </tr>\n",
       "    <tr>\n",
       "      <th>1498</th>\n",
       "      <td>1657</td>\n",
       "      <td>124639</td>\n",
       "      <td>124639</td>\n",
       "      <td>A subtle yet violent commentary on feudal lords.</td>\n",
       "    </tr>\n",
       "    <tr>\n",
       "      <th>1499</th>\n",
       "      <td>1673</td>\n",
       "      <td>226229</td>\n",
       "      <td>226229</td>\n",
       "      <td>Matteo Juarez is a retired detective hired by ...</td>\n",
       "    </tr>\n",
       "    <tr>\n",
       "      <th>1500</th>\n",
       "      <td>1676</td>\n",
       "      <td>59232</td>\n",
       "      <td>59232</td>\n",
       "      <td>Jeremy Collier is a Vietnam veteran who has re...</td>\n",
       "    </tr>\n",
       "  </tbody>\n",
       "</table>\n",
       "<p>1501 rows × 4 columns</p>\n",
       "</div>"
      ],
      "text/plain": [
       "      id_in_movielens  id_in_metadata      id  \\\n",
       "0                   1             862     862   \n",
       "1                   2             710     710   \n",
       "2                   3               5       5   \n",
       "3                   4            8012    8012   \n",
       "4                   5            1710    1710   \n",
       "...               ...             ...     ...   \n",
       "1496             1640           36998   36998   \n",
       "1497             1643            2892    2892   \n",
       "1498             1657          124639  124639   \n",
       "1499             1673          226229  226229   \n",
       "1500             1676           59232   59232   \n",
       "\n",
       "                                               overview  \n",
       "0     Led by Woody, Andy's toys live happily in his ...  \n",
       "1     James Bond must unmask the mysterious head of ...  \n",
       "2     It's Ted the Bellhop's first night on the job....  \n",
       "3     Chili Palmer is a Miami mobster who gets sent ...  \n",
       "4     An agoraphobic psychologist and a female detec...  \n",
       "...                                                 ...  \n",
       "1496  Georges has Down syndrome, living at a mental-...  \n",
       "1497  Two schizophrenics meet during therapy and fal...  \n",
       "1498   A subtle yet violent commentary on feudal lords.  \n",
       "1499  Matteo Juarez is a retired detective hired by ...  \n",
       "1500  Jeremy Collier is a Vietnam veteran who has re...  \n",
       "\n",
       "[1501 rows x 4 columns]"
      ]
     },
     "execution_count": 21,
     "metadata": {},
     "output_type": "execute_result"
    }
   ],
   "source": [
    "# Merge the mapping table with the metadata file\n",
    "merged_data = pd.merge(mapping_table, metadata_copy, left_on='id_in_metadata', right_on='id', how='inner')\n",
    "merged_data"
   ]
  },
  {
   "cell_type": "code",
   "execution_count": 22,
   "id": "9e9d1e6e",
   "metadata": {},
   "outputs": [
    {
     "name": "stdout",
     "output_type": "stream",
     "text": [
      "Training rated movies: 1650\n",
      "Test rated movies: 1410\n"
     ]
    }
   ],
   "source": [
    "# Get the set of movie IDs that appear in the ratings dataset\n",
    "rated_movies_train = set(train_df['movie_id'].unique())\n",
    "rated_movies_test = set(test_df['movie_id'].unique())\n",
    "\n",
    "print('Training rated movies:', len(rated_movies_train))\n",
    "print('Test rated movies:', len(rated_movies_test))"
   ]
  },
  {
   "cell_type": "code",
   "execution_count": 23,
   "id": "eb68ea82",
   "metadata": {},
   "outputs": [
    {
     "name": "stdout",
     "output_type": "stream",
     "text": [
      "      id_in_movielens                                           overview\n",
      "0                   1  Led by Woody, Andy's toys live happily in his ...\n",
      "1                   2  James Bond must unmask the mysterious head of ...\n",
      "2                   3  It's Ted the Bellhop's first night on the job....\n",
      "3                   4  Chili Palmer is a Miami mobster who gets sent ...\n",
      "4                   5  An agoraphobic psychologist and a female detec...\n",
      "...               ...                                                ...\n",
      "1496             1640  Georges has Down syndrome, living at a mental-...\n",
      "1497             1643  Two schizophrenics meet during therapy and fal...\n",
      "1498             1657   A subtle yet violent commentary on feudal lords.\n",
      "1499             1673  Matteo Juarez is a retired detective hired by ...\n",
      "1500             1676  Jeremy Collier is a Vietnam veteran who has re...\n",
      "\n",
      "[1475 rows x 2 columns]\n",
      "      id_in_movielens                                           overview\n",
      "0                   1  Led by Woody, Andy's toys live happily in his ...\n",
      "1                   2  James Bond must unmask the mysterious head of ...\n",
      "2                   3  It's Ted the Bellhop's first night on the job....\n",
      "3                   4  Chili Palmer is a Miami mobster who gets sent ...\n",
      "4                   5  An agoraphobic psychologist and a female detec...\n",
      "...               ...                                                ...\n",
      "1475             1442  Set in puritanical Boston in the mid 1600s, th...\n",
      "1479             1477  A law student, who takes a job as a night watc...\n",
      "1481             1479  On Christmas eve, a relentlessly cheerful woma...\n",
      "1483             1527  A student gets his senses enhanced by an exper...\n",
      "1484             1529  Black marketeers Marko (Miki Manojlovic) and B...\n",
      "\n",
      "[1286 rows x 2 columns]\n"
     ]
    }
   ],
   "source": [
    "# Filter the merged data to only include movies that have been rated in the MovieLens dataset\n",
    "merged_data_train = merged_data[merged_data['id_in_movielens'].isin(rated_movies_train)]\n",
    "\n",
    "# Print the result\n",
    "print(merged_data_train[['id_in_movielens', 'overview']])\n",
    "\n",
    "merged_data_test = merged_data[merged_data['id_in_movielens'].isin(rated_movies_test)]\n",
    "\n",
    "\n",
    "print(merged_data_test[['id_in_movielens', 'overview']])"
   ]
  },
  {
   "cell_type": "code",
   "execution_count": 24,
   "id": "8e747ab7",
   "metadata": {},
   "outputs": [
    {
     "data": {
      "text/html": [
       "<div>\n",
       "<style scoped>\n",
       "    .dataframe tbody tr th:only-of-type {\n",
       "        vertical-align: middle;\n",
       "    }\n",
       "\n",
       "    .dataframe tbody tr th {\n",
       "        vertical-align: top;\n",
       "    }\n",
       "\n",
       "    .dataframe thead th {\n",
       "        text-align: right;\n",
       "    }\n",
       "</style>\n",
       "<table border=\"1\" class=\"dataframe\">\n",
       "  <thead>\n",
       "    <tr style=\"text-align: right;\">\n",
       "      <th></th>\n",
       "      <th>id_in_movielens</th>\n",
       "      <th>id_in_metadata</th>\n",
       "      <th>id</th>\n",
       "      <th>overview</th>\n",
       "    </tr>\n",
       "  </thead>\n",
       "  <tbody>\n",
       "    <tr>\n",
       "      <th>0</th>\n",
       "      <td>1</td>\n",
       "      <td>862</td>\n",
       "      <td>862</td>\n",
       "      <td>Led by Woody, Andy's toys live happily in his ...</td>\n",
       "    </tr>\n",
       "    <tr>\n",
       "      <th>1</th>\n",
       "      <td>2</td>\n",
       "      <td>710</td>\n",
       "      <td>710</td>\n",
       "      <td>James Bond must unmask the mysterious head of ...</td>\n",
       "    </tr>\n",
       "    <tr>\n",
       "      <th>2</th>\n",
       "      <td>3</td>\n",
       "      <td>5</td>\n",
       "      <td>5</td>\n",
       "      <td>It's Ted the Bellhop's first night on the job....</td>\n",
       "    </tr>\n",
       "    <tr>\n",
       "      <th>3</th>\n",
       "      <td>4</td>\n",
       "      <td>8012</td>\n",
       "      <td>8012</td>\n",
       "      <td>Chili Palmer is a Miami mobster who gets sent ...</td>\n",
       "    </tr>\n",
       "    <tr>\n",
       "      <th>4</th>\n",
       "      <td>5</td>\n",
       "      <td>1710</td>\n",
       "      <td>1710</td>\n",
       "      <td>An agoraphobic psychologist and a female detec...</td>\n",
       "    </tr>\n",
       "    <tr>\n",
       "      <th>...</th>\n",
       "      <td>...</td>\n",
       "      <td>...</td>\n",
       "      <td>...</td>\n",
       "      <td>...</td>\n",
       "    </tr>\n",
       "    <tr>\n",
       "      <th>1475</th>\n",
       "      <td>1442</td>\n",
       "      <td>10533</td>\n",
       "      <td>10533</td>\n",
       "      <td>Set in puritanical Boston in the mid 1600s, th...</td>\n",
       "    </tr>\n",
       "    <tr>\n",
       "      <th>1479</th>\n",
       "      <td>1477</td>\n",
       "      <td>2212</td>\n",
       "      <td>2212</td>\n",
       "      <td>A law student, who takes a job as a night watc...</td>\n",
       "    </tr>\n",
       "    <tr>\n",
       "      <th>1481</th>\n",
       "      <td>1479</td>\n",
       "      <td>58372</td>\n",
       "      <td>58372</td>\n",
       "      <td>On Christmas eve, a relentlessly cheerful woma...</td>\n",
       "    </tr>\n",
       "    <tr>\n",
       "      <th>1483</th>\n",
       "      <td>1527</td>\n",
       "      <td>12538</td>\n",
       "      <td>12538</td>\n",
       "      <td>A student gets his senses enhanced by an exper...</td>\n",
       "    </tr>\n",
       "    <tr>\n",
       "      <th>1484</th>\n",
       "      <td>1529</td>\n",
       "      <td>11902</td>\n",
       "      <td>11902</td>\n",
       "      <td>Black marketeers Marko (Miki Manojlovic) and B...</td>\n",
       "    </tr>\n",
       "  </tbody>\n",
       "</table>\n",
       "<p>1286 rows × 4 columns</p>\n",
       "</div>"
      ],
      "text/plain": [
       "      id_in_movielens  id_in_metadata     id  \\\n",
       "0                   1             862    862   \n",
       "1                   2             710    710   \n",
       "2                   3               5      5   \n",
       "3                   4            8012   8012   \n",
       "4                   5            1710   1710   \n",
       "...               ...             ...    ...   \n",
       "1475             1442           10533  10533   \n",
       "1479             1477            2212   2212   \n",
       "1481             1479           58372  58372   \n",
       "1483             1527           12538  12538   \n",
       "1484             1529           11902  11902   \n",
       "\n",
       "                                               overview  \n",
       "0     Led by Woody, Andy's toys live happily in his ...  \n",
       "1     James Bond must unmask the mysterious head of ...  \n",
       "2     It's Ted the Bellhop's first night on the job....  \n",
       "3     Chili Palmer is a Miami mobster who gets sent ...  \n",
       "4     An agoraphobic psychologist and a female detec...  \n",
       "...                                                 ...  \n",
       "1475  Set in puritanical Boston in the mid 1600s, th...  \n",
       "1479  A law student, who takes a job as a night watc...  \n",
       "1481  On Christmas eve, a relentlessly cheerful woma...  \n",
       "1483  A student gets his senses enhanced by an exper...  \n",
       "1484  Black marketeers Marko (Miki Manojlovic) and B...  \n",
       "\n",
       "[1286 rows x 4 columns]"
      ]
     },
     "execution_count": 24,
     "metadata": {},
     "output_type": "execute_result"
    }
   ],
   "source": [
    "merged_data_test"
   ]
  },
  {
   "cell_type": "markdown",
   "id": "dca72f74",
   "metadata": {},
   "source": [
    "Compute user and item statistics (such as distribution of ratings per user/item, the top 5 most popular items) for the training set train.data and write a discussion;"
   ]
  },
  {
   "cell_type": "code",
   "execution_count": 25,
   "id": "e08370a4",
   "metadata": {},
   "outputs": [
    {
     "name": "stdout",
     "output_type": "stream",
     "text": [
      "User statistics:\n",
      "count    943.000000\n",
      "mean      84.835631\n",
      "std       83.806416\n",
      "min        4.000000\n",
      "25%       27.000000\n",
      "50%       50.000000\n",
      "75%      115.000000\n",
      "max      685.000000\n",
      "Name: user_id, dtype: float64\n"
     ]
    }
   ],
   "source": [
    "# Compute number of ratings per user\n",
    "user_counts = train_df['user_id'].value_counts()\n",
    "print('User statistics:')\n",
    "print(user_counts.describe())"
   ]
  },
  {
   "cell_type": "code",
   "execution_count": 26,
   "id": "17afd8e3",
   "metadata": {},
   "outputs": [
    {
     "name": "stdout",
     "output_type": "stream",
     "text": [
      "Item statistics:\n",
      "count    1650.000000\n",
      "mean       48.484848\n",
      "std        65.035206\n",
      "min         1.000000\n",
      "25%         5.250000\n",
      "50%        22.000000\n",
      "75%        65.000000\n",
      "max       484.000000\n",
      "Name: movie_id, dtype: float64\n"
     ]
    }
   ],
   "source": [
    "# Compute number of ratings per item\n",
    "item_counts = train_df['movie_id'].value_counts()\n",
    "print('Item statistics:')\n",
    "print(item_counts.describe())"
   ]
  },
  {
   "cell_type": "code",
   "execution_count": 27,
   "id": "cc5d3a69",
   "metadata": {},
   "outputs": [
    {
     "name": "stdout",
     "output_type": "stream",
     "text": [
      "Top 5 most popular items:\n",
      "50     484\n",
      "181    422\n",
      "258    402\n",
      "100    395\n",
      "294    394\n",
      "Name: movie_id, dtype: int64\n"
     ]
    }
   ],
   "source": [
    "# Compute top 5 most popular items\n",
    "top_items = item_counts.sort_values(ascending=False)[:5]\n",
    "print('Top 5 most popular items:')\n",
    "print(top_items)"
   ]
  },
  {
   "cell_type": "code",
   "execution_count": 49,
   "id": "c1088332",
   "metadata": {},
   "outputs": [
    {
     "name": "stdout",
     "output_type": "stream",
     "text": [
      "Size of train data with an overview:  75443\n",
      "Number of ratings per user:\n",
      "count    943.000000\n",
      "mean      80.003181\n",
      "std       78.797053\n",
      "min        4.000000\n",
      "25%       26.000000\n",
      "50%       49.000000\n",
      "75%      109.500000\n",
      "max      635.000000\n",
      "Name: user_id, dtype: float64\n",
      "\n",
      "Number of ratings per movie:\n",
      "count    1457.000000\n",
      "mean       51.779684\n",
      "std        66.882843\n",
      "min         1.000000\n",
      "25%         7.000000\n",
      "50%        26.000000\n",
      "75%        69.000000\n",
      "max       484.000000\n",
      "Name: id_in_metadata, dtype: float64\n",
      "\n",
      "Top 5 most popular movies:\n",
      "11      484\n",
      "1892    422\n",
      "686     402\n",
      "275     395\n",
      "1624    394\n",
      "Name: id_in_metadata, dtype: int64\n",
      "\n",
      "Average rating per movie:\n",
      "id_in_metadata\n",
      "5         3.000000\n",
      "6         2.631579\n",
      "11        4.359504\n",
      "13        3.872587\n",
      "15        4.284810\n",
      "            ...   \n",
      "316098    3.500000\n",
      "340210    2.000000\n",
      "407992    2.000000\n",
      "410921    3.166667\n",
      "438108    1.500000\n",
      "Name: rating, Length: 1457, dtype: float64\n",
      "\n",
      "Average rating of all movies:\n",
      "3.1245082035231935\n",
      "\n",
      "Number of average rating per movie:\n",
      "count    1457.000000\n",
      "mean        3.124508\n",
      "std         0.731821\n",
      "min         1.000000\n",
      "25%         2.711111\n",
      "50%         3.200000\n",
      "75%         3.661765\n",
      "max         5.000000\n",
      "Name: rating, dtype: float64\n"
     ]
    }
   ],
   "source": [
    "train_data_df = pd.merge(train_df, merged_data_train, left_on=\"movie_id\", right_on=\"id_in_movielens\")\n",
    "\n",
    "print(\"Size of train data with an overview: \", len(train_data_df))\n",
    "\n",
    "# Compute user and item statistics\n",
    "user_counts = train_data_df[\"user_id\"].value_counts()\n",
    "item_counts = train_data_df[\"id_in_metadata\"].value_counts()\n",
    "avg_ratings = train_data_df.groupby(\"id_in_metadata\")[\"rating\"].mean()\n",
    "\n",
    "# Print the results\n",
    "print(\"Number of ratings per user:\")\n",
    "print(user_counts.describe())\n",
    "print(\"\\nNumber of ratings per movie:\")\n",
    "print(item_counts.describe())\n",
    "print(\"\\nTop 5 most popular movies:\")\n",
    "print(item_counts.head(5))\n",
    "print(\"\\nAverage rating per movie:\")\n",
    "print(avg_ratings)\n",
    "print(\"\\nAverage rating of all movies:\")\n",
    "print(avg_ratings.mean())\n",
    "print(\"\\nNumber of average rating per movie:\")\n",
    "print(avg_ratings.describe())"
   ]
  },
  {
   "cell_type": "code",
   "execution_count": 43,
   "id": "6f0bdb24",
   "metadata": {},
   "outputs": [
    {
     "data": {
      "image/png": "[encoded data removed]",
      "text/plain": [
       "<Figure size 1000x600 with 1 Axes>"
      ]
     },
     "metadata": {},
     "output_type": "display_data"
    }
   ],
   "source": [
    "# nu e cerut\n",
    "\n",
    "import matplotlib.pyplot as plt\n",
    "\n",
    "item_counts = train_df['movie_id'].value_counts()\n",
    "plt.figure(figsize=(10, 6))\n",
    "plt.bar(range(len(item_counts)), item_counts.values)\n",
    "plt.xlabel('Movie id')\n",
    "plt.ylabel('Number of ratings(Frequency)')\n",
    "plt.show()"
   ]
  },
  {
   "cell_type": "code",
   "execution_count": 44,
   "id": "dc91e05e",
   "metadata": {},
   "outputs": [
    {
     "data": {
      "image/png": "[encoded data removed]",
      "text/plain": [
       "<Figure size 1000x600 with 1 Axes>"
      ]
     },
     "metadata": {},
     "output_type": "display_data"
    }
   ],
   "source": [
    "# nu e cerut\n",
    "\n",
    "user_counts = train_df['user_id'].value_counts()\n",
    "plt.figure(figsize=(10, 6))\n",
    "plt.bar(range(len(user_counts)), user_counts.values)\n",
    "plt.xlabel('User id')\n",
    "plt.ylabel('Number of ratings(Frequency)')\n",
    "plt.show()"
   ]
  },
  {
   "cell_type": "code",
   "execution_count": 45,
   "id": "c02bd3c0",
   "metadata": {},
   "outputs": [
    {
     "data": {
      "image/png": "[encoded data removed]",
      "text/plain": [
       "<Figure size 1000x600 with 1 Axes>"
      ]
     },
     "metadata": {},
     "output_type": "display_data"
    }
   ],
   "source": [
    "# nu e cerut\n",
    "movie_ratings = train_df.groupby('movie_id')['rating'].mean()\n",
    "plt.figure(figsize=(10, 6))\n",
    "plt.bar(range(len(movie_ratings)), movie_ratings.values)\n",
    "plt.xlabel('Movie id')\n",
    "plt.ylabel('Average rating')\n",
    "plt.show()"
   ]
  },
  {
   "cell_type": "markdown",
   "id": "152cbe3d",
   "metadata": {},
   "source": [
    "## Discussion\n",
    "\n",
    "I calculated the distribution of user and film ratings, as well as average user rating and film. Also, I calculated the first 5 most popular elements based on the number of evaluations. Besides this I also made the graphs of the distributions of user ratings and movie ratings, as well as the chart of average rating for each film.\n",
    "Based on the data observed after performing statistics on items and users, we can deduce the following:\n",
    "A first observation that we can easily deduce from charters, but also from statistics is that the data set is quite scatter. On average one user has rated 80 films, but we also have a standard 78.8 deviation, which indicate a great variation in the number of films that each user has evaluated.The minimum number of films evaluated by a user is 4 and the maximum is 635, indicating that some user have specific tastes, while others are more versatile and evaluate more films.\n",
    "Another observation we can make is that some movies are rated more than others. On average a film has 51 ratings with a standard deviation of 66.9, indicating that the number of ratings on film varies a lot. The minimum number of ratings of a film is 1, and the maximum is 484. From the top 5 the most rated films that have at least 390 ratings, we can some films are more popular than others. From here comes the problem of creating a recommendation system that is not a biased.\n",
    "Another easy thing to see is that on average a movie has a rating of 3.12, and the rating range has as a minimum of 1 and maximum 5. The standard deviation of 0.7318 indicates that there is some variability in the movie ratings, some movies being evaluated much higher or lower than the average. From here we deduce that on average the films are rated above average. This is not necessarily a positive thing, because we can assume that users tend to overate movies."
   ]
  },
  {
   "cell_type": "markdown",
   "id": "396b65ca",
   "metadata": {},
   "source": [
    "Does the dataset have important properties that should be taken into account or that may mislead the evaluation?\n"
   ]
  },
  {
   "cell_type": "markdown",
   "id": "0c134f96",
   "metadata": {},
   "source": [
    "## Answer\n",
    "Based on the calculated statistics, the data set has some important properties that should be taken into account during the evaluation.\n",
    "\n",
    "First of all, because it is such a big difference between the number of users ratings, the minimum being 4 and the maximum of 635, the system could be biased with the more active users' preferences.\n",
    "Secondly, because it is a big difference between the number of film ratings, the minimum number of ratings of a movie being 1 and the maximum of 484, the recommendations could be a biased towards the more popular movies.\n",
    "Lastly, due to the average rating per movie of 3.12 out of 5, there is the problem of over-rating the movies by users. This could impact the accuracy of the recommendation model."
   ]
  },
  {
   "cell_type": "markdown",
   "id": "45e37d8b",
   "metadata": {},
   "source": [
    "Compute the frequency of movies that were rated highly, i.e., rating 3-5.\n",
    "How many times was each movie rated highly by user?"
   ]
  },
  {
   "cell_type": "code",
   "execution_count": 60,
   "id": "c0f5d7a6",
   "metadata": {},
   "outputs": [
    {
     "name": "stdout",
     "output_type": "stream",
     "text": [
      "id_in_movielens\n",
      "1       353\n",
      "2        84\n",
      "3        47\n",
      "4       144\n",
      "5        56\n",
      "       ... \n",
      "1674      1\n",
      "1675      1\n",
      "1677      1\n",
      "1679      1\n",
      "1682      1\n",
      "Name: rating, Length: 1394, dtype: int64\n",
      "1394\n"
     ]
    }
   ],
   "source": [
    "high_ratings = train_data_df[train_data_df['rating'].isin([3, 4, 5])]\n",
    "freq_high_ratings = high_ratings.groupby('id_in_movielens')['rating'].count()\n",
    "\n",
    "# Print the result\n",
    "print(freq_high_ratings)\n",
    "print(len(freq_high_ratings))"
   ]
  },
  {
   "cell_type": "code",
   "execution_count": 61,
   "id": "2af43dfa",
   "metadata": {},
   "outputs": [
    {
     "data": {
      "image/png": "[encoded data removed]",
      "text/plain": [
       "<Figure size 1000x600 with 1 Axes>"
      ]
     },
     "metadata": {},
     "output_type": "display_data"
    }
   ],
   "source": [
    "\n",
    "fig, ax = plt.subplots(figsize=(10,6))\n",
    "ax.bar(freq_high_ratings.index, freq_high_ratings.values)\n",
    "\n",
    "# set axis labels and title\n",
    "ax.set_xlabel('Movie ID')\n",
    "ax.set_ylabel('Frequency of high ratings')\n",
    "ax.set_title('Frequency of Movies Rated Highly')\n",
    "\n",
    "# rotate x-axis labels for better visibility\n",
    "plt.xticks(rotation=90)\n",
    "\n",
    "# show the plot\n",
    "plt.show()"
   ]
  },
  {
   "cell_type": "markdown",
   "id": "8b4b8836",
   "metadata": {},
   "source": [
    "# 2) Week 7"
   ]
  },
  {
   "cell_type": "markdown",
   "id": "89d02961",
   "metadata": {},
   "source": [
    "Based on the frequency of highly-rated movies computed in Week 6, implement the TopPop recommender system, which should recommend the top-k movies with high ratings in the training split, train.data."
   ]
  },
  {
   "cell_type": "code",
   "execution_count": 97,
   "id": "62ad4322",
   "metadata": {},
   "outputs": [
    {
     "name": "stdout",
     "output_type": "stream",
     "text": [
      "[50, 181, 100, 258, 1]\n"
     ]
    }
   ],
   "source": [
    "# converting None values to 0\n",
    "freq_high_ratings = {k: v if v is not None else 0 for k, v in freq_high_ratings.items()}\n",
    "\n",
    "def top_pop_recommendations(freq_high_ratings, k=10):\n",
    "    # Sort the movies by their rating frequency in descending order\n",
    "    sorted_movies = sorted(freq_high_ratings, key=freq_high_ratings.get, reverse=True)\n",
    "\n",
    "    # Recommend the top-k movies with the highest rating frequency\n",
    "    recommended_movies = sorted_movies[:k]\n",
    "\n",
    "    return recommended_movies\n",
    "# Example usage: recommend the top-5 movies\n",
    "recommended_movies = top_pop_recommendations( freq_high_ratings, k=5)\n",
    "print(recommended_movies)"
   ]
  },
  {
   "cell_type": "markdown",
   "id": "a37652ee",
   "metadata": {},
   "source": [
    "Choose at least one neighborhood-based model and one latent factor model that uses the observed user-item ratings in the training set to predict the unobserved ratings. Report your choice of models"
   ]
  },
  {
   "cell_type": "code",
   "execution_count": null,
   "id": "7bae5c90",
   "metadata": {},
   "outputs": [],
   "source": []
  }
 ],
 "metadata": {
  "kernelspec": {
   "display_name": "Python 3 (ipykernel)",
   "language": "python",
   "name": "python3"
  },
  "language_info": {
   "codemirror_mode": {
    "name": "ipython",
    "version": 3
   },
   "file_extension": ".py",
   "mimetype": "text/x-python",
   "name": "python",
   "nbconvert_exporter": "python",
   "pygments_lexer": "ipython3",
   "version": "3.7.16"
  }
 },
 "nbformat": 4,
 "nbformat_minor": 5
}
