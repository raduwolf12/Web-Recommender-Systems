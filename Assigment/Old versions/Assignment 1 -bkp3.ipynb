{
 "cells": [
  {
   "cell_type": "markdown",
   "id": "b3e9793b",
   "metadata": {},
   "source": [
    "# 1) Week 6"
   ]
  },
  {
   "cell_type": "code",
   "execution_count": 1,
   "id": "dbc7711a",
   "metadata": {},
   "outputs": [],
   "source": [
    "import json\n",
    "from builtins import bool\n",
    "\n",
    "import pandas as pd\n",
    "import gzip\n",
    "import numpy as np"
   ]
  },
  {
   "cell_type": "code",
   "execution_count": 2,
   "id": "cd56331e",
   "metadata": {},
   "outputs": [],
   "source": [
    "test_df = pd.read_csv('E:/Master/WebRecomandredSystems/test.data', sep='\\t', header=None)\n",
    "\n",
    "test_df.columns = ['user_id', 'movie_id','rating', 'timestamp']"
   ]
  },
  {
   "cell_type": "code",
   "execution_count": 3,
   "id": "e50fc93a",
   "metadata": {},
   "outputs": [],
   "source": [
    "train_df = pd.read_csv('E:/Master/WebRecomandredSystems/train.data', sep='\\t', header=None)\n",
    "\n",
    "train_df.columns = ['user_id', 'movie_id','rating', 'timestamp']\n"
   ]
  },
  {
   "cell_type": "code",
   "execution_count": 4,
   "id": "0f5ae8aa",
   "metadata": {},
   "outputs": [
    {
     "name": "stdout",
     "output_type": "stream",
     "text": [
      "   user_id  movie_id  rating  timestamp\n",
      "0        1         6       5  887431973\n",
      "1        1        10       3  875693118\n",
      "2        1        12       5  878542960\n",
      "3        1        14       5  874965706\n",
      "4        1        17       3  875073198\n",
      "Size: 20000\n"
     ]
    }
   ],
   "source": [
    "print(test_df.head())\n",
    "print(\"Size:\",test_df.shape[0])"
   ]
  },
  {
   "cell_type": "code",
   "execution_count": 5,
   "id": "4360199b",
   "metadata": {},
   "outputs": [
    {
     "name": "stdout",
     "output_type": "stream",
     "text": [
      "   user_id  movie_id  rating  timestamp\n",
      "0        1         1       5  874965758\n",
      "1        1         2       3  876893171\n",
      "2        1         3       4  878542960\n",
      "3        1         4       3  876893119\n",
      "4        1         5       3  889751712\n",
      "Size: 80000\n"
     ]
    }
   ],
   "source": [
    "print(train_df.head())\n",
    "print(\"Size:\",train_df.shape[0])\n"
   ]
  },
  {
   "cell_type": "markdown",
   "id": "f6818f19",
   "metadata": {},
   "source": [
    "Clean both splits from missing ratings and duplicates (cases where the same user has rated the same item multiple times) if any. Sort the duplicate entries in ascending order by user id, movie id, and timestamp. Keep only the last row, i.e., the most recent rating"
   ]
  },
  {
   "cell_type": "code",
   "execution_count": 6,
   "id": "1a014c81",
   "metadata": {},
   "outputs": [],
   "source": [
    "def data_cleaning(df):\n",
    "\n",
    "    df_cleaned = df.sort_values(by=['user_id', 'movie_id', 'timestamp'])\n",
    "    df_cleaned= df_cleaned.drop_duplicates(subset=['user_id', 'movie_id'])\n",
    "    df_cleaned= df_cleaned.dropna(subset=['rating'])\n",
    "\n",
    "    return df_cleaned"
   ]
  },
  {
   "cell_type": "code",
   "execution_count": 7,
   "id": "d6cc2bb6",
   "metadata": {},
   "outputs": [
    {
     "data": {
      "text/plain": "       user_id  movie_id  rating  timestamp\n0            1         6       5  887431973\n1            1        10       3  875693118\n2            1        12       5  878542960\n3            1        14       5  874965706\n4            1        17       3  875073198\n...        ...       ...     ...        ...\n19995      458       648       4  886395899\n19996      458      1101       4  886397931\n19997      459       934       3  879563639\n19998      460        10       3  882912371\n19999      462       682       5  886365231\n\n[20000 rows x 4 columns]",
      "text/html": "<div>\n<style scoped>\n    .dataframe tbody tr th:only-of-type {\n        vertical-align: middle;\n    }\n\n    .dataframe tbody tr th {\n        vertical-align: top;\n    }\n\n    .dataframe thead th {\n        text-align: right;\n    }\n</style>\n<table border=\"1\" class=\"dataframe\">\n  <thead>\n    <tr style=\"text-align: right;\">\n      <th></th>\n      <th>user_id</th>\n      <th>movie_id</th>\n      <th>rating</th>\n      <th>timestamp</th>\n    </tr>\n  </thead>\n  <tbody>\n    <tr>\n      <th>0</th>\n      <td>1</td>\n      <td>6</td>\n      <td>5</td>\n      <td>887431973</td>\n    </tr>\n    <tr>\n      <th>1</th>\n      <td>1</td>\n      <td>10</td>\n      <td>3</td>\n      <td>875693118</td>\n    </tr>\n    <tr>\n      <th>2</th>\n      <td>1</td>\n      <td>12</td>\n      <td>5</td>\n      <td>878542960</td>\n    </tr>\n    <tr>\n      <th>3</th>\n      <td>1</td>\n      <td>14</td>\n      <td>5</td>\n      <td>874965706</td>\n    </tr>\n    <tr>\n      <th>4</th>\n      <td>1</td>\n      <td>17</td>\n      <td>3</td>\n      <td>875073198</td>\n    </tr>\n    <tr>\n      <th>...</th>\n      <td>...</td>\n      <td>...</td>\n      <td>...</td>\n      <td>...</td>\n    </tr>\n    <tr>\n      <th>19995</th>\n      <td>458</td>\n      <td>648</td>\n      <td>4</td>\n      <td>886395899</td>\n    </tr>\n    <tr>\n      <th>19996</th>\n      <td>458</td>\n      <td>1101</td>\n      <td>4</td>\n      <td>886397931</td>\n    </tr>\n    <tr>\n      <th>19997</th>\n      <td>459</td>\n      <td>934</td>\n      <td>3</td>\n      <td>879563639</td>\n    </tr>\n    <tr>\n      <th>19998</th>\n      <td>460</td>\n      <td>10</td>\n      <td>3</td>\n      <td>882912371</td>\n    </tr>\n    <tr>\n      <th>19999</th>\n      <td>462</td>\n      <td>682</td>\n      <td>5</td>\n      <td>886365231</td>\n    </tr>\n  </tbody>\n</table>\n<p>20000 rows × 4 columns</p>\n</div>"
     },
     "execution_count": 7,
     "metadata": {},
     "output_type": "execute_result"
    }
   ],
   "source": [
    "test_df = data_cleaning(test_df)\n",
    "test_df"
   ]
  },
  {
   "cell_type": "code",
   "execution_count": 8,
   "id": "37fae4f3",
   "metadata": {},
   "outputs": [
    {
     "data": {
      "text/plain": "       user_id  movie_id  rating  timestamp\n0            1         1       5  874965758\n1            1         2       3  876893171\n2            1         3       4  878542960\n3            1         4       3  876893119\n4            1         5       3  889751712\n...        ...       ...     ...        ...\n79995      943      1067       2  875501756\n79996      943      1074       4  888640250\n79997      943      1188       3  888640250\n79998      943      1228       3  888640275\n79999      943      1330       3  888692465\n\n[80000 rows x 4 columns]",
      "text/html": "<div>\n<style scoped>\n    .dataframe tbody tr th:only-of-type {\n        vertical-align: middle;\n    }\n\n    .dataframe tbody tr th {\n        vertical-align: top;\n    }\n\n    .dataframe thead th {\n        text-align: right;\n    }\n</style>\n<table border=\"1\" class=\"dataframe\">\n  <thead>\n    <tr style=\"text-align: right;\">\n      <th></th>\n      <th>user_id</th>\n      <th>movie_id</th>\n      <th>rating</th>\n      <th>timestamp</th>\n    </tr>\n  </thead>\n  <tbody>\n    <tr>\n      <th>0</th>\n      <td>1</td>\n      <td>1</td>\n      <td>5</td>\n      <td>874965758</td>\n    </tr>\n    <tr>\n      <th>1</th>\n      <td>1</td>\n      <td>2</td>\n      <td>3</td>\n      <td>876893171</td>\n    </tr>\n    <tr>\n      <th>2</th>\n      <td>1</td>\n      <td>3</td>\n      <td>4</td>\n      <td>878542960</td>\n    </tr>\n    <tr>\n      <th>3</th>\n      <td>1</td>\n      <td>4</td>\n      <td>3</td>\n      <td>876893119</td>\n    </tr>\n    <tr>\n      <th>4</th>\n      <td>1</td>\n      <td>5</td>\n      <td>3</td>\n      <td>889751712</td>\n    </tr>\n    <tr>\n      <th>...</th>\n      <td>...</td>\n      <td>...</td>\n      <td>...</td>\n      <td>...</td>\n    </tr>\n    <tr>\n      <th>79995</th>\n      <td>943</td>\n      <td>1067</td>\n      <td>2</td>\n      <td>875501756</td>\n    </tr>\n    <tr>\n      <th>79996</th>\n      <td>943</td>\n      <td>1074</td>\n      <td>4</td>\n      <td>888640250</td>\n    </tr>\n    <tr>\n      <th>79997</th>\n      <td>943</td>\n      <td>1188</td>\n      <td>3</td>\n      <td>888640250</td>\n    </tr>\n    <tr>\n      <th>79998</th>\n      <td>943</td>\n      <td>1228</td>\n      <td>3</td>\n      <td>888640275</td>\n    </tr>\n    <tr>\n      <th>79999</th>\n      <td>943</td>\n      <td>1330</td>\n      <td>3</td>\n      <td>888692465</td>\n    </tr>\n  </tbody>\n</table>\n<p>80000 rows × 4 columns</p>\n</div>"
     },
     "execution_count": 8,
     "metadata": {},
     "output_type": "execute_result"
    }
   ],
   "source": [
    "train_df = data_cleaning(train_df)\n",
    "train_df"
   ]
  },
  {
   "cell_type": "markdown",
   "id": "340cd57b",
   "metadata": {},
   "source": [
    "Double check that all users from the test split also appear in the training\n",
    "set, and remove those that do not appear in training."
   ]
  },
  {
   "cell_type": "code",
   "execution_count": 9,
   "id": "32cddd13",
   "metadata": {},
   "outputs": [
    {
     "name": "stdout",
     "output_type": "stream",
     "text": [
      "Training split: 80000\n",
      "Test split: 20000\n"
     ]
    }
   ],
   "source": [
    "# Find the set of users that appear in both the training and test splits\n",
    "test_users= test_df['user_id'].unique()\n",
    "train_users = train_df['user_id'].unique()\n",
    "common_users = set(train_users).intersection(set(test_users))\n",
    "# Convert the result back to a NumPy array\n",
    "common_users = np.array(list(common_users))\n",
    "# print('Common users:', len(common_users))\n",
    "\n",
    "# Remove any users from the test split that do not appear in the training split\n",
    "test_df = test_df[test_df['user_id'].isin(common_users)]\n",
    "\n",
    "# Print the number of rows in the training and test splits to verify that users were removed correctly\n",
    "print('Training split:', len(train_df))\n",
    "print('Test split:', len(test_df))"
   ]
  },
  {
   "cell_type": "markdown",
   "id": "1349423a",
   "metadata": {},
   "source": [
    "- The id map.csv mapping table contains two fields:\n",
    "1) id in movielens, which is the movie ID in the MovieLens 100K dataset; and\n",
    "2) id in metadata, which is the movie ID in the movies metadata.csv file.\n",
    "For each movie in MovieLens 100K, use the mapping table to get the corresponding overview column in the movies metadata.csv file. Not all movies have a mapping, so after steps (2) and (3) you will need to discard movies that do not have a mapping from all splits"
   ]
  },
  {
   "cell_type": "code",
   "execution_count": 10,
   "id": "05c5a803",
   "metadata": {},
   "outputs": [
    {
     "data": {
      "text/plain": "      id_in_movielens  id_in_metadata\n0                   1             862\n1                   2             710\n2                   3               5\n3                   4            8012\n4                   5            1710\n...               ...             ...\n1496             1640           36998\n1497             1643            2892\n1498             1657          124639\n1499             1673          226229\n1500             1676           59232\n\n[1501 rows x 2 columns]",
      "text/html": "<div>\n<style scoped>\n    .dataframe tbody tr th:only-of-type {\n        vertical-align: middle;\n    }\n\n    .dataframe tbody tr th {\n        vertical-align: top;\n    }\n\n    .dataframe thead th {\n        text-align: right;\n    }\n</style>\n<table border=\"1\" class=\"dataframe\">\n  <thead>\n    <tr style=\"text-align: right;\">\n      <th></th>\n      <th>id_in_movielens</th>\n      <th>id_in_metadata</th>\n    </tr>\n  </thead>\n  <tbody>\n    <tr>\n      <th>0</th>\n      <td>1</td>\n      <td>862</td>\n    </tr>\n    <tr>\n      <th>1</th>\n      <td>2</td>\n      <td>710</td>\n    </tr>\n    <tr>\n      <th>2</th>\n      <td>3</td>\n      <td>5</td>\n    </tr>\n    <tr>\n      <th>3</th>\n      <td>4</td>\n      <td>8012</td>\n    </tr>\n    <tr>\n      <th>4</th>\n      <td>5</td>\n      <td>1710</td>\n    </tr>\n    <tr>\n      <th>...</th>\n      <td>...</td>\n      <td>...</td>\n    </tr>\n    <tr>\n      <th>1496</th>\n      <td>1640</td>\n      <td>36998</td>\n    </tr>\n    <tr>\n      <th>1497</th>\n      <td>1643</td>\n      <td>2892</td>\n    </tr>\n    <tr>\n      <th>1498</th>\n      <td>1657</td>\n      <td>124639</td>\n    </tr>\n    <tr>\n      <th>1499</th>\n      <td>1673</td>\n      <td>226229</td>\n    </tr>\n    <tr>\n      <th>1500</th>\n      <td>1676</td>\n      <td>59232</td>\n    </tr>\n  </tbody>\n</table>\n<p>1501 rows × 2 columns</p>\n</div>"
     },
     "execution_count": 10,
     "metadata": {},
     "output_type": "execute_result"
    }
   ],
   "source": [
    "# Load the mapping table\n",
    "mapping_table = pd.read_csv('id_map.csv')\n",
    "mapping_table"
   ]
  },
  {
   "cell_type": "code",
   "execution_count": 11,
   "id": "688e21b7",
   "metadata": {},
   "outputs": [
    {
     "name": "stderr",
     "output_type": "stream",
     "text": [
      "E:\\Programe\\Anaconda3\\envs\\web\\lib\\site-packages\\IPython\\core\\interactiveshell.py:3457: DtypeWarning: Columns (10) have mixed types.Specify dtype option on import or set low_memory=False.\n",
      "  exec(code_obj, self.user_global_ns, self.user_ns)\n"
     ]
    },
    {
     "data": {
      "text/plain": "       adult                              belongs_to_collection    budget  \\\n0      False  {'id': 10194, 'name': 'Toy Story Collection', ...  30000000   \n1      False                                                NaN  65000000   \n2      False  {'id': 119050, 'name': 'Grumpy Old Men Collect...         0   \n3      False                                                NaN  16000000   \n4      False  {'id': 96871, 'name': 'Father of the Bride Col...         0   \n...      ...                                                ...       ...   \n45461  False                                                NaN         0   \n45462  False                                                NaN         0   \n45463  False                                                NaN         0   \n45464  False                                                NaN         0   \n45465  False                                                NaN         0   \n\n                                                  genres  \\\n0      [{'id': 16, 'name': 'Animation'}, {'id': 35, '...   \n1      [{'id': 12, 'name': 'Adventure'}, {'id': 14, '...   \n2      [{'id': 10749, 'name': 'Romance'}, {'id': 35, ...   \n3      [{'id': 35, 'name': 'Comedy'}, {'id': 18, 'nam...   \n4                         [{'id': 35, 'name': 'Comedy'}]   \n...                                                  ...   \n45461  [{'id': 18, 'name': 'Drama'}, {'id': 10751, 'n...   \n45462                      [{'id': 18, 'name': 'Drama'}]   \n45463  [{'id': 28, 'name': 'Action'}, {'id': 18, 'nam...   \n45464                                                 []   \n45465                                                 []   \n\n                                   homepage      id    imdb_id  \\\n0      http://toystory.disney.com/toy-story     862  tt0114709   \n1                                       NaN    8844  tt0113497   \n2                                       NaN   15602  tt0113228   \n3                                       NaN   31357  tt0114885   \n4                                       NaN   11862  tt0113041   \n...                                     ...     ...        ...   \n45461  http://www.imdb.com/title/tt6209470/  439050  tt6209470   \n45462                                   NaN  111109  tt2028550   \n45463                                   NaN   67758  tt0303758   \n45464                                   NaN  227506  tt0008536   \n45465                                   NaN  461257  tt6980792   \n\n      original_language               original_title  \\\n0                    en                    Toy Story   \n1                    en                      Jumanji   \n2                    en             Grumpier Old Men   \n3                    en            Waiting to Exhale   \n4                    en  Father of the Bride Part II   \n...                 ...                          ...   \n45461                fa                      رگ خواب   \n45462                tl          Siglo ng Pagluluwal   \n45463                en                     Betrayal   \n45464                en          Satana likuyushchiy   \n45465                en                     Queerama   \n\n                                                overview  ... release_date  \\\n0      Led by Woody, Andy's toys live happily in his ...  ...   1995-10-30   \n1      When siblings Judy and Peter discover an encha...  ...   1995-12-15   \n2      A family wedding reignites the ancient feud be...  ...   1995-12-22   \n3      Cheated on, mistreated and stepped on, the wom...  ...   1995-12-22   \n4      Just when George Banks has recovered from his ...  ...   1995-02-10   \n...                                                  ...  ...          ...   \n45461        Rising and falling between a man and woman.  ...          NaN   \n45462  An artist struggles to finish his work while a...  ...   2011-11-17   \n45463  When one of her hits goes wrong, a professiona...  ...   2003-08-01   \n45464  In a small town live two brothers, one a minis...  ...   1917-10-21   \n45465  50 years after decriminalisation of homosexual...  ...   2017-06-09   \n\n           revenue runtime                                   spoken_languages  \\\n0      373554033.0    81.0           [{'iso_639_1': 'en', 'name': 'English'}]   \n1      262797249.0   104.0  [{'iso_639_1': 'en', 'name': 'English'}, {'iso...   \n2              0.0   101.0           [{'iso_639_1': 'en', 'name': 'English'}]   \n3       81452156.0   127.0           [{'iso_639_1': 'en', 'name': 'English'}]   \n4       76578911.0   106.0           [{'iso_639_1': 'en', 'name': 'English'}]   \n...            ...     ...                                                ...   \n45461          0.0    90.0             [{'iso_639_1': 'fa', 'name': 'فارسی'}]   \n45462          0.0   360.0                  [{'iso_639_1': 'tl', 'name': ''}]   \n45463          0.0    90.0           [{'iso_639_1': 'en', 'name': 'English'}]   \n45464          0.0    87.0                                                 []   \n45465          0.0    75.0           [{'iso_639_1': 'en', 'name': 'English'}]   \n\n         status                                            tagline  \\\n0      Released                                                NaN   \n1      Released          Roll the dice and unleash the excitement!   \n2      Released  Still Yelling. Still Fighting. Still Ready for...   \n3      Released  Friends are the people who let you be yourself...   \n4      Released  Just When His World Is Back To Normal... He's ...   \n...         ...                                                ...   \n45461  Released         Rising and falling between a man and woman   \n45462  Released                                                NaN   \n45463  Released                             A deadly game of wits.   \n45464  Released                                                NaN   \n45465  Released                                                NaN   \n\n                             title  video vote_average vote_count  \n0                        Toy Story  False          7.7     5415.0  \n1                          Jumanji  False          6.9     2413.0  \n2                 Grumpier Old Men  False          6.5       92.0  \n3                Waiting to Exhale  False          6.1       34.0  \n4      Father of the Bride Part II  False          5.7      173.0  \n...                            ...    ...          ...        ...  \n45461                       Subdue  False          4.0        1.0  \n45462          Century of Birthing  False          9.0        3.0  \n45463                     Betrayal  False          3.8        6.0  \n45464             Satan Triumphant  False          0.0        0.0  \n45465                     Queerama  False          0.0        0.0  \n\n[45466 rows x 24 columns]",
      "text/html": "<div>\n<style scoped>\n    .dataframe tbody tr th:only-of-type {\n        vertical-align: middle;\n    }\n\n    .dataframe tbody tr th {\n        vertical-align: top;\n    }\n\n    .dataframe thead th {\n        text-align: right;\n    }\n</style>\n<table border=\"1\" class=\"dataframe\">\n  <thead>\n    <tr style=\"text-align: right;\">\n      <th></th>\n      <th>adult</th>\n      <th>belongs_to_collection</th>\n      <th>budget</th>\n      <th>genres</th>\n      <th>homepage</th>\n      <th>id</th>\n      <th>imdb_id</th>\n      <th>original_language</th>\n      <th>original_title</th>\n      <th>overview</th>\n      <th>...</th>\n      <th>release_date</th>\n      <th>revenue</th>\n      <th>runtime</th>\n      <th>spoken_languages</th>\n      <th>status</th>\n      <th>tagline</th>\n      <th>title</th>\n      <th>video</th>\n      <th>vote_average</th>\n      <th>vote_count</th>\n    </tr>\n  </thead>\n  <tbody>\n    <tr>\n      <th>0</th>\n      <td>False</td>\n      <td>{'id': 10194, 'name': 'Toy Story Collection', ...</td>\n      <td>30000000</td>\n      <td>[{'id': 16, 'name': 'Animation'}, {'id': 35, '...</td>\n      <td>http://toystory.disney.com/toy-story</td>\n      <td>862</td>\n      <td>tt0114709</td>\n      <td>en</td>\n      <td>Toy Story</td>\n      <td>Led by Woody, Andy's toys live happily in his ...</td>\n      <td>...</td>\n      <td>1995-10-30</td>\n      <td>373554033.0</td>\n      <td>81.0</td>\n      <td>[{'iso_639_1': 'en', 'name': 'English'}]</td>\n      <td>Released</td>\n      <td>NaN</td>\n      <td>Toy Story</td>\n      <td>False</td>\n      <td>7.7</td>\n      <td>5415.0</td>\n    </tr>\n    <tr>\n      <th>1</th>\n      <td>False</td>\n      <td>NaN</td>\n      <td>65000000</td>\n      <td>[{'id': 12, 'name': 'Adventure'}, {'id': 14, '...</td>\n      <td>NaN</td>\n      <td>8844</td>\n      <td>tt0113497</td>\n      <td>en</td>\n      <td>Jumanji</td>\n      <td>When siblings Judy and Peter discover an encha...</td>\n      <td>...</td>\n      <td>1995-12-15</td>\n      <td>262797249.0</td>\n      <td>104.0</td>\n      <td>[{'iso_639_1': 'en', 'name': 'English'}, {'iso...</td>\n      <td>Released</td>\n      <td>Roll the dice and unleash the excitement!</td>\n      <td>Jumanji</td>\n      <td>False</td>\n      <td>6.9</td>\n      <td>2413.0</td>\n    </tr>\n    <tr>\n      <th>2</th>\n      <td>False</td>\n      <td>{'id': 119050, 'name': 'Grumpy Old Men Collect...</td>\n      <td>0</td>\n      <td>[{'id': 10749, 'name': 'Romance'}, {'id': 35, ...</td>\n      <td>NaN</td>\n      <td>15602</td>\n      <td>tt0113228</td>\n      <td>en</td>\n      <td>Grumpier Old Men</td>\n      <td>A family wedding reignites the ancient feud be...</td>\n      <td>...</td>\n      <td>1995-12-22</td>\n      <td>0.0</td>\n      <td>101.0</td>\n      <td>[{'iso_639_1': 'en', 'name': 'English'}]</td>\n      <td>Released</td>\n      <td>Still Yelling. Still Fighting. Still Ready for...</td>\n      <td>Grumpier Old Men</td>\n      <td>False</td>\n      <td>6.5</td>\n      <td>92.0</td>\n    </tr>\n    <tr>\n      <th>3</th>\n      <td>False</td>\n      <td>NaN</td>\n      <td>16000000</td>\n      <td>[{'id': 35, 'name': 'Comedy'}, {'id': 18, 'nam...</td>\n      <td>NaN</td>\n      <td>31357</td>\n      <td>tt0114885</td>\n      <td>en</td>\n      <td>Waiting to Exhale</td>\n      <td>Cheated on, mistreated and stepped on, the wom...</td>\n      <td>...</td>\n      <td>1995-12-22</td>\n      <td>81452156.0</td>\n      <td>127.0</td>\n      <td>[{'iso_639_1': 'en', 'name': 'English'}]</td>\n      <td>Released</td>\n      <td>Friends are the people who let you be yourself...</td>\n      <td>Waiting to Exhale</td>\n      <td>False</td>\n      <td>6.1</td>\n      <td>34.0</td>\n    </tr>\n    <tr>\n      <th>4</th>\n      <td>False</td>\n      <td>{'id': 96871, 'name': 'Father of the Bride Col...</td>\n      <td>0</td>\n      <td>[{'id': 35, 'name': 'Comedy'}]</td>\n      <td>NaN</td>\n      <td>11862</td>\n      <td>tt0113041</td>\n      <td>en</td>\n      <td>Father of the Bride Part II</td>\n      <td>Just when George Banks has recovered from his ...</td>\n      <td>...</td>\n      <td>1995-02-10</td>\n      <td>76578911.0</td>\n      <td>106.0</td>\n      <td>[{'iso_639_1': 'en', 'name': 'English'}]</td>\n      <td>Released</td>\n      <td>Just When His World Is Back To Normal... He's ...</td>\n      <td>Father of the Bride Part II</td>\n      <td>False</td>\n      <td>5.7</td>\n      <td>173.0</td>\n    </tr>\n    <tr>\n      <th>...</th>\n      <td>...</td>\n      <td>...</td>\n      <td>...</td>\n      <td>...</td>\n      <td>...</td>\n      <td>...</td>\n      <td>...</td>\n      <td>...</td>\n      <td>...</td>\n      <td>...</td>\n      <td>...</td>\n      <td>...</td>\n      <td>...</td>\n      <td>...</td>\n      <td>...</td>\n      <td>...</td>\n      <td>...</td>\n      <td>...</td>\n      <td>...</td>\n      <td>...</td>\n      <td>...</td>\n    </tr>\n    <tr>\n      <th>45461</th>\n      <td>False</td>\n      <td>NaN</td>\n      <td>0</td>\n      <td>[{'id': 18, 'name': 'Drama'}, {'id': 10751, 'n...</td>\n      <td>http://www.imdb.com/title/tt6209470/</td>\n      <td>439050</td>\n      <td>tt6209470</td>\n      <td>fa</td>\n      <td>رگ خواب</td>\n      <td>Rising and falling between a man and woman.</td>\n      <td>...</td>\n      <td>NaN</td>\n      <td>0.0</td>\n      <td>90.0</td>\n      <td>[{'iso_639_1': 'fa', 'name': 'فارسی'}]</td>\n      <td>Released</td>\n      <td>Rising and falling between a man and woman</td>\n      <td>Subdue</td>\n      <td>False</td>\n      <td>4.0</td>\n      <td>1.0</td>\n    </tr>\n    <tr>\n      <th>45462</th>\n      <td>False</td>\n      <td>NaN</td>\n      <td>0</td>\n      <td>[{'id': 18, 'name': 'Drama'}]</td>\n      <td>NaN</td>\n      <td>111109</td>\n      <td>tt2028550</td>\n      <td>tl</td>\n      <td>Siglo ng Pagluluwal</td>\n      <td>An artist struggles to finish his work while a...</td>\n      <td>...</td>\n      <td>2011-11-17</td>\n      <td>0.0</td>\n      <td>360.0</td>\n      <td>[{'iso_639_1': 'tl', 'name': ''}]</td>\n      <td>Released</td>\n      <td>NaN</td>\n      <td>Century of Birthing</td>\n      <td>False</td>\n      <td>9.0</td>\n      <td>3.0</td>\n    </tr>\n    <tr>\n      <th>45463</th>\n      <td>False</td>\n      <td>NaN</td>\n      <td>0</td>\n      <td>[{'id': 28, 'name': 'Action'}, {'id': 18, 'nam...</td>\n      <td>NaN</td>\n      <td>67758</td>\n      <td>tt0303758</td>\n      <td>en</td>\n      <td>Betrayal</td>\n      <td>When one of her hits goes wrong, a professiona...</td>\n      <td>...</td>\n      <td>2003-08-01</td>\n      <td>0.0</td>\n      <td>90.0</td>\n      <td>[{'iso_639_1': 'en', 'name': 'English'}]</td>\n      <td>Released</td>\n      <td>A deadly game of wits.</td>\n      <td>Betrayal</td>\n      <td>False</td>\n      <td>3.8</td>\n      <td>6.0</td>\n    </tr>\n    <tr>\n      <th>45464</th>\n      <td>False</td>\n      <td>NaN</td>\n      <td>0</td>\n      <td>[]</td>\n      <td>NaN</td>\n      <td>227506</td>\n      <td>tt0008536</td>\n      <td>en</td>\n      <td>Satana likuyushchiy</td>\n      <td>In a small town live two brothers, one a minis...</td>\n      <td>...</td>\n      <td>1917-10-21</td>\n      <td>0.0</td>\n      <td>87.0</td>\n      <td>[]</td>\n      <td>Released</td>\n      <td>NaN</td>\n      <td>Satan Triumphant</td>\n      <td>False</td>\n      <td>0.0</td>\n      <td>0.0</td>\n    </tr>\n    <tr>\n      <th>45465</th>\n      <td>False</td>\n      <td>NaN</td>\n      <td>0</td>\n      <td>[]</td>\n      <td>NaN</td>\n      <td>461257</td>\n      <td>tt6980792</td>\n      <td>en</td>\n      <td>Queerama</td>\n      <td>50 years after decriminalisation of homosexual...</td>\n      <td>...</td>\n      <td>2017-06-09</td>\n      <td>0.0</td>\n      <td>75.0</td>\n      <td>[{'iso_639_1': 'en', 'name': 'English'}]</td>\n      <td>Released</td>\n      <td>NaN</td>\n      <td>Queerama</td>\n      <td>False</td>\n      <td>0.0</td>\n      <td>0.0</td>\n    </tr>\n  </tbody>\n</table>\n<p>45466 rows × 24 columns</p>\n</div>"
     },
     "execution_count": 11,
     "metadata": {},
     "output_type": "execute_result"
    }
   ],
   "source": [
    "# Load the metadata file\n",
    "# metadata = pd.read_csv('movies_metadata.csv', usecols=['id', 'overview'])\n",
    "metadata = pd.read_csv('movies_metadata.csv')\n",
    "metadata"
   ]
  },
  {
   "cell_type": "code",
   "execution_count": 12,
   "id": "a3450e09",
   "metadata": {},
   "outputs": [
    {
     "name": "stdout",
     "output_type": "stream",
     "text": [
      "id_in_movielens    int64\n",
      "id_in_metadata     int64\n",
      "dtype: object\n",
      "adult                     object\n",
      "belongs_to_collection     object\n",
      "budget                    object\n",
      "genres                    object\n",
      "homepage                  object\n",
      "id                        object\n",
      "imdb_id                   object\n",
      "original_language         object\n",
      "original_title            object\n",
      "overview                  object\n",
      "popularity                object\n",
      "poster_path               object\n",
      "production_companies      object\n",
      "production_countries      object\n",
      "release_date              object\n",
      "revenue                  float64\n",
      "runtime                  float64\n",
      "spoken_languages          object\n",
      "status                    object\n",
      "tagline                   object\n",
      "title                     object\n",
      "video                     object\n",
      "vote_average             float64\n",
      "vote_count               float64\n",
      "dtype: object\n"
     ]
    }
   ],
   "source": [
    "print(mapping_table.dtypes)\n",
    "print(metadata.dtypes)"
   ]
  },
  {
   "cell_type": "code",
   "execution_count": 13,
   "id": "781c1387",
   "metadata": {},
   "outputs": [],
   "source": [
    "#remove rows that had invalide id's\n",
    "metadata = metadata[pd.to_numeric(metadata['id'], errors='coerce').notna()]\n",
    "\n"
   ]
  },
  {
   "cell_type": "code",
   "execution_count": 14,
   "id": "133b2e21",
   "metadata": {},
   "outputs": [
    {
     "data": {
      "text/plain": "0           862\n1          8844\n2         15602\n3         31357\n4         11862\n          ...  \n45461    439050\n45462    111109\n45463     67758\n45464    227506\n45465    461257\nName: id, Length: 45463, dtype: int32"
     },
     "execution_count": 14,
     "metadata": {},
     "output_type": "execute_result"
    }
   ],
   "source": [
    "# Convert the 'id' column in metadata to int64\n",
    "metadata_copy = metadata.copy()\n",
    "metadata_copy['id'] = metadata_copy['id'].astype(int)\n",
    "metadata_copy['id']\n"
   ]
  },
  {
   "cell_type": "code",
   "execution_count": 15,
   "id": "cc840bdf",
   "metadata": {},
   "outputs": [
    {
     "name": "stdout",
     "output_type": "stream",
     "text": [
      "id_in_movielens    int64\n",
      "id_in_metadata     int64\n",
      "dtype: object\n",
      "adult                     object\n",
      "belongs_to_collection     object\n",
      "budget                    object\n",
      "genres                    object\n",
      "homepage                  object\n",
      "id                        object\n",
      "imdb_id                   object\n",
      "original_language         object\n",
      "original_title            object\n",
      "overview                  object\n",
      "popularity                object\n",
      "poster_path               object\n",
      "production_companies      object\n",
      "production_countries      object\n",
      "release_date              object\n",
      "revenue                  float64\n",
      "runtime                  float64\n",
      "spoken_languages          object\n",
      "status                    object\n",
      "tagline                   object\n",
      "title                     object\n",
      "video                     object\n",
      "vote_average             float64\n",
      "vote_count               float64\n",
      "dtype: object\n"
     ]
    }
   ],
   "source": [
    "print(mapping_table.dtypes)\n",
    "print(metadata.dtypes)"
   ]
  },
  {
   "cell_type": "code",
   "execution_count": 16,
   "id": "9574b77a",
   "metadata": {},
   "outputs": [
    {
     "data": {
      "text/plain": "       adult                              belongs_to_collection    budget  \\\n0      False  {'id': 10194, 'name': 'Toy Story Collection', ...  30000000   \n1      False                                                NaN  65000000   \n2      False  {'id': 119050, 'name': 'Grumpy Old Men Collect...         0   \n3      False                                                NaN  16000000   \n4      False  {'id': 96871, 'name': 'Father of the Bride Col...         0   \n...      ...                                                ...       ...   \n45461  False                                                NaN         0   \n45462  False                                                NaN         0   \n45463  False                                                NaN         0   \n45464  False                                                NaN         0   \n45465  False                                                NaN         0   \n\n                                                  genres  \\\n0      [{'id': 16, 'name': 'Animation'}, {'id': 35, '...   \n1      [{'id': 12, 'name': 'Adventure'}, {'id': 14, '...   \n2      [{'id': 10749, 'name': 'Romance'}, {'id': 35, ...   \n3      [{'id': 35, 'name': 'Comedy'}, {'id': 18, 'nam...   \n4                         [{'id': 35, 'name': 'Comedy'}]   \n...                                                  ...   \n45461  [{'id': 18, 'name': 'Drama'}, {'id': 10751, 'n...   \n45462                      [{'id': 18, 'name': 'Drama'}]   \n45463  [{'id': 28, 'name': 'Action'}, {'id': 18, 'nam...   \n45464                                                 []   \n45465                                                 []   \n\n                                   homepage      id    imdb_id  \\\n0      http://toystory.disney.com/toy-story     862  tt0114709   \n1                                       NaN    8844  tt0113497   \n2                                       NaN   15602  tt0113228   \n3                                       NaN   31357  tt0114885   \n4                                       NaN   11862  tt0113041   \n...                                     ...     ...        ...   \n45461  http://www.imdb.com/title/tt6209470/  439050  tt6209470   \n45462                                   NaN  111109  tt2028550   \n45463                                   NaN   67758  tt0303758   \n45464                                   NaN  227506  tt0008536   \n45465                                   NaN  461257  tt6980792   \n\n      original_language               original_title  \\\n0                    en                    Toy Story   \n1                    en                      Jumanji   \n2                    en             Grumpier Old Men   \n3                    en            Waiting to Exhale   \n4                    en  Father of the Bride Part II   \n...                 ...                          ...   \n45461                fa                      رگ خواب   \n45462                tl          Siglo ng Pagluluwal   \n45463                en                     Betrayal   \n45464                en          Satana likuyushchiy   \n45465                en                     Queerama   \n\n                                                overview  ... release_date  \\\n0      Led by Woody, Andy's toys live happily in his ...  ...   1995-10-30   \n1      When siblings Judy and Peter discover an encha...  ...   1995-12-15   \n2      A family wedding reignites the ancient feud be...  ...   1995-12-22   \n3      Cheated on, mistreated and stepped on, the wom...  ...   1995-12-22   \n4      Just when George Banks has recovered from his ...  ...   1995-02-10   \n...                                                  ...  ...          ...   \n45461        Rising and falling between a man and woman.  ...          NaN   \n45462  An artist struggles to finish his work while a...  ...   2011-11-17   \n45463  When one of her hits goes wrong, a professiona...  ...   2003-08-01   \n45464  In a small town live two brothers, one a minis...  ...   1917-10-21   \n45465  50 years after decriminalisation of homosexual...  ...   2017-06-09   \n\n           revenue runtime                                   spoken_languages  \\\n0      373554033.0    81.0           [{'iso_639_1': 'en', 'name': 'English'}]   \n1      262797249.0   104.0  [{'iso_639_1': 'en', 'name': 'English'}, {'iso...   \n2              0.0   101.0           [{'iso_639_1': 'en', 'name': 'English'}]   \n3       81452156.0   127.0           [{'iso_639_1': 'en', 'name': 'English'}]   \n4       76578911.0   106.0           [{'iso_639_1': 'en', 'name': 'English'}]   \n...            ...     ...                                                ...   \n45461          0.0    90.0             [{'iso_639_1': 'fa', 'name': 'فارسی'}]   \n45462          0.0   360.0                  [{'iso_639_1': 'tl', 'name': ''}]   \n45463          0.0    90.0           [{'iso_639_1': 'en', 'name': 'English'}]   \n45464          0.0    87.0                                                 []   \n45465          0.0    75.0           [{'iso_639_1': 'en', 'name': 'English'}]   \n\n         status                                            tagline  \\\n0      Released                                                NaN   \n1      Released          Roll the dice and unleash the excitement!   \n2      Released  Still Yelling. Still Fighting. Still Ready for...   \n3      Released  Friends are the people who let you be yourself...   \n4      Released  Just When His World Is Back To Normal... He's ...   \n...         ...                                                ...   \n45461  Released         Rising and falling between a man and woman   \n45462  Released                                                NaN   \n45463  Released                             A deadly game of wits.   \n45464  Released                                                NaN   \n45465  Released                                                NaN   \n\n                             title  video vote_average vote_count  \n0                        Toy Story  False          7.7     5415.0  \n1                          Jumanji  False          6.9     2413.0  \n2                 Grumpier Old Men  False          6.5       92.0  \n3                Waiting to Exhale  False          6.1       34.0  \n4      Father of the Bride Part II  False          5.7      173.0  \n...                            ...    ...          ...        ...  \n45461                       Subdue  False          4.0        1.0  \n45462          Century of Birthing  False          9.0        3.0  \n45463                     Betrayal  False          3.8        6.0  \n45464             Satan Triumphant  False          0.0        0.0  \n45465                     Queerama  False          0.0        0.0  \n\n[45463 rows x 24 columns]",
      "text/html": "<div>\n<style scoped>\n    .dataframe tbody tr th:only-of-type {\n        vertical-align: middle;\n    }\n\n    .dataframe tbody tr th {\n        vertical-align: top;\n    }\n\n    .dataframe thead th {\n        text-align: right;\n    }\n</style>\n<table border=\"1\" class=\"dataframe\">\n  <thead>\n    <tr style=\"text-align: right;\">\n      <th></th>\n      <th>adult</th>\n      <th>belongs_to_collection</th>\n      <th>budget</th>\n      <th>genres</th>\n      <th>homepage</th>\n      <th>id</th>\n      <th>imdb_id</th>\n      <th>original_language</th>\n      <th>original_title</th>\n      <th>overview</th>\n      <th>...</th>\n      <th>release_date</th>\n      <th>revenue</th>\n      <th>runtime</th>\n      <th>spoken_languages</th>\n      <th>status</th>\n      <th>tagline</th>\n      <th>title</th>\n      <th>video</th>\n      <th>vote_average</th>\n      <th>vote_count</th>\n    </tr>\n  </thead>\n  <tbody>\n    <tr>\n      <th>0</th>\n      <td>False</td>\n      <td>{'id': 10194, 'name': 'Toy Story Collection', ...</td>\n      <td>30000000</td>\n      <td>[{'id': 16, 'name': 'Animation'}, {'id': 35, '...</td>\n      <td>http://toystory.disney.com/toy-story</td>\n      <td>862</td>\n      <td>tt0114709</td>\n      <td>en</td>\n      <td>Toy Story</td>\n      <td>Led by Woody, Andy's toys live happily in his ...</td>\n      <td>...</td>\n      <td>1995-10-30</td>\n      <td>373554033.0</td>\n      <td>81.0</td>\n      <td>[{'iso_639_1': 'en', 'name': 'English'}]</td>\n      <td>Released</td>\n      <td>NaN</td>\n      <td>Toy Story</td>\n      <td>False</td>\n      <td>7.7</td>\n      <td>5415.0</td>\n    </tr>\n    <tr>\n      <th>1</th>\n      <td>False</td>\n      <td>NaN</td>\n      <td>65000000</td>\n      <td>[{'id': 12, 'name': 'Adventure'}, {'id': 14, '...</td>\n      <td>NaN</td>\n      <td>8844</td>\n      <td>tt0113497</td>\n      <td>en</td>\n      <td>Jumanji</td>\n      <td>When siblings Judy and Peter discover an encha...</td>\n      <td>...</td>\n      <td>1995-12-15</td>\n      <td>262797249.0</td>\n      <td>104.0</td>\n      <td>[{'iso_639_1': 'en', 'name': 'English'}, {'iso...</td>\n      <td>Released</td>\n      <td>Roll the dice and unleash the excitement!</td>\n      <td>Jumanji</td>\n      <td>False</td>\n      <td>6.9</td>\n      <td>2413.0</td>\n    </tr>\n    <tr>\n      <th>2</th>\n      <td>False</td>\n      <td>{'id': 119050, 'name': 'Grumpy Old Men Collect...</td>\n      <td>0</td>\n      <td>[{'id': 10749, 'name': 'Romance'}, {'id': 35, ...</td>\n      <td>NaN</td>\n      <td>15602</td>\n      <td>tt0113228</td>\n      <td>en</td>\n      <td>Grumpier Old Men</td>\n      <td>A family wedding reignites the ancient feud be...</td>\n      <td>...</td>\n      <td>1995-12-22</td>\n      <td>0.0</td>\n      <td>101.0</td>\n      <td>[{'iso_639_1': 'en', 'name': 'English'}]</td>\n      <td>Released</td>\n      <td>Still Yelling. Still Fighting. Still Ready for...</td>\n      <td>Grumpier Old Men</td>\n      <td>False</td>\n      <td>6.5</td>\n      <td>92.0</td>\n    </tr>\n    <tr>\n      <th>3</th>\n      <td>False</td>\n      <td>NaN</td>\n      <td>16000000</td>\n      <td>[{'id': 35, 'name': 'Comedy'}, {'id': 18, 'nam...</td>\n      <td>NaN</td>\n      <td>31357</td>\n      <td>tt0114885</td>\n      <td>en</td>\n      <td>Waiting to Exhale</td>\n      <td>Cheated on, mistreated and stepped on, the wom...</td>\n      <td>...</td>\n      <td>1995-12-22</td>\n      <td>81452156.0</td>\n      <td>127.0</td>\n      <td>[{'iso_639_1': 'en', 'name': 'English'}]</td>\n      <td>Released</td>\n      <td>Friends are the people who let you be yourself...</td>\n      <td>Waiting to Exhale</td>\n      <td>False</td>\n      <td>6.1</td>\n      <td>34.0</td>\n    </tr>\n    <tr>\n      <th>4</th>\n      <td>False</td>\n      <td>{'id': 96871, 'name': 'Father of the Bride Col...</td>\n      <td>0</td>\n      <td>[{'id': 35, 'name': 'Comedy'}]</td>\n      <td>NaN</td>\n      <td>11862</td>\n      <td>tt0113041</td>\n      <td>en</td>\n      <td>Father of the Bride Part II</td>\n      <td>Just when George Banks has recovered from his ...</td>\n      <td>...</td>\n      <td>1995-02-10</td>\n      <td>76578911.0</td>\n      <td>106.0</td>\n      <td>[{'iso_639_1': 'en', 'name': 'English'}]</td>\n      <td>Released</td>\n      <td>Just When His World Is Back To Normal... He's ...</td>\n      <td>Father of the Bride Part II</td>\n      <td>False</td>\n      <td>5.7</td>\n      <td>173.0</td>\n    </tr>\n    <tr>\n      <th>...</th>\n      <td>...</td>\n      <td>...</td>\n      <td>...</td>\n      <td>...</td>\n      <td>...</td>\n      <td>...</td>\n      <td>...</td>\n      <td>...</td>\n      <td>...</td>\n      <td>...</td>\n      <td>...</td>\n      <td>...</td>\n      <td>...</td>\n      <td>...</td>\n      <td>...</td>\n      <td>...</td>\n      <td>...</td>\n      <td>...</td>\n      <td>...</td>\n      <td>...</td>\n      <td>...</td>\n    </tr>\n    <tr>\n      <th>45461</th>\n      <td>False</td>\n      <td>NaN</td>\n      <td>0</td>\n      <td>[{'id': 18, 'name': 'Drama'}, {'id': 10751, 'n...</td>\n      <td>http://www.imdb.com/title/tt6209470/</td>\n      <td>439050</td>\n      <td>tt6209470</td>\n      <td>fa</td>\n      <td>رگ خواب</td>\n      <td>Rising and falling between a man and woman.</td>\n      <td>...</td>\n      <td>NaN</td>\n      <td>0.0</td>\n      <td>90.0</td>\n      <td>[{'iso_639_1': 'fa', 'name': 'فارسی'}]</td>\n      <td>Released</td>\n      <td>Rising and falling between a man and woman</td>\n      <td>Subdue</td>\n      <td>False</td>\n      <td>4.0</td>\n      <td>1.0</td>\n    </tr>\n    <tr>\n      <th>45462</th>\n      <td>False</td>\n      <td>NaN</td>\n      <td>0</td>\n      <td>[{'id': 18, 'name': 'Drama'}]</td>\n      <td>NaN</td>\n      <td>111109</td>\n      <td>tt2028550</td>\n      <td>tl</td>\n      <td>Siglo ng Pagluluwal</td>\n      <td>An artist struggles to finish his work while a...</td>\n      <td>...</td>\n      <td>2011-11-17</td>\n      <td>0.0</td>\n      <td>360.0</td>\n      <td>[{'iso_639_1': 'tl', 'name': ''}]</td>\n      <td>Released</td>\n      <td>NaN</td>\n      <td>Century of Birthing</td>\n      <td>False</td>\n      <td>9.0</td>\n      <td>3.0</td>\n    </tr>\n    <tr>\n      <th>45463</th>\n      <td>False</td>\n      <td>NaN</td>\n      <td>0</td>\n      <td>[{'id': 28, 'name': 'Action'}, {'id': 18, 'nam...</td>\n      <td>NaN</td>\n      <td>67758</td>\n      <td>tt0303758</td>\n      <td>en</td>\n      <td>Betrayal</td>\n      <td>When one of her hits goes wrong, a professiona...</td>\n      <td>...</td>\n      <td>2003-08-01</td>\n      <td>0.0</td>\n      <td>90.0</td>\n      <td>[{'iso_639_1': 'en', 'name': 'English'}]</td>\n      <td>Released</td>\n      <td>A deadly game of wits.</td>\n      <td>Betrayal</td>\n      <td>False</td>\n      <td>3.8</td>\n      <td>6.0</td>\n    </tr>\n    <tr>\n      <th>45464</th>\n      <td>False</td>\n      <td>NaN</td>\n      <td>0</td>\n      <td>[]</td>\n      <td>NaN</td>\n      <td>227506</td>\n      <td>tt0008536</td>\n      <td>en</td>\n      <td>Satana likuyushchiy</td>\n      <td>In a small town live two brothers, one a minis...</td>\n      <td>...</td>\n      <td>1917-10-21</td>\n      <td>0.0</td>\n      <td>87.0</td>\n      <td>[]</td>\n      <td>Released</td>\n      <td>NaN</td>\n      <td>Satan Triumphant</td>\n      <td>False</td>\n      <td>0.0</td>\n      <td>0.0</td>\n    </tr>\n    <tr>\n      <th>45465</th>\n      <td>False</td>\n      <td>NaN</td>\n      <td>0</td>\n      <td>[]</td>\n      <td>NaN</td>\n      <td>461257</td>\n      <td>tt6980792</td>\n      <td>en</td>\n      <td>Queerama</td>\n      <td>50 years after decriminalisation of homosexual...</td>\n      <td>...</td>\n      <td>2017-06-09</td>\n      <td>0.0</td>\n      <td>75.0</td>\n      <td>[{'iso_639_1': 'en', 'name': 'English'}]</td>\n      <td>Released</td>\n      <td>NaN</td>\n      <td>Queerama</td>\n      <td>False</td>\n      <td>0.0</td>\n      <td>0.0</td>\n    </tr>\n  </tbody>\n</table>\n<p>45463 rows × 24 columns</p>\n</div>"
     },
     "execution_count": 16,
     "metadata": {},
     "output_type": "execute_result"
    }
   ],
   "source": [
    "metadata_copy = metadata.copy()\n",
    "metadata_copy['id'] = metadata_copy['id'].astype(int)\n",
    "metadata_copy"
   ]
  },
  {
   "cell_type": "code",
   "execution_count": 17,
   "id": "99cae111",
   "metadata": {},
   "outputs": [
    {
     "data": {
      "text/plain": "      id_in_movielens  id_in_metadata  adult  \\\n0                   1             862  False   \n1                   2             710  False   \n2                   3               5  False   \n3                   4            8012  False   \n4                   5            1710  False   \n...               ...             ...    ...   \n1496             1640           36998  False   \n1497             1643            2892  False   \n1498             1657          124639  False   \n1499             1673          226229  False   \n1500             1676           59232  False   \n\n                                  belongs_to_collection    budget  \\\n0     {'id': 10194, 'name': 'Toy Story Collection', ...  30000000   \n1     {'id': 645, 'name': 'James Bond Collection', '...  58000000   \n2                                                   NaN   4000000   \n3     {'id': 91698, 'name': 'Chili Palmer Collection...  30250000   \n4                                                   NaN         0   \n...                                                 ...       ...   \n1496                                                NaN         0   \n1497                                                NaN         0   \n1498                                                NaN         0   \n1499                                                NaN         0   \n1500                                                NaN         0   \n\n                                                 genres  \\\n0     [{'id': 16, 'name': 'Animation'}, {'id': 35, '...   \n1     [{'id': 12, 'name': 'Adventure'}, {'id': 28, '...   \n2     [{'id': 80, 'name': 'Crime'}, {'id': 35, 'name...   \n3     [{'id': 35, 'name': 'Comedy'}, {'id': 53, 'nam...   \n4     [{'id': 18, 'name': 'Drama'}, {'id': 53, 'name...   \n...                                                 ...   \n1496                      [{'id': 18, 'name': 'Drama'}]   \n1497                      [{'id': 18, 'name': 'Drama'}]   \n1498                                                 []   \n1499  [{'id': 28, 'name': 'Action'}, {'id': 53, 'nam...   \n1500                      [{'id': 18, 'name': 'Drama'}]   \n\n                                          homepage      id    imdb_id  \\\n0             http://toystory.disney.com/toy-story     862  tt0114709   \n1     http://www.mgm.com/view/movie/757/Goldeneye/     710  tt0113189   \n2                                              NaN       5  tt0113101   \n3                                              NaN    8012  tt0113161   \n4                                              NaN    1710  tt0112722   \n...                                            ...     ...        ...   \n1496                                           NaN   36998  tt0116581   \n1497                                           NaN    2892  tt0112362   \n1498                                           NaN  124639  tt0114618   \n1499                                           NaN  226229  tt0113827   \n1500                                           NaN   59232  tt0118117   \n\n     original_language  ... release_date      revenue runtime  \\\n0                   en  ...   1995-10-30  373554033.0    81.0   \n1                   en  ...   1995-11-16  352194034.0   130.0   \n2                   en  ...   1995-12-09    4300000.0    98.0   \n3                   en  ...   1995-10-20  115101622.0   105.0   \n4                   en  ...   1995-10-27          0.0   124.0   \n...                ...  ...          ...          ...     ...   \n1496                fr  ...   1996-01-01          0.0   118.0   \n1497                en  ...   1995-09-09          0.0   105.0   \n1498                en  ...   1995-08-01          0.0   122.0   \n1499                en  ...   1995-11-21          0.0    92.0   \n1500                en  ...   1996-11-20          0.0   119.0   \n\n                                       spoken_languages    status  \\\n0              [{'iso_639_1': 'en', 'name': 'English'}]  Released   \n1     [{'iso_639_1': 'en', 'name': 'English'}, {'iso...  Released   \n2              [{'iso_639_1': 'en', 'name': 'English'}]  Released   \n3              [{'iso_639_1': 'en', 'name': 'English'}]  Released   \n4     [{'iso_639_1': 'en', 'name': 'English'}, {'iso...  Released   \n...                                                 ...       ...   \n1496          [{'iso_639_1': 'fr', 'name': 'Français'}]  Released   \n1497           [{'iso_639_1': 'en', 'name': 'English'}]  Released   \n1498                                                 []  Released   \n1499           [{'iso_639_1': 'en', 'name': 'English'}]  Released   \n1500           [{'iso_639_1': 'en', 'name': 'English'}]   Rumored   \n\n                                                tagline            title  \\\n0                                                   NaN        Toy Story   \n1                  No limits. No fears. No substitutes.        GoldenEye   \n2     Twelve outrageous guests. Four scandalous requ...       Four Rooms   \n3     The mob is tough, but it’s nothing like show b...       Get Shorty   \n4     One man is copying the most notorious killers ...          Copycat   \n...                                                 ...              ...   \n1496                                                NaN   The Eighth Day   \n1497  An extraordinary story of love's transcendent ...       Angel Baby   \n1498                                                NaN           Target   \n1499                    Love is the deadliest illusion.           Mirage   \n1500                There Is A Secret About To Explode.  The War at Home   \n\n      video  vote_average vote_count  \n0     False           7.7     5415.0  \n1     False           6.6     1194.0  \n2     False           6.5      539.0  \n3     False           6.4      305.0  \n4     False           6.5      199.0  \n...     ...           ...        ...  \n1496  False           7.0       56.0  \n1497  False           7.7        3.0  \n1498  False           0.0        0.0  \n1499  False           4.0        1.0  \n1500  False           6.9        7.0  \n\n[1501 rows x 26 columns]",
      "text/html": "<div>\n<style scoped>\n    .dataframe tbody tr th:only-of-type {\n        vertical-align: middle;\n    }\n\n    .dataframe tbody tr th {\n        vertical-align: top;\n    }\n\n    .dataframe thead th {\n        text-align: right;\n    }\n</style>\n<table border=\"1\" class=\"dataframe\">\n  <thead>\n    <tr style=\"text-align: right;\">\n      <th></th>\n      <th>id_in_movielens</th>\n      <th>id_in_metadata</th>\n      <th>adult</th>\n      <th>belongs_to_collection</th>\n      <th>budget</th>\n      <th>genres</th>\n      <th>homepage</th>\n      <th>id</th>\n      <th>imdb_id</th>\n      <th>original_language</th>\n      <th>...</th>\n      <th>release_date</th>\n      <th>revenue</th>\n      <th>runtime</th>\n      <th>spoken_languages</th>\n      <th>status</th>\n      <th>tagline</th>\n      <th>title</th>\n      <th>video</th>\n      <th>vote_average</th>\n      <th>vote_count</th>\n    </tr>\n  </thead>\n  <tbody>\n    <tr>\n      <th>0</th>\n      <td>1</td>\n      <td>862</td>\n      <td>False</td>\n      <td>{'id': 10194, 'name': 'Toy Story Collection', ...</td>\n      <td>30000000</td>\n      <td>[{'id': 16, 'name': 'Animation'}, {'id': 35, '...</td>\n      <td>http://toystory.disney.com/toy-story</td>\n      <td>862</td>\n      <td>tt0114709</td>\n      <td>en</td>\n      <td>...</td>\n      <td>1995-10-30</td>\n      <td>373554033.0</td>\n      <td>81.0</td>\n      <td>[{'iso_639_1': 'en', 'name': 'English'}]</td>\n      <td>Released</td>\n      <td>NaN</td>\n      <td>Toy Story</td>\n      <td>False</td>\n      <td>7.7</td>\n      <td>5415.0</td>\n    </tr>\n    <tr>\n      <th>1</th>\n      <td>2</td>\n      <td>710</td>\n      <td>False</td>\n      <td>{'id': 645, 'name': 'James Bond Collection', '...</td>\n      <td>58000000</td>\n      <td>[{'id': 12, 'name': 'Adventure'}, {'id': 28, '...</td>\n      <td>http://www.mgm.com/view/movie/757/Goldeneye/</td>\n      <td>710</td>\n      <td>tt0113189</td>\n      <td>en</td>\n      <td>...</td>\n      <td>1995-11-16</td>\n      <td>352194034.0</td>\n      <td>130.0</td>\n      <td>[{'iso_639_1': 'en', 'name': 'English'}, {'iso...</td>\n      <td>Released</td>\n      <td>No limits. No fears. No substitutes.</td>\n      <td>GoldenEye</td>\n      <td>False</td>\n      <td>6.6</td>\n      <td>1194.0</td>\n    </tr>\n    <tr>\n      <th>2</th>\n      <td>3</td>\n      <td>5</td>\n      <td>False</td>\n      <td>NaN</td>\n      <td>4000000</td>\n      <td>[{'id': 80, 'name': 'Crime'}, {'id': 35, 'name...</td>\n      <td>NaN</td>\n      <td>5</td>\n      <td>tt0113101</td>\n      <td>en</td>\n      <td>...</td>\n      <td>1995-12-09</td>\n      <td>4300000.0</td>\n      <td>98.0</td>\n      <td>[{'iso_639_1': 'en', 'name': 'English'}]</td>\n      <td>Released</td>\n      <td>Twelve outrageous guests. Four scandalous requ...</td>\n      <td>Four Rooms</td>\n      <td>False</td>\n      <td>6.5</td>\n      <td>539.0</td>\n    </tr>\n    <tr>\n      <th>3</th>\n      <td>4</td>\n      <td>8012</td>\n      <td>False</td>\n      <td>{'id': 91698, 'name': 'Chili Palmer Collection...</td>\n      <td>30250000</td>\n      <td>[{'id': 35, 'name': 'Comedy'}, {'id': 53, 'nam...</td>\n      <td>NaN</td>\n      <td>8012</td>\n      <td>tt0113161</td>\n      <td>en</td>\n      <td>...</td>\n      <td>1995-10-20</td>\n      <td>115101622.0</td>\n      <td>105.0</td>\n      <td>[{'iso_639_1': 'en', 'name': 'English'}]</td>\n      <td>Released</td>\n      <td>The mob is tough, but it’s nothing like show b...</td>\n      <td>Get Shorty</td>\n      <td>False</td>\n      <td>6.4</td>\n      <td>305.0</td>\n    </tr>\n    <tr>\n      <th>4</th>\n      <td>5</td>\n      <td>1710</td>\n      <td>False</td>\n      <td>NaN</td>\n      <td>0</td>\n      <td>[{'id': 18, 'name': 'Drama'}, {'id': 53, 'name...</td>\n      <td>NaN</td>\n      <td>1710</td>\n      <td>tt0112722</td>\n      <td>en</td>\n      <td>...</td>\n      <td>1995-10-27</td>\n      <td>0.0</td>\n      <td>124.0</td>\n      <td>[{'iso_639_1': 'en', 'name': 'English'}, {'iso...</td>\n      <td>Released</td>\n      <td>One man is copying the most notorious killers ...</td>\n      <td>Copycat</td>\n      <td>False</td>\n      <td>6.5</td>\n      <td>199.0</td>\n    </tr>\n    <tr>\n      <th>...</th>\n      <td>...</td>\n      <td>...</td>\n      <td>...</td>\n      <td>...</td>\n      <td>...</td>\n      <td>...</td>\n      <td>...</td>\n      <td>...</td>\n      <td>...</td>\n      <td>...</td>\n      <td>...</td>\n      <td>...</td>\n      <td>...</td>\n      <td>...</td>\n      <td>...</td>\n      <td>...</td>\n      <td>...</td>\n      <td>...</td>\n      <td>...</td>\n      <td>...</td>\n      <td>...</td>\n    </tr>\n    <tr>\n      <th>1496</th>\n      <td>1640</td>\n      <td>36998</td>\n      <td>False</td>\n      <td>NaN</td>\n      <td>0</td>\n      <td>[{'id': 18, 'name': 'Drama'}]</td>\n      <td>NaN</td>\n      <td>36998</td>\n      <td>tt0116581</td>\n      <td>fr</td>\n      <td>...</td>\n      <td>1996-01-01</td>\n      <td>0.0</td>\n      <td>118.0</td>\n      <td>[{'iso_639_1': 'fr', 'name': 'Français'}]</td>\n      <td>Released</td>\n      <td>NaN</td>\n      <td>The Eighth Day</td>\n      <td>False</td>\n      <td>7.0</td>\n      <td>56.0</td>\n    </tr>\n    <tr>\n      <th>1497</th>\n      <td>1643</td>\n      <td>2892</td>\n      <td>False</td>\n      <td>NaN</td>\n      <td>0</td>\n      <td>[{'id': 18, 'name': 'Drama'}]</td>\n      <td>NaN</td>\n      <td>2892</td>\n      <td>tt0112362</td>\n      <td>en</td>\n      <td>...</td>\n      <td>1995-09-09</td>\n      <td>0.0</td>\n      <td>105.0</td>\n      <td>[{'iso_639_1': 'en', 'name': 'English'}]</td>\n      <td>Released</td>\n      <td>An extraordinary story of love's transcendent ...</td>\n      <td>Angel Baby</td>\n      <td>False</td>\n      <td>7.7</td>\n      <td>3.0</td>\n    </tr>\n    <tr>\n      <th>1498</th>\n      <td>1657</td>\n      <td>124639</td>\n      <td>False</td>\n      <td>NaN</td>\n      <td>0</td>\n      <td>[]</td>\n      <td>NaN</td>\n      <td>124639</td>\n      <td>tt0114618</td>\n      <td>en</td>\n      <td>...</td>\n      <td>1995-08-01</td>\n      <td>0.0</td>\n      <td>122.0</td>\n      <td>[]</td>\n      <td>Released</td>\n      <td>NaN</td>\n      <td>Target</td>\n      <td>False</td>\n      <td>0.0</td>\n      <td>0.0</td>\n    </tr>\n    <tr>\n      <th>1499</th>\n      <td>1673</td>\n      <td>226229</td>\n      <td>False</td>\n      <td>NaN</td>\n      <td>0</td>\n      <td>[{'id': 28, 'name': 'Action'}, {'id': 53, 'nam...</td>\n      <td>NaN</td>\n      <td>226229</td>\n      <td>tt0113827</td>\n      <td>en</td>\n      <td>...</td>\n      <td>1995-11-21</td>\n      <td>0.0</td>\n      <td>92.0</td>\n      <td>[{'iso_639_1': 'en', 'name': 'English'}]</td>\n      <td>Released</td>\n      <td>Love is the deadliest illusion.</td>\n      <td>Mirage</td>\n      <td>False</td>\n      <td>4.0</td>\n      <td>1.0</td>\n    </tr>\n    <tr>\n      <th>1500</th>\n      <td>1676</td>\n      <td>59232</td>\n      <td>False</td>\n      <td>NaN</td>\n      <td>0</td>\n      <td>[{'id': 18, 'name': 'Drama'}]</td>\n      <td>NaN</td>\n      <td>59232</td>\n      <td>tt0118117</td>\n      <td>en</td>\n      <td>...</td>\n      <td>1996-11-20</td>\n      <td>0.0</td>\n      <td>119.0</td>\n      <td>[{'iso_639_1': 'en', 'name': 'English'}]</td>\n      <td>Rumored</td>\n      <td>There Is A Secret About To Explode.</td>\n      <td>The War at Home</td>\n      <td>False</td>\n      <td>6.9</td>\n      <td>7.0</td>\n    </tr>\n  </tbody>\n</table>\n<p>1501 rows × 26 columns</p>\n</div>"
     },
     "execution_count": 17,
     "metadata": {},
     "output_type": "execute_result"
    }
   ],
   "source": [
    "# Merge the mapping table with the metadata file\n",
    "merged_data = pd.merge(mapping_table, metadata_copy, left_on='id_in_metadata', right_on='id', how='inner')\n",
    "merged_data"
   ]
  },
  {
   "cell_type": "code",
   "execution_count": 18,
   "id": "9e9d1e6e",
   "metadata": {},
   "outputs": [
    {
     "name": "stdout",
     "output_type": "stream",
     "text": [
      "Training rated movies: 1650\n",
      "Test rated movies: 1410\n"
     ]
    }
   ],
   "source": [
    "# Get the set of movie IDs that appear in the ratings dataset\n",
    "rated_movies_train = set(train_df['movie_id'].unique())\n",
    "rated_movies_test = set(test_df['movie_id'].unique())\n",
    "\n",
    "print('Training rated movies:', len(rated_movies_train))\n",
    "print('Test rated movies:', len(rated_movies_test))"
   ]
  },
  {
   "cell_type": "code",
   "execution_count": 19,
   "outputs": [
    {
     "name": "stdout",
     "output_type": "stream",
     "text": [
      "      id_in_movielens                                           overview\n",
      "0                   1  Led by Woody, Andy's toys live happily in his ...\n",
      "1                   2  James Bond must unmask the mysterious head of ...\n",
      "2                   3  It's Ted the Bellhop's first night on the job....\n",
      "3                   4  Chili Palmer is a Miami mobster who gets sent ...\n",
      "4                   5  An agoraphobic psychologist and a female detec...\n",
      "...               ...                                                ...\n",
      "1475             1442  Set in puritanical Boston in the mid 1600s, th...\n",
      "1479             1477  A law student, who takes a job as a night watc...\n",
      "1481             1479  On Christmas eve, a relentlessly cheerful woma...\n",
      "1483             1527  A student gets his senses enhanced by an exper...\n",
      "1484             1529  Black marketeers Marko (Miki Manojlovic) and B...\n",
      "\n",
      "[1260 rows x 2 columns]\n"
     ]
    }
   ],
   "source": [
    "# keep only the movies that have a mapping from all splits\n",
    "movie_ids = set(train_df['movie_id'].unique()).intersection(set(test_df['movie_id'].unique()))\n",
    "merged_data_ok = merged_data[merged_data['id_in_movielens'].isin(movie_ids)]\n",
    "print(merged_data_ok[['id_in_movielens', 'overview']])\n"
   ],
   "metadata": {
    "collapsed": false
   }
  },
  {
   "cell_type": "code",
   "execution_count": 20,
   "id": "eb68ea82",
   "metadata": {},
   "outputs": [
    {
     "name": "stdout",
     "output_type": "stream",
     "text": [
      "      id_in_movielens                                           overview\n",
      "0                   1  Led by Woody, Andy's toys live happily in his ...\n",
      "1                   2  James Bond must unmask the mysterious head of ...\n",
      "2                   3  It's Ted the Bellhop's first night on the job....\n",
      "3                   4  Chili Palmer is a Miami mobster who gets sent ...\n",
      "4                   5  An agoraphobic psychologist and a female detec...\n",
      "...               ...                                                ...\n",
      "1496             1640  Georges has Down syndrome, living at a mental-...\n",
      "1497             1643  Two schizophrenics meet during therapy and fal...\n",
      "1498             1657   A subtle yet violent commentary on feudal lords.\n",
      "1499             1673  Matteo Juarez is a retired detective hired by ...\n",
      "1500             1676  Jeremy Collier is a Vietnam veteran who has re...\n",
      "\n",
      "[1475 rows x 2 columns]\n",
      "      id_in_movielens                                           overview\n",
      "0                   1  Led by Woody, Andy's toys live happily in his ...\n",
      "1                   2  James Bond must unmask the mysterious head of ...\n",
      "2                   3  It's Ted the Bellhop's first night on the job....\n",
      "3                   4  Chili Palmer is a Miami mobster who gets sent ...\n",
      "4                   5  An agoraphobic psychologist and a female detec...\n",
      "...               ...                                                ...\n",
      "1475             1442  Set in puritanical Boston in the mid 1600s, th...\n",
      "1479             1477  A law student, who takes a job as a night watc...\n",
      "1481             1479  On Christmas eve, a relentlessly cheerful woma...\n",
      "1483             1527  A student gets his senses enhanced by an exper...\n",
      "1484             1529  Black marketeers Marko (Miki Manojlovic) and B...\n",
      "\n",
      "[1286 rows x 2 columns]\n"
     ]
    }
   ],
   "source": [
    "# Filter the merged data to only include movies that have been rated dataset\n",
    "merged_data_train = merged_data[merged_data['id_in_movielens'].isin(rated_movies_train)]\n",
    "\n",
    "# Print the result\n",
    "print(merged_data_train[['id_in_movielens', 'overview']])\n",
    "\n",
    "merged_data_test = merged_data[merged_data['id_in_movielens'].isin(rated_movies_test)]\n",
    "\n",
    "\n",
    "print(merged_data_test[['id_in_movielens', 'overview']])"
   ]
  },
  {
   "cell_type": "code",
   "execution_count": 21,
   "id": "8e747ab7",
   "metadata": {},
   "outputs": [
    {
     "data": {
      "text/plain": "      id_in_movielens  id_in_metadata  adult  \\\n0                   1             862  False   \n1                   2             710  False   \n2                   3               5  False   \n3                   4            8012  False   \n4                   5            1710  False   \n...               ...             ...    ...   \n1475             1442           10533  False   \n1479             1477            2212  False   \n1481             1479           58372  False   \n1483             1527           12538  False   \n1484             1529           11902  False   \n\n                                  belongs_to_collection    budget  \\\n0     {'id': 10194, 'name': 'Toy Story Collection', ...  30000000   \n1     {'id': 645, 'name': 'James Bond Collection', '...  58000000   \n2                                                   NaN   4000000   \n3     {'id': 91698, 'name': 'Chili Palmer Collection...  30250000   \n4                                                   NaN         0   \n...                                                 ...       ...   \n1475                                                NaN  50000000   \n1479                                                NaN         0   \n1481                                                NaN         0   \n1483                                                NaN         0   \n1484                                                NaN  14000000   \n\n                                                 genres  \\\n0     [{'id': 16, 'name': 'Animation'}, {'id': 35, '...   \n1     [{'id': 12, 'name': 'Adventure'}, {'id': 28, '...   \n2     [{'id': 80, 'name': 'Crime'}, {'id': 35, 'name...   \n3     [{'id': 35, 'name': 'Comedy'}, {'id': 53, 'nam...   \n4     [{'id': 18, 'name': 'Drama'}, {'id': 53, 'name...   \n...                                                 ...   \n1475  [{'id': 18, 'name': 'Drama'}, {'id': 36, 'name...   \n1479  [{'id': 28, 'name': 'Action'}, {'id': 18, 'nam...   \n1481  [{'id': 14, 'name': 'Fantasy'}, {'id': 35, 'na...   \n1483  [{'id': 35, 'name': 'Comedy'}, {'id': 10749, '...   \n1484  [{'id': 10752, 'name': 'War'}, {'id': 18, 'nam...   \n\n                                          homepage     id    imdb_id  \\\n0             http://toystory.disney.com/toy-story    862  tt0114709   \n1     http://www.mgm.com/view/movie/757/Goldeneye/    710  tt0113189   \n2                                              NaN      5  tt0113101   \n3                                              NaN   8012  tt0113161   \n4                                              NaN   1710  tt0112722   \n...                                            ...    ...        ...   \n1475                                           NaN  10533  tt0114345   \n1479                                           NaN   2212  tt0119791   \n1481                                           NaN  58372  tt0114241   \n1483                                           NaN  12538  tt0120820   \n1484                                           NaN  11902  tt0114787   \n\n     original_language  ... release_date      revenue runtime  \\\n0                   en  ...   1995-10-30  373554033.0    81.0   \n1                   en  ...   1995-11-16  352194034.0   130.0   \n2                   en  ...   1995-12-09    4300000.0    98.0   \n3                   en  ...   1995-10-20  115101622.0   105.0   \n4                   en  ...   1995-10-27          0.0   124.0   \n...                ...  ...          ...          ...     ...   \n1475                en  ...   1995-10-13   10382407.0   135.0   \n1479                en  ...   1997-01-31    1179002.0   102.0   \n1481                en  ...   1995-11-17          0.0    91.0   \n1483                pt  ...   1998-02-20   13035599.0    93.0   \n1484                sr  ...   1995-04-11          0.0   170.0   \n\n                                       spoken_languages    status  \\\n0              [{'iso_639_1': 'en', 'name': 'English'}]  Released   \n1     [{'iso_639_1': 'en', 'name': 'English'}, {'iso...  Released   \n2              [{'iso_639_1': 'en', 'name': 'English'}]  Released   \n3              [{'iso_639_1': 'en', 'name': 'English'}]  Released   \n4     [{'iso_639_1': 'en', 'name': 'English'}, {'iso...  Released   \n...                                                 ...       ...   \n1475           [{'iso_639_1': 'en', 'name': 'English'}]  Released   \n1479           [{'iso_639_1': 'en', 'name': 'English'}]  Released   \n1481           [{'iso_639_1': 'en', 'name': 'English'}]  Released   \n1483  [{'iso_639_1': 'en', 'name': 'English'}, {'iso...  Released   \n1484  [{'iso_639_1': 'en', 'name': 'English'}, {'iso...  Released   \n\n                                                tagline               title  \\\n0                                                   NaN           Toy Story   \n1                  No limits. No fears. No substitutes.           GoldenEye   \n2     Twelve outrageous guests. Four scandalous requ...          Four Rooms   \n3     The mob is tough, but it’s nothing like show b...          Get Shorty   \n4     One man is copying the most notorious killers ...             Copycat   \n...                                                 ...                 ...   \n1475  When intimacy is forbidden and passion is a si...  The Scarlet Letter   \n1479                                                NaN          Nightwatch   \n1481                   The most twisted Christmas ever.            Reckless   \n1483  A secret experiment gave him super senses. The...           Senseless   \n1484                                                NaN         Underground   \n\n      video  vote_average vote_count  \n0     False           7.7     5415.0  \n1     False           6.6     1194.0  \n2     False           6.5      539.0  \n3     False           6.4      305.0  \n4     False           6.5      199.0  \n...     ...           ...        ...  \n1475  False           5.5      111.0  \n1479  False           6.2      104.0  \n1481  False          10.0        1.0  \n1483  False           5.8       76.0  \n1484  False           7.5      143.0  \n\n[1286 rows x 26 columns]",
      "text/html": "<div>\n<style scoped>\n    .dataframe tbody tr th:only-of-type {\n        vertical-align: middle;\n    }\n\n    .dataframe tbody tr th {\n        vertical-align: top;\n    }\n\n    .dataframe thead th {\n        text-align: right;\n    }\n</style>\n<table border=\"1\" class=\"dataframe\">\n  <thead>\n    <tr style=\"text-align: right;\">\n      <th></th>\n      <th>id_in_movielens</th>\n      <th>id_in_metadata</th>\n      <th>adult</th>\n      <th>belongs_to_collection</th>\n      <th>budget</th>\n      <th>genres</th>\n      <th>homepage</th>\n      <th>id</th>\n      <th>imdb_id</th>\n      <th>original_language</th>\n      <th>...</th>\n      <th>release_date</th>\n      <th>revenue</th>\n      <th>runtime</th>\n      <th>spoken_languages</th>\n      <th>status</th>\n      <th>tagline</th>\n      <th>title</th>\n      <th>video</th>\n      <th>vote_average</th>\n      <th>vote_count</th>\n    </tr>\n  </thead>\n  <tbody>\n    <tr>\n      <th>0</th>\n      <td>1</td>\n      <td>862</td>\n      <td>False</td>\n      <td>{'id': 10194, 'name': 'Toy Story Collection', ...</td>\n      <td>30000000</td>\n      <td>[{'id': 16, 'name': 'Animation'}, {'id': 35, '...</td>\n      <td>http://toystory.disney.com/toy-story</td>\n      <td>862</td>\n      <td>tt0114709</td>\n      <td>en</td>\n      <td>...</td>\n      <td>1995-10-30</td>\n      <td>373554033.0</td>\n      <td>81.0</td>\n      <td>[{'iso_639_1': 'en', 'name': 'English'}]</td>\n      <td>Released</td>\n      <td>NaN</td>\n      <td>Toy Story</td>\n      <td>False</td>\n      <td>7.7</td>\n      <td>5415.0</td>\n    </tr>\n    <tr>\n      <th>1</th>\n      <td>2</td>\n      <td>710</td>\n      <td>False</td>\n      <td>{'id': 645, 'name': 'James Bond Collection', '...</td>\n      <td>58000000</td>\n      <td>[{'id': 12, 'name': 'Adventure'}, {'id': 28, '...</td>\n      <td>http://www.mgm.com/view/movie/757/Goldeneye/</td>\n      <td>710</td>\n      <td>tt0113189</td>\n      <td>en</td>\n      <td>...</td>\n      <td>1995-11-16</td>\n      <td>352194034.0</td>\n      <td>130.0</td>\n      <td>[{'iso_639_1': 'en', 'name': 'English'}, {'iso...</td>\n      <td>Released</td>\n      <td>No limits. No fears. No substitutes.</td>\n      <td>GoldenEye</td>\n      <td>False</td>\n      <td>6.6</td>\n      <td>1194.0</td>\n    </tr>\n    <tr>\n      <th>2</th>\n      <td>3</td>\n      <td>5</td>\n      <td>False</td>\n      <td>NaN</td>\n      <td>4000000</td>\n      <td>[{'id': 80, 'name': 'Crime'}, {'id': 35, 'name...</td>\n      <td>NaN</td>\n      <td>5</td>\n      <td>tt0113101</td>\n      <td>en</td>\n      <td>...</td>\n      <td>1995-12-09</td>\n      <td>4300000.0</td>\n      <td>98.0</td>\n      <td>[{'iso_639_1': 'en', 'name': 'English'}]</td>\n      <td>Released</td>\n      <td>Twelve outrageous guests. Four scandalous requ...</td>\n      <td>Four Rooms</td>\n      <td>False</td>\n      <td>6.5</td>\n      <td>539.0</td>\n    </tr>\n    <tr>\n      <th>3</th>\n      <td>4</td>\n      <td>8012</td>\n      <td>False</td>\n      <td>{'id': 91698, 'name': 'Chili Palmer Collection...</td>\n      <td>30250000</td>\n      <td>[{'id': 35, 'name': 'Comedy'}, {'id': 53, 'nam...</td>\n      <td>NaN</td>\n      <td>8012</td>\n      <td>tt0113161</td>\n      <td>en</td>\n      <td>...</td>\n      <td>1995-10-20</td>\n      <td>115101622.0</td>\n      <td>105.0</td>\n      <td>[{'iso_639_1': 'en', 'name': 'English'}]</td>\n      <td>Released</td>\n      <td>The mob is tough, but it’s nothing like show b...</td>\n      <td>Get Shorty</td>\n      <td>False</td>\n      <td>6.4</td>\n      <td>305.0</td>\n    </tr>\n    <tr>\n      <th>4</th>\n      <td>5</td>\n      <td>1710</td>\n      <td>False</td>\n      <td>NaN</td>\n      <td>0</td>\n      <td>[{'id': 18, 'name': 'Drama'}, {'id': 53, 'name...</td>\n      <td>NaN</td>\n      <td>1710</td>\n      <td>tt0112722</td>\n      <td>en</td>\n      <td>...</td>\n      <td>1995-10-27</td>\n      <td>0.0</td>\n      <td>124.0</td>\n      <td>[{'iso_639_1': 'en', 'name': 'English'}, {'iso...</td>\n      <td>Released</td>\n      <td>One man is copying the most notorious killers ...</td>\n      <td>Copycat</td>\n      <td>False</td>\n      <td>6.5</td>\n      <td>199.0</td>\n    </tr>\n    <tr>\n      <th>...</th>\n      <td>...</td>\n      <td>...</td>\n      <td>...</td>\n      <td>...</td>\n      <td>...</td>\n      <td>...</td>\n      <td>...</td>\n      <td>...</td>\n      <td>...</td>\n      <td>...</td>\n      <td>...</td>\n      <td>...</td>\n      <td>...</td>\n      <td>...</td>\n      <td>...</td>\n      <td>...</td>\n      <td>...</td>\n      <td>...</td>\n      <td>...</td>\n      <td>...</td>\n      <td>...</td>\n    </tr>\n    <tr>\n      <th>1475</th>\n      <td>1442</td>\n      <td>10533</td>\n      <td>False</td>\n      <td>NaN</td>\n      <td>50000000</td>\n      <td>[{'id': 18, 'name': 'Drama'}, {'id': 36, 'name...</td>\n      <td>NaN</td>\n      <td>10533</td>\n      <td>tt0114345</td>\n      <td>en</td>\n      <td>...</td>\n      <td>1995-10-13</td>\n      <td>10382407.0</td>\n      <td>135.0</td>\n      <td>[{'iso_639_1': 'en', 'name': 'English'}]</td>\n      <td>Released</td>\n      <td>When intimacy is forbidden and passion is a si...</td>\n      <td>The Scarlet Letter</td>\n      <td>False</td>\n      <td>5.5</td>\n      <td>111.0</td>\n    </tr>\n    <tr>\n      <th>1479</th>\n      <td>1477</td>\n      <td>2212</td>\n      <td>False</td>\n      <td>NaN</td>\n      <td>0</td>\n      <td>[{'id': 28, 'name': 'Action'}, {'id': 18, 'nam...</td>\n      <td>NaN</td>\n      <td>2212</td>\n      <td>tt0119791</td>\n      <td>en</td>\n      <td>...</td>\n      <td>1997-01-31</td>\n      <td>1179002.0</td>\n      <td>102.0</td>\n      <td>[{'iso_639_1': 'en', 'name': 'English'}]</td>\n      <td>Released</td>\n      <td>NaN</td>\n      <td>Nightwatch</td>\n      <td>False</td>\n      <td>6.2</td>\n      <td>104.0</td>\n    </tr>\n    <tr>\n      <th>1481</th>\n      <td>1479</td>\n      <td>58372</td>\n      <td>False</td>\n      <td>NaN</td>\n      <td>0</td>\n      <td>[{'id': 14, 'name': 'Fantasy'}, {'id': 35, 'na...</td>\n      <td>NaN</td>\n      <td>58372</td>\n      <td>tt0114241</td>\n      <td>en</td>\n      <td>...</td>\n      <td>1995-11-17</td>\n      <td>0.0</td>\n      <td>91.0</td>\n      <td>[{'iso_639_1': 'en', 'name': 'English'}]</td>\n      <td>Released</td>\n      <td>The most twisted Christmas ever.</td>\n      <td>Reckless</td>\n      <td>False</td>\n      <td>10.0</td>\n      <td>1.0</td>\n    </tr>\n    <tr>\n      <th>1483</th>\n      <td>1527</td>\n      <td>12538</td>\n      <td>False</td>\n      <td>NaN</td>\n      <td>0</td>\n      <td>[{'id': 35, 'name': 'Comedy'}, {'id': 10749, '...</td>\n      <td>NaN</td>\n      <td>12538</td>\n      <td>tt0120820</td>\n      <td>pt</td>\n      <td>...</td>\n      <td>1998-02-20</td>\n      <td>13035599.0</td>\n      <td>93.0</td>\n      <td>[{'iso_639_1': 'en', 'name': 'English'}, {'iso...</td>\n      <td>Released</td>\n      <td>A secret experiment gave him super senses. The...</td>\n      <td>Senseless</td>\n      <td>False</td>\n      <td>5.8</td>\n      <td>76.0</td>\n    </tr>\n    <tr>\n      <th>1484</th>\n      <td>1529</td>\n      <td>11902</td>\n      <td>False</td>\n      <td>NaN</td>\n      <td>14000000</td>\n      <td>[{'id': 10752, 'name': 'War'}, {'id': 18, 'nam...</td>\n      <td>NaN</td>\n      <td>11902</td>\n      <td>tt0114787</td>\n      <td>sr</td>\n      <td>...</td>\n      <td>1995-04-11</td>\n      <td>0.0</td>\n      <td>170.0</td>\n      <td>[{'iso_639_1': 'en', 'name': 'English'}, {'iso...</td>\n      <td>Released</td>\n      <td>NaN</td>\n      <td>Underground</td>\n      <td>False</td>\n      <td>7.5</td>\n      <td>143.0</td>\n    </tr>\n  </tbody>\n</table>\n<p>1286 rows × 26 columns</p>\n</div>"
     },
     "execution_count": 21,
     "metadata": {},
     "output_type": "execute_result"
    }
   ],
   "source": [
    "merged_data_test"
   ]
  },
  {
   "cell_type": "markdown",
   "id": "dca72f74",
   "metadata": {},
   "source": [
    "- Compute user and item statistics (such as distribution of ratings per user/item, the top 5 most popular items) for the training set train.data and write a discussion;"
   ]
  },
  {
   "cell_type": "code",
   "execution_count": 22,
   "id": "e08370a4",
   "metadata": {},
   "outputs": [
    {
     "name": "stdout",
     "output_type": "stream",
     "text": [
      "User statistics:\n",
      "count    943.000000\n",
      "mean      84.835631\n",
      "std       83.806416\n",
      "min        4.000000\n",
      "25%       27.000000\n",
      "50%       50.000000\n",
      "75%      115.000000\n",
      "max      685.000000\n",
      "Name: user_id, dtype: float64\n"
     ]
    }
   ],
   "source": [
    "# Compute number of ratings per user\n",
    "user_counts = train_df['user_id'].value_counts()\n",
    "print('User statistics:')\n",
    "print(user_counts.describe())"
   ]
  },
  {
   "cell_type": "code",
   "execution_count": 23,
   "id": "17afd8e3",
   "metadata": {},
   "outputs": [
    {
     "name": "stdout",
     "output_type": "stream",
     "text": [
      "Item statistics:\n",
      "count    1650.000000\n",
      "mean       48.484848\n",
      "std        65.035206\n",
      "min         1.000000\n",
      "25%         5.250000\n",
      "50%        22.000000\n",
      "75%        65.000000\n",
      "max       484.000000\n",
      "Name: movie_id, dtype: float64\n"
     ]
    }
   ],
   "source": [
    "# Compute number of ratings per item\n",
    "item_counts = train_df['movie_id'].value_counts()\n",
    "print('Item statistics:')\n",
    "print(item_counts.describe())"
   ]
  },
  {
   "cell_type": "code",
   "execution_count": 24,
   "id": "cc5d3a69",
   "metadata": {},
   "outputs": [
    {
     "name": "stdout",
     "output_type": "stream",
     "text": [
      "Top 5 most popular items:\n",
      "50     484\n",
      "181    422\n",
      "258    402\n",
      "100    395\n",
      "294    394\n",
      "Name: movie_id, dtype: int64\n"
     ]
    }
   ],
   "source": [
    "# Compute top 5 most popular items\n",
    "top_items = item_counts.sort_values(ascending=False)[:5]\n",
    "print('Top 5 most popular items:')\n",
    "print(top_items)"
   ]
  },
  {
   "cell_type": "code",
   "execution_count": 25,
   "id": "c1088332",
   "metadata": {},
   "outputs": [
    {
     "name": "stdout",
     "output_type": "stream",
     "text": [
      "Size of train data with an overview:  75443\n",
      "Number of ratings per user:\n",
      "count    943.000000\n",
      "mean      80.003181\n",
      "std       78.797053\n",
      "min        4.000000\n",
      "25%       26.000000\n",
      "50%       49.000000\n",
      "75%      109.500000\n",
      "max      635.000000\n",
      "Name: user_id, dtype: float64\n",
      "\n",
      "Number of ratings per movie:\n",
      "count    1457.000000\n",
      "mean       51.779684\n",
      "std        66.882843\n",
      "min         1.000000\n",
      "25%         7.000000\n",
      "50%        26.000000\n",
      "75%        69.000000\n",
      "max       484.000000\n",
      "Name: id_in_metadata, dtype: float64\n",
      "\n",
      "Top 5 most popular movies:\n",
      "11      484\n",
      "1892    422\n",
      "686     402\n",
      "275     395\n",
      "1624    394\n",
      "Name: id_in_metadata, dtype: int64\n",
      "\n",
      "Average rating per movie:\n",
      "id_in_metadata\n",
      "5         3.000000\n",
      "6         2.631579\n",
      "11        4.359504\n",
      "13        3.872587\n",
      "15        4.284810\n",
      "            ...   \n",
      "316098    3.500000\n",
      "340210    2.000000\n",
      "407992    2.000000\n",
      "410921    3.166667\n",
      "438108    1.500000\n",
      "Name: rating, Length: 1457, dtype: float64\n",
      "\n",
      "Average rating of all movies:\n",
      "3.1245082035231935\n",
      "\n",
      "Number of average rating per movie:\n",
      "count    1457.000000\n",
      "mean        3.124508\n",
      "std         0.731821\n",
      "min         1.000000\n",
      "25%         2.711111\n",
      "50%         3.200000\n",
      "75%         3.661765\n",
      "max         5.000000\n",
      "Name: rating, dtype: float64\n"
     ]
    }
   ],
   "source": [
    "train_data_df = pd.merge(train_df, merged_data_train, left_on=\"movie_id\", right_on=\"id_in_movielens\") # first atempt\n",
    "# train_data_df = pd.merge(train_df, merged_data_ok, left_on=\"movie_id\", right_on=\"id_in_movielens\")\n",
    "# test_data_df = pd.merge(train_df, merged_data_test, left_on=\"movie_id\", right_on=\"id_in_movielens\")\n",
    "\n",
    "print(\"Size of train data with an overview: \", len(train_data_df))\n",
    "\n",
    "# Compute user and item statistics\n",
    "user_counts = train_data_df[\"user_id\"].value_counts()\n",
    "item_counts = train_data_df[\"id_in_metadata\"].value_counts()\n",
    "avg_ratings = train_data_df.groupby(\"id_in_metadata\")[\"rating\"].mean()\n",
    "\n",
    "# Print the results\n",
    "print(\"Number of ratings per user:\")\n",
    "print(user_counts.describe())\n",
    "print(\"\\nNumber of ratings per movie:\")\n",
    "print(item_counts.describe())\n",
    "print(\"\\nTop 5 most popular movies:\")\n",
    "print(item_counts.head(5))\n",
    "print(\"\\nAverage rating per movie:\")\n",
    "print(avg_ratings)\n",
    "print(\"\\nAverage rating of all movies:\")\n",
    "print(avg_ratings.mean())\n",
    "print(\"\\nNumber of average rating per movie:\")\n",
    "print(avg_ratings.describe())"
   ]
  },
  {
   "cell_type": "code",
   "execution_count": 26,
   "outputs": [],
   "source": [
    "test_data_df = pd.merge(test_df, merged_data_test, left_on=\"movie_id\", right_on=\"id_in_movielens\")\n"
   ],
   "metadata": {
    "collapsed": false
   }
  },
  {
   "cell_type": "code",
   "execution_count": 27,
   "id": "6f0bdb24",
   "metadata": {},
   "outputs": [
    {
     "data": {
      "text/plain": "<Figure size 1000x600 with 1 Axes>",
      "image/png": "[encoded data removed]"
     },
     "metadata": {},
     "output_type": "display_data"
    }
   ],
   "source": [
    "# nu e cerut\n",
    "\n",
    "import matplotlib.pyplot as plt\n",
    "\n",
    "# item_counts = train_df['movie_id'].value_counts()\n",
    "item_counts = train_data_df['movie_id'].value_counts()\n",
    "plt.figure(figsize=(10, 6))\n",
    "plt.bar(range(len(item_counts)), item_counts.values)\n",
    "plt.xlabel('Movie id')\n",
    "plt.ylabel('Number of ratings(Frequency)')\n",
    "plt.show()"
   ]
  },
  {
   "cell_type": "code",
   "execution_count": 28,
   "id": "dc91e05e",
   "metadata": {},
   "outputs": [
    {
     "data": {
      "text/plain": "<Figure size 1000x600 with 1 Axes>",
      "image/png": "[encoded data removed]"
     },
     "metadata": {},
     "output_type": "display_data"
    }
   ],
   "source": [
    "\n",
    "# user_counts = train_df['user_id'].value_counts()\n",
    "user_counts = train_data_df['user_id'].value_counts()\n",
    "plt.figure(figsize=(10, 6))\n",
    "plt.bar(range(len(user_counts)), user_counts.values)\n",
    "plt.xlabel('User id')\n",
    "plt.ylabel('Number of ratings(Frequency)')\n",
    "plt.show()"
   ]
  },
  {
   "cell_type": "code",
   "execution_count": 29,
   "id": "c02bd3c0",
   "metadata": {},
   "outputs": [
    {
     "data": {
      "text/plain": "<Figure size 1000x600 with 1 Axes>",
      "image/png": "[encoded data removed]"
     },
     "metadata": {},
     "output_type": "display_data"
    }
   ],
   "source": [
    "\n",
    "# movie_ratings = train_df.groupby('movie_id')['rating'].mean()\n",
    "movie_ratings = train_data_df.groupby('movie_id')['rating'].mean()\n",
    "\n",
    "plt.figure(figsize=(10, 6))\n",
    "plt.bar(range(len(movie_ratings)), movie_ratings.values)\n",
    "plt.xlabel('Movie id')\n",
    "plt.ylabel('Average rating')\n",
    "plt.show()"
   ]
  },
  {
   "cell_type": "markdown",
   "id": "152cbe3d",
   "metadata": {},
   "source": [
    "## Discussion\n",
    "\n",
    "I calculated the distribution of user and film ratings, as well as average user rating and film. Also, I calculated the first 5 most popular elements based on the number of evaluations. Besides this I also made the graphs of the distributions of user ratings and movie ratings, as well as the chart of average rating for each film.\n",
    "Based on the data observed after performing statistics on items and users, we can deduce the following:\n",
    "A first observation that we can easily deduce from charters, but also from statistics is that the data set is quite scatter. On average one user has rated 80 films, but we also have a standard 78.8 deviation, which indicate a great variation in the number of films that each user has evaluated.The minimum number of films evaluated by a user is 4 and the maximum is 635, indicating that some user have specific tastes, while others are more versatile and evaluate more films.\n",
    "Another observation we can make is that some movies are rated more than others. On average a film has 51 ratings with a standard deviation of 66.9, indicating that the number of ratings on film varies a lot. The minimum number of ratings of a film is 1, and the maximum is 484. From the top 5 the most rated films that have at least 390 ratings, we can some films are more popular than others. From here comes the problem of creating a recommendation system that is not a biased.\n",
    "Another easy thing to see is that on average a movie has a rating of 3.12, and the rating range has as a minimum of 1 and maximum 5. The standard deviation of 0.7318 indicates that there is some variability in the movie ratings, some movies being evaluated much higher or lower than the average. From here we deduce that on average the films are rated above average. This is not necessarily a positive thing, because we can assume that users tend to overate movies."
   ]
  },
  {
   "cell_type": "markdown",
   "id": "396b65ca",
   "metadata": {},
   "source": [
    "- Does the dataset have important properties that should be taken into account or that may mislead the evaluation?\n"
   ]
  },
  {
   "cell_type": "markdown",
   "id": "0c134f96",
   "metadata": {},
   "source": [
    "## Answer\n",
    "Based on the calculated statistics, the data set has some important properties that should be taken into account during the evaluation.\n",
    "\n",
    "First of all, because it is such a big difference between the number of users ratings, the minimum being 4 and the maximum of 635, the system could be biased with the more active users' preferences.\n",
    "Secondly, because it is a big difference between the number of film ratings, the minimum number of ratings of a movie being 1 and the maximum of 484, the recommendations could be a biased towards the more popular movies.\n",
    "Lastly, due to the average rating per movie of 3.12 out of 5, there is the problem of over-rating the movies by users. This could impact the accuracy of the recommendation model."
   ]
  },
  {
   "cell_type": "markdown",
   "id": "45e37d8b",
   "metadata": {},
   "source": [
    "- Compute the frequency of movies that were rated highly, i.e., rating 3-5.\n",
    "How many times was each movie rated highly by user?"
   ]
  },
  {
   "cell_type": "code",
   "execution_count": 30,
   "id": "c0f5d7a6",
   "metadata": {},
   "outputs": [
    {
     "name": "stdout",
     "output_type": "stream",
     "text": [
      "id_in_movielens\n",
      "1       353\n",
      "2        84\n",
      "3        47\n",
      "4       144\n",
      "5        56\n",
      "       ... \n",
      "1674      1\n",
      "1675      1\n",
      "1677      1\n",
      "1679      1\n",
      "1682      1\n",
      "Name: rating, Length: 1394, dtype: int64\n",
      "1394\n"
     ]
    }
   ],
   "source": [
    "high_ratings = train_data_df[train_data_df['rating'].isin([3, 4, 5])]\n",
    "freq_high_ratings = high_ratings.groupby('id_in_movielens')['rating'].count()\n",
    "\n",
    "# Print the result\n",
    "print(freq_high_ratings)\n",
    "print(len(freq_high_ratings))"
   ]
  },
  {
   "cell_type": "code",
   "execution_count": 31,
   "id": "2af43dfa",
   "metadata": {},
   "outputs": [
    {
     "data": {
      "text/plain": "<Figure size 1000x600 with 1 Axes>",
      "image/png": "[encoded data removed]"
     },
     "metadata": {},
     "output_type": "display_data"
    }
   ],
   "source": [
    "\n",
    "fig, ax = plt.subplots(figsize=(10,6))\n",
    "ax.bar(freq_high_ratings.index, freq_high_ratings.values)\n",
    "\n",
    "# set axis labels and title\n",
    "ax.set_xlabel('Movie ID')\n",
    "ax.set_ylabel('Frequency of high ratings')\n",
    "ax.set_title('Frequency of Movies Rated Highly')\n",
    "\n",
    "# rotate x-axis labels for better visibility\n",
    "plt.xticks(rotation=90)\n",
    "\n",
    "# show the plot\n",
    "plt.show()"
   ]
  },
  {
   "cell_type": "markdown",
   "id": "8b4b8836",
   "metadata": {},
   "source": [
    "# 2) Week 7"
   ]
  },
  {
   "cell_type": "markdown",
   "id": "89d02961",
   "metadata": {},
   "source": [
    "- Based on the frequency of highly-rated movies computed in Week 6, implement the TopPop recommender system, which should recommend the top-k movies with high ratings in the training split, train.data."
   ]
  },
  {
   "cell_type": "code",
   "execution_count": 32,
   "id": "62ad4322",
   "metadata": {},
   "outputs": [
    {
     "name": "stdout",
     "output_type": "stream",
     "text": [
      "[50, 181, 100, 258, 1]\n"
     ]
    }
   ],
   "source": [
    "# converting None values to 0\n",
    "freq_high_ratings = {k: v if v is not None else 0 for k, v in freq_high_ratings.items()}\n",
    "\n",
    "def top_pop_recommendations(freq_high_ratings, k=10):\n",
    "    # Sort the movies by their rating frequency in descending order\n",
    "    sorted_movies = sorted(freq_high_ratings, key=freq_high_ratings.get, reverse=True)\n",
    "\n",
    "    # Recommend the top-k movies with the highest rating frequency\n",
    "    recommended_movies = sorted_movies[:k]\n",
    "\n",
    "    return recommended_movies\n",
    "# Example usage: recommend the top-5 movies\n",
    "recommended_movies = top_pop_recommendations( freq_high_ratings, k=5)\n",
    "print(recommended_movies)"
   ]
  },
  {
   "cell_type": "markdown",
   "id": "a37652ee",
   "metadata": {},
   "source": [
    "- Choose at least one neighborhood-based model and one latent factor model that uses the observed user-item ratings in the training set to predict the unobserved ratings. Report your choice of models"
   ]
  },
  {
   "cell_type": "markdown",
   "source": [
    "Since the chosen data set has a small number of movies but also a relatively small number of people, any neighborhood-based model is good to be used, but if we consider the previously mentioned observations, we can see that in this case it is better to use a user-based model. Besides that, another factor that made me choose this model instead of the other one is the large variation in the number of movies that each user has rated.\n",
    "For the latent factor model, I chose to use the SVD, because the data set contains sparse and noisy data, and this model can deal with these problems."
   ],
   "metadata": {
    "collapsed": false
   }
  },
  {
   "cell_type": "code",
   "execution_count": 33,
   "outputs": [
    {
     "data": {
      "text/plain": "       user_id  movie_id  rating  timestamp  id_in_movielens  id_in_metadata  \\\n0            1         1       5  874965758                1             862   \n1            2         1       4  888550871                1             862   \n2            6         1       4  883599478                1             862   \n3           13         1       3  882140487                1             862   \n4           16         1       5  877717833                1             862   \n...        ...       ...     ...        ...              ...             ...   \n75438      851      1676       2  875731674             1676           59232   \n75439      854      1677       3  882814368             1677          124851   \n75440      863      1679       3  889289491             1679            2923   \n75441      863      1680       2  889289570             1680           10215   \n75442      916      1682       3  880845755             1682           88893   \n\n       adult                              belongs_to_collection    budget  \\\n0      False  {'id': 10194, 'name': 'Toy Story Collection', ...  30000000   \n1      False  {'id': 10194, 'name': 'Toy Story Collection', ...  30000000   \n2      False  {'id': 10194, 'name': 'Toy Story Collection', ...  30000000   \n3      False  {'id': 10194, 'name': 'Toy Story Collection', ...  30000000   \n4      False  {'id': 10194, 'name': 'Toy Story Collection', ...  30000000   \n...      ...                                                ...       ...   \n75438  False                                                NaN         0   \n75439  False                                                NaN         0   \n75440  False                                                NaN         0   \n75441  False                                                NaN   6000000   \n75442  False                                                NaN         0   \n\n                                                  genres  ... release_date  \\\n0      [{'id': 16, 'name': 'Animation'}, {'id': 35, '...  ...   1995-10-30   \n1      [{'id': 16, 'name': 'Animation'}, {'id': 35, '...  ...   1995-10-30   \n2      [{'id': 16, 'name': 'Animation'}, {'id': 35, '...  ...   1995-10-30   \n3      [{'id': 16, 'name': 'Animation'}, {'id': 35, '...  ...   1995-10-30   \n4      [{'id': 16, 'name': 'Animation'}, {'id': 35, '...  ...   1995-10-30   \n...                                                  ...  ...          ...   \n75438                      [{'id': 18, 'name': 'Drama'}]  ...   1996-11-20   \n75439                                                 []  ...   1995-06-08   \n75440  [{'id': 10749, 'name': 'Romance'}, {'id': 80, ...  ...   1998-11-07   \n75441  [{'id': 35, 'name': 'Comedy'}, {'id': 18, 'nam...  ...   1998-04-23   \n75442  [{'id': 12, 'name': 'Adventure'}, {'id': 18, '...  ...   1991-01-01   \n\n           revenue runtime                                   spoken_languages  \\\n0      373554033.0    81.0           [{'iso_639_1': 'en', 'name': 'English'}]   \n1      373554033.0    81.0           [{'iso_639_1': 'en', 'name': 'English'}]   \n2      373554033.0    81.0           [{'iso_639_1': 'en', 'name': 'English'}]   \n3      373554033.0    81.0           [{'iso_639_1': 'en', 'name': 'English'}]   \n4      373554033.0    81.0           [{'iso_639_1': 'en', 'name': 'English'}]   \n...            ...     ...                                                ...   \n75438          0.0   119.0           [{'iso_639_1': 'en', 'name': 'English'}]   \n75439          0.0    89.0                                                 []   \n75440          0.0    94.0  [{'iso_639_1': 'fr', 'name': 'Français'}, {'is...   \n75441   58000000.0    99.0           [{'iso_639_1': 'en', 'name': 'English'}]   \n75442          0.0   105.0  [{'iso_639_1': 'it', 'name': 'Italiano'}, {'is...   \n\n         status                                            tagline  \\\n0      Released                                                NaN   \n1      Released                                                NaN   \n2      Released                                                NaN   \n3      Released                                                NaN   \n4      Released                                                NaN   \n...         ...                                                ...   \n75438   Rumored                There Is A Secret About To Explode.   \n75439  Released                                                NaN   \n75440  Released                      Trouble never looked so good.   \n75441  Released  What if one split second sent your life in two...   \n75442  Released            In this battle, there can be no winners   \n\n                 title  video vote_average vote_count  \n0            Toy Story  False          7.7     5415.0  \n1            Toy Story  False          7.7     5415.0  \n2            Toy Story  False          7.7     5415.0  \n3            Toy Story  False          7.7     5415.0  \n4            Toy Story  False          7.7     5415.0  \n...                ...    ...          ...        ...  \n75438  The War at Home  False          6.9        7.0  \n75439    Sweet Nothing  False          5.0        2.0  \n75440        B. Monkey  False          5.8       14.0  \n75441    Sliding Doors  False          6.6      363.0  \n75442  Scream of Stone  False          7.5        4.0  \n\n[75443 rows x 30 columns]",
      "text/html": "<div>\n<style scoped>\n    .dataframe tbody tr th:only-of-type {\n        vertical-align: middle;\n    }\n\n    .dataframe tbody tr th {\n        vertical-align: top;\n    }\n\n    .dataframe thead th {\n        text-align: right;\n    }\n</style>\n<table border=\"1\" class=\"dataframe\">\n  <thead>\n    <tr style=\"text-align: right;\">\n      <th></th>\n      <th>user_id</th>\n      <th>movie_id</th>\n      <th>rating</th>\n      <th>timestamp</th>\n      <th>id_in_movielens</th>\n      <th>id_in_metadata</th>\n      <th>adult</th>\n      <th>belongs_to_collection</th>\n      <th>budget</th>\n      <th>genres</th>\n      <th>...</th>\n      <th>release_date</th>\n      <th>revenue</th>\n      <th>runtime</th>\n      <th>spoken_languages</th>\n      <th>status</th>\n      <th>tagline</th>\n      <th>title</th>\n      <th>video</th>\n      <th>vote_average</th>\n      <th>vote_count</th>\n    </tr>\n  </thead>\n  <tbody>\n    <tr>\n      <th>0</th>\n      <td>1</td>\n      <td>1</td>\n      <td>5</td>\n      <td>874965758</td>\n      <td>1</td>\n      <td>862</td>\n      <td>False</td>\n      <td>{'id': 10194, 'name': 'Toy Story Collection', ...</td>\n      <td>30000000</td>\n      <td>[{'id': 16, 'name': 'Animation'}, {'id': 35, '...</td>\n      <td>...</td>\n      <td>1995-10-30</td>\n      <td>373554033.0</td>\n      <td>81.0</td>\n      <td>[{'iso_639_1': 'en', 'name': 'English'}]</td>\n      <td>Released</td>\n      <td>NaN</td>\n      <td>Toy Story</td>\n      <td>False</td>\n      <td>7.7</td>\n      <td>5415.0</td>\n    </tr>\n    <tr>\n      <th>1</th>\n      <td>2</td>\n      <td>1</td>\n      <td>4</td>\n      <td>888550871</td>\n      <td>1</td>\n      <td>862</td>\n      <td>False</td>\n      <td>{'id': 10194, 'name': 'Toy Story Collection', ...</td>\n      <td>30000000</td>\n      <td>[{'id': 16, 'name': 'Animation'}, {'id': 35, '...</td>\n      <td>...</td>\n      <td>1995-10-30</td>\n      <td>373554033.0</td>\n      <td>81.0</td>\n      <td>[{'iso_639_1': 'en', 'name': 'English'}]</td>\n      <td>Released</td>\n      <td>NaN</td>\n      <td>Toy Story</td>\n      <td>False</td>\n      <td>7.7</td>\n      <td>5415.0</td>\n    </tr>\n    <tr>\n      <th>2</th>\n      <td>6</td>\n      <td>1</td>\n      <td>4</td>\n      <td>883599478</td>\n      <td>1</td>\n      <td>862</td>\n      <td>False</td>\n      <td>{'id': 10194, 'name': 'Toy Story Collection', ...</td>\n      <td>30000000</td>\n      <td>[{'id': 16, 'name': 'Animation'}, {'id': 35, '...</td>\n      <td>...</td>\n      <td>1995-10-30</td>\n      <td>373554033.0</td>\n      <td>81.0</td>\n      <td>[{'iso_639_1': 'en', 'name': 'English'}]</td>\n      <td>Released</td>\n      <td>NaN</td>\n      <td>Toy Story</td>\n      <td>False</td>\n      <td>7.7</td>\n      <td>5415.0</td>\n    </tr>\n    <tr>\n      <th>3</th>\n      <td>13</td>\n      <td>1</td>\n      <td>3</td>\n      <td>882140487</td>\n      <td>1</td>\n      <td>862</td>\n      <td>False</td>\n      <td>{'id': 10194, 'name': 'Toy Story Collection', ...</td>\n      <td>30000000</td>\n      <td>[{'id': 16, 'name': 'Animation'}, {'id': 35, '...</td>\n      <td>...</td>\n      <td>1995-10-30</td>\n      <td>373554033.0</td>\n      <td>81.0</td>\n      <td>[{'iso_639_1': 'en', 'name': 'English'}]</td>\n      <td>Released</td>\n      <td>NaN</td>\n      <td>Toy Story</td>\n      <td>False</td>\n      <td>7.7</td>\n      <td>5415.0</td>\n    </tr>\n    <tr>\n      <th>4</th>\n      <td>16</td>\n      <td>1</td>\n      <td>5</td>\n      <td>877717833</td>\n      <td>1</td>\n      <td>862</td>\n      <td>False</td>\n      <td>{'id': 10194, 'name': 'Toy Story Collection', ...</td>\n      <td>30000000</td>\n      <td>[{'id': 16, 'name': 'Animation'}, {'id': 35, '...</td>\n      <td>...</td>\n      <td>1995-10-30</td>\n      <td>373554033.0</td>\n      <td>81.0</td>\n      <td>[{'iso_639_1': 'en', 'name': 'English'}]</td>\n      <td>Released</td>\n      <td>NaN</td>\n      <td>Toy Story</td>\n      <td>False</td>\n      <td>7.7</td>\n      <td>5415.0</td>\n    </tr>\n    <tr>\n      <th>...</th>\n      <td>...</td>\n      <td>...</td>\n      <td>...</td>\n      <td>...</td>\n      <td>...</td>\n      <td>...</td>\n      <td>...</td>\n      <td>...</td>\n      <td>...</td>\n      <td>...</td>\n      <td>...</td>\n      <td>...</td>\n      <td>...</td>\n      <td>...</td>\n      <td>...</td>\n      <td>...</td>\n      <td>...</td>\n      <td>...</td>\n      <td>...</td>\n      <td>...</td>\n      <td>...</td>\n    </tr>\n    <tr>\n      <th>75438</th>\n      <td>851</td>\n      <td>1676</td>\n      <td>2</td>\n      <td>875731674</td>\n      <td>1676</td>\n      <td>59232</td>\n      <td>False</td>\n      <td>NaN</td>\n      <td>0</td>\n      <td>[{'id': 18, 'name': 'Drama'}]</td>\n      <td>...</td>\n      <td>1996-11-20</td>\n      <td>0.0</td>\n      <td>119.0</td>\n      <td>[{'iso_639_1': 'en', 'name': 'English'}]</td>\n      <td>Rumored</td>\n      <td>There Is A Secret About To Explode.</td>\n      <td>The War at Home</td>\n      <td>False</td>\n      <td>6.9</td>\n      <td>7.0</td>\n    </tr>\n    <tr>\n      <th>75439</th>\n      <td>854</td>\n      <td>1677</td>\n      <td>3</td>\n      <td>882814368</td>\n      <td>1677</td>\n      <td>124851</td>\n      <td>False</td>\n      <td>NaN</td>\n      <td>0</td>\n      <td>[]</td>\n      <td>...</td>\n      <td>1995-06-08</td>\n      <td>0.0</td>\n      <td>89.0</td>\n      <td>[]</td>\n      <td>Released</td>\n      <td>NaN</td>\n      <td>Sweet Nothing</td>\n      <td>False</td>\n      <td>5.0</td>\n      <td>2.0</td>\n    </tr>\n    <tr>\n      <th>75440</th>\n      <td>863</td>\n      <td>1679</td>\n      <td>3</td>\n      <td>889289491</td>\n      <td>1679</td>\n      <td>2923</td>\n      <td>False</td>\n      <td>NaN</td>\n      <td>0</td>\n      <td>[{'id': 10749, 'name': 'Romance'}, {'id': 80, ...</td>\n      <td>...</td>\n      <td>1998-11-07</td>\n      <td>0.0</td>\n      <td>94.0</td>\n      <td>[{'iso_639_1': 'fr', 'name': 'Français'}, {'is...</td>\n      <td>Released</td>\n      <td>Trouble never looked so good.</td>\n      <td>B. Monkey</td>\n      <td>False</td>\n      <td>5.8</td>\n      <td>14.0</td>\n    </tr>\n    <tr>\n      <th>75441</th>\n      <td>863</td>\n      <td>1680</td>\n      <td>2</td>\n      <td>889289570</td>\n      <td>1680</td>\n      <td>10215</td>\n      <td>False</td>\n      <td>NaN</td>\n      <td>6000000</td>\n      <td>[{'id': 35, 'name': 'Comedy'}, {'id': 18, 'nam...</td>\n      <td>...</td>\n      <td>1998-04-23</td>\n      <td>58000000.0</td>\n      <td>99.0</td>\n      <td>[{'iso_639_1': 'en', 'name': 'English'}]</td>\n      <td>Released</td>\n      <td>What if one split second sent your life in two...</td>\n      <td>Sliding Doors</td>\n      <td>False</td>\n      <td>6.6</td>\n      <td>363.0</td>\n    </tr>\n    <tr>\n      <th>75442</th>\n      <td>916</td>\n      <td>1682</td>\n      <td>3</td>\n      <td>880845755</td>\n      <td>1682</td>\n      <td>88893</td>\n      <td>False</td>\n      <td>NaN</td>\n      <td>0</td>\n      <td>[{'id': 12, 'name': 'Adventure'}, {'id': 18, '...</td>\n      <td>...</td>\n      <td>1991-01-01</td>\n      <td>0.0</td>\n      <td>105.0</td>\n      <td>[{'iso_639_1': 'it', 'name': 'Italiano'}, {'is...</td>\n      <td>Released</td>\n      <td>In this battle, there can be no winners</td>\n      <td>Scream of Stone</td>\n      <td>False</td>\n      <td>7.5</td>\n      <td>4.0</td>\n    </tr>\n  </tbody>\n</table>\n<p>75443 rows × 30 columns</p>\n</div>"
     },
     "execution_count": 33,
     "metadata": {},
     "output_type": "execute_result"
    }
   ],
   "source": [
    "train_data_df"
   ],
   "metadata": {
    "collapsed": false
   }
  },
  {
   "cell_type": "markdown",
   "source": [
    "- Use 5-fold cross-validation on the training set to tune the hyperparameters of the chosen models (similarity measure and number of neighbors for the neighborhood-based model; number of latent factors and number of epochs for the latent factor model).\n"
   ],
   "metadata": {
    "collapsed": false
   }
  },
  {
   "cell_type": "code",
   "execution_count": 34,
   "outputs": [],
   "source": [
    "from surprise import KNNBasic\n",
    "from surprise import SVD\n",
    "from surprise import Dataset\n",
    "from surprise import Reader\n",
    "from surprise import accuracy\n",
    "from surprise.model_selection import GridSearchCV"
   ],
   "metadata": {
    "collapsed": false
   }
  },
  {
   "cell_type": "code",
   "execution_count": 157,
   "outputs": [
    {
     "name": "stdout",
     "output_type": "stream",
     "text": [
      "Computing the cosine similarity matrix...\n",
      "Done computing similarity matrix.\n",
      "Computing the cosine similarity matrix...\n",
      "Done computing similarity matrix.\n",
      "Computing the cosine similarity matrix...\n",
      "Done computing similarity matrix.\n",
      "Computing the cosine similarity matrix...\n",
      "Done computing similarity matrix.\n",
      "Computing the cosine similarity matrix...\n",
      "Done computing similarity matrix.\n",
      "Computing the cosine similarity matrix...\n",
      "Done computing similarity matrix.\n",
      "Computing the cosine similarity matrix...\n",
      "Done computing similarity matrix.\n",
      "Computing the cosine similarity matrix...\n",
      "Done computing similarity matrix.\n",
      "Computing the cosine similarity matrix...\n",
      "Done computing similarity matrix.\n",
      "Computing the cosine similarity matrix...\n",
      "Done computing similarity matrix.\n",
      "Computing the cosine similarity matrix...\n",
      "Done computing similarity matrix.\n",
      "Computing the cosine similarity matrix...\n",
      "Done computing similarity matrix.\n",
      "Computing the cosine similarity matrix...\n",
      "Done computing similarity matrix.\n",
      "Computing the cosine similarity matrix...\n",
      "Done computing similarity matrix.\n",
      "Computing the cosine similarity matrix...\n",
      "Done computing similarity matrix.\n",
      "Computing the cosine similarity matrix...\n",
      "Done computing similarity matrix.\n",
      "Computing the cosine similarity matrix...\n",
      "Done computing similarity matrix.\n",
      "Computing the cosine similarity matrix...\n",
      "Done computing similarity matrix.\n",
      "Computing the cosine similarity matrix...\n",
      "Done computing similarity matrix.\n",
      "Computing the cosine similarity matrix...\n",
      "Done computing similarity matrix.\n",
      "Computing the cosine similarity matrix...\n",
      "Done computing similarity matrix.\n",
      "Computing the cosine similarity matrix...\n",
      "Done computing similarity matrix.\n",
      "Computing the cosine similarity matrix...\n",
      "Done computing similarity matrix.\n",
      "Computing the cosine similarity matrix...\n",
      "Done computing similarity matrix.\n",
      "Computing the cosine similarity matrix...\n",
      "Done computing similarity matrix.\n",
      "Computing the cosine similarity matrix...\n",
      "Done computing similarity matrix.\n",
      "Computing the cosine similarity matrix...\n",
      "Done computing similarity matrix.\n",
      "Computing the cosine similarity matrix...\n",
      "Done computing similarity matrix.\n",
      "Computing the cosine similarity matrix...\n",
      "Done computing similarity matrix.\n",
      "Computing the cosine similarity matrix...\n",
      "Done computing similarity matrix.\n",
      "Computing the cosine similarity matrix...\n",
      "Done computing similarity matrix.\n",
      "Computing the cosine similarity matrix...\n",
      "Done computing similarity matrix.\n",
      "Computing the cosine similarity matrix...\n",
      "Done computing similarity matrix.\n",
      "Computing the cosine similarity matrix...\n",
      "Done computing similarity matrix.\n",
      "Computing the cosine similarity matrix...\n",
      "Done computing similarity matrix.\n",
      "Computing the cosine similarity matrix...\n",
      "Done computing similarity matrix.\n",
      "Computing the cosine similarity matrix...\n",
      "Done computing similarity matrix.\n",
      "Computing the cosine similarity matrix...\n",
      "Done computing similarity matrix.\n",
      "Computing the cosine similarity matrix...\n",
      "Done computing similarity matrix.\n",
      "Computing the cosine similarity matrix...\n",
      "Done computing similarity matrix.\n",
      "Computing the cosine similarity matrix...\n",
      "Done computing similarity matrix.\n",
      "Computing the cosine similarity matrix...\n",
      "Done computing similarity matrix.\n",
      "Computing the cosine similarity matrix...\n",
      "Done computing similarity matrix.\n",
      "Computing the cosine similarity matrix...\n",
      "Done computing similarity matrix.\n",
      "Computing the cosine similarity matrix...\n",
      "Done computing similarity matrix.\n",
      "Computing the msd similarity matrix...\n",
      "Done computing similarity matrix.\n",
      "Computing the msd similarity matrix...\n",
      "Done computing similarity matrix.\n",
      "Computing the msd similarity matrix...\n",
      "Done computing similarity matrix.\n",
      "Computing the msd similarity matrix...\n",
      "Done computing similarity matrix.\n",
      "Computing the msd similarity matrix...\n",
      "Done computing similarity matrix.\n",
      "Computing the msd similarity matrix...\n",
      "Done computing similarity matrix.\n",
      "Computing the msd similarity matrix...\n",
      "Done computing similarity matrix.\n",
      "Computing the msd similarity matrix...\n",
      "Done computing similarity matrix.\n",
      "Computing the msd similarity matrix...\n",
      "Done computing similarity matrix.\n",
      "Computing the msd similarity matrix...\n",
      "Done computing similarity matrix.\n",
      "Computing the msd similarity matrix...\n",
      "Done computing similarity matrix.\n",
      "Computing the msd similarity matrix...\n",
      "Done computing similarity matrix.\n",
      "Computing the msd similarity matrix...\n",
      "Done computing similarity matrix.\n",
      "Computing the msd similarity matrix...\n",
      "Done computing similarity matrix.\n",
      "Computing the msd similarity matrix...\n",
      "Done computing similarity matrix.\n",
      "Computing the msd similarity matrix...\n",
      "Done computing similarity matrix.\n",
      "Computing the msd similarity matrix...\n",
      "Done computing similarity matrix.\n",
      "Computing the msd similarity matrix...\n",
      "Done computing similarity matrix.\n",
      "Computing the msd similarity matrix...\n",
      "Done computing similarity matrix.\n",
      "Computing the msd similarity matrix...\n",
      "Done computing similarity matrix.\n",
      "Computing the msd similarity matrix...\n",
      "Done computing similarity matrix.\n",
      "Computing the msd similarity matrix...\n",
      "Done computing similarity matrix.\n",
      "Computing the msd similarity matrix...\n",
      "Done computing similarity matrix.\n",
      "Computing the msd similarity matrix...\n",
      "Done computing similarity matrix.\n",
      "Computing the msd similarity matrix...\n",
      "Done computing similarity matrix.\n",
      "Computing the msd similarity matrix...\n",
      "Done computing similarity matrix.\n",
      "Computing the msd similarity matrix...\n",
      "Done computing similarity matrix.\n",
      "Computing the msd similarity matrix...\n",
      "Done computing similarity matrix.\n",
      "Computing the msd similarity matrix...\n",
      "Done computing similarity matrix.\n",
      "Computing the msd similarity matrix...\n",
      "Done computing similarity matrix.\n",
      "Computing the msd similarity matrix...\n",
      "Done computing similarity matrix.\n",
      "Computing the msd similarity matrix...\n",
      "Done computing similarity matrix.\n",
      "Computing the msd similarity matrix...\n",
      "Done computing similarity matrix.\n",
      "Computing the msd similarity matrix...\n",
      "Done computing similarity matrix.\n",
      "Computing the msd similarity matrix...\n",
      "Done computing similarity matrix.\n",
      "Computing the msd similarity matrix...\n",
      "Done computing similarity matrix.\n",
      "Computing the msd similarity matrix...\n",
      "Done computing similarity matrix.\n",
      "Computing the msd similarity matrix...\n",
      "Done computing similarity matrix.\n",
      "Computing the msd similarity matrix...\n",
      "Done computing similarity matrix.\n",
      "Computing the msd similarity matrix...\n",
      "Done computing similarity matrix.\n",
      "Computing the msd similarity matrix...\n",
      "Done computing similarity matrix.\n",
      "Computing the msd similarity matrix...\n",
      "Done computing similarity matrix.\n",
      "Computing the msd similarity matrix...\n",
      "Done computing similarity matrix.\n",
      "Computing the msd similarity matrix...\n",
      "Done computing similarity matrix.\n",
      "Computing the msd similarity matrix...\n",
      "Done computing similarity matrix.\n",
      "Computing the pearson similarity matrix...\n",
      "Done computing similarity matrix.\n",
      "Computing the pearson similarity matrix...\n",
      "Done computing similarity matrix.\n",
      "Computing the pearson similarity matrix...\n",
      "Done computing similarity matrix.\n",
      "Computing the pearson similarity matrix...\n",
      "Done computing similarity matrix.\n",
      "Computing the pearson similarity matrix...\n",
      "Done computing similarity matrix.\n",
      "Computing the pearson similarity matrix...\n",
      "Done computing similarity matrix.\n",
      "Computing the pearson similarity matrix...\n",
      "Done computing similarity matrix.\n",
      "Computing the pearson similarity matrix...\n",
      "Done computing similarity matrix.\n",
      "Computing the pearson similarity matrix...\n",
      "Done computing similarity matrix.\n",
      "Computing the pearson similarity matrix...\n",
      "Done computing similarity matrix.\n",
      "Computing the pearson similarity matrix...\n",
      "Done computing similarity matrix.\n",
      "Computing the pearson similarity matrix...\n",
      "Done computing similarity matrix.\n",
      "Computing the pearson similarity matrix...\n",
      "Done computing similarity matrix.\n",
      "Computing the pearson similarity matrix...\n",
      "Done computing similarity matrix.\n",
      "Computing the pearson similarity matrix...\n",
      "Done computing similarity matrix.\n",
      "Computing the pearson similarity matrix...\n",
      "Done computing similarity matrix.\n",
      "Computing the pearson similarity matrix...\n",
      "Done computing similarity matrix.\n",
      "Computing the pearson similarity matrix...\n",
      "Done computing similarity matrix.\n",
      "Computing the pearson similarity matrix...\n",
      "Done computing similarity matrix.\n",
      "Computing the pearson similarity matrix...\n",
      "Done computing similarity matrix.\n",
      "Computing the pearson similarity matrix...\n",
      "Done computing similarity matrix.\n",
      "Computing the pearson similarity matrix...\n",
      "Done computing similarity matrix.\n",
      "Computing the pearson similarity matrix...\n",
      "Done computing similarity matrix.\n",
      "Computing the pearson similarity matrix...\n",
      "Done computing similarity matrix.\n",
      "Computing the pearson similarity matrix...\n",
      "Done computing similarity matrix.\n",
      "Computing the pearson similarity matrix...\n",
      "Done computing similarity matrix.\n",
      "Computing the pearson similarity matrix...\n",
      "Done computing similarity matrix.\n",
      "Computing the pearson similarity matrix...\n",
      "Done computing similarity matrix.\n",
      "Computing the pearson similarity matrix...\n",
      "Done computing similarity matrix.\n",
      "Computing the pearson similarity matrix...\n",
      "Done computing similarity matrix.\n",
      "Computing the pearson similarity matrix...\n",
      "Done computing similarity matrix.\n",
      "Computing the pearson similarity matrix...\n",
      "Done computing similarity matrix.\n",
      "Computing the pearson similarity matrix...\n",
      "Done computing similarity matrix.\n",
      "Computing the pearson similarity matrix...\n",
      "Done computing similarity matrix.\n",
      "Computing the pearson similarity matrix...\n",
      "Done computing similarity matrix.\n",
      "Computing the pearson similarity matrix...\n",
      "Done computing similarity matrix.\n",
      "Computing the pearson similarity matrix...\n",
      "Done computing similarity matrix.\n",
      "Computing the pearson similarity matrix...\n",
      "Done computing similarity matrix.\n",
      "Computing the pearson similarity matrix...\n",
      "Done computing similarity matrix.\n",
      "Computing the pearson similarity matrix...\n",
      "Done computing similarity matrix.\n",
      "Computing the pearson similarity matrix...\n",
      "Done computing similarity matrix.\n",
      "Computing the pearson similarity matrix...\n",
      "Done computing similarity matrix.\n",
      "Computing the pearson similarity matrix...\n",
      "Done computing similarity matrix.\n",
      "Computing the pearson similarity matrix...\n",
      "Done computing similarity matrix.\n",
      "Computing the pearson similarity matrix...\n",
      "Done computing similarity matrix.\n",
      "{'sim_options': {'name': 'msd', 'user_based': True, 'min_support': 5, 'shrinkage': 0}}\n",
      "0.983678664085485\n",
      "Computing the cosine similarity matrix...\n",
      "Done computing similarity matrix.\n",
      "Computing the cosine similarity matrix...\n",
      "Done computing similarity matrix.\n",
      "Computing the cosine similarity matrix...\n",
      "Done computing similarity matrix.\n",
      "Computing the cosine similarity matrix...\n",
      "Done computing similarity matrix.\n",
      "Computing the cosine similarity matrix...\n",
      "Done computing similarity matrix.\n",
      "Computing the cosine similarity matrix...\n",
      "Done computing similarity matrix.\n",
      "Computing the cosine similarity matrix...\n",
      "Done computing similarity matrix.\n",
      "Computing the cosine similarity matrix...\n",
      "Done computing similarity matrix.\n",
      "Computing the cosine similarity matrix...\n",
      "Done computing similarity matrix.\n",
      "Computing the cosine similarity matrix...\n",
      "Done computing similarity matrix.\n",
      "Computing the cosine similarity matrix...\n",
      "Done computing similarity matrix.\n",
      "Computing the cosine similarity matrix...\n",
      "Done computing similarity matrix.\n",
      "Computing the cosine similarity matrix...\n",
      "Done computing similarity matrix.\n",
      "Computing the cosine similarity matrix...\n",
      "Done computing similarity matrix.\n",
      "Computing the cosine similarity matrix...\n",
      "Done computing similarity matrix.\n",
      "Computing the cosine similarity matrix...\n",
      "Done computing similarity matrix.\n",
      "Computing the cosine similarity matrix...\n",
      "Done computing similarity matrix.\n",
      "Computing the cosine similarity matrix...\n",
      "Done computing similarity matrix.\n",
      "Computing the cosine similarity matrix...\n",
      "Done computing similarity matrix.\n",
      "Computing the cosine similarity matrix...\n",
      "Done computing similarity matrix.\n",
      "Computing the cosine similarity matrix...\n",
      "Done computing similarity matrix.\n",
      "Computing the cosine similarity matrix...\n",
      "Done computing similarity matrix.\n",
      "Computing the cosine similarity matrix...\n",
      "Done computing similarity matrix.\n",
      "Computing the cosine similarity matrix...\n",
      "Done computing similarity matrix.\n",
      "Computing the cosine similarity matrix...\n",
      "Done computing similarity matrix.\n",
      "Computing the cosine similarity matrix...\n",
      "Done computing similarity matrix.\n",
      "Computing the cosine similarity matrix...\n",
      "Done computing similarity matrix.\n",
      "Computing the cosine similarity matrix...\n",
      "Done computing similarity matrix.\n",
      "Computing the cosine similarity matrix...\n",
      "Done computing similarity matrix.\n",
      "Computing the cosine similarity matrix...\n",
      "Done computing similarity matrix.\n",
      "Computing the cosine similarity matrix...\n",
      "Done computing similarity matrix.\n",
      "Computing the cosine similarity matrix...\n",
      "Done computing similarity matrix.\n",
      "Computing the cosine similarity matrix...\n",
      "Done computing similarity matrix.\n",
      "Computing the cosine similarity matrix...\n",
      "Done computing similarity matrix.\n",
      "Computing the cosine similarity matrix...\n",
      "Done computing similarity matrix.\n",
      "Computing the cosine similarity matrix...\n",
      "Done computing similarity matrix.\n",
      "Computing the cosine similarity matrix...\n",
      "Done computing similarity matrix.\n",
      "Computing the cosine similarity matrix...\n",
      "Done computing similarity matrix.\n",
      "Computing the cosine similarity matrix...\n",
      "Done computing similarity matrix.\n",
      "Computing the cosine similarity matrix...\n",
      "Done computing similarity matrix.\n",
      "Computing the cosine similarity matrix...\n",
      "Done computing similarity matrix.\n",
      "Computing the cosine similarity matrix...\n",
      "Done computing similarity matrix.\n",
      "Computing the cosine similarity matrix...\n",
      "Done computing similarity matrix.\n",
      "Computing the cosine similarity matrix...\n",
      "Done computing similarity matrix.\n",
      "Computing the cosine similarity matrix...\n",
      "Done computing similarity matrix.\n",
      "Computing the msd similarity matrix...\n",
      "Done computing similarity matrix.\n",
      "Computing the msd similarity matrix...\n",
      "Done computing similarity matrix.\n",
      "Computing the msd similarity matrix...\n",
      "Done computing similarity matrix.\n",
      "Computing the msd similarity matrix...\n",
      "Done computing similarity matrix.\n",
      "Computing the msd similarity matrix...\n",
      "Done computing similarity matrix.\n",
      "Computing the msd similarity matrix...\n",
      "Done computing similarity matrix.\n",
      "Computing the msd similarity matrix...\n",
      "Done computing similarity matrix.\n",
      "Computing the msd similarity matrix...\n",
      "Done computing similarity matrix.\n",
      "Computing the msd similarity matrix...\n",
      "Done computing similarity matrix.\n",
      "Computing the msd similarity matrix...\n",
      "Done computing similarity matrix.\n",
      "Computing the msd similarity matrix...\n",
      "Done computing similarity matrix.\n",
      "Computing the msd similarity matrix...\n",
      "Done computing similarity matrix.\n",
      "Computing the msd similarity matrix...\n",
      "Done computing similarity matrix.\n",
      "Computing the msd similarity matrix...\n",
      "Done computing similarity matrix.\n",
      "Computing the msd similarity matrix...\n",
      "Done computing similarity matrix.\n",
      "Computing the msd similarity matrix...\n",
      "Done computing similarity matrix.\n",
      "Computing the msd similarity matrix...\n",
      "Done computing similarity matrix.\n",
      "Computing the msd similarity matrix...\n",
      "Done computing similarity matrix.\n",
      "Computing the msd similarity matrix...\n",
      "Done computing similarity matrix.\n",
      "Computing the msd similarity matrix...\n",
      "Done computing similarity matrix.\n",
      "Computing the msd similarity matrix...\n",
      "Done computing similarity matrix.\n",
      "Computing the msd similarity matrix...\n",
      "Done computing similarity matrix.\n",
      "Computing the msd similarity matrix...\n",
      "Done computing similarity matrix.\n",
      "Computing the msd similarity matrix...\n",
      "Done computing similarity matrix.\n",
      "Computing the msd similarity matrix...\n",
      "Done computing similarity matrix.\n",
      "Computing the msd similarity matrix...\n",
      "Done computing similarity matrix.\n",
      "Computing the msd similarity matrix...\n",
      "Done computing similarity matrix.\n",
      "Computing the msd similarity matrix...\n",
      "Done computing similarity matrix.\n",
      "Computing the msd similarity matrix...\n",
      "Done computing similarity matrix.\n",
      "Computing the msd similarity matrix...\n",
      "Done computing similarity matrix.\n",
      "Computing the msd similarity matrix...\n",
      "Done computing similarity matrix.\n",
      "Computing the msd similarity matrix...\n",
      "Done computing similarity matrix.\n",
      "Computing the msd similarity matrix...\n",
      "Done computing similarity matrix.\n",
      "Computing the msd similarity matrix...\n",
      "Done computing similarity matrix.\n",
      "Computing the msd similarity matrix...\n",
      "Done computing similarity matrix.\n",
      "Computing the msd similarity matrix...\n",
      "Done computing similarity matrix.\n",
      "Computing the msd similarity matrix...\n",
      "Done computing similarity matrix.\n",
      "Computing the msd similarity matrix...\n",
      "Done computing similarity matrix.\n",
      "Computing the msd similarity matrix...\n",
      "Done computing similarity matrix.\n",
      "Computing the msd similarity matrix...\n",
      "Done computing similarity matrix.\n",
      "Computing the msd similarity matrix...\n",
      "Done computing similarity matrix.\n",
      "Computing the msd similarity matrix...\n",
      "Done computing similarity matrix.\n",
      "Computing the msd similarity matrix...\n",
      "Done computing similarity matrix.\n",
      "Computing the msd similarity matrix...\n",
      "Done computing similarity matrix.\n",
      "Computing the msd similarity matrix...\n",
      "Done computing similarity matrix.\n",
      "Computing the pearson similarity matrix...\n",
      "Done computing similarity matrix.\n",
      "Computing the pearson similarity matrix...\n",
      "Done computing similarity matrix.\n",
      "Computing the pearson similarity matrix...\n",
      "Done computing similarity matrix.\n",
      "Computing the pearson similarity matrix...\n",
      "Done computing similarity matrix.\n",
      "Computing the pearson similarity matrix...\n",
      "Done computing similarity matrix.\n",
      "Computing the pearson similarity matrix...\n",
      "Done computing similarity matrix.\n",
      "Computing the pearson similarity matrix...\n",
      "Done computing similarity matrix.\n",
      "Computing the pearson similarity matrix...\n",
      "Done computing similarity matrix.\n",
      "Computing the pearson similarity matrix...\n",
      "Done computing similarity matrix.\n",
      "Computing the pearson similarity matrix...\n",
      "Done computing similarity matrix.\n",
      "Computing the pearson similarity matrix...\n",
      "Done computing similarity matrix.\n",
      "Computing the pearson similarity matrix...\n",
      "Done computing similarity matrix.\n",
      "Computing the pearson similarity matrix...\n",
      "Done computing similarity matrix.\n",
      "Computing the pearson similarity matrix...\n",
      "Done computing similarity matrix.\n",
      "Computing the pearson similarity matrix...\n",
      "Done computing similarity matrix.\n",
      "Computing the pearson similarity matrix...\n",
      "Done computing similarity matrix.\n",
      "Computing the pearson similarity matrix...\n",
      "Done computing similarity matrix.\n",
      "Computing the pearson similarity matrix...\n",
      "Done computing similarity matrix.\n",
      "Computing the pearson similarity matrix...\n",
      "Done computing similarity matrix.\n",
      "Computing the pearson similarity matrix...\n",
      "Done computing similarity matrix.\n",
      "Computing the pearson similarity matrix...\n",
      "Done computing similarity matrix.\n",
      "Computing the pearson similarity matrix...\n",
      "Done computing similarity matrix.\n",
      "Computing the pearson similarity matrix...\n",
      "Done computing similarity matrix.\n",
      "Computing the pearson similarity matrix...\n",
      "Done computing similarity matrix.\n",
      "Computing the pearson similarity matrix...\n",
      "Done computing similarity matrix.\n",
      "Computing the pearson similarity matrix...\n",
      "Done computing similarity matrix.\n",
      "Computing the pearson similarity matrix...\n",
      "Done computing similarity matrix.\n",
      "Computing the pearson similarity matrix...\n",
      "Done computing similarity matrix.\n",
      "Computing the pearson similarity matrix...\n",
      "Done computing similarity matrix.\n",
      "Computing the pearson similarity matrix...\n",
      "Done computing similarity matrix.\n",
      "Computing the pearson similarity matrix...\n",
      "Done computing similarity matrix.\n",
      "Computing the pearson similarity matrix...\n",
      "Done computing similarity matrix.\n",
      "Computing the pearson similarity matrix...\n",
      "Done computing similarity matrix.\n",
      "Computing the pearson similarity matrix...\n",
      "Done computing similarity matrix.\n",
      "Computing the pearson similarity matrix...\n",
      "Done computing similarity matrix.\n",
      "Computing the pearson similarity matrix...\n",
      "Done computing similarity matrix.\n",
      "Computing the pearson similarity matrix...\n",
      "Done computing similarity matrix.\n",
      "Computing the pearson similarity matrix...\n",
      "Done computing similarity matrix.\n",
      "Computing the pearson similarity matrix...\n",
      "Done computing similarity matrix.\n",
      "Computing the pearson similarity matrix...\n",
      "Done computing similarity matrix.\n",
      "Computing the pearson similarity matrix...\n",
      "Done computing similarity matrix.\n",
      "Computing the pearson similarity matrix...\n",
      "Done computing similarity matrix.\n",
      "Computing the pearson similarity matrix...\n",
      "Done computing similarity matrix.\n",
      "Computing the pearson similarity matrix...\n",
      "Done computing similarity matrix.\n",
      "Computing the pearson similarity matrix...\n",
      "Done computing similarity matrix.\n",
      "{'sim_options': {'name': 'msd', 'user_based': True, 'min_support': 5, 'shrinkage': 0}}\n",
      "0.9838860583437071\n"
     ]
    }
   ],
   "source": [
    "\n",
    "\n",
    "# Load the data\n",
    "reader = Reader(rating_scale=(1, 5))\n",
    "data = Dataset.load_from_df(train_data_df[['user_id', 'movie_id', 'rating']], reader)\n",
    "\n",
    "# Set the range of hyperparameters to tune\n",
    "param_grid = {'sim_options': {'name': ['cosine', 'msd', 'pearson'],\n",
    "                              'user_based': [True],\n",
    "                              'min_support': [1, 5, 10],\n",
    "                              'shrinkage': [0, 50, 100]}}\n",
    "\n",
    "# Tune the model using GridSearchCV with 5-fold cross-validation\n",
    "gs = GridSearchCV(KNNBasic, param_grid, measures=['rmse', 'mae'], cv=5)\n",
    "gs.fit(data)\n",
    "\n",
    "# Print the best hyperparameters and the corresponding score\n",
    "print(gs.best_params['rmse'])\n",
    "print(gs.best_score['rmse'])"
   ],
   "metadata": {
    "collapsed": false
   }
  },
  {
   "cell_type": "code",
   "execution_count": 158,
   "outputs": [
    {
     "name": "stdout",
     "output_type": "stream",
     "text": [
      "{'n_factors': 150, 'n_epochs': 30, 'lr_all': 0.01, 'reg_all': 0.1}\n",
      "0.9201645865705453\n",
      "{'n_factors': 150, 'n_epochs': 30, 'lr_all': 0.01, 'reg_all': 0.1}\n",
      "0.9194313745675335\n"
     ]
    }
   ],
   "source": [
    "\n",
    "\n",
    "# Load the data\n",
    "reader = Reader(rating_scale=(1, 5))\n",
    "data = Dataset.load_from_df(train_data_df[['user_id', 'movie_id', 'rating']], reader)\n",
    "\n",
    "# Set the range of hyperparameters to tune\n",
    "param_grid = {'n_factors': [50, 100, 150],\n",
    "              'n_epochs': [10, 20, 30],\n",
    "              'lr_all': [0.002, 0.005, 0.01],\n",
    "              'reg_all': [0.02, 0.1, 0.2]}\n",
    "\n",
    "# Tune the model using GridSearchCV with 5-fold cross-validation\n",
    "gs = GridSearchCV(SVD, param_grid, measures=['rmse', 'mae'], cv=5)\n",
    "gs.fit(data)\n",
    "\n",
    "# Print the best hyperparameters and the corresponding score\n",
    "print(gs.best_params['rmse'])\n",
    "print(gs.best_score['rmse'])"
   ],
   "metadata": {
    "collapsed": false
   }
  },
  {
   "cell_type": "markdown",
   "source": [
    "- Choose an evaluation measure that is suitable for this task and justify your motivation in using it. Report the optimal hyperparameters together with the scores of your chosen measure, averaged over the 5 folds.\n"
   ],
   "metadata": {
    "collapsed": false
   }
  },
  {
   "cell_type": "markdown",
   "source": [
    "For evaluating recommendation systems, one common measure is Root Mean Squared Error (RMSE) which measures the difference between the predicted and actual ratings. A lower RMSE indicates better performance. Therefore, RMSE is a suitable evaluation measure for this task.\n",
    "\n",
    "Based on the results, the optimal hyperparameters and the corresponding scores for the two models are:\n",
    "\n",
    "User-based collaborative filtering: {'sim_options': {'name': 'msd', 'user_based': True, 'min_support': 5, 'shrinkage': 0}} with an RMSE of 0.9838679774875121 averaged over the 5 folds.\n",
    "\n",
    "SVD: {'n_factors': 150, 'n_epochs': 30, 'lr_all': 0.01, 'reg_all': 0.1} with an RMSE of 0.9195519240670518 averaged over the 5 folds.\n",
    "\n",
    "Therefore, based on the RMSE metric, SVD outperforms user-based collaborative filtering with an average RMSE score of 0.92 compared to 0.98 for the user-based model."
   ],
   "metadata": {
    "collapsed": false
   }
  },
  {
   "cell_type": "markdown",
   "source": [
    "I chose the RMSE (Root Mean Squared Error) as the assessment metric because it is a simple and straightforward tool for assessing the accuracy of the predicted ratings.  I chose it because it is one of the most commonly used metrics for evaluating accuracy, but also because it penalizes larger errors more heavily. Thus, this measure is suitable to measure the accuracy of the predicted ratings.\n",
    "\n",
    "After 5-fold cross-validation, we obtained the following hyperparameters for the user-based collaborative filtering model:\n",
    "  {'sim_options': {'name': 'msd', 'user_based': True, 'min_support': 5, 'shrinkage': 0}}\n",
    "This model achieved an RMSE of 0.98 averaged over the 5 folds.\n",
    "And for the SVD model, we obtained the following hyperparameters: {'n_factors': 150, 'n_epochs': 30, 'lr_all': 0.01, 'reg_all': 0.1} with an RMSE of 0.91.\n",
    "\n",
    "\n",
    "\n"
   ],
   "metadata": {
    "collapsed": false
   }
  },
  {
   "cell_type": "markdown",
   "source": [
    "- Run the models with the optimal hyperparameters to the whole training\n",
    "set."
   ],
   "metadata": {
    "collapsed": false
   }
  },
  {
   "cell_type": "code",
   "execution_count": 35,
   "outputs": [
    {
     "name": "stdout",
     "output_type": "stream",
     "text": [
      "Computing the msd similarity matrix...\n",
      "Done computing similarity matrix.\n",
      "RMSE: 0.8083\n",
      "RMSE: 0.6120\n",
      "KNN RMSE on test set: 0.8083361528783415\n",
      "SVD RMSE on test set: 0.6120192112515092\n"
     ]
    }
   ],
   "source": [
    "from surprise import KNNWithMeans\n",
    "reader = Reader(rating_scale=(1, 5))\n",
    "train_data = Dataset.load_from_df(train_data_df[['user_id', 'movie_id', 'rating']], reader)\n",
    "train_set = train_data.build_full_trainset()\n",
    "\n",
    "knn_model = KNNWithMeans(k=10,\n",
    "                         sim_options={'name': 'msd', 'user_based': True, 'min_support': 5, 'shrinkage': 0})\n",
    "knn_model.fit(train_set)\n",
    "\n",
    "# SVD with optimal hyperparameters\n",
    "svd_model = SVD(n_factors=150, n_epochs=30, lr_all=0.01, reg_all=0.1)\n",
    "svd_model.fit(train_set)\n",
    "\n",
    "# Predict on the test set and calculate accuracy\n",
    "test_set = train_set.build_anti_testset()\n",
    "knn_predictions = knn_model.test(test_set)\n",
    "svd_predictions = svd_model.test(test_set)\n",
    "\n",
    "knn_rmse = accuracy.rmse(knn_predictions)\n",
    "svd_rmse = accuracy.rmse(svd_predictions)\n",
    "\n",
    "print('KNN RMSE on test set:', knn_rmse)\n",
    "print('SVD RMSE on test set:', svd_rmse)"
   ],
   "metadata": {
    "collapsed": false
   }
  },
  {
   "cell_type": "markdown",
   "source": [
    "- Use the final models to rank the non-rated items for each user"
   ],
   "metadata": {
    "collapsed": false
   }
  },
  {
   "cell_type": "code",
   "execution_count": 36,
   "outputs": [],
   "source": [
    "# create a dictionary to store the predicted ratings for each user\n",
    "user_ratings_user_based = {}\n",
    "user_ratings_svd = {}\n",
    "\n",
    "# loop over all users in the test set\n",
    "for user in test_users:\n",
    "\n",
    "    # get the user's item ratings in the training set\n",
    "    train_ratings = test_data_df[test_data_df['user_id']==user]\n",
    "\n",
    "    # get a list of items that the user has not rated\n",
    "    unrated_items = list(set(test_data_df['movie_id']) - set(train_ratings['movie_id']))\n",
    "\n",
    "    # predict ratings for the unrated items using the SVD model\n",
    "    unrated_ratings_svd = [svd_model.predict(user, item).est for item in unrated_items]\n",
    "    unrated_ratings_user_based = [knn_model.predict(user, item).est for item in unrated_items]\n",
    "\n",
    "    # add the predicted ratings to the dictionary\n",
    "    user_ratings_user_based[user] = pd.DataFrame({'movie_id': unrated_items, 'predicted_rating': unrated_ratings_user_based})\n",
    "    user_ratings_svd[user] = pd.DataFrame({'movie_id': unrated_items, 'predicted_rating': unrated_ratings_svd})\n",
    "\n",
    "\n",
    "# sort the unrated items in descending order of predicted rating\n",
    "    user_ratings_user_based[user] = user_ratings_user_based[user].sort_values(by=['predicted_rating'], ascending=False)\n",
    "    user_ratings_svd[user] = user_ratings_svd[user].sort_values(by=['predicted_rating'], ascending=False)\n",
    "\n"
   ],
   "metadata": {
    "collapsed": false
   }
  },
  {
   "cell_type": "code",
   "execution_count": 37,
   "outputs": [
    {
     "name": "stdout",
     "output_type": "stream",
     "text": [
      "      movie_id  predicted_rating\n",
      "39          50          5.000000\n",
      "332        408          5.000000\n",
      "1097      1367          5.000000\n",
      "253        320          5.000000\n",
      "1098      1368          5.000000\n",
      "...        ...               ...\n",
      "1022      1250          2.109862\n",
      "208        263          2.103033\n",
      "726        891          2.056448\n",
      "193        247          1.899214\n",
      "1070      1316          1.591637\n",
      "\n",
      "[1201 rows x 2 columns]\n",
      "      movie_id  predicted_rating\n",
      "1150      1449          4.922378\n",
      "251        318          4.836755\n",
      "332        408          4.797388\n",
      "133        169          4.757542\n",
      "7           12          4.731138\n",
      "...        ...               ...\n",
      "370        457          2.534666\n",
      "725        890          2.525765\n",
      "796        976          2.514731\n",
      "1081      1336          2.508202\n",
      "297        368          2.462343\n",
      "\n",
      "[1201 rows x 2 columns]\n"
     ]
    }
   ],
   "source": [
    "print(user_ratings_user_based[10])\n",
    "print(user_ratings_svd[10])"
   ],
   "metadata": {
    "collapsed": false
   }
  },
  {
   "cell_type": "markdown",
   "source": [
    "## 3) Week 8"
   ],
   "metadata": {
    "collapsed": false
   }
  },
  {
   "cell_type": "markdown",
   "source": [
    "- Measure the error of the system’s predicted ratings for the movies (Root Mean Square Error, RMSE)"
   ],
   "metadata": {
    "collapsed": false
   }
  },
  {
   "cell_type": "code",
   "execution_count": 38,
   "outputs": [],
   "source": [
    "from sklearn.metrics import mean_squared_error\n",
    "from math import sqrt\n",
    "from sklearn.metrics.pairwise import cosine_similarity"
   ],
   "metadata": {
    "collapsed": false
   }
  },
  {
   "cell_type": "code",
   "execution_count": 39,
   "outputs": [],
   "source": [
    "\n",
    "# test_data_matrix = test_df.pivot_table(index='user_id', columns='movie_id', values='rating', fill_value=0)\n",
    "#\n",
    "#\n",
    "#\n",
    "# train_data_matrix= train_df.pivot_table(index='user_id', columns='movie_id', values='rating', fill_value=0)\n",
    "#\n",
    "# user_similarity = cosine_similarity(train_data_matrix)\n"
   ],
   "metadata": {
    "collapsed": false
   }
  },
  {
   "cell_type": "code",
   "execution_count": 40,
   "outputs": [],
   "source": [
    "from sklearn.metrics import mean_squared_error\n",
    "import numpy as np\n",
    "\n",
    "\n",
    "test_data = Dataset.load_from_df(test_data_df[['user_id', 'movie_id', 'rating']], reader)\n",
    "test_set = test_data.build_full_trainset().build_anti_testset()\n",
    "\n",
    "# Predict ratings for test set\n",
    "test_preds = svd_model.test(test_set)\n",
    "\n"
   ],
   "metadata": {
    "collapsed": false
   }
  },
  {
   "cell_type": "code",
   "execution_count": 41,
   "outputs": [],
   "source": [
    "# # Extract predicted and actual ratings #other version\n",
    "# predicted_ratings = np.array([pred.est for pred in test_preds])\n",
    "# actual_ratings = np.array([pred.r_ui for pred in test_preds])\n",
    "#\n",
    "# # Calculate RMSE\n",
    "# rmse = np.sqrt(mean_squared_error(actual_ratings, predicted_ratings))\n",
    "# print(f\"SVD model RMSE: {rmse:.4f}\")"
   ],
   "metadata": {
    "collapsed": false
   }
  },
  {
   "cell_type": "code",
   "execution_count": 42,
   "outputs": [
    {
     "name": "stdout",
     "output_type": "stream",
     "text": [
      "RMSE: 0.6149\n",
      "RMSE for SVD 0.6148690568594423\n"
     ]
    }
   ],
   "source": [
    "from surprise.accuracy import rmse\n",
    "svd_rmse_test= rmse(test_preds)\n",
    "print(\"RMSE for SVD\",svd_rmse_test)"
   ],
   "metadata": {
    "collapsed": false
   }
  },
  {
   "cell_type": "code",
   "execution_count": 43,
   "outputs": [
    {
     "name": "stdout",
     "output_type": "stream",
     "text": [
      "RMSE: 0.7688\n",
      "RMSE for KNN 0.7687921981860286\n"
     ]
    }
   ],
   "source": [
    "test_preds_neighbor = knn_model.test(test_set)\n",
    "\n",
    "knn_rmse_test= rmse(test_preds_neighbor)\n",
    "print(\"RMSE for KNN\",knn_rmse_test)"
   ],
   "metadata": {
    "collapsed": false
   }
  },
  {
   "cell_type": "markdown",
   "source": [
    "Although RMSE is a metric generally used to predict the accuracy of predictions, it still has some limitations. One of the limitations of this metric is the fact that it does not take into account the rank of the recommended item, so a movie, in this case, that the user might like might have a lower RMSE score.\n",
    "Besides this, another limitation of this metric is that it assumes that all users give ratings in the same way. But in reality, each user has a unique way of giving ratings. Thus the accuracy of the metric may be affected."
   ],
   "metadata": {
    "collapsed": false
   }
  },
  {
   "cell_type": "markdown",
   "source": [
    "To evaluate this, generate the top-k (with k = 5) recommendation for each test user. Based on the top-k recommendation list\n",
    "generated for each user, and using only ratings ≥ 3 in the test data split compute:"
   ],
   "metadata": {
    "collapsed": false
   }
  },
  {
   "cell_type": "code",
   "execution_count": 44,
   "outputs": [],
   "source": [
    "def get_top_k_recommendations(user_ratings, k):\n",
    "    top_k_recommendations = {}\n",
    "\n",
    "    for user, ratings_df in user_ratings.items():\n",
    "        top_k = list(ratings_df.head(k)['movie_id'])\n",
    "        top_k_recommendations[user] = top_k\n",
    "\n",
    "    return top_k_recommendations"
   ],
   "metadata": {
    "collapsed": false
   }
  },
  {
   "cell_type": "code",
   "execution_count": 45,
   "outputs": [],
   "source": [
    "user_topK_recommendations_user_based =   get_top_k_recommendations(user_ratings_user_based ,5)"
   ],
   "metadata": {
    "collapsed": false
   }
  },
  {
   "cell_type": "code",
   "execution_count": 46,
   "outputs": [
    {
     "data": {
      "text/plain": "{1: [1368, 1449, 1500, 246, 913],\n 2: [1449, 1500, 515, 913, 357],\n 3: [1367, 1449, 1347, 346, 320],\n 4: [1, 1368, 117, 520, 324],\n 5: [1367, 1347, 1500, 1449, 174],\n 6: [1368, 1500, 1449, 132, 913],\n 7: [1449, 1500, 913, 50, 9],\n 8: [1367, 1449, 867, 1500, 1131],\n 9: [313, 1269, 195, 64, 202],\n 10: [50, 408, 1367, 320, 1368],\n 11: [1500, 1449, 659, 1368, 913],\n 12: [98, 1142, 165, 265, 60],\n 13: [408, 867, 1500, 285, 1449],\n 14: [512, 867, 1500, 119, 1368],\n 15: [1347, 1449, 1500, 12, 913],\n 16: [1, 173, 273, 1449, 272],\n 17: [1347, 12, 1449, 1043, 169],\n 18: [1368, 1449, 100, 913, 1500],\n 19: [1368, 1449, 1269, 854, 853],\n 20: [1367, 1449, 867, 1500, 913],\n 21: [9, 1500, 1449, 127, 408],\n 22: [1367, 1347, 1142, 1368, 1500],\n 23: [1368, 1367, 1500, 1449, 100],\n 24: [187, 276, 272, 251, 515],\n 25: [1, 1189, 1449, 204, 867],\n 26: [1347, 302, 318, 64, 313],\n 27: [1368, 854, 853, 1347, 1131],\n 28: [1347, 1367, 1500, 1449, 56],\n 29: [42, 483, 246, 1347, 268],\n 30: [1368, 1449, 867, 313, 1367],\n 31: [1368, 1001, 1058, 1298, 127],\n 32: [1347, 1449, 913, 475, 178],\n 33: [320, 487, 1131, 641, 30],\n 34: [179, 644, 1368, 962, 320],\n 35: [867, 1347, 320, 1449, 656],\n 36: [993, 66, 1067, 320, 576],\n 37: [1367, 867, 50, 1500, 1449],\n 38: [913, 1449, 1368, 1500, 12],\n 39: [1194, 1368, 1131, 440, 320],\n 40: [854, 313, 867, 1131, 1449],\n 41: [1500, 1302, 1368, 1367, 1347],\n 42: [1347, 1367, 1500, 1449, 174],\n 43: [1500, 1449, 913, 258, 1189],\n 44: [1347, 1367, 1500, 1449, 178],\n 45: [1367, 1449, 50, 119, 1131],\n 46: [515, 850, 1470, 603, 651],\n 47: [854, 320, 318, 1131, 867],\n 48: [1347, 1367, 1368, 1500, 1449],\n 49: [1347, 1367, 408, 320, 262],\n 50: [361, 1449, 1368, 982, 904],\n 51: [50, 408, 181, 1367, 1368],\n 52: [173, 837, 318, 478, 479],\n 53: [512, 1367, 169, 867, 1189],\n 54: [1367, 1347, 1368, 272, 1449],\n 55: [1368, 313, 64, 1449, 119],\n 56: [1367, 1347, 22, 1500, 1449],\n 57: [1347, 1367, 1449, 1500, 520],\n 58: [313, 1500, 1368, 1449, 913],\n 59: [1500, 1189, 197, 1368, 1449],\n 60: [1143, 286, 913, 1368, 515],\n 61: [1368, 318, 300, 1443, 241],\n 62: [1449, 1500, 1368, 913, 56],\n 63: [1347, 1449, 1500, 1368, 320],\n 64: [127, 475, 1449, 1500, 1368],\n 65: [1500, 483, 50, 1449, 1347],\n 66: [1347, 50, 1449, 119, 1043],\n 67: [1131, 313, 1449, 272, 172],\n 68: [1347, 1449, 408, 181, 913],\n 69: [50, 1347, 1500, 1449, 181],\n 70: [1367, 1347, 1500, 1449, 913],\n 71: [1347, 1368, 1449, 197, 603],\n 72: [1500, 1347, 1449, 1368, 913],\n 73: [1368, 1449, 867, 1500, 913],\n 74: [1347, 1449, 1500, 1367, 1368],\n 75: [1367, 1347, 483, 1449, 913],\n 76: [1367, 1347, 56, 1500, 1142],\n 77: [1367, 1368, 1347, 1500, 1449],\n 78: [272, 98, 320, 1131, 173],\n 79: [1449, 913, 1039, 408, 318],\n 80: [1368, 64, 913, 1302, 1367],\n 81: [1449, 913, 320, 1368, 963],\n 82: [1449, 1500, 483, 913, 168],\n 83: [1347, 1500, 1449, 913, 1344],\n 84: [1347, 1449, 1500, 913, 408],\n 85: [50, 1449, 1500, 483, 515],\n 86: [816, 1368, 962, 320, 575],\n 87: [1347, 1500, 1449, 913, 50],\n 88: [1439, 743, 318, 1192, 1189],\n 89: [1368, 1005, 913, 867, 1449],\n 90: [56, 498, 919, 119, 515],\n 91: [1347, 1500, 1449, 1368, 1367],\n 92: [1449, 1500, 100, 913, 12],\n 93: [873, 1152, 313, 272, 950],\n 94: [1449, 1500, 913, 320, 1189],\n 95: [1449, 1500, 913, 320, 1189],\n 96: [318, 174, 1500, 1142, 1131],\n 97: [1449, 913, 1367, 204, 1368],\n 98: [1189, 867, 888, 1449, 896],\n 99: [1347, 313, 1500, 174, 1449],\n 100: [1449, 1367, 1347, 50, 320],\n 101: [64, 1449, 1131, 1397, 913],\n 102: [1347, 12, 1367, 1500, 1449],\n 103: [1368, 190, 56, 1449, 12],\n 104: [181, 50, 302, 1500, 1449],\n 105: [1367, 1368, 302, 408, 1443],\n 106: [318, 1368, 1449, 867, 483],\n 107: [1368, 1032, 656, 127, 867],\n 108: [1368, 1347, 1449, 1394, 1439],\n 109: [1347, 1500, 1449, 408, 313],\n 110: [1367, 1368, 1347, 318, 867],\n 111: [1368, 320, 365, 1443, 1052],\n 112: [169, 1418, 313, 1443, 318],\n 113: [318, 1449, 483, 1500, 1347],\n 114: [1368, 50, 1367, 176, 867],\n 115: [246, 1347, 1142, 1368, 357],\n 116: [127, 1449, 1500, 56, 8],\n 117: [1449, 96, 913, 64, 1368],\n 118: [484, 194, 178, 179, 180],\n 119: [1500, 1449, 913, 320, 1368],\n 120: [1449, 1347, 119, 515, 169],\n 121: [408, 1500, 1449, 1367, 172],\n 122: [1449, 1500, 867, 483, 913],\n 123: [1347, 1500, 1449, 1368, 913],\n 124: [1367, 1368, 168, 1449, 867],\n 125: [1347, 1500, 169, 1449, 1367],\n 126: [867, 320, 816, 1449, 1368],\n 127: [1192, 272, 30, 127, 1269],\n 128: [1500, 1449, 913, 515, 1368],\n 129: [1449, 1368, 286, 854, 320],\n 130: [1189, 1344, 1449, 1367, 1500],\n 131: [56, 1260, 853, 1192, 1298],\n 132: [1367, 56, 1449, 1368, 1500],\n 133: [1368, 867, 187, 12, 320],\n 134: [1368, 1443, 1344, 603, 853],\n 135: [1367, 1368, 1449, 515, 98],\n 136: [1, 211, 169, 173, 174],\n 137: [1367, 12, 119, 127, 169],\n 138: [515, 137, 1169, 1368, 1367],\n 139: [1347, 1439, 1206, 1192, 1189],\n 140: [1368, 1347, 286, 320, 1500],\n 141: [1347, 1500, 1449, 913, 513],\n 142: [1347, 1449, 1368, 1367, 867],\n 143: [313, 1500, 320, 169, 1443],\n 144: [1449, 1500, 913, 135, 1189],\n 145: [1347, 1500, 1449, 913, 515],\n 146: [1368, 867, 320, 1500, 50],\n 147: [743, 286, 1368, 1052, 611],\n 148: [1449, 174, 1367, 1500, 1019],\n 149: [1449, 1347, 408, 50, 919],\n 150: [450, 187, 1405, 1194, 1131],\n 151: [1368, 913, 1500, 1449, 1189],\n 152: [150, 1019, 1466, 913, 173],\n 153: [1368, 1367, 79, 357, 603],\n 154: [1347, 127, 1367, 512, 1449],\n 155: [962, 1131, 50, 320, 867],\n 156: [1449, 1368, 320, 187, 867],\n 157: [1347, 272, 313, 1449, 1500],\n 158: [1500, 1449, 1368, 913, 1189],\n 159: [1347, 1449, 1368, 913, 1005],\n 160: [1500, 913, 1189, 853, 185],\n 161: [272, 1449, 1500, 315, 913],\n 162: [1367, 1449, 169, 64, 272],\n 163: [1449, 1368, 320, 867, 1131],\n 164: [1347, 1449, 258, 913, 1466],\n 165: [1500, 1367, 1368, 56, 432],\n 166: [320, 791, 1368, 867, 575],\n 167: [1368, 867, 318, 1449, 1367],\n 168: [1347, 1524, 126, 318, 1449],\n 169: [258, 1368, 50, 1189, 1500],\n 170: [320, 867, 854, 656, 962],\n 171: [1367, 1368, 320, 867, 1443],\n 172: [397, 962, 1368, 262, 624],\n 173: [1, 1344, 302, 816, 850],\n 174: [1449, 1347, 1500, 269, 913],\n 175: [867, 1367, 1368, 1449, 1500],\n 176: [1368, 268, 246, 1449, 185],\n 177: [1347, 50, 1449, 1500, 127],\n 178: [313, 1500, 300, 1449, 913],\n 179: [1368, 1269, 1172, 1443, 127],\n 180: [1347, 1449, 1368, 1367, 1302],\n 181: [1582, 852, 1457, 1310, 1309],\n 182: [50, 1368, 520, 483, 1137],\n 183: [1368, 1367, 318, 1449, 867],\n 184: [1500, 1449, 1368, 913, 320],\n 185: [1500, 867, 1368, 1367, 483],\n 186: [1367, 1347, 318, 867, 1449],\n 187: [1368, 1142, 493, 320, 318],\n 188: [1500, 1344, 11, 1347, 913],\n 189: [1449, 50, 1368, 913, 1500],\n 190: [1347, 313, 1500, 513, 1449],\n 191: [622, 108, 967, 497, 1001],\n 192: [1347, 9, 100, 1449, 853],\n 193: [1500, 1449, 913, 1367, 318],\n 194: [1347, 1449, 1500, 318, 913],\n 195: [1449, 1368, 127, 135, 913],\n 196: [1449, 1368, 285, 867, 913],\n 197: [1367, 867, 169, 1500, 1449],\n 198: [1500, 1449, 1368, 50, 483],\n 199: [1449, 1367, 269, 1368, 1386],\n 200: [1189, 1500, 1449, 1368, 1347],\n 201: [1500, 1449, 127, 913, 318],\n 202: [1368, 1367, 867, 1449, 169],\n 203: [1449, 1347, 272, 42, 288],\n 204: [1449, 1347, 1368, 867, 1269],\n 205: [320, 816, 1131, 1194, 962],\n 206: [1582, 711, 1320, 1236, 1343],\n 207: [1500, 1449, 483, 913, 1189],\n 208: [262, 1368, 1131, 867, 246],\n 209: [127, 1347, 1449, 1439, 1260],\n 210: [1, 174, 1347, 1449, 1367],\n 211: [1368, 1347, 867, 169, 1449],\n 212: [357, 1039, 251, 1160, 1143],\n 213: [867, 963, 56, 156, 1368],\n 214: [1449, 1368, 1500, 913, 175],\n 215: [313, 1347, 1449, 1368, 1367],\n 216: [1449, 913, 1347, 1368, 1500],\n 217: [1367, 1368, 1347, 79, 1500],\n 218: [1368, 1367, 1347, 1449, 867],\n 219: [1189, 93, 124, 887, 1187],\n 220: [187, 1131, 320, 856, 514],\n 221: [1347, 1368, 1449, 1500, 12],\n 222: [1347, 1500, 1449, 315, 64],\n 223: [313, 1131, 1368, 173, 408],\n 224: [1367, 313, 1449, 1142, 913],\n 225: [1, 1102, 425, 423, 416],\n 226: [1367, 12, 1368, 1500, 1449],\n 227: [100, 1368, 408, 1500, 1449],\n 228: [262, 320, 962, 1368, 1131],\n 229: [1368, 320, 1131, 1269, 1070],\n 230: [1, 913, 272, 1347, 64],\n 231: [853, 854, 1368, 835, 318],\n 232: [1500, 1449, 913, 1367, 1189],\n 233: [209, 867, 318, 71, 70],\n 234: [515, 1500, 1449, 913, 320],\n 235: [318, 867, 1449, 1368, 1500],\n 236: [318, 1500, 9, 1449, 913],\n 237: [1367, 483, 318, 913, 1500],\n 238: [1368, 867, 169, 12, 1394],\n 239: [1189, 320, 1449, 913, 1368],\n 240: [1368, 1449, 127, 12, 867],\n 241: [1367, 1449, 1368, 867, 487],\n 242: [400, 69, 181, 184, 187],\n 243: [1367, 50, 178, 1449, 867],\n 244: [1347, 1500, 1449, 913, 318],\n 245: [1449, 1131, 1269, 1167, 487],\n 246: [1347, 1500, 1449, 50, 181],\n 247: [1449, 867, 793, 1367, 64],\n 248: [1367, 1368, 1449, 1500, 483],\n 249: [156, 408, 1368, 119, 1344],\n 250: [1449, 1500, 313, 913, 320],\n 251: [1347, 313, 1449, 1367, 913],\n 252: [1, 162, 661, 248, 246],\n 253: [1367, 318, 1344, 1449, 913],\n 254: [1367, 135, 867, 1500, 1449],\n 255: [50, 1347, 302, 1500, 178],\n 256: [1368, 1449, 1367, 1189, 1347],\n 257: [1005, 1368, 850, 1449, 272],\n 258: [1269, 320, 1347, 1194, 641],\n 259: [1500, 1368, 1449, 56, 320],\n 260: [98, 967, 854, 641, 913],\n 261: [1368, 22, 127, 913, 187],\n 262: [1347, 1500, 1449, 251, 913],\n 263: [913, 1500, 357, 1449, 174],\n 264: [853, 174, 1368, 1367, 269],\n 265: [1449, 272, 119, 1347, 1500],\n 266: [1449, 100, 361, 1368, 1500],\n 267: [246, 1368, 1449, 913, 1500],\n 268: [1449, 1500, 176, 50, 60],\n 269: [1368, 1500, 1449, 320, 23],\n 270: [285, 1131, 1367, 60, 1189],\n 271: [302, 1500, 1449, 913, 100],\n 272: [1, 589, 514, 175, 174],\n 273: [1368, 962, 320, 867, 187],\n 274: [913, 1466, 1434, 1386, 1367],\n 275: [1367, 1368, 1347, 1449, 1500],\n 276: [1500, 1449, 313, 913, 1368],\n 277: [1347, 603, 1449, 1368, 913],\n 278: [520, 1189, 313, 513, 1500],\n 279: [1368, 1449, 913, 474, 1189],\n 280: [1347, 318, 1500, 1449, 913],\n 281: [320, 1443, 1131, 64, 1418],\n 282: [1368, 962, 816, 320, 514],\n 283: [867, 1386, 1367, 1189, 313],\n 284: [1449, 272, 1443, 320, 315],\n 285: [1347, 1367, 1368, 1500, 1503],\n 286: [1449, 1368, 1500, 913, 1189],\n 287: [1449, 100, 1368, 1367, 1347],\n 288: [1449, 1367, 1347, 100, 1368],\n 289: [1131, 30, 318, 169, 641],\n 290: [1367, 1347, 483, 1500, 1449],\n 291: [1500, 1449, 1368, 172, 913],\n 292: [482, 1367, 480, 98, 269],\n 293: [483, 302, 1449, 1500, 50],\n 294: [1347, 1500, 1449, 913, 320],\n 295: [735, 50, 1019, 1368, 202],\n 296: [1, 1368, 251, 1189, 1131],\n 297: [1449, 750, 1500, 913, 315],\n 298: [1, 169, 168, 174, 182],\n 299: [1449, 1500, 1142, 474, 1368],\n 300: [169, 98, 945, 512, 1101],\n 301: [1347, 1500, 1449, 913, 1368],\n 302: [962, 1131, 854, 853, 816],\n 303: [1500, 1449, 913, 56, 1189],\n 304: [867, 1131, 50, 320, 528],\n 305: [313, 1449, 1500, 242, 913],\n 306: [511, 320, 867, 513, 1368],\n 307: [1368, 1367, 257, 1500, 1449],\n 308: [1500, 1449, 1368, 272, 913],\n 309: [769, 178, 558, 320, 187],\n 310: [1142, 50, 830, 1236, 1505],\n 311: [1347, 313, 1500, 1449, 750],\n 312: [1, 185, 89, 661, 87],\n 313: [1347, 50, 1500, 1449, 1368],\n 314: [1347, 1500, 1449, 913, 483],\n 315: [1368, 320, 56, 1449, 913],\n 316: [286, 272, 1449, 1500, 251],\n 317: [513, 656, 867, 272, 1066],\n 318: [1347, 1500, 1449, 313, 913],\n 319: [1368, 1131, 127, 187, 867],\n 320: [1347, 1500, 1449, 361, 1368],\n 321: [1449, 867, 1368, 1500, 913],\n 322: [1500, 867, 493, 169, 923],\n 323: [50, 1347, 64, 1449, 1500],\n 324: [1, 265, 475, 657, 68],\n 325: [1367, 1347, 1368, 1500, 1449],\n 326: [1368, 1367, 483, 1500, 1449],\n 327: [896, 1500, 1449, 919, 318],\n 328: [1449, 1500, 272, 913, 1005],\n 329: [302, 1347, 1449, 1500, 913],\n 330: [1, 1347, 1367, 199, 909],\n 331: [1368, 1367, 1347, 1449, 511],\n 332: [313, 913, 867, 1189, 1500],\n 333: [1449, 1367, 1347, 1500, 1368],\n 334: [1500, 1449, 50, 913, 124],\n 335: [133, 320, 867, 960, 1443],\n 336: [1449, 1500, 273, 1367, 913],\n 337: [1434, 1368, 1449, 173, 1347],\n 338: [867, 913, 178, 1500, 1367],\n 339: [1449, 1500, 1368, 1189, 515],\n 340: [1368, 1143, 1073, 64, 1302],\n 341: [423, 272, 663, 662, 661],\n 342: [1500, 1449, 251, 913, 320],\n 343: [913, 1449, 1500, 1189, 64],\n 344: [302, 1449, 1500, 272, 1368],\n 345: [1449, 1500, 913, 1142, 1189],\n 346: [1347, 1500, 1449, 515, 50],\n 347: [1347, 1500, 1449, 913, 763],\n 348: [867, 1449, 1131, 913, 126],\n 349: [1449, 1131, 285, 853, 169],\n 350: [191, 1131, 133, 654, 134],\n 351: [59, 22, 1368, 1367, 1189],\n 352: [1368, 50, 1500, 1449, 1347],\n 353: [1131, 1443, 302, 1368, 1260],\n 354: [168, 1449, 1500, 8, 1368],\n 355: [182, 357, 194, 967, 505],\n 356: [320, 1368, 1500, 1443, 854],\n 357: [913, 1449, 1347, 1368, 1396],\n 358: [1368, 320, 318, 1449, 1500],\n 359: [651, 1524, 98, 850, 156],\n 360: [100, 285, 913, 1368, 1449],\n 361: [1449, 50, 1368, 913, 1189],\n 362: [1347, 962, 656, 867, 1449],\n 363: [313, 12, 1449, 1500, 302],\n 364: [816, 1449, 853, 854, 320],\n 365: [100, 1449, 320, 913, 1368],\n 366: [1, 79, 896, 867, 850],\n 367: [515, 320, 98, 1500, 176],\n 368: [1368, 1347, 1367, 313, 1449],\n 369: [199, 913, 1189, 1394, 98],\n 370: [1367, 1449, 1500, 302, 913],\n 371: [913, 1367, 1347, 1189, 1500],\n 372: [211, 913, 515, 867, 59],\n 373: [1500, 1449, 50, 181, 1368],\n 374: [1347, 515, 1500, 1449, 913],\n 375: [169, 1367, 1449, 896, 913],\n 376: [1347, 1367, 1368, 1449, 1500],\n 377: [1367, 1347, 1449, 173, 272],\n 378: [313, 318, 1500, 1449, 913],\n 379: [512, 1189, 100, 913, 272],\n 380: [302, 12, 1500, 286, 19],\n 381: [1500, 1449, 1368, 1142, 913],\n 382: [1367, 1347, 1500, 1449, 1368],\n 383: [1, 185, 1361, 1367, 1368],\n 384: [96, 1470, 1443, 684, 320],\n 385: [1368, 1500, 1449, 913, 361],\n 386: [515, 318, 1131, 1347, 1449],\n 387: [50, 302, 1449, 1500, 12],\n 388: [1344, 1367, 1500, 64, 613],\n 389: [1500, 1368, 1449, 302, 127],\n 390: [1449, 1367, 12, 9, 1260],\n 391: [1449, 1500, 913, 9, 1189],\n 392: [867, 272, 1367, 50, 913],\n 393: [1347, 1500, 1449, 1368, 913],\n 394: [1500, 1368, 1347, 1449, 913],\n 395: [1449, 50, 1500, 913, 1344],\n 396: [1347, 1449, 313, 913, 318],\n 397: [1500, 913, 50, 1449, 127],\n 398: [1500, 1449, 913, 174, 1189],\n 399: [1500, 1449, 318, 313, 913],\n 400: [1449, 1347, 1443, 1368, 258],\n 401: [1449, 1500, 913, 1189, 318],\n 402: [1500, 1449, 913, 1189, 1368],\n 403: [1347, 1449, 1500, 913, 7],\n 404: [22, 1449, 1131, 1500, 169],\n 405: [143, 1543, 1457, 711, 814],\n 406: [1449, 1500, 913, 172, 134],\n 407: [1500, 1449, 913, 318, 134],\n 408: [1500, 1131, 320, 1418, 1347],\n 409: [1449, 313, 1500, 100, 913],\n 410: [313, 320, 50, 1368, 867],\n 411: [483, 50, 1368, 1347, 1500],\n 412: [186, 1367, 1500, 1449, 1368],\n 413: [181, 50, 1449, 1500, 173],\n 414: [514, 1449, 56, 1347, 1367],\n 415: [313, 1063, 408, 174, 169],\n 416: [1500, 1449, 913, 1189, 1367],\n 417: [1449, 313, 1500, 190, 56],\n 418: [1368, 1347, 64, 1131, 258],\n 419: [1368, 483, 50, 913, 1449],\n 420: [1189, 180, 513, 169, 1449],\n 421: [1449, 1500, 1347, 50, 913],\n 422: [1449, 1500, 320, 913, 1189],\n 423: [1449, 1500, 100, 302, 913],\n 424: [1500, 1449, 1524, 913, 1368],\n 425: [168, 1449, 1500, 50, 12],\n 426: [1500, 1347, 1368, 867, 1367],\n 427: [606, 1262, 169, 537, 531],\n 428: [913, 1449, 302, 313, 1418],\n 429: [272, 1500, 1449, 1368, 12],\n 430: [1449, 1500, 913, 318, 1189],\n 431: [816, 1347, 854, 656, 1449],\n 432: [1347, 1500, 1449, 1005, 913],\n 433: [408, 1449, 169, 269, 1500],\n 434: [1347, 1449, 169, 320, 913],\n 435: [1500, 1449, 50, 176, 913],\n 436: [1347, 1500, 1449, 1368, 913],\n 437: [1500, 1449, 50, 1368, 913],\n 438: [1449, 64, 1347, 12, 913],\n 439: [1368, 276, 1449, 427, 913],\n 440: [923, 98, 50, 613, 60],\n 442: [1347, 1500, 1449, 172, 913],\n 444: [1347, 1449, 12, 173, 483],\n 445: [1582, 814, 1348, 1343, 1320],\n 446: [1500, 320, 199, 913, 313],\n 447: [1347, 1449, 1500, 135, 313],\n 448: [1367, 474, 1500, 1524, 479],\n 449: [1449, 408, 1500, 357, 276],\n 450: [1500, 272, 50, 1449, 913],\n 451: [1449, 333, 173, 1500, 169],\n 452: [1500, 1449, 318, 50, 913],\n 453: [50, 172, 1500, 1449, 156],\n 454: [313, 1449, 1500, 272, 318],\n 455: [1500, 1449, 913, 1189, 56],\n 456: [1500, 1449, 913, 474, 1368],\n 457: [1500, 50, 1449, 89, 100],\n 458: [1500, 1449, 56, 320, 913],\n 459: [1449, 1500, 172, 913, 1367],\n 460: [515, 1449, 1500, 276, 100],\n 462: [69, 12, 1347, 954, 22]}"
     },
     "execution_count": 46,
     "metadata": {},
     "output_type": "execute_result"
    }
   ],
   "source": [
    "user_topK_recommendations_user_based"
   ],
   "metadata": {
    "collapsed": false
   }
  },
  {
   "cell_type": "code",
   "execution_count": 47,
   "outputs": [],
   "source": [
    "user_topK_recommendations_svd = get_top_k_recommendations(user_ratings_svd ,5)"
   ],
   "metadata": {
    "collapsed": false
   }
  },
  {
   "cell_type": "code",
   "execution_count": 48,
   "outputs": [
    {
     "data": {
      "text/plain": "{1: [1449, 169, 127, 408, 178],\n 2: [1449, 408, 169, 285, 302],\n 3: [320, 346, 408, 56, 483],\n 4: [867, 1194, 474, 302, 169],\n 5: [1449, 169, 408, 172, 641],\n 6: [1449, 474, 169, 603, 493],\n 7: [1449, 318, 408, 357, 320],\n 8: [1449, 867, 318, 313, 12],\n 9: [1449, 169, 318, 357, 483],\n 10: [1449, 318, 408, 169, 12],\n 11: [1449, 318, 483, 408, 169],\n 12: [1449, 169, 64, 12, 963],\n 13: [511, 408, 199, 867, 909],\n 14: [1449, 12, 169, 921, 318],\n 15: [408, 936, 318, 50, 427],\n 16: [50, 483, 169, 12, 480],\n 17: [408, 12, 169, 483, 50],\n 18: [1449, 100, 320, 963, 427],\n 19: [1449, 408, 318, 169, 1131],\n 20: [1449, 169, 408, 1131, 22],\n 21: [408, 1449, 656, 187, 854],\n 22: [318, 178, 187, 483, 127],\n 23: [408, 1449, 169, 320, 474],\n 24: [1449, 169, 357, 408, 12],\n 25: [1449, 408, 318, 64, 483],\n 26: [1449, 408, 169, 483, 318],\n 27: [1524, 1449, 483, 603, 1131],\n 28: [169, 318, 408, 64, 483],\n 29: [1449, 318, 483, 474, 408],\n 30: [1449, 169, 318, 408, 867],\n 31: [408, 1449, 169, 1019, 483],\n 32: [1449, 318, 483, 357, 272],\n 33: [169, 1449, 408, 320, 318],\n 34: [1449, 100, 357, 127, 1131],\n 35: [1449, 318, 313, 169, 603],\n 36: [169, 1449, 318, 320, 12],\n 37: [1449, 408, 169, 483, 199],\n 38: [143, 515, 427, 496, 402],\n 39: [408, 320, 1449, 963, 169],\n 40: [318, 64, 169, 603, 1449],\n 41: [1449, 408, 320, 474, 12],\n 42: [174, 169, 318, 313, 50],\n 43: [169, 408, 1449, 867, 483],\n 44: [169, 408, 318, 12, 1449],\n 45: [1449, 169, 408, 318, 483],\n 46: [1449, 318, 483, 169, 1131],\n 47: [1449, 318, 408, 169, 320],\n 48: [1449, 318, 169, 483, 64],\n 49: [320, 60, 474, 137, 919],\n 50: [1449, 1008, 867, 1010, 1167],\n 51: [50, 83, 173, 1449, 318],\n 52: [408, 1449, 169, 483, 318],\n 53: [1449, 169, 318, 64, 251],\n 54: [272, 318, 408, 169, 12],\n 55: [318, 1449, 169, 313, 22],\n 56: [1449, 318, 357, 408, 12],\n 57: [64, 318, 169, 1449, 313],\n 58: [320, 12, 124, 134, 1131],\n 59: [1449, 357, 408, 474, 187],\n 60: [1449, 408, 169, 320, 483],\n 61: [408, 1449, 313, 169, 318],\n 62: [1449, 169, 408, 127, 50],\n 63: [1449, 169, 318, 1131, 12],\n 64: [1449, 169, 483, 408, 50],\n 65: [1449, 64, 169, 50, 483],\n 66: [169, 12, 64, 50, 408],\n 67: [318, 169, 1449, 408, 966],\n 68: [169, 408, 1449, 1142, 483],\n 69: [1449, 178, 408, 320, 50],\n 70: [1449, 318, 483, 12, 64],\n 71: [1449, 357, 408, 169, 318],\n 72: [1449, 318, 169, 483, 493],\n 73: [179, 1449, 408, 603, 320],\n 74: [1449, 357, 318, 427, 169],\n 75: [1449, 56, 127, 187, 483],\n 76: [408, 1449, 513, 169, 357],\n 77: [641, 42, 12, 246, 1449],\n 78: [318, 603, 1449, 64, 169],\n 79: [1449, 169, 408, 64, 1131],\n 80: [1449, 12, 169, 483, 408],\n 81: [1449, 515, 12, 64, 408],\n 82: [1449, 50, 408, 483, 603],\n 83: [313, 318, 79, 174, 1449],\n 84: [1449, 408, 318, 169, 483],\n 85: [483, 1449, 169, 408, 178],\n 86: [169, 1449, 12, 408, 127],\n 87: [174, 50, 22, 169, 181],\n 88: [1449, 169, 318, 483, 178],\n 89: [169, 1449, 272, 515, 318],\n 90: [1449, 408, 427, 169, 474],\n 91: [1449, 22, 169, 408, 50],\n 92: [1449, 169, 408, 12, 483],\n 93: [408, 1449, 318, 169, 515],\n 94: [1449, 474, 654, 134, 127],\n 95: [169, 1449, 12, 50, 408],\n 96: [169, 1449, 408, 318, 127],\n 97: [1449, 187, 169, 408, 127],\n 98: [318, 483, 169, 603, 1449],\n 99: [318, 64, 357, 98, 1131],\n 100: [1449, 318, 64, 272, 22],\n 101: [318, 169, 64, 408, 1449],\n 102: [1449, 318, 169, 408, 483],\n 103: [1449, 169, 64, 12, 318],\n 104: [1449, 50, 169, 302, 174],\n 105: [302, 357, 427, 169, 408],\n 106: [1449, 318, 169, 357, 408],\n 107: [902, 318, 357, 64, 127],\n 108: [1449, 169, 318, 603, 483],\n 109: [169, 408, 79, 313, 1449],\n 110: [1449, 318, 169, 313, 496],\n 111: [408, 169, 1449, 178, 1367],\n 112: [1449, 318, 169, 408, 251],\n 113: [1449, 169, 318, 483, 408],\n 114: [169, 408, 89, 1449, 483],\n 115: [1449, 169, 408, 320, 285],\n 116: [1449, 56, 408, 246, 169],\n 117: [1449, 169, 408, 318, 483],\n 118: [180, 127, 169, 285, 515],\n 119: [1449, 408, 318, 867, 483],\n 120: [408, 1449, 169, 318, 64],\n 121: [408, 50, 169, 1449, 318],\n 122: [1449, 320, 483, 408, 169],\n 123: [1449, 169, 408, 9, 474],\n 124: [1449, 1131, 169, 318, 12],\n 125: [313, 96, 172, 181, 300],\n 126: [1449, 169, 408, 657, 60],\n 127: [169, 1449, 641, 1131, 483],\n 128: [1449, 483, 169, 408, 515],\n 129: [318, 1449, 286, 483, 357],\n 130: [169, 64, 318, 313, 1449],\n 131: [169, 272, 251, 318, 483],\n 132: [1449, 169, 320, 56, 408],\n 133: [169, 1449, 64, 12, 603],\n 134: [169, 22, 1449, 174, 483],\n 135: [1449, 169, 408, 483, 318],\n 136: [1449, 318, 169, 408, 483],\n 137: [12, 1131, 169, 313, 272],\n 138: [1449, 408, 169, 12, 474],\n 139: [1449, 169, 408, 318, 515],\n 140: [1449, 408, 169, 483, 867],\n 141: [313, 282, 241, 161, 126],\n 142: [134, 483, 1449, 318, 320],\n 143: [318, 313, 1449, 64, 169],\n 144: [1449, 318, 408, 427, 357],\n 145: [12, 867, 480, 318, 64],\n 146: [1131, 1449, 408, 320, 357],\n 147: [318, 1449, 169, 483, 1131],\n 148: [1449, 1131, 199, 641, 50],\n 149: [1449, 408, 318, 483, 285],\n 150: [1449, 169, 318, 1131, 178],\n 151: [408, 1449, 483, 178, 515],\n 152: [64, 169, 318, 1449, 143],\n 153: [1449, 357, 427, 251, 515],\n 154: [1449, 641, 127, 320, 408],\n 155: [1449, 318, 169, 320, 357],\n 156: [1449, 127, 187, 408, 169],\n 157: [1449, 318, 12, 408, 169],\n 158: [1449, 12, 408, 169, 285],\n 159: [408, 126, 272, 357, 313],\n 160: [1449, 483, 12, 357, 127],\n 161: [272, 1449, 315, 169, 357],\n 162: [169, 1449, 318, 483, 408],\n 163: [1449, 169, 408, 272, 12],\n 164: [318, 1449, 64, 169, 22],\n 165: [1449, 318, 169, 515, 408],\n 166: [50, 169, 1449, 318, 483],\n 167: [1449, 318, 408, 1125, 50],\n 168: [313, 126, 169, 408, 22],\n 169: [169, 1449, 313, 64, 408],\n 170: [169, 408, 318, 1449, 867],\n 171: [1449, 169, 408, 272, 511],\n 172: [318, 1449, 12, 408, 867],\n 173: [483, 64, 408, 169, 357],\n 174: [427, 318, 98, 515, 408],\n 175: [64, 318, 22, 50, 408],\n 176: [1449, 12, 180, 56, 134],\n 177: [357, 1449, 408, 12, 169],\n 178: [313, 174, 64, 318, 50],\n 179: [914, 313, 1449, 64, 916],\n 180: [1449, 318, 512, 357, 474],\n 181: [1449, 313, 318, 64, 272],\n 182: [1449, 408, 483, 169, 50],\n 183: [1449, 318, 169, 867, 1131],\n 184: [1449, 483, 408, 169, 318],\n 185: [169, 1449, 357, 483, 408],\n 186: [318, 79, 64, 496, 966],\n 187: [408, 1449, 169, 12, 483],\n 188: [1449, 318, 169, 515, 408],\n 189: [318, 357, 320, 1449, 603],\n 190: [313, 12, 64, 318, 272],\n 191: [1449, 483, 318, 169, 408],\n 192: [1449, 483, 408, 318, 357],\n 193: [1449, 408, 318, 169, 357],\n 194: [1449, 318, 199, 169, 483],\n 195: [12, 1449, 427, 318, 64],\n 196: [285, 1449, 169, 483, 1131],\n 197: [50, 1449, 22, 318, 408],\n 198: [1142, 408, 1449, 127, 169],\n 199: [1449, 408, 9, 357, 127],\n 200: [64, 169, 12, 408, 1449],\n 201: [1131, 1449, 318, 474, 515],\n 202: [169, 313, 963, 516, 408],\n 203: [1449, 318, 169, 64, 357],\n 204: [1449, 408, 483, 318, 242],\n 205: [169, 1449, 1131, 1524, 408],\n 206: [272, 1449, 12, 346, 923],\n 207: [1449, 483, 169, 427, 357],\n 208: [169, 408, 318, 515, 12],\n 209: [1449, 169, 313, 174, 318],\n 210: [1449, 169, 408, 483, 318],\n 211: [318, 313, 173, 966, 22],\n 212: [1449, 251, 318, 64, 320],\n 213: [1449, 169, 408, 483, 178],\n 214: [1449, 357, 474, 427, 513],\n 215: [1449, 169, 318, 480, 408],\n 216: [1449, 318, 56, 64, 98],\n 217: [1449, 56, 318, 603, 515],\n 218: [1449, 169, 408, 657, 603],\n 219: [1449, 169, 408, 611, 474],\n 220: [1449, 318, 169, 408, 12],\n 221: [1449, 12, 408, 169, 56],\n 222: [1449, 64, 318, 169, 272],\n 223: [313, 966, 272, 251, 71],\n 224: [313, 174, 64, 966, 1449],\n 225: [483, 178, 427, 1449, 408],\n 226: [318, 12, 408, 1449, 313],\n 227: [1449, 100, 408, 483, 427],\n 228: [812, 1524, 318, 1449, 867],\n 229: [344, 483, 1449, 427, 318],\n 230: [64, 22, 318, 313, 496],\n 231: [1449, 318, 603, 1131, 474],\n 232: [1449, 169, 408, 178, 170],\n 233: [1449, 318, 483, 427, 169],\n 234: [1449, 515, 169, 408, 178],\n 235: [1449, 512, 483, 408, 169],\n 236: [318, 427, 1449, 357, 64],\n 237: [1449, 169, 408, 483, 318],\n 238: [1449, 408, 169, 483, 513],\n 239: [745, 60, 647, 137, 512],\n 240: [1449, 318, 272, 357, 12],\n 241: [1449, 318, 169, 1131, 119],\n 242: [408, 169, 1449, 50, 64],\n 243: [1449, 408, 483, 169, 320],\n 244: [169, 357, 318, 474, 1449],\n 245: [1449, 867, 169, 64, 272],\n 246: [12, 853, 50, 483, 408],\n 247: [1449, 169, 178, 408, 318],\n 248: [408, 12, 1449, 483, 50],\n 249: [1449, 474, 408, 180, 12],\n 250: [1449, 12, 427, 313, 318],\n 251: [1449, 169, 408, 480, 483],\n 252: [357, 64, 199, 641, 603],\n 253: [318, 427, 133, 966, 169],\n 254: [313, 318, 169, 1449, 408],\n 255: [56, 324, 1449, 357, 318],\n 256: [313, 318, 1449, 169, 966],\n 257: [1449, 318, 169, 64, 408],\n 258: [1449, 318, 408, 169, 483],\n 259: [1449, 169, 318, 867, 408],\n 260: [318, 1449, 169, 408, 427],\n 261: [169, 1449, 318, 408, 12],\n 262: [1449, 483, 251, 408, 603],\n 263: [408, 427, 357, 511, 178],\n 264: [1449, 169, 50, 187, 603],\n 265: [169, 64, 318, 22, 313],\n 266: [1449, 320, 318, 515, 408],\n 267: [1449, 357, 408, 12, 127],\n 268: [408, 1449, 178, 89, 60],\n 269: [56, 60, 1103, 1449, 23],\n 270: [408, 12, 169, 178, 515],\n 271: [427, 169, 357, 1449, 511],\n 272: [1449, 169, 408, 187, 56],\n 273: [1449, 169, 318, 483, 408],\n 274: [1449, 169, 318, 408, 64],\n 275: [1449, 483, 318, 169, 178],\n 276: [1449, 187, 12, 89, 603],\n 277: [1449, 318, 867, 408, 64],\n 278: [318, 515, 1449, 169, 408],\n 279: [169, 502, 1449, 519, 152],\n 280: [318, 251, 1449, 9, 427],\n 281: [408, 169, 1131, 1449, 483],\n 282: [169, 1449, 12, 408, 127],\n 283: [408, 169, 1449, 483, 357],\n 284: [1449, 169, 318, 483, 474],\n 285: [1449, 169, 408, 357, 483],\n 286: [251, 318, 1449, 12, 603],\n 287: [1449, 1131, 169, 12, 320],\n 288: [1449, 427, 98, 483, 496],\n 289: [1449, 318, 98, 169, 603],\n 290: [169, 318, 174, 313, 1449],\n 291: [1449, 318, 320, 169, 408],\n 292: [1449, 357, 169, 318, 427],\n 293: [1449, 408, 483, 199, 169],\n 294: [169, 12, 50, 408, 64],\n 295: [169, 408, 1449, 603, 515],\n 296: [1449, 357, 318, 408, 483],\n 297: [1449, 169, 408, 1131, 64],\n 298: [318, 1449, 12, 64, 357],\n 299: [1449, 190, 408, 169, 483],\n 300: [320, 474, 357, 56, 1449],\n 301: [1449, 169, 318, 1131, 408],\n 302: [318, 169, 1449, 320, 357],\n 303: [127, 1449, 187, 357, 169],\n 304: [313, 1449, 169, 64, 1131],\n 305: [408, 1449, 251, 45, 513],\n 306: [1449, 318, 169, 427, 408],\n 307: [50, 483, 867, 1449, 172],\n 308: [1449, 169, 408, 474, 603],\n 309: [169, 1449, 12, 515, 921],\n 310: [1142, 408, 1449, 169, 12],\n 311: [169, 96, 64, 1449, 313],\n 312: [1449, 169, 427, 178, 318],\n 313: [1449, 357, 480, 169, 178],\n 314: [318, 161, 169, 313, 22],\n 315: [1449, 320, 318, 408, 483],\n 316: [427, 923, 582, 716, 275],\n 317: [1449, 318, 169, 483, 1131],\n 318: [1449, 169, 318, 483, 867],\n 319: [1449, 318, 169, 483, 408],\n 320: [169, 1449, 318, 408, 1131],\n 321: [1449, 318, 427, 169, 1131],\n 322: [1449, 427, 169, 603, 483],\n 323: [1449, 12, 64, 408, 169],\n 324: [189, 408, 272, 1194, 603],\n 325: [408, 1449, 320, 647, 178],\n 326: [613, 199, 648, 313, 520],\n 327: [1449, 483, 427, 896, 285],\n 328: [318, 1449, 64, 272, 966],\n 329: [1449, 357, 318, 427, 178],\n 330: [79, 169, 966, 1449, 318],\n 331: [1449, 867, 302, 318, 272],\n 332: [169, 1449, 318, 64, 408],\n 333: [1449, 169, 318, 174, 64],\n 334: [1449, 169, 12, 483, 357],\n 335: [318, 1131, 902, 515, 169],\n 336: [318, 64, 173, 12, 1449],\n 337: [1449, 169, 318, 408, 313],\n 338: [1449, 320, 474, 513, 654],\n 339: [1449, 408, 654, 474, 483],\n 340: [966, 318, 143, 64, 79],\n 341: [1449, 318, 169, 357, 480],\n 342: [320, 251, 9, 408, 482],\n 343: [1449, 134, 408, 357, 127],\n 344: [1449, 408, 169, 100, 285],\n 345: [1449, 408, 169, 12, 483],\n 346: [1449, 318, 169, 408, 22],\n 347: [64, 272, 357, 313, 174],\n 348: [1449, 169, 318, 1131, 867],\n 349: [1449, 408, 285, 127, 169],\n 350: [1449, 483, 603, 357, 127],\n 351: [408, 1449, 169, 318, 483],\n 352: [169, 98, 50, 1449, 174],\n 353: [313, 272, 64, 12, 1449],\n 354: [1449, 408, 513, 320, 251],\n 355: [483, 515, 98, 178, 64],\n 356: [318, 169, 357, 64, 408],\n 357: [169, 64, 318, 313, 12],\n 358: [1524, 512, 318, 582, 515],\n 359: [1449, 169, 318, 408, 64],\n 360: [1449, 408, 483, 474, 320],\n 361: [1449, 318, 169, 427, 408],\n 362: [318, 302, 408, 427, 357],\n 363: [408, 12, 320, 223, 302],\n 364: [1449, 318, 64, 169, 483],\n 365: [318, 1449, 408, 1137, 64],\n 366: [318, 511, 320, 1131, 408],\n 367: [1449, 169, 318, 408, 515],\n 368: [1449, 169, 408, 285, 483],\n 369: [169, 1449, 483, 318, 178],\n 370: [1449, 427, 318, 603, 607],\n 371: [318, 1449, 169, 408, 22],\n 372: [318, 1449, 64, 357, 1524],\n 373: [169, 1449, 64, 408, 190],\n 374: [313, 963, 79, 1449, 169],\n 375: [169, 1449, 408, 302, 483],\n 376: [1449, 169, 408, 318, 483],\n 377: [318, 408, 169, 12, 483],\n 378: [1449, 318, 169, 483, 408],\n 379: [1449, 408, 12, 427, 169],\n 380: [12, 408, 169, 318, 515],\n 381: [480, 134, 483, 603, 408],\n 382: [1449, 56, 1268, 180, 320],\n 383: [1449, 357, 318, 427, 408],\n 384: [1449, 318, 408, 169, 427],\n 385: [192, 656, 512, 1449, 654],\n 386: [1449, 318, 515, 169, 357],\n 387: [641, 179, 89, 320, 12],\n 388: [318, 64, 96, 169, 12],\n 389: [1449, 127, 483, 134, 408],\n 390: [1449, 169, 408, 613, 174],\n 391: [1449, 178, 427, 169, 603],\n 392: [1449, 427, 483, 408, 357],\n 393: [1449, 64, 966, 408, 22],\n 394: [318, 1449, 64, 169, 98],\n 395: [1449, 169, 408, 50, 127],\n 396: [1449, 169, 64, 1131, 963],\n 397: [1449, 127, 169, 641, 408],\n 398: [169, 318, 174, 483, 178],\n 399: [1449, 318, 169, 408, 251],\n 400: [1449, 169, 408, 12, 357],\n 401: [318, 313, 1449, 169, 83],\n 402: [1449, 408, 169, 483, 313],\n 403: [1449, 64, 12, 169, 318],\n 404: [169, 22, 408, 174, 64],\n 405: [1063, 1218, 1053, 842, 64],\n 406: [1449, 641, 408, 320, 474],\n 407: [1449, 169, 318, 12, 64],\n 408: [169, 408, 178, 1449, 483],\n 409: [1449, 357, 100, 318, 98],\n 410: [313, 1449, 169, 963, 174],\n 411: [1449, 169, 408, 318, 483],\n 412: [1449, 1131, 169, 12, 174],\n 413: [1449, 408, 483, 318, 169],\n 414: [1449, 64, 408, 302, 318],\n 415: [1449, 318, 169, 12, 408],\n 416: [318, 1449, 12, 98, 496],\n 417: [318, 1449, 408, 483, 169],\n 418: [333, 288, 64, 318, 251],\n 419: [1449, 64, 169, 50, 483],\n 420: [1449, 408, 169, 483, 513],\n 421: [169, 1449, 12, 408, 89],\n 422: [1449, 357, 318, 474, 320],\n 423: [1449, 408, 318, 169, 483],\n 424: [1449, 1084, 740, 315, 169],\n 425: [12, 357, 408, 169, 134],\n 426: [408, 169, 483, 318, 1449],\n 427: [589, 646, 963, 923, 921],\n 428: [1449, 169, 408, 50, 318],\n 429: [1449, 408, 12, 169, 483],\n 430: [318, 1449, 357, 64, 427],\n 431: [169, 318, 64, 1449, 613],\n 432: [272, 64, 169, 1449, 357],\n 433: [408, 1449, 169, 919, 1005],\n 434: [313, 1524, 169, 867, 64],\n 435: [1449, 169, 408, 12, 172],\n 436: [1449, 318, 408, 169, 357],\n 437: [1449, 427, 607, 132, 479],\n 438: [169, 64, 318, 174, 272],\n 439: [1449, 169, 408, 318, 50],\n 440: [169, 408, 1449, 923, 483],\n 442: [1449, 320, 56, 474, 169],\n 444: [1449, 251, 318, 357, 272],\n 445: [357, 56, 318, 427, 1143],\n 446: [408, 169, 318, 302, 1449],\n 447: [12, 1449, 50, 169, 408],\n 448: [896, 1062, 408, 127, 169],\n 449: [408, 60, 169, 285, 127],\n 450: [169, 1449, 318, 408, 199],\n 451: [333, 313, 96, 966, 169],\n 452: [318, 1449, 408, 480, 483],\n 453: [56, 1449, 169, 12, 64],\n 454: [318, 313, 1449, 169, 22],\n 455: [1449, 169, 408, 318, 483],\n 456: [1449, 474, 169, 408, 357],\n 457: [1449, 408, 12, 169, 318],\n 458: [408, 1449, 127, 169, 134],\n 459: [169, 1449, 22, 408, 96],\n 460: [1449, 137, 408, 513, 483],\n 462: [313, 64, 318, 272, 357]}"
     },
     "execution_count": 48,
     "metadata": {},
     "output_type": "execute_result"
    }
   ],
   "source": [
    "user_topK_recommendations_svd"
   ],
   "metadata": {
    "collapsed": false
   }
  },
  {
   "cell_type": "markdown",
   "source": [
    " - Hit rate, averaged across users"
   ],
   "metadata": {
    "collapsed": false
   }
  },
  {
   "cell_type": "code",
   "execution_count": 49,
   "outputs": [],
   "source": [
    "user_recommendations_user_based = {}\n",
    "user_recommendations_svd = {}\n",
    "\n",
    "# loop over all users in the test set\n",
    "for user in test_users:\n",
    "\n",
    "    # get the user's item ratings in the training set\n",
    "    train_ratings = train_data_df[train_data_df['user_id']==user]\n",
    "\n",
    "    # get a list of items that the user has not rated\n",
    "    unrated_items = list(set(train_data_df['movie_id']) - set(train_ratings['movie_id']))\n",
    "\n",
    "    # predict ratings for the unrated items using the user-based and SVD models\n",
    "    unrated_ratings_user_based = [knn_model.predict(user, item).est for item in unrated_items]\n",
    "    unrated_ratings_svd = [svd_model.predict(user, item).est for item in unrated_items]\n",
    "\n",
    "    # create a DataFrame of the predicted ratings for each item\n",
    "    predicted_ratings_user_based = pd.DataFrame({'movie_id': unrated_items, 'predicted_rating': unrated_ratings_user_based})\n",
    "    predicted_ratings_svd = pd.DataFrame({'movie_id': unrated_items, 'predicted_rating': unrated_ratings_svd})\n",
    "\n",
    "    # sort the DataFrame in descending order of predicted rating and keep only the top-k items\n",
    "    top_k_user_based = predicted_ratings_user_based.sort_values(by=['predicted_rating'], ascending=False)[:5]\n",
    "    top_k_svd = predicted_ratings_svd.sort_values(by=['predicted_rating'], ascending=False)[:5]\n",
    "\n",
    "    # add the top-k recommendations to the dictionaries\n",
    "    user_recommendations_user_based[user] = top_k_user_based\n",
    "    user_recommendations_svd[user] = top_k_svd"
   ],
   "metadata": {
    "collapsed": false
   }
  },
  {
   "cell_type": "code",
   "execution_count": 50,
   "outputs": [],
   "source": [
    "# convert 5 point ratings to binary labels\n",
    "test_data_df['rating_bin'] = test_data_df['rating'].apply(lambda x: 1 if x >= 3 else 0)\n"
   ],
   "metadata": {
    "collapsed": false
   }
  },
  {
   "cell_type": "code",
   "execution_count": 51,
   "outputs": [
    {
     "data": {
      "text/plain": "0        1\n1        1\n2        1\n3        1\n4        1\n        ..\n18845    1\n18846    0\n18847    1\n18848    1\n18849    1\nName: rating_bin, Length: 18850, dtype: int64"
     },
     "execution_count": 51,
     "metadata": {},
     "output_type": "execute_result"
    }
   ],
   "source": [
    "test_data_df['rating_bin']"
   ],
   "metadata": {
    "collapsed": false
   }
  },
  {
   "cell_type": "code",
   "execution_count": 52,
   "outputs": [
    {
     "name": "stderr",
     "output_type": "stream",
     "text": [
      "E:\\Programe\\Anaconda3\\envs\\web\\lib\\site-packages\\ipykernel_launcher.py:10: SettingWithCopyWarning: \n",
      "A value is trying to be set on a copy of a slice from a DataFrame.\n",
      "Try using .loc[row_indexer,col_indexer] = value instead\n",
      "\n",
      "See the caveats in the documentation: https://pandas.pydata.org/pandas-docs/stable/user_guide/indexing.html#returning-a-view-versus-a-copy\n",
      "  # Remove the CWD from sys.path while we load stuff.\n"
     ]
    }
   ],
   "source": [
    "# create lists to store hit rates for each user\n",
    "hit_rates_user_based = []\n",
    "hit_rates_svd = []\n",
    "\n",
    "# loop over all users in the test set\n",
    "for user in test_users:\n",
    "\n",
    "    # get the user's test ratings\n",
    "    user_test_ratings = test_data_df[test_data_df['user_id'] == user]\n",
    "    user_test_ratings['rating'] = user_test_ratings['rating'].apply(lambda x: 1 if x >= 3 else 0) # map ratings >= 3 to 1, and < 3 to 0\n",
    "\n",
    "    # get the top-k recommendations for the user using user-based CF and SVD\n",
    "    user_top_k_user_based = user_recommendations_user_based[user]['movie_id'].tolist()\n",
    "    user_top_k_svd = user_recommendations_svd[user]['movie_id'].tolist()\n",
    "\n",
    "    # check if any of the recommended items are in the user's test ratings\n",
    "    hits_user_based = user_test_ratings['movie_id'].isin(user_top_k_user_based).any()\n",
    "    hits_svd = user_test_ratings['movie_id'].isin(user_top_k_svd).any()\n",
    "\n",
    "    # calculate the hit rate for the user and add it to the list\n",
    "    hit_rate_user_based = 1 if hits_user_based.any() else 0\n",
    "    hit_rate_svd = 1 if hits_svd.any() else 0\n",
    "\n",
    "    hit_rates_user_based.append(hit_rate_user_based)\n",
    "    hit_rates_svd.append(hit_rate_svd)\n",
    "\n",
    "# calculate the average hit rates across all users\n",
    "avg_hit_rate_user_based = sum(hit_rates_user_based) / len(hit_rates_user_based)\n",
    "avg_hit_rate_svd = sum(hit_rates_svd) / len(hit_rates_svd)\n",
    "\n"
   ],
   "metadata": {
    "collapsed": false
   }
  },
  {
   "cell_type": "code",
   "execution_count": 53,
   "outputs": [
    {
     "name": "stderr",
     "output_type": "stream",
     "text": [
      "E:\\Programe\\Anaconda3\\envs\\web\\lib\\site-packages\\ipykernel_launcher.py:9: SettingWithCopyWarning: \n",
      "A value is trying to be set on a copy of a slice from a DataFrame.\n",
      "Try using .loc[row_indexer,col_indexer] = value instead\n",
      "\n",
      "See the caveats in the documentation: https://pandas.pydata.org/pandas-docs/stable/user_guide/indexing.html#returning-a-view-versus-a-copy\n",
      "  if __name__ == \"__main__\":\n"
     ]
    }
   ],
   "source": [
    "# create a list to store hit rates for TopPop\n",
    "hit_rates_top_pop = []\n",
    "k=5\n",
    "# loop over all users in the test set\n",
    "for user in test_users:\n",
    "\n",
    "    # get the user's test ratings\n",
    "    user_test_ratings = test_data_df[test_data_df['user_id'] == user]\n",
    "    user_test_ratings['rating'] = user_test_ratings['rating'].apply(lambda x: 1 if x >= 3 else 0) # map ratings >= 3 to 1, and < 3 to 0\n",
    "\n",
    "    # get the top-k recommendations for the user using TopPop\n",
    "    user_top_k = recommended_movies[:k]\n",
    "\n",
    "    # check if any of the recommended items are in the user's test ratings\n",
    "    hits_top_pop = user_test_ratings['movie_id'].isin(user_top_k).any()\n",
    "\n",
    "    # calculate the hit rate for the user and add it to the list\n",
    "    hit_rate_top_pop = 1 if hits_top_pop.any() else 0\n",
    "    hit_rates_top_pop.append(hit_rate_top_pop)\n",
    "\n",
    "# calculate the average hit rate across all users\n",
    "avg_hit_rate_top_pop = sum(hit_rates_top_pop) / len(hit_rates_top_pop)\n"
   ],
   "metadata": {
    "collapsed": false
   }
  },
  {
   "cell_type": "code",
   "execution_count": 54,
   "outputs": [
    {
     "name": "stdout",
     "output_type": "stream",
     "text": [
      "Average Hit rate (User-based CF): 0.07\n",
      "Average Hit rate (SVD): 0.36\n",
      "Average Hit rate (TopPop): 0.63\n"
     ]
    }
   ],
   "source": [
    "print(\"Average Hit rate (User-based CF): {:.2f}\".format(avg_hit_rate_user_based))\n",
    "print(\"Average Hit rate (SVD): {:.2f}\".format(avg_hit_rate_svd))\n",
    "print(\"Average Hit rate (TopPop): {:.2f}\".format(avg_hit_rate_top_pop))"
   ],
   "metadata": {
    "collapsed": false
   }
  },
  {
   "cell_type": "markdown",
   "source": [
    "- Precision@k, averaged across users"
   ],
   "metadata": {
    "collapsed": false
   }
  },
  {
   "cell_type": "code",
   "execution_count": 55,
   "outputs": [],
   "source": [
    "def precision_at_k(user_recommendations, test_ratings, k):\n",
    "    precision_sum = 0\n",
    "    user_count = 0\n",
    "\n",
    "    for user_id in user_recommendations.keys():\n",
    "        # get the top-k recommendations for the user\n",
    "        user_top_k = user_recommendations[user_id][:k]\n",
    "\n",
    "        # get the user's ratings in the test split\n",
    "        user_test_ratings = test_ratings[test_ratings['user_id'] == user_id]\n",
    "\n",
    "        # convert the ratings to binary labels\n",
    "        user_test_ratings['rating'] = user_test_ratings['rating'].apply(lambda x: 1 if x >= 3 else 0)\n",
    "\n",
    "        # check how many of the recommended items are positively rated by the user\n",
    "        hits = user_top_k['movie_id'].isin(user_test_ratings['movie_id'][user_test_ratings['rating'] == 1]).sum()\n",
    "\n",
    "        # calculate the precision@k for the user and add it to the sum\n",
    "        precision = hits / k\n",
    "        precision_sum += precision\n",
    "\n",
    "        # increment the user count\n",
    "        user_count += 1\n",
    "\n",
    "    # calculate the average precision@k across all users\n",
    "    avg_precision = precision_sum / user_count\n",
    "\n",
    "    return avg_precision"
   ],
   "metadata": {
    "collapsed": false
   }
  },
  {
   "cell_type": "code",
   "execution_count": 56,
   "outputs": [
    {
     "name": "stderr",
     "output_type": "stream",
     "text": [
      "E:\\Programe\\Anaconda3\\envs\\web\\lib\\site-packages\\ipykernel_launcher.py:13: SettingWithCopyWarning: \n",
      "A value is trying to be set on a copy of a slice from a DataFrame.\n",
      "Try using .loc[row_indexer,col_indexer] = value instead\n",
      "\n",
      "See the caveats in the documentation: https://pandas.pydata.org/pandas-docs/stable/user_guide/indexing.html#returning-a-view-versus-a-copy\n",
      "  del sys.path[0]\n"
     ]
    }
   ],
   "source": [
    "precision_at_k_user_based = precision_at_k(user_recommendations_user_based, test_data_df, 5)\n",
    "precision_at_k_svd = precision_at_k(user_recommendations_svd, test_data_df, 5)"
   ],
   "metadata": {
    "collapsed": false
   }
  },
  {
   "cell_type": "code",
   "execution_count": 57,
   "outputs": [],
   "source": [
    "def precision_at_k_top_pop(recommended_movies, test_ratings, k):\n",
    "    precision_sum = 0\n",
    "    user_count = 0\n",
    "\n",
    "    for user_id in test_ratings['user_id'].unique():\n",
    "        # get the top-k recommendations for the user\n",
    "        user_top_k = recommended_movies[:k]\n",
    "\n",
    "        # get the user's ratings in the test split\n",
    "        user_test_ratings = test_ratings[test_ratings['user_id'] == user_id]\n",
    "\n",
    "        # convert the ratings to binary labels\n",
    "        user_test_ratings['rating'] = user_test_ratings['rating'].apply(lambda x: 1 if x >= 3 else 0)\n",
    "\n",
    "        # check how many of the recommended items are positively rated by the user\n",
    "        hits = set(user_top_k).intersection(set(user_test_ratings['movie_id'][user_test_ratings['rating'] == 1]))\n",
    "\n",
    "        # calculate the precision@k for the user and add it to the sum\n",
    "        precision = len(hits) / k\n",
    "        precision_sum += precision\n",
    "\n",
    "        # increment the user count\n",
    "        user_count += 1\n",
    "\n",
    "    # calculate the average precision@k across all users\n",
    "    avg_precision = precision_sum / user_count\n",
    "\n",
    "    return avg_precision"
   ],
   "metadata": {
    "collapsed": false
   }
  },
  {
   "cell_type": "code",
   "execution_count": 58,
   "outputs": [
    {
     "name": "stderr",
     "output_type": "stream",
     "text": [
      "E:\\Programe\\Anaconda3\\envs\\web\\lib\\site-packages\\ipykernel_launcher.py:13: SettingWithCopyWarning: \n",
      "A value is trying to be set on a copy of a slice from a DataFrame.\n",
      "Try using .loc[row_indexer,col_indexer] = value instead\n",
      "\n",
      "See the caveats in the documentation: https://pandas.pydata.org/pandas-docs/stable/user_guide/indexing.html#returning-a-view-versus-a-copy\n",
      "  del sys.path[0]\n"
     ]
    }
   ],
   "source": [
    "# recommend the top-k movies with the highest rating frequency\n",
    "recommended_movies = top_pop_recommendations(freq_high_ratings, k=5)\n",
    "\n",
    "# calculate Precision@10 for the TopPop algorithm\n",
    "precision_at_k_top_pop = precision_at_k_top_pop(recommended_movies, test_data_df, k=5)"
   ],
   "metadata": {
    "collapsed": false
   }
  },
  {
   "cell_type": "code",
   "execution_count": 59,
   "outputs": [
    {
     "name": "stdout",
     "output_type": "stream",
     "text": [
      "Precision@5 (User-based CF): 0.01351\n",
      "Precision@5 (SVD): 0.11460\n",
      "Precision@5 (TopPop): 0.19259\n"
     ]
    }
   ],
   "source": [
    "print(\"Precision@5 (User-based CF): {:.5f}\".format(precision_at_k_user_based))\n",
    "print(\"Precision@5 (SVD): {:.5f}\".format(precision_at_k_svd))\n",
    "print(\"Precision@5 (TopPop): {:.5f}\".format(precision_at_k_top_pop))"
   ],
   "metadata": {
    "collapsed": false
   }
  },
  {
   "cell_type": "markdown",
   "source": [
    "- Mean Average Precision (MAP@k)"
   ],
   "metadata": {
    "collapsed": false
   }
  },
  {
   "cell_type": "code",
   "execution_count": 60,
   "outputs": [],
   "source": [
    "def mapk(recommended, true, k):\n",
    "    if len(recommended) > k:\n",
    "        recommended = recommended[:k]\n",
    "    score = 0.0\n",
    "    num_hits = 0.0\n",
    "    for i, item in enumerate(recommended):\n",
    "        if item in true and item not in recommended[:i]:\n",
    "            num_hits += 1.0\n",
    "            score += num_hits / (i + 1.0)\n",
    "    if not true:\n",
    "        return 0.0\n",
    "    return score / min(len(true), k)"
   ],
   "metadata": {
    "collapsed": false
   }
  },
  {
   "cell_type": "code",
   "execution_count": 61,
   "outputs": [],
   "source": [
    "\n",
    "# convert test ratings to binary labels\n",
    "test_labels = np.where(test_data_df['rating'] >= 3, 1, 0)\n",
    "\n",
    "# initialize variables\n",
    "mapk_user_based = []\n",
    "mapk_svd = []\n",
    "\n",
    "# calculate MAP@k for each user and add it to the list\n",
    "for user in test_data_df['user_id'].unique():\n",
    "    user_test_ratings = test_data_df[test_data_df['user_id'] == user]\n",
    "    user_test_labels = test_labels[test_data_df['user_id'] == user]\n",
    "    user_top_k_user_based = user_recommendations_user_based[user]\n",
    "    user_top_k_svd = user_recommendations_svd[user]\n",
    "    mapk_user_based.append(mapk(user_top_k_user_based['movie_id'].tolist(), np.where(user_test_labels == 1)[0].tolist(), 5))\n",
    "    mapk_svd.append(mapk(user_top_k_svd['movie_id'].tolist(), np.where(user_test_labels == 1)[0].tolist(), 5))\n",
    "\n",
    "# calculate the average MAP@k for each model\n",
    "avg_mapk_user_based = np.mean(mapk_user_based)\n",
    "avg_mapk_svd = np.mean(mapk_svd)\n",
    "\n"
   ],
   "metadata": {
    "collapsed": false
   }
  },
  {
   "cell_type": "code",
   "execution_count": 62,
   "outputs": [],
   "source": [
    "#toppop sys\n",
    "recommended_movies = top_pop_recommendations( freq_high_ratings, k=5)\n",
    "\n",
    "k = 5\n",
    "mapk_top_pop = []\n",
    "for user in test_data_df['user_id'].unique():\n",
    "    user_test_ratings = test_data_df[test_data_df['user_id'] == user]\n",
    "    user_test_labels = test_labels[test_data_df['user_id'] == user]\n",
    "    user_top_k = recommended_movies\n",
    "    mapk_top_pop.append(mapk(user_top_k, np.where(user_test_labels == 1)[0].tolist(), k))\n",
    "\n",
    "# Step 6: calculate average MAP@k\n",
    "avg_mapk_top_pop = np.mean(mapk_top_pop)"
   ],
   "metadata": {
    "collapsed": false
   }
  },
  {
   "cell_type": "code",
   "execution_count": 63,
   "outputs": [
    {
     "name": "stdout",
     "output_type": "stream",
     "text": [
      "Average MAP@5 (User-based CF): 0.00424\n",
      "Average MAP@5 (SVD): 0.01685\n",
      "Average MAP@5 (TopPop): 0.10919\n"
     ]
    }
   ],
   "source": [
    "print(\"Average MAP@5 (User-based CF): {:.5f}\".format(avg_mapk_user_based))\n",
    "print(\"Average MAP@5 (SVD): {:.5f}\".format(avg_mapk_svd))\n",
    "print(\"Average MAP@5 (TopPop): {:.5f}\".format(avg_mapk_top_pop))\n"
   ],
   "metadata": {
    "collapsed": false
   }
  },
  {
   "cell_type": "markdown",
   "source": [
    "- Mean Reciprocal Rank (MRR@k)"
   ],
   "metadata": {
    "collapsed": false
   }
  },
  {
   "cell_type": "code",
   "execution_count": 64,
   "outputs": [],
   "source": [
    "# calculate MRR@k for each user and add it to the list\n",
    "def mrrk(recommended, true, k):\n",
    "    if len(recommended) > k:\n",
    "        recommended = recommended[:k]\n",
    "    for i, item in enumerate(recommended):\n",
    "        if item in true:\n",
    "            return 1.0 / (i + 1.0)\n",
    "    return 0.0"
   ],
   "metadata": {
    "collapsed": false
   }
  },
  {
   "cell_type": "code",
   "execution_count": 65,
   "outputs": [],
   "source": [
    "mrr_user_based = []\n",
    "mrr_svd = []\n",
    "\n",
    "for user in test_data_df['user_id'].unique():\n",
    "    user_test_ratings = test_data_df[test_data_df['user_id'] == user]\n",
    "    user_test_labels = test_labels[test_data_df['user_id'] == user]\n",
    "    user_top_k_user_based = user_recommendations_user_based[user]\n",
    "    user_top_k_svd = user_recommendations_svd[user]\n",
    "    mrr_user_based.append(mrrk(user_top_k_user_based['movie_id'].tolist(), np.where(user_test_labels == 1)[0].tolist(), 5))\n",
    "    mrr_svd.append(mrrk(user_top_k_svd['movie_id'].tolist(), np.where(user_test_labels == 1)[0].tolist(), 5))\n",
    "\n",
    "# calculate the average MRR@k for each model\n",
    "avg_mrr_user_based = np.mean(mrr_user_based)\n",
    "avg_mrr_svd = np.mean(mrr_svd)\n",
    "\n"
   ],
   "metadata": {
    "collapsed": false
   }
  },
  {
   "cell_type": "code",
   "execution_count": 66,
   "outputs": [],
   "source": [
    "#toppop sys\n",
    "# calculate MRR@k for top-popularity recommender\n",
    "mrr_top_pop = []\n",
    "for user in test_data_df['user_id'].unique():\n",
    "    user_test_labels = test_labels[test_data_df['user_id'] == user]\n",
    "    user_top_k_top_pop = recommended_movies[:5]\n",
    "    mrr_top_pop.append(mrrk(user_top_k_top_pop, np.where(user_test_labels == 1)[0].tolist(), 5))\n",
    "\n",
    "# calculate the average MRR@k for the top-popularity recommender\n",
    "avg_mrr_top_pop = np.mean(mrr_top_pop)\n"
   ],
   "metadata": {
    "collapsed": false
   }
  },
  {
   "cell_type": "code",
   "execution_count": 67,
   "outputs": [
    {
     "name": "stdout",
     "output_type": "stream",
     "text": [
      "Average MRR@5 (User-based CF): 0.02121\n",
      "Average MRR@5 (SVD): 0.07371\n",
      "Average MRR@5 (Top-Popularity): 0.38250\n"
     ]
    }
   ],
   "source": [
    "print(\"Average MRR@5 (User-based CF): {:.5f}\".format(avg_mrr_user_based))\n",
    "print(\"Average MRR@5 (SVD): {:.5f}\".format(avg_mrr_svd))\n",
    "print(\"Average MRR@5 (Top-Popularity): {:.5f}\".format(avg_mrr_top_pop))"
   ],
   "metadata": {
    "collapsed": false
   }
  },
  {
   "cell_type": "markdown",
   "source": [
    "- Coverage"
   ],
   "metadata": {
    "collapsed": false
   }
  },
  {
   "cell_type": "code",
   "execution_count": 68,
   "outputs": [],
   "source": [
    "#coverage for CF\n",
    "# get the list of unique items in the test set\n",
    "test_items = test_data_df['movie_id'].unique()\n",
    "\n",
    "# calculate the number of unique items recommended by each model\n",
    "user_based_items = set()\n",
    "for user in user_recommendations_user_based:\n",
    "    user_based_items.update(user_recommendations_user_based[user]['movie_id'])\n",
    "svd_items = set()\n",
    "for user in user_recommendations_svd:\n",
    "    svd_items.update(user_recommendations_svd[user]['movie_id'])\n",
    "\n",
    "# calculate coverage for each model\n",
    "coverage_user_based = len(user_based_items.intersection(test_items)) / len(test_items)\n",
    "coverage_svd = len(svd_items.intersection(test_items)) / len(test_items)"
   ],
   "metadata": {
    "collapsed": false
   }
  },
  {
   "cell_type": "code",
   "execution_count": 69,
   "outputs": [],
   "source": [
    "#coverage toppop\n",
    "# Count the number of unique movies recommended by the model\n",
    "unique_recommendations = set(recommended_movies)\n",
    "\n",
    "num_movies = len(test_data_df['movie_id'].unique())\n",
    "\n",
    "\n",
    "# Calculate the coverage\n",
    "coverage = len(unique_recommendations) / num_movies * 100"
   ],
   "metadata": {
    "collapsed": false
   }
  },
  {
   "cell_type": "code",
   "execution_count": 70,
   "outputs": [
    {
     "name": "stdout",
     "output_type": "stream",
     "text": [
      "Coverage (User-based CF): 12.75%\n",
      "Coverage (SVD): 6.61%\n",
      "Coverage (TopPop): 0.39%\n"
     ]
    }
   ],
   "source": [
    "print(\"Coverage (User-based CF): {:.2%}\".format(coverage_user_based))\n",
    "print(\"Coverage (SVD): {:.2%}\".format(coverage_svd))\n",
    "print(\"Coverage (TopPop): {:.2f}%\".format(coverage))"
   ],
   "metadata": {
    "collapsed": false
   }
  },
  {
   "cell_type": "markdown",
   "source": [
    "Error Analysis for the neighborhood-based CF:"
   ],
   "metadata": {
    "collapsed": false
   }
  },
  {
   "cell_type": "markdown",
   "source": [
    "- Ordered by the value of the timestamp, take the first and last users from the test set as reference and retrieve the 10 nearest neighbours of each reference user. Print their rate history and analyse their predictions.\n"
   ],
   "metadata": {
    "collapsed": false
   }
  },
  {
   "cell_type": "code",
   "execution_count": 71,
   "outputs": [
    {
     "data": {
      "text/plain": "Index(['user_id', 'movie_id', 'rating', 'timestamp', 'id_in_movielens',\n       'id_in_metadata', 'adult', 'belongs_to_collection', 'budget', 'genres',\n       'homepage', 'id', 'imdb_id', 'original_language', 'original_title',\n       'overview', 'popularity', 'poster_path', 'production_companies',\n       'production_countries', 'release_date', 'revenue', 'runtime',\n       'spoken_languages', 'status', 'tagline', 'title', 'video',\n       'vote_average', 'vote_count', 'rating_bin'],\n      dtype='object')"
     },
     "execution_count": 71,
     "metadata": {},
     "output_type": "execute_result"
    }
   ],
   "source": [
    "test_data_df.columns"
   ],
   "metadata": {
    "collapsed": false
   }
  },
  {
   "cell_type": "code",
   "execution_count": 72,
   "outputs": [
    {
     "name": "stdout",
     "output_type": "stream",
     "text": [
      "First user id: 259\n",
      "Last user id: 189\n"
     ]
    }
   ],
   "source": [
    "# Sort the test set by timestamp\n",
    "testset_sorted = test_data_df.sort_values('timestamp')\n",
    "\n",
    "# get the first and last users from the test set\n",
    "first_user = testset_sorted['user_id'].iloc[0]\n",
    "last_user = testset_sorted['user_id'].iloc[-1]\n",
    "\n",
    "print(\"First user id:\", first_user)\n",
    "print(\"Last user id:\", last_user)\n"
   ],
   "metadata": {
    "collapsed": false
   }
  },
  {
   "cell_type": "code",
   "execution_count": 73,
   "outputs": [],
   "source": [
    "# retrieve the 10 nearest neighbors of each reference user\n",
    "first_user_neighbors = knn_model.get_neighbors(first_user, k=10)\n",
    "last_user_neighbors = knn_model.get_neighbors(last_user, k=10)\n"
   ],
   "metadata": {
    "collapsed": false
   }
  },
  {
   "cell_type": "code",
   "execution_count": 74,
   "outputs": [],
   "source": [
    "# Print the rate history of each neighbor\n",
    "def get_rate_history(user_id,df):\n",
    "    user_ratings = df[df['user_id'] == user_id]\n",
    "    user_rate_history = {row['movie_id']: row['rating'] for index, row in user_ratings.iterrows()}\n",
    "    return user_rate_history"
   ],
   "metadata": {
    "collapsed": false
   }
  },
  {
   "cell_type": "code",
   "execution_count": 75,
   "outputs": [
    {
     "name": "stdout",
     "output_type": "stream",
     "text": [
      "Rate history of first user (259):\n",
      "{255: 4, 108: 4, 772: 4, 117: 4, 200: 4, 405: 3, 176: 4, 210: 4, 357: 5, 317: 5, 98: 4, 12: 5, 269: 3, 180: 5, 313: 5, 235: 2, 762: 2, 750: 4, 959: 4}\n",
      "\n",
      "Rate history of neighbor (132):\n",
      "{275: 3, 124: 4, 137: 4, 922: 5}\n",
      "\n",
      "Rate history of neighbor (203):\n",
      "{294: 2, 326: 4, 321: 3, 271: 3, 304: 3, 332: 5, 336: 3, 181: 5, 24: 4, 1: 3, 619: 3, 7: 3, 471: 4, 250: 4, 248: 5, 148: 3, 117: 4, 50: 5, 282: 1, 93: 4}\n",
      "\n",
      "Rate history of neighbor (315):\n",
      "{302: 5, 269: 5, 127: 5, 187: 4, 48: 4, 508: 4, 651: 3, 531: 5, 285: 5, 223: 5, 46: 4, 180: 4, 194: 4, 8: 3, 100: 5, 238: 5, 17: 1, 211: 4, 168: 4, 186: 4, 216: 4, 746: 3, 792: 5, 13: 4, 709: 4, 732: 3, 654: 5, 504: 3, 98: 4, 12: 5, 156: 5, 603: 5, 185: 4, 657: 4, 31: 3, 431: 2, 230: 4, 234: 3, 273: 3, 340: 4, 305: 5}\n",
      "\n",
      "Rate history of neighbor (285):\n",
      "{269: 4, 313: 5, 538: 5, 682: 4, 288: 5, 902: 4, 628: 2, 150: 5, 237: 4, 276: 4, 191: 4, 514: 3, 168: 4, 216: 3}\n",
      "\n",
      "Rate history of neighbor (218):\n",
      "{430: 3, 208: 3, 194: 3, 209: 5, 4: 3, 517: 3, 516: 5, 100: 4, 762: 4, 12: 5, 654: 4, 273: 4, 33: 4, 265: 3, 410: 3, 504: 3, 789: 3, 695: 3, 5: 3}\n",
      "\n",
      "Rate history of neighbor (703):\n",
      "{}\n",
      "\n",
      "Rate history of neighbor (545):\n",
      "{}\n",
      "\n",
      "Rate history of neighbor (605):\n",
      "{}\n",
      "\n",
      "Rate history of neighbor (334):\n",
      "{269: 3, 313: 4, 268: 4, 302: 5, 300: 3, 319: 3, 340: 3, 326: 1, 245: 2, 289: 3, 322: 3, 100: 5, 285: 4, 117: 3, 1163: 4, 1137: 4, 7: 5, 922: 4, 250: 3, 293: 3, 845: 2, 628: 4, 222: 4, 282: 4, 475: 4, 742: 2, 93: 4, 224: 2, 276: 4, 1010: 5, 1008: 4, 1315: 4, 1051: 4, 1241: 2, 870: 3, 620: 2, 476: 3, 840: 4, 684: 4, 191: 4, 135: 4, 182: 3, 22: 4, 427: 4, 1172: 3, 663: 5, 525: 5, 515: 4, 514: 4, 207: 4, 183: 4, 223: 5, 317: 3, 59: 5, 170: 3, 481: 5, 558: 4, 132: 3, 474: 3, 792: 4, 70: 3, 216: 3, 210: 3, 505: 4, 168: 5, 502: 3, 693: 3, 227: 1, 443: 3, 512: 4, 8: 4, 200: 4, 204: 4, 160: 4, 153: 4, 1524: 4, 631: 4, 608: 4, 1073: 4, 461: 3, 408: 4, 69: 1, 635: 2, 436: 3, 86: 4, 4: 3, 709: 4, 387: 4, 52: 4, 716: 3, 566: 3, 396: 4, 72: 3, 1133: 4, 77: 3, 1411: 1, 449: 3, 1108: 4, 229: 2, 1006: 3, 1207: 2, 450: 1, 577: 2, 888: 2, 173: 4, 961: 4, 708: 4, 311: 4, 603: 5}\n",
      "\n",
      "Rate history of neighbor (382):\n",
      "{1142: 3, 127: 3, 25: 2, 137: 2, 508: 3, 276: 3, 475: 3, 546: 2, 717: 3, 98: 3, 171: 3, 183: 3, 290: 4, 9: 4, 1534: 4, 531: 4, 639: 3, 481: 5, 474: 5}\n",
      "\n",
      "Rate history of last user (189):\n",
      "{100: 4, 127: 4, 9: 3, 253: 4, 847: 4, 248: 4, 1: 5, 275: 5, 294: 5, 1115: 4, 276: 3, 1060: 5, 16: 3, 15: 2, 129: 3, 596: 3, 20: 5, 815: 3, 21: 2, 1117: 5, 225: 4, 274: 4, 281: 2, 820: 1, 120: 1, 751: 4, 268: 4, 657: 5, 479: 5, 173: 5, 618: 2, 174: 5, 176: 4, 474: 5, 134: 5, 505: 5, 56: 5, 197: 5, 483: 5, 480: 5, 638: 5, 520: 5, 496: 5, 234: 5, 194: 5, 79: 3, 216: 5, 135: 4, 705: 4, 632: 5, 45: 3, 91: 3, 462: 5, 60: 3, 513: 4, 639: 4, 1403: 4, 203: 3, 694: 4, 96: 5, 1005: 4, 143: 5, 31: 3, 1099: 5, 484: 5, 607: 4, 526: 4, 30: 4, 732: 2, 381: 3, 512: 4}\n",
      "\n",
      "Rate history of neighbor (263):\n",
      "{269: 4, 333: 2, 272: 5, 328: 4, 294: 2, 245: 4, 886: 2, 678: 2, 892: 3, 521: 3, 648: 5, 79: 4, 523: 5, 22: 5, 215: 4, 96: 4, 483: 5, 318: 5, 64: 5, 143: 5, 183: 4, 153: 3, 921: 3, 661: 5, 205: 5, 210: 3, 144: 4, 614: 3, 528: 4, 526: 5, 69: 5, 99: 3, 188: 5, 486: 4, 95: 5, 568: 4, 514: 3, 117: 3, 97: 4, 432: 2, 127: 4, 419: 5, 125: 4, 86: 4, 162: 5, 423: 5, 416: 5, 163: 5, 134: 5, 82: 4, 176: 5, 197: 4, 186: 4, 265: 4, 1473: 5, 1444: 3, 195: 5, 1451: 4, 168: 5, 237: 2}\n",
      "\n",
      "Rate history of neighbor (751):\n",
      "{}\n",
      "\n",
      "Rate history of neighbor (752):\n",
      "{}\n",
      "\n",
      "Rate history of neighbor (734):\n",
      "{}\n",
      "\n",
      "Rate history of neighbor (670):\n",
      "{}\n",
      "\n",
      "Rate history of neighbor (253):\n",
      "{294: 4, 237: 4, 127: 5, 298: 3, 282: 4, 483: 5, 83: 4, 806: 4, 647: 3, 216: 4, 64: 5, 496: 5, 87: 5, 98: 5, 568: 4, 487: 4, 183: 5, 198: 5, 188: 4, 95: 4, 89: 4, 465: 5, 173: 5, 97: 4, 747: 3, 527: 5, 50: 4, 79: 5, 742: 4, 117: 5, 566: 4, 705: 5, 210: 4, 746: 3, 203: 4, 448: 2, 333: 2, 259: 2, 175: 2}\n",
      "\n",
      "Rate history of neighbor (266):\n",
      "{272: 4, 313: 4, 874: 2, 676: 3, 508: 4, 124: 4}\n",
      "\n",
      "Rate history of neighbor (470):\n",
      "{}\n",
      "\n",
      "Rate history of neighbor (546):\n",
      "{}\n",
      "\n",
      "Rate history of neighbor (560):\n",
      "{}\n",
      "\n"
     ]
    }
   ],
   "source": [
    "print(f\"Rate history of first user ({first_user}):\")\n",
    "print(get_rate_history(first_user,testset_sorted))\n",
    "print(\"\")\n",
    "\n",
    "for neighbor in first_user_neighbors:\n",
    "    print(f\"Rate history of neighbor ({neighbor}):\")\n",
    "    print(get_rate_history(neighbor,testset_sorted))\n",
    "    print(\"\")\n",
    "\n",
    "print(f\"Rate history of last user ({last_user}):\")\n",
    "print(get_rate_history(last_user,testset_sorted))\n",
    "print(\"\")\n",
    "\n",
    "for neighbor in last_user_neighbors:\n",
    "    print(f\"Rate history of neighbor ({neighbor}):\")\n",
    "    print(get_rate_history(neighbor,testset_sorted))\n",
    "    print(\"\")"
   ],
   "metadata": {
    "collapsed": false
   }
  },
  {
   "cell_type": "code",
   "execution_count": 76,
   "outputs": [
    {
     "name": "stdout",
     "output_type": "stream",
     "text": [
      "Predictions for the first user and their neighbors\n",
      "Predictions for movie 275:\n",
      "\tNeighbor (132): 4.120663791977552\n",
      "\n",
      "Predictions for movie 124:\n",
      "\tNeighbor (132): 4.031142393724045\n",
      "\n",
      "Predictions for movie 137:\n",
      "\tNeighbor (132): 3.733687882191544\n",
      "\tNeighbor (382): 3.733687882191544\n",
      "\n",
      "Predictions for movie 922:\n",
      "\tNeighbor (132): 4.392048402091512\n",
      "\tNeighbor (334): 4.392048402091512\n",
      "\n",
      "Predictions for movie 294:\n",
      "\tNeighbor (203): 3.179476800638337\n",
      "\n",
      "Predictions for movie 326:\n",
      "\tNeighbor (203): 3.448790470668273\n",
      "\tNeighbor (334): 3.448790470668273\n",
      "\n",
      "Predictions for movie 321:\n",
      "\tNeighbor (203): 3.0452091018852094\n",
      "\n",
      "Predictions for movie 271:\n",
      "\tNeighbor (203): 3.2529701957910797\n",
      "\n",
      "Predictions for movie 304:\n",
      "\tNeighbor (203): 3.6581598294558964\n",
      "\n",
      "Predictions for movie 332:\n",
      "\tNeighbor (203): 3.566319429028197\n",
      "\n",
      "Predictions for movie 336:\n",
      "\tNeighbor (203): 3.1043205376872365\n",
      "\n",
      "Predictions for movie 181:\n",
      "\tNeighbor (203): 4.047130075349116\n",
      "\n",
      "Predictions for movie 24:\n",
      "\tNeighbor (203): 3.6552222892734925\n",
      "\n",
      "Predictions for movie 1:\n",
      "\tNeighbor (203): 4.2699081622128645\n",
      "\n",
      "Predictions for movie 619:\n",
      "\tNeighbor (203): 3.642157698098748\n",
      "\n",
      "Predictions for movie 7:\n",
      "\tNeighbor (203): 4.056907519352744\n",
      "\tNeighbor (334): 4.056907519352744\n",
      "\n",
      "Predictions for movie 471:\n",
      "\tNeighbor (203): 3.9019382491066987\n",
      "\n",
      "Predictions for movie 250:\n",
      "\tNeighbor (203): 3.976732440891639\n",
      "\tNeighbor (334): 3.976732440891639\n",
      "\n",
      "Predictions for movie 248:\n",
      "\tNeighbor (203): 4.225958500326766\n",
      "\n",
      "Predictions for movie 148:\n",
      "\tNeighbor (203): 3.2782872854352267\n",
      "\n",
      "Predictions for movie 117:\n",
      "\tNeighbor (203): 4.061029616531778\n",
      "\tNeighbor (334): 4.061029616531778\n",
      "\n",
      "Predictions for movie 50:\n",
      "\tNeighbor (203): 4.286053126486963\n",
      "\n",
      "Predictions for movie 282:\n",
      "\tNeighbor (203): 3.601561711024836\n",
      "\tNeighbor (334): 3.601561711024836\n",
      "\n",
      "Predictions for movie 93:\n",
      "\tNeighbor (203): 3.9641135673732\n",
      "\tNeighbor (334): 3.9641135673732\n",
      "\n",
      "Predictions for movie 302:\n",
      "\tNeighbor (315): 4.037860714884485\n",
      "\tNeighbor (334): 4.037860714884485\n",
      "\n",
      "Predictions for movie 269:\n",
      "\tNeighbor (315): 3.860860037357089\n",
      "\tNeighbor (285): 3.860860037357089\n",
      "\tNeighbor (334): 3.860860037357089\n",
      "\n",
      "Predictions for movie 127:\n",
      "\tNeighbor (315): 4.545641235142398\n",
      "\tNeighbor (382): 4.545641235142398\n",
      "\n",
      "Predictions for movie 187:\n",
      "\tNeighbor (315): 4.467185919706179\n",
      "\n",
      "Predictions for movie 48:\n",
      "\tNeighbor (315): 4.20873559115905\n",
      "\n",
      "Predictions for movie 508:\n",
      "\tNeighbor (315): 3.9268269561097457\n",
      "\tNeighbor (382): 3.9268269561097457\n",
      "\n",
      "Predictions for movie 651:\n",
      "\tNeighbor (315): 4.351621447652827\n",
      "\n",
      "Predictions for movie 531:\n",
      "\tNeighbor (315): 3.92907543799412\n",
      "\tNeighbor (382): 3.92907543799412\n",
      "\n",
      "Predictions for movie 285:\n",
      "\tNeighbor (315): 3.869278471396345\n",
      "\tNeighbor (334): 3.869278471396345\n",
      "\n",
      "Predictions for movie 223:\n",
      "\tNeighbor (315): 4.223198456190524\n",
      "\tNeighbor (334): 4.223198456190524\n",
      "\n",
      "Predictions for movie 46:\n",
      "\tNeighbor (315): 3.9014005733286283\n",
      "\n",
      "Predictions for movie 180:\n",
      "\tNeighbor (315): 3.8718436864244827\n",
      "\n",
      "Predictions for movie 194:\n",
      "\tNeighbor (315): 4.0256496725351365\n",
      "\tNeighbor (218): 4.0256496725351365\n",
      "\n",
      "Predictions for movie 8:\n",
      "\tNeighbor (315): 4.410644060643248\n",
      "\tNeighbor (334): 4.410644060643248\n",
      "\n",
      "Predictions for movie 100:\n",
      "\tNeighbor (315): 4.134134126660331\n",
      "\tNeighbor (218): 4.134134126660331\n",
      "\tNeighbor (334): 4.134134126660331\n",
      "\n",
      "Predictions for movie 238:\n",
      "\tNeighbor (315): 4.405861124764257\n",
      "\n",
      "Predictions for movie 17:\n",
      "\tNeighbor (315): 3.6588252156853205\n",
      "\n",
      "Predictions for movie 211:\n",
      "\tNeighbor (315): 4.065330574608787\n",
      "\n",
      "Predictions for movie 168:\n",
      "\tNeighbor (315): 4.711174080893724\n",
      "\tNeighbor (285): 4.711174080893724\n",
      "\tNeighbor (334): 4.711174080893724\n",
      "\n",
      "Predictions for movie 186:\n",
      "\tNeighbor (315): 4.007964060477561\n",
      "\n",
      "Predictions for movie 216:\n",
      "\tNeighbor (315): 4.079049398620772\n",
      "\tNeighbor (285): 4.079049398620772\n",
      "\tNeighbor (334): 4.079049398620772\n",
      "\n",
      "Predictions for movie 746:\n",
      "\tNeighbor (315): 3.43367580029028\n",
      "\n",
      "Predictions for movie 792:\n",
      "\tNeighbor (315): 3.8657754224928778\n",
      "\tNeighbor (334): 3.8657754224928778\n",
      "\n",
      "Predictions for movie 13:\n",
      "\tNeighbor (315): 3.7402301629854104\n",
      "\n",
      "Predictions for movie 709:\n",
      "\tNeighbor (315): 3.740399696359998\n",
      "\tNeighbor (334): 3.740399696359998\n",
      "\n",
      "Predictions for movie 732:\n",
      "\tNeighbor (315): 3.6185255749174976\n",
      "\n",
      "Predictions for movie 654:\n",
      "\tNeighbor (315): 4.350574674364329\n",
      "\tNeighbor (218): 4.350574674364329\n",
      "\n",
      "Predictions for movie 504:\n",
      "\tNeighbor (315): 4.144130051834539\n",
      "\tNeighbor (218): 4.144130051834539\n",
      "\n",
      "Predictions for movie 98:\n",
      "\tNeighbor (315): 4.448816653422765\n",
      "\tNeighbor (382): 4.448816653422765\n",
      "\n",
      "Predictions for movie 12:\n",
      "\tNeighbor (315): 4.84859675812953\n",
      "\tNeighbor (218): 4.84859675812953\n",
      "\n",
      "Predictions for movie 156:\n",
      "\tNeighbor (315): 4.353937426142984\n",
      "\n",
      "Predictions for movie 603:\n",
      "\tNeighbor (315): 4.598024435594074\n",
      "\tNeighbor (334): 4.598024435594074\n",
      "\n",
      "Predictions for movie 185:\n",
      "\tNeighbor (315): 4.180512741058423\n",
      "\n",
      "Predictions for movie 657:\n",
      "\tNeighbor (315): 4.3975733675010344\n",
      "\n",
      "Predictions for movie 31:\n",
      "\tNeighbor (315): 3.880392704606345\n",
      "\n",
      "Predictions for movie 431:\n",
      "\tNeighbor (315): 4.077579637007531\n",
      "\n",
      "Predictions for movie 230:\n",
      "\tNeighbor (315): 3.607092599533181\n",
      "\n",
      "Predictions for movie 234:\n",
      "\tNeighbor (315): 3.799787436635111\n",
      "\n",
      "Predictions for movie 273:\n",
      "\tNeighbor (315): 3.8287885368218535\n",
      "\tNeighbor (218): 3.8287885368218535\n",
      "\n",
      "Predictions for movie 340:\n",
      "\tNeighbor (315): 3.567075251228708\n",
      "\tNeighbor (334): 3.567075251228708\n",
      "\n",
      "Predictions for movie 305:\n",
      "\tNeighbor (315): 4.159411169645164\n",
      "\n",
      "Predictions for movie 313:\n",
      "\tNeighbor (285): 4.198445998557155\n",
      "\tNeighbor (334): 4.198445998557155\n",
      "\n",
      "Predictions for movie 538:\n",
      "\tNeighbor (285): 3.4666861704498557\n",
      "\n",
      "Predictions for movie 682:\n",
      "\tNeighbor (285): 3.0149237205004797\n",
      "\n",
      "Predictions for movie 288:\n",
      "\tNeighbor (285): 3.2564488187036686\n",
      "\n",
      "Predictions for movie 902:\n",
      "\tNeighbor (285): 4.308407426551997\n",
      "\n",
      "Predictions for movie 628:\n",
      "\tNeighbor (285): 4.055195038250217\n",
      "\tNeighbor (334): 4.055195038250217\n",
      "\n",
      "Predictions for movie 150:\n",
      "\tNeighbor (285): 4.01031411669858\n",
      "\n",
      "Predictions for movie 237:\n",
      "\tNeighbor (285): 4.049937221632969\n",
      "\n",
      "Predictions for movie 276:\n",
      "\tNeighbor (285): 3.3556596208782534\n",
      "\tNeighbor (334): 3.3556596208782534\n",
      "\tNeighbor (382): 3.3556596208782534\n",
      "\n",
      "Predictions for movie 191:\n",
      "\tNeighbor (285): 4.074730535385795\n",
      "\tNeighbor (334): 4.074730535385795\n",
      "\n",
      "Predictions for movie 514:\n",
      "\tNeighbor (285): 4.64053371814172\n",
      "\tNeighbor (334): 4.64053371814172\n",
      "\n",
      "Predictions for movie 430:\n",
      "\tNeighbor (218): 4.1012625087072365\n",
      "\n",
      "Predictions for movie 208:\n",
      "\tNeighbor (218): 4.464042760626871\n",
      "\n",
      "Predictions for movie 209:\n",
      "\tNeighbor (218): 4.324282927452415\n",
      "\n",
      "Predictions for movie 4:\n",
      "\tNeighbor (218): 3.582904122170688\n",
      "\tNeighbor (334): 3.582904122170688\n",
      "\n",
      "Predictions for movie 517:\n",
      "\tNeighbor (218): 3.8627113524291374\n",
      "\n",
      "Predictions for movie 516:\n",
      "\tNeighbor (218): 4.017864568511885\n",
      "\n",
      "Predictions for movie 762:\n",
      "\tNeighbor (218): 3.9259652646038665\n",
      "\n",
      "Predictions for movie 33:\n",
      "\tNeighbor (218): 3.731125747573083\n",
      "\n",
      "Predictions for movie 265:\n",
      "\tNeighbor (218): 3.665860895530024\n",
      "\n",
      "Predictions for movie 410:\n",
      "\tNeighbor (218): 4.046489739114224\n",
      "\n",
      "Predictions for movie 789:\n",
      "\tNeighbor (218): 3.7617847672793827\n",
      "\n",
      "Predictions for movie 695:\n",
      "\tNeighbor (218): 3.3454485017474758\n",
      "\n",
      "Predictions for movie 5:\n",
      "\tNeighbor (218): 3.3289117084045596\n",
      "\n",
      "Predictions for movie 268:\n",
      "\tNeighbor (334): 3.76845360721388\n",
      "\n",
      "Predictions for movie 300:\n",
      "\tNeighbor (334): 3.988559894055339\n",
      "\n",
      "Predictions for movie 319:\n",
      "\tNeighbor (334): 3.6566440687829704\n",
      "\n",
      "Predictions for movie 245:\n",
      "\tNeighbor (334): 3.192453291817348\n",
      "\n",
      "Predictions for movie 289:\n",
      "\tNeighbor (334): 2.747095729737784\n",
      "\n",
      "Predictions for movie 322:\n",
      "\tNeighbor (334): 3.7948740336552085\n",
      "\n",
      "Predictions for movie 1163:\n",
      "\tNeighbor (334): 3.356579957341253\n",
      "\n",
      "Predictions for movie 1137:\n",
      "\tNeighbor (334): 4.138006766536117\n",
      "\n",
      "Predictions for movie 293:\n",
      "\tNeighbor (334): 4.031115501752381\n",
      "\n",
      "Predictions for movie 845:\n",
      "\tNeighbor (334): 3.32606726803472\n",
      "\n",
      "Predictions for movie 222:\n",
      "\tNeighbor (334): 3.6905608101672\n",
      "\n",
      "Predictions for movie 475:\n",
      "\tNeighbor (334): 4.699343970945607\n",
      "\tNeighbor (382): 4.699343970945607\n",
      "\n",
      "Predictions for movie 742:\n",
      "\tNeighbor (334): 3.815698309380282\n",
      "\n",
      "Predictions for movie 224:\n",
      "\tNeighbor (334): 4.553015487659076\n",
      "\n",
      "Predictions for movie 1010:\n",
      "\tNeighbor (334): 3.627185257759667\n",
      "\n",
      "Predictions for movie 1008:\n",
      "\tNeighbor (334): 3.641732823416743\n",
      "\n",
      "Predictions for movie 1315:\n",
      "\tNeighbor (334): 3.132976558460183\n",
      "\n",
      "Predictions for movie 1051:\n",
      "\tNeighbor (334): 3.222762869765444\n",
      "\n",
      "Predictions for movie 1241:\n",
      "\tNeighbor (334): 3.594218720387484\n",
      "\n",
      "Predictions for movie 870:\n",
      "\tNeighbor (334): 3.438249956991076\n",
      "\n",
      "Predictions for movie 620:\n",
      "\tNeighbor (334): 3.516044865180591\n",
      "\n",
      "Predictions for movie 476:\n",
      "\tNeighbor (334): 3.653236627753077\n",
      "\n",
      "Predictions for movie 840:\n",
      "\tNeighbor (334): 3.1296241377304153\n",
      "\n",
      "Predictions for movie 684:\n",
      "\tNeighbor (334): 3.8343574218341643\n",
      "\n",
      "Predictions for movie 135:\n",
      "\tNeighbor (334): 3.937473807432198\n",
      "\n",
      "Predictions for movie 182:\n",
      "\tNeighbor (334): 4.358553521013762\n",
      "\n",
      "Predictions for movie 22:\n",
      "\tNeighbor (334): 3.9903771390028386\n",
      "\n",
      "Predictions for movie 427:\n",
      "\tNeighbor (334): 4.681072024575769\n",
      "\n",
      "Predictions for movie 1172:\n",
      "\tNeighbor (334): 4.049436901568976\n",
      "\n",
      "Predictions for movie 663:\n",
      "\tNeighbor (334): 4.221821062958473\n",
      "\n",
      "Predictions for movie 525:\n",
      "\tNeighbor (334): 4.130865116298644\n",
      "\n",
      "Predictions for movie 515:\n",
      "\tNeighbor (334): 4.738088121144106\n",
      "\n",
      "Predictions for movie 207:\n",
      "\tNeighbor (334): 4.015600838547088\n",
      "\n",
      "Predictions for movie 183:\n",
      "\tNeighbor (334): 4.108897171091182\n",
      "\tNeighbor (382): 4.108897171091182\n",
      "\n",
      "Predictions for movie 317:\n",
      "\tNeighbor (334): 4.1930755794700545\n",
      "\n",
      "Predictions for movie 59:\n",
      "\tNeighbor (334): 4.395834404401066\n",
      "\n",
      "Predictions for movie 170:\n",
      "\tNeighbor (334): 4.5737359247004346\n",
      "\n",
      "Predictions for movie 481:\n",
      "\tNeighbor (334): 4.215105542555971\n",
      "\tNeighbor (382): 4.215105542555971\n",
      "\n",
      "Predictions for movie 558:\n",
      "\tNeighbor (334): 3.7329852178650005\n",
      "\n",
      "Predictions for movie 132:\n",
      "\tNeighbor (334): 4.279188783518406\n",
      "\n",
      "Predictions for movie 474:\n",
      "\tNeighbor (334): 4.556230759860765\n",
      "\tNeighbor (382): 4.556230759860765\n",
      "\n",
      "Predictions for movie 70:\n",
      "\tNeighbor (334): 4.395637725729942\n",
      "\n",
      "Predictions for movie 210:\n",
      "\tNeighbor (334): 4.115789802035217\n",
      "\n",
      "Predictions for movie 505:\n",
      "\tNeighbor (334): 4.0598886233117835\n",
      "\n",
      "Predictions for movie 502:\n",
      "\tNeighbor (334): 4.06378421498084\n",
      "\n",
      "Predictions for movie 693:\n",
      "\tNeighbor (334): 4.145651587391813\n",
      "\n",
      "Predictions for movie 227:\n",
      "\tNeighbor (334): 3.383828583504295\n",
      "\n",
      "Predictions for movie 443:\n",
      "\tNeighbor (334): 3.7808435160922875\n",
      "\n",
      "Predictions for movie 512:\n",
      "\tNeighbor (334): 4.074446077402377\n",
      "\n",
      "Predictions for movie 200:\n",
      "\tNeighbor (334): 4.229598652131503\n",
      "\n",
      "Predictions for movie 204:\n",
      "\tNeighbor (334): 4.081109584172053\n",
      "\n",
      "Predictions for movie 160:\n",
      "\tNeighbor (334): 3.1744803338277983\n",
      "\n",
      "Predictions for movie 153:\n",
      "\tNeighbor (334): 3.7725020725847513\n",
      "\n",
      "Predictions for movie 1524:\n",
      "\tNeighbor (334): 4.34113955973427\n",
      "\n",
      "Predictions for movie 631:\n",
      "\tNeighbor (334): 3.8200739647213156\n",
      "\n",
      "Predictions for movie 608:\n",
      "\tNeighbor (334): 4.062388042419916\n",
      "\n",
      "Predictions for movie 1073:\n",
      "\tNeighbor (334): 4.714855538687573\n",
      "\n",
      "Predictions for movie 461:\n",
      "\tNeighbor (334): 3.7178880697593333\n",
      "\n",
      "Predictions for movie 408:\n",
      "\tNeighbor (334): 4.352549054607328\n",
      "\n",
      "Predictions for movie 69:\n",
      "\tNeighbor (334): 4.079879337045163\n",
      "\n",
      "Predictions for movie 635:\n",
      "\tNeighbor (334): 3.166581395334888\n",
      "\n",
      "Predictions for movie 436:\n",
      "\tNeighbor (334): 3.794421848713833\n",
      "\n",
      "Predictions for movie 86:\n",
      "\tNeighbor (334): 4.061641160871781\n",
      "\n",
      "Predictions for movie 387:\n",
      "\tNeighbor (334): 3.6739627113304536\n",
      "\n",
      "Predictions for movie 52:\n",
      "\tNeighbor (334): 3.9227078089162055\n",
      "\n",
      "Predictions for movie 716:\n",
      "\tNeighbor (334): 3.3234600174393014\n",
      "\n",
      "Predictions for movie 566:\n",
      "\tNeighbor (334): 3.491866229470035\n",
      "\n",
      "Predictions for movie 396:\n",
      "\tNeighbor (334): 3.094970045591943\n",
      "\n",
      "Predictions for movie 72:\n",
      "\tNeighbor (334): 3.5568330509616266\n",
      "\n",
      "Predictions for movie 1133:\n",
      "\tNeighbor (334): 2.7828175845930927\n",
      "\n",
      "Predictions for movie 77:\n",
      "\tNeighbor (334): 3.4504999604878908\n",
      "\n",
      "Predictions for movie 1411:\n",
      "\tNeighbor (334): 2.873311643581779\n",
      "\n",
      "Predictions for movie 449:\n",
      "\tNeighbor (334): 2.501140687602053\n",
      "\n",
      "Predictions for movie 1108:\n",
      "\tNeighbor (334): 3.6406139643652144\n",
      "\n",
      "Predictions for movie 229:\n",
      "\tNeighbor (334): 3.3806577445710575\n",
      "\n",
      "Predictions for movie 1006:\n",
      "\tNeighbor (334): 3.258162472233768\n",
      "\n",
      "Predictions for movie 1207:\n",
      "\tNeighbor (334): 2.7690410188817416\n",
      "\n",
      "Predictions for movie 450:\n",
      "\tNeighbor (334): 2.7702654621963934\n",
      "\n",
      "Predictions for movie 577:\n",
      "\tNeighbor (334): 2.7631265136936953\n",
      "\n",
      "Predictions for movie 888:\n",
      "\tNeighbor (334): 4.362727445737442\n",
      "\n",
      "Predictions for movie 173:\n",
      "\tNeighbor (334): 3.9693218389706613\n",
      "\n",
      "Predictions for movie 961:\n",
      "\tNeighbor (334): 3.8477823136841645\n",
      "\n",
      "Predictions for movie 708:\n",
      "\tNeighbor (334): 3.5894265730643444\n",
      "\n",
      "Predictions for movie 311:\n",
      "\tNeighbor (334): 4.023799678566847\n",
      "\n",
      "Predictions for movie 1142:\n",
      "\tNeighbor (382): 4.336365937931856\n",
      "\n",
      "Predictions for movie 25:\n",
      "\tNeighbor (382): 3.611451442272562\n",
      "\n",
      "Predictions for movie 546:\n",
      "\tNeighbor (382): 3.3014143170321417\n",
      "\n",
      "Predictions for movie 717:\n",
      "\tNeighbor (382): 2.987061982381082\n",
      "\n",
      "Predictions for movie 171:\n",
      "\tNeighbor (382): 4.179035591836851\n",
      "\n",
      "Predictions for movie 290:\n",
      "\tNeighbor (382): 3.265161711710737\n",
      "\n",
      "Predictions for movie 9:\n",
      "\tNeighbor (382): 4.39274426884466\n",
      "\n",
      "Predictions for movie 1534:\n",
      "\tNeighbor (382): 2.6190231345817288\n",
      "\n",
      "Predictions for movie 639:\n",
      "\tNeighbor (382): 4.23508224047854\n",
      "\n",
      "Predictions for the last user and their neighbors\n",
      "Predictions for movie 269:\n",
      "\tNeighbor (263): 3.875404692306595\n",
      "\n",
      "Predictions for movie 333:\n",
      "\tNeighbor (263): 3.69411034840839\n",
      "\tNeighbor (253): 3.69411034840839\n",
      "\n",
      "Predictions for movie 272:\n",
      "\tNeighbor (263): 4.45178217809096\n",
      "\tNeighbor (266): 4.45178217809096\n",
      "\n",
      "Predictions for movie 328:\n",
      "\tNeighbor (263): 3.3029033947837783\n",
      "\n",
      "Predictions for movie 294:\n",
      "\tNeighbor (263): 3.8809032801643446\n",
      "\tNeighbor (253): 3.8809032801643446\n",
      "\n",
      "Predictions for movie 245:\n",
      "\tNeighbor (263): 3.6211194954478962\n",
      "\n",
      "Predictions for movie 886:\n",
      "\tNeighbor (263): 3.3903285775660037\n",
      "\n",
      "Predictions for movie 678:\n",
      "\tNeighbor (263): 2.7876279148571275\n",
      "\n",
      "Predictions for movie 892:\n",
      "\tNeighbor (263): 2.734158249650577\n",
      "\n",
      "Predictions for movie 521:\n",
      "\tNeighbor (263): 4.3768389229040325\n",
      "\n",
      "Predictions for movie 648:\n",
      "\tNeighbor (263): 4.123885291967011\n",
      "\n",
      "Predictions for movie 79:\n",
      "\tNeighbor (263): 4.340489040543745\n",
      "\tNeighbor (253): 4.340489040543745\n",
      "\n",
      "Predictions for movie 523:\n",
      "\tNeighbor (263): 4.214512041630154\n",
      "\n",
      "Predictions for movie 22:\n",
      "\tNeighbor (263): 4.3811630731438935\n",
      "\n",
      "Predictions for movie 215:\n",
      "\tNeighbor (263): 4.035273907757749\n",
      "\n",
      "Predictions for movie 96:\n",
      "\tNeighbor (263): 4.704239954513336\n",
      "\n",
      "Predictions for movie 483:\n",
      "\tNeighbor (263): 4.541176489522403\n",
      "\tNeighbor (253): 4.541176489522403\n",
      "\n",
      "Predictions for movie 318:\n",
      "\tNeighbor (263): 4.986151968094508\n",
      "\n",
      "Predictions for movie 64:\n",
      "\tNeighbor (263): 4.83409535558337\n",
      "\tNeighbor (253): 4.83409535558337\n",
      "\n",
      "Predictions for movie 143:\n",
      "\tNeighbor (263): 4.361728272410361\n",
      "\n",
      "Predictions for movie 183:\n",
      "\tNeighbor (263): 3.912586396552411\n",
      "\tNeighbor (253): 3.912586396552411\n",
      "\n",
      "Predictions for movie 153:\n",
      "\tNeighbor (263): 3.653010076592141\n",
      "\n",
      "Predictions for movie 921:\n",
      "\tNeighbor (263): 4.481861047167983\n",
      "\n",
      "Predictions for movie 661:\n",
      "\tNeighbor (263): 4.154001383870511\n",
      "\n",
      "Predictions for movie 205:\n",
      "\tNeighbor (263): 4.0714863912174755\n",
      "\n",
      "Predictions for movie 210:\n",
      "\tNeighbor (263): 4.099923573617629\n",
      "\tNeighbor (253): 4.099923573617629\n",
      "\n",
      "Predictions for movie 144:\n",
      "\tNeighbor (263): 3.6880885189931423\n",
      "\n",
      "Predictions for movie 614:\n",
      "\tNeighbor (263): 4.247108863310285\n",
      "\n",
      "Predictions for movie 528:\n",
      "\tNeighbor (263): 3.8780080055609245\n",
      "\n",
      "Predictions for movie 526:\n",
      "\tNeighbor (263): 4.168598479733093\n",
      "\n",
      "Predictions for movie 69:\n",
      "\tNeighbor (263): 4.383271283261457\n",
      "\n",
      "Predictions for movie 99:\n",
      "\tNeighbor (263): 4.672845057265285\n",
      "\n",
      "Predictions for movie 188:\n",
      "\tNeighbor (263): 4.411069162004184\n",
      "\tNeighbor (253): 4.411069162004184\n",
      "\n",
      "Predictions for movie 486:\n",
      "\tNeighbor (263): 4.36263751320544\n",
      "\n",
      "Predictions for movie 95:\n",
      "\tNeighbor (263): 4.3288339955065105\n",
      "\tNeighbor (253): 4.3288339955065105\n",
      "\n",
      "Predictions for movie 568:\n",
      "\tNeighbor (263): 4.223359856124705\n",
      "\tNeighbor (253): 4.223359856124705\n",
      "\n",
      "Predictions for movie 514:\n",
      "\tNeighbor (263): 4.551871756990394\n",
      "\n",
      "Predictions for movie 117:\n",
      "\tNeighbor (263): 4.002311078808471\n",
      "\tNeighbor (253): 4.002311078808471\n",
      "\n",
      "Predictions for movie 97:\n",
      "\tNeighbor (263): 4.341753832098058\n",
      "\tNeighbor (253): 4.341753832098058\n",
      "\n",
      "Predictions for movie 432:\n",
      "\tNeighbor (263): 4.211969174928647\n",
      "\n",
      "Predictions for movie 127:\n",
      "\tNeighbor (263): 4.026606345050539\n",
      "\tNeighbor (253): 4.026606345050539\n",
      "\n",
      "Predictions for movie 419:\n",
      "\tNeighbor (263): 4.30300244068032\n",
      "\n",
      "Predictions for movie 125:\n",
      "\tNeighbor (263): 3.6981674144478145\n",
      "\n",
      "Predictions for movie 86:\n",
      "\tNeighbor (263): 4.244197696306616\n",
      "\n",
      "Predictions for movie 162:\n",
      "\tNeighbor (263): 3.808022980766987\n",
      "\n",
      "Predictions for movie 423:\n",
      "\tNeighbor (263): 4.652559851384141\n",
      "\n",
      "Predictions for movie 416:\n",
      "\tNeighbor (263): 4.024729222960441\n",
      "\n",
      "Predictions for movie 163:\n",
      "\tNeighbor (263): 3.7301234038453397\n",
      "\n",
      "Predictions for movie 134:\n",
      "\tNeighbor (263): 4.5261683803209465\n",
      "\n",
      "Predictions for movie 82:\n",
      "\tNeighbor (263): 3.9520400836524874\n",
      "\n",
      "Predictions for movie 176:\n",
      "\tNeighbor (263): 3.608499195632546\n",
      "\n",
      "Predictions for movie 197:\n",
      "\tNeighbor (263): 4.382993276557338\n",
      "\n",
      "Predictions for movie 186:\n",
      "\tNeighbor (263): 3.35514620902302\n",
      "\n",
      "Predictions for movie 265:\n",
      "\tNeighbor (263): 4.115444610896883\n",
      "\n",
      "Predictions for movie 1473:\n",
      "\tNeighbor (263): 3.775582492890265\n",
      "\n",
      "Predictions for movie 1444:\n",
      "\tNeighbor (263): 3.0498751672922286\n",
      "\n",
      "Predictions for movie 195:\n",
      "\tNeighbor (263): 4.263412115610626\n",
      "\n",
      "Predictions for movie 1451:\n",
      "\tNeighbor (263): 3.934752938057784\n",
      "\n",
      "Predictions for movie 168:\n",
      "\tNeighbor (263): 4.301287540004227\n",
      "\n",
      "Predictions for movie 237:\n",
      "\tNeighbor (263): 4.229725144480092\n",
      "\tNeighbor (253): 4.229725144480092\n",
      "\n",
      "Predictions for movie 298:\n",
      "\tNeighbor (253): 4.216300953596067\n",
      "\n",
      "Predictions for movie 282:\n",
      "\tNeighbor (253): 4.203912151489827\n",
      "\n",
      "Predictions for movie 83:\n",
      "\tNeighbor (253): 4.343454941880021\n",
      "\n",
      "Predictions for movie 806:\n",
      "\tNeighbor (253): 4.082992872564571\n",
      "\n",
      "Predictions for movie 647:\n",
      "\tNeighbor (253): 4.0492730442054095\n",
      "\n",
      "Predictions for movie 216:\n",
      "\tNeighbor (253): 4.152265106665008\n",
      "\n",
      "Predictions for movie 496:\n",
      "\tNeighbor (253): 4.2880484546251285\n",
      "\n",
      "Predictions for movie 87:\n",
      "\tNeighbor (253): 4.303189599049328\n",
      "\n",
      "Predictions for movie 98:\n",
      "\tNeighbor (253): 4.493862551569059\n",
      "\n",
      "Predictions for movie 487:\n",
      "\tNeighbor (253): 4.386865592617157\n",
      "\n",
      "Predictions for movie 198:\n",
      "\tNeighbor (253): 4.39058609077152\n",
      "\n",
      "Predictions for movie 89:\n",
      "\tNeighbor (253): 4.451245364277529\n",
      "\n",
      "Predictions for movie 465:\n",
      "\tNeighbor (253): 4.0488264431161864\n",
      "\n",
      "Predictions for movie 173:\n",
      "\tNeighbor (253): 4.300440593019045\n",
      "\n",
      "Predictions for movie 747:\n",
      "\tNeighbor (253): 3.9500352588744083\n",
      "\n",
      "Predictions for movie 527:\n",
      "\tNeighbor (253): 4.745296643698097\n",
      "\n",
      "Predictions for movie 50:\n",
      "\tNeighbor (253): 5\n",
      "\n",
      "Predictions for movie 742:\n",
      "\tNeighbor (253): 3.689270005733103\n",
      "\n",
      "Predictions for movie 566:\n",
      "\tNeighbor (253): 3.4302904895678203\n",
      "\n",
      "Predictions for movie 705:\n",
      "\tNeighbor (253): 4.40558476157507\n",
      "\n",
      "Predictions for movie 746:\n",
      "\tNeighbor (253): 4.1662569035561\n",
      "\n",
      "Predictions for movie 203:\n",
      "\tNeighbor (253): 3.6668721412523433\n",
      "\n",
      "Predictions for movie 448:\n",
      "\tNeighbor (253): 4.124126854008146\n",
      "\n",
      "Predictions for movie 259:\n",
      "\tNeighbor (253): 2.825723212832512\n",
      "\n",
      "Predictions for movie 175:\n",
      "\tNeighbor (253): 4.6842998407649965\n",
      "\n",
      "Predictions for movie 313:\n",
      "\tNeighbor (266): 3.249089572154716\n",
      "\n",
      "Predictions for movie 874:\n",
      "\tNeighbor (266): 3.451128974378555\n",
      "\n",
      "Predictions for movie 676:\n",
      "\tNeighbor (266): 4.084297902842344\n",
      "\n",
      "Predictions for movie 508:\n",
      "\tNeighbor (266): 3.5236719390790947\n",
      "\n",
      "Predictions for movie 124:\n",
      "\tNeighbor (266): 4.851923067212781\n",
      "\n"
     ]
    }
   ],
   "source": [
    "from collections import defaultdict\n",
    "\n",
    "# Define a function to get the predictions of a user and their neighbors\n",
    "def get_predictions(user_id, neighbors, df, model):\n",
    "    predictions = defaultdict(list)\n",
    "    for neighbor in neighbors:\n",
    "        movie_ids = df[df['user_id'] == neighbor]['movie_id']\n",
    "        for movie_id in movie_ids:\n",
    "            prediction = model.predict(user_id, movie_id)\n",
    "            predictions[movie_id].append((neighbor, prediction.est))\n",
    "    return predictions\n",
    "\n",
    "# Get the predictions for the first user and their neighbors\n",
    "first_user_predictions = get_predictions(first_user, first_user_neighbors, testset_sorted, knn_model)\n",
    "\n",
    "# Print the predictions for each movie\n",
    "print(\"Predictions for the first user and their neighbors\")\n",
    "for movie_id, predictions in first_user_predictions.items():\n",
    "    print(f\"Predictions for movie {movie_id}:\")\n",
    "    for neighbor, prediction in predictions:\n",
    "        print(f\"\\tNeighbor ({neighbor}): {prediction}\")\n",
    "    print(\"\")\n",
    "\n",
    "# Get the predictions for the last user and their neighbors\n",
    "last_user_predictions = get_predictions(last_user, last_user_neighbors, testset_sorted, knn_model)\n",
    "print(\"Predictions for the last user and their neighbors\")\n",
    "# Print the predictions for each movie\n",
    "for movie_id, predictions in last_user_predictions.items():\n",
    "    print(f\"Predictions for movie {movie_id}:\")\n",
    "    for neighbor, prediction in predictions:\n",
    "        print(f\"\\tNeighbor ({neighbor}): {prediction}\")\n",
    "    print(\"\")\n"
   ],
   "metadata": {
    "collapsed": false
   }
  },
  {
   "cell_type": "markdown",
   "source": [
    "Upon analyzing the predictions and rate history of the retrieved neighbors for the first user, we can observe the following:\n",
    "\n",
    "Some of the neighbors have a relatively small rate history, such as neighbors 703, 545, 605, which may make their predictions less reliable.\n",
    "Neighbors 132, 203, 218, 285, and 334 have provided ratings for some of the same movies that user 259 has rated. This overlap may make their predictions more reliable for user 259.\n",
    "Neighbor 315 has a relatively large rate history and has provided ratings for many of the same movies as user 259, including some highly rated movies. This may make their predictions more reliable for user 259.\n",
    "The ratings provided by the neighbors for the movies in common with user 259 have varied significantly. For example, neighbor 203 has rated movie 50 with a score of 5, while user 259 has rated it with a score of 2. This could indicate different preferences or subjective tastes between users.\n",
    "Some neighbors have provided high ratings for movies that user 259 has not yet rated, which may indicate that they have a different preference for movies.\n",
    "Some neighbors have provided ratings for movies that are not yet rated by user 259. This could help to provide recommendations for movies that user 259 has not yet seen.\n",
    "Overall, we can say that the predictions from neighbors 132, 203, 218, 285, and 315 may be more reliable for user 259. However, given the variation in ratings provided by these neighbors, it is important to consider their ratings in combination with user 259's ratings to provide a more accurate recommendation."
   ],
   "metadata": {
    "collapsed": false
   }
  },
  {
   "cell_type": "markdown",
   "source": [
    "Based on the rate history of the last user and their neighbors, we can observe that:\n",
    "\n",
    "Neighbor 263 has a relatively similar taste to the last user, as they have rated several movies similarly, such as movies 294, 79, 143, 183, and 526. Thus, the prediction for movie 269 based on their rating history could be reliable.\n",
    "\n",
    "Neighbors 751, 752, 734, 670, 470, 546, and 560 have not rated any movie, so we cannot make predictions for their taste.\n",
    "\n",
    "Neighbor 266 has only rated five movies, so their rating history is not significant enough to provide reliable predictions for the last user.\n",
    "\n",
    "Overall, based on the above observations, the prediction for movie 269 based on the rate history of neighbor 263 seems reliable."
   ],
   "metadata": {
    "collapsed": false
   }
  },
  {
   "cell_type": "markdown",
   "source": [
    "- For those users or movies that your model performs poorly on (RR ≤ 0.05), discuss the potential reasons behind."
   ],
   "metadata": {
    "collapsed": false
   }
  },
  {
   "cell_type": "code",
   "execution_count": 77,
   "outputs": [
    {
     "name": "stdout",
     "output_type": "stream",
     "text": [
      "The recall rate is 0.6522\n"
     ]
    }
   ],
   "source": [
    "# Define the threshold for considering a rating as positive\n",
    "threshold = 3.0\n",
    "\n",
    "# Get the rate history and predictions for the first user and their neighbors\n",
    "first_user_rate_history = get_rate_history(first_user, testset_sorted)\n",
    "first_user_predictions = get_predictions(first_user, first_user_neighbors, testset_sorted, knn_model)\n",
    "\n",
    "# Calculate the true positives, false negatives, and false positives for the first user\n",
    "true_positives = 0\n",
    "false_negatives = 0\n",
    "false_positives = 0\n",
    "\n",
    "for movie_id, rating in first_user_rate_history.items():\n",
    "    if rating >= threshold:\n",
    "        if movie_id in first_user_predictions:\n",
    "            for neighbor, prediction in first_user_predictions[movie_id]:\n",
    "                if prediction >= threshold:\n",
    "                    true_positives += 1\n",
    "                else:\n",
    "                    false_negatives += 1\n",
    "        else:\n",
    "            false_negatives += 1\n",
    "    else:\n",
    "        if movie_id in first_user_predictions:\n",
    "            for neighbor, prediction in first_user_predictions[movie_id]:\n",
    "                if prediction >= threshold:\n",
    "                    false_positives += 1\n",
    "\n",
    "# Calculate the recall rate\n",
    "recall_rate = true_positives / (true_positives + false_negatives)\n",
    "\n",
    "# Print the result\n",
    "print(f\"The recall rate is {recall_rate:.4f}\")"
   ],
   "metadata": {
    "collapsed": false
   }
  },
  {
   "cell_type": "code",
   "execution_count": 78,
   "outputs": [],
   "source": [
    "def recall_rate(predictions, actual, threshold):\n",
    "    # Determine the positive ratings based on the threshold value\n",
    "    pos_predictions = np.where(predictions >= threshold, 1, 0)\n",
    "\n",
    "    # Calculate the number of true positive ratings\n",
    "    true_pos = np.sum((pos_predictions == 1) & (actual == 1))\n",
    "\n",
    "    # Calculate the number of false positive ratings\n",
    "    false_pos = np.sum((pos_predictions == 1) & (actual == 0))\n",
    "\n",
    "    # Calculate the precision rate\n",
    "    if true_pos + false_pos == 0:\n",
    "        precision = 0\n",
    "    else:\n",
    "        precision = true_pos / (true_pos + false_pos)\n",
    "\n",
    "    return precision\n"
   ],
   "metadata": {
    "collapsed": false
   }
  },
  {
   "cell_type": "code",
   "execution_count": 79,
   "outputs": [],
   "source": [
    "def get_predictions_by_user_id(user_id, df, model):\n",
    "    predictions = defaultdict(list)\n",
    "    movie_ids = df['movie_id'].unique()\n",
    "    for movie_id in movie_ids:\n",
    "        prediction = model.predict(user_id, movie_id)\n",
    "        predictions[movie_id].append((prediction.est))\n",
    "    return predictions"
   ],
   "metadata": {
    "collapsed": false
   }
  },
  {
   "cell_type": "code",
   "execution_count": 80,
   "outputs": [],
   "source": [
    "def get_actual_value(user_id, predictions, df):\n",
    "    actual = defaultdict(list)\n",
    "    for movie_id in predictions.keys():\n",
    "        rating = df.loc[(df['user_id'] == user_id) & (df['movie_id'] == movie_id), 'rating'].values[0]\n",
    "        actual[movie_id].append((rating))\n",
    "    return predictions"
   ],
   "metadata": {
    "collapsed": false
   }
  },
  {
   "cell_type": "code",
   "execution_count": 81,
   "outputs": [
    {
     "name": "stdout",
     "output_type": "stream",
     "text": [
      "For user:181 The precision rate is 0.00\n",
      "For user:445 The precision rate is 0.00\n",
      "For user:21 The precision rate is 0.00\n",
      "For user:161 The precision rate is 0.00\n",
      "For user:405 The precision rate is 0.00\n",
      "For user:206 The precision rate is 0.00\n",
      "For user:446 The precision rate is 0.00\n"
     ]
    }
   ],
   "source": [
    "threshold = 4.0\n",
    "\n",
    "\n",
    "for user in test_data_df[\"user_id\"].unique():\n",
    "    predictions =get_predictions_by_user_id(user,test_data_df, knn_model)\n",
    "    predictions_arr = np.array([predictions[i][0] for i in sorted(predictions.keys())])\n",
    "    actual = (predictions_arr >= threshold).astype(int)\n",
    "    rr = recall_rate(predictions_arr, actual, threshold)\n",
    "    if(rr<1):\n",
    "        print(f\"For user:{user} The precision rate is {rr:.2f}\")\n"
   ],
   "metadata": {
    "collapsed": false
   }
  },
  {
   "cell_type": "markdown",
   "source": [
    "The above list is not an exhaustive list. You can think of other ways of doing error analysis, e.g., using additional evaluation measures, or discussing outliers, for instance."
   ],
   "metadata": {
    "collapsed": false
   }
  },
  {
   "cell_type": "code",
   "execution_count": 80,
   "outputs": [],
   "source": [],
   "metadata": {
    "collapsed": false
   }
  },
  {
   "cell_type": "markdown",
   "source": [
    "## 4) Week 9 [Feb 27 - Mar 5]: Text Representation\n"
   ],
   "metadata": {
    "collapsed": false
   }
  },
  {
   "cell_type": "markdown",
   "source": [
    "In this part, we will work with the text content from the dataset and will apply NLP techniques to represent movies and users in a vector space."
   ],
   "metadata": {
    "collapsed": false
   }
  },
  {
   "cell_type": "markdown",
   "source": [
    "- Select the column overview from the metadata file and apply the following preprocessing to clean up the data: tokenization, transform to lowercase, remove stopwords, stemming. Report the vocabulary size after preprocessing. There are many libraries you can use, including but not limited to, NLTK, spaCy or CoreNLP (requires Java)."
   ],
   "metadata": {
    "collapsed": false
   }
  },
  {
   "cell_type": "code",
   "execution_count": 81,
   "outputs": [],
   "source": [
    "import nltk\n",
    "from nltk.corpus import stopwords\n",
    "from nltk.stem import PorterStemmer\n",
    "from nltk.tokenize import word_tokenize\n",
    "from nltk.tokenize.treebank import TreebankWordDetokenizer"
   ],
   "metadata": {
    "collapsed": false
   }
  },
  {
   "cell_type": "code",
   "execution_count": 82,
   "outputs": [
    {
     "name": "stdout",
     "output_type": "stream",
     "text": [
      "Total number of items: 45463\n"
     ]
    }
   ],
   "source": [
    "total_items = len(metadata['overview'])\n",
    "print(f'Total number of items: {total_items}')"
   ],
   "metadata": {
    "collapsed": false
   }
  },
  {
   "cell_type": "code",
   "execution_count": 83,
   "outputs": [],
   "source": [
    "#remove nan values\n",
    "# merged_data\n",
    "metadata_clean = metadata.dropna(subset=['overview'])"
   ],
   "metadata": {
    "collapsed": false
   }
  },
  {
   "cell_type": "code",
   "execution_count": 84,
   "outputs": [
    {
     "name": "stderr",
     "output_type": "stream",
     "text": [
      "E:\\Programe\\Anaconda3\\envs\\web\\lib\\site-packages\\ipykernel_launcher.py:19: SettingWithCopyWarning: \n",
      "A value is trying to be set on a copy of a slice from a DataFrame.\n",
      "Try using .loc[row_indexer,col_indexer] = value instead\n",
      "\n",
      "See the caveats in the documentation: https://pandas.pydata.org/pandas-docs/stable/user_guide/indexing.html#returning-a-view-versus-a-copy\n"
     ]
    },
    {
     "name": "stdout",
     "output_type": "stream",
     "text": [
      "Vocabulary size before preprocessing: 172304\n",
      "Vocabulary size after preprocessing: 70731\n"
     ]
    }
   ],
   "source": [
    "vocab_before = len(set(' '.join(metadata_clean['overview']).split()))\n",
    "\n",
    "# Preprocess the title column\n",
    "stemmer = PorterStemmer()\n",
    "stop_words = set(stopwords.words('english'))\n",
    "\n",
    "def preprocess_text(text):\n",
    "    text = text.lower()\n",
    "\n",
    "    tokens = nltk.word_tokenize(text)\n",
    "\n",
    "    stemmed_tokens = [stemmer.stem(token) for token in tokens if token not in stop_words]\n",
    "\n",
    "    preprocessed_text = ' '.join(stemmed_tokens)\n",
    "\n",
    "    return preprocessed_text\n",
    "\n",
    "# Preprocess the 'title' column\n",
    "metadata_clean['overview'] = metadata_clean['overview'].apply(preprocess_text)\n",
    "\n",
    "\n",
    "\n",
    "vocab_after = len(set(' '.join(metadata_clean['overview']).split()))\n",
    "print(f'Vocabulary size before preprocessing: {vocab_before}')\n",
    "print(f'Vocabulary size after preprocessing: {vocab_after}')"
   ],
   "metadata": {
    "collapsed": false
   }
  },
  {
   "cell_type": "code",
   "execution_count": 85,
   "outputs": [
    {
     "data": {
      "text/plain": "       adult                              belongs_to_collection    budget  \\\n0      False  {'id': 10194, 'name': 'Toy Story Collection', ...  30000000   \n1      False                                                NaN  65000000   \n2      False  {'id': 119050, 'name': 'Grumpy Old Men Collect...         0   \n3      False                                                NaN  16000000   \n4      False  {'id': 96871, 'name': 'Father of the Bride Col...         0   \n...      ...                                                ...       ...   \n45461  False                                                NaN         0   \n45462  False                                                NaN         0   \n45463  False                                                NaN         0   \n45464  False                                                NaN         0   \n45465  False                                                NaN         0   \n\n                                                  genres  \\\n0      [{'id': 16, 'name': 'Animation'}, {'id': 35, '...   \n1      [{'id': 12, 'name': 'Adventure'}, {'id': 14, '...   \n2      [{'id': 10749, 'name': 'Romance'}, {'id': 35, ...   \n3      [{'id': 35, 'name': 'Comedy'}, {'id': 18, 'nam...   \n4                         [{'id': 35, 'name': 'Comedy'}]   \n...                                                  ...   \n45461  [{'id': 18, 'name': 'Drama'}, {'id': 10751, 'n...   \n45462                      [{'id': 18, 'name': 'Drama'}]   \n45463  [{'id': 28, 'name': 'Action'}, {'id': 18, 'nam...   \n45464                                                 []   \n45465                                                 []   \n\n                                   homepage      id    imdb_id  \\\n0      http://toystory.disney.com/toy-story     862  tt0114709   \n1                                       NaN    8844  tt0113497   \n2                                       NaN   15602  tt0113228   \n3                                       NaN   31357  tt0114885   \n4                                       NaN   11862  tt0113041   \n...                                     ...     ...        ...   \n45461  http://www.imdb.com/title/tt6209470/  439050  tt6209470   \n45462                                   NaN  111109  tt2028550   \n45463                                   NaN   67758  tt0303758   \n45464                                   NaN  227506  tt0008536   \n45465                                   NaN  461257  tt6980792   \n\n      original_language               original_title  \\\n0                    en                    Toy Story   \n1                    en                      Jumanji   \n2                    en             Grumpier Old Men   \n3                    en            Waiting to Exhale   \n4                    en  Father of the Bride Part II   \n...                 ...                          ...   \n45461                fa                      رگ خواب   \n45462                tl          Siglo ng Pagluluwal   \n45463                en                     Betrayal   \n45464                en          Satana likuyushchiy   \n45465                en                     Queerama   \n\n                                                overview  ... release_date  \\\n0      led woodi , andi 's toy live happili room andi...  ...   1995-10-30   \n1      sibl judi peter discov enchant board game open...  ...   1995-12-15   \n2      famili wed reignit ancient feud next-door neig...  ...   1995-12-22   \n3      cheat , mistreat step , women hold breath , wa...  ...   1995-12-22   \n4      georg bank recov daughter 's wed , receiv news...  ...   1995-02-10   \n...                                                  ...  ...          ...   \n45461                              rise fall man woman .  ...          NaN   \n45462  artist struggl finish work storylin cult play ...  ...   2011-11-17   \n45463  one hit goe wrong , profession assassin end su...  ...   2003-08-01   \n45464  small town live two brother , one minist one h...  ...   1917-10-21   \n45465  50 year decriminalis homosexu uk , director da...  ...   2017-06-09   \n\n           revenue runtime                                   spoken_languages  \\\n0      373554033.0    81.0           [{'iso_639_1': 'en', 'name': 'English'}]   \n1      262797249.0   104.0  [{'iso_639_1': 'en', 'name': 'English'}, {'iso...   \n2              0.0   101.0           [{'iso_639_1': 'en', 'name': 'English'}]   \n3       81452156.0   127.0           [{'iso_639_1': 'en', 'name': 'English'}]   \n4       76578911.0   106.0           [{'iso_639_1': 'en', 'name': 'English'}]   \n...            ...     ...                                                ...   \n45461          0.0    90.0             [{'iso_639_1': 'fa', 'name': 'فارسی'}]   \n45462          0.0   360.0                  [{'iso_639_1': 'tl', 'name': ''}]   \n45463          0.0    90.0           [{'iso_639_1': 'en', 'name': 'English'}]   \n45464          0.0    87.0                                                 []   \n45465          0.0    75.0           [{'iso_639_1': 'en', 'name': 'English'}]   \n\n         status                                            tagline  \\\n0      Released                                                NaN   \n1      Released          Roll the dice and unleash the excitement!   \n2      Released  Still Yelling. Still Fighting. Still Ready for...   \n3      Released  Friends are the people who let you be yourself...   \n4      Released  Just When His World Is Back To Normal... He's ...   \n...         ...                                                ...   \n45461  Released         Rising and falling between a man and woman   \n45462  Released                                                NaN   \n45463  Released                             A deadly game of wits.   \n45464  Released                                                NaN   \n45465  Released                                                NaN   \n\n                             title  video vote_average vote_count  \n0                        Toy Story  False          7.7     5415.0  \n1                          Jumanji  False          6.9     2413.0  \n2                 Grumpier Old Men  False          6.5       92.0  \n3                Waiting to Exhale  False          6.1       34.0  \n4      Father of the Bride Part II  False          5.7      173.0  \n...                            ...    ...          ...        ...  \n45461                       Subdue  False          4.0        1.0  \n45462          Century of Birthing  False          9.0        3.0  \n45463                     Betrayal  False          3.8        6.0  \n45464             Satan Triumphant  False          0.0        0.0  \n45465                     Queerama  False          0.0        0.0  \n\n[44509 rows x 24 columns]",
      "text/html": "<div>\n<style scoped>\n    .dataframe tbody tr th:only-of-type {\n        vertical-align: middle;\n    }\n\n    .dataframe tbody tr th {\n        vertical-align: top;\n    }\n\n    .dataframe thead th {\n        text-align: right;\n    }\n</style>\n<table border=\"1\" class=\"dataframe\">\n  <thead>\n    <tr style=\"text-align: right;\">\n      <th></th>\n      <th>adult</th>\n      <th>belongs_to_collection</th>\n      <th>budget</th>\n      <th>genres</th>\n      <th>homepage</th>\n      <th>id</th>\n      <th>imdb_id</th>\n      <th>original_language</th>\n      <th>original_title</th>\n      <th>overview</th>\n      <th>...</th>\n      <th>release_date</th>\n      <th>revenue</th>\n      <th>runtime</th>\n      <th>spoken_languages</th>\n      <th>status</th>\n      <th>tagline</th>\n      <th>title</th>\n      <th>video</th>\n      <th>vote_average</th>\n      <th>vote_count</th>\n    </tr>\n  </thead>\n  <tbody>\n    <tr>\n      <th>0</th>\n      <td>False</td>\n      <td>{'id': 10194, 'name': 'Toy Story Collection', ...</td>\n      <td>30000000</td>\n      <td>[{'id': 16, 'name': 'Animation'}, {'id': 35, '...</td>\n      <td>http://toystory.disney.com/toy-story</td>\n      <td>862</td>\n      <td>tt0114709</td>\n      <td>en</td>\n      <td>Toy Story</td>\n      <td>led woodi , andi 's toy live happili room andi...</td>\n      <td>...</td>\n      <td>1995-10-30</td>\n      <td>373554033.0</td>\n      <td>81.0</td>\n      <td>[{'iso_639_1': 'en', 'name': 'English'}]</td>\n      <td>Released</td>\n      <td>NaN</td>\n      <td>Toy Story</td>\n      <td>False</td>\n      <td>7.7</td>\n      <td>5415.0</td>\n    </tr>\n    <tr>\n      <th>1</th>\n      <td>False</td>\n      <td>NaN</td>\n      <td>65000000</td>\n      <td>[{'id': 12, 'name': 'Adventure'}, {'id': 14, '...</td>\n      <td>NaN</td>\n      <td>8844</td>\n      <td>tt0113497</td>\n      <td>en</td>\n      <td>Jumanji</td>\n      <td>sibl judi peter discov enchant board game open...</td>\n      <td>...</td>\n      <td>1995-12-15</td>\n      <td>262797249.0</td>\n      <td>104.0</td>\n      <td>[{'iso_639_1': 'en', 'name': 'English'}, {'iso...</td>\n      <td>Released</td>\n      <td>Roll the dice and unleash the excitement!</td>\n      <td>Jumanji</td>\n      <td>False</td>\n      <td>6.9</td>\n      <td>2413.0</td>\n    </tr>\n    <tr>\n      <th>2</th>\n      <td>False</td>\n      <td>{'id': 119050, 'name': 'Grumpy Old Men Collect...</td>\n      <td>0</td>\n      <td>[{'id': 10749, 'name': 'Romance'}, {'id': 35, ...</td>\n      <td>NaN</td>\n      <td>15602</td>\n      <td>tt0113228</td>\n      <td>en</td>\n      <td>Grumpier Old Men</td>\n      <td>famili wed reignit ancient feud next-door neig...</td>\n      <td>...</td>\n      <td>1995-12-22</td>\n      <td>0.0</td>\n      <td>101.0</td>\n      <td>[{'iso_639_1': 'en', 'name': 'English'}]</td>\n      <td>Released</td>\n      <td>Still Yelling. Still Fighting. Still Ready for...</td>\n      <td>Grumpier Old Men</td>\n      <td>False</td>\n      <td>6.5</td>\n      <td>92.0</td>\n    </tr>\n    <tr>\n      <th>3</th>\n      <td>False</td>\n      <td>NaN</td>\n      <td>16000000</td>\n      <td>[{'id': 35, 'name': 'Comedy'}, {'id': 18, 'nam...</td>\n      <td>NaN</td>\n      <td>31357</td>\n      <td>tt0114885</td>\n      <td>en</td>\n      <td>Waiting to Exhale</td>\n      <td>cheat , mistreat step , women hold breath , wa...</td>\n      <td>...</td>\n      <td>1995-12-22</td>\n      <td>81452156.0</td>\n      <td>127.0</td>\n      <td>[{'iso_639_1': 'en', 'name': 'English'}]</td>\n      <td>Released</td>\n      <td>Friends are the people who let you be yourself...</td>\n      <td>Waiting to Exhale</td>\n      <td>False</td>\n      <td>6.1</td>\n      <td>34.0</td>\n    </tr>\n    <tr>\n      <th>4</th>\n      <td>False</td>\n      <td>{'id': 96871, 'name': 'Father of the Bride Col...</td>\n      <td>0</td>\n      <td>[{'id': 35, 'name': 'Comedy'}]</td>\n      <td>NaN</td>\n      <td>11862</td>\n      <td>tt0113041</td>\n      <td>en</td>\n      <td>Father of the Bride Part II</td>\n      <td>georg bank recov daughter 's wed , receiv news...</td>\n      <td>...</td>\n      <td>1995-02-10</td>\n      <td>76578911.0</td>\n      <td>106.0</td>\n      <td>[{'iso_639_1': 'en', 'name': 'English'}]</td>\n      <td>Released</td>\n      <td>Just When His World Is Back To Normal... He's ...</td>\n      <td>Father of the Bride Part II</td>\n      <td>False</td>\n      <td>5.7</td>\n      <td>173.0</td>\n    </tr>\n    <tr>\n      <th>...</th>\n      <td>...</td>\n      <td>...</td>\n      <td>...</td>\n      <td>...</td>\n      <td>...</td>\n      <td>...</td>\n      <td>...</td>\n      <td>...</td>\n      <td>...</td>\n      <td>...</td>\n      <td>...</td>\n      <td>...</td>\n      <td>...</td>\n      <td>...</td>\n      <td>...</td>\n      <td>...</td>\n      <td>...</td>\n      <td>...</td>\n      <td>...</td>\n      <td>...</td>\n      <td>...</td>\n    </tr>\n    <tr>\n      <th>45461</th>\n      <td>False</td>\n      <td>NaN</td>\n      <td>0</td>\n      <td>[{'id': 18, 'name': 'Drama'}, {'id': 10751, 'n...</td>\n      <td>http://www.imdb.com/title/tt6209470/</td>\n      <td>439050</td>\n      <td>tt6209470</td>\n      <td>fa</td>\n      <td>رگ خواب</td>\n      <td>rise fall man woman .</td>\n      <td>...</td>\n      <td>NaN</td>\n      <td>0.0</td>\n      <td>90.0</td>\n      <td>[{'iso_639_1': 'fa', 'name': 'فارسی'}]</td>\n      <td>Released</td>\n      <td>Rising and falling between a man and woman</td>\n      <td>Subdue</td>\n      <td>False</td>\n      <td>4.0</td>\n      <td>1.0</td>\n    </tr>\n    <tr>\n      <th>45462</th>\n      <td>False</td>\n      <td>NaN</td>\n      <td>0</td>\n      <td>[{'id': 18, 'name': 'Drama'}]</td>\n      <td>NaN</td>\n      <td>111109</td>\n      <td>tt2028550</td>\n      <td>tl</td>\n      <td>Siglo ng Pagluluwal</td>\n      <td>artist struggl finish work storylin cult play ...</td>\n      <td>...</td>\n      <td>2011-11-17</td>\n      <td>0.0</td>\n      <td>360.0</td>\n      <td>[{'iso_639_1': 'tl', 'name': ''}]</td>\n      <td>Released</td>\n      <td>NaN</td>\n      <td>Century of Birthing</td>\n      <td>False</td>\n      <td>9.0</td>\n      <td>3.0</td>\n    </tr>\n    <tr>\n      <th>45463</th>\n      <td>False</td>\n      <td>NaN</td>\n      <td>0</td>\n      <td>[{'id': 28, 'name': 'Action'}, {'id': 18, 'nam...</td>\n      <td>NaN</td>\n      <td>67758</td>\n      <td>tt0303758</td>\n      <td>en</td>\n      <td>Betrayal</td>\n      <td>one hit goe wrong , profession assassin end su...</td>\n      <td>...</td>\n      <td>2003-08-01</td>\n      <td>0.0</td>\n      <td>90.0</td>\n      <td>[{'iso_639_1': 'en', 'name': 'English'}]</td>\n      <td>Released</td>\n      <td>A deadly game of wits.</td>\n      <td>Betrayal</td>\n      <td>False</td>\n      <td>3.8</td>\n      <td>6.0</td>\n    </tr>\n    <tr>\n      <th>45464</th>\n      <td>False</td>\n      <td>NaN</td>\n      <td>0</td>\n      <td>[]</td>\n      <td>NaN</td>\n      <td>227506</td>\n      <td>tt0008536</td>\n      <td>en</td>\n      <td>Satana likuyushchiy</td>\n      <td>small town live two brother , one minist one h...</td>\n      <td>...</td>\n      <td>1917-10-21</td>\n      <td>0.0</td>\n      <td>87.0</td>\n      <td>[]</td>\n      <td>Released</td>\n      <td>NaN</td>\n      <td>Satan Triumphant</td>\n      <td>False</td>\n      <td>0.0</td>\n      <td>0.0</td>\n    </tr>\n    <tr>\n      <th>45465</th>\n      <td>False</td>\n      <td>NaN</td>\n      <td>0</td>\n      <td>[]</td>\n      <td>NaN</td>\n      <td>461257</td>\n      <td>tt6980792</td>\n      <td>en</td>\n      <td>Queerama</td>\n      <td>50 year decriminalis homosexu uk , director da...</td>\n      <td>...</td>\n      <td>2017-06-09</td>\n      <td>0.0</td>\n      <td>75.0</td>\n      <td>[{'iso_639_1': 'en', 'name': 'English'}]</td>\n      <td>Released</td>\n      <td>NaN</td>\n      <td>Queerama</td>\n      <td>False</td>\n      <td>0.0</td>\n      <td>0.0</td>\n    </tr>\n  </tbody>\n</table>\n<p>44509 rows × 24 columns</p>\n</div>"
     },
     "execution_count": 85,
     "metadata": {},
     "output_type": "execute_result"
    }
   ],
   "source": [
    "metadata_clean"
   ],
   "metadata": {
    "collapsed": false
   }
  },
  {
   "cell_type": "markdown",
   "source": [
    "- Represent each movie in the TF-IDF vector space. You can use your preferred library for data analysis, like, for example, scikit-learn or\n",
    "gensim."
   ],
   "metadata": {
    "collapsed": false
   }
  },
  {
   "cell_type": "code",
   "execution_count": 86,
   "outputs": [],
   "source": [
    "metadata_clean.columns = metadata_clean.columns.str.replace('id', 'metadata_id')\n",
    "\n",
    "# Merge the metadata and mapping tables on the metadata_id\n",
    "metadata_copy = metadata_clean.copy()\n",
    "metadata_copy['metadata_id'] = metadata_copy['metadata_id'].astype(int)\n",
    "\n",
    "\n",
    "movie_data = pd.merge(metadata_copy, mapping_table, left_on=\"metadata_id\", right_on=\"id_in_metadata\")"
   ],
   "metadata": {
    "collapsed": false
   }
  },
  {
   "cell_type": "code",
   "execution_count": 87,
   "outputs": [
    {
     "data": {
      "text/plain": "      adult                              belongs_to_collection    budget  \\\n0     False  {'id': 10194, 'name': 'Toy Story Collection', ...  30000000   \n1     False                                                NaN  65000000   \n2     False  {'id': 119050, 'name': 'Grumpy Old Men Collect...         0   \n3     False                                                NaN  16000000   \n4     False  {'id': 96871, 'name': 'Father of the Bride Col...         0   \n...     ...                                                ...       ...   \n1489  False                                                NaN         0   \n1490  False                                                NaN         0   \n1491  False                                                NaN         0   \n1492  False  {'id': 464784, 'name': 'The Water of the Hills...         0   \n1493  False                                                NaN         0   \n\n                                                 genres  \\\n0     [{'id': 16, 'name': 'Animation'}, {'id': 35, '...   \n1     [{'id': 12, 'name': 'Adventure'}, {'id': 14, '...   \n2     [{'id': 10749, 'name': 'Romance'}, {'id': 35, ...   \n3     [{'id': 35, 'name': 'Comedy'}, {'id': 18, 'nam...   \n4                        [{'id': 35, 'name': 'Comedy'}]   \n...                                                 ...   \n1489  [{'id': 27, 'name': 'Horror'}, {'id': 10770, '...   \n1490                                                 []   \n1491  [{'id': 18, 'name': 'Drama'}, {'id': 10751, 'n...   \n1492                      [{'id': 18, 'name': 'Drama'}]   \n1493  [{'id': 80, 'name': 'Crime'}, {'id': 18, 'name...   \n\n                                  homepage  metadata_id imdb_metadata_id  \\\n0     http://toystory.disney.com/toy-story          862        tt0114709   \n1                                      NaN         8844        tt0113497   \n2                                      NaN        15602        tt0113228   \n3                                      NaN        31357        tt0114885   \n4                                      NaN        11862        tt0113041   \n...                                    ...          ...              ...   \n1489                                   NaN        86889        tt0070003   \n1490                                   NaN        87169        tt0110400   \n1491                                   NaN        51043        tt0113682   \n1492                                   NaN        65703        tt0044883   \n1493                                   NaN       210653        tt0043647   \n\n     original_language               original_title  \\\n0                   en                    Toy Story   \n1                   en                      Jumanji   \n2                   en             Grumpier Old Men   \n3                   en            Waiting to Exhale   \n4                   en  Father of the Bride Part II   \n...                ...                          ...   \n1489                en        Bram Stoker's Dracula   \n1490                en                 The Low Life   \n1491                en                    Loch Ness   \n1492                fr            Manon des sources   \n1493                es         El Hombre Sin Rostro   \n\n                                               overview  ... runtime  \\\n0     led woodi , andi 's toy live happili room andi...  ...    81.0   \n1     sibl judi peter discov enchant board game open...  ...   104.0   \n2     famili wed reignit ancient feud next-door neig...  ...   101.0   \n3     cheat , mistreat step , women hold breath , wa...  ...   127.0   \n4     georg bank recov daughter 's wed , receiv news...  ...   106.0   \n...                                                 ...  ...     ...   \n1489    dracula search woman look like long dead wife .  ...   100.0   \n1490  john came hollywood get one big break life . y...  ...    96.0   \n1491  dr. dempsey american scientist becom skeptic ....  ...   101.0   \n1492  marcel pagnol 's adapt novel manon de sourc , ...  ...   225.0   \n1493  faceless killer hunt women stop detect disturb...  ...    91.0   \n\n                                       spoken_languages    status  \\\n0              [{'iso_639_1': 'en', 'name': 'English'}]  Released   \n1     [{'iso_639_1': 'en', 'name': 'English'}, {'iso...  Released   \n2              [{'iso_639_1': 'en', 'name': 'English'}]  Released   \n3              [{'iso_639_1': 'en', 'name': 'English'}]  Released   \n4              [{'iso_639_1': 'en', 'name': 'English'}]  Released   \n...                                                 ...       ...   \n1489           [{'iso_639_1': 'en', 'name': 'English'}]  Released   \n1490                                                 []  Released   \n1491           [{'iso_639_1': 'en', 'name': 'English'}]  Released   \n1492          [{'iso_639_1': 'fr', 'name': 'Français'}]  Released   \n1493           [{'iso_639_1': 'es', 'name': 'Español'}]  Released   \n\n                                                tagline  \\\n0                                                   NaN   \n1             Roll the dice and unleash the excitement!   \n2     Still Yelling. Still Fighting. Still Ready for...   \n3     Friends are the people who let you be yourself...   \n4     Just When His World Is Back To Normal... He's ...   \n...                                                 ...   \n1489                                                NaN   \n1490                                                NaN   \n1491                                                NaN   \n1492                                                NaN   \n1493                                                NaN   \n\n                            title  vmetadata_ideo  vote_average vote_count  \\\n0                       Toy Story           False           7.7     5415.0   \n1                         Jumanji           False           6.9     2413.0   \n2                Grumpier Old Men           False           6.5       92.0   \n3               Waiting to Exhale           False           6.1       34.0   \n4     Father of the Bride Part II           False           5.7      173.0   \n...                           ...             ...           ...        ...   \n1489        Bram Stoker's Dracula           False           6.4       13.0   \n1490                 The Low Life           False           6.0        3.0   \n1491                    Loch Ness           False           5.2       30.0   \n1492          Manon of the Spring           False           6.9        4.0   \n1493       The Man Without a Face           False           8.0        2.0   \n\n     id_in_movielens id_in_metadata  \n0                  1            862  \n1                755           8844  \n2               1028          15602  \n3               1311          31357  \n4                756          11862  \n...              ...            ...  \n1489             217          86889  \n1490            1329          87169  \n1491             839          51043  \n1492             166          65703  \n1493             392         210653  \n\n[1494 rows x 26 columns]",
      "text/html": "<div>\n<style scoped>\n    .dataframe tbody tr th:only-of-type {\n        vertical-align: middle;\n    }\n\n    .dataframe tbody tr th {\n        vertical-align: top;\n    }\n\n    .dataframe thead th {\n        text-align: right;\n    }\n</style>\n<table border=\"1\" class=\"dataframe\">\n  <thead>\n    <tr style=\"text-align: right;\">\n      <th></th>\n      <th>adult</th>\n      <th>belongs_to_collection</th>\n      <th>budget</th>\n      <th>genres</th>\n      <th>homepage</th>\n      <th>metadata_id</th>\n      <th>imdb_metadata_id</th>\n      <th>original_language</th>\n      <th>original_title</th>\n      <th>overview</th>\n      <th>...</th>\n      <th>runtime</th>\n      <th>spoken_languages</th>\n      <th>status</th>\n      <th>tagline</th>\n      <th>title</th>\n      <th>vmetadata_ideo</th>\n      <th>vote_average</th>\n      <th>vote_count</th>\n      <th>id_in_movielens</th>\n      <th>id_in_metadata</th>\n    </tr>\n  </thead>\n  <tbody>\n    <tr>\n      <th>0</th>\n      <td>False</td>\n      <td>{'id': 10194, 'name': 'Toy Story Collection', ...</td>\n      <td>30000000</td>\n      <td>[{'id': 16, 'name': 'Animation'}, {'id': 35, '...</td>\n      <td>http://toystory.disney.com/toy-story</td>\n      <td>862</td>\n      <td>tt0114709</td>\n      <td>en</td>\n      <td>Toy Story</td>\n      <td>led woodi , andi 's toy live happili room andi...</td>\n      <td>...</td>\n      <td>81.0</td>\n      <td>[{'iso_639_1': 'en', 'name': 'English'}]</td>\n      <td>Released</td>\n      <td>NaN</td>\n      <td>Toy Story</td>\n      <td>False</td>\n      <td>7.7</td>\n      <td>5415.0</td>\n      <td>1</td>\n      <td>862</td>\n    </tr>\n    <tr>\n      <th>1</th>\n      <td>False</td>\n      <td>NaN</td>\n      <td>65000000</td>\n      <td>[{'id': 12, 'name': 'Adventure'}, {'id': 14, '...</td>\n      <td>NaN</td>\n      <td>8844</td>\n      <td>tt0113497</td>\n      <td>en</td>\n      <td>Jumanji</td>\n      <td>sibl judi peter discov enchant board game open...</td>\n      <td>...</td>\n      <td>104.0</td>\n      <td>[{'iso_639_1': 'en', 'name': 'English'}, {'iso...</td>\n      <td>Released</td>\n      <td>Roll the dice and unleash the excitement!</td>\n      <td>Jumanji</td>\n      <td>False</td>\n      <td>6.9</td>\n      <td>2413.0</td>\n      <td>755</td>\n      <td>8844</td>\n    </tr>\n    <tr>\n      <th>2</th>\n      <td>False</td>\n      <td>{'id': 119050, 'name': 'Grumpy Old Men Collect...</td>\n      <td>0</td>\n      <td>[{'id': 10749, 'name': 'Romance'}, {'id': 35, ...</td>\n      <td>NaN</td>\n      <td>15602</td>\n      <td>tt0113228</td>\n      <td>en</td>\n      <td>Grumpier Old Men</td>\n      <td>famili wed reignit ancient feud next-door neig...</td>\n      <td>...</td>\n      <td>101.0</td>\n      <td>[{'iso_639_1': 'en', 'name': 'English'}]</td>\n      <td>Released</td>\n      <td>Still Yelling. Still Fighting. Still Ready for...</td>\n      <td>Grumpier Old Men</td>\n      <td>False</td>\n      <td>6.5</td>\n      <td>92.0</td>\n      <td>1028</td>\n      <td>15602</td>\n    </tr>\n    <tr>\n      <th>3</th>\n      <td>False</td>\n      <td>NaN</td>\n      <td>16000000</td>\n      <td>[{'id': 35, 'name': 'Comedy'}, {'id': 18, 'nam...</td>\n      <td>NaN</td>\n      <td>31357</td>\n      <td>tt0114885</td>\n      <td>en</td>\n      <td>Waiting to Exhale</td>\n      <td>cheat , mistreat step , women hold breath , wa...</td>\n      <td>...</td>\n      <td>127.0</td>\n      <td>[{'iso_639_1': 'en', 'name': 'English'}]</td>\n      <td>Released</td>\n      <td>Friends are the people who let you be yourself...</td>\n      <td>Waiting to Exhale</td>\n      <td>False</td>\n      <td>6.1</td>\n      <td>34.0</td>\n      <td>1311</td>\n      <td>31357</td>\n    </tr>\n    <tr>\n      <th>4</th>\n      <td>False</td>\n      <td>{'id': 96871, 'name': 'Father of the Bride Col...</td>\n      <td>0</td>\n      <td>[{'id': 35, 'name': 'Comedy'}]</td>\n      <td>NaN</td>\n      <td>11862</td>\n      <td>tt0113041</td>\n      <td>en</td>\n      <td>Father of the Bride Part II</td>\n      <td>georg bank recov daughter 's wed , receiv news...</td>\n      <td>...</td>\n      <td>106.0</td>\n      <td>[{'iso_639_1': 'en', 'name': 'English'}]</td>\n      <td>Released</td>\n      <td>Just When His World Is Back To Normal... He's ...</td>\n      <td>Father of the Bride Part II</td>\n      <td>False</td>\n      <td>5.7</td>\n      <td>173.0</td>\n      <td>756</td>\n      <td>11862</td>\n    </tr>\n    <tr>\n      <th>...</th>\n      <td>...</td>\n      <td>...</td>\n      <td>...</td>\n      <td>...</td>\n      <td>...</td>\n      <td>...</td>\n      <td>...</td>\n      <td>...</td>\n      <td>...</td>\n      <td>...</td>\n      <td>...</td>\n      <td>...</td>\n      <td>...</td>\n      <td>...</td>\n      <td>...</td>\n      <td>...</td>\n      <td>...</td>\n      <td>...</td>\n      <td>...</td>\n      <td>...</td>\n      <td>...</td>\n    </tr>\n    <tr>\n      <th>1489</th>\n      <td>False</td>\n      <td>NaN</td>\n      <td>0</td>\n      <td>[{'id': 27, 'name': 'Horror'}, {'id': 10770, '...</td>\n      <td>NaN</td>\n      <td>86889</td>\n      <td>tt0070003</td>\n      <td>en</td>\n      <td>Bram Stoker's Dracula</td>\n      <td>dracula search woman look like long dead wife .</td>\n      <td>...</td>\n      <td>100.0</td>\n      <td>[{'iso_639_1': 'en', 'name': 'English'}]</td>\n      <td>Released</td>\n      <td>NaN</td>\n      <td>Bram Stoker's Dracula</td>\n      <td>False</td>\n      <td>6.4</td>\n      <td>13.0</td>\n      <td>217</td>\n      <td>86889</td>\n    </tr>\n    <tr>\n      <th>1490</th>\n      <td>False</td>\n      <td>NaN</td>\n      <td>0</td>\n      <td>[]</td>\n      <td>NaN</td>\n      <td>87169</td>\n      <td>tt0110400</td>\n      <td>en</td>\n      <td>The Low Life</td>\n      <td>john came hollywood get one big break life . y...</td>\n      <td>...</td>\n      <td>96.0</td>\n      <td>[]</td>\n      <td>Released</td>\n      <td>NaN</td>\n      <td>The Low Life</td>\n      <td>False</td>\n      <td>6.0</td>\n      <td>3.0</td>\n      <td>1329</td>\n      <td>87169</td>\n    </tr>\n    <tr>\n      <th>1491</th>\n      <td>False</td>\n      <td>NaN</td>\n      <td>0</td>\n      <td>[{'id': 18, 'name': 'Drama'}, {'id': 10751, 'n...</td>\n      <td>NaN</td>\n      <td>51043</td>\n      <td>tt0113682</td>\n      <td>en</td>\n      <td>Loch Ness</td>\n      <td>dr. dempsey american scientist becom skeptic ....</td>\n      <td>...</td>\n      <td>101.0</td>\n      <td>[{'iso_639_1': 'en', 'name': 'English'}]</td>\n      <td>Released</td>\n      <td>NaN</td>\n      <td>Loch Ness</td>\n      <td>False</td>\n      <td>5.2</td>\n      <td>30.0</td>\n      <td>839</td>\n      <td>51043</td>\n    </tr>\n    <tr>\n      <th>1492</th>\n      <td>False</td>\n      <td>{'id': 464784, 'name': 'The Water of the Hills...</td>\n      <td>0</td>\n      <td>[{'id': 18, 'name': 'Drama'}]</td>\n      <td>NaN</td>\n      <td>65703</td>\n      <td>tt0044883</td>\n      <td>fr</td>\n      <td>Manon des sources</td>\n      <td>marcel pagnol 's adapt novel manon de sourc , ...</td>\n      <td>...</td>\n      <td>225.0</td>\n      <td>[{'iso_639_1': 'fr', 'name': 'Français'}]</td>\n      <td>Released</td>\n      <td>NaN</td>\n      <td>Manon of the Spring</td>\n      <td>False</td>\n      <td>6.9</td>\n      <td>4.0</td>\n      <td>166</td>\n      <td>65703</td>\n    </tr>\n    <tr>\n      <th>1493</th>\n      <td>False</td>\n      <td>NaN</td>\n      <td>0</td>\n      <td>[{'id': 80, 'name': 'Crime'}, {'id': 18, 'name...</td>\n      <td>NaN</td>\n      <td>210653</td>\n      <td>tt0043647</td>\n      <td>es</td>\n      <td>El Hombre Sin Rostro</td>\n      <td>faceless killer hunt women stop detect disturb...</td>\n      <td>...</td>\n      <td>91.0</td>\n      <td>[{'iso_639_1': 'es', 'name': 'Español'}]</td>\n      <td>Released</td>\n      <td>NaN</td>\n      <td>The Man Without a Face</td>\n      <td>False</td>\n      <td>8.0</td>\n      <td>2.0</td>\n      <td>392</td>\n      <td>210653</td>\n    </tr>\n  </tbody>\n</table>\n<p>1494 rows × 26 columns</p>\n</div>"
     },
     "execution_count": 87,
     "metadata": {},
     "output_type": "execute_result"
    }
   ],
   "source": [
    "movie_data"
   ],
   "metadata": {
    "collapsed": false
   }
  },
  {
   "cell_type": "code",
   "execution_count": 88,
   "outputs": [
    {
     "name": "stdout",
     "output_type": "stream",
     "text": [
      "The shape of the TF-IDF matrix is: (1494, 9065)\n"
     ]
    }
   ],
   "source": [
    "from sklearn.feature_extraction.text import TfidfVectorizer\n",
    "\n",
    "# Define the TF-IDF vectorizer with your preferred parameters\n",
    "tfidf_vectorizer = TfidfVectorizer()\n",
    "\n",
    "# Fit and transform the overview column to get the TF-IDF matrix\n",
    "# tfidf_matrix = tfidf_vectorizer.fit_transform(metadata_clean['overview'])\n",
    "tfidf_matrix = tfidf_vectorizer.fit_transform(movie_data['overview'])\n",
    "\n",
    "\n",
    "\n",
    "# Print the shape of the TF-IDF matrix\n",
    "print(f\"The shape of the TF-IDF matrix is: {tfidf_matrix.shape}\")"
   ],
   "metadata": {
    "collapsed": false
   }
  },
  {
   "cell_type": "code",
   "execution_count": 89,
   "outputs": [
    {
     "data": {
      "text/plain": "      000  007   10  100  101  10th   11   12  125th  12th  ...  zombi  zone  \\\n0     0.0  0.0  0.0  0.0  0.0   0.0  0.0  0.0    0.0   0.0  ...    0.0   0.0   \n1     0.0  0.0  0.0  0.0  0.0   0.0  0.0  0.0    0.0   0.0  ...    0.0   0.0   \n2     0.0  0.0  0.0  0.0  0.0   0.0  0.0  0.0    0.0   0.0  ...    0.0   0.0   \n3     0.0  0.0  0.0  0.0  0.0   0.0  0.0  0.0    0.0   0.0  ...    0.0   0.0   \n4     0.0  0.0  0.0  0.0  0.0   0.0  0.0  0.0    0.0   0.0  ...    0.0   0.0   \n...   ...  ...  ...  ...  ...   ...  ...  ...    ...   ...  ...    ...   ...   \n1489  0.0  0.0  0.0  0.0  0.0   0.0  0.0  0.0    0.0   0.0  ...    0.0   0.0   \n1490  0.0  0.0  0.0  0.0  0.0   0.0  0.0  0.0    0.0   0.0  ...    0.0   0.0   \n1491  0.0  0.0  0.0  0.0  0.0   0.0  0.0  0.0    0.0   0.0  ...    0.0   0.0   \n1492  0.0  0.0  0.0  0.0  0.0   0.0  0.0  0.0    0.0   0.0  ...    0.0   0.0   \n1493  0.0  0.0  0.0  0.0  0.0   0.0  0.0  0.0    0.0   0.0  ...    0.0   0.0   \n\n      zoo  zookeep  zoologist  zord  zorro  zulu  zyto  état  \n0     0.0      0.0        0.0   0.0    0.0   0.0   0.0   0.0  \n1     0.0      0.0        0.0   0.0    0.0   0.0   0.0   0.0  \n2     0.0      0.0        0.0   0.0    0.0   0.0   0.0   0.0  \n3     0.0      0.0        0.0   0.0    0.0   0.0   0.0   0.0  \n4     0.0      0.0        0.0   0.0    0.0   0.0   0.0   0.0  \n...   ...      ...        ...   ...    ...   ...   ...   ...  \n1489  0.0      0.0        0.0   0.0    0.0   0.0   0.0   0.0  \n1490  0.0      0.0        0.0   0.0    0.0   0.0   0.0   0.0  \n1491  0.0      0.0        0.0   0.0    0.0   0.0   0.0   0.0  \n1492  0.0      0.0        0.0   0.0    0.0   0.0   0.0   0.0  \n1493  0.0      0.0        0.0   0.0    0.0   0.0   0.0   0.0  \n\n[1494 rows x 9065 columns]",
      "text/html": "<div>\n<style scoped>\n    .dataframe tbody tr th:only-of-type {\n        vertical-align: middle;\n    }\n\n    .dataframe tbody tr th {\n        vertical-align: top;\n    }\n\n    .dataframe thead th {\n        text-align: right;\n    }\n</style>\n<table border=\"1\" class=\"dataframe\">\n  <thead>\n    <tr style=\"text-align: right;\">\n      <th></th>\n      <th>000</th>\n      <th>007</th>\n      <th>10</th>\n      <th>100</th>\n      <th>101</th>\n      <th>10th</th>\n      <th>11</th>\n      <th>12</th>\n      <th>125th</th>\n      <th>12th</th>\n      <th>...</th>\n      <th>zombi</th>\n      <th>zone</th>\n      <th>zoo</th>\n      <th>zookeep</th>\n      <th>zoologist</th>\n      <th>zord</th>\n      <th>zorro</th>\n      <th>zulu</th>\n      <th>zyto</th>\n      <th>état</th>\n    </tr>\n  </thead>\n  <tbody>\n    <tr>\n      <th>0</th>\n      <td>0.0</td>\n      <td>0.0</td>\n      <td>0.0</td>\n      <td>0.0</td>\n      <td>0.0</td>\n      <td>0.0</td>\n      <td>0.0</td>\n      <td>0.0</td>\n      <td>0.0</td>\n      <td>0.0</td>\n      <td>...</td>\n      <td>0.0</td>\n      <td>0.0</td>\n      <td>0.0</td>\n      <td>0.0</td>\n      <td>0.0</td>\n      <td>0.0</td>\n      <td>0.0</td>\n      <td>0.0</td>\n      <td>0.0</td>\n      <td>0.0</td>\n    </tr>\n    <tr>\n      <th>1</th>\n      <td>0.0</td>\n      <td>0.0</td>\n      <td>0.0</td>\n      <td>0.0</td>\n      <td>0.0</td>\n      <td>0.0</td>\n      <td>0.0</td>\n      <td>0.0</td>\n      <td>0.0</td>\n      <td>0.0</td>\n      <td>...</td>\n      <td>0.0</td>\n      <td>0.0</td>\n      <td>0.0</td>\n      <td>0.0</td>\n      <td>0.0</td>\n      <td>0.0</td>\n      <td>0.0</td>\n      <td>0.0</td>\n      <td>0.0</td>\n      <td>0.0</td>\n    </tr>\n    <tr>\n      <th>2</th>\n      <td>0.0</td>\n      <td>0.0</td>\n      <td>0.0</td>\n      <td>0.0</td>\n      <td>0.0</td>\n      <td>0.0</td>\n      <td>0.0</td>\n      <td>0.0</td>\n      <td>0.0</td>\n      <td>0.0</td>\n      <td>...</td>\n      <td>0.0</td>\n      <td>0.0</td>\n      <td>0.0</td>\n      <td>0.0</td>\n      <td>0.0</td>\n      <td>0.0</td>\n      <td>0.0</td>\n      <td>0.0</td>\n      <td>0.0</td>\n      <td>0.0</td>\n    </tr>\n    <tr>\n      <th>3</th>\n      <td>0.0</td>\n      <td>0.0</td>\n      <td>0.0</td>\n      <td>0.0</td>\n      <td>0.0</td>\n      <td>0.0</td>\n      <td>0.0</td>\n      <td>0.0</td>\n      <td>0.0</td>\n      <td>0.0</td>\n      <td>...</td>\n      <td>0.0</td>\n      <td>0.0</td>\n      <td>0.0</td>\n      <td>0.0</td>\n      <td>0.0</td>\n      <td>0.0</td>\n      <td>0.0</td>\n      <td>0.0</td>\n      <td>0.0</td>\n      <td>0.0</td>\n    </tr>\n    <tr>\n      <th>4</th>\n      <td>0.0</td>\n      <td>0.0</td>\n      <td>0.0</td>\n      <td>0.0</td>\n      <td>0.0</td>\n      <td>0.0</td>\n      <td>0.0</td>\n      <td>0.0</td>\n      <td>0.0</td>\n      <td>0.0</td>\n      <td>...</td>\n      <td>0.0</td>\n      <td>0.0</td>\n      <td>0.0</td>\n      <td>0.0</td>\n      <td>0.0</td>\n      <td>0.0</td>\n      <td>0.0</td>\n      <td>0.0</td>\n      <td>0.0</td>\n      <td>0.0</td>\n    </tr>\n    <tr>\n      <th>...</th>\n      <td>...</td>\n      <td>...</td>\n      <td>...</td>\n      <td>...</td>\n      <td>...</td>\n      <td>...</td>\n      <td>...</td>\n      <td>...</td>\n      <td>...</td>\n      <td>...</td>\n      <td>...</td>\n      <td>...</td>\n      <td>...</td>\n      <td>...</td>\n      <td>...</td>\n      <td>...</td>\n      <td>...</td>\n      <td>...</td>\n      <td>...</td>\n      <td>...</td>\n      <td>...</td>\n    </tr>\n    <tr>\n      <th>1489</th>\n      <td>0.0</td>\n      <td>0.0</td>\n      <td>0.0</td>\n      <td>0.0</td>\n      <td>0.0</td>\n      <td>0.0</td>\n      <td>0.0</td>\n      <td>0.0</td>\n      <td>0.0</td>\n      <td>0.0</td>\n      <td>...</td>\n      <td>0.0</td>\n      <td>0.0</td>\n      <td>0.0</td>\n      <td>0.0</td>\n      <td>0.0</td>\n      <td>0.0</td>\n      <td>0.0</td>\n      <td>0.0</td>\n      <td>0.0</td>\n      <td>0.0</td>\n    </tr>\n    <tr>\n      <th>1490</th>\n      <td>0.0</td>\n      <td>0.0</td>\n      <td>0.0</td>\n      <td>0.0</td>\n      <td>0.0</td>\n      <td>0.0</td>\n      <td>0.0</td>\n      <td>0.0</td>\n      <td>0.0</td>\n      <td>0.0</td>\n      <td>...</td>\n      <td>0.0</td>\n      <td>0.0</td>\n      <td>0.0</td>\n      <td>0.0</td>\n      <td>0.0</td>\n      <td>0.0</td>\n      <td>0.0</td>\n      <td>0.0</td>\n      <td>0.0</td>\n      <td>0.0</td>\n    </tr>\n    <tr>\n      <th>1491</th>\n      <td>0.0</td>\n      <td>0.0</td>\n      <td>0.0</td>\n      <td>0.0</td>\n      <td>0.0</td>\n      <td>0.0</td>\n      <td>0.0</td>\n      <td>0.0</td>\n      <td>0.0</td>\n      <td>0.0</td>\n      <td>...</td>\n      <td>0.0</td>\n      <td>0.0</td>\n      <td>0.0</td>\n      <td>0.0</td>\n      <td>0.0</td>\n      <td>0.0</td>\n      <td>0.0</td>\n      <td>0.0</td>\n      <td>0.0</td>\n      <td>0.0</td>\n    </tr>\n    <tr>\n      <th>1492</th>\n      <td>0.0</td>\n      <td>0.0</td>\n      <td>0.0</td>\n      <td>0.0</td>\n      <td>0.0</td>\n      <td>0.0</td>\n      <td>0.0</td>\n      <td>0.0</td>\n      <td>0.0</td>\n      <td>0.0</td>\n      <td>...</td>\n      <td>0.0</td>\n      <td>0.0</td>\n      <td>0.0</td>\n      <td>0.0</td>\n      <td>0.0</td>\n      <td>0.0</td>\n      <td>0.0</td>\n      <td>0.0</td>\n      <td>0.0</td>\n      <td>0.0</td>\n    </tr>\n    <tr>\n      <th>1493</th>\n      <td>0.0</td>\n      <td>0.0</td>\n      <td>0.0</td>\n      <td>0.0</td>\n      <td>0.0</td>\n      <td>0.0</td>\n      <td>0.0</td>\n      <td>0.0</td>\n      <td>0.0</td>\n      <td>0.0</td>\n      <td>...</td>\n      <td>0.0</td>\n      <td>0.0</td>\n      <td>0.0</td>\n      <td>0.0</td>\n      <td>0.0</td>\n      <td>0.0</td>\n      <td>0.0</td>\n      <td>0.0</td>\n      <td>0.0</td>\n      <td>0.0</td>\n    </tr>\n  </tbody>\n</table>\n<p>1494 rows × 9065 columns</p>\n</div>"
     },
     "execution_count": 89,
     "metadata": {},
     "output_type": "execute_result"
    }
   ],
   "source": [
    "tfidf_matrix_dense = tfidf_matrix.toarray()\n",
    "\n",
    "# Create a pandas dataframe from the dense matrix\n",
    "df = pd.DataFrame(tfidf_matrix_dense, columns=tfidf_vectorizer.get_feature_names_out())\n",
    "\n",
    "# Display the dataframe as a table\n",
    "df"
   ],
   "metadata": {
    "collapsed": false
   }
  },
  {
   "cell_type": "markdown",
   "source": [],
   "metadata": {
    "collapsed": false
   }
  },
  {
   "cell_type": "markdown",
   "source": [
    "- Represent each movie using pretrained word embeddings (e.g., GloVe, word2vec)."
   ],
   "metadata": {
    "collapsed": false
   }
  },
  {
   "cell_type": "code",
   "execution_count": 90,
   "outputs": [
    {
     "data": {
      "text/plain": "       adult                              belongs_to_collection    budget  \\\n0      False  {'id': 10194, 'name': 'Toy Story Collection', ...  30000000   \n1      False                                                NaN  65000000   \n2      False  {'id': 119050, 'name': 'Grumpy Old Men Collect...         0   \n3      False                                                NaN  16000000   \n4      False  {'id': 96871, 'name': 'Father of the Bride Col...         0   \n...      ...                                                ...       ...   \n45461  False                                                NaN         0   \n45462  False                                                NaN         0   \n45463  False                                                NaN         0   \n45464  False                                                NaN         0   \n45465  False                                                NaN         0   \n\n                                                  genres  \\\n0      [{'id': 16, 'name': 'Animation'}, {'id': 35, '...   \n1      [{'id': 12, 'name': 'Adventure'}, {'id': 14, '...   \n2      [{'id': 10749, 'name': 'Romance'}, {'id': 35, ...   \n3      [{'id': 35, 'name': 'Comedy'}, {'id': 18, 'nam...   \n4                         [{'id': 35, 'name': 'Comedy'}]   \n...                                                  ...   \n45461  [{'id': 18, 'name': 'Drama'}, {'id': 10751, 'n...   \n45462                      [{'id': 18, 'name': 'Drama'}]   \n45463  [{'id': 28, 'name': 'Action'}, {'id': 18, 'nam...   \n45464                                                 []   \n45465                                                 []   \n\n                                   homepage metadata_id imdb_metadata_id  \\\n0      http://toystory.disney.com/toy-story         862        tt0114709   \n1                                       NaN        8844        tt0113497   \n2                                       NaN       15602        tt0113228   \n3                                       NaN       31357        tt0114885   \n4                                       NaN       11862        tt0113041   \n...                                     ...         ...              ...   \n45461  http://www.imdb.com/title/tt6209470/      439050        tt6209470   \n45462                                   NaN      111109        tt2028550   \n45463                                   NaN       67758        tt0303758   \n45464                                   NaN      227506        tt0008536   \n45465                                   NaN      461257        tt6980792   \n\n      original_language               original_title  \\\n0                    en                    Toy Story   \n1                    en                      Jumanji   \n2                    en             Grumpier Old Men   \n3                    en            Waiting to Exhale   \n4                    en  Father of the Bride Part II   \n...                 ...                          ...   \n45461                fa                      رگ خواب   \n45462                tl          Siglo ng Pagluluwal   \n45463                en                     Betrayal   \n45464                en          Satana likuyushchiy   \n45465                en                     Queerama   \n\n                                                overview  ... release_date  \\\n0      led woodi , andi 's toy live happili room andi...  ...   1995-10-30   \n1      sibl judi peter discov enchant board game open...  ...   1995-12-15   \n2      famili wed reignit ancient feud next-door neig...  ...   1995-12-22   \n3      cheat , mistreat step , women hold breath , wa...  ...   1995-12-22   \n4      georg bank recov daughter 's wed , receiv news...  ...   1995-02-10   \n...                                                  ...  ...          ...   \n45461                              rise fall man woman .  ...          NaN   \n45462  artist struggl finish work storylin cult play ...  ...   2011-11-17   \n45463  one hit goe wrong , profession assassin end su...  ...   2003-08-01   \n45464  small town live two brother , one minist one h...  ...   1917-10-21   \n45465  50 year decriminalis homosexu uk , director da...  ...   2017-06-09   \n\n           revenue runtime                                   spoken_languages  \\\n0      373554033.0    81.0           [{'iso_639_1': 'en', 'name': 'English'}]   \n1      262797249.0   104.0  [{'iso_639_1': 'en', 'name': 'English'}, {'iso...   \n2              0.0   101.0           [{'iso_639_1': 'en', 'name': 'English'}]   \n3       81452156.0   127.0           [{'iso_639_1': 'en', 'name': 'English'}]   \n4       76578911.0   106.0           [{'iso_639_1': 'en', 'name': 'English'}]   \n...            ...     ...                                                ...   \n45461          0.0    90.0             [{'iso_639_1': 'fa', 'name': 'فارسی'}]   \n45462          0.0   360.0                  [{'iso_639_1': 'tl', 'name': ''}]   \n45463          0.0    90.0           [{'iso_639_1': 'en', 'name': 'English'}]   \n45464          0.0    87.0                                                 []   \n45465          0.0    75.0           [{'iso_639_1': 'en', 'name': 'English'}]   \n\n         status                                            tagline  \\\n0      Released                                                NaN   \n1      Released          Roll the dice and unleash the excitement!   \n2      Released  Still Yelling. Still Fighting. Still Ready for...   \n3      Released  Friends are the people who let you be yourself...   \n4      Released  Just When His World Is Back To Normal... He's ...   \n...         ...                                                ...   \n45461  Released         Rising and falling between a man and woman   \n45462  Released                                                NaN   \n45463  Released                             A deadly game of wits.   \n45464  Released                                                NaN   \n45465  Released                                                NaN   \n\n                             title vmetadata_ideo vote_average vote_count  \n0                        Toy Story          False          7.7     5415.0  \n1                          Jumanji          False          6.9     2413.0  \n2                 Grumpier Old Men          False          6.5       92.0  \n3                Waiting to Exhale          False          6.1       34.0  \n4      Father of the Bride Part II          False          5.7      173.0  \n...                            ...            ...          ...        ...  \n45461                       Subdue          False          4.0        1.0  \n45462          Century of Birthing          False          9.0        3.0  \n45463                     Betrayal          False          3.8        6.0  \n45464             Satan Triumphant          False          0.0        0.0  \n45465                     Queerama          False          0.0        0.0  \n\n[44509 rows x 24 columns]",
      "text/html": "<div>\n<style scoped>\n    .dataframe tbody tr th:only-of-type {\n        vertical-align: middle;\n    }\n\n    .dataframe tbody tr th {\n        vertical-align: top;\n    }\n\n    .dataframe thead th {\n        text-align: right;\n    }\n</style>\n<table border=\"1\" class=\"dataframe\">\n  <thead>\n    <tr style=\"text-align: right;\">\n      <th></th>\n      <th>adult</th>\n      <th>belongs_to_collection</th>\n      <th>budget</th>\n      <th>genres</th>\n      <th>homepage</th>\n      <th>metadata_id</th>\n      <th>imdb_metadata_id</th>\n      <th>original_language</th>\n      <th>original_title</th>\n      <th>overview</th>\n      <th>...</th>\n      <th>release_date</th>\n      <th>revenue</th>\n      <th>runtime</th>\n      <th>spoken_languages</th>\n      <th>status</th>\n      <th>tagline</th>\n      <th>title</th>\n      <th>vmetadata_ideo</th>\n      <th>vote_average</th>\n      <th>vote_count</th>\n    </tr>\n  </thead>\n  <tbody>\n    <tr>\n      <th>0</th>\n      <td>False</td>\n      <td>{'id': 10194, 'name': 'Toy Story Collection', ...</td>\n      <td>30000000</td>\n      <td>[{'id': 16, 'name': 'Animation'}, {'id': 35, '...</td>\n      <td>http://toystory.disney.com/toy-story</td>\n      <td>862</td>\n      <td>tt0114709</td>\n      <td>en</td>\n      <td>Toy Story</td>\n      <td>led woodi , andi 's toy live happili room andi...</td>\n      <td>...</td>\n      <td>1995-10-30</td>\n      <td>373554033.0</td>\n      <td>81.0</td>\n      <td>[{'iso_639_1': 'en', 'name': 'English'}]</td>\n      <td>Released</td>\n      <td>NaN</td>\n      <td>Toy Story</td>\n      <td>False</td>\n      <td>7.7</td>\n      <td>5415.0</td>\n    </tr>\n    <tr>\n      <th>1</th>\n      <td>False</td>\n      <td>NaN</td>\n      <td>65000000</td>\n      <td>[{'id': 12, 'name': 'Adventure'}, {'id': 14, '...</td>\n      <td>NaN</td>\n      <td>8844</td>\n      <td>tt0113497</td>\n      <td>en</td>\n      <td>Jumanji</td>\n      <td>sibl judi peter discov enchant board game open...</td>\n      <td>...</td>\n      <td>1995-12-15</td>\n      <td>262797249.0</td>\n      <td>104.0</td>\n      <td>[{'iso_639_1': 'en', 'name': 'English'}, {'iso...</td>\n      <td>Released</td>\n      <td>Roll the dice and unleash the excitement!</td>\n      <td>Jumanji</td>\n      <td>False</td>\n      <td>6.9</td>\n      <td>2413.0</td>\n    </tr>\n    <tr>\n      <th>2</th>\n      <td>False</td>\n      <td>{'id': 119050, 'name': 'Grumpy Old Men Collect...</td>\n      <td>0</td>\n      <td>[{'id': 10749, 'name': 'Romance'}, {'id': 35, ...</td>\n      <td>NaN</td>\n      <td>15602</td>\n      <td>tt0113228</td>\n      <td>en</td>\n      <td>Grumpier Old Men</td>\n      <td>famili wed reignit ancient feud next-door neig...</td>\n      <td>...</td>\n      <td>1995-12-22</td>\n      <td>0.0</td>\n      <td>101.0</td>\n      <td>[{'iso_639_1': 'en', 'name': 'English'}]</td>\n      <td>Released</td>\n      <td>Still Yelling. Still Fighting. Still Ready for...</td>\n      <td>Grumpier Old Men</td>\n      <td>False</td>\n      <td>6.5</td>\n      <td>92.0</td>\n    </tr>\n    <tr>\n      <th>3</th>\n      <td>False</td>\n      <td>NaN</td>\n      <td>16000000</td>\n      <td>[{'id': 35, 'name': 'Comedy'}, {'id': 18, 'nam...</td>\n      <td>NaN</td>\n      <td>31357</td>\n      <td>tt0114885</td>\n      <td>en</td>\n      <td>Waiting to Exhale</td>\n      <td>cheat , mistreat step , women hold breath , wa...</td>\n      <td>...</td>\n      <td>1995-12-22</td>\n      <td>81452156.0</td>\n      <td>127.0</td>\n      <td>[{'iso_639_1': 'en', 'name': 'English'}]</td>\n      <td>Released</td>\n      <td>Friends are the people who let you be yourself...</td>\n      <td>Waiting to Exhale</td>\n      <td>False</td>\n      <td>6.1</td>\n      <td>34.0</td>\n    </tr>\n    <tr>\n      <th>4</th>\n      <td>False</td>\n      <td>{'id': 96871, 'name': 'Father of the Bride Col...</td>\n      <td>0</td>\n      <td>[{'id': 35, 'name': 'Comedy'}]</td>\n      <td>NaN</td>\n      <td>11862</td>\n      <td>tt0113041</td>\n      <td>en</td>\n      <td>Father of the Bride Part II</td>\n      <td>georg bank recov daughter 's wed , receiv news...</td>\n      <td>...</td>\n      <td>1995-02-10</td>\n      <td>76578911.0</td>\n      <td>106.0</td>\n      <td>[{'iso_639_1': 'en', 'name': 'English'}]</td>\n      <td>Released</td>\n      <td>Just When His World Is Back To Normal... He's ...</td>\n      <td>Father of the Bride Part II</td>\n      <td>False</td>\n      <td>5.7</td>\n      <td>173.0</td>\n    </tr>\n    <tr>\n      <th>...</th>\n      <td>...</td>\n      <td>...</td>\n      <td>...</td>\n      <td>...</td>\n      <td>...</td>\n      <td>...</td>\n      <td>...</td>\n      <td>...</td>\n      <td>...</td>\n      <td>...</td>\n      <td>...</td>\n      <td>...</td>\n      <td>...</td>\n      <td>...</td>\n      <td>...</td>\n      <td>...</td>\n      <td>...</td>\n      <td>...</td>\n      <td>...</td>\n      <td>...</td>\n      <td>...</td>\n    </tr>\n    <tr>\n      <th>45461</th>\n      <td>False</td>\n      <td>NaN</td>\n      <td>0</td>\n      <td>[{'id': 18, 'name': 'Drama'}, {'id': 10751, 'n...</td>\n      <td>http://www.imdb.com/title/tt6209470/</td>\n      <td>439050</td>\n      <td>tt6209470</td>\n      <td>fa</td>\n      <td>رگ خواب</td>\n      <td>rise fall man woman .</td>\n      <td>...</td>\n      <td>NaN</td>\n      <td>0.0</td>\n      <td>90.0</td>\n      <td>[{'iso_639_1': 'fa', 'name': 'فارسی'}]</td>\n      <td>Released</td>\n      <td>Rising and falling between a man and woman</td>\n      <td>Subdue</td>\n      <td>False</td>\n      <td>4.0</td>\n      <td>1.0</td>\n    </tr>\n    <tr>\n      <th>45462</th>\n      <td>False</td>\n      <td>NaN</td>\n      <td>0</td>\n      <td>[{'id': 18, 'name': 'Drama'}]</td>\n      <td>NaN</td>\n      <td>111109</td>\n      <td>tt2028550</td>\n      <td>tl</td>\n      <td>Siglo ng Pagluluwal</td>\n      <td>artist struggl finish work storylin cult play ...</td>\n      <td>...</td>\n      <td>2011-11-17</td>\n      <td>0.0</td>\n      <td>360.0</td>\n      <td>[{'iso_639_1': 'tl', 'name': ''}]</td>\n      <td>Released</td>\n      <td>NaN</td>\n      <td>Century of Birthing</td>\n      <td>False</td>\n      <td>9.0</td>\n      <td>3.0</td>\n    </tr>\n    <tr>\n      <th>45463</th>\n      <td>False</td>\n      <td>NaN</td>\n      <td>0</td>\n      <td>[{'id': 28, 'name': 'Action'}, {'id': 18, 'nam...</td>\n      <td>NaN</td>\n      <td>67758</td>\n      <td>tt0303758</td>\n      <td>en</td>\n      <td>Betrayal</td>\n      <td>one hit goe wrong , profession assassin end su...</td>\n      <td>...</td>\n      <td>2003-08-01</td>\n      <td>0.0</td>\n      <td>90.0</td>\n      <td>[{'iso_639_1': 'en', 'name': 'English'}]</td>\n      <td>Released</td>\n      <td>A deadly game of wits.</td>\n      <td>Betrayal</td>\n      <td>False</td>\n      <td>3.8</td>\n      <td>6.0</td>\n    </tr>\n    <tr>\n      <th>45464</th>\n      <td>False</td>\n      <td>NaN</td>\n      <td>0</td>\n      <td>[]</td>\n      <td>NaN</td>\n      <td>227506</td>\n      <td>tt0008536</td>\n      <td>en</td>\n      <td>Satana likuyushchiy</td>\n      <td>small town live two brother , one minist one h...</td>\n      <td>...</td>\n      <td>1917-10-21</td>\n      <td>0.0</td>\n      <td>87.0</td>\n      <td>[]</td>\n      <td>Released</td>\n      <td>NaN</td>\n      <td>Satan Triumphant</td>\n      <td>False</td>\n      <td>0.0</td>\n      <td>0.0</td>\n    </tr>\n    <tr>\n      <th>45465</th>\n      <td>False</td>\n      <td>NaN</td>\n      <td>0</td>\n      <td>[]</td>\n      <td>NaN</td>\n      <td>461257</td>\n      <td>tt6980792</td>\n      <td>en</td>\n      <td>Queerama</td>\n      <td>50 year decriminalis homosexu uk , director da...</td>\n      <td>...</td>\n      <td>2017-06-09</td>\n      <td>0.0</td>\n      <td>75.0</td>\n      <td>[{'iso_639_1': 'en', 'name': 'English'}]</td>\n      <td>Released</td>\n      <td>NaN</td>\n      <td>Queerama</td>\n      <td>False</td>\n      <td>0.0</td>\n      <td>0.0</td>\n    </tr>\n  </tbody>\n</table>\n<p>44509 rows × 24 columns</p>\n</div>"
     },
     "execution_count": 90,
     "metadata": {},
     "output_type": "execute_result"
    }
   ],
   "source": [
    "metadata_clean"
   ],
   "metadata": {
    "collapsed": false
   }
  },
  {
   "cell_type": "code",
   "execution_count": 91,
   "outputs": [],
   "source": [
    "import gensim.downloader as api\n",
    "glove_embedding_model = api.load(\"glove-wiki-gigaword-300\")"
   ],
   "metadata": {
    "collapsed": false
   }
  },
  {
   "cell_type": "code",
   "execution_count": 92,
   "outputs": [],
   "source": [
    "# metadata_clean.columns = metadata_clean.columns.str.replace('id', 'metadata_id')"
   ],
   "metadata": {
    "collapsed": false
   }
  },
  {
   "cell_type": "code",
   "execution_count": 93,
   "outputs": [
    {
     "data": {
      "text/plain": "       adult                              belongs_to_collection    budget  \\\n0      False  {'id': 10194, 'name': 'Toy Story Collection', ...  30000000   \n1      False                                                NaN  65000000   \n2      False  {'id': 119050, 'name': 'Grumpy Old Men Collect...         0   \n3      False                                                NaN  16000000   \n4      False  {'id': 96871, 'name': 'Father of the Bride Col...         0   \n...      ...                                                ...       ...   \n45461  False                                                NaN         0   \n45462  False                                                NaN         0   \n45463  False                                                NaN         0   \n45464  False                                                NaN         0   \n45465  False                                                NaN         0   \n\n                                                  genres  \\\n0      [{'id': 16, 'name': 'Animation'}, {'id': 35, '...   \n1      [{'id': 12, 'name': 'Adventure'}, {'id': 14, '...   \n2      [{'id': 10749, 'name': 'Romance'}, {'id': 35, ...   \n3      [{'id': 35, 'name': 'Comedy'}, {'id': 18, 'nam...   \n4                         [{'id': 35, 'name': 'Comedy'}]   \n...                                                  ...   \n45461  [{'id': 18, 'name': 'Drama'}, {'id': 10751, 'n...   \n45462                      [{'id': 18, 'name': 'Drama'}]   \n45463  [{'id': 28, 'name': 'Action'}, {'id': 18, 'nam...   \n45464                                                 []   \n45465                                                 []   \n\n                                   homepage metadata_id imdb_metadata_id  \\\n0      http://toystory.disney.com/toy-story         862        tt0114709   \n1                                       NaN        8844        tt0113497   \n2                                       NaN       15602        tt0113228   \n3                                       NaN       31357        tt0114885   \n4                                       NaN       11862        tt0113041   \n...                                     ...         ...              ...   \n45461  http://www.imdb.com/title/tt6209470/      439050        tt6209470   \n45462                                   NaN      111109        tt2028550   \n45463                                   NaN       67758        tt0303758   \n45464                                   NaN      227506        tt0008536   \n45465                                   NaN      461257        tt6980792   \n\n      original_language               original_title  \\\n0                    en                    Toy Story   \n1                    en                      Jumanji   \n2                    en             Grumpier Old Men   \n3                    en            Waiting to Exhale   \n4                    en  Father of the Bride Part II   \n...                 ...                          ...   \n45461                fa                      رگ خواب   \n45462                tl          Siglo ng Pagluluwal   \n45463                en                     Betrayal   \n45464                en          Satana likuyushchiy   \n45465                en                     Queerama   \n\n                                                overview  ... release_date  \\\n0      led woodi , andi 's toy live happili room andi...  ...   1995-10-30   \n1      sibl judi peter discov enchant board game open...  ...   1995-12-15   \n2      famili wed reignit ancient feud next-door neig...  ...   1995-12-22   \n3      cheat , mistreat step , women hold breath , wa...  ...   1995-12-22   \n4      georg bank recov daughter 's wed , receiv news...  ...   1995-02-10   \n...                                                  ...  ...          ...   \n45461                              rise fall man woman .  ...          NaN   \n45462  artist struggl finish work storylin cult play ...  ...   2011-11-17   \n45463  one hit goe wrong , profession assassin end su...  ...   2003-08-01   \n45464  small town live two brother , one minist one h...  ...   1917-10-21   \n45465  50 year decriminalis homosexu uk , director da...  ...   2017-06-09   \n\n           revenue runtime                                   spoken_languages  \\\n0      373554033.0    81.0           [{'iso_639_1': 'en', 'name': 'English'}]   \n1      262797249.0   104.0  [{'iso_639_1': 'en', 'name': 'English'}, {'iso...   \n2              0.0   101.0           [{'iso_639_1': 'en', 'name': 'English'}]   \n3       81452156.0   127.0           [{'iso_639_1': 'en', 'name': 'English'}]   \n4       76578911.0   106.0           [{'iso_639_1': 'en', 'name': 'English'}]   \n...            ...     ...                                                ...   \n45461          0.0    90.0             [{'iso_639_1': 'fa', 'name': 'فارسی'}]   \n45462          0.0   360.0                  [{'iso_639_1': 'tl', 'name': ''}]   \n45463          0.0    90.0           [{'iso_639_1': 'en', 'name': 'English'}]   \n45464          0.0    87.0                                                 []   \n45465          0.0    75.0           [{'iso_639_1': 'en', 'name': 'English'}]   \n\n         status                                            tagline  \\\n0      Released                                                NaN   \n1      Released          Roll the dice and unleash the excitement!   \n2      Released  Still Yelling. Still Fighting. Still Ready for...   \n3      Released  Friends are the people who let you be yourself...   \n4      Released  Just When His World Is Back To Normal... He's ...   \n...         ...                                                ...   \n45461  Released         Rising and falling between a man and woman   \n45462  Released                                                NaN   \n45463  Released                             A deadly game of wits.   \n45464  Released                                                NaN   \n45465  Released                                                NaN   \n\n                             title vmetadata_ideo vote_average vote_count  \n0                        Toy Story          False          7.7     5415.0  \n1                          Jumanji          False          6.9     2413.0  \n2                 Grumpier Old Men          False          6.5       92.0  \n3                Waiting to Exhale          False          6.1       34.0  \n4      Father of the Bride Part II          False          5.7      173.0  \n...                            ...            ...          ...        ...  \n45461                       Subdue          False          4.0        1.0  \n45462          Century of Birthing          False          9.0        3.0  \n45463                     Betrayal          False          3.8        6.0  \n45464             Satan Triumphant          False          0.0        0.0  \n45465                     Queerama          False          0.0        0.0  \n\n[44509 rows x 24 columns]",
      "text/html": "<div>\n<style scoped>\n    .dataframe tbody tr th:only-of-type {\n        vertical-align: middle;\n    }\n\n    .dataframe tbody tr th {\n        vertical-align: top;\n    }\n\n    .dataframe thead th {\n        text-align: right;\n    }\n</style>\n<table border=\"1\" class=\"dataframe\">\n  <thead>\n    <tr style=\"text-align: right;\">\n      <th></th>\n      <th>adult</th>\n      <th>belongs_to_collection</th>\n      <th>budget</th>\n      <th>genres</th>\n      <th>homepage</th>\n      <th>metadata_id</th>\n      <th>imdb_metadata_id</th>\n      <th>original_language</th>\n      <th>original_title</th>\n      <th>overview</th>\n      <th>...</th>\n      <th>release_date</th>\n      <th>revenue</th>\n      <th>runtime</th>\n      <th>spoken_languages</th>\n      <th>status</th>\n      <th>tagline</th>\n      <th>title</th>\n      <th>vmetadata_ideo</th>\n      <th>vote_average</th>\n      <th>vote_count</th>\n    </tr>\n  </thead>\n  <tbody>\n    <tr>\n      <th>0</th>\n      <td>False</td>\n      <td>{'id': 10194, 'name': 'Toy Story Collection', ...</td>\n      <td>30000000</td>\n      <td>[{'id': 16, 'name': 'Animation'}, {'id': 35, '...</td>\n      <td>http://toystory.disney.com/toy-story</td>\n      <td>862</td>\n      <td>tt0114709</td>\n      <td>en</td>\n      <td>Toy Story</td>\n      <td>led woodi , andi 's toy live happili room andi...</td>\n      <td>...</td>\n      <td>1995-10-30</td>\n      <td>373554033.0</td>\n      <td>81.0</td>\n      <td>[{'iso_639_1': 'en', 'name': 'English'}]</td>\n      <td>Released</td>\n      <td>NaN</td>\n      <td>Toy Story</td>\n      <td>False</td>\n      <td>7.7</td>\n      <td>5415.0</td>\n    </tr>\n    <tr>\n      <th>1</th>\n      <td>False</td>\n      <td>NaN</td>\n      <td>65000000</td>\n      <td>[{'id': 12, 'name': 'Adventure'}, {'id': 14, '...</td>\n      <td>NaN</td>\n      <td>8844</td>\n      <td>tt0113497</td>\n      <td>en</td>\n      <td>Jumanji</td>\n      <td>sibl judi peter discov enchant board game open...</td>\n      <td>...</td>\n      <td>1995-12-15</td>\n      <td>262797249.0</td>\n      <td>104.0</td>\n      <td>[{'iso_639_1': 'en', 'name': 'English'}, {'iso...</td>\n      <td>Released</td>\n      <td>Roll the dice and unleash the excitement!</td>\n      <td>Jumanji</td>\n      <td>False</td>\n      <td>6.9</td>\n      <td>2413.0</td>\n    </tr>\n    <tr>\n      <th>2</th>\n      <td>False</td>\n      <td>{'id': 119050, 'name': 'Grumpy Old Men Collect...</td>\n      <td>0</td>\n      <td>[{'id': 10749, 'name': 'Romance'}, {'id': 35, ...</td>\n      <td>NaN</td>\n      <td>15602</td>\n      <td>tt0113228</td>\n      <td>en</td>\n      <td>Grumpier Old Men</td>\n      <td>famili wed reignit ancient feud next-door neig...</td>\n      <td>...</td>\n      <td>1995-12-22</td>\n      <td>0.0</td>\n      <td>101.0</td>\n      <td>[{'iso_639_1': 'en', 'name': 'English'}]</td>\n      <td>Released</td>\n      <td>Still Yelling. Still Fighting. Still Ready for...</td>\n      <td>Grumpier Old Men</td>\n      <td>False</td>\n      <td>6.5</td>\n      <td>92.0</td>\n    </tr>\n    <tr>\n      <th>3</th>\n      <td>False</td>\n      <td>NaN</td>\n      <td>16000000</td>\n      <td>[{'id': 35, 'name': 'Comedy'}, {'id': 18, 'nam...</td>\n      <td>NaN</td>\n      <td>31357</td>\n      <td>tt0114885</td>\n      <td>en</td>\n      <td>Waiting to Exhale</td>\n      <td>cheat , mistreat step , women hold breath , wa...</td>\n      <td>...</td>\n      <td>1995-12-22</td>\n      <td>81452156.0</td>\n      <td>127.0</td>\n      <td>[{'iso_639_1': 'en', 'name': 'English'}]</td>\n      <td>Released</td>\n      <td>Friends are the people who let you be yourself...</td>\n      <td>Waiting to Exhale</td>\n      <td>False</td>\n      <td>6.1</td>\n      <td>34.0</td>\n    </tr>\n    <tr>\n      <th>4</th>\n      <td>False</td>\n      <td>{'id': 96871, 'name': 'Father of the Bride Col...</td>\n      <td>0</td>\n      <td>[{'id': 35, 'name': 'Comedy'}]</td>\n      <td>NaN</td>\n      <td>11862</td>\n      <td>tt0113041</td>\n      <td>en</td>\n      <td>Father of the Bride Part II</td>\n      <td>georg bank recov daughter 's wed , receiv news...</td>\n      <td>...</td>\n      <td>1995-02-10</td>\n      <td>76578911.0</td>\n      <td>106.0</td>\n      <td>[{'iso_639_1': 'en', 'name': 'English'}]</td>\n      <td>Released</td>\n      <td>Just When His World Is Back To Normal... He's ...</td>\n      <td>Father of the Bride Part II</td>\n      <td>False</td>\n      <td>5.7</td>\n      <td>173.0</td>\n    </tr>\n    <tr>\n      <th>...</th>\n      <td>...</td>\n      <td>...</td>\n      <td>...</td>\n      <td>...</td>\n      <td>...</td>\n      <td>...</td>\n      <td>...</td>\n      <td>...</td>\n      <td>...</td>\n      <td>...</td>\n      <td>...</td>\n      <td>...</td>\n      <td>...</td>\n      <td>...</td>\n      <td>...</td>\n      <td>...</td>\n      <td>...</td>\n      <td>...</td>\n      <td>...</td>\n      <td>...</td>\n      <td>...</td>\n    </tr>\n    <tr>\n      <th>45461</th>\n      <td>False</td>\n      <td>NaN</td>\n      <td>0</td>\n      <td>[{'id': 18, 'name': 'Drama'}, {'id': 10751, 'n...</td>\n      <td>http://www.imdb.com/title/tt6209470/</td>\n      <td>439050</td>\n      <td>tt6209470</td>\n      <td>fa</td>\n      <td>رگ خواب</td>\n      <td>rise fall man woman .</td>\n      <td>...</td>\n      <td>NaN</td>\n      <td>0.0</td>\n      <td>90.0</td>\n      <td>[{'iso_639_1': 'fa', 'name': 'فارسی'}]</td>\n      <td>Released</td>\n      <td>Rising and falling between a man and woman</td>\n      <td>Subdue</td>\n      <td>False</td>\n      <td>4.0</td>\n      <td>1.0</td>\n    </tr>\n    <tr>\n      <th>45462</th>\n      <td>False</td>\n      <td>NaN</td>\n      <td>0</td>\n      <td>[{'id': 18, 'name': 'Drama'}]</td>\n      <td>NaN</td>\n      <td>111109</td>\n      <td>tt2028550</td>\n      <td>tl</td>\n      <td>Siglo ng Pagluluwal</td>\n      <td>artist struggl finish work storylin cult play ...</td>\n      <td>...</td>\n      <td>2011-11-17</td>\n      <td>0.0</td>\n      <td>360.0</td>\n      <td>[{'iso_639_1': 'tl', 'name': ''}]</td>\n      <td>Released</td>\n      <td>NaN</td>\n      <td>Century of Birthing</td>\n      <td>False</td>\n      <td>9.0</td>\n      <td>3.0</td>\n    </tr>\n    <tr>\n      <th>45463</th>\n      <td>False</td>\n      <td>NaN</td>\n      <td>0</td>\n      <td>[{'id': 28, 'name': 'Action'}, {'id': 18, 'nam...</td>\n      <td>NaN</td>\n      <td>67758</td>\n      <td>tt0303758</td>\n      <td>en</td>\n      <td>Betrayal</td>\n      <td>one hit goe wrong , profession assassin end su...</td>\n      <td>...</td>\n      <td>2003-08-01</td>\n      <td>0.0</td>\n      <td>90.0</td>\n      <td>[{'iso_639_1': 'en', 'name': 'English'}]</td>\n      <td>Released</td>\n      <td>A deadly game of wits.</td>\n      <td>Betrayal</td>\n      <td>False</td>\n      <td>3.8</td>\n      <td>6.0</td>\n    </tr>\n    <tr>\n      <th>45464</th>\n      <td>False</td>\n      <td>NaN</td>\n      <td>0</td>\n      <td>[]</td>\n      <td>NaN</td>\n      <td>227506</td>\n      <td>tt0008536</td>\n      <td>en</td>\n      <td>Satana likuyushchiy</td>\n      <td>small town live two brother , one minist one h...</td>\n      <td>...</td>\n      <td>1917-10-21</td>\n      <td>0.0</td>\n      <td>87.0</td>\n      <td>[]</td>\n      <td>Released</td>\n      <td>NaN</td>\n      <td>Satan Triumphant</td>\n      <td>False</td>\n      <td>0.0</td>\n      <td>0.0</td>\n    </tr>\n    <tr>\n      <th>45465</th>\n      <td>False</td>\n      <td>NaN</td>\n      <td>0</td>\n      <td>[]</td>\n      <td>NaN</td>\n      <td>461257</td>\n      <td>tt6980792</td>\n      <td>en</td>\n      <td>Queerama</td>\n      <td>50 year decriminalis homosexu uk , director da...</td>\n      <td>...</td>\n      <td>2017-06-09</td>\n      <td>0.0</td>\n      <td>75.0</td>\n      <td>[{'iso_639_1': 'en', 'name': 'English'}]</td>\n      <td>Released</td>\n      <td>NaN</td>\n      <td>Queerama</td>\n      <td>False</td>\n      <td>0.0</td>\n      <td>0.0</td>\n    </tr>\n  </tbody>\n</table>\n<p>44509 rows × 24 columns</p>\n</div>"
     },
     "execution_count": 93,
     "metadata": {},
     "output_type": "execute_result"
    }
   ],
   "source": [
    "metadata_clean"
   ],
   "metadata": {
    "collapsed": false
   }
  },
  {
   "cell_type": "code",
   "execution_count": 94,
   "outputs": [],
   "source": [
    "# # Merge the metadata and mapping tables on the metadata_id\n",
    "# metadata_copy = metadata_clean.copy()\n",
    "# metadata_copy['metadata_id'] = metadata_copy['metadata_id'].astype(int)\n",
    "#\n",
    "#\n",
    "# movie_data = pd.merge(metadata_copy, mapping_table, left_on=\"metadata_id\", right_on=\"id_in_metadata\")"
   ],
   "metadata": {
    "collapsed": false
   }
  },
  {
   "cell_type": "code",
   "execution_count": 95,
   "outputs": [],
   "source": [
    "\n",
    "# Define a function to convert text to a vector using word embeddings\n",
    "def text_to_vector(text):\n",
    "    words = text.lower().split()\n",
    "    vectors = [glove_embedding_model[w] for w in words if w in glove_embedding_model.key_to_index]\n",
    "    if len(vectors) == 0:\n",
    "        return np.zeros(300)\n",
    "    else:\n",
    "        return np.mean(vectors, axis=0)\n",
    "\n",
    "# Apply the text_to_vector function to the overview column to create a new column \"embedding\"\n",
    "movie_data[\"embedding\"] = movie_data[\"overview\"].apply(text_to_vector)\n",
    "# metadata_copy[\"embedding\"] = metadata_copy[\"overview\"].apply(text_to_vector)\n",
    "\n",
    "# Extract the movie_id and embedding columns and save to a new CSV file\n",
    "# movie_embeddings = metadata_copy[[\"metadata_id\", \"embedding\"]]\n",
    "movie_embeddings = movie_data[[\"id_in_movielens\", \"embedding\"]]\n",
    "# movie_embeddings.to_csv(\"movie_embeddings.csv\", index=False)"
   ],
   "metadata": {
    "collapsed": false
   }
  },
  {
   "cell_type": "code",
   "execution_count": 96,
   "outputs": [
    {
     "data": {
      "text/plain": "      id_in_movielens                                          embedding\n0                   1  [-0.10946303, 0.078197874, -0.02056392, -0.127...\n1                 755  [-0.07720704, 0.06704256, -0.033654235, -0.098...\n2                1028  [0.018259447, 0.061489996, 0.063034564, -0.048...\n3                1311  [-0.074486144, -0.008508504, 0.010924811, -0.0...\n4                 756  [-0.14021243, -0.09134251, -0.043068476, -0.05...\n...               ...                                                ...\n1489              217  [-0.31841668, -0.05600701, 0.01332767, -0.1249...\n1490             1329  [-0.06209051, 0.13034874, -0.030291673, 0.1018...\n1491              839  [-0.050440956, 0.05347763, -0.017222112, -0.03...\n1492              166  [-0.035610523, 0.028492294, -0.07466405, -0.19...\n1493              392  [-0.1402371, 0.13628922, -0.040712, 0.04809366...\n\n[1494 rows x 2 columns]",
      "text/html": "<div>\n<style scoped>\n    .dataframe tbody tr th:only-of-type {\n        vertical-align: middle;\n    }\n\n    .dataframe tbody tr th {\n        vertical-align: top;\n    }\n\n    .dataframe thead th {\n        text-align: right;\n    }\n</style>\n<table border=\"1\" class=\"dataframe\">\n  <thead>\n    <tr style=\"text-align: right;\">\n      <th></th>\n      <th>id_in_movielens</th>\n      <th>embedding</th>\n    </tr>\n  </thead>\n  <tbody>\n    <tr>\n      <th>0</th>\n      <td>1</td>\n      <td>[-0.10946303, 0.078197874, -0.02056392, -0.127...</td>\n    </tr>\n    <tr>\n      <th>1</th>\n      <td>755</td>\n      <td>[-0.07720704, 0.06704256, -0.033654235, -0.098...</td>\n    </tr>\n    <tr>\n      <th>2</th>\n      <td>1028</td>\n      <td>[0.018259447, 0.061489996, 0.063034564, -0.048...</td>\n    </tr>\n    <tr>\n      <th>3</th>\n      <td>1311</td>\n      <td>[-0.074486144, -0.008508504, 0.010924811, -0.0...</td>\n    </tr>\n    <tr>\n      <th>4</th>\n      <td>756</td>\n      <td>[-0.14021243, -0.09134251, -0.043068476, -0.05...</td>\n    </tr>\n    <tr>\n      <th>...</th>\n      <td>...</td>\n      <td>...</td>\n    </tr>\n    <tr>\n      <th>1489</th>\n      <td>217</td>\n      <td>[-0.31841668, -0.05600701, 0.01332767, -0.1249...</td>\n    </tr>\n    <tr>\n      <th>1490</th>\n      <td>1329</td>\n      <td>[-0.06209051, 0.13034874, -0.030291673, 0.1018...</td>\n    </tr>\n    <tr>\n      <th>1491</th>\n      <td>839</td>\n      <td>[-0.050440956, 0.05347763, -0.017222112, -0.03...</td>\n    </tr>\n    <tr>\n      <th>1492</th>\n      <td>166</td>\n      <td>[-0.035610523, 0.028492294, -0.07466405, -0.19...</td>\n    </tr>\n    <tr>\n      <th>1493</th>\n      <td>392</td>\n      <td>[-0.1402371, 0.13628922, -0.040712, 0.04809366...</td>\n    </tr>\n  </tbody>\n</table>\n<p>1494 rows × 2 columns</p>\n</div>"
     },
     "execution_count": 96,
     "metadata": {},
     "output_type": "execute_result"
    }
   ],
   "source": [
    "movie_embeddings"
   ],
   "metadata": {
    "collapsed": false
   }
  },
  {
   "cell_type": "code",
   "execution_count": 97,
   "outputs": [
    {
     "data": {
      "text/plain": "array([-1.09463029e-01,  7.81978741e-02, -2.05639191e-02, -1.27132148e-01,\n        1.90354083e-02,  6.41334429e-02, -1.92750376e-02,  1.53865904e-01,\n        1.27750054e-01, -8.05647314e-01,  2.25481704e-01,  2.23635347e-04,\n       -6.28875243e-03,  2.06476271e-01,  1.47705659e-01,  8.78323242e-02,\n       -1.41794253e-02,  8.11555237e-02,  1.71463424e-03,  1.30435899e-01,\n        2.45821550e-01,  2.09462672e-01,  1.04975209e-01,  5.54917790e-02,\n       -1.40827626e-01, -5.46103120e-02,  6.88285455e-02, -4.78232652e-02,\n       -4.24884558e-02, -4.08496819e-02, -3.02595198e-02,  1.59713283e-01,\n       -1.85172688e-02,  9.97798815e-02, -6.37291670e-01,  8.51311088e-02,\n        1.77715917e-03,  7.50365108e-02, -8.34209193e-03, -3.68407480e-02,\n        4.85783815e-02, -2.68896893e-02, -3.70635055e-02,  6.29590601e-02,\n       -3.39834504e-02, -6.44686806e-04,  1.73333615e-01, -2.77736746e-02,\n       -2.45659929e-02,  5.97488210e-02,  7.87667930e-02, -1.14500806e-01,\n       -5.40434197e-02,  9.24675316e-02,  3.93713526e-02,  1.18547164e-01,\n       -9.99003351e-02,  1.34425744e-01,  8.76120850e-02, -7.27098063e-02,\n        4.01317738e-02, -6.49228394e-02,  1.04815267e-01,  2.70556919e-02,\n        6.49111420e-02, -2.25076661e-01,  2.09187105e-01,  1.88027993e-02,\n        2.95960568e-02,  1.51445726e-02,  1.76489614e-02, -7.24919932e-03,\n        8.72782525e-03,  1.07862771e-01,  2.94354297e-02, -3.46269198e-02,\n        1.06572777e-01, -1.41446842e-02,  2.64351591e-02,  1.23579517e-01,\n        9.06348694e-03, -3.08375973e-02,  1.26493201e-01,  2.95257773e-02,\n       -3.51001732e-02, -4.64614034e-02, -6.33185506e-02,  1.17132448e-01,\n       -5.91688640e-02, -4.95988801e-02, -6.51523694e-02,  6.94062412e-02,\n       -1.19035013e-01, -1.21629402e-01, -8.52489993e-02, -1.19235637e-02,\n       -1.46965802e-01,  3.18444893e-02,  4.18983661e-02, -2.68502802e-01,\n        3.79102044e-02, -1.32469274e-02, -3.36979181e-02, -1.95134822e-02,\n        6.22313209e-02, -1.07330777e-01,  9.68771875e-02, -2.95836851e-02,\n       -1.16584219e-01,  8.25998262e-02, -3.53770293e-02,  1.59616359e-02,\n        6.36951346e-03, -5.53620094e-03,  1.09939620e-01,  1.50855243e-01,\n       -1.07838430e-01,  3.79292034e-02,  2.76336279e-02, -1.83730423e-01,\n       -9.88722667e-02, -6.21737950e-02,  1.64637968e-01,  5.44851385e-02,\n       -1.05436765e-01, -2.34026425e-02, -1.35997497e-02,  1.32682085e-01,\n        4.35550660e-02,  5.08255400e-02,  6.21475689e-02,  1.15974069e-01,\n        1.76751763e-01, -4.80040275e-02,  1.15278885e-01,  7.99029544e-02,\n        1.14109717e-01, -1.38103008e-01, -8.98118988e-02,  6.79224879e-02,\n       -5.65384999e-02, -2.44308170e-02,  5.53072393e-02,  1.05013803e-01,\n       -1.12871207e-01, -7.20582977e-02,  1.05414167e-01,  2.16656886e-02,\n       -1.08930610e-01,  5.94613217e-02,  1.09072201e-01,  2.88160294e-02,\n        5.55732287e-02,  9.59100127e-02,  2.55674213e-01,  6.99617295e-03,\n        8.59105773e-03,  1.11562900e-01,  1.53702311e-02, -3.66350752e-03,\n        8.56314749e-02, -5.65108657e-02,  1.32885069e-01, -1.14768278e-02,\n        6.35557547e-02,  1.17227687e-02,  5.48410900e-02,  4.54754978e-02,\n       -1.52937248e-01,  3.35195586e-02, -9.74231586e-02,  1.05585776e-01,\n       -4.43840116e-01, -8.01546201e-02,  1.91821903e-03,  3.55897658e-02,\n        6.21222295e-02,  3.21377777e-02, -1.99823896e-03,  1.03996329e-01,\n        2.17149514e-04,  7.78013766e-02,  2.71307435e-02, -1.18625825e-02,\n       -1.13688961e-01,  2.92990003e-02,  2.21499112e-02,  4.91165929e-03,\n       -2.93028727e-03,  1.07751489e-01,  1.37109170e-02,  7.63309821e-02,\n       -1.73447058e-01, -4.50752527e-02, -8.40867907e-02,  8.10605735e-02,\n       -8.92900117e-03,  3.50093618e-02,  9.27002057e-02, -1.07493568e-02,\n        7.79732287e-01, -9.51703489e-02,  1.33576319e-01,  3.84129323e-02,\n        9.63095874e-02,  2.28440594e-02,  6.38921633e-02,  3.61316875e-02,\n       -9.99725237e-02, -5.77336773e-02, -9.22910050e-02, -6.00566715e-02,\n        1.77681610e-01, -5.53401895e-02,  1.29346088e-01,  8.08600187e-02,\n        1.34248316e-01,  3.63109484e-02,  2.24744808e-02, -1.05134793e-01,\n        2.82741920e-03, -1.82967987e-02, -1.59240559e-01,  5.88638969e-02,\n       -2.56959721e-02,  3.02104503e-02,  5.84258884e-02, -1.27517211e-03,\n       -5.91165274e-02, -1.72956294e-04,  1.01723745e-02,  3.49561423e-02,\n        2.73610484e-02, -1.86165020e-01,  1.40875742e-01,  1.08413637e-01,\n        7.95057565e-02,  2.52309702e-02, -9.75880474e-02, -8.88617057e-03,\n        1.34787187e-01, -1.03410028e-01,  9.81692150e-02,  1.35313809e-01,\n       -2.04264775e-01, -8.35053250e-02, -8.26729164e-02,  6.47989148e-03,\n       -1.14274569e-01,  1.06283873e-01,  8.65111724e-02, -1.13779686e-01,\n       -6.04885109e-02,  4.42099422e-02,  2.11143419e-01,  1.69496775e-01,\n        2.62189388e-01, -1.00359954e-01,  1.76207960e-01, -5.68968393e-02,\n        5.95951639e-02, -2.26290375e-01,  1.18595287e-01, -1.62698314e-01,\n        1.64192300e-02, -1.67785324e-02, -2.60241306e-03, -1.79635435e-02,\n        5.11694066e-02,  2.33235322e-02, -5.46483137e-02, -1.97029803e-02,\n        1.08613679e-02, -1.85627326e-01, -6.06045593e-03,  7.26026520e-02,\n       -1.26221502e+00, -1.22553714e-01,  2.01274619e-01,  1.61649417e-02,\n       -2.67824918e-01,  1.91315845e-01, -5.18079065e-02,  7.94407800e-02,\n       -5.35392947e-02,  1.31451622e-01, -3.86091992e-02,  9.04885083e-02,\n       -8.51136148e-02,  5.85207529e-02,  1.10180475e-01, -1.96452532e-02,\n       -2.12566778e-02,  4.24901433e-02, -1.75905861e-02,  9.41962674e-02,\n        1.83474924e-02,  4.63361926e-02, -1.60307169e-01,  1.84858561e-01],\n      dtype=float32)"
     },
     "execution_count": 97,
     "metadata": {},
     "output_type": "execute_result"
    }
   ],
   "source": [
    "movie_embeddings['embedding'][0]"
   ],
   "metadata": {
    "collapsed": false
   }
  },
  {
   "cell_type": "markdown",
   "source": [],
   "metadata": {
    "collapsed": false
   }
  },
  {
   "cell_type": "markdown",
   "source": [
    "- Explore the similarity between movies within the vector spaces by computing their cosine similarity. Compare results obtained with TF-IDF and the word embeddings. Discuss what you find.\n"
   ],
   "metadata": {
    "collapsed": false
   }
  },
  {
   "cell_type": "code",
   "execution_count": 98,
   "outputs": [
    {
     "name": "stdout",
     "output_type": "stream",
     "text": [
      "[[1.         0.02442354 0.         ... 0.         0.         0.        ]\n",
      " [0.02442354 1.         0.04243148 ... 0.02399672 0.         0.        ]\n",
      " [0.         0.04243148 1.         ... 0.05605319 0.         0.        ]\n",
      " ...\n",
      " [0.         0.02399672 0.05605319 ... 1.         0.         0.        ]\n",
      " [0.         0.         0.         ... 0.         1.         0.        ]\n",
      " [0.         0.         0.         ... 0.         0.         1.        ]]\n"
     ]
    }
   ],
   "source": [
    "from sklearn.metrics.pairwise import cosine_similarity\n",
    "\n",
    "# Compute the pairwise cosine similarity between all movies in the TF-IDF matrix\n",
    "cos_sim_tfidf = cosine_similarity(tfidf_matrix)\n",
    "\n",
    "# Print the cosine similarity matrix\n",
    "print(cos_sim_tfidf)"
   ],
   "metadata": {
    "collapsed": false
   }
  },
  {
   "cell_type": "code",
   "execution_count": 99,
   "outputs": [
    {
     "name": "stdout",
     "output_type": "stream",
     "text": [
      "[[1.         0.83947444 0.79715085 ... 0.8175576  0.6259571  0.6029959 ]\n",
      " [0.83947444 1.         0.8238467  ... 0.8765471  0.6306478  0.64319986]\n",
      " [0.79715085 0.8238467  0.99999976 ... 0.8696661  0.5988736  0.6120067 ]\n",
      " ...\n",
      " [0.8175576  0.8765471  0.8696661  ... 1.0000001  0.66331244 0.6749233 ]\n",
      " [0.6259571  0.6306478  0.5988736  ... 0.66331244 1.         0.49783015]\n",
      " [0.6029959  0.64319986 0.6120067  ... 0.6749233  0.49783015 1.        ]]\n"
     ]
    }
   ],
   "source": [
    "# Compute the pairwise cosine similarity between all movies in the embedding space\n",
    "cos_sim_embedding = cosine_similarity(list(movie_embeddings['embedding']))\n",
    "\n",
    "# Print the cosine similarity matrix\n",
    "print(cos_sim_embedding)"
   ],
   "metadata": {
    "collapsed": false
   }
  },
  {
   "cell_type": "markdown",
   "source": [
    "Compare the 2 cosine similarity matrix"
   ],
   "metadata": {
    "collapsed": false
   }
  },
  {
   "cell_type": "code",
   "execution_count": 100,
   "outputs": [],
   "source": [
    "from scipy.stats import pearsonr\n",
    "\n",
    "# Flatten the cosine similarity matrices\n",
    "cos_sim_tfidf_flat = cos_sim_tfidf.flatten()\n",
    "cos_sim_embedding_flat = cos_sim_embedding.flatten()\n",
    "\n"
   ],
   "metadata": {
    "collapsed": false
   }
  },
  {
   "cell_type": "code",
   "execution_count": 101,
   "outputs": [
    {
     "name": "stdout",
     "output_type": "stream",
     "text": [
      "2232036\n",
      "2232036\n"
     ]
    }
   ],
   "source": [
    "print(len(cos_sim_tfidf_flat))\n",
    "print(len(cos_sim_embedding_flat))"
   ],
   "metadata": {
    "collapsed": false
   }
  },
  {
   "cell_type": "code",
   "execution_count": 102,
   "outputs": [
    {
     "name": "stdout",
     "output_type": "stream",
     "text": [
      "The Pearson correlation coefficient is: 0.19067232588351563\n"
     ]
    }
   ],
   "source": [
    "# Compute the Pearson correlation coefficient between the two matrices\n",
    "corr_coef, p_value = pearsonr(cos_sim_tfidf_flat, cos_sim_embedding_flat)\n",
    "\n",
    "# Print the correlation coefficient\n",
    "print(f\"The Pearson correlation coefficient is: {corr_coef}\")"
   ],
   "metadata": {
    "collapsed": false
   }
  },
  {
   "cell_type": "code",
   "execution_count": 102,
   "outputs": [],
   "source": [],
   "metadata": {
    "collapsed": false
   }
  },
  {
   "cell_type": "markdown",
   "source": [
    "# 5) Week 10: Content-Based Recommender System"
   ],
   "metadata": {
    "collapsed": false
   }
  },
  {
   "cell_type": "markdown",
   "source": [
    "- Transform the overview column of each item into a TF-IDF score or other numerical value, e.g., token-count based, that can represent the\n",
    "summaries. Select other factors that can be used as item features, for example genres and production companies."
   ],
   "metadata": {
    "collapsed": false
   }
  },
  {
   "cell_type": "code",
   "execution_count": 103,
   "outputs": [],
   "source": [
    "# Fit and transform the overview column\n",
    "movie_data['overview_tfidf'] = tfidf_vectorizer.fit_transform(movie_data['overview']).toarray().tolist()"
   ],
   "metadata": {
    "collapsed": false
   }
  },
  {
   "cell_type": "code",
   "execution_count": 104,
   "outputs": [],
   "source": [
    "import ast\n",
    "\n",
    "# Define a function to extract the genre names\n",
    "def extract_genres(row):\n",
    "    genres = []\n",
    "    for genre in ast.literal_eval(row['genres']):\n",
    "        genres.append(genre['name'])\n",
    "    return '|'.join(genres)\n",
    "\n",
    "# Define a function to extract the production company names\n",
    "def extract_companies(row):\n",
    "    companies = []\n",
    "    for company in ast.literal_eval(row['production_companies']):\n",
    "        companies.append(company['name'])\n",
    "    return '|'.join(companies)\n",
    "\n",
    "# Apply the functions to the metadata table\n",
    "movie_data['genres'] = movie_data.apply(extract_genres, axis=1)\n",
    "movie_data = movie_data.dropna(subset=['production_companies'])\n",
    "movie_data['production_companies'] = movie_data.apply(extract_companies, axis=1)"
   ],
   "metadata": {
    "collapsed": false
   }
  },
  {
   "cell_type": "code",
   "execution_count": 105,
   "outputs": [],
   "source": [
    "from sklearn.preprocessing import MultiLabelBinarizer\n",
    "\n",
    "# Initialize the MultiLabelBinarizer\n",
    "mlb = MultiLabelBinarizer()\n",
    "\n",
    "# Fit and transform the genres and production_companies columns\n",
    "genres_encoded = mlb.fit_transform(movie_data['genres'].apply(lambda x: x.split('|')))\n",
    "movie_data = movie_data.join(pd.DataFrame(genres_encoded, columns=mlb.classes_).add_prefix('genre_'))\n",
    "# genres_list = genres_encoded.tolist()\n",
    "# movie_data['genres_encoded'] = genres_list\n",
    "\n",
    "\n",
    "production_companies_encoded = mlb.fit_transform(movie_data['production_companies'].apply(lambda x: x.split('|')))\n",
    "movie_data = movie_data.join(pd.DataFrame(production_companies_encoded, columns=mlb.classes_).add_prefix('production_company_'))\n"
   ],
   "metadata": {
    "collapsed": false
   }
  },
  {
   "cell_type": "code",
   "execution_count": 106,
   "outputs": [
    {
     "data": {
      "text/plain": "      adult                              belongs_to_collection    budget  \\\n0     False  {'id': 10194, 'name': 'Toy Story Collection', ...  30000000   \n1     False                                                NaN  65000000   \n2     False  {'id': 119050, 'name': 'Grumpy Old Men Collect...         0   \n3     False                                                NaN  16000000   \n4     False  {'id': 96871, 'name': 'Father of the Bride Col...         0   \n...     ...                                                ...       ...   \n1489  False                                                NaN         0   \n1490  False                                                NaN         0   \n1491  False                                                NaN         0   \n1492  False  {'id': 464784, 'name': 'The Water of the Hills...         0   \n1493  False                                                NaN         0   \n\n                        genres                              homepage  \\\n0      Animation|Comedy|Family  http://toystory.disney.com/toy-story   \n1     Adventure|Fantasy|Family                                   NaN   \n2               Romance|Comedy                                   NaN   \n3         Comedy|Drama|Romance                                   NaN   \n4                       Comedy                                   NaN   \n...                        ...                                   ...   \n1489           Horror|TV Movie                                   NaN   \n1490                                                             NaN   \n1491              Drama|Family                                   NaN   \n1492                     Drama                                   NaN   \n1493        Crime|Drama|Horror                                   NaN   \n\n      metadata_id imdb_metadata_id original_language  \\\n0             862        tt0114709                en   \n1            8844        tt0113497                en   \n2           15602        tt0113228                en   \n3           31357        tt0114885                en   \n4           11862        tt0113041                en   \n...           ...              ...               ...   \n1489        86889        tt0070003                en   \n1490        87169        tt0110400                en   \n1491        51043        tt0113682                en   \n1492        65703        tt0044883                fr   \n1493       210653        tt0043647                es   \n\n                   original_title  \\\n0                       Toy Story   \n1                         Jumanji   \n2                Grumpier Old Men   \n3               Waiting to Exhale   \n4     Father of the Bride Part II   \n...                           ...   \n1489        Bram Stoker's Dracula   \n1490                 The Low Life   \n1491                    Loch Ness   \n1492            Manon des sources   \n1493         El Hombre Sin Rostro   \n\n                                               overview  ...  \\\n0     led woodi , andi 's toy live happili room andi...  ...   \n1     sibl judi peter discov enchant board game open...  ...   \n2     famili wed reignit ancient feud next-door neig...  ...   \n3     cheat , mistreat step , women hold breath , wa...  ...   \n4     georg bank recov daughter 's wed , receiv news...  ...   \n...                                                 ...  ...   \n1489    dracula search woman look like long dead wife .  ...   \n1490  john came hollywood get one big break life . y...  ...   \n1491  dr. dempsey american scientist becom skeptic ....  ...   \n1492  marcel pagnol 's adapt novel manon de sourc , ...  ...   \n1493  faceless killer hunt women stop detect disturb...  ...   \n\n     production_company_Zespół Filmowy TOR  \\\n0                                        0   \n1                                        0   \n2                                        0   \n3                                        0   \n4                                        0   \n...                                    ...   \n1489                                     0   \n1490                                     0   \n1491                                     0   \n1492                                     0   \n1493                                     0   \n\n     production_company_Zeta Entertainment  \\\n0                                        0   \n1                                        0   \n2                                        0   \n3                                        0   \n4                                        0   \n...                                    ...   \n1489                                     0   \n1490                                     0   \n1491                                     0   \n1492                                     0   \n1493                                     0   \n\n     production_company_Zoetrope Studios  \\\n0                                      0   \n1                                      0   \n2                                      0   \n3                                      0   \n4                                      0   \n...                                  ...   \n1489                                   0   \n1490                                   0   \n1491                                   0   \n1492                                   0   \n1493                                   0   \n\n     production_company_Zucker Brothers Productions  \\\n0                                                 0   \n1                                                 0   \n2                                                 0   \n3                                                 0   \n4                                                 0   \n...                                             ...   \n1489                                              0   \n1490                                              0   \n1491                                              0   \n1492                                              0   \n1493                                              0   \n\n     production_company_Zupnik Cinema Group II  \\\n0                                            0   \n1                                            0   \n2                                            0   \n3                                            0   \n4                                            0   \n...                                        ...   \n1489                                         0   \n1490                                         0   \n1491                                         0   \n1492                                         0   \n1493                                         0   \n\n      production_company_Zweites Deutsches Fernsehen (ZDF)  \\\n0                                                     0      \n1                                                     0      \n2                                                     0      \n3                                                     0      \n4                                                     0      \n...                                                 ...      \n1489                                                  0      \n1490                                                  0      \n1491                                                  0      \n1492                                                  0      \n1493                                                  0      \n\n      production_company_cechi gori group  \\\n0                                       0   \n1                                       0   \n2                                       0   \n3                                       0   \n4                                       0   \n...                                   ...   \n1489                                    0   \n1490                                    0   \n1491                                    0   \n1492                                    0   \n1493                                    0   \n\n     production_company_imX Communications  \\\n0                                        0   \n1                                        0   \n2                                        0   \n3                                        0   \n4                                        0   \n...                                    ...   \n1489                                     0   \n1490                                     0   \n1491                                     0   \n1492                                     0   \n1493                                     0   \n\n     production_company_the Canadian Council  \\\n0                                          0   \n1                                          0   \n2                                          0   \n3                                          0   \n4                                          0   \n...                                      ...   \n1489                                       0   \n1490                                       0   \n1491                                       0   \n1492                                       0   \n1493                                       0   \n\n     production_company_west wind entertainment  \n0                                             0  \n1                                             0  \n2                                             0  \n3                                             0  \n4                                             0  \n...                                         ...  \n1489                                          0  \n1490                                          0  \n1491                                          0  \n1492                                          0  \n1493                                          0  \n\n[1494 rows x 1305 columns]",
      "text/html": "<div>\n<style scoped>\n    .dataframe tbody tr th:only-of-type {\n        vertical-align: middle;\n    }\n\n    .dataframe tbody tr th {\n        vertical-align: top;\n    }\n\n    .dataframe thead th {\n        text-align: right;\n    }\n</style>\n<table border=\"1\" class=\"dataframe\">\n  <thead>\n    <tr style=\"text-align: right;\">\n      <th></th>\n      <th>adult</th>\n      <th>belongs_to_collection</th>\n      <th>budget</th>\n      <th>genres</th>\n      <th>homepage</th>\n      <th>metadata_id</th>\n      <th>imdb_metadata_id</th>\n      <th>original_language</th>\n      <th>original_title</th>\n      <th>overview</th>\n      <th>...</th>\n      <th>production_company_Zespół Filmowy TOR</th>\n      <th>production_company_Zeta Entertainment</th>\n      <th>production_company_Zoetrope Studios</th>\n      <th>production_company_Zucker Brothers Productions</th>\n      <th>production_company_Zupnik Cinema Group II</th>\n      <th>production_company_Zweites Deutsches Fernsehen (ZDF)</th>\n      <th>production_company_cechi gori group</th>\n      <th>production_company_imX Communications</th>\n      <th>production_company_the Canadian Council</th>\n      <th>production_company_west wind entertainment</th>\n    </tr>\n  </thead>\n  <tbody>\n    <tr>\n      <th>0</th>\n      <td>False</td>\n      <td>{'id': 10194, 'name': 'Toy Story Collection', ...</td>\n      <td>30000000</td>\n      <td>Animation|Comedy|Family</td>\n      <td>http://toystory.disney.com/toy-story</td>\n      <td>862</td>\n      <td>tt0114709</td>\n      <td>en</td>\n      <td>Toy Story</td>\n      <td>led woodi , andi 's toy live happili room andi...</td>\n      <td>...</td>\n      <td>0</td>\n      <td>0</td>\n      <td>0</td>\n      <td>0</td>\n      <td>0</td>\n      <td>0</td>\n      <td>0</td>\n      <td>0</td>\n      <td>0</td>\n      <td>0</td>\n    </tr>\n    <tr>\n      <th>1</th>\n      <td>False</td>\n      <td>NaN</td>\n      <td>65000000</td>\n      <td>Adventure|Fantasy|Family</td>\n      <td>NaN</td>\n      <td>8844</td>\n      <td>tt0113497</td>\n      <td>en</td>\n      <td>Jumanji</td>\n      <td>sibl judi peter discov enchant board game open...</td>\n      <td>...</td>\n      <td>0</td>\n      <td>0</td>\n      <td>0</td>\n      <td>0</td>\n      <td>0</td>\n      <td>0</td>\n      <td>0</td>\n      <td>0</td>\n      <td>0</td>\n      <td>0</td>\n    </tr>\n    <tr>\n      <th>2</th>\n      <td>False</td>\n      <td>{'id': 119050, 'name': 'Grumpy Old Men Collect...</td>\n      <td>0</td>\n      <td>Romance|Comedy</td>\n      <td>NaN</td>\n      <td>15602</td>\n      <td>tt0113228</td>\n      <td>en</td>\n      <td>Grumpier Old Men</td>\n      <td>famili wed reignit ancient feud next-door neig...</td>\n      <td>...</td>\n      <td>0</td>\n      <td>0</td>\n      <td>0</td>\n      <td>0</td>\n      <td>0</td>\n      <td>0</td>\n      <td>0</td>\n      <td>0</td>\n      <td>0</td>\n      <td>0</td>\n    </tr>\n    <tr>\n      <th>3</th>\n      <td>False</td>\n      <td>NaN</td>\n      <td>16000000</td>\n      <td>Comedy|Drama|Romance</td>\n      <td>NaN</td>\n      <td>31357</td>\n      <td>tt0114885</td>\n      <td>en</td>\n      <td>Waiting to Exhale</td>\n      <td>cheat , mistreat step , women hold breath , wa...</td>\n      <td>...</td>\n      <td>0</td>\n      <td>0</td>\n      <td>0</td>\n      <td>0</td>\n      <td>0</td>\n      <td>0</td>\n      <td>0</td>\n      <td>0</td>\n      <td>0</td>\n      <td>0</td>\n    </tr>\n    <tr>\n      <th>4</th>\n      <td>False</td>\n      <td>{'id': 96871, 'name': 'Father of the Bride Col...</td>\n      <td>0</td>\n      <td>Comedy</td>\n      <td>NaN</td>\n      <td>11862</td>\n      <td>tt0113041</td>\n      <td>en</td>\n      <td>Father of the Bride Part II</td>\n      <td>georg bank recov daughter 's wed , receiv news...</td>\n      <td>...</td>\n      <td>0</td>\n      <td>0</td>\n      <td>0</td>\n      <td>0</td>\n      <td>0</td>\n      <td>0</td>\n      <td>0</td>\n      <td>0</td>\n      <td>0</td>\n      <td>0</td>\n    </tr>\n    <tr>\n      <th>...</th>\n      <td>...</td>\n      <td>...</td>\n      <td>...</td>\n      <td>...</td>\n      <td>...</td>\n      <td>...</td>\n      <td>...</td>\n      <td>...</td>\n      <td>...</td>\n      <td>...</td>\n      <td>...</td>\n      <td>...</td>\n      <td>...</td>\n      <td>...</td>\n      <td>...</td>\n      <td>...</td>\n      <td>...</td>\n      <td>...</td>\n      <td>...</td>\n      <td>...</td>\n      <td>...</td>\n    </tr>\n    <tr>\n      <th>1489</th>\n      <td>False</td>\n      <td>NaN</td>\n      <td>0</td>\n      <td>Horror|TV Movie</td>\n      <td>NaN</td>\n      <td>86889</td>\n      <td>tt0070003</td>\n      <td>en</td>\n      <td>Bram Stoker's Dracula</td>\n      <td>dracula search woman look like long dead wife .</td>\n      <td>...</td>\n      <td>0</td>\n      <td>0</td>\n      <td>0</td>\n      <td>0</td>\n      <td>0</td>\n      <td>0</td>\n      <td>0</td>\n      <td>0</td>\n      <td>0</td>\n      <td>0</td>\n    </tr>\n    <tr>\n      <th>1490</th>\n      <td>False</td>\n      <td>NaN</td>\n      <td>0</td>\n      <td></td>\n      <td>NaN</td>\n      <td>87169</td>\n      <td>tt0110400</td>\n      <td>en</td>\n      <td>The Low Life</td>\n      <td>john came hollywood get one big break life . y...</td>\n      <td>...</td>\n      <td>0</td>\n      <td>0</td>\n      <td>0</td>\n      <td>0</td>\n      <td>0</td>\n      <td>0</td>\n      <td>0</td>\n      <td>0</td>\n      <td>0</td>\n      <td>0</td>\n    </tr>\n    <tr>\n      <th>1491</th>\n      <td>False</td>\n      <td>NaN</td>\n      <td>0</td>\n      <td>Drama|Family</td>\n      <td>NaN</td>\n      <td>51043</td>\n      <td>tt0113682</td>\n      <td>en</td>\n      <td>Loch Ness</td>\n      <td>dr. dempsey american scientist becom skeptic ....</td>\n      <td>...</td>\n      <td>0</td>\n      <td>0</td>\n      <td>0</td>\n      <td>0</td>\n      <td>0</td>\n      <td>0</td>\n      <td>0</td>\n      <td>0</td>\n      <td>0</td>\n      <td>0</td>\n    </tr>\n    <tr>\n      <th>1492</th>\n      <td>False</td>\n      <td>{'id': 464784, 'name': 'The Water of the Hills...</td>\n      <td>0</td>\n      <td>Drama</td>\n      <td>NaN</td>\n      <td>65703</td>\n      <td>tt0044883</td>\n      <td>fr</td>\n      <td>Manon des sources</td>\n      <td>marcel pagnol 's adapt novel manon de sourc , ...</td>\n      <td>...</td>\n      <td>0</td>\n      <td>0</td>\n      <td>0</td>\n      <td>0</td>\n      <td>0</td>\n      <td>0</td>\n      <td>0</td>\n      <td>0</td>\n      <td>0</td>\n      <td>0</td>\n    </tr>\n    <tr>\n      <th>1493</th>\n      <td>False</td>\n      <td>NaN</td>\n      <td>0</td>\n      <td>Crime|Drama|Horror</td>\n      <td>NaN</td>\n      <td>210653</td>\n      <td>tt0043647</td>\n      <td>es</td>\n      <td>El Hombre Sin Rostro</td>\n      <td>faceless killer hunt women stop detect disturb...</td>\n      <td>...</td>\n      <td>0</td>\n      <td>0</td>\n      <td>0</td>\n      <td>0</td>\n      <td>0</td>\n      <td>0</td>\n      <td>0</td>\n      <td>0</td>\n      <td>0</td>\n      <td>0</td>\n    </tr>\n  </tbody>\n</table>\n<p>1494 rows × 1305 columns</p>\n</div>"
     },
     "execution_count": 106,
     "metadata": {},
     "output_type": "execute_result"
    }
   ],
   "source": [
    "movie_data"
   ],
   "metadata": {
    "collapsed": false
   }
  },
  {
   "cell_type": "markdown",
   "source": [
    "- After you represent each movie in a vector space, represent each user in the same vector space. This can be done by using an average of the items the user rates. Instead of a simple average, a weighted average can be used. Note: the user representations and item representations all have the same number of dimensions.\n"
   ],
   "metadata": {
    "collapsed": false
   }
  },
  {
   "cell_type": "code",
   "execution_count": 107,
   "outputs": [],
   "source": [
    "train_data_df_2 = pd.merge(train_data_df, movie_data, left_on=\"movie_id\", right_on=\"id_in_movielens\")"
   ],
   "metadata": {
    "collapsed": false
   }
  },
  {
   "cell_type": "code",
   "execution_count": 108,
   "outputs": [
    {
     "data": {
      "text/plain": "       user_id  movie_id  rating  timestamp  id_in_movielens_x  \\\n0            1         1       5  874965758                  1   \n1            2         1       4  888550871                  1   \n2            6         1       4  883599478                  1   \n3           13         1       3  882140487                  1   \n4           16         1       5  877717833                  1   \n...        ...       ...     ...        ...                ...   \n75420      851      1676       2  875731674               1676   \n75421      854      1677       3  882814368               1677   \n75422      863      1679       3  889289491               1679   \n75423      863      1680       2  889289570               1680   \n75424      916      1682       3  880845755               1682   \n\n       id_in_metadata_x adult_x  \\\n0                   862   False   \n1                   862   False   \n2                   862   False   \n3                   862   False   \n4                   862   False   \n...                 ...     ...   \n75420             59232   False   \n75421            124851   False   \n75422              2923   False   \n75423             10215   False   \n75424             88893   False   \n\n                                 belongs_to_collection_x  budget_x  \\\n0      {'id': 10194, 'name': 'Toy Story Collection', ...  30000000   \n1      {'id': 10194, 'name': 'Toy Story Collection', ...  30000000   \n2      {'id': 10194, 'name': 'Toy Story Collection', ...  30000000   \n3      {'id': 10194, 'name': 'Toy Story Collection', ...  30000000   \n4      {'id': 10194, 'name': 'Toy Story Collection', ...  30000000   \n...                                                  ...       ...   \n75420                                                NaN         0   \n75421                                                NaN         0   \n75422                                                NaN         0   \n75423                                                NaN   6000000   \n75424                                                NaN         0   \n\n                                                genres_x  ...  \\\n0      [{'id': 16, 'name': 'Animation'}, {'id': 35, '...  ...   \n1      [{'id': 16, 'name': 'Animation'}, {'id': 35, '...  ...   \n2      [{'id': 16, 'name': 'Animation'}, {'id': 35, '...  ...   \n3      [{'id': 16, 'name': 'Animation'}, {'id': 35, '...  ...   \n4      [{'id': 16, 'name': 'Animation'}, {'id': 35, '...  ...   \n...                                                  ...  ...   \n75420                      [{'id': 18, 'name': 'Drama'}]  ...   \n75421                                                 []  ...   \n75422  [{'id': 10749, 'name': 'Romance'}, {'id': 80, ...  ...   \n75423  [{'id': 35, 'name': 'Comedy'}, {'id': 18, 'nam...  ...   \n75424  [{'id': 12, 'name': 'Adventure'}, {'id': 18, '...  ...   \n\n      production_company_Zespół Filmowy TOR  \\\n0                                         0   \n1                                         0   \n2                                         0   \n3                                         0   \n4                                         0   \n...                                     ...   \n75420                                     0   \n75421                                     0   \n75422                                     0   \n75423                                     0   \n75424                                     0   \n\n       production_company_Zeta Entertainment  \\\n0                                          0   \n1                                          0   \n2                                          0   \n3                                          0   \n4                                          0   \n...                                      ...   \n75420                                      0   \n75421                                      0   \n75422                                      0   \n75423                                      0   \n75424                                      0   \n\n      production_company_Zoetrope Studios  \\\n0                                       0   \n1                                       0   \n2                                       0   \n3                                       0   \n4                                       0   \n...                                   ...   \n75420                                   0   \n75421                                   0   \n75422                                   0   \n75423                                   0   \n75424                                   0   \n\n      production_company_Zucker Brothers Productions  \\\n0                                                  0   \n1                                                  0   \n2                                                  0   \n3                                                  0   \n4                                                  0   \n...                                              ...   \n75420                                              0   \n75421                                              0   \n75422                                              0   \n75423                                              0   \n75424                                              0   \n\n      production_company_Zupnik Cinema Group II  \\\n0                                             0   \n1                                             0   \n2                                             0   \n3                                             0   \n4                                             0   \n...                                         ...   \n75420                                         0   \n75421                                         0   \n75422                                         0   \n75423                                         0   \n75424                                         0   \n\n      production_company_Zweites Deutsches Fernsehen (ZDF)  \\\n0                                                      0     \n1                                                      0     \n2                                                      0     \n3                                                      0     \n4                                                      0     \n...                                                  ...     \n75420                                                  0     \n75421                                                  0     \n75422                                                  0     \n75423                                                  0     \n75424                                                  0     \n\n      production_company_cechi gori group  \\\n0                                       0   \n1                                       0   \n2                                       0   \n3                                       0   \n4                                       0   \n...                                   ...   \n75420                                   0   \n75421                                   0   \n75422                                   0   \n75423                                   0   \n75424                                   0   \n\n      production_company_imX Communications  \\\n0                                         0   \n1                                         0   \n2                                         0   \n3                                         0   \n4                                         0   \n...                                     ...   \n75420                                     0   \n75421                                     0   \n75422                                     0   \n75423                                     0   \n75424                                     0   \n\n      production_company_the Canadian Council  \\\n0                                           0   \n1                                           0   \n2                                           0   \n3                                           0   \n4                                           0   \n...                                       ...   \n75420                                       0   \n75421                                       0   \n75422                                       0   \n75423                                       0   \n75424                                       0   \n\n      production_company_west wind entertainment  \n0                                              0  \n1                                              0  \n2                                              0  \n3                                              0  \n4                                              0  \n...                                          ...  \n75420                                          0  \n75421                                          0  \n75422                                          0  \n75423                                          0  \n75424                                          0  \n\n[75425 rows x 1335 columns]",
      "text/html": "<div>\n<style scoped>\n    .dataframe tbody tr th:only-of-type {\n        vertical-align: middle;\n    }\n\n    .dataframe tbody tr th {\n        vertical-align: top;\n    }\n\n    .dataframe thead th {\n        text-align: right;\n    }\n</style>\n<table border=\"1\" class=\"dataframe\">\n  <thead>\n    <tr style=\"text-align: right;\">\n      <th></th>\n      <th>user_id</th>\n      <th>movie_id</th>\n      <th>rating</th>\n      <th>timestamp</th>\n      <th>id_in_movielens_x</th>\n      <th>id_in_metadata_x</th>\n      <th>adult_x</th>\n      <th>belongs_to_collection_x</th>\n      <th>budget_x</th>\n      <th>genres_x</th>\n      <th>...</th>\n      <th>production_company_Zespół Filmowy TOR</th>\n      <th>production_company_Zeta Entertainment</th>\n      <th>production_company_Zoetrope Studios</th>\n      <th>production_company_Zucker Brothers Productions</th>\n      <th>production_company_Zupnik Cinema Group II</th>\n      <th>production_company_Zweites Deutsches Fernsehen (ZDF)</th>\n      <th>production_company_cechi gori group</th>\n      <th>production_company_imX Communications</th>\n      <th>production_company_the Canadian Council</th>\n      <th>production_company_west wind entertainment</th>\n    </tr>\n  </thead>\n  <tbody>\n    <tr>\n      <th>0</th>\n      <td>1</td>\n      <td>1</td>\n      <td>5</td>\n      <td>874965758</td>\n      <td>1</td>\n      <td>862</td>\n      <td>False</td>\n      <td>{'id': 10194, 'name': 'Toy Story Collection', ...</td>\n      <td>30000000</td>\n      <td>[{'id': 16, 'name': 'Animation'}, {'id': 35, '...</td>\n      <td>...</td>\n      <td>0</td>\n      <td>0</td>\n      <td>0</td>\n      <td>0</td>\n      <td>0</td>\n      <td>0</td>\n      <td>0</td>\n      <td>0</td>\n      <td>0</td>\n      <td>0</td>\n    </tr>\n    <tr>\n      <th>1</th>\n      <td>2</td>\n      <td>1</td>\n      <td>4</td>\n      <td>888550871</td>\n      <td>1</td>\n      <td>862</td>\n      <td>False</td>\n      <td>{'id': 10194, 'name': 'Toy Story Collection', ...</td>\n      <td>30000000</td>\n      <td>[{'id': 16, 'name': 'Animation'}, {'id': 35, '...</td>\n      <td>...</td>\n      <td>0</td>\n      <td>0</td>\n      <td>0</td>\n      <td>0</td>\n      <td>0</td>\n      <td>0</td>\n      <td>0</td>\n      <td>0</td>\n      <td>0</td>\n      <td>0</td>\n    </tr>\n    <tr>\n      <th>2</th>\n      <td>6</td>\n      <td>1</td>\n      <td>4</td>\n      <td>883599478</td>\n      <td>1</td>\n      <td>862</td>\n      <td>False</td>\n      <td>{'id': 10194, 'name': 'Toy Story Collection', ...</td>\n      <td>30000000</td>\n      <td>[{'id': 16, 'name': 'Animation'}, {'id': 35, '...</td>\n      <td>...</td>\n      <td>0</td>\n      <td>0</td>\n      <td>0</td>\n      <td>0</td>\n      <td>0</td>\n      <td>0</td>\n      <td>0</td>\n      <td>0</td>\n      <td>0</td>\n      <td>0</td>\n    </tr>\n    <tr>\n      <th>3</th>\n      <td>13</td>\n      <td>1</td>\n      <td>3</td>\n      <td>882140487</td>\n      <td>1</td>\n      <td>862</td>\n      <td>False</td>\n      <td>{'id': 10194, 'name': 'Toy Story Collection', ...</td>\n      <td>30000000</td>\n      <td>[{'id': 16, 'name': 'Animation'}, {'id': 35, '...</td>\n      <td>...</td>\n      <td>0</td>\n      <td>0</td>\n      <td>0</td>\n      <td>0</td>\n      <td>0</td>\n      <td>0</td>\n      <td>0</td>\n      <td>0</td>\n      <td>0</td>\n      <td>0</td>\n    </tr>\n    <tr>\n      <th>4</th>\n      <td>16</td>\n      <td>1</td>\n      <td>5</td>\n      <td>877717833</td>\n      <td>1</td>\n      <td>862</td>\n      <td>False</td>\n      <td>{'id': 10194, 'name': 'Toy Story Collection', ...</td>\n      <td>30000000</td>\n      <td>[{'id': 16, 'name': 'Animation'}, {'id': 35, '...</td>\n      <td>...</td>\n      <td>0</td>\n      <td>0</td>\n      <td>0</td>\n      <td>0</td>\n      <td>0</td>\n      <td>0</td>\n      <td>0</td>\n      <td>0</td>\n      <td>0</td>\n      <td>0</td>\n    </tr>\n    <tr>\n      <th>...</th>\n      <td>...</td>\n      <td>...</td>\n      <td>...</td>\n      <td>...</td>\n      <td>...</td>\n      <td>...</td>\n      <td>...</td>\n      <td>...</td>\n      <td>...</td>\n      <td>...</td>\n      <td>...</td>\n      <td>...</td>\n      <td>...</td>\n      <td>...</td>\n      <td>...</td>\n      <td>...</td>\n      <td>...</td>\n      <td>...</td>\n      <td>...</td>\n      <td>...</td>\n      <td>...</td>\n    </tr>\n    <tr>\n      <th>75420</th>\n      <td>851</td>\n      <td>1676</td>\n      <td>2</td>\n      <td>875731674</td>\n      <td>1676</td>\n      <td>59232</td>\n      <td>False</td>\n      <td>NaN</td>\n      <td>0</td>\n      <td>[{'id': 18, 'name': 'Drama'}]</td>\n      <td>...</td>\n      <td>0</td>\n      <td>0</td>\n      <td>0</td>\n      <td>0</td>\n      <td>0</td>\n      <td>0</td>\n      <td>0</td>\n      <td>0</td>\n      <td>0</td>\n      <td>0</td>\n    </tr>\n    <tr>\n      <th>75421</th>\n      <td>854</td>\n      <td>1677</td>\n      <td>3</td>\n      <td>882814368</td>\n      <td>1677</td>\n      <td>124851</td>\n      <td>False</td>\n      <td>NaN</td>\n      <td>0</td>\n      <td>[]</td>\n      <td>...</td>\n      <td>0</td>\n      <td>0</td>\n      <td>0</td>\n      <td>0</td>\n      <td>0</td>\n      <td>0</td>\n      <td>0</td>\n      <td>0</td>\n      <td>0</td>\n      <td>0</td>\n    </tr>\n    <tr>\n      <th>75422</th>\n      <td>863</td>\n      <td>1679</td>\n      <td>3</td>\n      <td>889289491</td>\n      <td>1679</td>\n      <td>2923</td>\n      <td>False</td>\n      <td>NaN</td>\n      <td>0</td>\n      <td>[{'id': 10749, 'name': 'Romance'}, {'id': 80, ...</td>\n      <td>...</td>\n      <td>0</td>\n      <td>0</td>\n      <td>0</td>\n      <td>0</td>\n      <td>0</td>\n      <td>0</td>\n      <td>0</td>\n      <td>0</td>\n      <td>0</td>\n      <td>0</td>\n    </tr>\n    <tr>\n      <th>75423</th>\n      <td>863</td>\n      <td>1680</td>\n      <td>2</td>\n      <td>889289570</td>\n      <td>1680</td>\n      <td>10215</td>\n      <td>False</td>\n      <td>NaN</td>\n      <td>6000000</td>\n      <td>[{'id': 35, 'name': 'Comedy'}, {'id': 18, 'nam...</td>\n      <td>...</td>\n      <td>0</td>\n      <td>0</td>\n      <td>0</td>\n      <td>0</td>\n      <td>0</td>\n      <td>0</td>\n      <td>0</td>\n      <td>0</td>\n      <td>0</td>\n      <td>0</td>\n    </tr>\n    <tr>\n      <th>75424</th>\n      <td>916</td>\n      <td>1682</td>\n      <td>3</td>\n      <td>880845755</td>\n      <td>1682</td>\n      <td>88893</td>\n      <td>False</td>\n      <td>NaN</td>\n      <td>0</td>\n      <td>[{'id': 12, 'name': 'Adventure'}, {'id': 18, '...</td>\n      <td>...</td>\n      <td>0</td>\n      <td>0</td>\n      <td>0</td>\n      <td>0</td>\n      <td>0</td>\n      <td>0</td>\n      <td>0</td>\n      <td>0</td>\n      <td>0</td>\n      <td>0</td>\n    </tr>\n  </tbody>\n</table>\n<p>75425 rows × 1335 columns</p>\n</div>"
     },
     "execution_count": 108,
     "metadata": {},
     "output_type": "execute_result"
    }
   ],
   "source": [
    "train_data_df_2"
   ],
   "metadata": {
    "collapsed": false
   }
  },
  {
   "cell_type": "code",
   "execution_count": 109,
   "outputs": [
    {
     "data": {
      "text/plain": "movie_id  1     2     3     4     5     7     8     9     10    11    ...  \\\nuser_id                                                               ...   \n1          5.0   3.0   4.0   3.0   3.0   4.0   1.0   5.0   NaN   2.0  ...   \n2          4.0   NaN   NaN   NaN   NaN   NaN   NaN   NaN   2.0   NaN  ...   \n3          NaN   NaN   NaN   NaN   NaN   NaN   NaN   NaN   NaN   NaN  ...   \n4          NaN   NaN   NaN   NaN   NaN   NaN   NaN   NaN   NaN   4.0  ...   \n5          NaN   NaN   NaN   NaN   NaN   NaN   NaN   NaN   NaN   NaN  ...   \n...        ...   ...   ...   ...   ...   ...   ...   ...   ...   ...  ...   \n939        NaN   NaN   NaN   NaN   NaN   NaN   NaN   5.0   NaN   NaN  ...   \n940        NaN   NaN   NaN   2.0   NaN   4.0   5.0   3.0   NaN   NaN  ...   \n941        5.0   NaN   NaN   NaN   NaN   4.0   NaN   NaN   NaN   NaN  ...   \n942        NaN   NaN   NaN   NaN   NaN   NaN   NaN   NaN   NaN   NaN  ...   \n943        NaN   5.0   NaN   NaN   NaN   NaN   NaN   3.0   NaN   4.0  ...   \n\nmovie_id  1671  1672  1673  1674  1675  1676  1677  1679  1680  1682  \nuser_id                                                               \n1          NaN   NaN   NaN   NaN   NaN   NaN   NaN   NaN   NaN   NaN  \n2          NaN   NaN   NaN   NaN   NaN   NaN   NaN   NaN   NaN   NaN  \n3          NaN   NaN   NaN   NaN   NaN   NaN   NaN   NaN   NaN   NaN  \n4          NaN   NaN   NaN   NaN   NaN   NaN   NaN   NaN   NaN   NaN  \n5          NaN   NaN   NaN   NaN   NaN   NaN   NaN   NaN   NaN   NaN  \n...        ...   ...   ...   ...   ...   ...   ...   ...   ...   ...  \n939        NaN   NaN   NaN   NaN   NaN   NaN   NaN   NaN   NaN   NaN  \n940        NaN   NaN   NaN   NaN   NaN   NaN   NaN   NaN   NaN   NaN  \n941        NaN   NaN   NaN   NaN   NaN   NaN   NaN   NaN   NaN   NaN  \n942        NaN   NaN   NaN   NaN   NaN   NaN   NaN   NaN   NaN   NaN  \n943        NaN   NaN   NaN   NaN   NaN   NaN   NaN   NaN   NaN   NaN  \n\n[943 rows x 1469 columns]",
      "text/html": "<div>\n<style scoped>\n    .dataframe tbody tr th:only-of-type {\n        vertical-align: middle;\n    }\n\n    .dataframe tbody tr th {\n        vertical-align: top;\n    }\n\n    .dataframe thead th {\n        text-align: right;\n    }\n</style>\n<table border=\"1\" class=\"dataframe\">\n  <thead>\n    <tr style=\"text-align: right;\">\n      <th>movie_id</th>\n      <th>1</th>\n      <th>2</th>\n      <th>3</th>\n      <th>4</th>\n      <th>5</th>\n      <th>7</th>\n      <th>8</th>\n      <th>9</th>\n      <th>10</th>\n      <th>11</th>\n      <th>...</th>\n      <th>1671</th>\n      <th>1672</th>\n      <th>1673</th>\n      <th>1674</th>\n      <th>1675</th>\n      <th>1676</th>\n      <th>1677</th>\n      <th>1679</th>\n      <th>1680</th>\n      <th>1682</th>\n    </tr>\n    <tr>\n      <th>user_id</th>\n      <th></th>\n      <th></th>\n      <th></th>\n      <th></th>\n      <th></th>\n      <th></th>\n      <th></th>\n      <th></th>\n      <th></th>\n      <th></th>\n      <th></th>\n      <th></th>\n      <th></th>\n      <th></th>\n      <th></th>\n      <th></th>\n      <th></th>\n      <th></th>\n      <th></th>\n      <th></th>\n      <th></th>\n    </tr>\n  </thead>\n  <tbody>\n    <tr>\n      <th>1</th>\n      <td>5.0</td>\n      <td>3.0</td>\n      <td>4.0</td>\n      <td>3.0</td>\n      <td>3.0</td>\n      <td>4.0</td>\n      <td>1.0</td>\n      <td>5.0</td>\n      <td>NaN</td>\n      <td>2.0</td>\n      <td>...</td>\n      <td>NaN</td>\n      <td>NaN</td>\n      <td>NaN</td>\n      <td>NaN</td>\n      <td>NaN</td>\n      <td>NaN</td>\n      <td>NaN</td>\n      <td>NaN</td>\n      <td>NaN</td>\n      <td>NaN</td>\n    </tr>\n    <tr>\n      <th>2</th>\n      <td>4.0</td>\n      <td>NaN</td>\n      <td>NaN</td>\n      <td>NaN</td>\n      <td>NaN</td>\n      <td>NaN</td>\n      <td>NaN</td>\n      <td>NaN</td>\n      <td>2.0</td>\n      <td>NaN</td>\n      <td>...</td>\n      <td>NaN</td>\n      <td>NaN</td>\n      <td>NaN</td>\n      <td>NaN</td>\n      <td>NaN</td>\n      <td>NaN</td>\n      <td>NaN</td>\n      <td>NaN</td>\n      <td>NaN</td>\n      <td>NaN</td>\n    </tr>\n    <tr>\n      <th>3</th>\n      <td>NaN</td>\n      <td>NaN</td>\n      <td>NaN</td>\n      <td>NaN</td>\n      <td>NaN</td>\n      <td>NaN</td>\n      <td>NaN</td>\n      <td>NaN</td>\n      <td>NaN</td>\n      <td>NaN</td>\n      <td>...</td>\n      <td>NaN</td>\n      <td>NaN</td>\n      <td>NaN</td>\n      <td>NaN</td>\n      <td>NaN</td>\n      <td>NaN</td>\n      <td>NaN</td>\n      <td>NaN</td>\n      <td>NaN</td>\n      <td>NaN</td>\n    </tr>\n    <tr>\n      <th>4</th>\n      <td>NaN</td>\n      <td>NaN</td>\n      <td>NaN</td>\n      <td>NaN</td>\n      <td>NaN</td>\n      <td>NaN</td>\n      <td>NaN</td>\n      <td>NaN</td>\n      <td>NaN</td>\n      <td>4.0</td>\n      <td>...</td>\n      <td>NaN</td>\n      <td>NaN</td>\n      <td>NaN</td>\n      <td>NaN</td>\n      <td>NaN</td>\n      <td>NaN</td>\n      <td>NaN</td>\n      <td>NaN</td>\n      <td>NaN</td>\n      <td>NaN</td>\n    </tr>\n    <tr>\n      <th>5</th>\n      <td>NaN</td>\n      <td>NaN</td>\n      <td>NaN</td>\n      <td>NaN</td>\n      <td>NaN</td>\n      <td>NaN</td>\n      <td>NaN</td>\n      <td>NaN</td>\n      <td>NaN</td>\n      <td>NaN</td>\n      <td>...</td>\n      <td>NaN</td>\n      <td>NaN</td>\n      <td>NaN</td>\n      <td>NaN</td>\n      <td>NaN</td>\n      <td>NaN</td>\n      <td>NaN</td>\n      <td>NaN</td>\n      <td>NaN</td>\n      <td>NaN</td>\n    </tr>\n    <tr>\n      <th>...</th>\n      <td>...</td>\n      <td>...</td>\n      <td>...</td>\n      <td>...</td>\n      <td>...</td>\n      <td>...</td>\n      <td>...</td>\n      <td>...</td>\n      <td>...</td>\n      <td>...</td>\n      <td>...</td>\n      <td>...</td>\n      <td>...</td>\n      <td>...</td>\n      <td>...</td>\n      <td>...</td>\n      <td>...</td>\n      <td>...</td>\n      <td>...</td>\n      <td>...</td>\n      <td>...</td>\n    </tr>\n    <tr>\n      <th>939</th>\n      <td>NaN</td>\n      <td>NaN</td>\n      <td>NaN</td>\n      <td>NaN</td>\n      <td>NaN</td>\n      <td>NaN</td>\n      <td>NaN</td>\n      <td>5.0</td>\n      <td>NaN</td>\n      <td>NaN</td>\n      <td>...</td>\n      <td>NaN</td>\n      <td>NaN</td>\n      <td>NaN</td>\n      <td>NaN</td>\n      <td>NaN</td>\n      <td>NaN</td>\n      <td>NaN</td>\n      <td>NaN</td>\n      <td>NaN</td>\n      <td>NaN</td>\n    </tr>\n    <tr>\n      <th>940</th>\n      <td>NaN</td>\n      <td>NaN</td>\n      <td>NaN</td>\n      <td>2.0</td>\n      <td>NaN</td>\n      <td>4.0</td>\n      <td>5.0</td>\n      <td>3.0</td>\n      <td>NaN</td>\n      <td>NaN</td>\n      <td>...</td>\n      <td>NaN</td>\n      <td>NaN</td>\n      <td>NaN</td>\n      <td>NaN</td>\n      <td>NaN</td>\n      <td>NaN</td>\n      <td>NaN</td>\n      <td>NaN</td>\n      <td>NaN</td>\n      <td>NaN</td>\n    </tr>\n    <tr>\n      <th>941</th>\n      <td>5.0</td>\n      <td>NaN</td>\n      <td>NaN</td>\n      <td>NaN</td>\n      <td>NaN</td>\n      <td>4.0</td>\n      <td>NaN</td>\n      <td>NaN</td>\n      <td>NaN</td>\n      <td>NaN</td>\n      <td>...</td>\n      <td>NaN</td>\n      <td>NaN</td>\n      <td>NaN</td>\n      <td>NaN</td>\n      <td>NaN</td>\n      <td>NaN</td>\n      <td>NaN</td>\n      <td>NaN</td>\n      <td>NaN</td>\n      <td>NaN</td>\n    </tr>\n    <tr>\n      <th>942</th>\n      <td>NaN</td>\n      <td>NaN</td>\n      <td>NaN</td>\n      <td>NaN</td>\n      <td>NaN</td>\n      <td>NaN</td>\n      <td>NaN</td>\n      <td>NaN</td>\n      <td>NaN</td>\n      <td>NaN</td>\n      <td>...</td>\n      <td>NaN</td>\n      <td>NaN</td>\n      <td>NaN</td>\n      <td>NaN</td>\n      <td>NaN</td>\n      <td>NaN</td>\n      <td>NaN</td>\n      <td>NaN</td>\n      <td>NaN</td>\n      <td>NaN</td>\n    </tr>\n    <tr>\n      <th>943</th>\n      <td>NaN</td>\n      <td>5.0</td>\n      <td>NaN</td>\n      <td>NaN</td>\n      <td>NaN</td>\n      <td>NaN</td>\n      <td>NaN</td>\n      <td>3.0</td>\n      <td>NaN</td>\n      <td>4.0</td>\n      <td>...</td>\n      <td>NaN</td>\n      <td>NaN</td>\n      <td>NaN</td>\n      <td>NaN</td>\n      <td>NaN</td>\n      <td>NaN</td>\n      <td>NaN</td>\n      <td>NaN</td>\n      <td>NaN</td>\n      <td>NaN</td>\n    </tr>\n  </tbody>\n</table>\n<p>943 rows × 1469 columns</p>\n</div>"
     },
     "execution_count": 109,
     "metadata": {},
     "output_type": "execute_result"
    }
   ],
   "source": [
    "user_item_matrix = train_data_df_2.pivot_table(index='user_id', columns='movie_id', values='rating')\n",
    "user_item_matrix"
   ],
   "metadata": {
    "collapsed": false
   }
  },
  {
   "cell_type": "code",
   "execution_count": 110,
   "outputs": [
    {
     "data": {
      "text/plain": "movie_id  1     2     3     4     5     7     8     9     10    11    ...  \\\nuser_id                                                               ...   \n1          5.0   3.0   4.0   3.0   3.0   4.0   1.0   5.0   0.0   2.0  ...   \n2          4.0   0.0   0.0   0.0   0.0   0.0   0.0   0.0   2.0   0.0  ...   \n3          0.0   0.0   0.0   0.0   0.0   0.0   0.0   0.0   0.0   0.0  ...   \n4          0.0   0.0   0.0   0.0   0.0   0.0   0.0   0.0   0.0   4.0  ...   \n5          0.0   0.0   0.0   0.0   0.0   0.0   0.0   0.0   0.0   0.0  ...   \n...        ...   ...   ...   ...   ...   ...   ...   ...   ...   ...  ...   \n939        0.0   0.0   0.0   0.0   0.0   0.0   0.0   5.0   0.0   0.0  ...   \n940        0.0   0.0   0.0   2.0   0.0   4.0   5.0   3.0   0.0   0.0  ...   \n941        5.0   0.0   0.0   0.0   0.0   4.0   0.0   0.0   0.0   0.0  ...   \n942        0.0   0.0   0.0   0.0   0.0   0.0   0.0   0.0   0.0   0.0  ...   \n943        0.0   5.0   0.0   0.0   0.0   0.0   0.0   3.0   0.0   4.0  ...   \n\nmovie_id  1671  1672  1673  1674  1675  1676  1677  1679  1680  1682  \nuser_id                                                               \n1          0.0   0.0   0.0   0.0   0.0   0.0   0.0   0.0   0.0   0.0  \n2          0.0   0.0   0.0   0.0   0.0   0.0   0.0   0.0   0.0   0.0  \n3          0.0   0.0   0.0   0.0   0.0   0.0   0.0   0.0   0.0   0.0  \n4          0.0   0.0   0.0   0.0   0.0   0.0   0.0   0.0   0.0   0.0  \n5          0.0   0.0   0.0   0.0   0.0   0.0   0.0   0.0   0.0   0.0  \n...        ...   ...   ...   ...   ...   ...   ...   ...   ...   ...  \n939        0.0   0.0   0.0   0.0   0.0   0.0   0.0   0.0   0.0   0.0  \n940        0.0   0.0   0.0   0.0   0.0   0.0   0.0   0.0   0.0   0.0  \n941        0.0   0.0   0.0   0.0   0.0   0.0   0.0   0.0   0.0   0.0  \n942        0.0   0.0   0.0   0.0   0.0   0.0   0.0   0.0   0.0   0.0  \n943        0.0   0.0   0.0   0.0   0.0   0.0   0.0   0.0   0.0   0.0  \n\n[943 rows x 1469 columns]",
      "text/html": "<div>\n<style scoped>\n    .dataframe tbody tr th:only-of-type {\n        vertical-align: middle;\n    }\n\n    .dataframe tbody tr th {\n        vertical-align: top;\n    }\n\n    .dataframe thead th {\n        text-align: right;\n    }\n</style>\n<table border=\"1\" class=\"dataframe\">\n  <thead>\n    <tr style=\"text-align: right;\">\n      <th>movie_id</th>\n      <th>1</th>\n      <th>2</th>\n      <th>3</th>\n      <th>4</th>\n      <th>5</th>\n      <th>7</th>\n      <th>8</th>\n      <th>9</th>\n      <th>10</th>\n      <th>11</th>\n      <th>...</th>\n      <th>1671</th>\n      <th>1672</th>\n      <th>1673</th>\n      <th>1674</th>\n      <th>1675</th>\n      <th>1676</th>\n      <th>1677</th>\n      <th>1679</th>\n      <th>1680</th>\n      <th>1682</th>\n    </tr>\n    <tr>\n      <th>user_id</th>\n      <th></th>\n      <th></th>\n      <th></th>\n      <th></th>\n      <th></th>\n      <th></th>\n      <th></th>\n      <th></th>\n      <th></th>\n      <th></th>\n      <th></th>\n      <th></th>\n      <th></th>\n      <th></th>\n      <th></th>\n      <th></th>\n      <th></th>\n      <th></th>\n      <th></th>\n      <th></th>\n      <th></th>\n    </tr>\n  </thead>\n  <tbody>\n    <tr>\n      <th>1</th>\n      <td>5.0</td>\n      <td>3.0</td>\n      <td>4.0</td>\n      <td>3.0</td>\n      <td>3.0</td>\n      <td>4.0</td>\n      <td>1.0</td>\n      <td>5.0</td>\n      <td>0.0</td>\n      <td>2.0</td>\n      <td>...</td>\n      <td>0.0</td>\n      <td>0.0</td>\n      <td>0.0</td>\n      <td>0.0</td>\n      <td>0.0</td>\n      <td>0.0</td>\n      <td>0.0</td>\n      <td>0.0</td>\n      <td>0.0</td>\n      <td>0.0</td>\n    </tr>\n    <tr>\n      <th>2</th>\n      <td>4.0</td>\n      <td>0.0</td>\n      <td>0.0</td>\n      <td>0.0</td>\n      <td>0.0</td>\n      <td>0.0</td>\n      <td>0.0</td>\n      <td>0.0</td>\n      <td>2.0</td>\n      <td>0.0</td>\n      <td>...</td>\n      <td>0.0</td>\n      <td>0.0</td>\n      <td>0.0</td>\n      <td>0.0</td>\n      <td>0.0</td>\n      <td>0.0</td>\n      <td>0.0</td>\n      <td>0.0</td>\n      <td>0.0</td>\n      <td>0.0</td>\n    </tr>\n    <tr>\n      <th>3</th>\n      <td>0.0</td>\n      <td>0.0</td>\n      <td>0.0</td>\n      <td>0.0</td>\n      <td>0.0</td>\n      <td>0.0</td>\n      <td>0.0</td>\n      <td>0.0</td>\n      <td>0.0</td>\n      <td>0.0</td>\n      <td>...</td>\n      <td>0.0</td>\n      <td>0.0</td>\n      <td>0.0</td>\n      <td>0.0</td>\n      <td>0.0</td>\n      <td>0.0</td>\n      <td>0.0</td>\n      <td>0.0</td>\n      <td>0.0</td>\n      <td>0.0</td>\n    </tr>\n    <tr>\n      <th>4</th>\n      <td>0.0</td>\n      <td>0.0</td>\n      <td>0.0</td>\n      <td>0.0</td>\n      <td>0.0</td>\n      <td>0.0</td>\n      <td>0.0</td>\n      <td>0.0</td>\n      <td>0.0</td>\n      <td>4.0</td>\n      <td>...</td>\n      <td>0.0</td>\n      <td>0.0</td>\n      <td>0.0</td>\n      <td>0.0</td>\n      <td>0.0</td>\n      <td>0.0</td>\n      <td>0.0</td>\n      <td>0.0</td>\n      <td>0.0</td>\n      <td>0.0</td>\n    </tr>\n    <tr>\n      <th>5</th>\n      <td>0.0</td>\n      <td>0.0</td>\n      <td>0.0</td>\n      <td>0.0</td>\n      <td>0.0</td>\n      <td>0.0</td>\n      <td>0.0</td>\n      <td>0.0</td>\n      <td>0.0</td>\n      <td>0.0</td>\n      <td>...</td>\n      <td>0.0</td>\n      <td>0.0</td>\n      <td>0.0</td>\n      <td>0.0</td>\n      <td>0.0</td>\n      <td>0.0</td>\n      <td>0.0</td>\n      <td>0.0</td>\n      <td>0.0</td>\n      <td>0.0</td>\n    </tr>\n    <tr>\n      <th>...</th>\n      <td>...</td>\n      <td>...</td>\n      <td>...</td>\n      <td>...</td>\n      <td>...</td>\n      <td>...</td>\n      <td>...</td>\n      <td>...</td>\n      <td>...</td>\n      <td>...</td>\n      <td>...</td>\n      <td>...</td>\n      <td>...</td>\n      <td>...</td>\n      <td>...</td>\n      <td>...</td>\n      <td>...</td>\n      <td>...</td>\n      <td>...</td>\n      <td>...</td>\n      <td>...</td>\n    </tr>\n    <tr>\n      <th>939</th>\n      <td>0.0</td>\n      <td>0.0</td>\n      <td>0.0</td>\n      <td>0.0</td>\n      <td>0.0</td>\n      <td>0.0</td>\n      <td>0.0</td>\n      <td>5.0</td>\n      <td>0.0</td>\n      <td>0.0</td>\n      <td>...</td>\n      <td>0.0</td>\n      <td>0.0</td>\n      <td>0.0</td>\n      <td>0.0</td>\n      <td>0.0</td>\n      <td>0.0</td>\n      <td>0.0</td>\n      <td>0.0</td>\n      <td>0.0</td>\n      <td>0.0</td>\n    </tr>\n    <tr>\n      <th>940</th>\n      <td>0.0</td>\n      <td>0.0</td>\n      <td>0.0</td>\n      <td>2.0</td>\n      <td>0.0</td>\n      <td>4.0</td>\n      <td>5.0</td>\n      <td>3.0</td>\n      <td>0.0</td>\n      <td>0.0</td>\n      <td>...</td>\n      <td>0.0</td>\n      <td>0.0</td>\n      <td>0.0</td>\n      <td>0.0</td>\n      <td>0.0</td>\n      <td>0.0</td>\n      <td>0.0</td>\n      <td>0.0</td>\n      <td>0.0</td>\n      <td>0.0</td>\n    </tr>\n    <tr>\n      <th>941</th>\n      <td>5.0</td>\n      <td>0.0</td>\n      <td>0.0</td>\n      <td>0.0</td>\n      <td>0.0</td>\n      <td>4.0</td>\n      <td>0.0</td>\n      <td>0.0</td>\n      <td>0.0</td>\n      <td>0.0</td>\n      <td>...</td>\n      <td>0.0</td>\n      <td>0.0</td>\n      <td>0.0</td>\n      <td>0.0</td>\n      <td>0.0</td>\n      <td>0.0</td>\n      <td>0.0</td>\n      <td>0.0</td>\n      <td>0.0</td>\n      <td>0.0</td>\n    </tr>\n    <tr>\n      <th>942</th>\n      <td>0.0</td>\n      <td>0.0</td>\n      <td>0.0</td>\n      <td>0.0</td>\n      <td>0.0</td>\n      <td>0.0</td>\n      <td>0.0</td>\n      <td>0.0</td>\n      <td>0.0</td>\n      <td>0.0</td>\n      <td>...</td>\n      <td>0.0</td>\n      <td>0.0</td>\n      <td>0.0</td>\n      <td>0.0</td>\n      <td>0.0</td>\n      <td>0.0</td>\n      <td>0.0</td>\n      <td>0.0</td>\n      <td>0.0</td>\n      <td>0.0</td>\n    </tr>\n    <tr>\n      <th>943</th>\n      <td>0.0</td>\n      <td>5.0</td>\n      <td>0.0</td>\n      <td>0.0</td>\n      <td>0.0</td>\n      <td>0.0</td>\n      <td>0.0</td>\n      <td>3.0</td>\n      <td>0.0</td>\n      <td>4.0</td>\n      <td>...</td>\n      <td>0.0</td>\n      <td>0.0</td>\n      <td>0.0</td>\n      <td>0.0</td>\n      <td>0.0</td>\n      <td>0.0</td>\n      <td>0.0</td>\n      <td>0.0</td>\n      <td>0.0</td>\n      <td>0.0</td>\n    </tr>\n  </tbody>\n</table>\n<p>943 rows × 1469 columns</p>\n</div>"
     },
     "execution_count": 110,
     "metadata": {},
     "output_type": "execute_result"
    }
   ],
   "source": [
    "new_user_item_matrix = user_item_matrix.fillna(0)\n",
    "new_user_item_matrix"
   ],
   "metadata": {
    "collapsed": false
   }
  },
  {
   "cell_type": "code",
   "execution_count": 111,
   "outputs": [],
   "source": [
    "# create a matrix to hold the user vectors\n",
    "user_matrix = np.zeros((len(train_data_df_2['user_id'].unique()), tfidf_matrix.shape[1]))\n",
    "\n",
    "# iterate over each user\n",
    "for i, user_id in enumerate(train_data_df_2['user_id'].unique()):\n",
    "\n",
    "    # get the movie ratings for the user\n",
    "    user_ratings = train_data_df_2[train_data_df_2['user_id'] == user_id][['movie_id', 'rating']]\n",
    "\n",
    "    # calculate the weighted average of the TF-IDF vectors of the movies\n",
    "    user_vector = np.zeros(tfidf_matrix.shape[1])\n",
    "    total_weight = 0\n",
    "    for index, row in user_ratings.iterrows():\n",
    "        movie_id = row['movie_id']\n",
    "        rating = row['rating']\n",
    "        movie_index = movie_data[movie_data['id_in_movielens'] == movie_id].index[0]\n",
    "        movie_vector = tfidf_matrix[movie_index].toarray()[0]\n",
    "        user_vector += rating * movie_vector\n",
    "        total_weight += rating\n",
    "\n",
    "    # normalize the user vector by dividing by the total weight\n",
    "    user_vector /= total_weight\n",
    "\n",
    "    # add the user vector to the user matrix\n",
    "    user_matrix[i] = user_vector"
   ],
   "metadata": {
    "collapsed": false
   }
  },
  {
   "cell_type": "code",
   "execution_count": 112,
   "outputs": [
    {
     "data": {
      "text/plain": "array([[0.00161356, 0.        , 0.        , ..., 0.        , 0.        ,\n        0.        ],\n       [0.        , 0.        , 0.00864147, ..., 0.        , 0.        ,\n        0.        ],\n       [0.00135768, 0.        , 0.        , ..., 0.        , 0.        ,\n        0.        ],\n       ...,\n       [0.        , 0.        , 0.00598293, ..., 0.        , 0.        ,\n        0.        ],\n       [0.        , 0.        , 0.        , ..., 0.        , 0.        ,\n        0.        ],\n       [0.        , 0.        , 0.        , ..., 0.        , 0.        ,\n        0.        ]])"
     },
     "execution_count": 112,
     "metadata": {},
     "output_type": "execute_result"
    }
   ],
   "source": [
    "user_matrix"
   ],
   "metadata": {
    "collapsed": false
   }
  },
  {
   "cell_type": "code",
   "execution_count": 113,
   "outputs": [],
   "source": [
    "# ##noua incercare 1\n",
    "# # create a user-item matrix\n",
    "# user_item_matrix = train_data_df_2.pivot_table(index='user_id', columns='movie_id', values='rating', fill_value=0)\n",
    "#\n",
    "# # calculate the user representations using TF-IDF weighted average\n",
    "# user_matrix = np.zeros((len(user_item_matrix.index), tfidf_matrix.shape[1]))\n",
    "# for i, user_id in enumerate(user_item_matrix.index):\n",
    "#     user_ratings = user_item_matrix.loc[user_id]\n",
    "#     user_vector = np.zeros(tfidf_matrix.shape[1])\n",
    "#     total_weight = 0\n",
    "#     for movie_id, rating in user_ratings.iteritems():\n",
    "#         movie_index = movie_data[movie_data['id_in_movielens'] == movie_id].index[0]\n",
    "#         movie_vector = tfidf_matrix[movie_index].toarray()[0]\n",
    "#         user_vector += rating * movie_vector\n",
    "#         total_weight += rating\n",
    "#     user_vector /= total_weight\n",
    "#     user_matrix[i] = user_vector\n",
    "# user_matrix"
   ],
   "metadata": {
    "collapsed": false
   }
  },
  {
   "cell_type": "code",
   "execution_count": 114,
   "outputs": [],
   "source": [
    "# ##noua incercare 2\n",
    "# create a user-item matrix where each row corresponds to a user and each column corresponds to a movie/item\n",
    "user_item_matrix = train_data_df_2.pivot_table(index='user_id', columns='movie_id', values='rating', fill_value=0)\n",
    "\n",
    "# create a matrix to hold the user vectors\n",
    "user_matrix = np.zeros((len(user_item_matrix.index), tfidf_matrix.shape[1]))\n",
    "\n",
    "# iterate over each user\n",
    "for i, user_id in enumerate(user_item_matrix.index):\n",
    "\n",
    "    # get the movie ratings for the user\n",
    "    user_ratings = user_item_matrix.loc[user_id].dropna()\n",
    "\n",
    "    # calculate the weighted average of the TF-IDF vectors of the movies\n",
    "    user_vector = np.zeros(tfidf_matrix.shape[1])\n",
    "    total_weight = 0\n",
    "    for movie_id, rating in user_ratings.iteritems():\n",
    "        movie_index = movie_data[movie_data['id_in_movielens'] == movie_id].index[0]\n",
    "        movie_vector = tfidf_matrix[movie_index].toarray()[0]\n",
    "        user_vector += rating * movie_vector\n",
    "        total_weight += rating\n",
    "\n",
    "    # normalize the user vector by dividing by the total weight\n",
    "    user_vector /= total_weight\n",
    "\n",
    "    # add the user vector to the user matrix\n",
    "    user_matrix[i] = user_vector\n"
   ],
   "metadata": {
    "collapsed": false
   }
  },
  {
   "cell_type": "code",
   "execution_count": 115,
   "outputs": [
    {
     "data": {
      "text/plain": "array([[0.00161356, 0.        , 0.        , ..., 0.        , 0.        ,\n        0.        ],\n       [0.        , 0.        , 0.00864147, ..., 0.        , 0.        ,\n        0.        ],\n       [0.        , 0.        , 0.        , ..., 0.        , 0.        ,\n        0.        ],\n       ...,\n       [0.        , 0.        , 0.        , ..., 0.        , 0.        ,\n        0.        ],\n       [0.00192852, 0.        , 0.00445166, ..., 0.        , 0.        ,\n        0.        ],\n       [0.00251824, 0.        , 0.00389374, ..., 0.        , 0.        ,\n        0.        ]])"
     },
     "execution_count": 115,
     "metadata": {},
     "output_type": "execute_result"
    }
   ],
   "source": [
    "user_matrix"
   ],
   "metadata": {
    "collapsed": false
   }
  },
  {
   "cell_type": "markdown",
   "source": [
    "- Calculate the user-item rating for an item by using a similarity metric between the user and the item. A similarity metric such as cosine distance or Euclidean distance can be used."
   ],
   "metadata": {
    "collapsed": false
   }
  },
  {
   "cell_type": "code",
   "execution_count": 116,
   "outputs": [
    {
     "name": "stdout",
     "output_type": "stream",
     "text": [
      "Predicted rating for movie 123: 3.22\n"
     ]
    }
   ],
   "source": [
    "# Select a specific movie\n",
    "movie_id = 123\n",
    "\n",
    "# Calculate cosine similarity between the selected movie and all other movies\n",
    "cos_sim = cosine_similarity(user_matrix, tfidf_matrix)\n",
    "movie_similarities = cos_sim[:, movie_id]\n",
    "# print(movie_users)\n",
    "# Find the users who have rated the selected movie\n",
    "user_item_matrix = user_item_matrix.replace(0, np.nan)\n",
    "\n",
    "movie_users = user_item_matrix[movie_id].dropna().index\n",
    "# print(movie_users)\n",
    "# Calculate the weighted average of their ratings\n",
    "weighted_ratings = []\n",
    "similarity_scores = []\n",
    "for user_id in movie_users:\n",
    "    user_similarity = movie_similarities[user_id-1]\n",
    "    user_rating = user_item_matrix.loc[user_id, movie_id]\n",
    "    weighted_ratings.append(user_similarity * user_rating)\n",
    "    similarity_scores.append(user_similarity)\n",
    "\n",
    "predicted_rating = np.sum(weighted_ratings) / np.sum(similarity_scores)\n",
    "print(f\"Predicted rating for movie {movie_id}: {predicted_rating:.2f}\")"
   ],
   "metadata": {
    "collapsed": false
   }
  },
  {
   "cell_type": "markdown",
   "source": [
    "- Report Precision@5, MAP@5, MRR@5, hit rate and coverage using ratings ≥ 3 in the test set. Compare the results with the models from previous\n",
    "weeks."
   ],
   "metadata": {
    "collapsed": false
   }
  },
  {
   "cell_type": "markdown",
   "source": [
    "Precision@5"
   ],
   "metadata": {
    "collapsed": false
   }
  },
  {
   "cell_type": "code",
   "execution_count": 117,
   "outputs": [
    {
     "data": {
      "text/plain": "       user_id  movie_id  rating  timestamp  id_in_movielens_x  \\\n0            1        10       3  875693118                 10   \n1            7        10       4  891352864                 10   \n2           49        10       3  888066086                 10   \n3           59        10       4  888203234                 10   \n4          108        10       5  879879834                 10   \n...        ...       ...     ...        ...                ...   \n18840      411      1470       3  892845746               1470   \n18841      436      1522       2  887771123               1522   \n18842      437      1121       5  880140466               1121   \n18843      440      1038       5  891550404               1038   \n18844      450      1269       4  882812635               1269   \n\n       id_in_metadata_x adult_x belongs_to_collection_x  budget_x  \\\n0                 31174   False                     NaN         0   \n1                 31174   False                     NaN         0   \n2                 31174   False                     NaN         0   \n3                 31174   False                     NaN         0   \n4                 31174   False                     NaN         0   \n...                 ...     ...                     ...       ...   \n18840             43475   False                     NaN         0   \n18841             41590   False                     NaN         0   \n18842              5967   False                     NaN         0   \n18843             10871   False                     NaN  37000000   \n18844             18299   False                     NaN         0   \n\n                                                genres_x  ...  \\\n0      [{'id': 18, 'name': 'Drama'}, {'id': 10752, 'n...  ...   \n1      [{'id': 18, 'name': 'Drama'}, {'id': 10752, 'n...  ...   \n2      [{'id': 18, 'name': 'Drama'}, {'id': 10752, 'n...  ...   \n3      [{'id': 18, 'name': 'Drama'}, {'id': 10752, 'n...  ...   \n4      [{'id': 18, 'name': 'Drama'}, {'id': 10752, 'n...  ...   \n...                                                  ...  ...   \n18840  [{'id': 14, 'name': 'Fantasy'}, {'id': 16, 'na...  ...   \n18841  [{'id': 18, 'name': 'Drama'}, {'id': 28, 'name...  ...   \n18842  [{'id': 18, 'name': 'Drama'}, {'id': 10749, 'n...  ...   \n18843  [{'id': 28, 'name': 'Action'}, {'id': 12, 'nam...  ...   \n18844  [{'id': 35, 'name': 'Comedy'}, {'id': 18, 'nam...  ...   \n\n      production_company_Zespół Filmowy TOR  \\\n0                                         0   \n1                                         0   \n2                                         0   \n3                                         0   \n4                                         0   \n...                                     ...   \n18840                                     0   \n18841                                     0   \n18842                                     0   \n18843                                     0   \n18844                                     0   \n\n       production_company_Zeta Entertainment  \\\n0                                          0   \n1                                          0   \n2                                          0   \n3                                          0   \n4                                          0   \n...                                      ...   \n18840                                      0   \n18841                                      0   \n18842                                      0   \n18843                                      0   \n18844                                      0   \n\n      production_company_Zoetrope Studios  \\\n0                                       0   \n1                                       0   \n2                                       0   \n3                                       0   \n4                                       0   \n...                                   ...   \n18840                                   0   \n18841                                   0   \n18842                                   0   \n18843                                   0   \n18844                                   0   \n\n      production_company_Zucker Brothers Productions  \\\n0                                                  0   \n1                                                  0   \n2                                                  0   \n3                                                  0   \n4                                                  0   \n...                                              ...   \n18840                                              0   \n18841                                              0   \n18842                                              0   \n18843                                              0   \n18844                                              0   \n\n      production_company_Zupnik Cinema Group II  \\\n0                                             0   \n1                                             0   \n2                                             0   \n3                                             0   \n4                                             0   \n...                                         ...   \n18840                                         0   \n18841                                         0   \n18842                                         0   \n18843                                         0   \n18844                                         0   \n\n      production_company_Zweites Deutsches Fernsehen (ZDF)  \\\n0                                                      0     \n1                                                      0     \n2                                                      0     \n3                                                      0     \n4                                                      0     \n...                                                  ...     \n18840                                                  0     \n18841                                                  0     \n18842                                                  0     \n18843                                                  0     \n18844                                                  0     \n\n      production_company_cechi gori group  \\\n0                                       0   \n1                                       0   \n2                                       0   \n3                                       0   \n4                                       0   \n...                                   ...   \n18840                                   0   \n18841                                   0   \n18842                                   0   \n18843                                   0   \n18844                                   0   \n\n      production_company_imX Communications  \\\n0                                         0   \n1                                         0   \n2                                         0   \n3                                         0   \n4                                         0   \n...                                     ...   \n18840                                     0   \n18841                                     0   \n18842                                     0   \n18843                                     0   \n18844                                     0   \n\n      production_company_the Canadian Council  \\\n0                                           0   \n1                                           0   \n2                                           0   \n3                                           0   \n4                                           0   \n...                                       ...   \n18840                                       0   \n18841                                       0   \n18842                                       0   \n18843                                       0   \n18844                                       0   \n\n      production_company_west wind entertainment  \n0                                              0  \n1                                              0  \n2                                              0  \n3                                              0  \n4                                              0  \n...                                          ...  \n18840                                          0  \n18841                                          0  \n18842                                          0  \n18843                                          0  \n18844                                          0  \n\n[18845 rows x 1336 columns]",
      "text/html": "<div>\n<style scoped>\n    .dataframe tbody tr th:only-of-type {\n        vertical-align: middle;\n    }\n\n    .dataframe tbody tr th {\n        vertical-align: top;\n    }\n\n    .dataframe thead th {\n        text-align: right;\n    }\n</style>\n<table border=\"1\" class=\"dataframe\">\n  <thead>\n    <tr style=\"text-align: right;\">\n      <th></th>\n      <th>user_id</th>\n      <th>movie_id</th>\n      <th>rating</th>\n      <th>timestamp</th>\n      <th>id_in_movielens_x</th>\n      <th>id_in_metadata_x</th>\n      <th>adult_x</th>\n      <th>belongs_to_collection_x</th>\n      <th>budget_x</th>\n      <th>genres_x</th>\n      <th>...</th>\n      <th>production_company_Zespół Filmowy TOR</th>\n      <th>production_company_Zeta Entertainment</th>\n      <th>production_company_Zoetrope Studios</th>\n      <th>production_company_Zucker Brothers Productions</th>\n      <th>production_company_Zupnik Cinema Group II</th>\n      <th>production_company_Zweites Deutsches Fernsehen (ZDF)</th>\n      <th>production_company_cechi gori group</th>\n      <th>production_company_imX Communications</th>\n      <th>production_company_the Canadian Council</th>\n      <th>production_company_west wind entertainment</th>\n    </tr>\n  </thead>\n  <tbody>\n    <tr>\n      <th>0</th>\n      <td>1</td>\n      <td>10</td>\n      <td>3</td>\n      <td>875693118</td>\n      <td>10</td>\n      <td>31174</td>\n      <td>False</td>\n      <td>NaN</td>\n      <td>0</td>\n      <td>[{'id': 18, 'name': 'Drama'}, {'id': 10752, 'n...</td>\n      <td>...</td>\n      <td>0</td>\n      <td>0</td>\n      <td>0</td>\n      <td>0</td>\n      <td>0</td>\n      <td>0</td>\n      <td>0</td>\n      <td>0</td>\n      <td>0</td>\n      <td>0</td>\n    </tr>\n    <tr>\n      <th>1</th>\n      <td>7</td>\n      <td>10</td>\n      <td>4</td>\n      <td>891352864</td>\n      <td>10</td>\n      <td>31174</td>\n      <td>False</td>\n      <td>NaN</td>\n      <td>0</td>\n      <td>[{'id': 18, 'name': 'Drama'}, {'id': 10752, 'n...</td>\n      <td>...</td>\n      <td>0</td>\n      <td>0</td>\n      <td>0</td>\n      <td>0</td>\n      <td>0</td>\n      <td>0</td>\n      <td>0</td>\n      <td>0</td>\n      <td>0</td>\n      <td>0</td>\n    </tr>\n    <tr>\n      <th>2</th>\n      <td>49</td>\n      <td>10</td>\n      <td>3</td>\n      <td>888066086</td>\n      <td>10</td>\n      <td>31174</td>\n      <td>False</td>\n      <td>NaN</td>\n      <td>0</td>\n      <td>[{'id': 18, 'name': 'Drama'}, {'id': 10752, 'n...</td>\n      <td>...</td>\n      <td>0</td>\n      <td>0</td>\n      <td>0</td>\n      <td>0</td>\n      <td>0</td>\n      <td>0</td>\n      <td>0</td>\n      <td>0</td>\n      <td>0</td>\n      <td>0</td>\n    </tr>\n    <tr>\n      <th>3</th>\n      <td>59</td>\n      <td>10</td>\n      <td>4</td>\n      <td>888203234</td>\n      <td>10</td>\n      <td>31174</td>\n      <td>False</td>\n      <td>NaN</td>\n      <td>0</td>\n      <td>[{'id': 18, 'name': 'Drama'}, {'id': 10752, 'n...</td>\n      <td>...</td>\n      <td>0</td>\n      <td>0</td>\n      <td>0</td>\n      <td>0</td>\n      <td>0</td>\n      <td>0</td>\n      <td>0</td>\n      <td>0</td>\n      <td>0</td>\n      <td>0</td>\n    </tr>\n    <tr>\n      <th>4</th>\n      <td>108</td>\n      <td>10</td>\n      <td>5</td>\n      <td>879879834</td>\n      <td>10</td>\n      <td>31174</td>\n      <td>False</td>\n      <td>NaN</td>\n      <td>0</td>\n      <td>[{'id': 18, 'name': 'Drama'}, {'id': 10752, 'n...</td>\n      <td>...</td>\n      <td>0</td>\n      <td>0</td>\n      <td>0</td>\n      <td>0</td>\n      <td>0</td>\n      <td>0</td>\n      <td>0</td>\n      <td>0</td>\n      <td>0</td>\n      <td>0</td>\n    </tr>\n    <tr>\n      <th>...</th>\n      <td>...</td>\n      <td>...</td>\n      <td>...</td>\n      <td>...</td>\n      <td>...</td>\n      <td>...</td>\n      <td>...</td>\n      <td>...</td>\n      <td>...</td>\n      <td>...</td>\n      <td>...</td>\n      <td>...</td>\n      <td>...</td>\n      <td>...</td>\n      <td>...</td>\n      <td>...</td>\n      <td>...</td>\n      <td>...</td>\n      <td>...</td>\n      <td>...</td>\n      <td>...</td>\n    </tr>\n    <tr>\n      <th>18840</th>\n      <td>411</td>\n      <td>1470</td>\n      <td>3</td>\n      <td>892845746</td>\n      <td>1470</td>\n      <td>43475</td>\n      <td>False</td>\n      <td>NaN</td>\n      <td>0</td>\n      <td>[{'id': 14, 'name': 'Fantasy'}, {'id': 16, 'na...</td>\n      <td>...</td>\n      <td>0</td>\n      <td>0</td>\n      <td>0</td>\n      <td>0</td>\n      <td>0</td>\n      <td>0</td>\n      <td>0</td>\n      <td>0</td>\n      <td>0</td>\n      <td>0</td>\n    </tr>\n    <tr>\n      <th>18841</th>\n      <td>436</td>\n      <td>1522</td>\n      <td>2</td>\n      <td>887771123</td>\n      <td>1522</td>\n      <td>41590</td>\n      <td>False</td>\n      <td>NaN</td>\n      <td>0</td>\n      <td>[{'id': 18, 'name': 'Drama'}, {'id': 28, 'name...</td>\n      <td>...</td>\n      <td>0</td>\n      <td>0</td>\n      <td>0</td>\n      <td>0</td>\n      <td>0</td>\n      <td>0</td>\n      <td>0</td>\n      <td>0</td>\n      <td>0</td>\n      <td>0</td>\n    </tr>\n    <tr>\n      <th>18842</th>\n      <td>437</td>\n      <td>1121</td>\n      <td>5</td>\n      <td>880140466</td>\n      <td>1121</td>\n      <td>5967</td>\n      <td>False</td>\n      <td>NaN</td>\n      <td>0</td>\n      <td>[{'id': 18, 'name': 'Drama'}, {'id': 10749, 'n...</td>\n      <td>...</td>\n      <td>0</td>\n      <td>0</td>\n      <td>0</td>\n      <td>0</td>\n      <td>0</td>\n      <td>0</td>\n      <td>0</td>\n      <td>0</td>\n      <td>0</td>\n      <td>0</td>\n    </tr>\n    <tr>\n      <th>18843</th>\n      <td>440</td>\n      <td>1038</td>\n      <td>5</td>\n      <td>891550404</td>\n      <td>1038</td>\n      <td>10871</td>\n      <td>False</td>\n      <td>NaN</td>\n      <td>37000000</td>\n      <td>[{'id': 28, 'name': 'Action'}, {'id': 12, 'nam...</td>\n      <td>...</td>\n      <td>0</td>\n      <td>0</td>\n      <td>0</td>\n      <td>0</td>\n      <td>0</td>\n      <td>0</td>\n      <td>0</td>\n      <td>0</td>\n      <td>0</td>\n      <td>0</td>\n    </tr>\n    <tr>\n      <th>18844</th>\n      <td>450</td>\n      <td>1269</td>\n      <td>4</td>\n      <td>882812635</td>\n      <td>1269</td>\n      <td>18299</td>\n      <td>False</td>\n      <td>NaN</td>\n      <td>0</td>\n      <td>[{'id': 35, 'name': 'Comedy'}, {'id': 18, 'nam...</td>\n      <td>...</td>\n      <td>0</td>\n      <td>0</td>\n      <td>0</td>\n      <td>0</td>\n      <td>0</td>\n      <td>0</td>\n      <td>0</td>\n      <td>0</td>\n      <td>0</td>\n      <td>0</td>\n    </tr>\n  </tbody>\n</table>\n<p>18845 rows × 1336 columns</p>\n</div>"
     },
     "execution_count": 117,
     "metadata": {},
     "output_type": "execute_result"
    }
   ],
   "source": [
    "test_data_df_2 = pd.merge(test_data_df, movie_data, left_on=\"movie_id\", right_on=\"id_in_movielens\")\n",
    "test_data_df_2"
   ],
   "metadata": {
    "collapsed": false
   }
  },
  {
   "cell_type": "code",
   "execution_count": 118,
   "outputs": [],
   "source": [
    "# Filter out movies with ratings < 3 in the test set\n",
    "test_data_df_3= test_data_df_2[test_data_df_2['rating'] >= 3]"
   ],
   "metadata": {
    "collapsed": false
   }
  },
  {
   "cell_type": "code",
   "execution_count": 119,
   "outputs": [
    {
     "name": "stdout",
     "output_type": "stream",
     "text": [
      "Precision@5 for Content-Based Recommender System: 0.022657952069716766\n"
     ]
    }
   ],
   "source": [
    "# Calculate cosine similarity between user and movie vectors\n",
    "user_movie_similarity = cosine_similarity(user_matrix, tfidf_matrix)\n",
    "\n",
    "# Initialize precision\n",
    "precision = 0\n",
    "\n",
    "# Loop through each user in the test set\n",
    "for user_id in test_data_df_3['user_id'].unique():\n",
    "\n",
    "    # Get the indices of the movies the user has seen in the test set\n",
    "    user_test_movie_indices = list(test_data_df_3[test_data_df_3['user_id']==user_id]['movie_id'])\n",
    "\n",
    "    # Get the similarity scores between the user and all the movies\n",
    "    user_similarity_scores = user_movie_similarity[user_id-1]\n",
    "\n",
    "    # Get the indices of the top 5 movies with the highest predicted ratings\n",
    "    top_5_movie_indices = user_similarity_scores.argsort()[::-1][:5]\n",
    "\n",
    "    # Get the indices of the movies the user actually liked\n",
    "    user_liked_movie_indices = [i for i in top_5_movie_indices if i in user_test_movie_indices]\n",
    "\n",
    "    # Calculate precision\n",
    "    precision += len(user_liked_movie_indices)/5\n",
    "\n",
    "# Calculate average precision\n",
    "precision = precision/len(test_data_df_3['user_id'].unique())\n",
    "\n",
    "print(f\"Precision@5 for Content-Based Recommender System: {precision}\")"
   ],
   "metadata": {
    "collapsed": false
   }
  },
  {
   "cell_type": "markdown",
   "source": [
    "MAP@5"
   ],
   "metadata": {
    "collapsed": false
   }
  },
  {
   "cell_type": "code",
   "execution_count": 120,
   "outputs": [
    {
     "name": "stdout",
     "output_type": "stream",
     "text": [
      "MAP@5 for Content-Based Recommender System: 0.01058097312999274\n"
     ]
    }
   ],
   "source": [
    "\n",
    "# Calculate cosine similarity between user and movie vectors\n",
    "user_item_similarity = cosine_similarity(user_matrix, tfidf_matrix)\n",
    "\n",
    "# Initialize variables\n",
    "mapk_cb = []\n",
    "\n",
    "# Loop through each user in the test set\n",
    "for user_id in test_data_df_3['user_id'].unique():\n",
    "\n",
    "    # Get the indices of the movies the user has seen in the test set\n",
    "    user_test_movie_indices = list(test_data_df_3[test_data_df_3['user_id']==user_id]['movie_id'])\n",
    "\n",
    "    # Get the similarity scores between the user and all the movies\n",
    "    user_similarity_scores = user_item_similarity[user_id-1]\n",
    "\n",
    "    # Get the indices of the top 5 movies with the highest predicted ratings\n",
    "    top_5_movie_indices = user_similarity_scores.argsort()[::-1][:5]\n",
    "\n",
    "    # Get the indices of the movies the user actually liked\n",
    "    user_liked_movie_indices = [i for i in top_5_movie_indices if i in user_test_movie_indices]\n",
    "\n",
    "    # Calculate MAP@5\n",
    "    mapk_cb.append(mapk(top_5_movie_indices.tolist(), user_test_movie_indices, 5))\n",
    "\n",
    "# Calculate the average MAP@5 for each model\n",
    "avg_mapk_cb = np.mean(mapk_cb)\n",
    "\n",
    "print(f\"MAP@5 for Content-Based Recommender System: {avg_mapk_cb}\")\n"
   ],
   "metadata": {
    "collapsed": false
   }
  },
  {
   "cell_type": "markdown",
   "source": [
    "MRR@5"
   ],
   "metadata": {
    "collapsed": false
   }
  },
  {
   "cell_type": "code",
   "execution_count": 121,
   "outputs": [
    {
     "name": "stdout",
     "output_type": "stream",
     "text": [
      "MRR@5 for Content-Based Recommender System: 0.05094408133623819\n"
     ]
    }
   ],
   "source": [
    "\n",
    "# Initialize MRR\n",
    "\n",
    "mrrk_cb = []\n",
    "# Loop through each user in the test set\n",
    "for user_id in test_data_df_3['user_id'].unique():\n",
    "\n",
    "    # Get the indices of the movies the user has seen in the test set\n",
    "    user_test_movie_indices = list(test_data_df_3[test_data_df_3['user_id']==user_id]['movie_id'])\n",
    "\n",
    "    # Get the similarity scores between the user and all the movies\n",
    "    user_similarity_scores = user_movie_similarity[user_id-1]\n",
    "\n",
    "    # Get the indices of the top 5 movies with the highest predicted ratings\n",
    "    top_5_movie_indices = user_similarity_scores.argsort()[::-1][:5]\n",
    "\n",
    "    # Get the indices of the movies the user actually liked\n",
    "    user_liked_movie_indices = [i for i in top_5_movie_indices if i in user_test_movie_indices]\n",
    "\n",
    "    # Find the reciprocal rank of the first relevant recommendation in the top 5\n",
    "    mrrk_cb.append(mrrk(top_5_movie_indices.tolist(), user_test_movie_indices, 5))\n",
    "\n",
    "\n",
    "# Calculate average MRR\n",
    "avg_mrrk_cb = np.mean(mrrk_cb)\n",
    "\n",
    "print(f\"MRR@5 for Content-Based Recommender System: {avg_mrrk_cb}\")\n"
   ],
   "metadata": {
    "collapsed": false
   }
  },
  {
   "cell_type": "markdown",
   "source": [
    "Hit rate"
   ],
   "metadata": {
    "collapsed": false
   }
  },
  {
   "cell_type": "code",
   "execution_count": 122,
   "outputs": [
    {
     "name": "stdout",
     "output_type": "stream",
     "text": [
      "Hit rate for Content-Based Recommender System: 0.10893246187363835\n"
     ]
    }
   ],
   "source": [
    "# Initialize hit rate\n",
    "hit_rate = 0\n",
    "\n",
    "# Loop through each user in the test set\n",
    "for user_id in test_data_df_3['user_id'].unique():\n",
    "\n",
    "    # Get the indices of the movies the user has liked in the test set\n",
    "    user_liked_movie_indices = list(test_data_df_3[test_data_df_3['user_id']==user_id]['movie_id'])\n",
    "\n",
    "    # Get the similarity scores between the user and all the movies\n",
    "    user_similarity_scores = user_movie_similarity[user_id-1]\n",
    "\n",
    "    # Get the indices of the top 5 movies with the highest predicted ratings\n",
    "    top_5_movie_indices = user_similarity_scores.argsort()[::-1][:5]\n",
    "\n",
    "    # Get the indices of the movies the user actually liked\n",
    "    user_liked_movie_indices = [i for i in top_5_movie_indices if i in user_liked_movie_indices]\n",
    "\n",
    "    # Calculate hit rate\n",
    "    if len(user_liked_movie_indices) > 0:\n",
    "        hit_rate += 1\n",
    "\n",
    "# Calculate hit rate\n",
    "hit_rate = hit_rate/len(test_data_df_3['user_id'].unique())\n",
    "\n",
    "print(f\"Hit rate for Content-Based Recommender System: {hit_rate}\")\n"
   ],
   "metadata": {
    "collapsed": false
   }
  },
  {
   "cell_type": "markdown",
   "source": [
    "coverage"
   ],
   "metadata": {
    "collapsed": false
   }
  },
  {
   "cell_type": "code",
   "execution_count": 123,
   "outputs": [],
   "source": [
    "# # Get the set of recommended item IDs\n",
    "# recommended_items = set()\n",
    "# for user_id in test_data_df_3['user_id'].unique():\n",
    "#     # Get the indices of the top 5 recommended movies for this user\n",
    "#     top_5_movie_indices = user_movie_similarity[user_id-1].argsort()[::-1][:5]\n",
    "#     # Add the IDs of the recommended movies to the set\n",
    "#     recommended_items.update(list(test_data_df_3.iloc[top_5_movie_indices]['movie_id']))\n",
    "#\n",
    "# # Get the set of all unique item IDs in the item space\n",
    "# all_items = set(list(movie_data['id_in_movielens']))\n",
    "#\n",
    "# # Calculate coverage\n",
    "#\n",
    "# coverage = len(recommended_items) / num_movies * 100\n",
    "# print(\"Coverage for Content-Based Recommender System: {:.2f}%\".format(coverage))"
   ],
   "metadata": {
    "collapsed": false
   }
  },
  {
   "cell_type": "code",
   "execution_count": 124,
   "outputs": [
    {
     "name": "stdout",
     "output_type": "stream",
     "text": [
      "Coverage for Content-Based Recommender System:  80.94%\n"
     ]
    }
   ],
   "source": [
    "# create a dictionary of user recommendations\n",
    "user_recommendations_content_based = {}\n",
    "\n",
    "# loop through each user in the user-item matrix\n",
    "for user_idx, user_vector in enumerate(user_matrix):\n",
    "    # compute the similarity between the user's vector and each movie's vector\n",
    "    movie_similarities = cosine_similarity(user_vector.reshape(1, -1), tfidf_matrix)\n",
    "    # sort the similarities in descending order\n",
    "    sorted_similarities = np.argsort(movie_similarities)[0][::-1]\n",
    "    # select the top 5 movies with the highest similarity\n",
    "    top_5_movie_indices = sorted_similarities[:5]\n",
    "    # get the movie IDs for the top 5 movies\n",
    "    movie_ids = [movie_data.iloc[idx]['id_in_movielens'] for idx in top_5_movie_indices]\n",
    "    # add the movie IDs to the dictionary of recommendations for this user\n",
    "    user_recommendations_content_based[user_idx+1] = movie_ids\n",
    "\n",
    "unique_recommendations = set(user_recommendations_content_based)\n",
    "\n",
    "num_movies = len(test_data_df_3['movie_id'].unique())\n",
    "\n",
    "\n",
    "# Calculate the coverage\n",
    "coverage = len(unique_recommendations) / num_movies * 100\n",
    "print(\"Coverage for Content-Based Recommender System:  {:.2f}%\".format(coverage))"
   ],
   "metadata": {
    "collapsed": false
   }
  },
  {
   "cell_type": "markdown",
   "source": [
    "## 6) Week 11 Hybrid Recommender System"
   ],
   "metadata": {
    "collapsed": false
   }
  },
  {
   "cell_type": "markdown",
   "source": [
    "Create three hybrid recommender systems by combining the collaborative filtering model with the content-based model using the following three strategies:"
   ],
   "metadata": {
    "collapsed": false
   }
  },
  {
   "cell_type": "markdown",
   "source": [
    "1) Weighted strategy that re-ranks the items by combining the individual rankings from the two models with some aggregate function such as the sum, average, minimum or maximum.\n"
   ],
   "metadata": {
    "collapsed": false
   },
   "outputs": [
    {
     "ename": "SyntaxError",
     "evalue": "invalid syntax (1753855533.py, line 1)",
     "output_type": "error",
     "traceback": [
      "\u001B[1;36m  File \u001B[1;32m\"C:\\Users\\Radu\\AppData\\Local\\Temp\\ipykernel_16612\\1753855533.py\"\u001B[1;36m, line \u001B[1;32m1\u001B[0m\n\u001B[1;33m    1) Weighted strategy that re-ranks the items by combining the individual\u001B[0m\n\u001B[1;37m     ^\u001B[0m\n\u001B[1;31mSyntaxError\u001B[0m\u001B[1;31m:\u001B[0m invalid syntax\n"
     ]
    }
   ],
   "execution_count": 355
  },
  {
   "cell_type": "code",
   "execution_count": 125,
   "outputs": [],
   "source": [
    "# Set the weights for each model\n",
    "alpha = 0.6\n",
    "betha = 0.4\n",
    "\n",
    "# Create a dictionary of user recommendations for the hybrid model\n",
    "user_recommendations_hybrid_ws = {}\n",
    "\n",
    "# Loop through each user and their collaborative filtering and content-based recommendations\n",
    "for user in user_recommendations_svd.keys():\n",
    "    cf_recs = user_recommendations_svd[user]\n",
    "    cb_recs = user_recommendations_content_based[user]\n",
    "\n",
    "    # Merge the two recommendation lists into one, keeping only unique movie IDs\n",
    "    merged_recs = set(cf_recs['movie_id']).union(set(cb_recs))\n",
    "    recommendations = []\n",
    "    for movie_id in merged_recs:\n",
    "        cf_rating = cf_recs[cf_recs['movie_id'] == movie_id]['predicted_rating'].values\n",
    "        cf_rating = cf_rating[0] if len(cf_rating) > 0 else 0\n",
    "        cb_rating = 1 if movie_id in cb_recs else 0  # content-based model is binary\n",
    "        weighted_rating = alpha * cf_rating + betha * cb_rating\n",
    "        recommendations.append((movie_id, weighted_rating))\n",
    "    recommendations = sorted(recommendations, key=lambda x: x[1], reverse=True)[:k]\n",
    "\n",
    "    # Add the top 5 recommended movies to the user's recommendation list\n",
    "    user_recommendations_hybrid_ws[user] = [rec[0] for rec in recommendations[:5]]\n"
   ],
   "metadata": {
    "collapsed": false
   }
  },
  {
   "cell_type": "code",
   "execution_count": 126,
   "outputs": [
    {
     "data": {
      "text/plain": "{1: [1449, 408, 285, 357, 511],\n 2: [1449, 408, 169, 12, 603],\n 3: [408, 56, 483, 318, 357],\n 4: [867, 357, 1449, 493, 408],\n 5: [1449, 641, 199, 89, 513],\n 6: [1449, 483, 603, 480, 318],\n 7: [1449, 408, 320, 313, 483],\n 8: [1449, 867, 318, 313, 12],\n 9: [1449, 169, 318, 357, 1131],\n 10: [1449, 318, 408, 483, 169],\n 11: [1449, 483, 408, 169, 251],\n 12: [1449, 318, 169, 64, 12],\n 13: [408, 1449, 480, 168, 1367],\n 14: [1449, 169, 474, 357, 318],\n 15: [408, 318, 427, 1449, 169],\n 16: [64, 483, 169, 174, 50],\n 17: [408, 12, 169, 483, 50],\n 18: [1449, 408, 169, 483, 320],\n 19: [1449, 408, 318, 169, 1131],\n 20: [1449, 169, 408, 1131, 1194],\n 21: [1449, 187, 654, 169, 511],\n 22: [318, 178, 483, 1449, 64],\n 23: [1449, 169, 320, 474, 483],\n 24: [1449, 169, 64, 408, 318],\n 25: [1449, 169, 318, 64, 483],\n 26: [1449, 408, 169, 483, 318],\n 27: [1524, 1449, 483, 603, 1131],\n 28: [169, 318, 12, 50, 408],\n 29: [1449, 318, 483, 474, 408],\n 30: [1449, 169, 318, 408, 867],\n 31: [408, 1449, 169, 483, 641],\n 32: [1449, 318, 483, 357, 272],\n 33: [169, 1449, 408, 320, 318],\n 34: [1449, 100, 357, 127, 1131],\n 35: [1449, 318, 313, 169, 603],\n 36: [169, 1449, 318, 320, 12],\n 37: [1449, 408, 169, 483, 199],\n 38: [515, 143, 318, 427, 496],\n 39: [408, 320, 1449, 963, 169],\n 40: [318, 64, 169, 603, 1449],\n 41: [1449, 408, 320, 12, 513],\n 42: [169, 313, 22, 1449, 199],\n 43: [1449, 318, 867, 483, 515],\n 44: [169, 408, 12, 1449, 483],\n 45: [1449, 169, 408, 318, 483],\n 46: [1449, 318, 483, 169, 1131],\n 47: [1449, 318, 408, 169, 320],\n 48: [1449, 318, 169, 64, 313],\n 49: [60, 474, 137, 654, 179],\n 50: [1449, 867, 1167, 1642, 923],\n 51: [1449, 318, 22, 169, 313],\n 52: [169, 1449, 408, 483, 867],\n 53: [1449, 169, 318, 251, 483],\n 54: [318, 408, 169, 12, 357],\n 55: [318, 1449, 169, 313, 408],\n 56: [1449, 169, 318, 64, 357],\n 57: [169, 1449, 313, 357, 963],\n 58: [408, 320, 100, 89, 1131],\n 59: [1449, 408, 127, 169, 178],\n 60: [1449, 408, 169, 320, 318],\n 61: [408, 1449, 313, 169, 318],\n 62: [1449, 12, 169, 408, 320],\n 63: [1449, 408, 169, 318, 1131],\n 64: [1449, 169, 483, 408, 318],\n 65: [318, 1449, 169, 483, 427],\n 66: [169, 12, 64, 408, 318],\n 67: [318, 169, 1449, 408, 966],\n 68: [169, 408, 1449, 1142, 178],\n 69: [1449, 178, 408, 320, 127],\n 70: [1449, 318, 169, 50, 12],\n 71: [1449, 408, 169, 318, 320],\n 72: [1449, 357, 427, 515, 603],\n 73: [1449, 180, 408, 357, 127],\n 74: [1449, 357, 318, 427, 169],\n 75: [1449, 127, 187, 483, 169],\n 76: [408, 1449, 169, 357, 867],\n 77: [12, 1449, 169, 168, 474],\n 78: [318, 603, 1449, 64, 169],\n 79: [1449, 169, 408, 64, 1131],\n 80: [1449, 12, 169, 408, 318],\n 81: [318, 1449, 169, 515, 12],\n 82: [1449, 127, 408, 199, 427],\n 83: [313, 22, 318, 1449, 496],\n 84: [1449, 169, 483, 515, 64],\n 85: [1449, 318, 169, 427, 408],\n 86: [169, 1449, 12, 408, 127],\n 87: [318, 169, 1642, 64, 1449],\n 88: [1449, 169, 318, 483, 178],\n 89: [169, 1449, 1512, 272, 515],\n 90: [1449, 483, 408, 169, 603],\n 91: [1449, 318, 169, 64, 408],\n 92: [1449, 318, 483, 357, 603],\n 93: [408, 1449, 318, 169, 515],\n 94: [1449, 483, 408, 513, 178],\n 95: [169, 1449, 12, 64, 408],\n 96: [169, 1449, 408, 1131, 480],\n 97: [1449, 187, 127, 430, 12],\n 98: [318, 483, 169, 603, 1449],\n 99: [318, 357, 1131, 12, 1449],\n 100: [1449, 318, 64, 22, 169],\n 101: [318, 169, 64, 408, 1449],\n 102: [1449, 318, 169, 408, 483],\n 103: [1449, 169, 64, 12, 318],\n 104: [1449, 169, 174, 172, 427],\n 105: [357, 427, 169, 408, 483],\n 106: [1449, 169, 357, 408, 427],\n 107: [318, 357, 64, 127, 56],\n 108: [1449, 169, 318, 603, 483],\n 109: [169, 318, 408, 313, 1449],\n 110: [1449, 318, 169, 496, 427],\n 111: [408, 169, 1449, 178, 1367],\n 112: [1449, 318, 169, 408, 251],\n 113: [1449, 169, 1642, 318, 483],\n 114: [169, 408, 1449, 199, 12],\n 115: [1449, 127, 169, 408, 320],\n 116: [1449, 408, 169, 474, 318],\n 117: [1449, 169, 408, 12, 318],\n 118: [480, 169, 1131, 251, 318],\n 119: [1449, 408, 318, 867, 483],\n 120: [408, 1449, 169, 318, 64],\n 121: [408, 169, 1449, 174, 483],\n 122: [1449, 320, 483, 408, 169],\n 123: [1449, 169, 408, 127, 474],\n 124: [1449, 1131, 169, 318, 12],\n 125: [174, 22, 313, 50, 318],\n 126: [1449, 169, 408, 657, 60],\n 127: [169, 1449, 641, 1131, 1467],\n 128: [1449, 169, 408, 515, 318],\n 129: [318, 1449, 483, 357, 272],\n 130: [169, 318, 1449, 483, 408],\n 131: [169, 272, 1512, 318, 483],\n 132: [1449, 169, 320, 408, 357],\n 133: [169, 1449, 64, 12, 603],\n 134: [169, 22, 1449, 174, 483],\n 135: [1449, 169, 408, 483, 318],\n 136: [169, 1449, 408, 483, 320],\n 137: [1131, 12, 169, 50, 313],\n 138: [1449, 408, 169, 483, 318],\n 139: [1449, 169, 408, 318, 515],\n 140: [1449, 408, 169, 483, 867],\n 141: [241, 161, 272, 22, 385],\n 142: [483, 1449, 169, 318, 320],\n 143: [318, 1449, 1642, 64, 169],\n 144: [1449, 408, 427, 50, 169],\n 145: [867, 480, 22, 318, 169],\n 146: [1131, 1449, 408, 320, 357],\n 147: [318, 1449, 169, 483, 1131],\n 148: [1449, 169, 408, 1131, 199],\n 149: [1449, 408, 318, 483, 285],\n 150: [1449, 169, 318, 1131, 178],\n 151: [1449, 169, 12, 318, 515],\n 152: [480, 64, 966, 174, 22],\n 153: [1449, 427, 251, 515, 474],\n 154: [1449, 127, 320, 408, 169],\n 155: [1449, 318, 169, 320, 357],\n 156: [1449, 127, 408, 169, 511],\n 157: [1449, 318, 12, 408, 169],\n 158: [1449, 12, 169, 127, 483],\n 159: [408, 357, 313, 199, 427],\n 160: [1449, 12, 357, 178, 603],\n 161: [1449, 169, 357, 318, 923],\n 162: [169, 1449, 318, 483, 408],\n 163: [1449, 169, 408, 318, 64],\n 164: [1449, 318, 313, 64, 169],\n 165: [1449, 515, 408, 483, 64],\n 166: [1467, 50, 169, 1449, 318],\n 167: [1449, 169, 408, 50, 511],\n 168: [169, 408, 22, 318, 96],\n 169: [169, 1449, 313, 64, 408],\n 170: [169, 408, 318, 1449, 867],\n 171: [1449, 169, 408, 511, 12],\n 172: [318, 1449, 12, 408, 867],\n 173: [483, 357, 1449, 408, 318],\n 174: [427, 318, 272, 515, 408],\n 175: [318, 22, 408, 169, 174],\n 176: [1449, 12, 180, 56, 134],\n 177: [357, 1449, 318, 408, 169],\n 178: [22, 1449, 169, 96, 966],\n 179: [1449, 64, 272, 318, 173],\n 180: [1449, 512, 357, 474, 190],\n 181: [1449, 313, 318, 64, 272],\n 182: [1449, 408, 483, 169, 12],\n 183: [1449, 318, 169, 1642, 867],\n 184: [1449, 408, 169, 427, 178],\n 185: [169, 318, 1449, 357, 483],\n 186: [318, 64, 496, 966, 133],\n 187: [408, 1449, 169, 12, 483],\n 188: [1449, 169, 515, 408, 427],\n 189: [357, 483, 320, 1449, 480],\n 190: [12, 64, 318, 480, 169],\n 191: [1449, 483, 318, 169, 408],\n 192: [1449, 483, 408, 318, 357],\n 193: [1449, 408, 127, 318, 169],\n 194: [1449, 169, 12, 272, 64],\n 195: [12, 1449, 427, 318, 64],\n 196: [1449, 169, 483, 1131, 515],\n 197: [1449, 174, 318, 408, 169],\n 198: [408, 1449, 169, 483, 12],\n 199: [1449, 357, 127, 427, 474],\n 200: [64, 318, 12, 408, 1449],\n 201: [1449, 474, 867, 512, 320],\n 202: [169, 313, 963, 408, 694],\n 203: [1449, 318, 169, 64, 357],\n 204: [1449, 408, 483, 169, 427],\n 205: [169, 1449, 1131, 1524, 408],\n 206: [1449, 12, 923, 511, 320],\n 207: [318, 1449, 169, 427, 1524],\n 208: [169, 408, 318, 515, 12],\n 209: [1449, 169, 313, 408, 50],\n 210: [1449, 169, 408, 318, 127],\n 211: [318, 313, 173, 966, 22],\n 212: [1449, 251, 64, 320, 190],\n 213: [1449, 169, 408, 318, 12],\n 214: [1449, 408, 474, 56, 513],\n 215: [1449, 483, 169, 318, 408],\n 216: [357, 1449, 603, 12, 180],\n 217: [1449, 318, 603, 515, 98],\n 218: [1449, 169, 408, 318, 178],\n 219: [169, 1449, 408, 611, 474],\n 220: [1449, 318, 169, 408, 12],\n 221: [1449, 408, 169, 357, 318],\n 222: [1449, 22, 169, 272, 357],\n 223: [318, 966, 272, 1642, 251],\n 224: [22, 174, 64, 966, 318],\n 225: [64, 357, 169, 178, 318],\n 226: [318, 1449, 313, 169, 867],\n 227: [1449, 408, 483, 427, 511],\n 228: [1524, 318, 1064, 1449, 867],\n 229: [483, 1449, 427, 318, 1293],\n 230: [318, 313, 966, 169, 272],\n 231: [1449, 318, 603, 1131, 474],\n 232: [318, 1449, 169, 408, 515],\n 233: [1449, 427, 169, 963, 251],\n 234: [427, 318, 603, 169, 408],\n 235: [1449, 474, 408, 169, 320],\n 236: [1449, 357, 190, 251, 1064],\n 237: [1449, 318, 515, 199, 12],\n 238: [1449, 408, 169, 483, 513],\n 239: [60, 285, 709, 408, 513],\n 240: [1449, 318, 357, 12, 641],\n 241: [1449, 318, 169, 1131, 119],\n 242: [169, 1449, 408, 50, 64],\n 243: [1449, 408, 483, 169, 320],\n 244: [474, 1449, 178, 408, 483],\n 245: [1449, 867, 169, 64, 272],\n 246: [483, 408, 127, 179, 134],\n 247: [1449, 169, 178, 408, 318],\n 248: [408, 12, 1449, 483, 320],\n 249: [1449, 474, 357, 180, 169],\n 250: [1449, 427, 357, 64, 480],\n 251: [1449, 169, 408, 483, 357],\n 252: [641, 134, 169, 178, 474],\n 253: [496, 483, 64, 133, 169],\n 254: [318, 169, 1449, 408, 50],\n 255: [1449, 357, 318, 169, 251],\n 256: [313, 318, 1449, 169, 966],\n 257: [1449, 318, 169, 64, 408],\n 258: [1449, 318, 408, 169, 483],\n 259: [1449, 169, 318, 867, 408],\n 260: [318, 1449, 169, 408, 427],\n 261: [169, 1449, 318, 408, 1251],\n 262: [1449, 318, 483, 251, 923],\n 263: [408, 427, 483, 318, 178],\n 264: [1449, 12, 169, 50, 187],\n 265: [169, 64, 318, 22, 313],\n 266: [1449, 320, 318, 515, 408],\n 267: [1449, 357, 318, 320, 187],\n 268: [169, 1449, 483, 134, 513],\n 269: [60, 654, 285, 474, 180],\n 270: [1449, 12, 205, 178, 408],\n 271: [318, 1449, 408, 483, 50],\n 272: [1449, 169, 408, 12, 357],\n 273: [1449, 169, 318, 483, 408],\n 274: [169, 1449, 408, 64, 483],\n 275: [1449, 483, 318, 178, 603],\n 276: [1449, 127, 169, 357, 408],\n 277: [1449, 318, 867, 408, 64],\n 278: [318, 1449, 169, 408, 483],\n 279: [1449, 519, 745, 1367, 320],\n 280: [251, 1449, 483, 427, 169],\n 281: [408, 169, 1131, 1449, 483],\n 282: [169, 1449, 12, 408, 127],\n 283: [169, 1449, 408, 483, 357],\n 284: [1449, 169, 318, 483, 474],\n 285: [1449, 169, 408, 483, 513],\n 286: [318, 1449, 12, 603, 427],\n 287: [1449, 1131, 169, 12, 320],\n 288: [1449, 318, 483, 357, 496],\n 289: [1449, 318, 98, 169, 603],\n 290: [169, 313, 1449, 251, 1642],\n 291: [1449, 318, 320, 169, 408],\n 292: [1449, 357, 318, 427, 408],\n 293: [1449, 408, 474, 169, 134],\n 294: [169, 12, 408, 64, 318],\n 295: [483, 169, 1449, 408, 318],\n 296: [1449, 318, 408, 427, 169],\n 297: [1449, 169, 408, 1131, 64],\n 298: [1449, 12, 64, 169, 480],\n 299: [1449, 320, 318, 357, 178],\n 300: [320, 474, 357, 56, 1449],\n 301: [1449, 169, 1131, 408, 357],\n 302: [318, 169, 1449, 320, 357],\n 303: [1449, 169, 408, 318, 483],\n 304: [1449, 169, 64, 1131, 1467],\n 305: [1449, 169, 483, 513, 320],\n 306: [1449, 318, 169, 427, 408],\n 307: [867, 169, 1449, 173, 199],\n 308: [1449, 12, 474, 127, 89],\n 309: [169, 1449, 12, 515, 921],\n 310: [408, 1449, 169, 12, 48],\n 311: [318, 169, 1449, 22, 313],\n 312: [483, 1449, 318, 408, 480],\n 313: [1449, 318, 169, 98, 408],\n 314: [64, 169, 313, 1467, 1449],\n 315: [1449, 320, 408, 483, 357],\n 316: [318, 1449, 496, 251, 272],\n 317: [1449, 318, 169, 483, 1131],\n 318: [1449, 169, 483, 867, 189],\n 319: [1449, 318, 169, 483, 408],\n 320: [169, 1449, 318, 408, 1131],\n 321: [1449, 318, 515, 427, 169],\n 322: [1449, 318, 427, 169, 12],\n 323: [1449, 12, 408, 169, 318],\n 324: [1194, 251, 853, 921, 923],\n 325: [1449, 483, 474, 320, 178],\n 326: [313, 83, 169, 1449, 50],\n 327: [1449, 408, 483, 427, 474],\n 328: [1449, 966, 169, 408, 22],\n 329: [1449, 357, 318, 427, 178],\n 330: [169, 1449, 79, 22, 313],\n 331: [1449, 867, 190, 318, 272],\n 332: [169, 1449, 318, 408, 1131],\n 333: [1449, 169, 318, 64, 408],\n 334: [1449, 408, 357, 603, 480],\n 335: [318, 1131, 515, 169, 483],\n 336: [318, 64, 12, 1449, 169],\n 337: [1449, 169, 318, 408, 313],\n 338: [1449, 320, 408, 134, 100],\n 339: [1449, 408, 12, 169, 603],\n 340: [966, 318, 64, 79, 313],\n 341: [1449, 318, 169, 357, 1642],\n 342: [127, 1449, 483, 56, 474],\n 343: [1449, 12, 100, 654, 474],\n 344: [1449, 12, 483, 320, 134],\n 345: [1449, 408, 169, 483, 357],\n 346: [1449, 169, 408, 174, 480],\n 347: [64, 272, 313, 12, 318],\n 348: [1449, 169, 318, 1131, 867],\n 349: [1449, 408, 127, 169, 357],\n 350: [1449, 357, 134, 408, 318],\n 351: [169, 1449, 408, 318, 483],\n 352: [169, 1449, 1642, 483, 318],\n 353: [64, 12, 1449, 318, 408],\n 354: [1449, 408, 320, 483, 285],\n 355: [64, 98, 515, 483, 169],\n 356: [318, 169, 357, 64, 408],\n 357: [64, 169, 318, 313, 12],\n 358: [515, 1449, 57, 190, 1131],\n 359: [169, 1449, 318, 64, 357],\n 360: [1449, 408, 320, 134, 427],\n 361: [1449, 318, 169, 427, 408],\n 362: [318, 408, 427, 357, 483],\n 363: [169, 320, 483, 480, 1449],\n 364: [1449, 318, 64, 169, 483],\n 365: [318, 1449, 408, 64, 320],\n 366: [483, 357, 408, 923, 511],\n 367: [169, 1449, 318, 408, 515],\n 368: [1449, 169, 408, 285, 483],\n 369: [169, 1449, 483, 318, 178],\n 370: [1449, 318, 357, 408, 474],\n 371: [318, 1449, 169, 408, 313],\n 372: [64, 1449, 318, 357, 1524],\n 373: [1449, 318, 408, 272, 251],\n 374: [313, 1449, 169, 357, 22],\n 375: [169, 1449, 408, 483, 313],\n 376: [1449, 169, 408, 318, 483],\n 377: [318, 408, 169, 12, 483],\n 378: [1449, 169, 483, 408, 603],\n 379: [1449, 408, 169, 603, 483],\n 380: [1449, 408, 169, 178, 483],\n 381: [603, 408, 169, 357, 127],\n 382: [1449, 320, 1524, 867, 603],\n 383: [1449, 318, 603, 408, 178],\n 384: [1449, 318, 408, 169, 427],\n 385: [408, 867, 474, 647, 513],\n 386: [1449, 318, 169, 357, 1131],\n 387: [169, 285, 1142, 180, 56],\n 388: [318, 64, 313, 96, 169],\n 389: [1449, 408, 169, 12, 320],\n 390: [1449, 169, 408, 613, 174],\n 391: [1449, 178, 169, 357, 408],\n 392: [1449, 427, 511, 483, 408],\n 393: [318, 1449, 169, 966, 408],\n 394: [318, 1449, 64, 169, 357],\n 395: [1449, 169, 174, 408, 172],\n 396: [1449, 169, 64, 1131, 963],\n 397: [1449, 169, 178, 408, 603],\n 398: [169, 318, 64, 50, 22],\n 399: [1449, 169, 408, 251, 1131],\n 400: [1449, 169, 408, 12, 357],\n 401: [313, 1449, 169, 1642, 1131],\n 402: [1449, 169, 313, 318, 963],\n 403: [1449, 64, 12, 169, 318],\n 404: [169, 408, 174, 64, 96],\n 405: [318, 96, 496, 963, 133],\n 406: [1449, 408, 320, 12, 169],\n 407: [1449, 318, 12, 64, 480],\n 408: [169, 408, 178, 1449, 483],\n 409: [408, 169, 64, 56, 272],\n 410: [1449, 169, 1642, 963, 174],\n 411: [1449, 169, 408, 483, 12],\n 412: [1449, 1131, 318, 12, 313],\n 413: [1449, 408, 483, 318, 169],\n 414: [1449, 64, 408, 318, 169],\n 415: [1449, 318, 169, 12, 408],\n 416: [64, 1449, 22, 427, 408],\n 417: [318, 1449, 408, 64, 12],\n 418: [1642, 64, 318, 251, 963],\n 419: [1449, 64, 169, 483, 12],\n 420: [1449, 169, 483, 318, 1131],\n 421: [169, 1449, 408, 64, 483],\n 422: [1449, 357, 318, 474, 320],\n 423: [1449, 408, 318, 169, 483],\n 424: [1449, 315, 169, 603, 1512],\n 425: [408, 169, 134, 1449, 483],\n 426: [408, 169, 1449, 603, 357],\n 427: [480, 494, 657, 83, 661],\n 428: [1449, 169, 408, 50, 318],\n 429: [1449, 408, 169, 64, 318],\n 430: [1449, 357, 427, 1524, 313],\n 431: [169, 318, 64, 1449, 613],\n 432: [272, 64, 169, 1449, 357],\n 433: [408, 1449, 169, 285, 127],\n 434: [313, 1524, 169, 867, 64],\n 435: [1449, 408, 853, 483, 320],\n 436: [1449, 318, 408, 169, 357],\n 437: [1449, 427, 408, 474, 197],\n 438: [169, 64, 318, 174, 272],\n 439: [1449, 169, 408, 318, 50],\n 440: [169, 408, 1449, 483, 178],\n 442: [1449, 320, 474, 169, 357],\n 444: [1449, 318, 357, 320, 483],\n 445: [357, 318, 427, 408, 169],\n 446: [408, 169, 318, 1449, 1524],\n 447: [1449, 169, 408, 199, 173],\n 448: [408, 127, 169, 320, 479],\n 449: [408, 169, 1449, 483, 178],\n 450: [1449, 64, 408, 480, 1524],\n 451: [1642, 313, 96, 966, 169],\n 452: [1449, 408, 12, 169, 1131],\n 453: [1449, 169, 64, 187, 89],\n 454: [1449, 966, 83, 1064, 1642],\n 455: [1449, 169, 408, 483, 357],\n 456: [1449, 169, 408, 178, 318],\n 457: [1449, 408, 480, 603, 427],\n 458: [1449, 320, 657, 242, 641],\n 459: [169, 1449, 408, 96, 318],\n 460: [1449, 408, 513, 483, 474],\n 462: [64, 318, 357, 966, 174]}"
     },
     "execution_count": 126,
     "metadata": {},
     "output_type": "execute_result"
    }
   ],
   "source": [
    "user_recommendations_hybrid_ws"
   ],
   "metadata": {
    "collapsed": false
   }
  },
  {
   "cell_type": "markdown",
   "source": [
    "2. Switching strategy that uses the recommendations from the collaborative filtering model for some users and the recommendations from the contentbased model for other users chosen by a predefined condition.\n"
   ],
   "metadata": {
    "collapsed": false
   }
  },
  {
   "cell_type": "code",
   "execution_count": 127,
   "outputs": [
    {
     "name": "stdout",
     "output_type": "stream",
     "text": [
      "51\n"
     ]
    }
   ],
   "source": [
    "import random as rand\n",
    "\n",
    "# Define the Borda Count function\n",
    "def borda_count(rankings):\n",
    "    borda_scores = {}\n",
    "    for ranking in rankings:\n",
    "        for i, movie_id in enumerate(ranking):\n",
    "            borda_scores[movie_id] = borda_scores.get(movie_id, 0) + len(ranking) - i - 1\n",
    "    return sorted(borda_scores.items(), key=lambda x: x[1], reverse=True)\n",
    "\n",
    "def calculate_points(borda_scores):\n",
    "    points = {}\n",
    "    for movie_id, score in borda_scores:\n",
    "        points[movie_id] = points.get(movie_id, 0) + score\n",
    "    result = [(movie_id, points.get(movie_id, 0)) for movie_id, score in borda_scores]\n",
    "    result = sorted(result, key=lambda x: (x[1], x[0]), reverse=True)\n",
    "    return result\n",
    "\n",
    "#Create a variable that represents the number of times that the code should be run\n",
    "random_run_time=int(rand.uniform(1, 100))\n",
    "print(random_run_time)\n",
    "\n",
    "# Create a dictionary of user recommendations for the hybrid model\n",
    "user_recommendations_hybrid_ss = {}\n",
    "\n",
    "for i in range(random_run_time):\n",
    "    user_recommendations_hybrid_ss = {}\n",
    "    # Loop through each user and their collaborative filtering and content-based recommendations\n",
    "    for user in user_recommendations_svd.keys():\n",
    "        cf_recs = user_recommendations_svd[user]\n",
    "        cb_recs = user_recommendations_content_based[user]\n",
    "\n",
    "        rankings = [cf_recs['movie_id'].tolist(), cb_recs]\n",
    "        borda_scores = borda_count(rankings)\n",
    "        points = calculate_points(borda_scores)\n",
    "        # print(borda_scores)\n",
    "        hybrid_rec_user=[]\n",
    "        for i in range( int(len(points)/2)):\n",
    "            if points[2*i][1] == points[2*i+1][1]:\n",
    "                if rand.random() < 0.5:\n",
    "                    hybrid_rec_user.append((points[2*i][0]))\n",
    "                else:\n",
    "                    hybrid_rec_user.append((points[2*i+1][0]))\n",
    "            else:\n",
    "                hybrid_rec_user.append(points[2*i][0])\n",
    "        # Add the top 5 recommended movies to the user's recommendation list\n",
    "        user_recommendations_hybrid_ss[user] = hybrid_rec_user[:5]"
   ],
   "metadata": {
    "collapsed": false
   }
  },
  {
   "cell_type": "markdown",
   "source": [
    "obs: as a tie breaker I used the random function to randomly pick one of the 2 moviesId with equal scores. And also to ensure randomicity I'm creating the list a random numer of times."
   ],
   "metadata": {
    "collapsed": false
   }
  },
  {
   "cell_type": "code",
   "execution_count": 128,
   "outputs": [
    {
     "data": {
      "text/plain": "{1: [45, 408, 285, 127, 511],\n 2: [100, 408, 169, 12, 603],\n 3: [408, 321, 340, 347, 320],\n 4: [327, 357, 329, 408, 359],\n 5: [1449, 641, 408, 50, 257],\n 6: [1449, 493, 603, 505, 79],\n 7: [1449, 573, 620, 313, 132],\n 8: [1449, 195, 318, 313, 12],\n 9: [1449, 50, 201, 357, 1131],\n 10: [1449, 318, 70, 483, 694],\n 11: [107, 318, 423, 372, 251],\n 12: [69, 318, 4, 64, 242],\n 13: [408, 1449, 480, 168, 1367],\n 14: [1449, 169, 474, 357, 318],\n 15: [408, 318, 427, 303, 50],\n 16: [79, 64, 50, 100, 169],\n 17: [408, 100, 475, 483, 50],\n 18: [60, 408, 169, 486, 320],\n 19: [1449, 887, 325, 319, 1131],\n 20: [1449, 169, 408, 1131, 1194],\n 21: [123, 656, 127, 675, 511],\n 22: [181, 127, 483, 385, 523],\n 23: [100, 175, 320, 474, 483],\n 24: [11, 79, 127, 408, 318],\n 25: [408, 79, 204, 64, 483],\n 26: [1449, 313, 515, 483, 318],\n 27: [123, 1449, 483, 288, 286],\n 28: [169, 318, 12, 50, 176],\n 29: [286, 318, 12, 79, 268],\n 30: [242, 135, 318, 408, 69],\n 31: [408, 1449, 169, 1019, 319],\n 32: [1449, 318, 483, 246, 272],\n 33: [329, 1449, 288, 323, 682],\n 34: [324, 899, 990, 127, 292],\n 35: [300, 876, 881, 937, 603],\n 36: [261, 878, 318, 320, 12],\n 37: [226, 408, 169, 483, 199],\n 38: [515, 318, 143, 427, 496],\n 39: [408, 320, 1449, 963, 319],\n 40: [318, 337, 169, 603, 1449],\n 41: [175, 408, 96, 180, 513],\n 42: [132, 313, 22, 523, 199],\n 43: [408, 318, 867, 483, 100],\n 44: [169, 50, 64, 1449, 523],\n 45: [1449, 169, 181, 318, 483],\n 46: [1449, 318, 262, 169, 286],\n 47: [1449, 865, 408, 169, 327],\n 48: [183, 209, 169, 428, 313],\n 49: [60, 1017, 137, 433, 179],\n 50: [1449, 324, 1167, 1642, 268],\n 51: [172, 318, 181, 169, 313],\n 52: [463, 19, 1085, 13, 277],\n 53: [1449, 169, 15, 546, 483],\n 54: [318, 408, 169, 117, 307],\n 55: [79, 1449, 50, 22, 181],\n 56: [1449, 169, 318, 183, 357],\n 57: [181, 257, 313, 64, 288],\n 58: [1101, 70, 203, 89, 1131],\n 59: [288, 60, 1439, 169, 79],\n 60: [230, 408, 169, 320, 30],\n 61: [300, 1449, 313, 258, 318],\n 62: [1449, 521, 169, 528, 50],\n 63: [1449, 10, 333, 318, 1131],\n 64: [1449, 169, 48, 203, 318],\n 65: [318, 1449, 169, 483, 735],\n 66: [300, 50, 237, 763, 127],\n 67: [117, 169, 24, 273, 125],\n 68: [181, 258, 1449, 1142, 178],\n 69: [172, 50, 181, 288, 123],\n 70: [230, 318, 181, 183, 172],\n 71: [257, 408, 169, 318, 429],\n 72: [1449, 521, 318, 515, 553],\n 73: [268, 180, 197, 357, 64],\n 74: [1449, 313, 318, 13, 169],\n 75: [1449, 127, 13, 222, 477],\n 76: [408, 513, 517, 357, 867],\n 77: [12, 1449, 641, 28, 474],\n 78: [318, 880, 301, 64, 169],\n 79: [1449, 169, 19, 582, 1131],\n 80: [100, 12, 86, 408, 483],\n 81: [318, 591, 169, 515, 12],\n 82: [770, 588, 408, 603, 427],\n 83: [313, 22, 318, 1449, 496],\n 84: [1449, 169, 408, 515, 64],\n 85: [428, 1496, 132, 427, 408],\n 86: [169, 888, 12, 242, 269],\n 87: [318, 230, 216, 1185, 181],\n 88: [1449, 311, 318, 326, 178],\n 89: [1074, 107, 1512, 100, 515],\n 90: [60, 387, 482, 169, 70],\n 91: [1449, 318, 169, 64, 79],\n 92: [428, 318, 500, 357, 1439],\n 93: [408, 118, 934, 169, 276],\n 94: [1449, 428, 132, 513, 127],\n 95: [169, 1449, 12, 64, 408],\n 96: [169, 1449, 408, 1131, 56],\n 97: [1449, 96, 195, 430, 12],\n 98: [514, 428, 659, 435, 523],\n 99: [329, 348, 1131, 64, 1449],\n 100: [1449, 315, 64, 900, 347],\n 101: [257, 288, 147, 408, 1449],\n 102: [227, 318, 169, 175, 288],\n 103: [1449, 56, 64, 181, 318],\n 104: [1449, 169, 50, 268, 427],\n 105: [302, 313, 270, 408, 288],\n 106: [318, 162, 357, 408, 427],\n 107: [318, 312, 246, 268, 288],\n 108: [1449, 319, 318, 603, 483],\n 109: [169, 288, 408, 313, 1449],\n 110: [1449, 318, 169, 288, 427],\n 111: [408, 302, 304, 500, 258],\n 112: [887, 318, 169, 313, 251],\n 113: [257, 169, 1642, 328, 483],\n 114: [522, 474, 1449, 199, 135],\n 115: [1449, 79, 479, 176, 320],\n 116: [1449, 246, 169, 11, 318],\n 117: [1449, 169, 96, 12, 318],\n 118: [288, 1131, 318, 169, 100],\n 119: [1449, 408, 318, 288, 7],\n 120: [515, 258, 127, 318, 15],\n 121: [257, 50, 127, 172, 717],\n 122: [1449, 197, 483, 582, 169],\n 123: [1449, 169, 408, 9, 474],\n 124: [168, 1131, 98, 318, 195],\n 125: [174, 181, 313, 50, 710],\n 126: [1449, 266, 680, 657, 60],\n 127: [230, 1449, 641, 258, 62],\n 128: [1449, 133, 408, 515, 69],\n 129: [318, 242, 302, 311, 272],\n 130: [169, 1276, 1449, 483, 408],\n 131: [242, 9, 536, 251, 276],\n 132: [1449, 56, 320, 251, 357],\n 133: [169, 1449, 750, 12, 603],\n 134: [169, 326, 678, 294, 483],\n 135: [1449, 98, 5, 203, 318],\n 136: [127, 1449, 408, 483, 320],\n 137: [1131, 12, 169, 50, 174],\n 138: [1449, 56, 45, 662, 12],\n 139: [1449, 169, 303, 318, 475],\n 140: [1449, 408, 169, 500, 867],\n 141: [409, 282, 272, 100, 291],\n 142: [176, 1449, 169, 346, 514],\n 143: [288, 1449, 313, 326, 169],\n 144: [1449, 408, 963, 1138, 169],\n 145: [867, 106, 150, 282, 169],\n 146: [1131, 1449, 315, 320, 345],\n 147: [318, 1449, 750, 483, 286],\n 148: [1449, 169, 408, 194, 173],\n 149: [313, 286, 345, 346, 340],\n 150: [276, 169, 318, 1131, 319],\n 151: [664, 512, 922, 318, 515],\n 152: [480, 69, 1041, 88, 174],\n 153: [79, 427, 357, 258, 265],\n 154: [1449, 641, 320, 238, 197],\n 155: [1449, 318, 169, 320, 322],\n 156: [178, 480, 187, 9, 651],\n 157: [1449, 318, 12, 408, 244],\n 158: [194, 12, 123, 175, 483],\n 159: [1095, 932, 313, 199, 427],\n 160: [288, 922, 100, 127, 603],\n 161: [315, 169, 357, 318, 923],\n 162: [508, 1449, 318, 483, 237],\n 163: [272, 169, 408, 28, 64],\n 164: [405, 318, 313, 282, 169],\n 165: [127, 515, 318, 483, 222],\n 166: [1467, 347, 169, 751, 318],\n 167: [512, 169, 318, 521, 511],\n 168: [169, 1012, 22, 318, 126],\n 169: [169, 1449, 258, 300, 213],\n 170: [169, 408, 318, 304, 867],\n 171: [272, 258, 408, 887, 346],\n 172: [428, 1449, 12, 408, 867],\n 173: [483, 318, 1449, 357, 305],\n 174: [427, 318, 69, 515, 408],\n 175: [318, 22, 408, 169, 174],\n 176: [1449, 12, 150, 56, 134],\n 177: [127, 288, 318, 60, 169],\n 178: [22, 69, 169, 1439, 966],\n 179: [288, 64, 682, 333, 916],\n 180: [372, 512, 660, 474, 190],\n 181: [1449, 313, 282, 64, 272],\n 182: [181, 50, 483, 169, 12],\n 183: [230, 318, 169, 380, 216],\n 184: [428, 60, 169, 512, 1439],\n 185: [181, 47, 321, 357, 258],\n 186: [318, 1042, 77, 966, 203],\n 187: [65, 1449, 694, 12, 483],\n 188: [11, 169, 515, 318, 288],\n 189: [486, 792, 320, 150, 50],\n 190: [12, 272, 318, 480, 313],\n 191: [315, 483, 318, 750, 900],\n 192: [9, 483, 408, 287, 7],\n 193: [69, 282, 79, 318, 313],\n 194: [1449, 136, 12, 60, 100],\n 195: [12, 1449, 127, 500, 64],\n 196: [1449, 169, 411, 1131, 382],\n 197: [1449, 174, 230, 408, 526],\n 198: [408, 127, 187, 132, 979],\n 199: [1449, 357, 127, 427, 474],\n 200: [64, 423, 12, 378, 1449],\n 201: [1449, 1208, 867, 512, 320],\n 202: [96, 313, 963, 516, 269],\n 203: [1449, 318, 169, 64, 222],\n 204: [9, 408, 483, 169, 427],\n 205: [169, 748, 1131, 1524, 408],\n 206: [346, 12, 923, 748, 320],\n 207: [318, 216, 169, 242, 1524],\n 208: [169, 408, 318, 66, 12],\n 209: [1449, 169, 313, 408, 50],\n 210: [1449, 181, 408, 423, 132],\n 211: [423, 215, 205, 199, 22],\n 212: [1449, 251, 64, 320, 190],\n 213: [127, 288, 187, 318, 12],\n 214: [1449, 408, 427, 603, 513],\n 215: [1449, 50, 169, 132, 496],\n 216: [357, 1449, 603, 12, 180],\n 217: [79, 318, 684, 515, 56],\n 218: [176, 183, 1073, 318, 603],\n 219: [258, 382, 169, 611, 631],\n 220: [269, 300, 169, 408, 12],\n 221: [550, 150, 169, 357, 318],\n 222: [1449, 1439, 169, 272, 357],\n 223: [318, 966, 1088, 1642, 251],\n 224: [402, 313, 64, 966, 470],\n 225: [169, 215, 178, 318, 603],\n 226: [408, 1449, 313, 12, 867],\n 227: [1449, 408, 13, 137, 511],\n 228: [812, 286, 750, 275, 867],\n 229: [483, 1449, 427, 896, 1293],\n 230: [318, 313, 588, 169, 272],\n 231: [471, 318, 603, 1131, 474],\n 232: [318, 268, 132, 690, 582],\n 233: [1449, 127, 133, 963, 588],\n 234: [427, 611, 603, 662, 408],\n 235: [1449, 474, 1451, 522, 320],\n 236: [318, 357, 520, 251, 750],\n 237: [1449, 318, 515, 199, 474],\n 238: [1449, 408, 405, 471, 513],\n 239: [60, 428, 709, 408, 150],\n 240: [242, 318, 302, 895, 269],\n 241: [288, 286, 300, 1131, 119],\n 242: [331, 408, 275, 50, 64],\n 243: [285, 86, 483, 169, 320],\n 244: [474, 1449, 178, 9, 521],\n 245: [1033, 597, 169, 300, 272],\n 246: [483, 408, 127, 179, 134],\n 247: [1449, 169, 258, 408, 318],\n 248: [50, 12, 176, 483, 98],\n 249: [7, 1011, 257, 180, 603],\n 250: [100, 427, 588, 175, 458],\n 251: [1449, 169, 408, 483, 742],\n 252: [134, 474, 475, 1, 641],\n 253: [496, 132, 482, 133, 588],\n 254: [542, 181, 1449, 408, 50],\n 255: [682, 219, 56, 169, 831],\n 256: [288, 318, 11, 1150, 5],\n 257: [1449, 318, 57, 64, 408],\n 258: [1449, 300, 326, 294, 328],\n 259: [1449, 169, 475, 168, 408],\n 260: [318, 334, 169, 891, 333],\n 261: [169, 318, 1449, 288, 1251],\n 262: [1449, 318, 747, 251, 923],\n 263: [408, 427, 690, 133, 199],\n 264: [1449, 12, 169, 603, 187],\n 265: [237, 298, 318, 282, 117],\n 266: [100, 275, 9, 515, 268],\n 267: [1449, 357, 164, 320, 176],\n 268: [60, 1449, 483, 134, 513],\n 269: [654, 285, 521, 180],\n 270: [12, 408, 178, 205, 79],\n 271: [318, 1449, 100, 521, 79],\n 272: [1449, 194, 408, 12, 357],\n 273: [246, 268, 318, 896, 272],\n 274: [100, 9, 69, 64, 15],\n 275: [1449, 164, 450, 178, 603],\n 276: [428, 127, 169, 357, 408],\n 277: [100, 318, 925, 258, 64],\n 278: [923, 313, 288, 408, 483],\n 279: [1449, 257, 745, 1367, 320],\n 280: [486, 1449, 1217, 79, 1041],\n 281: [304, 500, 1131, 271, 748],\n 282: [262, 319, 343, 890, 127],\n 283: [408, 169, 409, 173, 357],\n 284: [1449, 169, 315, 483, 268],\n 285: [198, 302, 357, 483, 194],\n 286: [318, 888, 12, 603, 433],\n 287: [1449, 1131, 169, 222, 64],\n 288: [520, 345, 483, 427, 22],\n 289: [742, 117, 98, 15, 363],\n 290: [169, 313, 1449, 257, 1642],\n 291: [1449, 318, 320, 573, 408],\n 292: [64, 48, 603, 486, 408],\n 293: [45, 150, 474, 1439, 1208],\n 294: [123, 12, 408, 64, 298],\n 295: [60, 132, 70, 69, 483],\n 296: [1449, 318, 297, 79, 169],\n 297: [1449, 169, 100, 1131, 479],\n 298: [1449, 88, 64, 169, 480],\n 299: [60, 320, 512, 288, 178],\n 300: [876, 474, 1094, 56, 1449],\n 301: [1449, 169, 150, 409, 357],\n 302: [271, 301, 266, 320, 357],\n 303: [387, 150, 408, 318, 483],\n 304: [313, 300, 294, 1131, 1467],\n 305: [1449, 486, 45, 242, 650],\n 306: [19, 1251, 169, 257, 286],\n 307: [867, 50, 1449, 230, 257],\n 308: [428, 12, 474, 1496, 770],\n 309: [169, 1449, 12, 334, 921],\n 310: [1142, 50, 172, 12, 48],\n 311: [318, 169, 1439, 22, 1297],\n 312: [483, 1449, 318, 505, 70],\n 313: [79, 428, 770, 98, 408],\n 314: [132, 1496, 150, 38, 69],\n 315: [318, 320, 408, 520, 357],\n 316: [318, 1449, 427, 251, 286],\n 317: [1449, 260, 313, 483, 1131],\n 318: [70, 169, 216, 867, 26],\n 319: [1449, 318, 301, 483, 246],\n 320: [79, 550, 257, 408, 1131],\n 321: [60, 428, 515, 611, 132],\n 322: [1449, 157, 603, 169, 12],\n 323: [1449, 12, 408, 23, 64],\n 324: [853, 251, 921, 282, 150],\n 325: [50, 483, 474, 1523, 172],\n 326: [313, 520, 169, 1449, 493],\n 327: [1449, 865, 483, 427, 482],\n 328: [1439, 966, 520, 133, 684],\n 329: [1449, 357, 318, 427, 651],\n 330: [1449, 385, 257, 100, 313],\n 331: [1449, 304, 500, 682, 272],\n 332: [79, 1449, 257, 408, 1131],\n 333: [1449, 169, 127, 520, 408],\n 334: [428, 288, 60, 521, 480],\n 335: [902, 1131, 515, 300, 483],\n 336: [318, 237, 12, 1449, 90],\n 337: [1449, 227, 222, 408, 313],\n 338: [1449, 197, 650, 134, 100],\n 339: [428, 408, 127, 169, 1439],\n 340: [966, 95, 15, 79, 313],\n 341: [881, 1449, 1025, 357, 872],\n 342: [127, 1449, 482, 319, 474],\n 343: [521, 60, 11, 654, 203],\n 344: [1449, 100, 483, 320, 694],\n 345: [150, 1439, 169, 483, 781],\n 346: [79, 385, 181, 174, 480],\n 347: [172, 181, 313, 12, 318],\n 348: [123, 126, 318, 1131, 291],\n 349: [284, 100, 20, 169, 357],\n 350: [1449, 357, 127, 408, 318],\n 351: [408, 678, 332, 882, 258],\n 352: [169, 1449, 79, 144, 174],\n 353: [258, 12, 313, 318, 408],\n 354: [1449, 408, 320, 45, 285],\n 355: [169, 515, 286, 1175, 1617],\n 356: [258, 169, 357, 315, 347],\n 357: [147, 932, 64, 597, 304],\n 358: [512, 318, 639, 1006, 1131],\n 359: [1449, 169, 286, 7, 357],\n 360: [1449, 408, 320, 521, 427],\n 361: [611, 319, 169, 603, 514],\n 362: [318, 300, 427, 357, 483],\n 363: [428, 320, 38, 150, 181],\n 364: [1449, 294, 64, 169, 678],\n 365: [318, 288, 408, 1137, 320],\n 366: [923, 511, 217, 408, 483],\n 367: [169, 1449, 318, 408, 515],\n 368: [11, 169, 408, 217, 483],\n 369: [172, 1449, 483, 318, 178],\n 370: [181, 172, 357, 650, 427],\n 371: [31, 1449, 183, 408, 313],\n 372: [64, 79, 332, 288, 1524],\n 373: [1496, 496, 1640, 79, 251],\n 374: [313, 1449, 169, 100, 1496],\n 375: [169, 1449, 1217, 483, 185],\n 376: [246, 268, 408, 318, 603],\n 377: [272, 408, 169, 98, 173],\n 378: [428, 1439, 483, 79, 603],\n 379: [428, 127, 79, 47, 483],\n 380: [1449, 408, 169, 178, 286],\n 381: [603, 408, 517, 357, 479],\n 382: [1449, 320, 482, 23, 235],\n 383: [1449, 132, 496, 639, 654],\n 384: [1449, 318, 408, 169, 427],\n 385: [865, 867, 474, 428, 47],\n 386: [1449, 840, 117, 127, 1131],\n 387: [113, 285, 1142, 100, 56],\n 388: [680, 64, 313, 96, 169],\n 389: [1449, 428, 664, 1439, 1496],\n 390: [1449, 275, 302, 126, 1],\n 391: [1449, 178, 482, 357, 963],\n 392: [1449, 427, 181, 483, 408],\n 393: [318, 1496, 1439, 966, 408],\n 394: [318, 288, 64, 123, 79],\n 395: [1449, 169, 174, 408, 172],\n 396: [974, 169, 282, 1131, 963],\n 397: [1449, 172, 178, 408, 615],\n 398: [132, 318, 521, 1496, 482],\n 399: [1449, 1217, 408, 251, 1439],\n 400: [258, 313, 288, 12, 357],\n 401: [313, 735, 169, 318, 133],\n 402: [1449, 169, 100, 515, 963],\n 403: [100, 405, 118, 169, 318],\n 404: [169, 22, 690, 64, 272],\n 405: [318, 428, 288, 1405, 133],\n 406: [428, 1439, 320, 12, 1640],\n 407: [288, 230, 1496, 64, 257],\n 408: [327, 302, 178, 1449, 242],\n 409: [408, 169, 64, 45, 272],\n 410: [1449, 169, 873, 315, 905],\n 411: [230, 210, 408, 50, 12],\n 412: [96, 7, 318, 195, 313],\n 413: [181, 50, 483, 100, 303],\n 414: [258, 64, 11, 346, 272],\n 415: [1449, 328, 56, 12, 136],\n 416: [1439, 1449, 288, 427, 1496],\n 417: [318, 1496, 408, 64, 12],\n 418: [1642, 64, 258, 333, 895],\n 419: [1449, 64, 275, 483, 12],\n 420: [1449, 169, 483, 127, 86],\n 421: [127, 1449, 172, 64, 483],\n 422: [288, 100, 318, 257, 327],\n 423: [1449, 408, 100, 282, 483],\n 424: [1449, 315, 289, 294, 1512],\n 425: [79, 230, 134, 1449, 483],\n 426: [133, 169, 318, 492, 657],\n 427: [359, 480, 937, 494, 661],\n 428: [1313, 288, 408, 50, 272],\n 429: [428, 1439, 169, 611, 318],\n 430: [303, 297, 100, 181, 1347],\n 431: [169, 318, 64, 322, 613],\n 432: [272, 64, 169, 293, 357],\n 433: [246, 1449, 169, 137, 127],\n 434: [477, 1524, 288, 975, 64],\n 435: [288, 1496, 385, 483, 320],\n 436: [1449, 127, 288, 187, 357],\n 437: [1449, 427, 408, 512, 197],\n 438: [257, 64, 237, 815, 321],\n 439: [1449, 169, 408, 318, 50],\n 440: [242, 408, 1449, 483, 304],\n 442: [150, 79, 474, 181, 230],\n 444: [1449, 272, 357, 251, 483],\n 445: [357, 318, 56, 340, 346],\n 446: [408, 302, 318, 1449, 321],\n 447: [1449, 963, 408, 199, 173],\n 448: [319, 127, 1602, 320, 345],\n 449: [408, 100, 1449, 483, 178],\n 450: [428, 64, 60, 662, 113],\n 451: [876, 313, 288, 966, 169],\n 452: [1449, 69, 79, 169, 428],\n 453: [1449, 169, 1496, 187, 89],\n 454: [1449, 79, 279, 428, 520],\n 455: [1449, 662, 408, 483, 385],\n 456: [150, 169, 408, 1496, 1379],\n 457: [1449, 500, 304, 603, 427],\n 458: [79, 127, 319, 242, 641],\n 459: [169, 257, 172, 7, 181],\n 460: [242, 100, 303, 483, 19],\n 462: [64, 318, 655, 11, 332]}"
     },
     "execution_count": 128,
     "metadata": {},
     "output_type": "execute_result"
    }
   ],
   "source": [
    "user_recommendations_hybrid_ss"
   ],
   "metadata": {
    "collapsed": false
   }
  },
  {
   "cell_type": "markdown",
   "source": [
    "3. Meta-level strategy where a level of one model is used as input to the other model.\n"
   ],
   "metadata": {
    "collapsed": false
   }
  },
  {
   "cell_type": "code",
   "execution_count": 129,
   "outputs": [],
   "source": [
    "# new_user_item_matrix = user_item_matrix.fillna(0)"
   ],
   "metadata": {
    "collapsed": false
   }
  },
  {
   "cell_type": "code",
   "execution_count": 130,
   "outputs": [],
   "source": [
    "# user_recommendations_cf = user_recommendations_svd\n",
    "#\n",
    "#\n",
    "# # Use recommended movies from collaborative filtering as input to content-based model\n",
    "# user_recommendations_final = {}\n",
    "# for user, recs in user_recommendations_cf.items():\n",
    "#     movie_ids = recs['movie_id'].tolist()\n",
    "#     user_movie_matrix_subset = new_user_item_matrix.loc[user, movie_ids]\n",
    "#     scores = tfidf_matrix_dense.dot(user_movie_matrix_subset.T).toarray().flatten()\n",
    "#     top_indices = scores.argsort()[-5:][::-1]\n",
    "#     top_movie_ids = [movie_ids[i] for i in top_indices]\n",
    "#     user_recommendations_final[user] = top_movie_ids\n",
    "#\n",
    "# # Print final recommendations\n",
    "# print(user_recommendations_final)"
   ],
   "metadata": {
    "collapsed": false
   }
  },
  {
   "cell_type": "code",
   "execution_count": 131,
   "outputs": [],
   "source": [
    "user_recommendations_hybrid = {}\n",
    "\n",
    "# loop over all users in the test set\n",
    "for user in test_users:\n",
    "\n",
    "    # get the top-k recommended items from the content-based recommender system\n",
    "    top_k_content_based = user_recommendations_content_based[user]\n",
    "\n",
    "    # create a DataFrame of the top-k items and their attributes\n",
    "    top_k_content_based_df = movie_data[movie_data['id_in_movielens'].isin(top_k_content_based)]\n",
    "\n",
    "    # create a list of the top-k items that the user has not rated in the training set\n",
    "    train_ratings = train_data_df_2[train_data_df_2['user_id']==user]\n",
    "    unrated_items = list(set(top_k_content_based) - set(train_ratings['movie_id']))\n",
    "\n",
    "    # predict ratings for the unrated items using the SVD model\n",
    "    unrated_ratings_svd = [svd_model.predict(user, item).est for item in unrated_items]\n",
    "\n",
    "    # create a DataFrame of the predicted ratings for each item\n",
    "    predicted_ratings_svd = pd.DataFrame({'movie_id': unrated_items, 'predicted_rating': unrated_ratings_svd})\n",
    "\n",
    "    # sort the DataFrame in descending order of predicted rating and keep only the top-k items\n",
    "    top_k_svd = predicted_ratings_svd.sort_values(by=['predicted_rating'], ascending=False)[:5]\n",
    "\n",
    "    # combine the top-k items from the content-based and collaborative filtering recommender systems\n",
    "    top_k_hybrid = pd.concat([top_k_content_based_df, movie_data[movie_data['id_in_movielens'].isin(top_k_svd['movie_id'])]])\n",
    "\n",
    "    # add the top-k recommendations to the dictionaries\n",
    "    user_recommendations_hybrid[user] = top_k_hybrid['id_in_movielens'].tolist()[:5]\n"
   ],
   "metadata": {
    "collapsed": false
   }
  },
  {
   "cell_type": "code",
   "execution_count": 132,
   "outputs": [
    {
     "data": {
      "text/plain": "{1: [45, 127, 172, 246, 268],\n 2: [275, 100, 127, 242, 295],\n 3: [320, 321, 340, 346, 347],\n 4: [327, 329, 348, 359, 362],\n 5: [50, 408, 172, 181, 257],\n 6: [79, 482, 132, 493, 505],\n 7: [573, 670, 113, 132, 620],\n 8: [96, 195, 222, 227, 229],\n 9: [371, 50, 385, 483, 201],\n 10: [694, 60, 70, 319, 664],\n 11: [372, 70, 318, 107, 423],\n 12: [4, 69, 216, 238, 242],\n 13: [279, 770, 1439, 428, 662],\n 14: [96, 427, 428, 195, 923],\n 15: [50, 181, 297, 303, 308],\n 16: [11, 385, 79, 100, 282],\n 17: [7, 100, 475, 126, 150],\n 18: [45, 60, 1439, 486, 512],\n 19: [8, 319, 202, 325, 887],\n 20: [22, 496, 148, 174, 210],\n 21: [9, 123, 127, 656, 675],\n 22: [385, 127, 181, 187, 523],\n 23: [100, 116, 408, 175, 230],\n 24: [11, 69, 79, 127, 655],\n 25: [79, 408, 474, 479, 204],\n 26: [181, 515, 288, 750, 313],\n 27: [9, 123, 1017, 286, 288],\n 28: [573, 670, 176, 230, 288],\n 29: [12, 79, 286, 661, 268],\n 30: [69, 135, 242, 258, 313],\n 31: [32, 319, 175, 1019, 262],\n 32: [475, 181, 298, 246, 268],\n 33: [288, 323, 329, 348, 682],\n 34: [324, 292, 990, 898, 899],\n 35: [876, 881, 300, 937, 333],\n 36: [878, 1003, 1444, 358, 261],\n 37: [550, 50, 172, 174, 226],\n 38: [112, 409, 155, 451, 288],\n 39: [319, 288, 748, 302, 937],\n 40: [242, 305, 865, 337, 896],\n 41: [96, 474, 175, 180, 195],\n 42: [73, 132, 173, 181, 523],\n 43: [70, 385, 88, 100, 408],\n 44: [50, 64, 172, 520, 523],\n 45: [13, 50, 282, 181, 257],\n 46: [286, 748, 262, 305, 865],\n 47: [258, 327, 262, 305, 865],\n 48: [183, 428, 523, 209, 528],\n 49: [1017, 171, 428, 433, 262],\n 50: [1008, 1010, 319, 324, 268],\n 51: [50, 144, 172, 173, 181],\n 52: [277, 13, 19, 463, 1085],\n 53: [15, 546, 64, 628, 257],\n 54: [100, 117, 181, 307, 272],\n 55: [22, 50, 79, 118, 181],\n 56: [550, 385, 144, 183, 226],\n 57: [50, 64, 181, 288, 257],\n 58: [70, 584, 1101, 175, 203],\n 59: [60, 1439, 79, 662, 288],\n 60: [30, 615, 175, 515, 230],\n 61: [304, 500, 258, 300, 310],\n 62: [1129, 50, 512, 521, 528],\n 63: [10, 813, 286, 224, 333],\n 64: [48, 79, 183, 203, 288],\n 65: [9, 378, 77, 735, 88],\n 66: [763, 50, 127, 237, 300],\n 67: [273, 24, 105, 117, 125],\n 68: [276, 475, 286, 181, 258],\n 69: [50, 123, 172, 181, 288],\n 70: [172, 181, 183, 230, 257],\n 71: [168, 357, 197, 429, 257],\n 72: [770, 553, 318, 493, 521],\n 73: [64, 175, 197, 246, 268],\n 74: [13, 690, 340, 313, 315],\n 75: [13, 460, 79, 477, 222],\n 76: [60, 1154, 137, 513, 517],\n 77: [28, 641, 199, 246, 268],\n 78: [237, 288, 257, 301, 880],\n 79: [19, 582, 116, 285, 515],\n 80: [64, 86, 100, 483, 205],\n 81: [726, 79, 591, 475, 186],\n 82: [770, 588, 603, 133, 175],\n 83: [38, 79, 393, 88, 409],\n 84: [70, 79, 100, 408, 486],\n 85: [69, 1496, 482, 132, 428],\n 86: [242, 259, 269, 270, 888],\n 87: [38, 1185, 181, 216, 230],\n 88: [286, 326, 308, 311, 354],\n 89: [15, 50, 1074, 100, 107],\n 90: [60, 70, 387, 482, 505],\n 91: [79, 127, 187, 651, 429],\n 92: [1208, 1439, 304, 500, 428],\n 93: [1, 276, 118, 934, 866],\n 94: [47, 1439, 127, 132, 428],\n 95: [542, 423, 186, 515, 257],\n 96: [7, 56, 318, 127, 187],\n 97: [69, 96, 408, 132, 195],\n 98: [514, 428, 659, 523, 435],\n 99: [64, 174, 210, 329, 348],\n 100: [690, 272, 900, 347, 315],\n 101: [742, 147, 181, 288, 257],\n 102: [95, 175, 227, 230, 288],\n 103: [56, 487, 181, 294, 255],\n 104: [50, 181, 246, 268, 750],\n 105: [288, 327, 302, 270, 313],\n 106: [9, 318, 162, 191, 216],\n 107: [288, 246, 268, 312, 902],\n 108: [7, 281, 127, 319, 294],\n 109: [385, 79, 164, 288, 257],\n 110: [69, 402, 161, 288, 313],\n 111: [304, 500, 258, 302, 315],\n 112: [887, 272, 313, 1106, 315],\n 113: [975, 979, 257, 258, 328],\n 114: [474, 135, 172, 176, 522],\n 115: [7, 79, 100, 479, 176],\n 116: [11, 203, 288, 246, 268],\n 117: [11, 96, 282, 164, 179],\n 118: [79, 960, 100, 513, 288],\n 119: [7, 288, 257, 329, 348],\n 120: [15, 742, 127, 515, 258],\n 121: [717, 50, 127, 172, 257],\n 122: [699, 582, 86, 127, 197],\n 123: [9, 319, 504, 514, 242],\n 124: [7, 98, 144, 168, 195],\n 125: [79, 95, 172, 181, 710],\n 126: [876, 881, 266, 680, 337],\n 127: [62, 222, 230, 258, 343],\n 128: [955, 69, 133, 319, 186],\n 129: [304, 286, 242, 302, 311],\n 130: [79, 1276, 1496, 257, 261],\n 131: [276, 9, 242, 251, 536],\n 132: [56, 127, 484, 664, 251],\n 133: [269, 308, 271, 750, 272],\n 134: [1, 294, 678, 326, 338],\n 135: [5, 581, 98, 203, 327],\n 136: [9, 318, 127, 286, 258],\n 137: [385, 79, 405, 174, 210],\n 138: [12, 45, 56, 194, 662],\n 139: [100, 475, 297, 303, 1233],\n 140: [304, 500, 286, 297, 303],\n 141: [100, 409, 282, 291, 1023],\n 142: [91, 176, 514, 333, 346],\n 143: [288, 326, 333, 271, 313],\n 144: [100, 963, 242, 1138, 257],\n 145: [106, 123, 282, 150, 257],\n 146: [245, 336, 345, 272, 315],\n 147: [304, 500, 286, 750, 898],\n 148: [50, 69, 173, 181, 194],\n 149: [286, 340, 345, 313, 346],\n 150: [276, 123, 319, 288, 324],\n 151: [782, 922, 133, 512, 664],\n 152: [781, 1041, 785, 69, 88],\n 153: [79, 357, 182, 258, 265],\n 154: [474, 641, 197, 523, 238],\n 155: [288, 322, 872, 990, 331],\n 156: [9, 480, 178, 187, 651],\n 157: [100, 515, 235, 244, 313],\n 158: [385, 123, 742, 175, 194],\n 159: [7, 15, 405, 1095, 932],\n 160: [458, 100, 922, 127, 288],\n 161: [69, 100, 186, 272, 315],\n 162: [11, 79, 1011, 508, 237],\n 163: [28, 357, 258, 301, 272],\n 164: [100, 471, 405, 282, 742],\n 165: [15, 318, 127, 169, 222],\n 166: [984, 313, 751, 347, 315],\n 167: [318, 96, 512, 521, 530],\n 168: [126, 291, 1012, 300, 313],\n 169: [134, 213, 258, 300, 331],\n 170: [304, 500, 984, 322, 300],\n 171: [258, 262, 887, 272, 346],\n 172: [463, 124, 612, 642, 428],\n 173: [327, 995, 302, 690, 305],\n 174: [9, 69, 1439, 662, 747],\n 175: [11, 50, 98, 419, 172],\n 176: [150, 876, 881, 246, 268],\n 177: [60, 963, 127, 187, 288],\n 178: [69, 1439, 79, 735, 123],\n 179: [288, 333, 682, 914, 916],\n 180: [372, 729, 380, 733, 660],\n 181: [974, 100, 106, 282, 237],\n 182: [50, 596, 126, 479, 181],\n 183: [380, 176, 216, 229, 230],\n 184: [60, 1439, 387, 512, 428],\n 185: [47, 423, 181, 321, 258],\n 186: [1042, 77, 79, 159, 203],\n 187: [694, 65, 179, 428, 216],\n 188: [11, 318, 591, 199, 288],\n 189: [50, 792, 486, 150, 172],\n 190: [471, 237, 288, 272, 313],\n 191: [340, 750, 345, 900, 315],\n 192: [7, 9, 100, 284, 287],\n 193: [755, 69, 79, 282, 313],\n 194: [542, 60, 100, 136, 521],\n 195: [47, 127, 304, 500, 313],\n 196: [382, 411, 285, 153, 1022],\n 197: [50, 172, 183, 526, 230],\n 198: [127, 979, 132, 187, 428],\n 199: [9, 116, 408, 269, 313],\n 200: [378, 132, 423, 230, 288],\n 201: [47, 1208, 1268, 428, 288],\n 202: [96, 516, 195, 258, 269],\n 203: [815, 477, 150, 222, 288],\n 204: [9, 318, 242, 297, 1296],\n 205: [322, 242, 748, 300, 315],\n 206: [748, 269, 310, 272, 346],\n 207: [428, 521, 216, 242, 1379],\n 208: [371, 66, 393, 97, 194],\n 209: [1, 813, 1086, 127, 285],\n 210: [482, 132, 423, 172, 181],\n 211: [705, 423, 199, 205, 215],\n 212: [317, 199, 527, 246, 268],\n 213: [127, 187, 199, 521, 288],\n 214: [603, 319, 175, 427, 650],\n 215: [50, 132, 496, 172, 181],\n 216: [11, 735, 100, 238, 315],\n 217: [56, 79, 684, 403, 222],\n 218: [1073, 98, 603, 176, 183],\n 219: [382, 616, 631, 433, 258],\n 220: [289, 294, 300, 269, 340],\n 221: [1217, 550, 79, 1017, 150],\n 222: [723, 1439, 150, 230, 257],\n 223: [95, 155, 173, 1088, 313],\n 224: [553, 470, 402, 97, 313],\n 225: [478, 705, 603, 194, 215],\n 226: [713, 12, 109, 408, 203],\n 227: [13, 100, 129, 137, 319],\n 228: [275, 56, 812, 286, 750],\n 229: [288, 311, 344, 896, 898],\n 230: [79, 588, 132, 627, 515],\n 231: [15, 50, 471, 289, 300],\n 232: [582, 132, 690, 246, 268],\n 233: [70, 588, 127, 133, 521],\n 234: [45, 1439, 611, 1640, 662],\n 235: [50, 318, 1451, 512, 522],\n 236: [318, 282, 133, 520, 750],\n 237: [408, 474, 127, 169, 187],\n 238: [471, 405, 286, 257, 538],\n 239: [45, 150, 512, 428, 242],\n 240: [242, 302, 269, 272, 895],\n 241: [286, 288, 300, 246, 268],\n 242: [275, 740, 1355, 331, 268],\n 243: [8, 86, 1197, 477, 285],\n 244: [9, 521, 1119, 246, 268],\n 245: [717, 1033, 596, 597, 300],\n 246: [50, 172, 181, 433, 288],\n 247: [58, 64, 70, 258, 750],\n 248: [50, 98, 172, 176, 343],\n 249: [7, 603, 1011, 147, 257],\n 250: [458, 588, 100, 175, 288],\n 251: [45, 64, 79, 742, 313],\n 252: [1, 276, 475, 149, 286],\n 253: [588, 482, 132, 966, 490],\n 254: [542, 423, 172, 181, 313],\n 255: [56, 831, 219, 324, 682],\n 256: [5, 11, 79, 1150, 288],\n 257: [57, 60, 381, 113, 313],\n 258: [286, 294, 326, 328, 300],\n 259: [475, 147, 168, 172, 181],\n 260: [333, 334, 882, 270, 891],\n 261: [125, 288, 687, 245, 300],\n 262: [69, 486, 451, 288, 747],\n 263: [133, 141, 515, 199, 690],\n 264: [603, 150, 517, 204, 288],\n 265: [100, 117, 282, 237, 298],\n 266: [275, 9, 100, 285, 268],\n 267: [164, 176, 515, 203, 230],\n 268: [60, 79, 203, 230, 288],\n 269: [60, 132, 1017, 428, 521],\n 270: [60, 79, 581, 583, 319],\n 271: [79, 100, 428, 520, 521],\n 272: [23, 79, 194, 210, 211],\n 273: [246, 268, 272, 896, 315],\n 274: [9, 15, 69, 100, 629],\n 275: [164, 210, 450, 229, 230],\n 276: [723, 385, 79, 123, 428],\n 277: [925, 100, 619, 147, 258],\n 278: [286, 923, 288, 313, 752],\n 279: [1496, 486, 428, 230, 257],\n 280: [1217, 1041, 1439, 79, 486],\n 281: [304, 500, 748, 690, 271],\n 282: [319, 262, 268, 890, 343],\n 283: [91, 100, 409, 173, 202],\n 284: [301, 268, 272, 347, 315],\n 285: [100, 357, 194, 198, 302],\n 286: [372, 123, 428, 433, 888],\n 287: [9, 50, 64, 100, 222],\n 288: [22, 427, 520, 345, 211],\n 289: [363, 15, 109, 117, 742],\n 290: [28, 176, 183, 230, 257],\n 291: [573, 670, 79, 1496, 288],\n 292: [48, 64, 603, 486, 523],\n 293: [45, 1208, 1439, 127, 150],\n 294: [100, 123, 181, 515, 298],\n 295: [561, 60, 69, 70, 132],\n 296: [79, 100, 127, 297, 303],\n 297: [100, 109, 479, 603, 690],\n 298: [79, 88, 127, 482, 526],\n 299: [60, 512, 288, 747, 1379],\n 300: [1094, 409, 288, 876, 881],\n 301: [69, 109, 409, 150, 226],\n 302: [358, 266, 680, 301, 271],\n 303: [387, 123, 611, 319, 150],\n 304: [278, 763, 294, 300, 313],\n 305: [45, 486, 428, 650, 242],\n 306: [19, 285, 286, 1251, 257],\n 307: [50, 172, 181, 230, 257],\n 308: [770, 1496, 512, 428, 288],\n 309: [286, 258, 331, 1025, 334],\n 310: [50, 1142, 172, 181, 1386],\n 311: [1297, 1439, 966, 428, 230],\n 312: [70, 486, 505, 428, 521],\n 313: [770, 79, 486, 428, 662],\n 314: [38, 69, 1496, 132, 150],\n 315: [318, 286, 175, 428, 520],\n 316: [716, 582, 97, 286, 427],\n 317: [288, 748, 260, 264, 313],\n 318: [26, 70, 100, 482, 216],\n 319: [301, 332, 246, 268, 307],\n 320: [550, 385, 79, 470, 257],\n 321: [60, 132, 133, 611, 428],\n 322: [23, 64, 603, 157, 656],\n 323: [11, 23, 50, 64, 181],\n 324: [123, 282, 150, 288, 872],\n 325: [50, 1523, 482, 172, 647],\n 326: [493, 515, 428, 520, 230],\n 327: [482, 150, 428, 305, 865],\n 328: [1439, 684, 127, 133, 520],\n 329: [127, 137, 651, 198, 302],\n 330: [21, 385, 100, 496, 257],\n 331: [304, 500, 246, 1296, 682],\n 332: [385, 79, 841, 257, 327],\n 333: [100, 127, 153, 174, 520],\n 334: [60, 150, 428, 521, 288],\n 335: [322, 300, 307, 340, 902],\n 336: [26, 90, 1496, 204, 237],\n 337: [515, 520, 222, 227, 392],\n 338: [708, 513, 650, 197, 654],\n 339: [45, 74, 1439, 127, 428],\n 340: [15, 378, 95, 588, 173],\n 341: [872, 299, 876, 881, 1025],\n 342: [47, 482, 486, 319, 428],\n 343: [11, 60, 79, 521, 203],\n 344: [694, 372, 100, 408, 487],\n 345: [9, 781, 1439, 318, 150],\n 346: [1217, 550, 385, 79, 181],\n 347: [50, 77, 172, 181, 203],\n 348: [123, 126, 831, 323, 291],\n 349: [10, 20, 100, 284, 285],\n 350: [50, 127, 172, 181, 187],\n 351: [678, 258, 327, 332, 882],\n 352: [50, 79, 144, 172, 174],\n 353: [258, 332, 272, 313, 905],\n 354: [45, 60, 387, 319, 865],\n 355: [319, 286, 288, 1175, 1617],\n 356: [288, 258, 347, 1294, 315],\n 357: [597, 123, 932, 304, 147],\n 358: [318, 639, 512, 1006, 221],\n 359: [7, 50, 408, 286, 181],\n 360: [955, 45, 64, 520, 521],\n 361: [603, 611, 319, 514, 216],\n 362: [300, 879, 302, 332, 689],\n 363: [38, 1439, 150, 181, 428],\n 364: [286, 948, 325, 294, 678],\n 365: [100, 1137, 288, 246, 340],\n 366: [561, 98, 671, 675, 217],\n 367: [5, 98, 176, 183, 217],\n 368: [11, 573, 670, 184, 217],\n 369: [919, 50, 172, 246, 268],\n 370: [50, 172, 427, 181, 650],\n 371: [31, 77, 183, 523, 265],\n 372: [5, 79, 98, 288, 332],\n 373: [79, 1496, 496, 1640, 181],\n 374: [550, 79, 100, 1496, 288],\n 375: [1217, 183, 185, 288, 302],\n 376: [603, 198, 223, 246, 268],\n 377: [98, 173, 194, 200, 272],\n 378: [1439, 387, 79, 482, 428],\n 379: [47, 79, 100, 127, 428],\n 380: [60, 79, 318, 286, 512],\n 381: [479, 132, 611, 150, 517],\n 382: [23, 1268, 482, 235, 334],\n 383: [132, 496, 639, 286, 654],\n 384: [289, 989, 327, 302, 313],\n 385: [47, 512, 428, 305, 865],\n 386: [405, 117, 127, 840, 515],\n 387: [79, 100, 113, 1640, 428],\n 388: [219, 237, 288, 266, 680],\n 389: [1439, 1496, 486, 428, 664],\n 390: [1, 275, 9, 126, 302],\n 391: [9, 60, 963, 482, 132],\n 392: [50, 181, 303, 246, 268],\n 393: [1439, 79, 409, 1496, 428],\n 394: [79, 123, 230, 288, 257],\n 395: [423, 181, 257, 343, 750],\n 396: [974, 282, 742, 222, 333],\n 397: [50, 611, 615, 172, 181],\n 398: [1496, 482, 132, 496, 521],\n 399: [1217, 542, 1439, 1496, 288],\n 400: [304, 500, 288, 258, 313],\n 401: [735, 318, 482, 133, 428],\n 402: [95, 100, 408, 515, 204],\n 403: [7, 100, 405, 118, 147],\n 404: [22, 259, 690, 307, 272],\n 405: [1439, 397, 428, 288, 1405],\n 406: [372, 1439, 1496, 1640, 428],\n 407: [1496, 230, 288, 257, 345],\n 408: [242, 324, 327, 302, 315],\n 409: [45, 60, 79, 1449, 428],\n 410: [873, 269, 313, 905, 315],\n 411: [50, 79, 181, 210, 230],\n 412: [7, 96, 150, 195, 526],\n 413: [50, 100, 181, 515, 303],\n 414: [11, 288, 258, 272, 346],\n 415: [56, 136, 180, 748, 328],\n 416: [723, 1439, 1496, 428, 288],\n 417: [723, 1439, 1496, 428, 288],\n 418: [288, 258, 333, 895, 899],\n 419: [275, 50, 79, 100, 615],\n 420: [86, 100, 127, 251, 690],\n 421: [50, 79, 127, 172, 516],\n 422: [100, 219, 288, 257, 327],\n 423: [100, 591, 282, 620, 750],\n 424: [275, 100, 289, 294, 538],\n 425: [79, 1416, 230, 288, 257],\n 426: [318, 133, 489, 492, 657],\n 427: [1265, 937, 334, 359, 1296],\n 428: [288, 877, 272, 313, 1313],\n 429: [1439, 387, 611, 428, 662],\n 430: [100, 1347, 181, 297, 303],\n 431: [322, 294, 245, 328, 300],\n 432: [150, 181, 288, 293, 257],\n 433: [60, 137, 194, 246, 268],\n 434: [1197, 975, 1095, 477, 288],\n 435: [385, 1439, 1496, 230, 288],\n 436: [723, 127, 506, 187, 288],\n 437: [60, 1439, 319, 512, 428],\n 438: [815, 282, 237, 321, 257],\n 439: [237, 242, 257, 246, 268],\n 440: [304, 242, 1265, 937, 904],\n 442: [79, 150, 181, 230, 288],\n 444: [9, 100, 251, 328, 272],\n 445: [56, 79, 475, 340, 346],\n 446: [321, 292, 245, 302, 887],\n 447: [7, 963, 150, 288, 257],\n 448: [319, 321, 270, 345, 1602],\n 449: [60, 1195, 100, 639, 1005],\n 450: [60, 1439, 113, 428, 662],\n 451: [288, 327, 876, 881, 334],\n 452: [792, 69, 79, 482, 428],\n 453: [11, 100, 1496, 181, 288],\n 454: [279, 79, 486, 428, 520],\n 455: [385, 79, 428, 662, 257],\n 456: [60, 1496, 150, 662, 1379],\n 457: [1439, 304, 500, 428, 664],\n 458: [792, 79, 408, 127, 319],\n 459: [7, 932, 172, 181, 257],\n 460: [19, 100, 242, 297, 303],\n 462: [11, 655, 288, 322, 332]}"
     },
     "execution_count": 132,
     "metadata": {},
     "output_type": "execute_result"
    }
   ],
   "source": [
    "user_recommendations_hybrid"
   ],
   "metadata": {
    "collapsed": false
   }
  },
  {
   "cell_type": "markdown",
   "source": [
    "- Report Precision@5, MAP@5, MRR@5, the hit rate and coverage using ratings ≥ 3 in the test set."
   ],
   "metadata": {
    "collapsed": false
   }
  },
  {
   "cell_type": "markdown",
   "source": [
    "Precision@5"
   ],
   "metadata": {
    "collapsed": false
   }
  },
  {
   "cell_type": "code",
   "execution_count": 244,
   "outputs": [],
   "source": [
    "def calculate_precision_at_k(predictions, test_ratings, k, user_id):\n",
    "    #take top 3 recommendation for user\n",
    "    recommended_items = predictions[user_id][:k]\n",
    "    # print(recommended_items)\n",
    "    #actual ratings\n",
    "    rated_movies = test_ratings[(test_ratings['user_id']==user_id) & (test_ratings['rating']>=3)]['movie_id'].tolist()\n",
    "\n",
    "    # print(rated_movies)\n",
    "    # number of good recommendation\n",
    "    nr_rec = len(set(recommended_items) & set(rated_movies))\n",
    "\n",
    "    precision = nr_rec / k\n",
    "\n",
    "    return precision"
   ],
   "metadata": {
    "collapsed": false
   }
  },
  {
   "cell_type": "code",
   "execution_count": 245,
   "outputs": [
    {
     "data": {
      "text/plain": "0.2"
     },
     "execution_count": 245,
     "metadata": {},
     "output_type": "execute_result"
    }
   ],
   "source": [
    "calculate_precision_at_k(user_recommendations_hybrid_ws, test_data_df_2, 5, 23)\n"
   ],
   "metadata": {
    "collapsed": false
   }
  },
  {
   "cell_type": "code",
   "execution_count": 245,
   "outputs": [],
   "source": [],
   "metadata": {
    "collapsed": false
   }
  },
  {
   "cell_type": "code",
   "execution_count": 246,
   "outputs": [],
   "source": [
    "def calculate_average_precision_at_k_for_user(predictions, test_ratings, k, user_id):\n",
    "\n",
    "    sum=0\n",
    "    for i in range(k):\n",
    "        sum+=calculate_precision_at_k(predictions, test_ratings, i+1, user_id)\n",
    "    avg_precision = sum/k\n",
    "\n",
    "    return avg_precision"
   ],
   "metadata": {
    "collapsed": false
   }
  },
  {
   "cell_type": "code",
   "execution_count": 247,
   "outputs": [
    {
     "data": {
      "text/plain": "0.04"
     },
     "execution_count": 247,
     "metadata": {},
     "output_type": "execute_result"
    }
   ],
   "source": [
    "calculate_average_precision_at_k_for_user(user_recommendations_hybrid_ws, test_data_df_2, 5, 23)\n",
    "\n"
   ],
   "metadata": {
    "collapsed": false
   }
  },
  {
   "cell_type": "code",
   "execution_count": 262,
   "outputs": [],
   "source": [
    "def calculate_mean_average_precision_at_k(predictions, test_ratings, k):\n",
    "\n",
    "    sum=0\n",
    "    for user in test_ratings['user_id'].unique():\n",
    "        sum+=calculate_average_precision_at_k_for_user(predictions, test_ratings, i+1, user)\n",
    "    mean_avg_precision = sum/len(test_ratings['user_id'].unique())\n",
    "\n",
    "    return mean_avg_precision"
   ],
   "metadata": {
    "collapsed": false
   }
  },
  {
   "cell_type": "code",
   "execution_count": 263,
   "outputs": [
    {
     "data": {
      "text/plain": "0.09318082788671023"
     },
     "execution_count": 263,
     "metadata": {},
     "output_type": "execute_result"
    }
   ],
   "source": [
    "calculate_mean_average_precision_at_k(user_recommendations_hybrid_ws, test_data_df_2, 5)\n"
   ],
   "metadata": {
    "collapsed": false
   }
  },
  {
   "cell_type": "code",
   "execution_count": 264,
   "outputs": [
    {
     "name": "stdout",
     "output_type": "stream",
     "text": [
      "Precision@5 for hybrid model with weighted sum : 0.4000 for user: 213\n",
      "Precision@5 for hybrid model with Borda count and random selection: 0.4000 for user: 213\n",
      "Precision@5 for hybrid model with content-based and collaborative filtering: 0.0000 for user: 213\n"
     ]
    }
   ],
   "source": [
    "user_id_precision=213\n",
    "precision_hybrid_ws = calculate_precision_at_k(user_recommendations_hybrid_ws, test_data_df_2, 5,user_id_precision)\n",
    "print(f\"Precision@5 for hybrid model with weighted sum : {precision_hybrid_ws:.4f}\", f\"for user: {user_id_precision}\")\n",
    "\n",
    "precision_hybrid_ss = calculate_precision_at_k(user_recommendations_hybrid_ss, test_data_df_2, 5,user_id_precision)\n",
    "print(f\"Precision@5 for hybrid model with Borda count and random selection: {precision_hybrid_ss:.4f}\", f\"for user: {user_id_precision}\")\n",
    "\n",
    "precision_hybrid = calculate_precision_at_k(user_recommendations_hybrid, test_data_df_2, 5,user_id_precision)\n",
    "print(f\"Precision@5 for hybrid model with content-based and collaborative filtering: {precision_hybrid:.4f}\", f\"for user: {user_id_precision}\")\n"
   ],
   "metadata": {
    "collapsed": false
   }
  },
  {
   "cell_type": "code",
   "execution_count": 265,
   "outputs": [],
   "source": [
    "# def calculate_precision_at_k_all_User(predictions, test_ratings, k):\n",
    "#     precision = 0\n",
    "#     count = len(test_ratings['user_id'].unique())\n",
    "#     for user in test_ratings['user_id'].unique():\n",
    "#         # get the ground truth (items with rating ≥ 3)\n",
    "#         rated_movies = test_ratings[(test_ratings['user_id']==user) & (test_ratings['rating']>=3)]['movie_id'].tolist()\n",
    "#         if len(rated_movies) == 0:\n",
    "#             continue\n",
    "#\n",
    "#         # get the top-k recommended items\n",
    "#         recommended_items = predictions[user][:k]\n",
    "#\n",
    "#\n",
    "#         # calculate Precision@k\n",
    "#         tp = len(set(recommended_items) & set(rated_movies))\n",
    "#\n",
    "#         precision += tp / k\n",
    "#\n",
    "#     return precision / count if count > 0 else 0\n",
    "def calculate_precision_at_k_all_User(predictions, test_ratings, k):\n",
    "    precision = 0\n",
    "    count = len(test_ratings['user_id'].unique())\n",
    "    for user in test_ratings['user_id'].unique():\n",
    "        precision += calculate_precision_at_k(predictions, test_ratings, k, user)\n",
    "\n",
    "    return precision / count if count > 0 else 0"
   ],
   "metadata": {
    "collapsed": false
   }
  },
  {
   "cell_type": "code",
   "execution_count": 266,
   "outputs": [
    {
     "name": "stdout",
     "output_type": "stream",
     "text": [
      "Precision@5 for hybrid model with weighted sum: 0.1146\n",
      "Precision@5 for hybrid model with Borda count and random selection: 0.0580\n",
      "Precision@5 for hybrid model with content-based and collaborative filtering: 0.0039\n"
     ]
    }
   ],
   "source": [
    "average_precision_hybrid_ws = calculate_precision_at_k_all_User(user_recommendations_hybrid_ws, test_data_df_2, 5)\n",
    "print(f\"Precision@5 for hybrid model with weighted sum: {average_precision_hybrid_ws:.4f}\")\n",
    "\n",
    "average_precision_hybrid_ss = calculate_precision_at_k_all_User(user_recommendations_hybrid_ss, test_data_df_2, 5)\n",
    "print(f\"Precision@5 for hybrid model with Borda count and random selection: {average_precision_hybrid_ss:.4f}\")\n",
    "\n",
    "average_precision_hybrid = calculate_precision_at_k_all_User(user_recommendations_hybrid, test_data_df_2, 5)\n",
    "print(f\"Precision@5 for hybrid model with content-based and collaborative filtering: {average_precision_hybrid:.4f}\")\n"
   ],
   "metadata": {
    "collapsed": false
   }
  },
  {
   "cell_type": "markdown",
   "source": [
    "MAP@5"
   ],
   "metadata": {
    "collapsed": false
   }
  },
  {
   "cell_type": "code",
   "execution_count": 269,
   "outputs": [
    {
     "name": "stdout",
     "output_type": "stream",
     "text": [
      "MAP@5 for hybrid model with weighted sum: 0.0932\n",
      "MAP@5 for hybrid model with Borda count and random selection: 0.0495\n",
      "MAP@5 for hybrid model with content-based and collaborative filtering: 0.0027\n"
     ]
    }
   ],
   "source": [
    "mean_average_precision_hybrid_ws = calculate_mean_average_precision_at_k(user_recommendations_hybrid_ws, test_data_df_2, 5)\n",
    "print(f\"MAP@5 for hybrid model with weighted sum: {mean_average_precision_hybrid_ws:.4f}\")\n",
    "\n",
    "mean_average_precision_hybrid_ss = calculate_mean_average_precision_at_k(user_recommendations_hybrid_ss, test_data_df_2, 5)\n",
    "print(f\"MAP@5 for hybrid model with Borda count and random selection: {mean_average_precision_hybrid_ss:.4f}\")\n",
    "\n",
    "mean_average_precision_hybrid = calculate_mean_average_precision_at_k(user_recommendations_hybrid, test_data_df_2, 5)\n",
    "print(f\"MAP@5 for hybrid model with content-based and collaborative filtering: {mean_average_precision_hybrid:.4f}\")\n"
   ],
   "metadata": {
    "collapsed": false
   }
  },
  {
   "cell_type": "code",
   "execution_count": 259,
   "outputs": [],
   "source": [
    "# def calculate_mean_avarage_precision_at_k(predictions, test_ratings, k):\n",
    "#     mapk_hybrid = []\n",
    "#     # calculate MAP@k for each user and add it to the list\n",
    "#     for user in test_ratings['user_id'].unique():\n",
    "#         true_items = test_ratings[test_ratings['user_id'] == user]['movie_id'].tolist()\n",
    "#         print(f\"userid: {user}\")\n",
    "#         print(true_items)\n",
    "#         user_top_k = predictions[user]\n",
    "#         print(user_top_k)\n",
    "#         mapk_hybrid.append(mapk(user_top_k, true_items, k))\n",
    "#\n",
    "#     # calculate the average MAP@k for each model\n",
    "#     avg_mapk_user_based = np.mean(mapk_user_based)\n",
    "#     return  avg_mapk_user_based"
   ],
   "metadata": {
    "collapsed": false
   }
  },
  {
   "cell_type": "code",
   "execution_count": 260,
   "outputs": [],
   "source": [
    "\n",
    "\n",
    "# user_items_test = user_recommendations_hybrid.groupby('user_id')['item_id'].apply(list).to_dict()\n",
    "\n",
    "# mapk_scores = []\n",
    "#\n",
    "# for user in test_data_df_3['user_id'].unique():\n",
    "#     true_items = test_data_df_3[test_data_df_3['user_id'] == user]['movie_id'].tolist()\n",
    "#     recommended_items = user_recommendations_hybrid[user]\n",
    "#     mapk_score = mapk(recommended_items, true_items, 5)\n",
    "#     mapk_scores.append(mapk_score)\n",
    "#\n",
    "# mapk_mean = np.mean(mapk_scores)\n",
    "# print(f'MAP@5 using ratings >= 3 in the test set: {mapk_mean:.4f}')\n"
   ],
   "metadata": {
    "collapsed": false
   }
  },
  {
   "cell_type": "code",
   "execution_count": 260,
   "outputs": [],
   "source": [],
   "metadata": {
    "collapsed": false
   }
  },
  {
   "cell_type": "markdown",
   "source": [
    "MRR@5"
   ],
   "metadata": {
    "collapsed": false
   }
  },
  {
   "cell_type": "code",
   "execution_count": 272,
   "outputs": [],
   "source": [
    "def calculate_mrrk(predictions,test_data, k=5):\n",
    "\n",
    "    mrrk_all_users = 0.0\n",
    "    num_users = 0\n",
    "\n",
    "    for user_id in test_data['user_id'].unique():\n",
    "        user_ratings = test_data[test_data['user_id'] == user_id]\n",
    "        user_items = set(user_ratings[user_ratings['rating'] >= 3]['movie_id'])\n",
    "\n",
    "        if len(user_items) == 0:\n",
    "            continue\n",
    "\n",
    "        recommendations = predictions[user_id][:k]\n",
    "        mrrk_all_users += mrrk(recommendations, user_items, k)\n",
    "        num_users += 1\n",
    "\n",
    "    mrrk_all_users /= num_users\n",
    "\n",
    "    return mrrk_all_users"
   ],
   "metadata": {
    "collapsed": false
   }
  },
  {
   "cell_type": "code",
   "execution_count": 273,
   "outputs": [
    {
     "name": "stdout",
     "output_type": "stream",
     "text": [
      "MRR@5 for hybrid model with weighted sum: 0.1639\n",
      "MRR@5 for hybrid model with Borda count and random selection: 0.1009\n",
      "MRR@5 for hybrid model with content-based and collaborative filtering: 0.0027\n"
     ]
    }
   ],
   "source": [
    "mmr_hybrid_ws = calculate_mrrk(user_recommendations_hybrid_ws, test_data_df_2, 5)\n",
    "print(f\"MRR@5 for hybrid model with weighted sum: {mmr_hybrid_ws:.4f}\")\n",
    "\n",
    "mmr_hybrid_ss = calculate_mrrk(user_recommendations_hybrid_ss, test_data_df_2, 5)\n",
    "print(f\"MRR@5 for hybrid model with Borda count and random selection: {mmr_hybrid_ss:.4f}\")\n",
    "\n",
    "mmr_hybrid = calculate_mean_average_precision_at_k(user_recommendations_hybrid, test_data_df_2, 5)\n",
    "print(f\"MRR@5 for hybrid model with content-based and collaborative filtering: {mmr_hybrid:.4f}\")"
   ],
   "metadata": {
    "collapsed": false
   }
  },
  {
   "cell_type": "markdown",
   "source": [
    "Hit rate"
   ],
   "metadata": {
    "collapsed": false
   }
  },
  {
   "cell_type": "code",
   "execution_count": 275,
   "outputs": [],
   "source": [
    "def hit_rate(recommended, true, k):\n",
    "    if len(recommended) > k:\n",
    "        recommended = recommended[:k]\n",
    "    for item in recommended:\n",
    "        if item in true:\n",
    "            return 1\n",
    "    return 0"
   ],
   "metadata": {
    "collapsed": false
   }
  },
  {
   "cell_type": "code",
   "execution_count": 277,
   "outputs": [],
   "source": [
    "def calculate_hit_rate(predictions,test_data, k=5):\n",
    "\n",
    "    num_users = len(test_data['user_id'].unique())\n",
    "    total_hit_rate = 0.0\n",
    "\n",
    "    for user_id in test_data['user_id'].unique():\n",
    "        user_ratings = test_data[test_data['user_id'] == user_id]\n",
    "        user_items = set(user_ratings[user_ratings['rating'] >= 3]['movie_id'])\n",
    "\n",
    "        recommended_items = predictions[user_id][:k]\n",
    "        hit_rate_k = hit_rate(recommended_items, user_items, k)\n",
    "        total_hit_rate += hit_rate_k\n",
    "    avg_hit_rate = total_hit_rate / num_users\n",
    "\n",
    "    return avg_hit_rate"
   ],
   "metadata": {
    "collapsed": false
   }
  },
  {
   "cell_type": "code",
   "execution_count": 279,
   "outputs": [
    {
     "name": "stdout",
     "output_type": "stream",
     "text": [
      "Hit rate for hybrid model with weighted sum: 0.3529\n",
      "Hit rate for hybrid model with Borda count and random selection: 0.2288\n",
      "Hit rate for hybrid model with content-based and collaborative filtering: 0.0196\n"
     ]
    }
   ],
   "source": [
    "hit_rate_hybrid_ws = calculate_hit_rate(user_recommendations_hybrid_ws, test_data_df_2, 5)\n",
    "print(f\"Hit rate for hybrid model with weighted sum: {hit_rate_hybrid_ws:.4f}\")\n",
    "\n",
    "hit_rate_hybrid_ss = calculate_hit_rate(user_recommendations_hybrid_ss, test_data_df_2, 5)\n",
    "print(f\"Hit rate for hybrid model with Borda count and random selection: {hit_rate_hybrid_ss:.4f}\")\n",
    "\n",
    "hit_rate_hybrid = calculate_hit_rate(user_recommendations_hybrid, test_data_df_2, 5)\n",
    "print(f\"Hit rate for hybrid model with content-based and collaborative filtering: {hit_rate_hybrid:.4f}\")\n"
   ],
   "metadata": {
    "collapsed": false
   }
  },
  {
   "cell_type": "markdown",
   "source": [
    "coverage"
   ],
   "metadata": {
    "collapsed": false
   }
  },
  {
   "cell_type": "code",
   "execution_count": 282,
   "outputs": [],
   "source": [
    "def calculate_coverage(predictions, train_data, test_data, k=5):\n",
    "\n",
    "    all_items = set(train_data['movie_id'].unique())\n",
    "    recommended_items = set()\n",
    "\n",
    "    for user_id in test_data['user_id'].unique():\n",
    "        user_ratings = test_data[test_data['user_id'] == user_id]\n",
    "        user_items = set(user_ratings[user_ratings['rating'] >= 3]['movie_id'])\n",
    "        recommended_items.update(predictions[user_id][:k])\n",
    "\n",
    "    coverage = len(recommended_items.intersection(all_items)) / len(all_items) * 100\n",
    "\n",
    "    return coverage"
   ],
   "metadata": {
    "collapsed": false
   }
  },
  {
   "cell_type": "code",
   "execution_count": 284,
   "outputs": [
    {
     "name": "stdout",
     "output_type": "stream",
     "text": [
      "Coverage for hybrid model with weighted sum: 6.19%\n",
      "Coverage for hybrid model with Borda count and random selection: 24.64%\n",
      "Coverage for hybrid model with content-based and collaborative filtering: 32.47%\n"
     ]
    }
   ],
   "source": [
    "coverage_hybrid_ws = calculate_coverage(user_recommendations_hybrid_ws, train_data_df_2, test_data_df_2, 5)\n",
    "print(f\"Coverage for hybrid model with weighted sum: {coverage_hybrid_ws:.2f}%\")\n",
    "\n",
    "coverage_hybrid_ss = calculate_coverage(user_recommendations_hybrid_ss, train_data_df_2, test_data_df_2, 5)\n",
    "print(f\"Coverage for hybrid model with Borda count and random selection: {coverage_hybrid_ss:.2f}%\")\n",
    "\n",
    "coverage_hybrid = calculate_coverage(user_recommendations_hybrid, train_data_df_2, test_data_df_2, 5)\n",
    "print(f\"Coverage for hybrid model with content-based and collaborative filtering: {coverage_hybrid:.2f}%\")\n"
   ],
   "metadata": {
    "collapsed": false
   }
  },
  {
   "cell_type": "code",
   "execution_count": null,
   "outputs": [],
   "source": [],
   "metadata": {
    "collapsed": false
   }
  }
 ],
 "metadata": {
  "kernelspec": {
   "display_name": "Python 3 (ipykernel)",
   "language": "python",
   "name": "python3"
  },
  "language_info": {
   "codemirror_mode": {
    "name": "ipython",
    "version": 3
   },
   "file_extension": ".py",
   "mimetype": "text/x-python",
   "name": "python",
   "nbconvert_exporter": "python",
   "pygments_lexer": "ipython3",
   "version": "3.7.16"
  }
 },
 "nbformat": 4,
 "nbformat_minor": 5
}
