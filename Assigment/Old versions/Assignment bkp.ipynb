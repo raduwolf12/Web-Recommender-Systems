{
 "cells": [
  {
   "cell_type": "markdown",
   "id": "b3e9793b",
   "metadata": {},
   "source": [
    "# 1) Week 6"
   ]
  },
  {
   "cell_type": "code",
   "execution_count": 1,
   "id": "dbc7711a",
   "metadata": {},
   "outputs": [],
   "source": [
    "import json\n",
    "from builtins import bool\n",
    "\n",
    "import pandas as pd\n",
    "import gzip\n",
    "import numpy as np"
   ]
  },
  {
   "cell_type": "code",
   "execution_count": 2,
   "id": "cd56331e",
   "metadata": {},
   "outputs": [],
   "source": [
    "test_df = pd.read_csv('E:/Master/WebRecomandredSystems/test.data', sep='\\t', header=None)\n",
    "\n",
    "test_df.columns = ['user_id', 'movie_id','rating', 'timestamp']"
   ]
  },
  {
   "cell_type": "code",
   "execution_count": 3,
   "id": "e50fc93a",
   "metadata": {},
   "outputs": [],
   "source": [
    "train_df = pd.read_csv('E:/Master/WebRecomandredSystems/train.data', sep='\\t', header=None)\n",
    "\n",
    "train_df.columns = ['user_id', 'movie_id','rating', 'timestamp']\n"
   ]
  },
  {
   "cell_type": "code",
   "execution_count": 4,
   "id": "0f5ae8aa",
   "metadata": {},
   "outputs": [
    {
     "name": "stdout",
     "output_type": "stream",
     "text": [
      "   user_id  movie_id  rating  timestamp\n",
      "0        1         6       5  887431973\n",
      "1        1        10       3  875693118\n",
      "2        1        12       5  878542960\n",
      "3        1        14       5  874965706\n",
      "4        1        17       3  875073198\n",
      "Size: 20000\n"
     ]
    }
   ],
   "source": [
    "print(test_df.head())\n",
    "print(\"Size:\",test_df.shape[0])"
   ]
  },
  {
   "cell_type": "code",
   "execution_count": 5,
   "id": "4360199b",
   "metadata": {},
   "outputs": [
    {
     "name": "stdout",
     "output_type": "stream",
     "text": [
      "   user_id  movie_id  rating  timestamp\n",
      "0        1         1       5  874965758\n",
      "1        1         2       3  876893171\n",
      "2        1         3       4  878542960\n",
      "3        1         4       3  876893119\n",
      "4        1         5       3  889751712\n",
      "Size: 80000\n"
     ]
    }
   ],
   "source": [
    "print(train_df.head())\n",
    "print(\"Size:\",train_df.shape[0])\n"
   ]
  },
  {
   "cell_type": "markdown",
   "id": "f6818f19",
   "metadata": {},
   "source": [
    "Clean both splits from missing ratings and duplicates (cases where the same user has rated the same item multiple times) if any. Sort the duplicate entries in ascending order by user id, movie id, and timestamp. Keep only the last row, i.e., the most recent rating"
   ]
  },
  {
   "cell_type": "code",
   "execution_count": 6,
   "id": "1a014c81",
   "metadata": {},
   "outputs": [],
   "source": [
    "def data_cleaning(df):\n",
    "\n",
    "    df_cleaned = df.sort_values(by=['user_id', 'movie_id', 'timestamp'])\n",
    "    df_cleaned= df_cleaned.drop_duplicates(subset=['user_id', 'movie_id'])\n",
    "    df_cleaned= df_cleaned.dropna(subset=['rating'])\n",
    "\n",
    "    return df_cleaned"
   ]
  },
  {
   "cell_type": "code",
   "execution_count": 7,
   "id": "d6cc2bb6",
   "metadata": {},
   "outputs": [
    {
     "data": {
      "text/plain": "       user_id  movie_id  rating  timestamp\n0            1         6       5  887431973\n1            1        10       3  875693118\n2            1        12       5  878542960\n3            1        14       5  874965706\n4            1        17       3  875073198\n...        ...       ...     ...        ...\n19995      458       648       4  886395899\n19996      458      1101       4  886397931\n19997      459       934       3  879563639\n19998      460        10       3  882912371\n19999      462       682       5  886365231\n\n[20000 rows x 4 columns]",
      "text/html": "<div>\n<style scoped>\n    .dataframe tbody tr th:only-of-type {\n        vertical-align: middle;\n    }\n\n    .dataframe tbody tr th {\n        vertical-align: top;\n    }\n\n    .dataframe thead th {\n        text-align: right;\n    }\n</style>\n<table border=\"1\" class=\"dataframe\">\n  <thead>\n    <tr style=\"text-align: right;\">\n      <th></th>\n      <th>user_id</th>\n      <th>movie_id</th>\n      <th>rating</th>\n      <th>timestamp</th>\n    </tr>\n  </thead>\n  <tbody>\n    <tr>\n      <th>0</th>\n      <td>1</td>\n      <td>6</td>\n      <td>5</td>\n      <td>887431973</td>\n    </tr>\n    <tr>\n      <th>1</th>\n      <td>1</td>\n      <td>10</td>\n      <td>3</td>\n      <td>875693118</td>\n    </tr>\n    <tr>\n      <th>2</th>\n      <td>1</td>\n      <td>12</td>\n      <td>5</td>\n      <td>878542960</td>\n    </tr>\n    <tr>\n      <th>3</th>\n      <td>1</td>\n      <td>14</td>\n      <td>5</td>\n      <td>874965706</td>\n    </tr>\n    <tr>\n      <th>4</th>\n      <td>1</td>\n      <td>17</td>\n      <td>3</td>\n      <td>875073198</td>\n    </tr>\n    <tr>\n      <th>...</th>\n      <td>...</td>\n      <td>...</td>\n      <td>...</td>\n      <td>...</td>\n    </tr>\n    <tr>\n      <th>19995</th>\n      <td>458</td>\n      <td>648</td>\n      <td>4</td>\n      <td>886395899</td>\n    </tr>\n    <tr>\n      <th>19996</th>\n      <td>458</td>\n      <td>1101</td>\n      <td>4</td>\n      <td>886397931</td>\n    </tr>\n    <tr>\n      <th>19997</th>\n      <td>459</td>\n      <td>934</td>\n      <td>3</td>\n      <td>879563639</td>\n    </tr>\n    <tr>\n      <th>19998</th>\n      <td>460</td>\n      <td>10</td>\n      <td>3</td>\n      <td>882912371</td>\n    </tr>\n    <tr>\n      <th>19999</th>\n      <td>462</td>\n      <td>682</td>\n      <td>5</td>\n      <td>886365231</td>\n    </tr>\n  </tbody>\n</table>\n<p>20000 rows × 4 columns</p>\n</div>"
     },
     "execution_count": 7,
     "metadata": {},
     "output_type": "execute_result"
    }
   ],
   "source": [
    "test_df = data_cleaning(test_df)\n",
    "test_df"
   ]
  },
  {
   "cell_type": "code",
   "execution_count": 8,
   "id": "37fae4f3",
   "metadata": {},
   "outputs": [
    {
     "data": {
      "text/plain": "       user_id  movie_id  rating  timestamp\n0            1         1       5  874965758\n1            1         2       3  876893171\n2            1         3       4  878542960\n3            1         4       3  876893119\n4            1         5       3  889751712\n...        ...       ...     ...        ...\n79995      943      1067       2  875501756\n79996      943      1074       4  888640250\n79997      943      1188       3  888640250\n79998      943      1228       3  888640275\n79999      943      1330       3  888692465\n\n[80000 rows x 4 columns]",
      "text/html": "<div>\n<style scoped>\n    .dataframe tbody tr th:only-of-type {\n        vertical-align: middle;\n    }\n\n    .dataframe tbody tr th {\n        vertical-align: top;\n    }\n\n    .dataframe thead th {\n        text-align: right;\n    }\n</style>\n<table border=\"1\" class=\"dataframe\">\n  <thead>\n    <tr style=\"text-align: right;\">\n      <th></th>\n      <th>user_id</th>\n      <th>movie_id</th>\n      <th>rating</th>\n      <th>timestamp</th>\n    </tr>\n  </thead>\n  <tbody>\n    <tr>\n      <th>0</th>\n      <td>1</td>\n      <td>1</td>\n      <td>5</td>\n      <td>874965758</td>\n    </tr>\n    <tr>\n      <th>1</th>\n      <td>1</td>\n      <td>2</td>\n      <td>3</td>\n      <td>876893171</td>\n    </tr>\n    <tr>\n      <th>2</th>\n      <td>1</td>\n      <td>3</td>\n      <td>4</td>\n      <td>878542960</td>\n    </tr>\n    <tr>\n      <th>3</th>\n      <td>1</td>\n      <td>4</td>\n      <td>3</td>\n      <td>876893119</td>\n    </tr>\n    <tr>\n      <th>4</th>\n      <td>1</td>\n      <td>5</td>\n      <td>3</td>\n      <td>889751712</td>\n    </tr>\n    <tr>\n      <th>...</th>\n      <td>...</td>\n      <td>...</td>\n      <td>...</td>\n      <td>...</td>\n    </tr>\n    <tr>\n      <th>79995</th>\n      <td>943</td>\n      <td>1067</td>\n      <td>2</td>\n      <td>875501756</td>\n    </tr>\n    <tr>\n      <th>79996</th>\n      <td>943</td>\n      <td>1074</td>\n      <td>4</td>\n      <td>888640250</td>\n    </tr>\n    <tr>\n      <th>79997</th>\n      <td>943</td>\n      <td>1188</td>\n      <td>3</td>\n      <td>888640250</td>\n    </tr>\n    <tr>\n      <th>79998</th>\n      <td>943</td>\n      <td>1228</td>\n      <td>3</td>\n      <td>888640275</td>\n    </tr>\n    <tr>\n      <th>79999</th>\n      <td>943</td>\n      <td>1330</td>\n      <td>3</td>\n      <td>888692465</td>\n    </tr>\n  </tbody>\n</table>\n<p>80000 rows × 4 columns</p>\n</div>"
     },
     "execution_count": 8,
     "metadata": {},
     "output_type": "execute_result"
    }
   ],
   "source": [
    "train_df = data_cleaning(train_df)\n",
    "train_df"
   ]
  },
  {
   "cell_type": "markdown",
   "id": "340cd57b",
   "metadata": {},
   "source": [
    "Double check that all users from the test split also appear in the training\n",
    "set, and remove those that do not appear in training."
   ]
  },
  {
   "cell_type": "code",
   "execution_count": 9,
   "id": "32cddd13",
   "metadata": {},
   "outputs": [
    {
     "name": "stdout",
     "output_type": "stream",
     "text": [
      "Training split: 80000\n",
      "Test split: 20000\n"
     ]
    }
   ],
   "source": [
    "# Find the set of users that appear in both the training and test splits\n",
    "test_users= test_df['user_id'].unique()\n",
    "train_users = train_df['user_id'].unique()\n",
    "common_users = set(train_users).intersection(set(test_users))\n",
    "# Convert the result back to a NumPy array\n",
    "common_users = np.array(list(common_users))\n",
    "# print('Common users:', len(common_users))\n",
    "\n",
    "# Remove any users from the test split that do not appear in the training split\n",
    "test_df = test_df[test_df['user_id'].isin(common_users)]\n",
    "\n",
    "# Print the number of rows in the training and test splits to verify that users were removed correctly\n",
    "print('Training split:', len(train_df))\n",
    "print('Test split:', len(test_df))"
   ]
  },
  {
   "cell_type": "markdown",
   "id": "1349423a",
   "metadata": {},
   "source": [
    "- The id map.csv mapping table contains two fields:\n",
    "1) id in movielens, which is the movie ID in the MovieLens 100K dataset; and\n",
    "2) id in metadata, which is the movie ID in the movies metadata.csv file.\n",
    "For each movie in MovieLens 100K, use the mapping table to get the corresponding overview column in the movies metadata.csv file. Not all movies have a mapping, so after steps (2) and (3) you will need to discard movies that do not have a mapping from all splits"
   ]
  },
  {
   "cell_type": "code",
   "execution_count": 10,
   "id": "05c5a803",
   "metadata": {},
   "outputs": [
    {
     "data": {
      "text/plain": "      id_in_movielens  id_in_metadata\n0                   1             862\n1                   2             710\n2                   3               5\n3                   4            8012\n4                   5            1710\n...               ...             ...\n1496             1640           36998\n1497             1643            2892\n1498             1657          124639\n1499             1673          226229\n1500             1676           59232\n\n[1501 rows x 2 columns]",
      "text/html": "<div>\n<style scoped>\n    .dataframe tbody tr th:only-of-type {\n        vertical-align: middle;\n    }\n\n    .dataframe tbody tr th {\n        vertical-align: top;\n    }\n\n    .dataframe thead th {\n        text-align: right;\n    }\n</style>\n<table border=\"1\" class=\"dataframe\">\n  <thead>\n    <tr style=\"text-align: right;\">\n      <th></th>\n      <th>id_in_movielens</th>\n      <th>id_in_metadata</th>\n    </tr>\n  </thead>\n  <tbody>\n    <tr>\n      <th>0</th>\n      <td>1</td>\n      <td>862</td>\n    </tr>\n    <tr>\n      <th>1</th>\n      <td>2</td>\n      <td>710</td>\n    </tr>\n    <tr>\n      <th>2</th>\n      <td>3</td>\n      <td>5</td>\n    </tr>\n    <tr>\n      <th>3</th>\n      <td>4</td>\n      <td>8012</td>\n    </tr>\n    <tr>\n      <th>4</th>\n      <td>5</td>\n      <td>1710</td>\n    </tr>\n    <tr>\n      <th>...</th>\n      <td>...</td>\n      <td>...</td>\n    </tr>\n    <tr>\n      <th>1496</th>\n      <td>1640</td>\n      <td>36998</td>\n    </tr>\n    <tr>\n      <th>1497</th>\n      <td>1643</td>\n      <td>2892</td>\n    </tr>\n    <tr>\n      <th>1498</th>\n      <td>1657</td>\n      <td>124639</td>\n    </tr>\n    <tr>\n      <th>1499</th>\n      <td>1673</td>\n      <td>226229</td>\n    </tr>\n    <tr>\n      <th>1500</th>\n      <td>1676</td>\n      <td>59232</td>\n    </tr>\n  </tbody>\n</table>\n<p>1501 rows × 2 columns</p>\n</div>"
     },
     "execution_count": 10,
     "metadata": {},
     "output_type": "execute_result"
    }
   ],
   "source": [
    "# Load the mapping table\n",
    "mapping_table = pd.read_csv('id_map.csv')\n",
    "mapping_table"
   ]
  },
  {
   "cell_type": "code",
   "execution_count": 11,
   "id": "688e21b7",
   "metadata": {},
   "outputs": [
    {
     "name": "stderr",
     "output_type": "stream",
     "text": [
      "E:\\Programe\\Anaconda3\\envs\\web\\lib\\site-packages\\IPython\\core\\interactiveshell.py:3457: DtypeWarning: Columns (10) have mixed types.Specify dtype option on import or set low_memory=False.\n",
      "  exec(code_obj, self.user_global_ns, self.user_ns)\n"
     ]
    },
    {
     "data": {
      "text/plain": "       adult                              belongs_to_collection    budget  \\\n0      False  {'id': 10194, 'name': 'Toy Story Collection', ...  30000000   \n1      False                                                NaN  65000000   \n2      False  {'id': 119050, 'name': 'Grumpy Old Men Collect...         0   \n3      False                                                NaN  16000000   \n4      False  {'id': 96871, 'name': 'Father of the Bride Col...         0   \n...      ...                                                ...       ...   \n45461  False                                                NaN         0   \n45462  False                                                NaN         0   \n45463  False                                                NaN         0   \n45464  False                                                NaN         0   \n45465  False                                                NaN         0   \n\n                                                  genres  \\\n0      [{'id': 16, 'name': 'Animation'}, {'id': 35, '...   \n1      [{'id': 12, 'name': 'Adventure'}, {'id': 14, '...   \n2      [{'id': 10749, 'name': 'Romance'}, {'id': 35, ...   \n3      [{'id': 35, 'name': 'Comedy'}, {'id': 18, 'nam...   \n4                         [{'id': 35, 'name': 'Comedy'}]   \n...                                                  ...   \n45461  [{'id': 18, 'name': 'Drama'}, {'id': 10751, 'n...   \n45462                      [{'id': 18, 'name': 'Drama'}]   \n45463  [{'id': 28, 'name': 'Action'}, {'id': 18, 'nam...   \n45464                                                 []   \n45465                                                 []   \n\n                                   homepage      id    imdb_id  \\\n0      http://toystory.disney.com/toy-story     862  tt0114709   \n1                                       NaN    8844  tt0113497   \n2                                       NaN   15602  tt0113228   \n3                                       NaN   31357  tt0114885   \n4                                       NaN   11862  tt0113041   \n...                                     ...     ...        ...   \n45461  http://www.imdb.com/title/tt6209470/  439050  tt6209470   \n45462                                   NaN  111109  tt2028550   \n45463                                   NaN   67758  tt0303758   \n45464                                   NaN  227506  tt0008536   \n45465                                   NaN  461257  tt6980792   \n\n      original_language               original_title  \\\n0                    en                    Toy Story   \n1                    en                      Jumanji   \n2                    en             Grumpier Old Men   \n3                    en            Waiting to Exhale   \n4                    en  Father of the Bride Part II   \n...                 ...                          ...   \n45461                fa                      رگ خواب   \n45462                tl          Siglo ng Pagluluwal   \n45463                en                     Betrayal   \n45464                en          Satana likuyushchiy   \n45465                en                     Queerama   \n\n                                                overview  ... release_date  \\\n0      Led by Woody, Andy's toys live happily in his ...  ...   1995-10-30   \n1      When siblings Judy and Peter discover an encha...  ...   1995-12-15   \n2      A family wedding reignites the ancient feud be...  ...   1995-12-22   \n3      Cheated on, mistreated and stepped on, the wom...  ...   1995-12-22   \n4      Just when George Banks has recovered from his ...  ...   1995-02-10   \n...                                                  ...  ...          ...   \n45461        Rising and falling between a man and woman.  ...          NaN   \n45462  An artist struggles to finish his work while a...  ...   2011-11-17   \n45463  When one of her hits goes wrong, a professiona...  ...   2003-08-01   \n45464  In a small town live two brothers, one a minis...  ...   1917-10-21   \n45465  50 years after decriminalisation of homosexual...  ...   2017-06-09   \n\n           revenue runtime                                   spoken_languages  \\\n0      373554033.0    81.0           [{'iso_639_1': 'en', 'name': 'English'}]   \n1      262797249.0   104.0  [{'iso_639_1': 'en', 'name': 'English'}, {'iso...   \n2              0.0   101.0           [{'iso_639_1': 'en', 'name': 'English'}]   \n3       81452156.0   127.0           [{'iso_639_1': 'en', 'name': 'English'}]   \n4       76578911.0   106.0           [{'iso_639_1': 'en', 'name': 'English'}]   \n...            ...     ...                                                ...   \n45461          0.0    90.0             [{'iso_639_1': 'fa', 'name': 'فارسی'}]   \n45462          0.0   360.0                  [{'iso_639_1': 'tl', 'name': ''}]   \n45463          0.0    90.0           [{'iso_639_1': 'en', 'name': 'English'}]   \n45464          0.0    87.0                                                 []   \n45465          0.0    75.0           [{'iso_639_1': 'en', 'name': 'English'}]   \n\n         status                                            tagline  \\\n0      Released                                                NaN   \n1      Released          Roll the dice and unleash the excitement!   \n2      Released  Still Yelling. Still Fighting. Still Ready for...   \n3      Released  Friends are the people who let you be yourself...   \n4      Released  Just When His World Is Back To Normal... He's ...   \n...         ...                                                ...   \n45461  Released         Rising and falling between a man and woman   \n45462  Released                                                NaN   \n45463  Released                             A deadly game of wits.   \n45464  Released                                                NaN   \n45465  Released                                                NaN   \n\n                             title  video vote_average vote_count  \n0                        Toy Story  False          7.7     5415.0  \n1                          Jumanji  False          6.9     2413.0  \n2                 Grumpier Old Men  False          6.5       92.0  \n3                Waiting to Exhale  False          6.1       34.0  \n4      Father of the Bride Part II  False          5.7      173.0  \n...                            ...    ...          ...        ...  \n45461                       Subdue  False          4.0        1.0  \n45462          Century of Birthing  False          9.0        3.0  \n45463                     Betrayal  False          3.8        6.0  \n45464             Satan Triumphant  False          0.0        0.0  \n45465                     Queerama  False          0.0        0.0  \n\n[45466 rows x 24 columns]",
      "text/html": "<div>\n<style scoped>\n    .dataframe tbody tr th:only-of-type {\n        vertical-align: middle;\n    }\n\n    .dataframe tbody tr th {\n        vertical-align: top;\n    }\n\n    .dataframe thead th {\n        text-align: right;\n    }\n</style>\n<table border=\"1\" class=\"dataframe\">\n  <thead>\n    <tr style=\"text-align: right;\">\n      <th></th>\n      <th>adult</th>\n      <th>belongs_to_collection</th>\n      <th>budget</th>\n      <th>genres</th>\n      <th>homepage</th>\n      <th>id</th>\n      <th>imdb_id</th>\n      <th>original_language</th>\n      <th>original_title</th>\n      <th>overview</th>\n      <th>...</th>\n      <th>release_date</th>\n      <th>revenue</th>\n      <th>runtime</th>\n      <th>spoken_languages</th>\n      <th>status</th>\n      <th>tagline</th>\n      <th>title</th>\n      <th>video</th>\n      <th>vote_average</th>\n      <th>vote_count</th>\n    </tr>\n  </thead>\n  <tbody>\n    <tr>\n      <th>0</th>\n      <td>False</td>\n      <td>{'id': 10194, 'name': 'Toy Story Collection', ...</td>\n      <td>30000000</td>\n      <td>[{'id': 16, 'name': 'Animation'}, {'id': 35, '...</td>\n      <td>http://toystory.disney.com/toy-story</td>\n      <td>862</td>\n      <td>tt0114709</td>\n      <td>en</td>\n      <td>Toy Story</td>\n      <td>Led by Woody, Andy's toys live happily in his ...</td>\n      <td>...</td>\n      <td>1995-10-30</td>\n      <td>373554033.0</td>\n      <td>81.0</td>\n      <td>[{'iso_639_1': 'en', 'name': 'English'}]</td>\n      <td>Released</td>\n      <td>NaN</td>\n      <td>Toy Story</td>\n      <td>False</td>\n      <td>7.7</td>\n      <td>5415.0</td>\n    </tr>\n    <tr>\n      <th>1</th>\n      <td>False</td>\n      <td>NaN</td>\n      <td>65000000</td>\n      <td>[{'id': 12, 'name': 'Adventure'}, {'id': 14, '...</td>\n      <td>NaN</td>\n      <td>8844</td>\n      <td>tt0113497</td>\n      <td>en</td>\n      <td>Jumanji</td>\n      <td>When siblings Judy and Peter discover an encha...</td>\n      <td>...</td>\n      <td>1995-12-15</td>\n      <td>262797249.0</td>\n      <td>104.0</td>\n      <td>[{'iso_639_1': 'en', 'name': 'English'}, {'iso...</td>\n      <td>Released</td>\n      <td>Roll the dice and unleash the excitement!</td>\n      <td>Jumanji</td>\n      <td>False</td>\n      <td>6.9</td>\n      <td>2413.0</td>\n    </tr>\n    <tr>\n      <th>2</th>\n      <td>False</td>\n      <td>{'id': 119050, 'name': 'Grumpy Old Men Collect...</td>\n      <td>0</td>\n      <td>[{'id': 10749, 'name': 'Romance'}, {'id': 35, ...</td>\n      <td>NaN</td>\n      <td>15602</td>\n      <td>tt0113228</td>\n      <td>en</td>\n      <td>Grumpier Old Men</td>\n      <td>A family wedding reignites the ancient feud be...</td>\n      <td>...</td>\n      <td>1995-12-22</td>\n      <td>0.0</td>\n      <td>101.0</td>\n      <td>[{'iso_639_1': 'en', 'name': 'English'}]</td>\n      <td>Released</td>\n      <td>Still Yelling. Still Fighting. Still Ready for...</td>\n      <td>Grumpier Old Men</td>\n      <td>False</td>\n      <td>6.5</td>\n      <td>92.0</td>\n    </tr>\n    <tr>\n      <th>3</th>\n      <td>False</td>\n      <td>NaN</td>\n      <td>16000000</td>\n      <td>[{'id': 35, 'name': 'Comedy'}, {'id': 18, 'nam...</td>\n      <td>NaN</td>\n      <td>31357</td>\n      <td>tt0114885</td>\n      <td>en</td>\n      <td>Waiting to Exhale</td>\n      <td>Cheated on, mistreated and stepped on, the wom...</td>\n      <td>...</td>\n      <td>1995-12-22</td>\n      <td>81452156.0</td>\n      <td>127.0</td>\n      <td>[{'iso_639_1': 'en', 'name': 'English'}]</td>\n      <td>Released</td>\n      <td>Friends are the people who let you be yourself...</td>\n      <td>Waiting to Exhale</td>\n      <td>False</td>\n      <td>6.1</td>\n      <td>34.0</td>\n    </tr>\n    <tr>\n      <th>4</th>\n      <td>False</td>\n      <td>{'id': 96871, 'name': 'Father of the Bride Col...</td>\n      <td>0</td>\n      <td>[{'id': 35, 'name': 'Comedy'}]</td>\n      <td>NaN</td>\n      <td>11862</td>\n      <td>tt0113041</td>\n      <td>en</td>\n      <td>Father of the Bride Part II</td>\n      <td>Just when George Banks has recovered from his ...</td>\n      <td>...</td>\n      <td>1995-02-10</td>\n      <td>76578911.0</td>\n      <td>106.0</td>\n      <td>[{'iso_639_1': 'en', 'name': 'English'}]</td>\n      <td>Released</td>\n      <td>Just When His World Is Back To Normal... He's ...</td>\n      <td>Father of the Bride Part II</td>\n      <td>False</td>\n      <td>5.7</td>\n      <td>173.0</td>\n    </tr>\n    <tr>\n      <th>...</th>\n      <td>...</td>\n      <td>...</td>\n      <td>...</td>\n      <td>...</td>\n      <td>...</td>\n      <td>...</td>\n      <td>...</td>\n      <td>...</td>\n      <td>...</td>\n      <td>...</td>\n      <td>...</td>\n      <td>...</td>\n      <td>...</td>\n      <td>...</td>\n      <td>...</td>\n      <td>...</td>\n      <td>...</td>\n      <td>...</td>\n      <td>...</td>\n      <td>...</td>\n      <td>...</td>\n    </tr>\n    <tr>\n      <th>45461</th>\n      <td>False</td>\n      <td>NaN</td>\n      <td>0</td>\n      <td>[{'id': 18, 'name': 'Drama'}, {'id': 10751, 'n...</td>\n      <td>http://www.imdb.com/title/tt6209470/</td>\n      <td>439050</td>\n      <td>tt6209470</td>\n      <td>fa</td>\n      <td>رگ خواب</td>\n      <td>Rising and falling between a man and woman.</td>\n      <td>...</td>\n      <td>NaN</td>\n      <td>0.0</td>\n      <td>90.0</td>\n      <td>[{'iso_639_1': 'fa', 'name': 'فارسی'}]</td>\n      <td>Released</td>\n      <td>Rising and falling between a man and woman</td>\n      <td>Subdue</td>\n      <td>False</td>\n      <td>4.0</td>\n      <td>1.0</td>\n    </tr>\n    <tr>\n      <th>45462</th>\n      <td>False</td>\n      <td>NaN</td>\n      <td>0</td>\n      <td>[{'id': 18, 'name': 'Drama'}]</td>\n      <td>NaN</td>\n      <td>111109</td>\n      <td>tt2028550</td>\n      <td>tl</td>\n      <td>Siglo ng Pagluluwal</td>\n      <td>An artist struggles to finish his work while a...</td>\n      <td>...</td>\n      <td>2011-11-17</td>\n      <td>0.0</td>\n      <td>360.0</td>\n      <td>[{'iso_639_1': 'tl', 'name': ''}]</td>\n      <td>Released</td>\n      <td>NaN</td>\n      <td>Century of Birthing</td>\n      <td>False</td>\n      <td>9.0</td>\n      <td>3.0</td>\n    </tr>\n    <tr>\n      <th>45463</th>\n      <td>False</td>\n      <td>NaN</td>\n      <td>0</td>\n      <td>[{'id': 28, 'name': 'Action'}, {'id': 18, 'nam...</td>\n      <td>NaN</td>\n      <td>67758</td>\n      <td>tt0303758</td>\n      <td>en</td>\n      <td>Betrayal</td>\n      <td>When one of her hits goes wrong, a professiona...</td>\n      <td>...</td>\n      <td>2003-08-01</td>\n      <td>0.0</td>\n      <td>90.0</td>\n      <td>[{'iso_639_1': 'en', 'name': 'English'}]</td>\n      <td>Released</td>\n      <td>A deadly game of wits.</td>\n      <td>Betrayal</td>\n      <td>False</td>\n      <td>3.8</td>\n      <td>6.0</td>\n    </tr>\n    <tr>\n      <th>45464</th>\n      <td>False</td>\n      <td>NaN</td>\n      <td>0</td>\n      <td>[]</td>\n      <td>NaN</td>\n      <td>227506</td>\n      <td>tt0008536</td>\n      <td>en</td>\n      <td>Satana likuyushchiy</td>\n      <td>In a small town live two brothers, one a minis...</td>\n      <td>...</td>\n      <td>1917-10-21</td>\n      <td>0.0</td>\n      <td>87.0</td>\n      <td>[]</td>\n      <td>Released</td>\n      <td>NaN</td>\n      <td>Satan Triumphant</td>\n      <td>False</td>\n      <td>0.0</td>\n      <td>0.0</td>\n    </tr>\n    <tr>\n      <th>45465</th>\n      <td>False</td>\n      <td>NaN</td>\n      <td>0</td>\n      <td>[]</td>\n      <td>NaN</td>\n      <td>461257</td>\n      <td>tt6980792</td>\n      <td>en</td>\n      <td>Queerama</td>\n      <td>50 years after decriminalisation of homosexual...</td>\n      <td>...</td>\n      <td>2017-06-09</td>\n      <td>0.0</td>\n      <td>75.0</td>\n      <td>[{'iso_639_1': 'en', 'name': 'English'}]</td>\n      <td>Released</td>\n      <td>NaN</td>\n      <td>Queerama</td>\n      <td>False</td>\n      <td>0.0</td>\n      <td>0.0</td>\n    </tr>\n  </tbody>\n</table>\n<p>45466 rows × 24 columns</p>\n</div>"
     },
     "execution_count": 11,
     "metadata": {},
     "output_type": "execute_result"
    }
   ],
   "source": [
    "# Load the metadata file\n",
    "# metadata = pd.read_csv('movies_metadata.csv', usecols=['id', 'overview'])\n",
    "metadata = pd.read_csv('movies_metadata.csv')\n",
    "metadata"
   ]
  },
  {
   "cell_type": "code",
   "execution_count": 12,
   "id": "a3450e09",
   "metadata": {},
   "outputs": [
    {
     "name": "stdout",
     "output_type": "stream",
     "text": [
      "id_in_movielens    int64\n",
      "id_in_metadata     int64\n",
      "dtype: object\n",
      "adult                     object\n",
      "belongs_to_collection     object\n",
      "budget                    object\n",
      "genres                    object\n",
      "homepage                  object\n",
      "id                        object\n",
      "imdb_id                   object\n",
      "original_language         object\n",
      "original_title            object\n",
      "overview                  object\n",
      "popularity                object\n",
      "poster_path               object\n",
      "production_companies      object\n",
      "production_countries      object\n",
      "release_date              object\n",
      "revenue                  float64\n",
      "runtime                  float64\n",
      "spoken_languages          object\n",
      "status                    object\n",
      "tagline                   object\n",
      "title                     object\n",
      "video                     object\n",
      "vote_average             float64\n",
      "vote_count               float64\n",
      "dtype: object\n"
     ]
    }
   ],
   "source": [
    "print(mapping_table.dtypes)\n",
    "print(metadata.dtypes)"
   ]
  },
  {
   "cell_type": "code",
   "execution_count": 13,
   "id": "781c1387",
   "metadata": {},
   "outputs": [],
   "source": [
    "#remove rows that had invalide id's\n",
    "metadata = metadata[pd.to_numeric(metadata['id'], errors='coerce').notna()]\n",
    "\n"
   ]
  },
  {
   "cell_type": "code",
   "execution_count": 14,
   "id": "133b2e21",
   "metadata": {},
   "outputs": [
    {
     "data": {
      "text/plain": "0           862\n1          8844\n2         15602\n3         31357\n4         11862\n          ...  \n45461    439050\n45462    111109\n45463     67758\n45464    227506\n45465    461257\nName: id, Length: 45463, dtype: int32"
     },
     "execution_count": 14,
     "metadata": {},
     "output_type": "execute_result"
    }
   ],
   "source": [
    "# Convert the 'id' column in metadata to int64\n",
    "metadata_copy = metadata.copy()\n",
    "metadata_copy['id'] = metadata_copy['id'].astype(int)\n",
    "metadata_copy['id']\n"
   ]
  },
  {
   "cell_type": "code",
   "execution_count": 15,
   "id": "cc840bdf",
   "metadata": {},
   "outputs": [
    {
     "name": "stdout",
     "output_type": "stream",
     "text": [
      "id_in_movielens    int64\n",
      "id_in_metadata     int64\n",
      "dtype: object\n",
      "adult                     object\n",
      "belongs_to_collection     object\n",
      "budget                    object\n",
      "genres                    object\n",
      "homepage                  object\n",
      "id                        object\n",
      "imdb_id                   object\n",
      "original_language         object\n",
      "original_title            object\n",
      "overview                  object\n",
      "popularity                object\n",
      "poster_path               object\n",
      "production_companies      object\n",
      "production_countries      object\n",
      "release_date              object\n",
      "revenue                  float64\n",
      "runtime                  float64\n",
      "spoken_languages          object\n",
      "status                    object\n",
      "tagline                   object\n",
      "title                     object\n",
      "video                     object\n",
      "vote_average             float64\n",
      "vote_count               float64\n",
      "dtype: object\n"
     ]
    }
   ],
   "source": [
    "print(mapping_table.dtypes)\n",
    "print(metadata.dtypes)"
   ]
  },
  {
   "cell_type": "code",
   "execution_count": 16,
   "id": "9574b77a",
   "metadata": {},
   "outputs": [
    {
     "data": {
      "text/plain": "       adult                              belongs_to_collection    budget  \\\n0      False  {'id': 10194, 'name': 'Toy Story Collection', ...  30000000   \n1      False                                                NaN  65000000   \n2      False  {'id': 119050, 'name': 'Grumpy Old Men Collect...         0   \n3      False                                                NaN  16000000   \n4      False  {'id': 96871, 'name': 'Father of the Bride Col...         0   \n...      ...                                                ...       ...   \n45461  False                                                NaN         0   \n45462  False                                                NaN         0   \n45463  False                                                NaN         0   \n45464  False                                                NaN         0   \n45465  False                                                NaN         0   \n\n                                                  genres  \\\n0      [{'id': 16, 'name': 'Animation'}, {'id': 35, '...   \n1      [{'id': 12, 'name': 'Adventure'}, {'id': 14, '...   \n2      [{'id': 10749, 'name': 'Romance'}, {'id': 35, ...   \n3      [{'id': 35, 'name': 'Comedy'}, {'id': 18, 'nam...   \n4                         [{'id': 35, 'name': 'Comedy'}]   \n...                                                  ...   \n45461  [{'id': 18, 'name': 'Drama'}, {'id': 10751, 'n...   \n45462                      [{'id': 18, 'name': 'Drama'}]   \n45463  [{'id': 28, 'name': 'Action'}, {'id': 18, 'nam...   \n45464                                                 []   \n45465                                                 []   \n\n                                   homepage      id    imdb_id  \\\n0      http://toystory.disney.com/toy-story     862  tt0114709   \n1                                       NaN    8844  tt0113497   \n2                                       NaN   15602  tt0113228   \n3                                       NaN   31357  tt0114885   \n4                                       NaN   11862  tt0113041   \n...                                     ...     ...        ...   \n45461  http://www.imdb.com/title/tt6209470/  439050  tt6209470   \n45462                                   NaN  111109  tt2028550   \n45463                                   NaN   67758  tt0303758   \n45464                                   NaN  227506  tt0008536   \n45465                                   NaN  461257  tt6980792   \n\n      original_language               original_title  \\\n0                    en                    Toy Story   \n1                    en                      Jumanji   \n2                    en             Grumpier Old Men   \n3                    en            Waiting to Exhale   \n4                    en  Father of the Bride Part II   \n...                 ...                          ...   \n45461                fa                      رگ خواب   \n45462                tl          Siglo ng Pagluluwal   \n45463                en                     Betrayal   \n45464                en          Satana likuyushchiy   \n45465                en                     Queerama   \n\n                                                overview  ... release_date  \\\n0      Led by Woody, Andy's toys live happily in his ...  ...   1995-10-30   \n1      When siblings Judy and Peter discover an encha...  ...   1995-12-15   \n2      A family wedding reignites the ancient feud be...  ...   1995-12-22   \n3      Cheated on, mistreated and stepped on, the wom...  ...   1995-12-22   \n4      Just when George Banks has recovered from his ...  ...   1995-02-10   \n...                                                  ...  ...          ...   \n45461        Rising and falling between a man and woman.  ...          NaN   \n45462  An artist struggles to finish his work while a...  ...   2011-11-17   \n45463  When one of her hits goes wrong, a professiona...  ...   2003-08-01   \n45464  In a small town live two brothers, one a minis...  ...   1917-10-21   \n45465  50 years after decriminalisation of homosexual...  ...   2017-06-09   \n\n           revenue runtime                                   spoken_languages  \\\n0      373554033.0    81.0           [{'iso_639_1': 'en', 'name': 'English'}]   \n1      262797249.0   104.0  [{'iso_639_1': 'en', 'name': 'English'}, {'iso...   \n2              0.0   101.0           [{'iso_639_1': 'en', 'name': 'English'}]   \n3       81452156.0   127.0           [{'iso_639_1': 'en', 'name': 'English'}]   \n4       76578911.0   106.0           [{'iso_639_1': 'en', 'name': 'English'}]   \n...            ...     ...                                                ...   \n45461          0.0    90.0             [{'iso_639_1': 'fa', 'name': 'فارسی'}]   \n45462          0.0   360.0                  [{'iso_639_1': 'tl', 'name': ''}]   \n45463          0.0    90.0           [{'iso_639_1': 'en', 'name': 'English'}]   \n45464          0.0    87.0                                                 []   \n45465          0.0    75.0           [{'iso_639_1': 'en', 'name': 'English'}]   \n\n         status                                            tagline  \\\n0      Released                                                NaN   \n1      Released          Roll the dice and unleash the excitement!   \n2      Released  Still Yelling. Still Fighting. Still Ready for...   \n3      Released  Friends are the people who let you be yourself...   \n4      Released  Just When His World Is Back To Normal... He's ...   \n...         ...                                                ...   \n45461  Released         Rising and falling between a man and woman   \n45462  Released                                                NaN   \n45463  Released                             A deadly game of wits.   \n45464  Released                                                NaN   \n45465  Released                                                NaN   \n\n                             title  video vote_average vote_count  \n0                        Toy Story  False          7.7     5415.0  \n1                          Jumanji  False          6.9     2413.0  \n2                 Grumpier Old Men  False          6.5       92.0  \n3                Waiting to Exhale  False          6.1       34.0  \n4      Father of the Bride Part II  False          5.7      173.0  \n...                            ...    ...          ...        ...  \n45461                       Subdue  False          4.0        1.0  \n45462          Century of Birthing  False          9.0        3.0  \n45463                     Betrayal  False          3.8        6.0  \n45464             Satan Triumphant  False          0.0        0.0  \n45465                     Queerama  False          0.0        0.0  \n\n[45463 rows x 24 columns]",
      "text/html": "<div>\n<style scoped>\n    .dataframe tbody tr th:only-of-type {\n        vertical-align: middle;\n    }\n\n    .dataframe tbody tr th {\n        vertical-align: top;\n    }\n\n    .dataframe thead th {\n        text-align: right;\n    }\n</style>\n<table border=\"1\" class=\"dataframe\">\n  <thead>\n    <tr style=\"text-align: right;\">\n      <th></th>\n      <th>adult</th>\n      <th>belongs_to_collection</th>\n      <th>budget</th>\n      <th>genres</th>\n      <th>homepage</th>\n      <th>id</th>\n      <th>imdb_id</th>\n      <th>original_language</th>\n      <th>original_title</th>\n      <th>overview</th>\n      <th>...</th>\n      <th>release_date</th>\n      <th>revenue</th>\n      <th>runtime</th>\n      <th>spoken_languages</th>\n      <th>status</th>\n      <th>tagline</th>\n      <th>title</th>\n      <th>video</th>\n      <th>vote_average</th>\n      <th>vote_count</th>\n    </tr>\n  </thead>\n  <tbody>\n    <tr>\n      <th>0</th>\n      <td>False</td>\n      <td>{'id': 10194, 'name': 'Toy Story Collection', ...</td>\n      <td>30000000</td>\n      <td>[{'id': 16, 'name': 'Animation'}, {'id': 35, '...</td>\n      <td>http://toystory.disney.com/toy-story</td>\n      <td>862</td>\n      <td>tt0114709</td>\n      <td>en</td>\n      <td>Toy Story</td>\n      <td>Led by Woody, Andy's toys live happily in his ...</td>\n      <td>...</td>\n      <td>1995-10-30</td>\n      <td>373554033.0</td>\n      <td>81.0</td>\n      <td>[{'iso_639_1': 'en', 'name': 'English'}]</td>\n      <td>Released</td>\n      <td>NaN</td>\n      <td>Toy Story</td>\n      <td>False</td>\n      <td>7.7</td>\n      <td>5415.0</td>\n    </tr>\n    <tr>\n      <th>1</th>\n      <td>False</td>\n      <td>NaN</td>\n      <td>65000000</td>\n      <td>[{'id': 12, 'name': 'Adventure'}, {'id': 14, '...</td>\n      <td>NaN</td>\n      <td>8844</td>\n      <td>tt0113497</td>\n      <td>en</td>\n      <td>Jumanji</td>\n      <td>When siblings Judy and Peter discover an encha...</td>\n      <td>...</td>\n      <td>1995-12-15</td>\n      <td>262797249.0</td>\n      <td>104.0</td>\n      <td>[{'iso_639_1': 'en', 'name': 'English'}, {'iso...</td>\n      <td>Released</td>\n      <td>Roll the dice and unleash the excitement!</td>\n      <td>Jumanji</td>\n      <td>False</td>\n      <td>6.9</td>\n      <td>2413.0</td>\n    </tr>\n    <tr>\n      <th>2</th>\n      <td>False</td>\n      <td>{'id': 119050, 'name': 'Grumpy Old Men Collect...</td>\n      <td>0</td>\n      <td>[{'id': 10749, 'name': 'Romance'}, {'id': 35, ...</td>\n      <td>NaN</td>\n      <td>15602</td>\n      <td>tt0113228</td>\n      <td>en</td>\n      <td>Grumpier Old Men</td>\n      <td>A family wedding reignites the ancient feud be...</td>\n      <td>...</td>\n      <td>1995-12-22</td>\n      <td>0.0</td>\n      <td>101.0</td>\n      <td>[{'iso_639_1': 'en', 'name': 'English'}]</td>\n      <td>Released</td>\n      <td>Still Yelling. Still Fighting. Still Ready for...</td>\n      <td>Grumpier Old Men</td>\n      <td>False</td>\n      <td>6.5</td>\n      <td>92.0</td>\n    </tr>\n    <tr>\n      <th>3</th>\n      <td>False</td>\n      <td>NaN</td>\n      <td>16000000</td>\n      <td>[{'id': 35, 'name': 'Comedy'}, {'id': 18, 'nam...</td>\n      <td>NaN</td>\n      <td>31357</td>\n      <td>tt0114885</td>\n      <td>en</td>\n      <td>Waiting to Exhale</td>\n      <td>Cheated on, mistreated and stepped on, the wom...</td>\n      <td>...</td>\n      <td>1995-12-22</td>\n      <td>81452156.0</td>\n      <td>127.0</td>\n      <td>[{'iso_639_1': 'en', 'name': 'English'}]</td>\n      <td>Released</td>\n      <td>Friends are the people who let you be yourself...</td>\n      <td>Waiting to Exhale</td>\n      <td>False</td>\n      <td>6.1</td>\n      <td>34.0</td>\n    </tr>\n    <tr>\n      <th>4</th>\n      <td>False</td>\n      <td>{'id': 96871, 'name': 'Father of the Bride Col...</td>\n      <td>0</td>\n      <td>[{'id': 35, 'name': 'Comedy'}]</td>\n      <td>NaN</td>\n      <td>11862</td>\n      <td>tt0113041</td>\n      <td>en</td>\n      <td>Father of the Bride Part II</td>\n      <td>Just when George Banks has recovered from his ...</td>\n      <td>...</td>\n      <td>1995-02-10</td>\n      <td>76578911.0</td>\n      <td>106.0</td>\n      <td>[{'iso_639_1': 'en', 'name': 'English'}]</td>\n      <td>Released</td>\n      <td>Just When His World Is Back To Normal... He's ...</td>\n      <td>Father of the Bride Part II</td>\n      <td>False</td>\n      <td>5.7</td>\n      <td>173.0</td>\n    </tr>\n    <tr>\n      <th>...</th>\n      <td>...</td>\n      <td>...</td>\n      <td>...</td>\n      <td>...</td>\n      <td>...</td>\n      <td>...</td>\n      <td>...</td>\n      <td>...</td>\n      <td>...</td>\n      <td>...</td>\n      <td>...</td>\n      <td>...</td>\n      <td>...</td>\n      <td>...</td>\n      <td>...</td>\n      <td>...</td>\n      <td>...</td>\n      <td>...</td>\n      <td>...</td>\n      <td>...</td>\n      <td>...</td>\n    </tr>\n    <tr>\n      <th>45461</th>\n      <td>False</td>\n      <td>NaN</td>\n      <td>0</td>\n      <td>[{'id': 18, 'name': 'Drama'}, {'id': 10751, 'n...</td>\n      <td>http://www.imdb.com/title/tt6209470/</td>\n      <td>439050</td>\n      <td>tt6209470</td>\n      <td>fa</td>\n      <td>رگ خواب</td>\n      <td>Rising and falling between a man and woman.</td>\n      <td>...</td>\n      <td>NaN</td>\n      <td>0.0</td>\n      <td>90.0</td>\n      <td>[{'iso_639_1': 'fa', 'name': 'فارسی'}]</td>\n      <td>Released</td>\n      <td>Rising and falling between a man and woman</td>\n      <td>Subdue</td>\n      <td>False</td>\n      <td>4.0</td>\n      <td>1.0</td>\n    </tr>\n    <tr>\n      <th>45462</th>\n      <td>False</td>\n      <td>NaN</td>\n      <td>0</td>\n      <td>[{'id': 18, 'name': 'Drama'}]</td>\n      <td>NaN</td>\n      <td>111109</td>\n      <td>tt2028550</td>\n      <td>tl</td>\n      <td>Siglo ng Pagluluwal</td>\n      <td>An artist struggles to finish his work while a...</td>\n      <td>...</td>\n      <td>2011-11-17</td>\n      <td>0.0</td>\n      <td>360.0</td>\n      <td>[{'iso_639_1': 'tl', 'name': ''}]</td>\n      <td>Released</td>\n      <td>NaN</td>\n      <td>Century of Birthing</td>\n      <td>False</td>\n      <td>9.0</td>\n      <td>3.0</td>\n    </tr>\n    <tr>\n      <th>45463</th>\n      <td>False</td>\n      <td>NaN</td>\n      <td>0</td>\n      <td>[{'id': 28, 'name': 'Action'}, {'id': 18, 'nam...</td>\n      <td>NaN</td>\n      <td>67758</td>\n      <td>tt0303758</td>\n      <td>en</td>\n      <td>Betrayal</td>\n      <td>When one of her hits goes wrong, a professiona...</td>\n      <td>...</td>\n      <td>2003-08-01</td>\n      <td>0.0</td>\n      <td>90.0</td>\n      <td>[{'iso_639_1': 'en', 'name': 'English'}]</td>\n      <td>Released</td>\n      <td>A deadly game of wits.</td>\n      <td>Betrayal</td>\n      <td>False</td>\n      <td>3.8</td>\n      <td>6.0</td>\n    </tr>\n    <tr>\n      <th>45464</th>\n      <td>False</td>\n      <td>NaN</td>\n      <td>0</td>\n      <td>[]</td>\n      <td>NaN</td>\n      <td>227506</td>\n      <td>tt0008536</td>\n      <td>en</td>\n      <td>Satana likuyushchiy</td>\n      <td>In a small town live two brothers, one a minis...</td>\n      <td>...</td>\n      <td>1917-10-21</td>\n      <td>0.0</td>\n      <td>87.0</td>\n      <td>[]</td>\n      <td>Released</td>\n      <td>NaN</td>\n      <td>Satan Triumphant</td>\n      <td>False</td>\n      <td>0.0</td>\n      <td>0.0</td>\n    </tr>\n    <tr>\n      <th>45465</th>\n      <td>False</td>\n      <td>NaN</td>\n      <td>0</td>\n      <td>[]</td>\n      <td>NaN</td>\n      <td>461257</td>\n      <td>tt6980792</td>\n      <td>en</td>\n      <td>Queerama</td>\n      <td>50 years after decriminalisation of homosexual...</td>\n      <td>...</td>\n      <td>2017-06-09</td>\n      <td>0.0</td>\n      <td>75.0</td>\n      <td>[{'iso_639_1': 'en', 'name': 'English'}]</td>\n      <td>Released</td>\n      <td>NaN</td>\n      <td>Queerama</td>\n      <td>False</td>\n      <td>0.0</td>\n      <td>0.0</td>\n    </tr>\n  </tbody>\n</table>\n<p>45463 rows × 24 columns</p>\n</div>"
     },
     "execution_count": 16,
     "metadata": {},
     "output_type": "execute_result"
    }
   ],
   "source": [
    "metadata_copy = metadata.copy()\n",
    "metadata_copy['id'] = metadata_copy['id'].astype(int)\n",
    "metadata_copy"
   ]
  },
  {
   "cell_type": "code",
   "execution_count": 17,
   "id": "99cae111",
   "metadata": {},
   "outputs": [
    {
     "data": {
      "text/plain": "      id_in_movielens  id_in_metadata  adult  \\\n0                   1             862  False   \n1                   2             710  False   \n2                   3               5  False   \n3                   4            8012  False   \n4                   5            1710  False   \n...               ...             ...    ...   \n1496             1640           36998  False   \n1497             1643            2892  False   \n1498             1657          124639  False   \n1499             1673          226229  False   \n1500             1676           59232  False   \n\n                                  belongs_to_collection    budget  \\\n0     {'id': 10194, 'name': 'Toy Story Collection', ...  30000000   \n1     {'id': 645, 'name': 'James Bond Collection', '...  58000000   \n2                                                   NaN   4000000   \n3     {'id': 91698, 'name': 'Chili Palmer Collection...  30250000   \n4                                                   NaN         0   \n...                                                 ...       ...   \n1496                                                NaN         0   \n1497                                                NaN         0   \n1498                                                NaN         0   \n1499                                                NaN         0   \n1500                                                NaN         0   \n\n                                                 genres  \\\n0     [{'id': 16, 'name': 'Animation'}, {'id': 35, '...   \n1     [{'id': 12, 'name': 'Adventure'}, {'id': 28, '...   \n2     [{'id': 80, 'name': 'Crime'}, {'id': 35, 'name...   \n3     [{'id': 35, 'name': 'Comedy'}, {'id': 53, 'nam...   \n4     [{'id': 18, 'name': 'Drama'}, {'id': 53, 'name...   \n...                                                 ...   \n1496                      [{'id': 18, 'name': 'Drama'}]   \n1497                      [{'id': 18, 'name': 'Drama'}]   \n1498                                                 []   \n1499  [{'id': 28, 'name': 'Action'}, {'id': 53, 'nam...   \n1500                      [{'id': 18, 'name': 'Drama'}]   \n\n                                          homepage      id    imdb_id  \\\n0             http://toystory.disney.com/toy-story     862  tt0114709   \n1     http://www.mgm.com/view/movie/757/Goldeneye/     710  tt0113189   \n2                                              NaN       5  tt0113101   \n3                                              NaN    8012  tt0113161   \n4                                              NaN    1710  tt0112722   \n...                                            ...     ...        ...   \n1496                                           NaN   36998  tt0116581   \n1497                                           NaN    2892  tt0112362   \n1498                                           NaN  124639  tt0114618   \n1499                                           NaN  226229  tt0113827   \n1500                                           NaN   59232  tt0118117   \n\n     original_language  ... release_date      revenue runtime  \\\n0                   en  ...   1995-10-30  373554033.0    81.0   \n1                   en  ...   1995-11-16  352194034.0   130.0   \n2                   en  ...   1995-12-09    4300000.0    98.0   \n3                   en  ...   1995-10-20  115101622.0   105.0   \n4                   en  ...   1995-10-27          0.0   124.0   \n...                ...  ...          ...          ...     ...   \n1496                fr  ...   1996-01-01          0.0   118.0   \n1497                en  ...   1995-09-09          0.0   105.0   \n1498                en  ...   1995-08-01          0.0   122.0   \n1499                en  ...   1995-11-21          0.0    92.0   \n1500                en  ...   1996-11-20          0.0   119.0   \n\n                                       spoken_languages    status  \\\n0              [{'iso_639_1': 'en', 'name': 'English'}]  Released   \n1     [{'iso_639_1': 'en', 'name': 'English'}, {'iso...  Released   \n2              [{'iso_639_1': 'en', 'name': 'English'}]  Released   \n3              [{'iso_639_1': 'en', 'name': 'English'}]  Released   \n4     [{'iso_639_1': 'en', 'name': 'English'}, {'iso...  Released   \n...                                                 ...       ...   \n1496          [{'iso_639_1': 'fr', 'name': 'Français'}]  Released   \n1497           [{'iso_639_1': 'en', 'name': 'English'}]  Released   \n1498                                                 []  Released   \n1499           [{'iso_639_1': 'en', 'name': 'English'}]  Released   \n1500           [{'iso_639_1': 'en', 'name': 'English'}]   Rumored   \n\n                                                tagline            title  \\\n0                                                   NaN        Toy Story   \n1                  No limits. No fears. No substitutes.        GoldenEye   \n2     Twelve outrageous guests. Four scandalous requ...       Four Rooms   \n3     The mob is tough, but it’s nothing like show b...       Get Shorty   \n4     One man is copying the most notorious killers ...          Copycat   \n...                                                 ...              ...   \n1496                                                NaN   The Eighth Day   \n1497  An extraordinary story of love's transcendent ...       Angel Baby   \n1498                                                NaN           Target   \n1499                    Love is the deadliest illusion.           Mirage   \n1500                There Is A Secret About To Explode.  The War at Home   \n\n      video  vote_average vote_count  \n0     False           7.7     5415.0  \n1     False           6.6     1194.0  \n2     False           6.5      539.0  \n3     False           6.4      305.0  \n4     False           6.5      199.0  \n...     ...           ...        ...  \n1496  False           7.0       56.0  \n1497  False           7.7        3.0  \n1498  False           0.0        0.0  \n1499  False           4.0        1.0  \n1500  False           6.9        7.0  \n\n[1501 rows x 26 columns]",
      "text/html": "<div>\n<style scoped>\n    .dataframe tbody tr th:only-of-type {\n        vertical-align: middle;\n    }\n\n    .dataframe tbody tr th {\n        vertical-align: top;\n    }\n\n    .dataframe thead th {\n        text-align: right;\n    }\n</style>\n<table border=\"1\" class=\"dataframe\">\n  <thead>\n    <tr style=\"text-align: right;\">\n      <th></th>\n      <th>id_in_movielens</th>\n      <th>id_in_metadata</th>\n      <th>adult</th>\n      <th>belongs_to_collection</th>\n      <th>budget</th>\n      <th>genres</th>\n      <th>homepage</th>\n      <th>id</th>\n      <th>imdb_id</th>\n      <th>original_language</th>\n      <th>...</th>\n      <th>release_date</th>\n      <th>revenue</th>\n      <th>runtime</th>\n      <th>spoken_languages</th>\n      <th>status</th>\n      <th>tagline</th>\n      <th>title</th>\n      <th>video</th>\n      <th>vote_average</th>\n      <th>vote_count</th>\n    </tr>\n  </thead>\n  <tbody>\n    <tr>\n      <th>0</th>\n      <td>1</td>\n      <td>862</td>\n      <td>False</td>\n      <td>{'id': 10194, 'name': 'Toy Story Collection', ...</td>\n      <td>30000000</td>\n      <td>[{'id': 16, 'name': 'Animation'}, {'id': 35, '...</td>\n      <td>http://toystory.disney.com/toy-story</td>\n      <td>862</td>\n      <td>tt0114709</td>\n      <td>en</td>\n      <td>...</td>\n      <td>1995-10-30</td>\n      <td>373554033.0</td>\n      <td>81.0</td>\n      <td>[{'iso_639_1': 'en', 'name': 'English'}]</td>\n      <td>Released</td>\n      <td>NaN</td>\n      <td>Toy Story</td>\n      <td>False</td>\n      <td>7.7</td>\n      <td>5415.0</td>\n    </tr>\n    <tr>\n      <th>1</th>\n      <td>2</td>\n      <td>710</td>\n      <td>False</td>\n      <td>{'id': 645, 'name': 'James Bond Collection', '...</td>\n      <td>58000000</td>\n      <td>[{'id': 12, 'name': 'Adventure'}, {'id': 28, '...</td>\n      <td>http://www.mgm.com/view/movie/757/Goldeneye/</td>\n      <td>710</td>\n      <td>tt0113189</td>\n      <td>en</td>\n      <td>...</td>\n      <td>1995-11-16</td>\n      <td>352194034.0</td>\n      <td>130.0</td>\n      <td>[{'iso_639_1': 'en', 'name': 'English'}, {'iso...</td>\n      <td>Released</td>\n      <td>No limits. No fears. No substitutes.</td>\n      <td>GoldenEye</td>\n      <td>False</td>\n      <td>6.6</td>\n      <td>1194.0</td>\n    </tr>\n    <tr>\n      <th>2</th>\n      <td>3</td>\n      <td>5</td>\n      <td>False</td>\n      <td>NaN</td>\n      <td>4000000</td>\n      <td>[{'id': 80, 'name': 'Crime'}, {'id': 35, 'name...</td>\n      <td>NaN</td>\n      <td>5</td>\n      <td>tt0113101</td>\n      <td>en</td>\n      <td>...</td>\n      <td>1995-12-09</td>\n      <td>4300000.0</td>\n      <td>98.0</td>\n      <td>[{'iso_639_1': 'en', 'name': 'English'}]</td>\n      <td>Released</td>\n      <td>Twelve outrageous guests. Four scandalous requ...</td>\n      <td>Four Rooms</td>\n      <td>False</td>\n      <td>6.5</td>\n      <td>539.0</td>\n    </tr>\n    <tr>\n      <th>3</th>\n      <td>4</td>\n      <td>8012</td>\n      <td>False</td>\n      <td>{'id': 91698, 'name': 'Chili Palmer Collection...</td>\n      <td>30250000</td>\n      <td>[{'id': 35, 'name': 'Comedy'}, {'id': 53, 'nam...</td>\n      <td>NaN</td>\n      <td>8012</td>\n      <td>tt0113161</td>\n      <td>en</td>\n      <td>...</td>\n      <td>1995-10-20</td>\n      <td>115101622.0</td>\n      <td>105.0</td>\n      <td>[{'iso_639_1': 'en', 'name': 'English'}]</td>\n      <td>Released</td>\n      <td>The mob is tough, but it’s nothing like show b...</td>\n      <td>Get Shorty</td>\n      <td>False</td>\n      <td>6.4</td>\n      <td>305.0</td>\n    </tr>\n    <tr>\n      <th>4</th>\n      <td>5</td>\n      <td>1710</td>\n      <td>False</td>\n      <td>NaN</td>\n      <td>0</td>\n      <td>[{'id': 18, 'name': 'Drama'}, {'id': 53, 'name...</td>\n      <td>NaN</td>\n      <td>1710</td>\n      <td>tt0112722</td>\n      <td>en</td>\n      <td>...</td>\n      <td>1995-10-27</td>\n      <td>0.0</td>\n      <td>124.0</td>\n      <td>[{'iso_639_1': 'en', 'name': 'English'}, {'iso...</td>\n      <td>Released</td>\n      <td>One man is copying the most notorious killers ...</td>\n      <td>Copycat</td>\n      <td>False</td>\n      <td>6.5</td>\n      <td>199.0</td>\n    </tr>\n    <tr>\n      <th>...</th>\n      <td>...</td>\n      <td>...</td>\n      <td>...</td>\n      <td>...</td>\n      <td>...</td>\n      <td>...</td>\n      <td>...</td>\n      <td>...</td>\n      <td>...</td>\n      <td>...</td>\n      <td>...</td>\n      <td>...</td>\n      <td>...</td>\n      <td>...</td>\n      <td>...</td>\n      <td>...</td>\n      <td>...</td>\n      <td>...</td>\n      <td>...</td>\n      <td>...</td>\n      <td>...</td>\n    </tr>\n    <tr>\n      <th>1496</th>\n      <td>1640</td>\n      <td>36998</td>\n      <td>False</td>\n      <td>NaN</td>\n      <td>0</td>\n      <td>[{'id': 18, 'name': 'Drama'}]</td>\n      <td>NaN</td>\n      <td>36998</td>\n      <td>tt0116581</td>\n      <td>fr</td>\n      <td>...</td>\n      <td>1996-01-01</td>\n      <td>0.0</td>\n      <td>118.0</td>\n      <td>[{'iso_639_1': 'fr', 'name': 'Français'}]</td>\n      <td>Released</td>\n      <td>NaN</td>\n      <td>The Eighth Day</td>\n      <td>False</td>\n      <td>7.0</td>\n      <td>56.0</td>\n    </tr>\n    <tr>\n      <th>1497</th>\n      <td>1643</td>\n      <td>2892</td>\n      <td>False</td>\n      <td>NaN</td>\n      <td>0</td>\n      <td>[{'id': 18, 'name': 'Drama'}]</td>\n      <td>NaN</td>\n      <td>2892</td>\n      <td>tt0112362</td>\n      <td>en</td>\n      <td>...</td>\n      <td>1995-09-09</td>\n      <td>0.0</td>\n      <td>105.0</td>\n      <td>[{'iso_639_1': 'en', 'name': 'English'}]</td>\n      <td>Released</td>\n      <td>An extraordinary story of love's transcendent ...</td>\n      <td>Angel Baby</td>\n      <td>False</td>\n      <td>7.7</td>\n      <td>3.0</td>\n    </tr>\n    <tr>\n      <th>1498</th>\n      <td>1657</td>\n      <td>124639</td>\n      <td>False</td>\n      <td>NaN</td>\n      <td>0</td>\n      <td>[]</td>\n      <td>NaN</td>\n      <td>124639</td>\n      <td>tt0114618</td>\n      <td>en</td>\n      <td>...</td>\n      <td>1995-08-01</td>\n      <td>0.0</td>\n      <td>122.0</td>\n      <td>[]</td>\n      <td>Released</td>\n      <td>NaN</td>\n      <td>Target</td>\n      <td>False</td>\n      <td>0.0</td>\n      <td>0.0</td>\n    </tr>\n    <tr>\n      <th>1499</th>\n      <td>1673</td>\n      <td>226229</td>\n      <td>False</td>\n      <td>NaN</td>\n      <td>0</td>\n      <td>[{'id': 28, 'name': 'Action'}, {'id': 53, 'nam...</td>\n      <td>NaN</td>\n      <td>226229</td>\n      <td>tt0113827</td>\n      <td>en</td>\n      <td>...</td>\n      <td>1995-11-21</td>\n      <td>0.0</td>\n      <td>92.0</td>\n      <td>[{'iso_639_1': 'en', 'name': 'English'}]</td>\n      <td>Released</td>\n      <td>Love is the deadliest illusion.</td>\n      <td>Mirage</td>\n      <td>False</td>\n      <td>4.0</td>\n      <td>1.0</td>\n    </tr>\n    <tr>\n      <th>1500</th>\n      <td>1676</td>\n      <td>59232</td>\n      <td>False</td>\n      <td>NaN</td>\n      <td>0</td>\n      <td>[{'id': 18, 'name': 'Drama'}]</td>\n      <td>NaN</td>\n      <td>59232</td>\n      <td>tt0118117</td>\n      <td>en</td>\n      <td>...</td>\n      <td>1996-11-20</td>\n      <td>0.0</td>\n      <td>119.0</td>\n      <td>[{'iso_639_1': 'en', 'name': 'English'}]</td>\n      <td>Rumored</td>\n      <td>There Is A Secret About To Explode.</td>\n      <td>The War at Home</td>\n      <td>False</td>\n      <td>6.9</td>\n      <td>7.0</td>\n    </tr>\n  </tbody>\n</table>\n<p>1501 rows × 26 columns</p>\n</div>"
     },
     "execution_count": 17,
     "metadata": {},
     "output_type": "execute_result"
    }
   ],
   "source": [
    "# Merge the mapping table with the metadata file\n",
    "merged_data = pd.merge(mapping_table, metadata_copy, left_on='id_in_metadata', right_on='id', how='inner')\n",
    "merged_data"
   ]
  },
  {
   "cell_type": "code",
   "execution_count": 18,
   "id": "9e9d1e6e",
   "metadata": {},
   "outputs": [
    {
     "name": "stdout",
     "output_type": "stream",
     "text": [
      "Training rated movies: 1650\n",
      "Test rated movies: 1410\n"
     ]
    }
   ],
   "source": [
    "# Get the set of movie IDs that appear in the ratings dataset\n",
    "rated_movies_train = set(train_df['movie_id'].unique())\n",
    "rated_movies_test = set(test_df['movie_id'].unique())\n",
    "\n",
    "print('Training rated movies:', len(rated_movies_train))\n",
    "print('Test rated movies:', len(rated_movies_test))"
   ]
  },
  {
   "cell_type": "code",
   "execution_count": 19,
   "outputs": [
    {
     "name": "stdout",
     "output_type": "stream",
     "text": [
      "      id_in_movielens                                           overview\n",
      "0                   1  Led by Woody, Andy's toys live happily in his ...\n",
      "1                   2  James Bond must unmask the mysterious head of ...\n",
      "2                   3  It's Ted the Bellhop's first night on the job....\n",
      "3                   4  Chili Palmer is a Miami mobster who gets sent ...\n",
      "4                   5  An agoraphobic psychologist and a female detec...\n",
      "...               ...                                                ...\n",
      "1475             1442  Set in puritanical Boston in the mid 1600s, th...\n",
      "1479             1477  A law student, who takes a job as a night watc...\n",
      "1481             1479  On Christmas eve, a relentlessly cheerful woma...\n",
      "1483             1527  A student gets his senses enhanced by an exper...\n",
      "1484             1529  Black marketeers Marko (Miki Manojlovic) and B...\n",
      "\n",
      "[1260 rows x 2 columns]\n"
     ]
    }
   ],
   "source": [
    "# keep only the movies that have a mapping from all splits\n",
    "movie_ids = set(train_df['movie_id'].unique()).intersection(set(test_df['movie_id'].unique()))\n",
    "merged_data_ok = merged_data[merged_data['id_in_movielens'].isin(movie_ids)]\n",
    "print(merged_data_ok[['id_in_movielens', 'overview']])\n"
   ],
   "metadata": {
    "collapsed": false
   }
  },
  {
   "cell_type": "code",
   "execution_count": 20,
   "id": "eb68ea82",
   "metadata": {},
   "outputs": [
    {
     "name": "stdout",
     "output_type": "stream",
     "text": [
      "      id_in_movielens                                           overview\n",
      "0                   1  Led by Woody, Andy's toys live happily in his ...\n",
      "1                   2  James Bond must unmask the mysterious head of ...\n",
      "2                   3  It's Ted the Bellhop's first night on the job....\n",
      "3                   4  Chili Palmer is a Miami mobster who gets sent ...\n",
      "4                   5  An agoraphobic psychologist and a female detec...\n",
      "...               ...                                                ...\n",
      "1496             1640  Georges has Down syndrome, living at a mental-...\n",
      "1497             1643  Two schizophrenics meet during therapy and fal...\n",
      "1498             1657   A subtle yet violent commentary on feudal lords.\n",
      "1499             1673  Matteo Juarez is a retired detective hired by ...\n",
      "1500             1676  Jeremy Collier is a Vietnam veteran who has re...\n",
      "\n",
      "[1475 rows x 2 columns]\n",
      "      id_in_movielens                                           overview\n",
      "0                   1  Led by Woody, Andy's toys live happily in his ...\n",
      "1                   2  James Bond must unmask the mysterious head of ...\n",
      "2                   3  It's Ted the Bellhop's first night on the job....\n",
      "3                   4  Chili Palmer is a Miami mobster who gets sent ...\n",
      "4                   5  An agoraphobic psychologist and a female detec...\n",
      "...               ...                                                ...\n",
      "1475             1442  Set in puritanical Boston in the mid 1600s, th...\n",
      "1479             1477  A law student, who takes a job as a night watc...\n",
      "1481             1479  On Christmas eve, a relentlessly cheerful woma...\n",
      "1483             1527  A student gets his senses enhanced by an exper...\n",
      "1484             1529  Black marketeers Marko (Miki Manojlovic) and B...\n",
      "\n",
      "[1286 rows x 2 columns]\n"
     ]
    }
   ],
   "source": [
    "# Filter the merged data to only include movies that have been rated dataset\n",
    "merged_data_train = merged_data[merged_data['id_in_movielens'].isin(rated_movies_train)]\n",
    "\n",
    "# Print the result\n",
    "print(merged_data_train[['id_in_movielens', 'overview']])\n",
    "\n",
    "merged_data_test = merged_data[merged_data['id_in_movielens'].isin(rated_movies_test)]\n",
    "\n",
    "\n",
    "print(merged_data_test[['id_in_movielens', 'overview']])"
   ]
  },
  {
   "cell_type": "code",
   "execution_count": 21,
   "id": "8e747ab7",
   "metadata": {},
   "outputs": [
    {
     "data": {
      "text/plain": "      id_in_movielens  id_in_metadata  adult  \\\n0                   1             862  False   \n1                   2             710  False   \n2                   3               5  False   \n3                   4            8012  False   \n4                   5            1710  False   \n...               ...             ...    ...   \n1475             1442           10533  False   \n1479             1477            2212  False   \n1481             1479           58372  False   \n1483             1527           12538  False   \n1484             1529           11902  False   \n\n                                  belongs_to_collection    budget  \\\n0     {'id': 10194, 'name': 'Toy Story Collection', ...  30000000   \n1     {'id': 645, 'name': 'James Bond Collection', '...  58000000   \n2                                                   NaN   4000000   \n3     {'id': 91698, 'name': 'Chili Palmer Collection...  30250000   \n4                                                   NaN         0   \n...                                                 ...       ...   \n1475                                                NaN  50000000   \n1479                                                NaN         0   \n1481                                                NaN         0   \n1483                                                NaN         0   \n1484                                                NaN  14000000   \n\n                                                 genres  \\\n0     [{'id': 16, 'name': 'Animation'}, {'id': 35, '...   \n1     [{'id': 12, 'name': 'Adventure'}, {'id': 28, '...   \n2     [{'id': 80, 'name': 'Crime'}, {'id': 35, 'name...   \n3     [{'id': 35, 'name': 'Comedy'}, {'id': 53, 'nam...   \n4     [{'id': 18, 'name': 'Drama'}, {'id': 53, 'name...   \n...                                                 ...   \n1475  [{'id': 18, 'name': 'Drama'}, {'id': 36, 'name...   \n1479  [{'id': 28, 'name': 'Action'}, {'id': 18, 'nam...   \n1481  [{'id': 14, 'name': 'Fantasy'}, {'id': 35, 'na...   \n1483  [{'id': 35, 'name': 'Comedy'}, {'id': 10749, '...   \n1484  [{'id': 10752, 'name': 'War'}, {'id': 18, 'nam...   \n\n                                          homepage     id    imdb_id  \\\n0             http://toystory.disney.com/toy-story    862  tt0114709   \n1     http://www.mgm.com/view/movie/757/Goldeneye/    710  tt0113189   \n2                                              NaN      5  tt0113101   \n3                                              NaN   8012  tt0113161   \n4                                              NaN   1710  tt0112722   \n...                                            ...    ...        ...   \n1475                                           NaN  10533  tt0114345   \n1479                                           NaN   2212  tt0119791   \n1481                                           NaN  58372  tt0114241   \n1483                                           NaN  12538  tt0120820   \n1484                                           NaN  11902  tt0114787   \n\n     original_language  ... release_date      revenue runtime  \\\n0                   en  ...   1995-10-30  373554033.0    81.0   \n1                   en  ...   1995-11-16  352194034.0   130.0   \n2                   en  ...   1995-12-09    4300000.0    98.0   \n3                   en  ...   1995-10-20  115101622.0   105.0   \n4                   en  ...   1995-10-27          0.0   124.0   \n...                ...  ...          ...          ...     ...   \n1475                en  ...   1995-10-13   10382407.0   135.0   \n1479                en  ...   1997-01-31    1179002.0   102.0   \n1481                en  ...   1995-11-17          0.0    91.0   \n1483                pt  ...   1998-02-20   13035599.0    93.0   \n1484                sr  ...   1995-04-11          0.0   170.0   \n\n                                       spoken_languages    status  \\\n0              [{'iso_639_1': 'en', 'name': 'English'}]  Released   \n1     [{'iso_639_1': 'en', 'name': 'English'}, {'iso...  Released   \n2              [{'iso_639_1': 'en', 'name': 'English'}]  Released   \n3              [{'iso_639_1': 'en', 'name': 'English'}]  Released   \n4     [{'iso_639_1': 'en', 'name': 'English'}, {'iso...  Released   \n...                                                 ...       ...   \n1475           [{'iso_639_1': 'en', 'name': 'English'}]  Released   \n1479           [{'iso_639_1': 'en', 'name': 'English'}]  Released   \n1481           [{'iso_639_1': 'en', 'name': 'English'}]  Released   \n1483  [{'iso_639_1': 'en', 'name': 'English'}, {'iso...  Released   \n1484  [{'iso_639_1': 'en', 'name': 'English'}, {'iso...  Released   \n\n                                                tagline               title  \\\n0                                                   NaN           Toy Story   \n1                  No limits. No fears. No substitutes.           GoldenEye   \n2     Twelve outrageous guests. Four scandalous requ...          Four Rooms   \n3     The mob is tough, but it’s nothing like show b...          Get Shorty   \n4     One man is copying the most notorious killers ...             Copycat   \n...                                                 ...                 ...   \n1475  When intimacy is forbidden and passion is a si...  The Scarlet Letter   \n1479                                                NaN          Nightwatch   \n1481                   The most twisted Christmas ever.            Reckless   \n1483  A secret experiment gave him super senses. The...           Senseless   \n1484                                                NaN         Underground   \n\n      video  vote_average vote_count  \n0     False           7.7     5415.0  \n1     False           6.6     1194.0  \n2     False           6.5      539.0  \n3     False           6.4      305.0  \n4     False           6.5      199.0  \n...     ...           ...        ...  \n1475  False           5.5      111.0  \n1479  False           6.2      104.0  \n1481  False          10.0        1.0  \n1483  False           5.8       76.0  \n1484  False           7.5      143.0  \n\n[1286 rows x 26 columns]",
      "text/html": "<div>\n<style scoped>\n    .dataframe tbody tr th:only-of-type {\n        vertical-align: middle;\n    }\n\n    .dataframe tbody tr th {\n        vertical-align: top;\n    }\n\n    .dataframe thead th {\n        text-align: right;\n    }\n</style>\n<table border=\"1\" class=\"dataframe\">\n  <thead>\n    <tr style=\"text-align: right;\">\n      <th></th>\n      <th>id_in_movielens</th>\n      <th>id_in_metadata</th>\n      <th>adult</th>\n      <th>belongs_to_collection</th>\n      <th>budget</th>\n      <th>genres</th>\n      <th>homepage</th>\n      <th>id</th>\n      <th>imdb_id</th>\n      <th>original_language</th>\n      <th>...</th>\n      <th>release_date</th>\n      <th>revenue</th>\n      <th>runtime</th>\n      <th>spoken_languages</th>\n      <th>status</th>\n      <th>tagline</th>\n      <th>title</th>\n      <th>video</th>\n      <th>vote_average</th>\n      <th>vote_count</th>\n    </tr>\n  </thead>\n  <tbody>\n    <tr>\n      <th>0</th>\n      <td>1</td>\n      <td>862</td>\n      <td>False</td>\n      <td>{'id': 10194, 'name': 'Toy Story Collection', ...</td>\n      <td>30000000</td>\n      <td>[{'id': 16, 'name': 'Animation'}, {'id': 35, '...</td>\n      <td>http://toystory.disney.com/toy-story</td>\n      <td>862</td>\n      <td>tt0114709</td>\n      <td>en</td>\n      <td>...</td>\n      <td>1995-10-30</td>\n      <td>373554033.0</td>\n      <td>81.0</td>\n      <td>[{'iso_639_1': 'en', 'name': 'English'}]</td>\n      <td>Released</td>\n      <td>NaN</td>\n      <td>Toy Story</td>\n      <td>False</td>\n      <td>7.7</td>\n      <td>5415.0</td>\n    </tr>\n    <tr>\n      <th>1</th>\n      <td>2</td>\n      <td>710</td>\n      <td>False</td>\n      <td>{'id': 645, 'name': 'James Bond Collection', '...</td>\n      <td>58000000</td>\n      <td>[{'id': 12, 'name': 'Adventure'}, {'id': 28, '...</td>\n      <td>http://www.mgm.com/view/movie/757/Goldeneye/</td>\n      <td>710</td>\n      <td>tt0113189</td>\n      <td>en</td>\n      <td>...</td>\n      <td>1995-11-16</td>\n      <td>352194034.0</td>\n      <td>130.0</td>\n      <td>[{'iso_639_1': 'en', 'name': 'English'}, {'iso...</td>\n      <td>Released</td>\n      <td>No limits. No fears. No substitutes.</td>\n      <td>GoldenEye</td>\n      <td>False</td>\n      <td>6.6</td>\n      <td>1194.0</td>\n    </tr>\n    <tr>\n      <th>2</th>\n      <td>3</td>\n      <td>5</td>\n      <td>False</td>\n      <td>NaN</td>\n      <td>4000000</td>\n      <td>[{'id': 80, 'name': 'Crime'}, {'id': 35, 'name...</td>\n      <td>NaN</td>\n      <td>5</td>\n      <td>tt0113101</td>\n      <td>en</td>\n      <td>...</td>\n      <td>1995-12-09</td>\n      <td>4300000.0</td>\n      <td>98.0</td>\n      <td>[{'iso_639_1': 'en', 'name': 'English'}]</td>\n      <td>Released</td>\n      <td>Twelve outrageous guests. Four scandalous requ...</td>\n      <td>Four Rooms</td>\n      <td>False</td>\n      <td>6.5</td>\n      <td>539.0</td>\n    </tr>\n    <tr>\n      <th>3</th>\n      <td>4</td>\n      <td>8012</td>\n      <td>False</td>\n      <td>{'id': 91698, 'name': 'Chili Palmer Collection...</td>\n      <td>30250000</td>\n      <td>[{'id': 35, 'name': 'Comedy'}, {'id': 53, 'nam...</td>\n      <td>NaN</td>\n      <td>8012</td>\n      <td>tt0113161</td>\n      <td>en</td>\n      <td>...</td>\n      <td>1995-10-20</td>\n      <td>115101622.0</td>\n      <td>105.0</td>\n      <td>[{'iso_639_1': 'en', 'name': 'English'}]</td>\n      <td>Released</td>\n      <td>The mob is tough, but it’s nothing like show b...</td>\n      <td>Get Shorty</td>\n      <td>False</td>\n      <td>6.4</td>\n      <td>305.0</td>\n    </tr>\n    <tr>\n      <th>4</th>\n      <td>5</td>\n      <td>1710</td>\n      <td>False</td>\n      <td>NaN</td>\n      <td>0</td>\n      <td>[{'id': 18, 'name': 'Drama'}, {'id': 53, 'name...</td>\n      <td>NaN</td>\n      <td>1710</td>\n      <td>tt0112722</td>\n      <td>en</td>\n      <td>...</td>\n      <td>1995-10-27</td>\n      <td>0.0</td>\n      <td>124.0</td>\n      <td>[{'iso_639_1': 'en', 'name': 'English'}, {'iso...</td>\n      <td>Released</td>\n      <td>One man is copying the most notorious killers ...</td>\n      <td>Copycat</td>\n      <td>False</td>\n      <td>6.5</td>\n      <td>199.0</td>\n    </tr>\n    <tr>\n      <th>...</th>\n      <td>...</td>\n      <td>...</td>\n      <td>...</td>\n      <td>...</td>\n      <td>...</td>\n      <td>...</td>\n      <td>...</td>\n      <td>...</td>\n      <td>...</td>\n      <td>...</td>\n      <td>...</td>\n      <td>...</td>\n      <td>...</td>\n      <td>...</td>\n      <td>...</td>\n      <td>...</td>\n      <td>...</td>\n      <td>...</td>\n      <td>...</td>\n      <td>...</td>\n      <td>...</td>\n    </tr>\n    <tr>\n      <th>1475</th>\n      <td>1442</td>\n      <td>10533</td>\n      <td>False</td>\n      <td>NaN</td>\n      <td>50000000</td>\n      <td>[{'id': 18, 'name': 'Drama'}, {'id': 36, 'name...</td>\n      <td>NaN</td>\n      <td>10533</td>\n      <td>tt0114345</td>\n      <td>en</td>\n      <td>...</td>\n      <td>1995-10-13</td>\n      <td>10382407.0</td>\n      <td>135.0</td>\n      <td>[{'iso_639_1': 'en', 'name': 'English'}]</td>\n      <td>Released</td>\n      <td>When intimacy is forbidden and passion is a si...</td>\n      <td>The Scarlet Letter</td>\n      <td>False</td>\n      <td>5.5</td>\n      <td>111.0</td>\n    </tr>\n    <tr>\n      <th>1479</th>\n      <td>1477</td>\n      <td>2212</td>\n      <td>False</td>\n      <td>NaN</td>\n      <td>0</td>\n      <td>[{'id': 28, 'name': 'Action'}, {'id': 18, 'nam...</td>\n      <td>NaN</td>\n      <td>2212</td>\n      <td>tt0119791</td>\n      <td>en</td>\n      <td>...</td>\n      <td>1997-01-31</td>\n      <td>1179002.0</td>\n      <td>102.0</td>\n      <td>[{'iso_639_1': 'en', 'name': 'English'}]</td>\n      <td>Released</td>\n      <td>NaN</td>\n      <td>Nightwatch</td>\n      <td>False</td>\n      <td>6.2</td>\n      <td>104.0</td>\n    </tr>\n    <tr>\n      <th>1481</th>\n      <td>1479</td>\n      <td>58372</td>\n      <td>False</td>\n      <td>NaN</td>\n      <td>0</td>\n      <td>[{'id': 14, 'name': 'Fantasy'}, {'id': 35, 'na...</td>\n      <td>NaN</td>\n      <td>58372</td>\n      <td>tt0114241</td>\n      <td>en</td>\n      <td>...</td>\n      <td>1995-11-17</td>\n      <td>0.0</td>\n      <td>91.0</td>\n      <td>[{'iso_639_1': 'en', 'name': 'English'}]</td>\n      <td>Released</td>\n      <td>The most twisted Christmas ever.</td>\n      <td>Reckless</td>\n      <td>False</td>\n      <td>10.0</td>\n      <td>1.0</td>\n    </tr>\n    <tr>\n      <th>1483</th>\n      <td>1527</td>\n      <td>12538</td>\n      <td>False</td>\n      <td>NaN</td>\n      <td>0</td>\n      <td>[{'id': 35, 'name': 'Comedy'}, {'id': 10749, '...</td>\n      <td>NaN</td>\n      <td>12538</td>\n      <td>tt0120820</td>\n      <td>pt</td>\n      <td>...</td>\n      <td>1998-02-20</td>\n      <td>13035599.0</td>\n      <td>93.0</td>\n      <td>[{'iso_639_1': 'en', 'name': 'English'}, {'iso...</td>\n      <td>Released</td>\n      <td>A secret experiment gave him super senses. The...</td>\n      <td>Senseless</td>\n      <td>False</td>\n      <td>5.8</td>\n      <td>76.0</td>\n    </tr>\n    <tr>\n      <th>1484</th>\n      <td>1529</td>\n      <td>11902</td>\n      <td>False</td>\n      <td>NaN</td>\n      <td>14000000</td>\n      <td>[{'id': 10752, 'name': 'War'}, {'id': 18, 'nam...</td>\n      <td>NaN</td>\n      <td>11902</td>\n      <td>tt0114787</td>\n      <td>sr</td>\n      <td>...</td>\n      <td>1995-04-11</td>\n      <td>0.0</td>\n      <td>170.0</td>\n      <td>[{'iso_639_1': 'en', 'name': 'English'}, {'iso...</td>\n      <td>Released</td>\n      <td>NaN</td>\n      <td>Underground</td>\n      <td>False</td>\n      <td>7.5</td>\n      <td>143.0</td>\n    </tr>\n  </tbody>\n</table>\n<p>1286 rows × 26 columns</p>\n</div>"
     },
     "execution_count": 21,
     "metadata": {},
     "output_type": "execute_result"
    }
   ],
   "source": [
    "merged_data_test"
   ]
  },
  {
   "cell_type": "markdown",
   "id": "dca72f74",
   "metadata": {},
   "source": [
    "- Compute user and item statistics (such as distribution of ratings per user/item, the top 5 most popular items) for the training set train.data and write a discussion;"
   ]
  },
  {
   "cell_type": "code",
   "execution_count": 22,
   "id": "e08370a4",
   "metadata": {},
   "outputs": [
    {
     "name": "stdout",
     "output_type": "stream",
     "text": [
      "User statistics:\n",
      "count    943.000000\n",
      "mean      84.835631\n",
      "std       83.806416\n",
      "min        4.000000\n",
      "25%       27.000000\n",
      "50%       50.000000\n",
      "75%      115.000000\n",
      "max      685.000000\n",
      "Name: user_id, dtype: float64\n"
     ]
    }
   ],
   "source": [
    "# Compute number of ratings per user\n",
    "user_counts = train_df['user_id'].value_counts()\n",
    "print('User statistics:')\n",
    "print(user_counts.describe())"
   ]
  },
  {
   "cell_type": "code",
   "execution_count": 23,
   "id": "17afd8e3",
   "metadata": {},
   "outputs": [
    {
     "name": "stdout",
     "output_type": "stream",
     "text": [
      "Item statistics:\n",
      "count    1650.000000\n",
      "mean       48.484848\n",
      "std        65.035206\n",
      "min         1.000000\n",
      "25%         5.250000\n",
      "50%        22.000000\n",
      "75%        65.000000\n",
      "max       484.000000\n",
      "Name: movie_id, dtype: float64\n"
     ]
    }
   ],
   "source": [
    "# Compute number of ratings per item\n",
    "item_counts = train_df['movie_id'].value_counts()\n",
    "print('Item statistics:')\n",
    "print(item_counts.describe())"
   ]
  },
  {
   "cell_type": "code",
   "execution_count": 24,
   "id": "cc5d3a69",
   "metadata": {},
   "outputs": [
    {
     "name": "stdout",
     "output_type": "stream",
     "text": [
      "Top 5 most popular items:\n",
      "50     484\n",
      "181    422\n",
      "258    402\n",
      "100    395\n",
      "294    394\n",
      "Name: movie_id, dtype: int64\n"
     ]
    }
   ],
   "source": [
    "# Compute top 5 most popular items\n",
    "top_items = item_counts.sort_values(ascending=False)[:5]\n",
    "print('Top 5 most popular items:')\n",
    "print(top_items)"
   ]
  },
  {
   "cell_type": "code",
   "execution_count": 25,
   "id": "c1088332",
   "metadata": {},
   "outputs": [
    {
     "name": "stdout",
     "output_type": "stream",
     "text": [
      "Size of train data with an overview:  75443\n",
      "Number of ratings per user:\n",
      "count    943.000000\n",
      "mean      80.003181\n",
      "std       78.797053\n",
      "min        4.000000\n",
      "25%       26.000000\n",
      "50%       49.000000\n",
      "75%      109.500000\n",
      "max      635.000000\n",
      "Name: user_id, dtype: float64\n",
      "\n",
      "Number of ratings per movie:\n",
      "count    1457.000000\n",
      "mean       51.779684\n",
      "std        66.882843\n",
      "min         1.000000\n",
      "25%         7.000000\n",
      "50%        26.000000\n",
      "75%        69.000000\n",
      "max       484.000000\n",
      "Name: id_in_metadata, dtype: float64\n",
      "\n",
      "Top 5 most popular movies:\n",
      "11      484\n",
      "1892    422\n",
      "686     402\n",
      "275     395\n",
      "1624    394\n",
      "Name: id_in_metadata, dtype: int64\n",
      "\n",
      "Average rating per movie:\n",
      "id_in_metadata\n",
      "5         3.000000\n",
      "6         2.631579\n",
      "11        4.359504\n",
      "13        3.872587\n",
      "15        4.284810\n",
      "            ...   \n",
      "316098    3.500000\n",
      "340210    2.000000\n",
      "407992    2.000000\n",
      "410921    3.166667\n",
      "438108    1.500000\n",
      "Name: rating, Length: 1457, dtype: float64\n",
      "\n",
      "Average rating of all movies:\n",
      "3.1245082035231935\n",
      "\n",
      "Number of average rating per movie:\n",
      "count    1457.000000\n",
      "mean        3.124508\n",
      "std         0.731821\n",
      "min         1.000000\n",
      "25%         2.711111\n",
      "50%         3.200000\n",
      "75%         3.661765\n",
      "max         5.000000\n",
      "Name: rating, dtype: float64\n"
     ]
    }
   ],
   "source": [
    "train_data_df = pd.merge(train_df, merged_data_train, left_on=\"movie_id\", right_on=\"id_in_movielens\") # first atempt\n",
    "# train_data_df = pd.merge(train_df, merged_data_ok, left_on=\"movie_id\", right_on=\"id_in_movielens\")\n",
    "# test_data_df = pd.merge(train_df, merged_data_test, left_on=\"movie_id\", right_on=\"id_in_movielens\")\n",
    "\n",
    "print(\"Size of train data with an overview: \", len(train_data_df))\n",
    "\n",
    "# Compute user and item statistics\n",
    "user_counts = train_data_df[\"user_id\"].value_counts()\n",
    "item_counts = train_data_df[\"id_in_metadata\"].value_counts()\n",
    "avg_ratings = train_data_df.groupby(\"id_in_metadata\")[\"rating\"].mean()\n",
    "\n",
    "# Print the results\n",
    "print(\"Number of ratings per user:\")\n",
    "print(user_counts.describe())\n",
    "print(\"\\nNumber of ratings per movie:\")\n",
    "print(item_counts.describe())\n",
    "print(\"\\nTop 5 most popular movies:\")\n",
    "print(item_counts.head(5))\n",
    "print(\"\\nAverage rating per movie:\")\n",
    "print(avg_ratings)\n",
    "print(\"\\nAverage rating of all movies:\")\n",
    "print(avg_ratings.mean())\n",
    "print(\"\\nNumber of average rating per movie:\")\n",
    "print(avg_ratings.describe())"
   ]
  },
  {
   "cell_type": "code",
   "execution_count": 26,
   "outputs": [],
   "source": [
    "test_data_df = pd.merge(test_df, merged_data_test, left_on=\"movie_id\", right_on=\"id_in_movielens\")\n"
   ],
   "metadata": {
    "collapsed": false
   }
  },
  {
   "cell_type": "code",
   "execution_count": 27,
   "id": "6f0bdb24",
   "metadata": {},
   "outputs": [
    {
     "data": {
      "text/plain": "<Figure size 1000x600 with 1 Axes>",
      "image/png": "[encoded data removed]"
     },
     "metadata": {},
     "output_type": "display_data"
    }
   ],
   "source": [
    "# nu e cerut\n",
    "\n",
    "import matplotlib.pyplot as plt\n",
    "\n",
    "# item_counts = train_df['movie_id'].value_counts()\n",
    "item_counts = train_data_df['movie_id'].value_counts()\n",
    "plt.figure(figsize=(10, 6))\n",
    "plt.bar(range(len(item_counts)), item_counts.values)\n",
    "plt.xlabel('Movie id')\n",
    "plt.ylabel('Number of ratings(Frequency)')\n",
    "plt.show()"
   ]
  },
  {
   "cell_type": "code",
   "execution_count": 28,
   "id": "dc91e05e",
   "metadata": {},
   "outputs": [
    {
     "data": {
      "text/plain": "<Figure size 1000x600 with 1 Axes>",
      "image/png": "[encoded data removed]"
     },
     "metadata": {},
     "output_type": "display_data"
    }
   ],
   "source": [
    "\n",
    "# user_counts = train_df['user_id'].value_counts()\n",
    "user_counts = train_data_df['user_id'].value_counts()\n",
    "plt.figure(figsize=(10, 6))\n",
    "plt.bar(range(len(user_counts)), user_counts.values)\n",
    "plt.xlabel('User id')\n",
    "plt.ylabel('Number of ratings(Frequency)')\n",
    "plt.show()"
   ]
  },
  {
   "cell_type": "code",
   "execution_count": 29,
   "id": "c02bd3c0",
   "metadata": {},
   "outputs": [
    {
     "data": {
      "text/plain": "<Figure size 1000x600 with 1 Axes>",
      "image/png": "[encoded data removed]"
     },
     "metadata": {},
     "output_type": "display_data"
    }
   ],
   "source": [
    "\n",
    "# movie_ratings = train_df.groupby('movie_id')['rating'].mean()\n",
    "movie_ratings = train_data_df.groupby('movie_id')['rating'].mean()\n",
    "\n",
    "plt.figure(figsize=(10, 6))\n",
    "plt.bar(range(len(movie_ratings)), movie_ratings.values)\n",
    "plt.xlabel('Movie id')\n",
    "plt.ylabel('Average rating')\n",
    "plt.show()"
   ]
  },
  {
   "cell_type": "markdown",
   "id": "152cbe3d",
   "metadata": {},
   "source": [
    "## Discussion\n",
    "\n",
    "I calculated the distribution of user and film ratings, as well as average user rating and film. Also, I calculated the first 5 most popular elements based on the number of evaluations. Besides this I also made the graphs of the distributions of user ratings and movie ratings, as well as the chart of average rating for each film.\n",
    "Based on the data observed after performing statistics on items and users, we can deduce the following:\n",
    "A first observation that we can easily deduce from charters, but also from statistics is that the data set is quite scatter. On average one user has rated 80 films, but we also have a standard 78.8 deviation, which indicate a great variation in the number of films that each user has evaluated.The minimum number of films evaluated by a user is 4 and the maximum is 635, indicating that some user have specific tastes, while others are more versatile and evaluate more films.\n",
    "Another observation we can make is that some movies are rated more than others. On average a film has 51 ratings with a standard deviation of 66.9, indicating that the number of ratings on film varies a lot. The minimum number of ratings of a film is 1, and the maximum is 484. From the top 5 the most rated films that have at least 390 ratings, we can some films are more popular than others. From here comes the problem of creating a recommendation system that is not a biased.\n",
    "Another easy thing to see is that on average a movie has a rating of 3.12, and the rating range has as a minimum of 1 and maximum 5. The standard deviation of 0.7318 indicates that there is some variability in the movie ratings, some movies being evaluated much higher or lower than the average. From here we deduce that on average the films are rated above average. This is not necessarily a positive thing, because we can assume that users tend to overate movies."
   ]
  },
  {
   "cell_type": "markdown",
   "id": "396b65ca",
   "metadata": {},
   "source": [
    "- Does the dataset have important properties that should be taken into account or that may mislead the evaluation?\n"
   ]
  },
  {
   "cell_type": "markdown",
   "id": "0c134f96",
   "metadata": {},
   "source": [
    "## Answer\n",
    "Based on the calculated statistics, the data set has some important properties that should be taken into account during the evaluation.\n",
    "\n",
    "First of all, because it is such a big difference between the number of users ratings, the minimum being 4 and the maximum of 635, the system could be biased with the more active users' preferences.\n",
    "Secondly, because it is a big difference between the number of film ratings, the minimum number of ratings of a movie being 1 and the maximum of 484, the recommendations could be a biased towards the more popular movies.\n",
    "Lastly, due to the average rating per movie of 3.12 out of 5, there is the problem of over-rating the movies by users. This could impact the accuracy of the recommendation model."
   ]
  },
  {
   "cell_type": "markdown",
   "id": "45e37d8b",
   "metadata": {},
   "source": [
    "- Compute the frequency of movies that were rated highly, i.e., rating 3-5.\n",
    "How many times was each movie rated highly by user?"
   ]
  },
  {
   "cell_type": "code",
   "execution_count": 30,
   "id": "c0f5d7a6",
   "metadata": {},
   "outputs": [
    {
     "name": "stdout",
     "output_type": "stream",
     "text": [
      "id_in_movielens\n",
      "1       353\n",
      "2        84\n",
      "3        47\n",
      "4       144\n",
      "5        56\n",
      "       ... \n",
      "1674      1\n",
      "1675      1\n",
      "1677      1\n",
      "1679      1\n",
      "1682      1\n",
      "Name: rating, Length: 1394, dtype: int64\n",
      "1394\n"
     ]
    }
   ],
   "source": [
    "high_ratings = train_data_df[train_data_df['rating'].isin([3, 4, 5])]\n",
    "freq_high_ratings = high_ratings.groupby('id_in_movielens')['rating'].count()\n",
    "\n",
    "# Print the result\n",
    "print(freq_high_ratings)\n",
    "print(len(freq_high_ratings))"
   ]
  },
  {
   "cell_type": "code",
   "execution_count": 31,
   "id": "2af43dfa",
   "metadata": {},
   "outputs": [
    {
     "data": {
      "text/plain": "<Figure size 1000x600 with 1 Axes>",
      "image/png": "[encoded data removed]"
     },
     "metadata": {},
     "output_type": "display_data"
    }
   ],
   "source": [
    "\n",
    "fig, ax = plt.subplots(figsize=(10,6))\n",
    "ax.bar(freq_high_ratings.index, freq_high_ratings.values)\n",
    "\n",
    "# set axis labels and title\n",
    "ax.set_xlabel('Movie ID')\n",
    "ax.set_ylabel('Frequency of high ratings')\n",
    "ax.set_title('Frequency of Movies Rated Highly')\n",
    "\n",
    "# rotate x-axis labels for better visibility\n",
    "plt.xticks(rotation=90)\n",
    "\n",
    "# show the plot\n",
    "plt.show()"
   ]
  },
  {
   "cell_type": "markdown",
   "id": "8b4b8836",
   "metadata": {},
   "source": [
    "# 2) Week 7"
   ]
  },
  {
   "cell_type": "markdown",
   "id": "89d02961",
   "metadata": {},
   "source": [
    "- Based on the frequency of highly-rated movies computed in Week 6, implement the TopPop recommender system, which should recommend the top-k movies with high ratings in the training split, train.data."
   ]
  },
  {
   "cell_type": "code",
   "execution_count": 32,
   "id": "62ad4322",
   "metadata": {},
   "outputs": [
    {
     "name": "stdout",
     "output_type": "stream",
     "text": [
      "[50, 181, 100, 258, 1]\n"
     ]
    }
   ],
   "source": [
    "# converting None values to 0\n",
    "freq_high_ratings = {k: v if v is not None else 0 for k, v in freq_high_ratings.items()}\n",
    "\n",
    "def top_pop_recommendations(freq_high_ratings, k=10):\n",
    "    # Sort the movies by their rating frequency in descending order\n",
    "    sorted_movies = sorted(freq_high_ratings, key=freq_high_ratings.get, reverse=True)\n",
    "\n",
    "    # Recommend the top-k movies with the highest rating frequency\n",
    "    recommended_movies = sorted_movies[:k]\n",
    "\n",
    "    return recommended_movies\n",
    "# Example usage: recommend the top-5 movies\n",
    "recommended_movies = top_pop_recommendations( freq_high_ratings, k=5)\n",
    "print(recommended_movies)"
   ]
  },
  {
   "cell_type": "markdown",
   "id": "a37652ee",
   "metadata": {},
   "source": [
    "- Choose at least one neighborhood-based model and one latent factor model that uses the observed user-item ratings in the training set to predict the unobserved ratings. Report your choice of models"
   ]
  },
  {
   "cell_type": "markdown",
   "source": [
    "Since the chosen data set has a small number of movies but also a relatively small number of people, any neighborhood-based model is good to be used, but if we consider the previously mentioned observations, we can see that in this case it is better to use a user-based model. Besides that, another factor that made me choose this model instead of the other one is the large variation in the number of movies that each user has rated.\n",
    "For the latent factor model, I chose to use the SVD, because the data set contains sparse and noisy data, and this model can deal with these problems."
   ],
   "metadata": {
    "collapsed": false
   }
  },
  {
   "cell_type": "code",
   "execution_count": 33,
   "outputs": [
    {
     "data": {
      "text/plain": "       user_id  movie_id  rating  timestamp  id_in_movielens  id_in_metadata  \\\n0            1         1       5  874965758                1             862   \n1            2         1       4  888550871                1             862   \n2            6         1       4  883599478                1             862   \n3           13         1       3  882140487                1             862   \n4           16         1       5  877717833                1             862   \n...        ...       ...     ...        ...              ...             ...   \n75438      851      1676       2  875731674             1676           59232   \n75439      854      1677       3  882814368             1677          124851   \n75440      863      1679       3  889289491             1679            2923   \n75441      863      1680       2  889289570             1680           10215   \n75442      916      1682       3  880845755             1682           88893   \n\n       adult                              belongs_to_collection    budget  \\\n0      False  {'id': 10194, 'name': 'Toy Story Collection', ...  30000000   \n1      False  {'id': 10194, 'name': 'Toy Story Collection', ...  30000000   \n2      False  {'id': 10194, 'name': 'Toy Story Collection', ...  30000000   \n3      False  {'id': 10194, 'name': 'Toy Story Collection', ...  30000000   \n4      False  {'id': 10194, 'name': 'Toy Story Collection', ...  30000000   \n...      ...                                                ...       ...   \n75438  False                                                NaN         0   \n75439  False                                                NaN         0   \n75440  False                                                NaN         0   \n75441  False                                                NaN   6000000   \n75442  False                                                NaN         0   \n\n                                                  genres  ... release_date  \\\n0      [{'id': 16, 'name': 'Animation'}, {'id': 35, '...  ...   1995-10-30   \n1      [{'id': 16, 'name': 'Animation'}, {'id': 35, '...  ...   1995-10-30   \n2      [{'id': 16, 'name': 'Animation'}, {'id': 35, '...  ...   1995-10-30   \n3      [{'id': 16, 'name': 'Animation'}, {'id': 35, '...  ...   1995-10-30   \n4      [{'id': 16, 'name': 'Animation'}, {'id': 35, '...  ...   1995-10-30   \n...                                                  ...  ...          ...   \n75438                      [{'id': 18, 'name': 'Drama'}]  ...   1996-11-20   \n75439                                                 []  ...   1995-06-08   \n75440  [{'id': 10749, 'name': 'Romance'}, {'id': 80, ...  ...   1998-11-07   \n75441  [{'id': 35, 'name': 'Comedy'}, {'id': 18, 'nam...  ...   1998-04-23   \n75442  [{'id': 12, 'name': 'Adventure'}, {'id': 18, '...  ...   1991-01-01   \n\n           revenue runtime                                   spoken_languages  \\\n0      373554033.0    81.0           [{'iso_639_1': 'en', 'name': 'English'}]   \n1      373554033.0    81.0           [{'iso_639_1': 'en', 'name': 'English'}]   \n2      373554033.0    81.0           [{'iso_639_1': 'en', 'name': 'English'}]   \n3      373554033.0    81.0           [{'iso_639_1': 'en', 'name': 'English'}]   \n4      373554033.0    81.0           [{'iso_639_1': 'en', 'name': 'English'}]   \n...            ...     ...                                                ...   \n75438          0.0   119.0           [{'iso_639_1': 'en', 'name': 'English'}]   \n75439          0.0    89.0                                                 []   \n75440          0.0    94.0  [{'iso_639_1': 'fr', 'name': 'Français'}, {'is...   \n75441   58000000.0    99.0           [{'iso_639_1': 'en', 'name': 'English'}]   \n75442          0.0   105.0  [{'iso_639_1': 'it', 'name': 'Italiano'}, {'is...   \n\n         status                                            tagline  \\\n0      Released                                                NaN   \n1      Released                                                NaN   \n2      Released                                                NaN   \n3      Released                                                NaN   \n4      Released                                                NaN   \n...         ...                                                ...   \n75438   Rumored                There Is A Secret About To Explode.   \n75439  Released                                                NaN   \n75440  Released                      Trouble never looked so good.   \n75441  Released  What if one split second sent your life in two...   \n75442  Released            In this battle, there can be no winners   \n\n                 title  video vote_average vote_count  \n0            Toy Story  False          7.7     5415.0  \n1            Toy Story  False          7.7     5415.0  \n2            Toy Story  False          7.7     5415.0  \n3            Toy Story  False          7.7     5415.0  \n4            Toy Story  False          7.7     5415.0  \n...                ...    ...          ...        ...  \n75438  The War at Home  False          6.9        7.0  \n75439    Sweet Nothing  False          5.0        2.0  \n75440        B. Monkey  False          5.8       14.0  \n75441    Sliding Doors  False          6.6      363.0  \n75442  Scream of Stone  False          7.5        4.0  \n\n[75443 rows x 30 columns]",
      "text/html": "<div>\n<style scoped>\n    .dataframe tbody tr th:only-of-type {\n        vertical-align: middle;\n    }\n\n    .dataframe tbody tr th {\n        vertical-align: top;\n    }\n\n    .dataframe thead th {\n        text-align: right;\n    }\n</style>\n<table border=\"1\" class=\"dataframe\">\n  <thead>\n    <tr style=\"text-align: right;\">\n      <th></th>\n      <th>user_id</th>\n      <th>movie_id</th>\n      <th>rating</th>\n      <th>timestamp</th>\n      <th>id_in_movielens</th>\n      <th>id_in_metadata</th>\n      <th>adult</th>\n      <th>belongs_to_collection</th>\n      <th>budget</th>\n      <th>genres</th>\n      <th>...</th>\n      <th>release_date</th>\n      <th>revenue</th>\n      <th>runtime</th>\n      <th>spoken_languages</th>\n      <th>status</th>\n      <th>tagline</th>\n      <th>title</th>\n      <th>video</th>\n      <th>vote_average</th>\n      <th>vote_count</th>\n    </tr>\n  </thead>\n  <tbody>\n    <tr>\n      <th>0</th>\n      <td>1</td>\n      <td>1</td>\n      <td>5</td>\n      <td>874965758</td>\n      <td>1</td>\n      <td>862</td>\n      <td>False</td>\n      <td>{'id': 10194, 'name': 'Toy Story Collection', ...</td>\n      <td>30000000</td>\n      <td>[{'id': 16, 'name': 'Animation'}, {'id': 35, '...</td>\n      <td>...</td>\n      <td>1995-10-30</td>\n      <td>373554033.0</td>\n      <td>81.0</td>\n      <td>[{'iso_639_1': 'en', 'name': 'English'}]</td>\n      <td>Released</td>\n      <td>NaN</td>\n      <td>Toy Story</td>\n      <td>False</td>\n      <td>7.7</td>\n      <td>5415.0</td>\n    </tr>\n    <tr>\n      <th>1</th>\n      <td>2</td>\n      <td>1</td>\n      <td>4</td>\n      <td>888550871</td>\n      <td>1</td>\n      <td>862</td>\n      <td>False</td>\n      <td>{'id': 10194, 'name': 'Toy Story Collection', ...</td>\n      <td>30000000</td>\n      <td>[{'id': 16, 'name': 'Animation'}, {'id': 35, '...</td>\n      <td>...</td>\n      <td>1995-10-30</td>\n      <td>373554033.0</td>\n      <td>81.0</td>\n      <td>[{'iso_639_1': 'en', 'name': 'English'}]</td>\n      <td>Released</td>\n      <td>NaN</td>\n      <td>Toy Story</td>\n      <td>False</td>\n      <td>7.7</td>\n      <td>5415.0</td>\n    </tr>\n    <tr>\n      <th>2</th>\n      <td>6</td>\n      <td>1</td>\n      <td>4</td>\n      <td>883599478</td>\n      <td>1</td>\n      <td>862</td>\n      <td>False</td>\n      <td>{'id': 10194, 'name': 'Toy Story Collection', ...</td>\n      <td>30000000</td>\n      <td>[{'id': 16, 'name': 'Animation'}, {'id': 35, '...</td>\n      <td>...</td>\n      <td>1995-10-30</td>\n      <td>373554033.0</td>\n      <td>81.0</td>\n      <td>[{'iso_639_1': 'en', 'name': 'English'}]</td>\n      <td>Released</td>\n      <td>NaN</td>\n      <td>Toy Story</td>\n      <td>False</td>\n      <td>7.7</td>\n      <td>5415.0</td>\n    </tr>\n    <tr>\n      <th>3</th>\n      <td>13</td>\n      <td>1</td>\n      <td>3</td>\n      <td>882140487</td>\n      <td>1</td>\n      <td>862</td>\n      <td>False</td>\n      <td>{'id': 10194, 'name': 'Toy Story Collection', ...</td>\n      <td>30000000</td>\n      <td>[{'id': 16, 'name': 'Animation'}, {'id': 35, '...</td>\n      <td>...</td>\n      <td>1995-10-30</td>\n      <td>373554033.0</td>\n      <td>81.0</td>\n      <td>[{'iso_639_1': 'en', 'name': 'English'}]</td>\n      <td>Released</td>\n      <td>NaN</td>\n      <td>Toy Story</td>\n      <td>False</td>\n      <td>7.7</td>\n      <td>5415.0</td>\n    </tr>\n    <tr>\n      <th>4</th>\n      <td>16</td>\n      <td>1</td>\n      <td>5</td>\n      <td>877717833</td>\n      <td>1</td>\n      <td>862</td>\n      <td>False</td>\n      <td>{'id': 10194, 'name': 'Toy Story Collection', ...</td>\n      <td>30000000</td>\n      <td>[{'id': 16, 'name': 'Animation'}, {'id': 35, '...</td>\n      <td>...</td>\n      <td>1995-10-30</td>\n      <td>373554033.0</td>\n      <td>81.0</td>\n      <td>[{'iso_639_1': 'en', 'name': 'English'}]</td>\n      <td>Released</td>\n      <td>NaN</td>\n      <td>Toy Story</td>\n      <td>False</td>\n      <td>7.7</td>\n      <td>5415.0</td>\n    </tr>\n    <tr>\n      <th>...</th>\n      <td>...</td>\n      <td>...</td>\n      <td>...</td>\n      <td>...</td>\n      <td>...</td>\n      <td>...</td>\n      <td>...</td>\n      <td>...</td>\n      <td>...</td>\n      <td>...</td>\n      <td>...</td>\n      <td>...</td>\n      <td>...</td>\n      <td>...</td>\n      <td>...</td>\n      <td>...</td>\n      <td>...</td>\n      <td>...</td>\n      <td>...</td>\n      <td>...</td>\n      <td>...</td>\n    </tr>\n    <tr>\n      <th>75438</th>\n      <td>851</td>\n      <td>1676</td>\n      <td>2</td>\n      <td>875731674</td>\n      <td>1676</td>\n      <td>59232</td>\n      <td>False</td>\n      <td>NaN</td>\n      <td>0</td>\n      <td>[{'id': 18, 'name': 'Drama'}]</td>\n      <td>...</td>\n      <td>1996-11-20</td>\n      <td>0.0</td>\n      <td>119.0</td>\n      <td>[{'iso_639_1': 'en', 'name': 'English'}]</td>\n      <td>Rumored</td>\n      <td>There Is A Secret About To Explode.</td>\n      <td>The War at Home</td>\n      <td>False</td>\n      <td>6.9</td>\n      <td>7.0</td>\n    </tr>\n    <tr>\n      <th>75439</th>\n      <td>854</td>\n      <td>1677</td>\n      <td>3</td>\n      <td>882814368</td>\n      <td>1677</td>\n      <td>124851</td>\n      <td>False</td>\n      <td>NaN</td>\n      <td>0</td>\n      <td>[]</td>\n      <td>...</td>\n      <td>1995-06-08</td>\n      <td>0.0</td>\n      <td>89.0</td>\n      <td>[]</td>\n      <td>Released</td>\n      <td>NaN</td>\n      <td>Sweet Nothing</td>\n      <td>False</td>\n      <td>5.0</td>\n      <td>2.0</td>\n    </tr>\n    <tr>\n      <th>75440</th>\n      <td>863</td>\n      <td>1679</td>\n      <td>3</td>\n      <td>889289491</td>\n      <td>1679</td>\n      <td>2923</td>\n      <td>False</td>\n      <td>NaN</td>\n      <td>0</td>\n      <td>[{'id': 10749, 'name': 'Romance'}, {'id': 80, ...</td>\n      <td>...</td>\n      <td>1998-11-07</td>\n      <td>0.0</td>\n      <td>94.0</td>\n      <td>[{'iso_639_1': 'fr', 'name': 'Français'}, {'is...</td>\n      <td>Released</td>\n      <td>Trouble never looked so good.</td>\n      <td>B. Monkey</td>\n      <td>False</td>\n      <td>5.8</td>\n      <td>14.0</td>\n    </tr>\n    <tr>\n      <th>75441</th>\n      <td>863</td>\n      <td>1680</td>\n      <td>2</td>\n      <td>889289570</td>\n      <td>1680</td>\n      <td>10215</td>\n      <td>False</td>\n      <td>NaN</td>\n      <td>6000000</td>\n      <td>[{'id': 35, 'name': 'Comedy'}, {'id': 18, 'nam...</td>\n      <td>...</td>\n      <td>1998-04-23</td>\n      <td>58000000.0</td>\n      <td>99.0</td>\n      <td>[{'iso_639_1': 'en', 'name': 'English'}]</td>\n      <td>Released</td>\n      <td>What if one split second sent your life in two...</td>\n      <td>Sliding Doors</td>\n      <td>False</td>\n      <td>6.6</td>\n      <td>363.0</td>\n    </tr>\n    <tr>\n      <th>75442</th>\n      <td>916</td>\n      <td>1682</td>\n      <td>3</td>\n      <td>880845755</td>\n      <td>1682</td>\n      <td>88893</td>\n      <td>False</td>\n      <td>NaN</td>\n      <td>0</td>\n      <td>[{'id': 12, 'name': 'Adventure'}, {'id': 18, '...</td>\n      <td>...</td>\n      <td>1991-01-01</td>\n      <td>0.0</td>\n      <td>105.0</td>\n      <td>[{'iso_639_1': 'it', 'name': 'Italiano'}, {'is...</td>\n      <td>Released</td>\n      <td>In this battle, there can be no winners</td>\n      <td>Scream of Stone</td>\n      <td>False</td>\n      <td>7.5</td>\n      <td>4.0</td>\n    </tr>\n  </tbody>\n</table>\n<p>75443 rows × 30 columns</p>\n</div>"
     },
     "execution_count": 33,
     "metadata": {},
     "output_type": "execute_result"
    }
   ],
   "source": [
    "train_data_df"
   ],
   "metadata": {
    "collapsed": false
   }
  },
  {
   "cell_type": "markdown",
   "source": [
    "- Use 5-fold cross-validation on the training set to tune the hyperparameters of the chosen models (similarity measure and number of neighbors for the neighborhood-based model; number of latent factors and number of epochs for the latent factor model).\n"
   ],
   "metadata": {
    "collapsed": false
   }
  },
  {
   "cell_type": "code",
   "execution_count": 34,
   "outputs": [],
   "source": [
    "from surprise import KNNBasic\n",
    "from surprise import SVD\n",
    "from surprise import Dataset\n",
    "from surprise import Reader\n",
    "from surprise import accuracy\n",
    "from surprise.model_selection import GridSearchCV"
   ],
   "metadata": {
    "collapsed": false
   }
  },
  {
   "cell_type": "code",
   "execution_count": 157,
   "outputs": [
    {
     "name": "stdout",
     "output_type": "stream",
     "text": [
      "Computing the cosine similarity matrix...\n",
      "Done computing similarity matrix.\n",
      "Computing the cosine similarity matrix...\n",
      "Done computing similarity matrix.\n",
      "Computing the cosine similarity matrix...\n",
      "Done computing similarity matrix.\n",
      "Computing the cosine similarity matrix...\n",
      "Done computing similarity matrix.\n",
      "Computing the cosine similarity matrix...\n",
      "Done computing similarity matrix.\n",
      "Computing the cosine similarity matrix...\n",
      "Done computing similarity matrix.\n",
      "Computing the cosine similarity matrix...\n",
      "Done computing similarity matrix.\n",
      "Computing the cosine similarity matrix...\n",
      "Done computing similarity matrix.\n",
      "Computing the cosine similarity matrix...\n",
      "Done computing similarity matrix.\n",
      "Computing the cosine similarity matrix...\n",
      "Done computing similarity matrix.\n",
      "Computing the cosine similarity matrix...\n",
      "Done computing similarity matrix.\n",
      "Computing the cosine similarity matrix...\n",
      "Done computing similarity matrix.\n",
      "Computing the cosine similarity matrix...\n",
      "Done computing similarity matrix.\n",
      "Computing the cosine similarity matrix...\n",
      "Done computing similarity matrix.\n",
      "Computing the cosine similarity matrix...\n",
      "Done computing similarity matrix.\n",
      "Computing the cosine similarity matrix...\n",
      "Done computing similarity matrix.\n",
      "Computing the cosine similarity matrix...\n",
      "Done computing similarity matrix.\n",
      "Computing the cosine similarity matrix...\n",
      "Done computing similarity matrix.\n",
      "Computing the cosine similarity matrix...\n",
      "Done computing similarity matrix.\n",
      "Computing the cosine similarity matrix...\n",
      "Done computing similarity matrix.\n",
      "Computing the cosine similarity matrix...\n",
      "Done computing similarity matrix.\n",
      "Computing the cosine similarity matrix...\n",
      "Done computing similarity matrix.\n",
      "Computing the cosine similarity matrix...\n",
      "Done computing similarity matrix.\n",
      "Computing the cosine similarity matrix...\n",
      "Done computing similarity matrix.\n",
      "Computing the cosine similarity matrix...\n",
      "Done computing similarity matrix.\n",
      "Computing the cosine similarity matrix...\n",
      "Done computing similarity matrix.\n",
      "Computing the cosine similarity matrix...\n",
      "Done computing similarity matrix.\n",
      "Computing the cosine similarity matrix...\n",
      "Done computing similarity matrix.\n",
      "Computing the cosine similarity matrix...\n",
      "Done computing similarity matrix.\n",
      "Computing the cosine similarity matrix...\n",
      "Done computing similarity matrix.\n",
      "Computing the cosine similarity matrix...\n",
      "Done computing similarity matrix.\n",
      "Computing the cosine similarity matrix...\n",
      "Done computing similarity matrix.\n",
      "Computing the cosine similarity matrix...\n",
      "Done computing similarity matrix.\n",
      "Computing the cosine similarity matrix...\n",
      "Done computing similarity matrix.\n",
      "Computing the cosine similarity matrix...\n",
      "Done computing similarity matrix.\n",
      "Computing the cosine similarity matrix...\n",
      "Done computing similarity matrix.\n",
      "Computing the cosine similarity matrix...\n",
      "Done computing similarity matrix.\n",
      "Computing the cosine similarity matrix...\n",
      "Done computing similarity matrix.\n",
      "Computing the cosine similarity matrix...\n",
      "Done computing similarity matrix.\n",
      "Computing the cosine similarity matrix...\n",
      "Done computing similarity matrix.\n",
      "Computing the cosine similarity matrix...\n",
      "Done computing similarity matrix.\n",
      "Computing the cosine similarity matrix...\n",
      "Done computing similarity matrix.\n",
      "Computing the cosine similarity matrix...\n",
      "Done computing similarity matrix.\n",
      "Computing the cosine similarity matrix...\n",
      "Done computing similarity matrix.\n",
      "Computing the cosine similarity matrix...\n",
      "Done computing similarity matrix.\n",
      "Computing the msd similarity matrix...\n",
      "Done computing similarity matrix.\n",
      "Computing the msd similarity matrix...\n",
      "Done computing similarity matrix.\n",
      "Computing the msd similarity matrix...\n",
      "Done computing similarity matrix.\n",
      "Computing the msd similarity matrix...\n",
      "Done computing similarity matrix.\n",
      "Computing the msd similarity matrix...\n",
      "Done computing similarity matrix.\n",
      "Computing the msd similarity matrix...\n",
      "Done computing similarity matrix.\n",
      "Computing the msd similarity matrix...\n",
      "Done computing similarity matrix.\n",
      "Computing the msd similarity matrix...\n",
      "Done computing similarity matrix.\n",
      "Computing the msd similarity matrix...\n",
      "Done computing similarity matrix.\n",
      "Computing the msd similarity matrix...\n",
      "Done computing similarity matrix.\n",
      "Computing the msd similarity matrix...\n",
      "Done computing similarity matrix.\n",
      "Computing the msd similarity matrix...\n",
      "Done computing similarity matrix.\n",
      "Computing the msd similarity matrix...\n",
      "Done computing similarity matrix.\n",
      "Computing the msd similarity matrix...\n",
      "Done computing similarity matrix.\n",
      "Computing the msd similarity matrix...\n",
      "Done computing similarity matrix.\n",
      "Computing the msd similarity matrix...\n",
      "Done computing similarity matrix.\n",
      "Computing the msd similarity matrix...\n",
      "Done computing similarity matrix.\n",
      "Computing the msd similarity matrix...\n",
      "Done computing similarity matrix.\n",
      "Computing the msd similarity matrix...\n",
      "Done computing similarity matrix.\n",
      "Computing the msd similarity matrix...\n",
      "Done computing similarity matrix.\n",
      "Computing the msd similarity matrix...\n",
      "Done computing similarity matrix.\n",
      "Computing the msd similarity matrix...\n",
      "Done computing similarity matrix.\n",
      "Computing the msd similarity matrix...\n",
      "Done computing similarity matrix.\n",
      "Computing the msd similarity matrix...\n",
      "Done computing similarity matrix.\n",
      "Computing the msd similarity matrix...\n",
      "Done computing similarity matrix.\n",
      "Computing the msd similarity matrix...\n",
      "Done computing similarity matrix.\n",
      "Computing the msd similarity matrix...\n",
      "Done computing similarity matrix.\n",
      "Computing the msd similarity matrix...\n",
      "Done computing similarity matrix.\n",
      "Computing the msd similarity matrix...\n",
      "Done computing similarity matrix.\n",
      "Computing the msd similarity matrix...\n",
      "Done computing similarity matrix.\n",
      "Computing the msd similarity matrix...\n",
      "Done computing similarity matrix.\n",
      "Computing the msd similarity matrix...\n",
      "Done computing similarity matrix.\n",
      "Computing the msd similarity matrix...\n",
      "Done computing similarity matrix.\n",
      "Computing the msd similarity matrix...\n",
      "Done computing similarity matrix.\n",
      "Computing the msd similarity matrix...\n",
      "Done computing similarity matrix.\n",
      "Computing the msd similarity matrix...\n",
      "Done computing similarity matrix.\n",
      "Computing the msd similarity matrix...\n",
      "Done computing similarity matrix.\n",
      "Computing the msd similarity matrix...\n",
      "Done computing similarity matrix.\n",
      "Computing the msd similarity matrix...\n",
      "Done computing similarity matrix.\n",
      "Computing the msd similarity matrix...\n",
      "Done computing similarity matrix.\n",
      "Computing the msd similarity matrix...\n",
      "Done computing similarity matrix.\n",
      "Computing the msd similarity matrix...\n",
      "Done computing similarity matrix.\n",
      "Computing the msd similarity matrix...\n",
      "Done computing similarity matrix.\n",
      "Computing the msd similarity matrix...\n",
      "Done computing similarity matrix.\n",
      "Computing the msd similarity matrix...\n",
      "Done computing similarity matrix.\n",
      "Computing the pearson similarity matrix...\n",
      "Done computing similarity matrix.\n",
      "Computing the pearson similarity matrix...\n",
      "Done computing similarity matrix.\n",
      "Computing the pearson similarity matrix...\n",
      "Done computing similarity matrix.\n",
      "Computing the pearson similarity matrix...\n",
      "Done computing similarity matrix.\n",
      "Computing the pearson similarity matrix...\n",
      "Done computing similarity matrix.\n",
      "Computing the pearson similarity matrix...\n",
      "Done computing similarity matrix.\n",
      "Computing the pearson similarity matrix...\n",
      "Done computing similarity matrix.\n",
      "Computing the pearson similarity matrix...\n",
      "Done computing similarity matrix.\n",
      "Computing the pearson similarity matrix...\n",
      "Done computing similarity matrix.\n",
      "Computing the pearson similarity matrix...\n",
      "Done computing similarity matrix.\n",
      "Computing the pearson similarity matrix...\n",
      "Done computing similarity matrix.\n",
      "Computing the pearson similarity matrix...\n",
      "Done computing similarity matrix.\n",
      "Computing the pearson similarity matrix...\n",
      "Done computing similarity matrix.\n",
      "Computing the pearson similarity matrix...\n",
      "Done computing similarity matrix.\n",
      "Computing the pearson similarity matrix...\n",
      "Done computing similarity matrix.\n",
      "Computing the pearson similarity matrix...\n",
      "Done computing similarity matrix.\n",
      "Computing the pearson similarity matrix...\n",
      "Done computing similarity matrix.\n",
      "Computing the pearson similarity matrix...\n",
      "Done computing similarity matrix.\n",
      "Computing the pearson similarity matrix...\n",
      "Done computing similarity matrix.\n",
      "Computing the pearson similarity matrix...\n",
      "Done computing similarity matrix.\n",
      "Computing the pearson similarity matrix...\n",
      "Done computing similarity matrix.\n",
      "Computing the pearson similarity matrix...\n",
      "Done computing similarity matrix.\n",
      "Computing the pearson similarity matrix...\n",
      "Done computing similarity matrix.\n",
      "Computing the pearson similarity matrix...\n",
      "Done computing similarity matrix.\n",
      "Computing the pearson similarity matrix...\n",
      "Done computing similarity matrix.\n",
      "Computing the pearson similarity matrix...\n",
      "Done computing similarity matrix.\n",
      "Computing the pearson similarity matrix...\n",
      "Done computing similarity matrix.\n",
      "Computing the pearson similarity matrix...\n",
      "Done computing similarity matrix.\n",
      "Computing the pearson similarity matrix...\n",
      "Done computing similarity matrix.\n",
      "Computing the pearson similarity matrix...\n",
      "Done computing similarity matrix.\n",
      "Computing the pearson similarity matrix...\n",
      "Done computing similarity matrix.\n",
      "Computing the pearson similarity matrix...\n",
      "Done computing similarity matrix.\n",
      "Computing the pearson similarity matrix...\n",
      "Done computing similarity matrix.\n",
      "Computing the pearson similarity matrix...\n",
      "Done computing similarity matrix.\n",
      "Computing the pearson similarity matrix...\n",
      "Done computing similarity matrix.\n",
      "Computing the pearson similarity matrix...\n",
      "Done computing similarity matrix.\n",
      "Computing the pearson similarity matrix...\n",
      "Done computing similarity matrix.\n",
      "Computing the pearson similarity matrix...\n",
      "Done computing similarity matrix.\n",
      "Computing the pearson similarity matrix...\n",
      "Done computing similarity matrix.\n",
      "Computing the pearson similarity matrix...\n",
      "Done computing similarity matrix.\n",
      "Computing the pearson similarity matrix...\n",
      "Done computing similarity matrix.\n",
      "Computing the pearson similarity matrix...\n",
      "Done computing similarity matrix.\n",
      "Computing the pearson similarity matrix...\n",
      "Done computing similarity matrix.\n",
      "Computing the pearson similarity matrix...\n",
      "Done computing similarity matrix.\n",
      "Computing the pearson similarity matrix...\n",
      "Done computing similarity matrix.\n",
      "{'sim_options': {'name': 'msd', 'user_based': True, 'min_support': 5, 'shrinkage': 0}}\n",
      "0.983678664085485\n",
      "Computing the cosine similarity matrix...\n",
      "Done computing similarity matrix.\n",
      "Computing the cosine similarity matrix...\n",
      "Done computing similarity matrix.\n",
      "Computing the cosine similarity matrix...\n",
      "Done computing similarity matrix.\n",
      "Computing the cosine similarity matrix...\n",
      "Done computing similarity matrix.\n",
      "Computing the cosine similarity matrix...\n",
      "Done computing similarity matrix.\n",
      "Computing the cosine similarity matrix...\n",
      "Done computing similarity matrix.\n",
      "Computing the cosine similarity matrix...\n",
      "Done computing similarity matrix.\n",
      "Computing the cosine similarity matrix...\n",
      "Done computing similarity matrix.\n",
      "Computing the cosine similarity matrix...\n",
      "Done computing similarity matrix.\n",
      "Computing the cosine similarity matrix...\n",
      "Done computing similarity matrix.\n",
      "Computing the cosine similarity matrix...\n",
      "Done computing similarity matrix.\n",
      "Computing the cosine similarity matrix...\n",
      "Done computing similarity matrix.\n",
      "Computing the cosine similarity matrix...\n",
      "Done computing similarity matrix.\n",
      "Computing the cosine similarity matrix...\n",
      "Done computing similarity matrix.\n",
      "Computing the cosine similarity matrix...\n",
      "Done computing similarity matrix.\n",
      "Computing the cosine similarity matrix...\n",
      "Done computing similarity matrix.\n",
      "Computing the cosine similarity matrix...\n",
      "Done computing similarity matrix.\n",
      "Computing the cosine similarity matrix...\n",
      "Done computing similarity matrix.\n",
      "Computing the cosine similarity matrix...\n",
      "Done computing similarity matrix.\n",
      "Computing the cosine similarity matrix...\n",
      "Done computing similarity matrix.\n",
      "Computing the cosine similarity matrix...\n",
      "Done computing similarity matrix.\n",
      "Computing the cosine similarity matrix...\n",
      "Done computing similarity matrix.\n",
      "Computing the cosine similarity matrix...\n",
      "Done computing similarity matrix.\n",
      "Computing the cosine similarity matrix...\n",
      "Done computing similarity matrix.\n",
      "Computing the cosine similarity matrix...\n",
      "Done computing similarity matrix.\n",
      "Computing the cosine similarity matrix...\n",
      "Done computing similarity matrix.\n",
      "Computing the cosine similarity matrix...\n",
      "Done computing similarity matrix.\n",
      "Computing the cosine similarity matrix...\n",
      "Done computing similarity matrix.\n",
      "Computing the cosine similarity matrix...\n",
      "Done computing similarity matrix.\n",
      "Computing the cosine similarity matrix...\n",
      "Done computing similarity matrix.\n",
      "Computing the cosine similarity matrix...\n",
      "Done computing similarity matrix.\n",
      "Computing the cosine similarity matrix...\n",
      "Done computing similarity matrix.\n",
      "Computing the cosine similarity matrix...\n",
      "Done computing similarity matrix.\n",
      "Computing the cosine similarity matrix...\n",
      "Done computing similarity matrix.\n",
      "Computing the cosine similarity matrix...\n",
      "Done computing similarity matrix.\n",
      "Computing the cosine similarity matrix...\n",
      "Done computing similarity matrix.\n",
      "Computing the cosine similarity matrix...\n",
      "Done computing similarity matrix.\n",
      "Computing the cosine similarity matrix...\n",
      "Done computing similarity matrix.\n",
      "Computing the cosine similarity matrix...\n",
      "Done computing similarity matrix.\n",
      "Computing the cosine similarity matrix...\n",
      "Done computing similarity matrix.\n",
      "Computing the cosine similarity matrix...\n",
      "Done computing similarity matrix.\n",
      "Computing the cosine similarity matrix...\n",
      "Done computing similarity matrix.\n",
      "Computing the cosine similarity matrix...\n",
      "Done computing similarity matrix.\n",
      "Computing the cosine similarity matrix...\n",
      "Done computing similarity matrix.\n",
      "Computing the cosine similarity matrix...\n",
      "Done computing similarity matrix.\n",
      "Computing the msd similarity matrix...\n",
      "Done computing similarity matrix.\n",
      "Computing the msd similarity matrix...\n",
      "Done computing similarity matrix.\n",
      "Computing the msd similarity matrix...\n",
      "Done computing similarity matrix.\n",
      "Computing the msd similarity matrix...\n",
      "Done computing similarity matrix.\n",
      "Computing the msd similarity matrix...\n",
      "Done computing similarity matrix.\n",
      "Computing the msd similarity matrix...\n",
      "Done computing similarity matrix.\n",
      "Computing the msd similarity matrix...\n",
      "Done computing similarity matrix.\n",
      "Computing the msd similarity matrix...\n",
      "Done computing similarity matrix.\n",
      "Computing the msd similarity matrix...\n",
      "Done computing similarity matrix.\n",
      "Computing the msd similarity matrix...\n",
      "Done computing similarity matrix.\n",
      "Computing the msd similarity matrix...\n",
      "Done computing similarity matrix.\n",
      "Computing the msd similarity matrix...\n",
      "Done computing similarity matrix.\n",
      "Computing the msd similarity matrix...\n",
      "Done computing similarity matrix.\n",
      "Computing the msd similarity matrix...\n",
      "Done computing similarity matrix.\n",
      "Computing the msd similarity matrix...\n",
      "Done computing similarity matrix.\n",
      "Computing the msd similarity matrix...\n",
      "Done computing similarity matrix.\n",
      "Computing the msd similarity matrix...\n",
      "Done computing similarity matrix.\n",
      "Computing the msd similarity matrix...\n",
      "Done computing similarity matrix.\n",
      "Computing the msd similarity matrix...\n",
      "Done computing similarity matrix.\n",
      "Computing the msd similarity matrix...\n",
      "Done computing similarity matrix.\n",
      "Computing the msd similarity matrix...\n",
      "Done computing similarity matrix.\n",
      "Computing the msd similarity matrix...\n",
      "Done computing similarity matrix.\n",
      "Computing the msd similarity matrix...\n",
      "Done computing similarity matrix.\n",
      "Computing the msd similarity matrix...\n",
      "Done computing similarity matrix.\n",
      "Computing the msd similarity matrix...\n",
      "Done computing similarity matrix.\n",
      "Computing the msd similarity matrix...\n",
      "Done computing similarity matrix.\n",
      "Computing the msd similarity matrix...\n",
      "Done computing similarity matrix.\n",
      "Computing the msd similarity matrix...\n",
      "Done computing similarity matrix.\n",
      "Computing the msd similarity matrix...\n",
      "Done computing similarity matrix.\n",
      "Computing the msd similarity matrix...\n",
      "Done computing similarity matrix.\n",
      "Computing the msd similarity matrix...\n",
      "Done computing similarity matrix.\n",
      "Computing the msd similarity matrix...\n",
      "Done computing similarity matrix.\n",
      "Computing the msd similarity matrix...\n",
      "Done computing similarity matrix.\n",
      "Computing the msd similarity matrix...\n",
      "Done computing similarity matrix.\n",
      "Computing the msd similarity matrix...\n",
      "Done computing similarity matrix.\n",
      "Computing the msd similarity matrix...\n",
      "Done computing similarity matrix.\n",
      "Computing the msd similarity matrix...\n",
      "Done computing similarity matrix.\n",
      "Computing the msd similarity matrix...\n",
      "Done computing similarity matrix.\n",
      "Computing the msd similarity matrix...\n",
      "Done computing similarity matrix.\n",
      "Computing the msd similarity matrix...\n",
      "Done computing similarity matrix.\n",
      "Computing the msd similarity matrix...\n",
      "Done computing similarity matrix.\n",
      "Computing the msd similarity matrix...\n",
      "Done computing similarity matrix.\n",
      "Computing the msd similarity matrix...\n",
      "Done computing similarity matrix.\n",
      "Computing the msd similarity matrix...\n",
      "Done computing similarity matrix.\n",
      "Computing the msd similarity matrix...\n",
      "Done computing similarity matrix.\n",
      "Computing the pearson similarity matrix...\n",
      "Done computing similarity matrix.\n",
      "Computing the pearson similarity matrix...\n",
      "Done computing similarity matrix.\n",
      "Computing the pearson similarity matrix...\n",
      "Done computing similarity matrix.\n",
      "Computing the pearson similarity matrix...\n",
      "Done computing similarity matrix.\n",
      "Computing the pearson similarity matrix...\n",
      "Done computing similarity matrix.\n",
      "Computing the pearson similarity matrix...\n",
      "Done computing similarity matrix.\n",
      "Computing the pearson similarity matrix...\n",
      "Done computing similarity matrix.\n",
      "Computing the pearson similarity matrix...\n",
      "Done computing similarity matrix.\n",
      "Computing the pearson similarity matrix...\n",
      "Done computing similarity matrix.\n",
      "Computing the pearson similarity matrix...\n",
      "Done computing similarity matrix.\n",
      "Computing the pearson similarity matrix...\n",
      "Done computing similarity matrix.\n",
      "Computing the pearson similarity matrix...\n",
      "Done computing similarity matrix.\n",
      "Computing the pearson similarity matrix...\n",
      "Done computing similarity matrix.\n",
      "Computing the pearson similarity matrix...\n",
      "Done computing similarity matrix.\n",
      "Computing the pearson similarity matrix...\n",
      "Done computing similarity matrix.\n",
      "Computing the pearson similarity matrix...\n",
      "Done computing similarity matrix.\n",
      "Computing the pearson similarity matrix...\n",
      "Done computing similarity matrix.\n",
      "Computing the pearson similarity matrix...\n",
      "Done computing similarity matrix.\n",
      "Computing the pearson similarity matrix...\n",
      "Done computing similarity matrix.\n",
      "Computing the pearson similarity matrix...\n",
      "Done computing similarity matrix.\n",
      "Computing the pearson similarity matrix...\n",
      "Done computing similarity matrix.\n",
      "Computing the pearson similarity matrix...\n",
      "Done computing similarity matrix.\n",
      "Computing the pearson similarity matrix...\n",
      "Done computing similarity matrix.\n",
      "Computing the pearson similarity matrix...\n",
      "Done computing similarity matrix.\n",
      "Computing the pearson similarity matrix...\n",
      "Done computing similarity matrix.\n",
      "Computing the pearson similarity matrix...\n",
      "Done computing similarity matrix.\n",
      "Computing the pearson similarity matrix...\n",
      "Done computing similarity matrix.\n",
      "Computing the pearson similarity matrix...\n",
      "Done computing similarity matrix.\n",
      "Computing the pearson similarity matrix...\n",
      "Done computing similarity matrix.\n",
      "Computing the pearson similarity matrix...\n",
      "Done computing similarity matrix.\n",
      "Computing the pearson similarity matrix...\n",
      "Done computing similarity matrix.\n",
      "Computing the pearson similarity matrix...\n",
      "Done computing similarity matrix.\n",
      "Computing the pearson similarity matrix...\n",
      "Done computing similarity matrix.\n",
      "Computing the pearson similarity matrix...\n",
      "Done computing similarity matrix.\n",
      "Computing the pearson similarity matrix...\n",
      "Done computing similarity matrix.\n",
      "Computing the pearson similarity matrix...\n",
      "Done computing similarity matrix.\n",
      "Computing the pearson similarity matrix...\n",
      "Done computing similarity matrix.\n",
      "Computing the pearson similarity matrix...\n",
      "Done computing similarity matrix.\n",
      "Computing the pearson similarity matrix...\n",
      "Done computing similarity matrix.\n",
      "Computing the pearson similarity matrix...\n",
      "Done computing similarity matrix.\n",
      "Computing the pearson similarity matrix...\n",
      "Done computing similarity matrix.\n",
      "Computing the pearson similarity matrix...\n",
      "Done computing similarity matrix.\n",
      "Computing the pearson similarity matrix...\n",
      "Done computing similarity matrix.\n",
      "Computing the pearson similarity matrix...\n",
      "Done computing similarity matrix.\n",
      "Computing the pearson similarity matrix...\n",
      "Done computing similarity matrix.\n",
      "{'sim_options': {'name': 'msd', 'user_based': True, 'min_support': 5, 'shrinkage': 0}}\n",
      "0.9838860583437071\n"
     ]
    }
   ],
   "source": [
    "\n",
    "\n",
    "# Load the data\n",
    "reader = Reader(rating_scale=(1, 5))\n",
    "data = Dataset.load_from_df(train_data_df[['user_id', 'movie_id', 'rating']], reader)\n",
    "\n",
    "# Set the range of hyperparameters to tune\n",
    "param_grid = {'sim_options': {'name': ['cosine', 'msd', 'pearson'],\n",
    "                              'user_based': [True],\n",
    "                              'min_support': [1, 5, 10],\n",
    "                              'shrinkage': [0, 50, 100]}}\n",
    "\n",
    "# Tune the model using GridSearchCV with 5-fold cross-validation\n",
    "gs = GridSearchCV(KNNBasic, param_grid, measures=['rmse', 'mae'], cv=5)\n",
    "gs.fit(data)\n",
    "\n",
    "# Print the best hyperparameters and the corresponding score\n",
    "print(gs.best_params['rmse'])\n",
    "print(gs.best_score['rmse'])"
   ],
   "metadata": {
    "collapsed": false
   }
  },
  {
   "cell_type": "code",
   "execution_count": 158,
   "outputs": [
    {
     "name": "stdout",
     "output_type": "stream",
     "text": [
      "{'n_factors': 150, 'n_epochs': 30, 'lr_all': 0.01, 'reg_all': 0.1}\n",
      "0.9201645865705453\n",
      "{'n_factors': 150, 'n_epochs': 30, 'lr_all': 0.01, 'reg_all': 0.1}\n",
      "0.9194313745675335\n"
     ]
    }
   ],
   "source": [
    "\n",
    "\n",
    "# Load the data\n",
    "reader = Reader(rating_scale=(1, 5))\n",
    "data = Dataset.load_from_df(train_data_df[['user_id', 'movie_id', 'rating']], reader)\n",
    "\n",
    "# Set the range of hyperparameters to tune\n",
    "param_grid = {'n_factors': [50, 100, 150],\n",
    "              'n_epochs': [10, 20, 30],\n",
    "              'lr_all': [0.002, 0.005, 0.01],\n",
    "              'reg_all': [0.02, 0.1, 0.2]}\n",
    "\n",
    "# Tune the model using GridSearchCV with 5-fold cross-validation\n",
    "gs = GridSearchCV(SVD, param_grid, measures=['rmse', 'mae'], cv=5)\n",
    "gs.fit(data)\n",
    "\n",
    "# Print the best hyperparameters and the corresponding score\n",
    "print(gs.best_params['rmse'])\n",
    "print(gs.best_score['rmse'])"
   ],
   "metadata": {
    "collapsed": false
   }
  },
  {
   "cell_type": "markdown",
   "source": [
    "- Choose an evaluation measure that is suitable for this task and justify your motivation in using it. Report the optimal hyperparameters together with the scores of your chosen measure, averaged over the 5 folds.\n"
   ],
   "metadata": {
    "collapsed": false
   }
  },
  {
   "cell_type": "markdown",
   "source": [
    "For evaluating recommendation systems, one common measure is Root Mean Squared Error (RMSE) which measures the difference between the predicted and actual ratings. A lower RMSE indicates better performance. Therefore, RMSE is a suitable evaluation measure for this task.\n",
    "\n",
    "Based on the results, the optimal hyperparameters and the corresponding scores for the two models are:\n",
    "\n",
    "User-based collaborative filtering: {'sim_options': {'name': 'msd', 'user_based': True, 'min_support': 5, 'shrinkage': 0}} with an RMSE of 0.9838679774875121 averaged over the 5 folds.\n",
    "\n",
    "SVD: {'n_factors': 150, 'n_epochs': 30, 'lr_all': 0.01, 'reg_all': 0.1} with an RMSE of 0.9195519240670518 averaged over the 5 folds.\n",
    "\n",
    "Therefore, based on the RMSE metric, SVD outperforms user-based collaborative filtering with an average RMSE score of 0.92 compared to 0.98 for the user-based model."
   ],
   "metadata": {
    "collapsed": false
   }
  },
  {
   "cell_type": "markdown",
   "source": [
    "I chose the RMSE (Root Mean Squared Error) as the assessment metric because it is a simple and straightforward tool for assessing the accuracy of the predicted ratings.  I chose it because it is one of the most commonly used metrics for evaluating accuracy, but also because it penalizes larger errors more heavily. Thus, this measure is suitable to measure the accuracy of the predicted ratings.\n",
    "\n",
    "After 5-fold cross-validation, we obtained the following hyperparameters for the user-based collaborative filtering model:\n",
    "  {'sim_options': {'name': 'msd', 'user_based': True, 'min_support': 5, 'shrinkage': 0}}\n",
    "This model achieved an RMSE of 0.98 averaged over the 5 folds.\n",
    "And for the SVD model, we obtained the following hyperparameters: {'n_factors': 150, 'n_epochs': 30, 'lr_all': 0.01, 'reg_all': 0.1} with an RMSE of 0.91.\n",
    "\n",
    "\n",
    "\n"
   ],
   "metadata": {
    "collapsed": false
   }
  },
  {
   "cell_type": "markdown",
   "source": [
    "- Run the models with the optimal hyperparameters to the whole training\n",
    "set."
   ],
   "metadata": {
    "collapsed": false
   }
  },
  {
   "cell_type": "code",
   "execution_count": 35,
   "outputs": [
    {
     "name": "stdout",
     "output_type": "stream",
     "text": [
      "Computing the msd similarity matrix...\n",
      "Done computing similarity matrix.\n",
      "RMSE: 0.8083\n",
      "RMSE: 0.6126\n",
      "KNN RMSE on test set: 0.8083361528783415\n",
      "SVD RMSE on test set: 0.6125563053697511\n"
     ]
    }
   ],
   "source": [
    "from surprise import KNNWithMeans\n",
    "reader = Reader(rating_scale=(1, 5))\n",
    "train_data = Dataset.load_from_df(train_data_df[['user_id', 'movie_id', 'rating']], reader)\n",
    "train_set = train_data.build_full_trainset()\n",
    "\n",
    "knn_model = KNNWithMeans(k=10,\n",
    "                         sim_options={'name': 'msd', 'user_based': True, 'min_support': 5, 'shrinkage': 0})\n",
    "knn_model.fit(train_set)\n",
    "\n",
    "# SVD with optimal hyperparameters\n",
    "svd_model = SVD(n_factors=150, n_epochs=30, lr_all=0.01, reg_all=0.1)\n",
    "svd_model.fit(train_set)\n",
    "\n",
    "# Predict on the test set and calculate accuracy\n",
    "test_set = train_set.build_anti_testset()\n",
    "knn_predictions = knn_model.test(test_set)\n",
    "svd_predictions = svd_model.test(test_set)\n",
    "\n",
    "knn_rmse = accuracy.rmse(knn_predictions)\n",
    "svd_rmse = accuracy.rmse(svd_predictions)\n",
    "\n",
    "print('KNN RMSE on test set:', knn_rmse)\n",
    "print('SVD RMSE on test set:', svd_rmse)"
   ],
   "metadata": {
    "collapsed": false
   }
  },
  {
   "cell_type": "markdown",
   "source": [
    "- Use the final models to rank the non-rated items for each user"
   ],
   "metadata": {
    "collapsed": false
   }
  },
  {
   "cell_type": "code",
   "execution_count": 36,
   "outputs": [],
   "source": [
    "# create a dictionary to store the predicted ratings for each user\n",
    "user_ratings_user_based = {}\n",
    "user_ratings_svd = {}\n",
    "\n",
    "# loop over all users in the test set\n",
    "for user in test_users:\n",
    "\n",
    "    # get the user's item ratings in the training set\n",
    "    train_ratings = test_data_df[test_data_df['user_id']==user]\n",
    "\n",
    "    # get a list of items that the user has not rated\n",
    "    unrated_items = list(set(test_data_df['movie_id']) - set(train_ratings['movie_id']))\n",
    "\n",
    "    # predict ratings for the unrated items using the SVD model\n",
    "    unrated_ratings_svd = [svd_model.predict(user, item).est for item in unrated_items]\n",
    "    unrated_ratings_user_based = [knn_model.predict(user, item).est for item in unrated_items]\n",
    "\n",
    "    # add the predicted ratings to the dictionary\n",
    "    user_ratings_user_based[user] = pd.DataFrame({'movie_id': unrated_items, 'predicted_rating': unrated_ratings_user_based})\n",
    "    user_ratings_svd[user] = pd.DataFrame({'movie_id': unrated_items, 'predicted_rating': unrated_ratings_svd})\n",
    "\n",
    "\n",
    "# sort the unrated items in descending order of predicted rating\n",
    "    user_ratings_user_based[user] = user_ratings_user_based[user].sort_values(by=['predicted_rating'], ascending=False)\n",
    "    user_ratings_svd[user] = user_ratings_svd[user].sort_values(by=['predicted_rating'], ascending=False)\n",
    "\n"
   ],
   "metadata": {
    "collapsed": false
   }
  },
  {
   "cell_type": "code",
   "execution_count": 37,
   "outputs": [
    {
     "name": "stdout",
     "output_type": "stream",
     "text": [
      "      movie_id  predicted_rating\n",
      "39          50          5.000000\n",
      "332        408          5.000000\n",
      "1097      1367          5.000000\n",
      "253        320          5.000000\n",
      "1098      1368          5.000000\n",
      "...        ...               ...\n",
      "1022      1250          2.109862\n",
      "208        263          2.103033\n",
      "726        891          2.056448\n",
      "193        247          1.899214\n",
      "1070      1316          1.591637\n",
      "\n",
      "[1201 rows x 2 columns]\n",
      "      movie_id  predicted_rating\n",
      "1150      1449          4.884380\n",
      "251        318          4.841653\n",
      "332        408          4.766955\n",
      "133        169          4.758074\n",
      "287        357          4.734006\n",
      "...        ...               ...\n",
      "725        890          2.557581\n",
      "796        976          2.555839\n",
      "208        263          2.545834\n",
      "303        375          2.508373\n",
      "370        457          2.500646\n",
      "\n",
      "[1201 rows x 2 columns]\n"
     ]
    }
   ],
   "source": [
    "print(user_ratings_user_based[10])\n",
    "print(user_ratings_svd[10])"
   ],
   "metadata": {
    "collapsed": false
   }
  },
  {
   "cell_type": "markdown",
   "source": [
    "## 3) Week 8"
   ],
   "metadata": {
    "collapsed": false
   }
  },
  {
   "cell_type": "markdown",
   "source": [
    "- Measure the error of the system’s predicted ratings for the movies (Root Mean Square Error, RMSE)"
   ],
   "metadata": {
    "collapsed": false
   }
  },
  {
   "cell_type": "code",
   "execution_count": 38,
   "outputs": [],
   "source": [
    "from sklearn.metrics import mean_squared_error\n",
    "from math import sqrt\n",
    "from sklearn.metrics.pairwise import cosine_similarity"
   ],
   "metadata": {
    "collapsed": false
   }
  },
  {
   "cell_type": "code",
   "execution_count": 39,
   "outputs": [],
   "source": [
    "\n",
    "# test_data_matrix = test_df.pivot_table(index='user_id', columns='movie_id', values='rating', fill_value=0)\n",
    "#\n",
    "#\n",
    "#\n",
    "# train_data_matrix= train_df.pivot_table(index='user_id', columns='movie_id', values='rating', fill_value=0)\n",
    "#\n",
    "# user_similarity = cosine_similarity(train_data_matrix)\n"
   ],
   "metadata": {
    "collapsed": false
   }
  },
  {
   "cell_type": "code",
   "execution_count": 40,
   "outputs": [],
   "source": [
    "from sklearn.metrics import mean_squared_error\n",
    "import numpy as np\n",
    "\n",
    "\n",
    "test_data = Dataset.load_from_df(test_data_df[['user_id', 'movie_id', 'rating']], reader)\n",
    "test_set = test_data.build_full_trainset().build_anti_testset()\n",
    "\n",
    "# Predict ratings for test set\n",
    "test_preds = svd_model.test(test_set)\n",
    "\n"
   ],
   "metadata": {
    "collapsed": false
   }
  },
  {
   "cell_type": "code",
   "execution_count": 41,
   "outputs": [],
   "source": [
    "# # Extract predicted and actual ratings #other version\n",
    "# predicted_ratings = np.array([pred.est for pred in test_preds])\n",
    "# actual_ratings = np.array([pred.r_ui for pred in test_preds])\n",
    "#\n",
    "# # Calculate RMSE\n",
    "# rmse = np.sqrt(mean_squared_error(actual_ratings, predicted_ratings))\n",
    "# print(f\"SVD model RMSE: {rmse:.4f}\")"
   ],
   "metadata": {
    "collapsed": false
   }
  },
  {
   "cell_type": "code",
   "execution_count": 42,
   "outputs": [
    {
     "name": "stdout",
     "output_type": "stream",
     "text": [
      "RMSE: 0.6158\n",
      "RMSE for SVD 0.6157716104390897\n"
     ]
    }
   ],
   "source": [
    "from surprise.accuracy import rmse\n",
    "svd_rmse_test= rmse(test_preds)\n",
    "print(\"RMSE for SVD\",svd_rmse_test)"
   ],
   "metadata": {
    "collapsed": false
   }
  },
  {
   "cell_type": "code",
   "execution_count": 43,
   "outputs": [
    {
     "name": "stdout",
     "output_type": "stream",
     "text": [
      "RMSE: 0.7688\n",
      "RMSE for KNN 0.7687921981860286\n"
     ]
    }
   ],
   "source": [
    "test_preds_neighbor = knn_model.test(test_set)\n",
    "\n",
    "knn_rmse_test= rmse(test_preds_neighbor)\n",
    "print(\"RMSE for KNN\",knn_rmse_test)"
   ],
   "metadata": {
    "collapsed": false
   }
  },
  {
   "cell_type": "markdown",
   "source": [
    "Although RMSE is a metric generally used to predict the accuracy of predictions, it still has some limitations. One of the limitations of this metric is the fact that it does not take into account the rank of the recommended item, so a movie, in this case, that the user might like might have a lower RMSE score.\n",
    "Besides this, another limitation of this metric is that it assumes that all users give ratings in the same way. But in reality, each user has a unique way of giving ratings. Thus the accuracy of the metric may be affected."
   ],
   "metadata": {
    "collapsed": false
   }
  },
  {
   "cell_type": "markdown",
   "source": [
    "To evaluate this, generate the top-k (with k = 5) recommendation for each test user. Based on the top-k recommendation list\n",
    "generated for each user, and using only ratings ≥ 3 in the test data split compute:"
   ],
   "metadata": {
    "collapsed": false
   }
  },
  {
   "cell_type": "code",
   "execution_count": 44,
   "outputs": [],
   "source": [
    "def get_top_k_recommendations(user_ratings, k):\n",
    "    top_k_recommendations = {}\n",
    "\n",
    "    for user, ratings_df in user_ratings.items():\n",
    "        top_k = list(ratings_df.head(k)['movie_id'])\n",
    "        top_k_recommendations[user] = top_k\n",
    "\n",
    "    return top_k_recommendations"
   ],
   "metadata": {
    "collapsed": false
   }
  },
  {
   "cell_type": "code",
   "execution_count": 45,
   "outputs": [],
   "source": [
    "user_topK_recommendations_user_based =   get_top_k_recommendations(user_ratings_user_based ,5)"
   ],
   "metadata": {
    "collapsed": false
   }
  },
  {
   "cell_type": "code",
   "execution_count": 46,
   "outputs": [],
   "source": [
    "user_topK_recommendations_svd = get_top_k_recommendations(user_ratings_svd ,5)"
   ],
   "metadata": {
    "collapsed": false
   }
  },
  {
   "cell_type": "markdown",
   "source": [
    " - Hit rate, averaged across users"
   ],
   "metadata": {
    "collapsed": false
   }
  },
  {
   "cell_type": "code",
   "execution_count": 47,
   "outputs": [],
   "source": [
    "user_recommendations_user_based = {}\n",
    "user_recommendations_svd = {}\n",
    "\n",
    "# loop over all users in the test set\n",
    "for user in test_users:\n",
    "\n",
    "    # get the user's item ratings in the training set\n",
    "    train_ratings = train_data_df[train_data_df['user_id']==user]\n",
    "\n",
    "    # get a list of items that the user has not rated\n",
    "    unrated_items = list(set(train_data_df['movie_id']) - set(train_ratings['movie_id']))\n",
    "\n",
    "    # predict ratings for the unrated items using the user-based and SVD models\n",
    "    unrated_ratings_user_based = [knn_model.predict(user, item).est for item in unrated_items]\n",
    "    unrated_ratings_svd = [svd_model.predict(user, item).est for item in unrated_items]\n",
    "\n",
    "    # create a DataFrame of the predicted ratings for each item\n",
    "    predicted_ratings_user_based = pd.DataFrame({'movie_id': unrated_items, 'predicted_rating': unrated_ratings_user_based})\n",
    "    predicted_ratings_svd = pd.DataFrame({'movie_id': unrated_items, 'predicted_rating': unrated_ratings_svd})\n",
    "\n",
    "    # sort the DataFrame in descending order of predicted rating and keep only the top-k items\n",
    "    top_k_user_based = predicted_ratings_user_based.sort_values(by=['predicted_rating'], ascending=False)[:5]\n",
    "    top_k_svd = predicted_ratings_svd.sort_values(by=['predicted_rating'], ascending=False)[:5]\n",
    "\n",
    "    # add the top-k recommendations to the dictionaries\n",
    "    user_recommendations_user_based[user] = top_k_user_based\n",
    "    user_recommendations_svd[user] = top_k_svd\n",
    "\n",
    "\n",
    "\n"
   ],
   "metadata": {
    "collapsed": false
   }
  },
  {
   "cell_type": "code",
   "execution_count": 48,
   "outputs": [],
   "source": [
    "# convert 5 point ratings to binary labels\n",
    "test_data_df['rating_bin'] = test_data_df['rating'].apply(lambda x: 1 if x >= 3 else 0)\n"
   ],
   "metadata": {
    "collapsed": false
   }
  },
  {
   "cell_type": "code",
   "execution_count": 49,
   "outputs": [
    {
     "data": {
      "text/plain": "0        1\n1        1\n2        1\n3        1\n4        1\n        ..\n18845    1\n18846    0\n18847    1\n18848    1\n18849    1\nName: rating_bin, Length: 18850, dtype: int64"
     },
     "execution_count": 49,
     "metadata": {},
     "output_type": "execute_result"
    }
   ],
   "source": [
    "test_data_df['rating_bin']"
   ],
   "metadata": {
    "collapsed": false
   }
  },
  {
   "cell_type": "code",
   "execution_count": 50,
   "outputs": [
    {
     "name": "stderr",
     "output_type": "stream",
     "text": [
      "E:\\Programe\\Anaconda3\\envs\\web\\lib\\site-packages\\ipykernel_launcher.py:10: SettingWithCopyWarning: \n",
      "A value is trying to be set on a copy of a slice from a DataFrame.\n",
      "Try using .loc[row_indexer,col_indexer] = value instead\n",
      "\n",
      "See the caveats in the documentation: https://pandas.pydata.org/pandas-docs/stable/user_guide/indexing.html#returning-a-view-versus-a-copy\n",
      "  # Remove the CWD from sys.path while we load stuff.\n"
     ]
    }
   ],
   "source": [
    "# create lists to store hit rates for each user\n",
    "hit_rates_user_based = []\n",
    "hit_rates_svd = []\n",
    "\n",
    "# loop over all users in the test set\n",
    "for user in test_users:\n",
    "\n",
    "    # get the user's test ratings\n",
    "    user_test_ratings = test_data_df[test_data_df['user_id'] == user]\n",
    "    user_test_ratings['rating'] = user_test_ratings['rating'].apply(lambda x: 1 if x >= 3 else 0) # map ratings >= 3 to 1, and < 3 to 0\n",
    "\n",
    "    # get the top-k recommendations for the user using user-based CF and SVD\n",
    "    user_top_k_user_based = user_recommendations_user_based[user]['movie_id'].tolist()\n",
    "    user_top_k_svd = user_recommendations_svd[user]['movie_id'].tolist()\n",
    "\n",
    "    # check if any of the recommended items are in the user's test ratings\n",
    "    hits_user_based = user_test_ratings['movie_id'].isin(user_top_k_user_based).any()\n",
    "    hits_svd = user_test_ratings['movie_id'].isin(user_top_k_svd).any()\n",
    "\n",
    "    # calculate the hit rate for the user and add it to the list\n",
    "    hit_rate_user_based = 1 if hits_user_based.any() else 0\n",
    "    hit_rate_svd = 1 if hits_svd.any() else 0\n",
    "\n",
    "    hit_rates_user_based.append(hit_rate_user_based)\n",
    "    hit_rates_svd.append(hit_rate_svd)\n",
    "\n",
    "# calculate the average hit rates across all users\n",
    "avg_hit_rate_user_based = sum(hit_rates_user_based) / len(hit_rates_user_based)\n",
    "avg_hit_rate_svd = sum(hit_rates_svd) / len(hit_rates_svd)\n",
    "\n"
   ],
   "metadata": {
    "collapsed": false
   }
  },
  {
   "cell_type": "code",
   "execution_count": 51,
   "outputs": [
    {
     "name": "stderr",
     "output_type": "stream",
     "text": [
      "E:\\Programe\\Anaconda3\\envs\\web\\lib\\site-packages\\ipykernel_launcher.py:9: SettingWithCopyWarning: \n",
      "A value is trying to be set on a copy of a slice from a DataFrame.\n",
      "Try using .loc[row_indexer,col_indexer] = value instead\n",
      "\n",
      "See the caveats in the documentation: https://pandas.pydata.org/pandas-docs/stable/user_guide/indexing.html#returning-a-view-versus-a-copy\n",
      "  if __name__ == \"__main__\":\n"
     ]
    }
   ],
   "source": [
    "# create a list to store hit rates for TopPop\n",
    "hit_rates_top_pop = []\n",
    "k=5\n",
    "# loop over all users in the test set\n",
    "for user in test_users:\n",
    "\n",
    "    # get the user's test ratings\n",
    "    user_test_ratings = test_data_df[test_data_df['user_id'] == user]\n",
    "    user_test_ratings['rating'] = user_test_ratings['rating'].apply(lambda x: 1 if x >= 3 else 0) # map ratings >= 3 to 1, and < 3 to 0\n",
    "\n",
    "    # get the top-k recommendations for the user using TopPop\n",
    "    user_top_k = recommended_movies[:k]\n",
    "\n",
    "    # check if any of the recommended items are in the user's test ratings\n",
    "    hits_top_pop = user_test_ratings['movie_id'].isin(user_top_k).any()\n",
    "\n",
    "    # calculate the hit rate for the user and add it to the list\n",
    "    hit_rate_top_pop = 1 if hits_top_pop.any() else 0\n",
    "    hit_rates_top_pop.append(hit_rate_top_pop)\n",
    "\n",
    "# calculate the average hit rate across all users\n",
    "avg_hit_rate_top_pop = sum(hit_rates_top_pop) / len(hit_rates_top_pop)\n"
   ],
   "metadata": {
    "collapsed": false
   }
  },
  {
   "cell_type": "code",
   "execution_count": 52,
   "outputs": [
    {
     "name": "stdout",
     "output_type": "stream",
     "text": [
      "Average Hit rate (User-based CF): 0.07\n",
      "Average Hit rate (SVD): 0.39\n",
      "Average Hit rate (TopPop): 0.63\n"
     ]
    }
   ],
   "source": [
    "print(\"Average Hit rate (User-based CF): {:.2f}\".format(avg_hit_rate_user_based))\n",
    "print(\"Average Hit rate (SVD): {:.2f}\".format(avg_hit_rate_svd))\n",
    "print(\"Average Hit rate (TopPop): {:.2f}\".format(avg_hit_rate_top_pop))"
   ],
   "metadata": {
    "collapsed": false
   }
  },
  {
   "cell_type": "markdown",
   "source": [
    "- Precision@k, averaged across users"
   ],
   "metadata": {
    "collapsed": false
   }
  },
  {
   "cell_type": "code",
   "execution_count": 53,
   "outputs": [],
   "source": [
    "def precision_at_k(user_recommendations, test_ratings, k):\n",
    "    precision_sum = 0\n",
    "    user_count = 0\n",
    "\n",
    "    for user_id in user_recommendations.keys():\n",
    "        # get the top-k recommendations for the user\n",
    "        user_top_k = user_recommendations[user_id][:k]\n",
    "\n",
    "        # get the user's ratings in the test split\n",
    "        user_test_ratings = test_ratings[test_ratings['user_id'] == user_id]\n",
    "\n",
    "        # convert the ratings to binary labels\n",
    "        user_test_ratings['rating'] = user_test_ratings['rating'].apply(lambda x: 1 if x >= 3 else 0)\n",
    "\n",
    "        # check how many of the recommended items are positively rated by the user\n",
    "        hits = user_top_k['movie_id'].isin(user_test_ratings['movie_id'][user_test_ratings['rating'] == 1]).sum()\n",
    "\n",
    "        # calculate the precision@k for the user and add it to the sum\n",
    "        precision = hits / k\n",
    "        precision_sum += precision\n",
    "\n",
    "        # increment the user count\n",
    "        user_count += 1\n",
    "\n",
    "    # calculate the average precision@k across all users\n",
    "    avg_precision = precision_sum / user_count\n",
    "\n",
    "    return avg_precision"
   ],
   "metadata": {
    "collapsed": false
   }
  },
  {
   "cell_type": "code",
   "execution_count": 54,
   "outputs": [
    {
     "name": "stderr",
     "output_type": "stream",
     "text": [
      "E:\\Programe\\Anaconda3\\envs\\web\\lib\\site-packages\\ipykernel_launcher.py:13: SettingWithCopyWarning: \n",
      "A value is trying to be set on a copy of a slice from a DataFrame.\n",
      "Try using .loc[row_indexer,col_indexer] = value instead\n",
      "\n",
      "See the caveats in the documentation: https://pandas.pydata.org/pandas-docs/stable/user_guide/indexing.html#returning-a-view-versus-a-copy\n",
      "  del sys.path[0]\n"
     ]
    }
   ],
   "source": [
    "precision_at_k_user_based = precision_at_k(user_recommendations_user_based, test_data_df, 5)\n",
    "precision_at_k_svd = precision_at_k(user_recommendations_svd, test_data_df, 5)"
   ],
   "metadata": {
    "collapsed": false
   }
  },
  {
   "cell_type": "code",
   "execution_count": 55,
   "outputs": [],
   "source": [
    "def precision_at_k_top_pop(recommended_movies, test_ratings, k):\n",
    "    precision_sum = 0\n",
    "    user_count = 0\n",
    "\n",
    "    for user_id in test_ratings['user_id'].unique():\n",
    "        # get the top-k recommendations for the user\n",
    "        user_top_k = recommended_movies[:k]\n",
    "\n",
    "        # get the user's ratings in the test split\n",
    "        user_test_ratings = test_ratings[test_ratings['user_id'] == user_id]\n",
    "\n",
    "        # convert the ratings to binary labels\n",
    "        user_test_ratings['rating'] = user_test_ratings['rating'].apply(lambda x: 1 if x >= 3 else 0)\n",
    "\n",
    "        # check how many of the recommended items are positively rated by the user\n",
    "        hits = set(user_top_k).intersection(set(user_test_ratings['movie_id'][user_test_ratings['rating'] == 1]))\n",
    "\n",
    "        # calculate the precision@k for the user and add it to the sum\n",
    "        precision = len(hits) / k\n",
    "        precision_sum += precision\n",
    "\n",
    "        # increment the user count\n",
    "        user_count += 1\n",
    "\n",
    "    # calculate the average precision@k across all users\n",
    "    avg_precision = precision_sum / user_count\n",
    "\n",
    "    return avg_precision"
   ],
   "metadata": {
    "collapsed": false
   }
  },
  {
   "cell_type": "code",
   "execution_count": 56,
   "outputs": [
    {
     "name": "stderr",
     "output_type": "stream",
     "text": [
      "E:\\Programe\\Anaconda3\\envs\\web\\lib\\site-packages\\ipykernel_launcher.py:13: SettingWithCopyWarning: \n",
      "A value is trying to be set on a copy of a slice from a DataFrame.\n",
      "Try using .loc[row_indexer,col_indexer] = value instead\n",
      "\n",
      "See the caveats in the documentation: https://pandas.pydata.org/pandas-docs/stable/user_guide/indexing.html#returning-a-view-versus-a-copy\n",
      "  del sys.path[0]\n"
     ]
    }
   ],
   "source": [
    "# recommend the top-k movies with the highest rating frequency\n",
    "recommended_movies = top_pop_recommendations(freq_high_ratings, k=5)\n",
    "\n",
    "# calculate Precision@10 for the TopPop algorithm\n",
    "precision_at_k_top_pop = precision_at_k_top_pop(recommended_movies, test_data_df, k=5)"
   ],
   "metadata": {
    "collapsed": false
   }
  },
  {
   "cell_type": "code",
   "execution_count": 57,
   "outputs": [
    {
     "name": "stdout",
     "output_type": "stream",
     "text": [
      "Precision@5 (User-based CF): 0.01351\n",
      "Precision@5 (SVD): 0.12070\n",
      "Precision@5 (TopPop): 0.19259\n"
     ]
    }
   ],
   "source": [
    "print(\"Precision@5 (User-based CF): {:.5f}\".format(precision_at_k_user_based))\n",
    "print(\"Precision@5 (SVD): {:.5f}\".format(precision_at_k_svd))\n",
    "print(\"Precision@5 (TopPop): {:.5f}\".format(precision_at_k_top_pop))"
   ],
   "metadata": {
    "collapsed": false
   }
  },
  {
   "cell_type": "markdown",
   "source": [
    "- Mean Average Precision (MAP@k)"
   ],
   "metadata": {
    "collapsed": false
   }
  },
  {
   "cell_type": "code",
   "execution_count": 58,
   "outputs": [],
   "source": [
    "def mapk(recommended, true, k):\n",
    "    if len(recommended) > k:\n",
    "        recommended = recommended[:k]\n",
    "    score = 0.0\n",
    "    num_hits = 0.0\n",
    "    for i, item in enumerate(recommended):\n",
    "        if item in true and item not in recommended[:i]:\n",
    "            num_hits += 1.0\n",
    "            score += num_hits / (i + 1.0)\n",
    "    if not true:\n",
    "        return 0.0\n",
    "    return score / min(len(true), k)"
   ],
   "metadata": {
    "collapsed": false
   }
  },
  {
   "cell_type": "code",
   "execution_count": 59,
   "outputs": [],
   "source": [
    "\n",
    "# convert test ratings to binary labels\n",
    "test_labels = np.where(test_data_df['rating'] >= 3, 1, 0)\n",
    "\n",
    "# initialize variables\n",
    "mapk_user_based = []\n",
    "mapk_svd = []\n",
    "\n",
    "# calculate MAP@k for each user and add it to the list\n",
    "for user in test_data_df['user_id'].unique():\n",
    "    user_test_ratings = test_data_df[test_data_df['user_id'] == user]\n",
    "    user_test_labels = test_labels[test_data_df['user_id'] == user]\n",
    "    user_top_k_user_based = user_recommendations_user_based[user]\n",
    "    user_top_k_svd = user_recommendations_svd[user]\n",
    "    mapk_user_based.append(mapk(user_top_k_user_based['movie_id'].tolist(), np.where(user_test_labels == 1)[0].tolist(), 5))\n",
    "    mapk_svd.append(mapk(user_top_k_svd['movie_id'].tolist(), np.where(user_test_labels == 1)[0].tolist(), 5))\n",
    "\n",
    "# calculate the average MAP@k for each model\n",
    "avg_mapk_user_based = np.mean(mapk_user_based)\n",
    "avg_mapk_svd = np.mean(mapk_svd)\n",
    "\n"
   ],
   "metadata": {
    "collapsed": false
   }
  },
  {
   "cell_type": "code",
   "execution_count": 60,
   "outputs": [],
   "source": [
    "#toppop sys\n",
    "recommended_movies = top_pop_recommendations( freq_high_ratings, k=5)\n",
    "\n",
    "k = 5\n",
    "mapk_top_pop = []\n",
    "for user in test_data_df['user_id'].unique():\n",
    "    user_test_ratings = test_data_df[test_data_df['user_id'] == user]\n",
    "    user_test_labels = test_labels[test_data_df['user_id'] == user]\n",
    "    user_top_k = recommended_movies\n",
    "    mapk_top_pop.append(mapk(user_top_k, np.where(user_test_labels == 1)[0].tolist(), k))\n",
    "\n",
    "# Step 6: calculate average MAP@k\n",
    "avg_mapk_top_pop = np.mean(mapk_top_pop)"
   ],
   "metadata": {
    "collapsed": false
   }
  },
  {
   "cell_type": "code",
   "execution_count": 61,
   "outputs": [
    {
     "name": "stdout",
     "output_type": "stream",
     "text": [
      "Average MAP@5 (User-based CF): 0.00424\n",
      "Average MAP@5 (SVD): 0.01378\n",
      "Average MAP@5 (TopPop): 0.10919\n"
     ]
    }
   ],
   "source": [
    "print(\"Average MAP@5 (User-based CF): {:.5f}\".format(avg_mapk_user_based))\n",
    "print(\"Average MAP@5 (SVD): {:.5f}\".format(avg_mapk_svd))\n",
    "print(\"Average MAP@5 (TopPop): {:.5f}\".format(avg_mapk_top_pop))\n"
   ],
   "metadata": {
    "collapsed": false
   }
  },
  {
   "cell_type": "markdown",
   "source": [
    "- Mean Reciprocal Rank (MRR@k)"
   ],
   "metadata": {
    "collapsed": false
   }
  },
  {
   "cell_type": "code",
   "execution_count": 62,
   "outputs": [],
   "source": [
    "# calculate MRR@k for each user and add it to the list\n",
    "def mrrk(recommended, true, k):\n",
    "    if len(recommended) > k:\n",
    "        recommended = recommended[:k]\n",
    "    for i, item in enumerate(recommended):\n",
    "        if item in true:\n",
    "            return 1.0 / (i + 1.0)\n",
    "    return 0.0"
   ],
   "metadata": {
    "collapsed": false
   }
  },
  {
   "cell_type": "code",
   "execution_count": 63,
   "outputs": [],
   "source": [
    "\n",
    "\n",
    "mrr_user_based = []\n",
    "mrr_svd = []\n",
    "\n",
    "for user in test_data_df['user_id'].unique():\n",
    "    user_test_ratings = test_data_df[test_data_df['user_id'] == user]\n",
    "    user_test_labels = test_labels[test_data_df['user_id'] == user]\n",
    "    user_top_k_user_based = user_recommendations_user_based[user]\n",
    "    user_top_k_svd = user_recommendations_svd[user]\n",
    "    mrr_user_based.append(mrrk(user_top_k_user_based['movie_id'].tolist(), np.where(user_test_labels == 1)[0].tolist(), 5))\n",
    "    mrr_svd.append(mrrk(user_top_k_svd['movie_id'].tolist(), np.where(user_test_labels == 1)[0].tolist(), 5))\n",
    "\n",
    "# calculate the average MRR@k for each model\n",
    "avg_mrr_user_based = np.mean(mrr_user_based)\n",
    "avg_mrr_svd = np.mean(mrr_svd)\n",
    "\n"
   ],
   "metadata": {
    "collapsed": false
   }
  },
  {
   "cell_type": "code",
   "execution_count": 64,
   "outputs": [],
   "source": [
    "#toppop sys\n",
    "# calculate MRR@k for top-popularity recommender\n",
    "mrr_top_pop = []\n",
    "for user in test_data_df['user_id'].unique():\n",
    "    user_test_labels = test_labels[test_data_df['user_id'] == user]\n",
    "    user_top_k_top_pop = recommended_movies[:5]\n",
    "    mrr_top_pop.append(mrrk(user_top_k_top_pop, np.where(user_test_labels == 1)[0].tolist(), 5))\n",
    "\n",
    "# calculate the average MRR@k for the top-popularity recommender\n",
    "avg_mrr_top_pop = np.mean(mrr_top_pop)\n"
   ],
   "metadata": {
    "collapsed": false
   }
  },
  {
   "cell_type": "code",
   "execution_count": 65,
   "outputs": [
    {
     "name": "stdout",
     "output_type": "stream",
     "text": [
      "Average MRR@5 (User-based CF): 0.02121\n",
      "Average MRR@5 (SVD): 0.06071\n",
      "Average MRR@5 (Top-Popularity): 0.38250\n"
     ]
    }
   ],
   "source": [
    "print(\"Average MRR@5 (User-based CF): {:.5f}\".format(avg_mrr_user_based))\n",
    "print(\"Average MRR@5 (SVD): {:.5f}\".format(avg_mrr_svd))\n",
    "print(\"Average MRR@5 (Top-Popularity): {:.5f}\".format(avg_mrr_top_pop))"
   ],
   "metadata": {
    "collapsed": false
   }
  },
  {
   "cell_type": "markdown",
   "source": [
    "- Coverage"
   ],
   "metadata": {
    "collapsed": false
   }
  },
  {
   "cell_type": "code",
   "execution_count": 66,
   "outputs": [],
   "source": [
    "#coverage for CF\n",
    "# get the list of unique items in the test set\n",
    "test_items = test_data_df['movie_id'].unique()\n",
    "\n",
    "# calculate the number of unique items recommended by each model\n",
    "user_based_items = set()\n",
    "for user in user_recommendations_user_based:\n",
    "    user_based_items.update(user_recommendations_user_based[user]['movie_id'])\n",
    "svd_items = set()\n",
    "for user in user_recommendations_svd:\n",
    "    svd_items.update(user_recommendations_svd[user]['movie_id'])\n",
    "\n",
    "# calculate coverage for each model\n",
    "coverage_user_based = len(user_based_items.intersection(test_items)) / len(test_items)\n",
    "coverage_svd = len(svd_items.intersection(test_items)) / len(test_items)"
   ],
   "metadata": {
    "collapsed": false
   }
  },
  {
   "cell_type": "code",
   "execution_count": 67,
   "outputs": [],
   "source": [
    "#coverage toppop\n",
    "# Count the number of unique movies recommended by the model\n",
    "unique_recommendations = set(recommended_movies)\n",
    "\n",
    "num_movies = len(test_data_df['movie_id'].unique())\n",
    "\n",
    "\n",
    "# Calculate the coverage\n",
    "coverage = len(unique_recommendations) / num_movies * 100"
   ],
   "metadata": {
    "collapsed": false
   }
  },
  {
   "cell_type": "code",
   "execution_count": 68,
   "outputs": [
    {
     "name": "stdout",
     "output_type": "stream",
     "text": [
      "Coverage (User-based CF): 12.75%\n",
      "Coverage (SVD): 6.53%\n",
      "Coverage (TopPop): 0.39%\n"
     ]
    }
   ],
   "source": [
    "print(\"Coverage (User-based CF): {:.2%}\".format(coverage_user_based))\n",
    "print(\"Coverage (SVD): {:.2%}\".format(coverage_svd))\n",
    "print(\"Coverage (TopPop): {:.2f}%\".format(coverage))"
   ],
   "metadata": {
    "collapsed": false
   }
  },
  {
   "cell_type": "markdown",
   "source": [
    "Error Analysis for the neighborhood-based CF:"
   ],
   "metadata": {
    "collapsed": false
   }
  },
  {
   "cell_type": "markdown",
   "source": [
    "- Ordered by the value of the timestamp, take the first and last users from the test set as reference and retrieve the 10 nearest neighbours of each reference user. Print their rate history and analyse their predictions.\n"
   ],
   "metadata": {
    "collapsed": false
   }
  },
  {
   "cell_type": "code",
   "execution_count": 69,
   "outputs": [
    {
     "data": {
      "text/plain": "Index(['user_id', 'movie_id', 'rating', 'timestamp', 'id_in_movielens',\n       'id_in_metadata', 'adult', 'belongs_to_collection', 'budget', 'genres',\n       'homepage', 'id', 'imdb_id', 'original_language', 'original_title',\n       'overview', 'popularity', 'poster_path', 'production_companies',\n       'production_countries', 'release_date', 'revenue', 'runtime',\n       'spoken_languages', 'status', 'tagline', 'title', 'video',\n       'vote_average', 'vote_count', 'rating_bin'],\n      dtype='object')"
     },
     "execution_count": 69,
     "metadata": {},
     "output_type": "execute_result"
    }
   ],
   "source": [
    "test_data_df.columns"
   ],
   "metadata": {
    "collapsed": false
   }
  },
  {
   "cell_type": "code",
   "execution_count": 70,
   "outputs": [
    {
     "name": "stdout",
     "output_type": "stream",
     "text": [
      "First user id: 259\n",
      "Last user id: 189\n"
     ]
    }
   ],
   "source": [
    "# Sort the test set by timestamp\n",
    "testset_sorted = test_data_df.sort_values('timestamp')\n",
    "\n",
    "# get the first and last users from the test set\n",
    "first_user = testset_sorted['user_id'].iloc[0]\n",
    "last_user = testset_sorted['user_id'].iloc[-1]\n",
    "\n",
    "print(\"First user id:\", first_user)\n",
    "print(\"Last user id:\", last_user)\n"
   ],
   "metadata": {
    "collapsed": false
   }
  },
  {
   "cell_type": "code",
   "execution_count": 71,
   "outputs": [],
   "source": [
    "# retrieve the 10 nearest neighbors of each reference user\n",
    "first_user_neighbors = knn_model.get_neighbors(first_user, k=10)\n",
    "last_user_neighbors = knn_model.get_neighbors(last_user, k=10)\n"
   ],
   "metadata": {
    "collapsed": false
   }
  },
  {
   "cell_type": "code",
   "execution_count": 72,
   "outputs": [],
   "source": [
    "# Print the rate history of each neighbor\n",
    "def get_rate_history(user_id,df):\n",
    "    user_ratings = df[df['user_id'] == user_id]\n",
    "    user_rate_history = {row['movie_id']: row['rating'] for index, row in user_ratings.iterrows()}\n",
    "    return user_rate_history"
   ],
   "metadata": {
    "collapsed": false
   }
  },
  {
   "cell_type": "code",
   "execution_count": 73,
   "outputs": [
    {
     "name": "stdout",
     "output_type": "stream",
     "text": [
      "Rate history of first user (259):\n",
      "{255: 4, 108: 4, 772: 4, 117: 4, 200: 4, 405: 3, 176: 4, 210: 4, 357: 5, 317: 5, 98: 4, 12: 5, 269: 3, 180: 5, 313: 5, 235: 2, 762: 2, 750: 4, 959: 4}\n",
      "\n",
      "Rate history of neighbor (132):\n",
      "{275: 3, 124: 4, 137: 4, 922: 5}\n",
      "\n",
      "Rate history of neighbor (203):\n",
      "{294: 2, 326: 4, 321: 3, 271: 3, 304: 3, 332: 5, 336: 3, 181: 5, 24: 4, 1: 3, 619: 3, 7: 3, 471: 4, 250: 4, 248: 5, 148: 3, 117: 4, 50: 5, 282: 1, 93: 4}\n",
      "\n",
      "Rate history of neighbor (315):\n",
      "{302: 5, 269: 5, 127: 5, 187: 4, 48: 4, 508: 4, 651: 3, 531: 5, 285: 5, 223: 5, 46: 4, 180: 4, 194: 4, 8: 3, 100: 5, 238: 5, 17: 1, 211: 4, 168: 4, 186: 4, 216: 4, 746: 3, 792: 5, 13: 4, 709: 4, 732: 3, 654: 5, 504: 3, 98: 4, 12: 5, 156: 5, 603: 5, 185: 4, 657: 4, 31: 3, 431: 2, 230: 4, 234: 3, 273: 3, 340: 4, 305: 5}\n",
      "\n",
      "Rate history of neighbor (285):\n",
      "{269: 4, 313: 5, 538: 5, 682: 4, 288: 5, 902: 4, 628: 2, 150: 5, 237: 4, 276: 4, 191: 4, 514: 3, 168: 4, 216: 3}\n",
      "\n",
      "Rate history of neighbor (218):\n",
      "{430: 3, 208: 3, 194: 3, 209: 5, 4: 3, 517: 3, 516: 5, 100: 4, 762: 4, 12: 5, 654: 4, 273: 4, 33: 4, 265: 3, 410: 3, 504: 3, 789: 3, 695: 3, 5: 3}\n",
      "\n",
      "Rate history of neighbor (703):\n",
      "{}\n",
      "\n",
      "Rate history of neighbor (545):\n",
      "{}\n",
      "\n",
      "Rate history of neighbor (605):\n",
      "{}\n",
      "\n",
      "Rate history of neighbor (334):\n",
      "{269: 3, 313: 4, 268: 4, 302: 5, 300: 3, 319: 3, 340: 3, 326: 1, 245: 2, 289: 3, 322: 3, 100: 5, 285: 4, 117: 3, 1163: 4, 1137: 4, 7: 5, 922: 4, 250: 3, 293: 3, 845: 2, 628: 4, 222: 4, 282: 4, 475: 4, 742: 2, 93: 4, 224: 2, 276: 4, 1010: 5, 1008: 4, 1315: 4, 1051: 4, 1241: 2, 870: 3, 620: 2, 476: 3, 840: 4, 684: 4, 191: 4, 135: 4, 182: 3, 22: 4, 427: 4, 1172: 3, 663: 5, 525: 5, 515: 4, 514: 4, 207: 4, 183: 4, 223: 5, 317: 3, 59: 5, 170: 3, 481: 5, 558: 4, 132: 3, 474: 3, 792: 4, 70: 3, 216: 3, 210: 3, 505: 4, 168: 5, 502: 3, 693: 3, 227: 1, 443: 3, 512: 4, 8: 4, 200: 4, 204: 4, 160: 4, 153: 4, 1524: 4, 631: 4, 608: 4, 1073: 4, 461: 3, 408: 4, 69: 1, 635: 2, 436: 3, 86: 4, 4: 3, 709: 4, 387: 4, 52: 4, 716: 3, 566: 3, 396: 4, 72: 3, 1133: 4, 77: 3, 1411: 1, 449: 3, 1108: 4, 229: 2, 1006: 3, 1207: 2, 450: 1, 577: 2, 888: 2, 173: 4, 961: 4, 708: 4, 311: 4, 603: 5}\n",
      "\n",
      "Rate history of neighbor (382):\n",
      "{1142: 3, 127: 3, 25: 2, 137: 2, 508: 3, 276: 3, 475: 3, 546: 2, 717: 3, 98: 3, 171: 3, 183: 3, 290: 4, 9: 4, 1534: 4, 531: 4, 639: 3, 481: 5, 474: 5}\n",
      "\n",
      "Rate history of last user (189):\n",
      "{100: 4, 127: 4, 9: 3, 253: 4, 847: 4, 248: 4, 1: 5, 275: 5, 294: 5, 1115: 4, 276: 3, 1060: 5, 16: 3, 15: 2, 129: 3, 596: 3, 20: 5, 815: 3, 21: 2, 1117: 5, 225: 4, 274: 4, 281: 2, 820: 1, 120: 1, 751: 4, 268: 4, 657: 5, 479: 5, 173: 5, 618: 2, 174: 5, 176: 4, 474: 5, 134: 5, 505: 5, 56: 5, 197: 5, 483: 5, 480: 5, 638: 5, 520: 5, 496: 5, 234: 5, 194: 5, 79: 3, 216: 5, 135: 4, 705: 4, 632: 5, 45: 3, 91: 3, 462: 5, 60: 3, 513: 4, 639: 4, 1403: 4, 203: 3, 694: 4, 96: 5, 1005: 4, 143: 5, 31: 3, 1099: 5, 484: 5, 607: 4, 526: 4, 30: 4, 732: 2, 381: 3, 512: 4}\n",
      "\n",
      "Rate history of neighbor (263):\n",
      "{269: 4, 333: 2, 272: 5, 328: 4, 294: 2, 245: 4, 886: 2, 678: 2, 892: 3, 521: 3, 648: 5, 79: 4, 523: 5, 22: 5, 215: 4, 96: 4, 483: 5, 318: 5, 64: 5, 143: 5, 183: 4, 153: 3, 921: 3, 661: 5, 205: 5, 210: 3, 144: 4, 614: 3, 528: 4, 526: 5, 69: 5, 99: 3, 188: 5, 486: 4, 95: 5, 568: 4, 514: 3, 117: 3, 97: 4, 432: 2, 127: 4, 419: 5, 125: 4, 86: 4, 162: 5, 423: 5, 416: 5, 163: 5, 134: 5, 82: 4, 176: 5, 197: 4, 186: 4, 265: 4, 1473: 5, 1444: 3, 195: 5, 1451: 4, 168: 5, 237: 2}\n",
      "\n",
      "Rate history of neighbor (751):\n",
      "{}\n",
      "\n",
      "Rate history of neighbor (752):\n",
      "{}\n",
      "\n",
      "Rate history of neighbor (734):\n",
      "{}\n",
      "\n",
      "Rate history of neighbor (670):\n",
      "{}\n",
      "\n",
      "Rate history of neighbor (253):\n",
      "{294: 4, 237: 4, 127: 5, 298: 3, 282: 4, 483: 5, 83: 4, 806: 4, 647: 3, 216: 4, 64: 5, 496: 5, 87: 5, 98: 5, 568: 4, 487: 4, 183: 5, 198: 5, 188: 4, 95: 4, 89: 4, 465: 5, 173: 5, 97: 4, 747: 3, 527: 5, 50: 4, 79: 5, 742: 4, 117: 5, 566: 4, 705: 5, 210: 4, 746: 3, 203: 4, 448: 2, 333: 2, 259: 2, 175: 2}\n",
      "\n",
      "Rate history of neighbor (266):\n",
      "{272: 4, 313: 4, 874: 2, 676: 3, 508: 4, 124: 4}\n",
      "\n",
      "Rate history of neighbor (470):\n",
      "{}\n",
      "\n",
      "Rate history of neighbor (546):\n",
      "{}\n",
      "\n",
      "Rate history of neighbor (560):\n",
      "{}\n",
      "\n"
     ]
    }
   ],
   "source": [
    "print(f\"Rate history of first user ({first_user}):\")\n",
    "print(get_rate_history(first_user,testset_sorted))\n",
    "print(\"\")\n",
    "\n",
    "for neighbor in first_user_neighbors:\n",
    "    print(f\"Rate history of neighbor ({neighbor}):\")\n",
    "    print(get_rate_history(neighbor,testset_sorted))\n",
    "    print(\"\")\n",
    "\n",
    "print(f\"Rate history of last user ({last_user}):\")\n",
    "print(get_rate_history(last_user,testset_sorted))\n",
    "print(\"\")\n",
    "\n",
    "for neighbor in last_user_neighbors:\n",
    "    print(f\"Rate history of neighbor ({neighbor}):\")\n",
    "    print(get_rate_history(neighbor,testset_sorted))\n",
    "    print(\"\")"
   ],
   "metadata": {
    "collapsed": false
   }
  },
  {
   "cell_type": "code",
   "execution_count": 74,
   "outputs": [
    {
     "name": "stdout",
     "output_type": "stream",
     "text": [
      "Predictions for the first user and their neighbors\n",
      "Predictions for movie 275:\n",
      "\tNeighbor (132): 4.120663791977552\n",
      "\n",
      "Predictions for movie 124:\n",
      "\tNeighbor (132): 4.031142393724045\n",
      "\n",
      "Predictions for movie 137:\n",
      "\tNeighbor (132): 3.733687882191544\n",
      "\tNeighbor (382): 3.733687882191544\n",
      "\n",
      "Predictions for movie 922:\n",
      "\tNeighbor (132): 4.392048402091512\n",
      "\tNeighbor (334): 4.392048402091512\n",
      "\n",
      "Predictions for movie 294:\n",
      "\tNeighbor (203): 3.179476800638337\n",
      "\n",
      "Predictions for movie 326:\n",
      "\tNeighbor (203): 3.448790470668273\n",
      "\tNeighbor (334): 3.448790470668273\n",
      "\n",
      "Predictions for movie 321:\n",
      "\tNeighbor (203): 3.0452091018852094\n",
      "\n",
      "Predictions for movie 271:\n",
      "\tNeighbor (203): 3.2529701957910797\n",
      "\n",
      "Predictions for movie 304:\n",
      "\tNeighbor (203): 3.6581598294558964\n",
      "\n",
      "Predictions for movie 332:\n",
      "\tNeighbor (203): 3.566319429028197\n",
      "\n",
      "Predictions for movie 336:\n",
      "\tNeighbor (203): 3.1043205376872365\n",
      "\n",
      "Predictions for movie 181:\n",
      "\tNeighbor (203): 4.047130075349116\n",
      "\n",
      "Predictions for movie 24:\n",
      "\tNeighbor (203): 3.6552222892734925\n",
      "\n",
      "Predictions for movie 1:\n",
      "\tNeighbor (203): 4.2699081622128645\n",
      "\n",
      "Predictions for movie 619:\n",
      "\tNeighbor (203): 3.642157698098748\n",
      "\n",
      "Predictions for movie 7:\n",
      "\tNeighbor (203): 4.056907519352744\n",
      "\tNeighbor (334): 4.056907519352744\n",
      "\n",
      "Predictions for movie 471:\n",
      "\tNeighbor (203): 3.9019382491066987\n",
      "\n",
      "Predictions for movie 250:\n",
      "\tNeighbor (203): 3.976732440891639\n",
      "\tNeighbor (334): 3.976732440891639\n",
      "\n",
      "Predictions for movie 248:\n",
      "\tNeighbor (203): 4.225958500326766\n",
      "\n",
      "Predictions for movie 148:\n",
      "\tNeighbor (203): 3.2782872854352267\n",
      "\n",
      "Predictions for movie 117:\n",
      "\tNeighbor (203): 4.061029616531778\n",
      "\tNeighbor (334): 4.061029616531778\n",
      "\n",
      "Predictions for movie 50:\n",
      "\tNeighbor (203): 4.286053126486963\n",
      "\n",
      "Predictions for movie 282:\n",
      "\tNeighbor (203): 3.601561711024836\n",
      "\tNeighbor (334): 3.601561711024836\n",
      "\n",
      "Predictions for movie 93:\n",
      "\tNeighbor (203): 3.9641135673732\n",
      "\tNeighbor (334): 3.9641135673732\n",
      "\n",
      "Predictions for movie 302:\n",
      "\tNeighbor (315): 4.037860714884485\n",
      "\tNeighbor (334): 4.037860714884485\n",
      "\n",
      "Predictions for movie 269:\n",
      "\tNeighbor (315): 3.860860037357089\n",
      "\tNeighbor (285): 3.860860037357089\n",
      "\tNeighbor (334): 3.860860037357089\n",
      "\n",
      "Predictions for movie 127:\n",
      "\tNeighbor (315): 4.545641235142398\n",
      "\tNeighbor (382): 4.545641235142398\n",
      "\n",
      "Predictions for movie 187:\n",
      "\tNeighbor (315): 4.467185919706179\n",
      "\n",
      "Predictions for movie 48:\n",
      "\tNeighbor (315): 4.20873559115905\n",
      "\n",
      "Predictions for movie 508:\n",
      "\tNeighbor (315): 3.9268269561097457\n",
      "\tNeighbor (382): 3.9268269561097457\n",
      "\n",
      "Predictions for movie 651:\n",
      "\tNeighbor (315): 4.351621447652827\n",
      "\n",
      "Predictions for movie 531:\n",
      "\tNeighbor (315): 3.92907543799412\n",
      "\tNeighbor (382): 3.92907543799412\n",
      "\n",
      "Predictions for movie 285:\n",
      "\tNeighbor (315): 3.869278471396345\n",
      "\tNeighbor (334): 3.869278471396345\n",
      "\n",
      "Predictions for movie 223:\n",
      "\tNeighbor (315): 4.223198456190524\n",
      "\tNeighbor (334): 4.223198456190524\n",
      "\n",
      "Predictions for movie 46:\n",
      "\tNeighbor (315): 3.9014005733286283\n",
      "\n",
      "Predictions for movie 180:\n",
      "\tNeighbor (315): 3.8718436864244827\n",
      "\n",
      "Predictions for movie 194:\n",
      "\tNeighbor (315): 4.0256496725351365\n",
      "\tNeighbor (218): 4.0256496725351365\n",
      "\n",
      "Predictions for movie 8:\n",
      "\tNeighbor (315): 4.410644060643248\n",
      "\tNeighbor (334): 4.410644060643248\n",
      "\n",
      "Predictions for movie 100:\n",
      "\tNeighbor (315): 4.134134126660331\n",
      "\tNeighbor (218): 4.134134126660331\n",
      "\tNeighbor (334): 4.134134126660331\n",
      "\n",
      "Predictions for movie 238:\n",
      "\tNeighbor (315): 4.405861124764257\n",
      "\n",
      "Predictions for movie 17:\n",
      "\tNeighbor (315): 3.6588252156853205\n",
      "\n",
      "Predictions for movie 211:\n",
      "\tNeighbor (315): 4.065330574608787\n",
      "\n",
      "Predictions for movie 168:\n",
      "\tNeighbor (315): 4.711174080893724\n",
      "\tNeighbor (285): 4.711174080893724\n",
      "\tNeighbor (334): 4.711174080893724\n",
      "\n",
      "Predictions for movie 186:\n",
      "\tNeighbor (315): 4.007964060477561\n",
      "\n",
      "Predictions for movie 216:\n",
      "\tNeighbor (315): 4.079049398620772\n",
      "\tNeighbor (285): 4.079049398620772\n",
      "\tNeighbor (334): 4.079049398620772\n",
      "\n",
      "Predictions for movie 746:\n",
      "\tNeighbor (315): 3.43367580029028\n",
      "\n",
      "Predictions for movie 792:\n",
      "\tNeighbor (315): 3.8657754224928778\n",
      "\tNeighbor (334): 3.8657754224928778\n",
      "\n",
      "Predictions for movie 13:\n",
      "\tNeighbor (315): 3.7402301629854104\n",
      "\n",
      "Predictions for movie 709:\n",
      "\tNeighbor (315): 3.740399696359998\n",
      "\tNeighbor (334): 3.740399696359998\n",
      "\n",
      "Predictions for movie 732:\n",
      "\tNeighbor (315): 3.6185255749174976\n",
      "\n",
      "Predictions for movie 654:\n",
      "\tNeighbor (315): 4.350574674364329\n",
      "\tNeighbor (218): 4.350574674364329\n",
      "\n",
      "Predictions for movie 504:\n",
      "\tNeighbor (315): 4.144130051834539\n",
      "\tNeighbor (218): 4.144130051834539\n",
      "\n",
      "Predictions for movie 98:\n",
      "\tNeighbor (315): 4.448816653422765\n",
      "\tNeighbor (382): 4.448816653422765\n",
      "\n",
      "Predictions for movie 12:\n",
      "\tNeighbor (315): 4.84859675812953\n",
      "\tNeighbor (218): 4.84859675812953\n",
      "\n",
      "Predictions for movie 156:\n",
      "\tNeighbor (315): 4.353937426142984\n",
      "\n",
      "Predictions for movie 603:\n",
      "\tNeighbor (315): 4.598024435594074\n",
      "\tNeighbor (334): 4.598024435594074\n",
      "\n",
      "Predictions for movie 185:\n",
      "\tNeighbor (315): 4.180512741058423\n",
      "\n",
      "Predictions for movie 657:\n",
      "\tNeighbor (315): 4.3975733675010344\n",
      "\n",
      "Predictions for movie 31:\n",
      "\tNeighbor (315): 3.880392704606345\n",
      "\n",
      "Predictions for movie 431:\n",
      "\tNeighbor (315): 4.077579637007531\n",
      "\n",
      "Predictions for movie 230:\n",
      "\tNeighbor (315): 3.607092599533181\n",
      "\n",
      "Predictions for movie 234:\n",
      "\tNeighbor (315): 3.799787436635111\n",
      "\n",
      "Predictions for movie 273:\n",
      "\tNeighbor (315): 3.8287885368218535\n",
      "\tNeighbor (218): 3.8287885368218535\n",
      "\n",
      "Predictions for movie 340:\n",
      "\tNeighbor (315): 3.567075251228708\n",
      "\tNeighbor (334): 3.567075251228708\n",
      "\n",
      "Predictions for movie 305:\n",
      "\tNeighbor (315): 4.159411169645164\n",
      "\n",
      "Predictions for movie 313:\n",
      "\tNeighbor (285): 4.198445998557155\n",
      "\tNeighbor (334): 4.198445998557155\n",
      "\n",
      "Predictions for movie 538:\n",
      "\tNeighbor (285): 3.4666861704498557\n",
      "\n",
      "Predictions for movie 682:\n",
      "\tNeighbor (285): 3.0149237205004797\n",
      "\n",
      "Predictions for movie 288:\n",
      "\tNeighbor (285): 3.2564488187036686\n",
      "\n",
      "Predictions for movie 902:\n",
      "\tNeighbor (285): 4.308407426551997\n",
      "\n",
      "Predictions for movie 628:\n",
      "\tNeighbor (285): 4.055195038250217\n",
      "\tNeighbor (334): 4.055195038250217\n",
      "\n",
      "Predictions for movie 150:\n",
      "\tNeighbor (285): 4.01031411669858\n",
      "\n",
      "Predictions for movie 237:\n",
      "\tNeighbor (285): 4.049937221632969\n",
      "\n",
      "Predictions for movie 276:\n",
      "\tNeighbor (285): 3.3556596208782534\n",
      "\tNeighbor (334): 3.3556596208782534\n",
      "\tNeighbor (382): 3.3556596208782534\n",
      "\n",
      "Predictions for movie 191:\n",
      "\tNeighbor (285): 4.074730535385795\n",
      "\tNeighbor (334): 4.074730535385795\n",
      "\n",
      "Predictions for movie 514:\n",
      "\tNeighbor (285): 4.64053371814172\n",
      "\tNeighbor (334): 4.64053371814172\n",
      "\n",
      "Predictions for movie 430:\n",
      "\tNeighbor (218): 4.1012625087072365\n",
      "\n",
      "Predictions for movie 208:\n",
      "\tNeighbor (218): 4.464042760626871\n",
      "\n",
      "Predictions for movie 209:\n",
      "\tNeighbor (218): 4.324282927452415\n",
      "\n",
      "Predictions for movie 4:\n",
      "\tNeighbor (218): 3.582904122170688\n",
      "\tNeighbor (334): 3.582904122170688\n",
      "\n",
      "Predictions for movie 517:\n",
      "\tNeighbor (218): 3.8627113524291374\n",
      "\n",
      "Predictions for movie 516:\n",
      "\tNeighbor (218): 4.017864568511885\n",
      "\n",
      "Predictions for movie 762:\n",
      "\tNeighbor (218): 3.9259652646038665\n",
      "\n",
      "Predictions for movie 33:\n",
      "\tNeighbor (218): 3.731125747573083\n",
      "\n",
      "Predictions for movie 265:\n",
      "\tNeighbor (218): 3.665860895530024\n",
      "\n",
      "Predictions for movie 410:\n",
      "\tNeighbor (218): 4.046489739114224\n",
      "\n",
      "Predictions for movie 789:\n",
      "\tNeighbor (218): 3.7617847672793827\n",
      "\n",
      "Predictions for movie 695:\n",
      "\tNeighbor (218): 3.3454485017474758\n",
      "\n",
      "Predictions for movie 5:\n",
      "\tNeighbor (218): 3.3289117084045596\n",
      "\n",
      "Predictions for movie 268:\n",
      "\tNeighbor (334): 3.76845360721388\n",
      "\n",
      "Predictions for movie 300:\n",
      "\tNeighbor (334): 3.988559894055339\n",
      "\n",
      "Predictions for movie 319:\n",
      "\tNeighbor (334): 3.6566440687829704\n",
      "\n",
      "Predictions for movie 245:\n",
      "\tNeighbor (334): 3.192453291817348\n",
      "\n",
      "Predictions for movie 289:\n",
      "\tNeighbor (334): 2.747095729737784\n",
      "\n",
      "Predictions for movie 322:\n",
      "\tNeighbor (334): 3.7948740336552085\n",
      "\n",
      "Predictions for movie 1163:\n",
      "\tNeighbor (334): 3.356579957341253\n",
      "\n",
      "Predictions for movie 1137:\n",
      "\tNeighbor (334): 4.138006766536117\n",
      "\n",
      "Predictions for movie 293:\n",
      "\tNeighbor (334): 4.031115501752381\n",
      "\n",
      "Predictions for movie 845:\n",
      "\tNeighbor (334): 3.32606726803472\n",
      "\n",
      "Predictions for movie 222:\n",
      "\tNeighbor (334): 3.6905608101672\n",
      "\n",
      "Predictions for movie 475:\n",
      "\tNeighbor (334): 4.699343970945607\n",
      "\tNeighbor (382): 4.699343970945607\n",
      "\n",
      "Predictions for movie 742:\n",
      "\tNeighbor (334): 3.815698309380282\n",
      "\n",
      "Predictions for movie 224:\n",
      "\tNeighbor (334): 4.553015487659076\n",
      "\n",
      "Predictions for movie 1010:\n",
      "\tNeighbor (334): 3.627185257759667\n",
      "\n",
      "Predictions for movie 1008:\n",
      "\tNeighbor (334): 3.641732823416743\n",
      "\n",
      "Predictions for movie 1315:\n",
      "\tNeighbor (334): 3.132976558460183\n",
      "\n",
      "Predictions for movie 1051:\n",
      "\tNeighbor (334): 3.222762869765444\n",
      "\n",
      "Predictions for movie 1241:\n",
      "\tNeighbor (334): 3.594218720387484\n",
      "\n",
      "Predictions for movie 870:\n",
      "\tNeighbor (334): 3.438249956991076\n",
      "\n",
      "Predictions for movie 620:\n",
      "\tNeighbor (334): 3.516044865180591\n",
      "\n",
      "Predictions for movie 476:\n",
      "\tNeighbor (334): 3.653236627753077\n",
      "\n",
      "Predictions for movie 840:\n",
      "\tNeighbor (334): 3.1296241377304153\n",
      "\n",
      "Predictions for movie 684:\n",
      "\tNeighbor (334): 3.8343574218341643\n",
      "\n",
      "Predictions for movie 135:\n",
      "\tNeighbor (334): 3.937473807432198\n",
      "\n",
      "Predictions for movie 182:\n",
      "\tNeighbor (334): 4.358553521013762\n",
      "\n",
      "Predictions for movie 22:\n",
      "\tNeighbor (334): 3.9903771390028386\n",
      "\n",
      "Predictions for movie 427:\n",
      "\tNeighbor (334): 4.681072024575769\n",
      "\n",
      "Predictions for movie 1172:\n",
      "\tNeighbor (334): 4.049436901568976\n",
      "\n",
      "Predictions for movie 663:\n",
      "\tNeighbor (334): 4.221821062958473\n",
      "\n",
      "Predictions for movie 525:\n",
      "\tNeighbor (334): 4.130865116298644\n",
      "\n",
      "Predictions for movie 515:\n",
      "\tNeighbor (334): 4.738088121144106\n",
      "\n",
      "Predictions for movie 207:\n",
      "\tNeighbor (334): 4.015600838547088\n",
      "\n",
      "Predictions for movie 183:\n",
      "\tNeighbor (334): 4.108897171091182\n",
      "\tNeighbor (382): 4.108897171091182\n",
      "\n",
      "Predictions for movie 317:\n",
      "\tNeighbor (334): 4.1930755794700545\n",
      "\n",
      "Predictions for movie 59:\n",
      "\tNeighbor (334): 4.395834404401066\n",
      "\n",
      "Predictions for movie 170:\n",
      "\tNeighbor (334): 4.5737359247004346\n",
      "\n",
      "Predictions for movie 481:\n",
      "\tNeighbor (334): 4.215105542555971\n",
      "\tNeighbor (382): 4.215105542555971\n",
      "\n",
      "Predictions for movie 558:\n",
      "\tNeighbor (334): 3.7329852178650005\n",
      "\n",
      "Predictions for movie 132:\n",
      "\tNeighbor (334): 4.279188783518406\n",
      "\n",
      "Predictions for movie 474:\n",
      "\tNeighbor (334): 4.556230759860765\n",
      "\tNeighbor (382): 4.556230759860765\n",
      "\n",
      "Predictions for movie 70:\n",
      "\tNeighbor (334): 4.395637725729942\n",
      "\n",
      "Predictions for movie 210:\n",
      "\tNeighbor (334): 4.115789802035217\n",
      "\n",
      "Predictions for movie 505:\n",
      "\tNeighbor (334): 4.0598886233117835\n",
      "\n",
      "Predictions for movie 502:\n",
      "\tNeighbor (334): 4.06378421498084\n",
      "\n",
      "Predictions for movie 693:\n",
      "\tNeighbor (334): 4.145651587391813\n",
      "\n",
      "Predictions for movie 227:\n",
      "\tNeighbor (334): 3.383828583504295\n",
      "\n",
      "Predictions for movie 443:\n",
      "\tNeighbor (334): 3.7808435160922875\n",
      "\n",
      "Predictions for movie 512:\n",
      "\tNeighbor (334): 4.074446077402377\n",
      "\n",
      "Predictions for movie 200:\n",
      "\tNeighbor (334): 4.229598652131503\n",
      "\n",
      "Predictions for movie 204:\n",
      "\tNeighbor (334): 4.081109584172053\n",
      "\n",
      "Predictions for movie 160:\n",
      "\tNeighbor (334): 3.1744803338277983\n",
      "\n",
      "Predictions for movie 153:\n",
      "\tNeighbor (334): 3.7725020725847513\n",
      "\n",
      "Predictions for movie 1524:\n",
      "\tNeighbor (334): 4.34113955973427\n",
      "\n",
      "Predictions for movie 631:\n",
      "\tNeighbor (334): 3.8200739647213156\n",
      "\n",
      "Predictions for movie 608:\n",
      "\tNeighbor (334): 4.062388042419916\n",
      "\n",
      "Predictions for movie 1073:\n",
      "\tNeighbor (334): 4.714855538687573\n",
      "\n",
      "Predictions for movie 461:\n",
      "\tNeighbor (334): 3.7178880697593333\n",
      "\n",
      "Predictions for movie 408:\n",
      "\tNeighbor (334): 4.352549054607328\n",
      "\n",
      "Predictions for movie 69:\n",
      "\tNeighbor (334): 4.079879337045163\n",
      "\n",
      "Predictions for movie 635:\n",
      "\tNeighbor (334): 3.166581395334888\n",
      "\n",
      "Predictions for movie 436:\n",
      "\tNeighbor (334): 3.794421848713833\n",
      "\n",
      "Predictions for movie 86:\n",
      "\tNeighbor (334): 4.061641160871781\n",
      "\n",
      "Predictions for movie 387:\n",
      "\tNeighbor (334): 3.6739627113304536\n",
      "\n",
      "Predictions for movie 52:\n",
      "\tNeighbor (334): 3.9227078089162055\n",
      "\n",
      "Predictions for movie 716:\n",
      "\tNeighbor (334): 3.3234600174393014\n",
      "\n",
      "Predictions for movie 566:\n",
      "\tNeighbor (334): 3.491866229470035\n",
      "\n",
      "Predictions for movie 396:\n",
      "\tNeighbor (334): 3.094970045591943\n",
      "\n",
      "Predictions for movie 72:\n",
      "\tNeighbor (334): 3.5568330509616266\n",
      "\n",
      "Predictions for movie 1133:\n",
      "\tNeighbor (334): 2.7828175845930927\n",
      "\n",
      "Predictions for movie 77:\n",
      "\tNeighbor (334): 3.4504999604878908\n",
      "\n",
      "Predictions for movie 1411:\n",
      "\tNeighbor (334): 2.873311643581779\n",
      "\n",
      "Predictions for movie 449:\n",
      "\tNeighbor (334): 2.501140687602053\n",
      "\n",
      "Predictions for movie 1108:\n",
      "\tNeighbor (334): 3.6406139643652144\n",
      "\n",
      "Predictions for movie 229:\n",
      "\tNeighbor (334): 3.3806577445710575\n",
      "\n",
      "Predictions for movie 1006:\n",
      "\tNeighbor (334): 3.258162472233768\n",
      "\n",
      "Predictions for movie 1207:\n",
      "\tNeighbor (334): 2.7690410188817416\n",
      "\n",
      "Predictions for movie 450:\n",
      "\tNeighbor (334): 2.7702654621963934\n",
      "\n",
      "Predictions for movie 577:\n",
      "\tNeighbor (334): 2.7631265136936953\n",
      "\n",
      "Predictions for movie 888:\n",
      "\tNeighbor (334): 4.362727445737442\n",
      "\n",
      "Predictions for movie 173:\n",
      "\tNeighbor (334): 3.9693218389706613\n",
      "\n",
      "Predictions for movie 961:\n",
      "\tNeighbor (334): 3.8477823136841645\n",
      "\n",
      "Predictions for movie 708:\n",
      "\tNeighbor (334): 3.5894265730643444\n",
      "\n",
      "Predictions for movie 311:\n",
      "\tNeighbor (334): 4.023799678566847\n",
      "\n",
      "Predictions for movie 1142:\n",
      "\tNeighbor (382): 4.336365937931856\n",
      "\n",
      "Predictions for movie 25:\n",
      "\tNeighbor (382): 3.611451442272562\n",
      "\n",
      "Predictions for movie 546:\n",
      "\tNeighbor (382): 3.3014143170321417\n",
      "\n",
      "Predictions for movie 717:\n",
      "\tNeighbor (382): 2.987061982381082\n",
      "\n",
      "Predictions for movie 171:\n",
      "\tNeighbor (382): 4.179035591836851\n",
      "\n",
      "Predictions for movie 290:\n",
      "\tNeighbor (382): 3.265161711710737\n",
      "\n",
      "Predictions for movie 9:\n",
      "\tNeighbor (382): 4.39274426884466\n",
      "\n",
      "Predictions for movie 1534:\n",
      "\tNeighbor (382): 2.6190231345817288\n",
      "\n",
      "Predictions for movie 639:\n",
      "\tNeighbor (382): 4.23508224047854\n",
      "\n",
      "Predictions for the last user and their neighbors\n",
      "Predictions for movie 269:\n",
      "\tNeighbor (263): 3.875404692306595\n",
      "\n",
      "Predictions for movie 333:\n",
      "\tNeighbor (263): 3.69411034840839\n",
      "\tNeighbor (253): 3.69411034840839\n",
      "\n",
      "Predictions for movie 272:\n",
      "\tNeighbor (263): 4.45178217809096\n",
      "\tNeighbor (266): 4.45178217809096\n",
      "\n",
      "Predictions for movie 328:\n",
      "\tNeighbor (263): 3.3029033947837783\n",
      "\n",
      "Predictions for movie 294:\n",
      "\tNeighbor (263): 3.8809032801643446\n",
      "\tNeighbor (253): 3.8809032801643446\n",
      "\n",
      "Predictions for movie 245:\n",
      "\tNeighbor (263): 3.6211194954478962\n",
      "\n",
      "Predictions for movie 886:\n",
      "\tNeighbor (263): 3.3903285775660037\n",
      "\n",
      "Predictions for movie 678:\n",
      "\tNeighbor (263): 2.7876279148571275\n",
      "\n",
      "Predictions for movie 892:\n",
      "\tNeighbor (263): 2.734158249650577\n",
      "\n",
      "Predictions for movie 521:\n",
      "\tNeighbor (263): 4.3768389229040325\n",
      "\n",
      "Predictions for movie 648:\n",
      "\tNeighbor (263): 4.123885291967011\n",
      "\n",
      "Predictions for movie 79:\n",
      "\tNeighbor (263): 4.340489040543745\n",
      "\tNeighbor (253): 4.340489040543745\n",
      "\n",
      "Predictions for movie 523:\n",
      "\tNeighbor (263): 4.214512041630154\n",
      "\n",
      "Predictions for movie 22:\n",
      "\tNeighbor (263): 4.3811630731438935\n",
      "\n",
      "Predictions for movie 215:\n",
      "\tNeighbor (263): 4.035273907757749\n",
      "\n",
      "Predictions for movie 96:\n",
      "\tNeighbor (263): 4.704239954513336\n",
      "\n",
      "Predictions for movie 483:\n",
      "\tNeighbor (263): 4.541176489522403\n",
      "\tNeighbor (253): 4.541176489522403\n",
      "\n",
      "Predictions for movie 318:\n",
      "\tNeighbor (263): 4.986151968094508\n",
      "\n",
      "Predictions for movie 64:\n",
      "\tNeighbor (263): 4.83409535558337\n",
      "\tNeighbor (253): 4.83409535558337\n",
      "\n",
      "Predictions for movie 143:\n",
      "\tNeighbor (263): 4.361728272410361\n",
      "\n",
      "Predictions for movie 183:\n",
      "\tNeighbor (263): 3.912586396552411\n",
      "\tNeighbor (253): 3.912586396552411\n",
      "\n",
      "Predictions for movie 153:\n",
      "\tNeighbor (263): 3.653010076592141\n",
      "\n",
      "Predictions for movie 921:\n",
      "\tNeighbor (263): 4.481861047167983\n",
      "\n",
      "Predictions for movie 661:\n",
      "\tNeighbor (263): 4.154001383870511\n",
      "\n",
      "Predictions for movie 205:\n",
      "\tNeighbor (263): 4.0714863912174755\n",
      "\n",
      "Predictions for movie 210:\n",
      "\tNeighbor (263): 4.099923573617629\n",
      "\tNeighbor (253): 4.099923573617629\n",
      "\n",
      "Predictions for movie 144:\n",
      "\tNeighbor (263): 3.6880885189931423\n",
      "\n",
      "Predictions for movie 614:\n",
      "\tNeighbor (263): 4.247108863310285\n",
      "\n",
      "Predictions for movie 528:\n",
      "\tNeighbor (263): 3.8780080055609245\n",
      "\n",
      "Predictions for movie 526:\n",
      "\tNeighbor (263): 4.168598479733093\n",
      "\n",
      "Predictions for movie 69:\n",
      "\tNeighbor (263): 4.383271283261457\n",
      "\n",
      "Predictions for movie 99:\n",
      "\tNeighbor (263): 4.672845057265285\n",
      "\n",
      "Predictions for movie 188:\n",
      "\tNeighbor (263): 4.411069162004184\n",
      "\tNeighbor (253): 4.411069162004184\n",
      "\n",
      "Predictions for movie 486:\n",
      "\tNeighbor (263): 4.36263751320544\n",
      "\n",
      "Predictions for movie 95:\n",
      "\tNeighbor (263): 4.3288339955065105\n",
      "\tNeighbor (253): 4.3288339955065105\n",
      "\n",
      "Predictions for movie 568:\n",
      "\tNeighbor (263): 4.223359856124705\n",
      "\tNeighbor (253): 4.223359856124705\n",
      "\n",
      "Predictions for movie 514:\n",
      "\tNeighbor (263): 4.551871756990394\n",
      "\n",
      "Predictions for movie 117:\n",
      "\tNeighbor (263): 4.002311078808471\n",
      "\tNeighbor (253): 4.002311078808471\n",
      "\n",
      "Predictions for movie 97:\n",
      "\tNeighbor (263): 4.341753832098058\n",
      "\tNeighbor (253): 4.341753832098058\n",
      "\n",
      "Predictions for movie 432:\n",
      "\tNeighbor (263): 4.211969174928647\n",
      "\n",
      "Predictions for movie 127:\n",
      "\tNeighbor (263): 4.026606345050539\n",
      "\tNeighbor (253): 4.026606345050539\n",
      "\n",
      "Predictions for movie 419:\n",
      "\tNeighbor (263): 4.30300244068032\n",
      "\n",
      "Predictions for movie 125:\n",
      "\tNeighbor (263): 3.6981674144478145\n",
      "\n",
      "Predictions for movie 86:\n",
      "\tNeighbor (263): 4.244197696306616\n",
      "\n",
      "Predictions for movie 162:\n",
      "\tNeighbor (263): 3.808022980766987\n",
      "\n",
      "Predictions for movie 423:\n",
      "\tNeighbor (263): 4.652559851384141\n",
      "\n",
      "Predictions for movie 416:\n",
      "\tNeighbor (263): 4.024729222960441\n",
      "\n",
      "Predictions for movie 163:\n",
      "\tNeighbor (263): 3.7301234038453397\n",
      "\n",
      "Predictions for movie 134:\n",
      "\tNeighbor (263): 4.5261683803209465\n",
      "\n",
      "Predictions for movie 82:\n",
      "\tNeighbor (263): 3.9520400836524874\n",
      "\n",
      "Predictions for movie 176:\n",
      "\tNeighbor (263): 3.608499195632546\n",
      "\n",
      "Predictions for movie 197:\n",
      "\tNeighbor (263): 4.382993276557338\n",
      "\n",
      "Predictions for movie 186:\n",
      "\tNeighbor (263): 3.35514620902302\n",
      "\n",
      "Predictions for movie 265:\n",
      "\tNeighbor (263): 4.115444610896883\n",
      "\n",
      "Predictions for movie 1473:\n",
      "\tNeighbor (263): 3.775582492890265\n",
      "\n",
      "Predictions for movie 1444:\n",
      "\tNeighbor (263): 3.0498751672922286\n",
      "\n",
      "Predictions for movie 195:\n",
      "\tNeighbor (263): 4.263412115610626\n",
      "\n",
      "Predictions for movie 1451:\n",
      "\tNeighbor (263): 3.934752938057784\n",
      "\n",
      "Predictions for movie 168:\n",
      "\tNeighbor (263): 4.301287540004227\n",
      "\n",
      "Predictions for movie 237:\n",
      "\tNeighbor (263): 4.229725144480092\n",
      "\tNeighbor (253): 4.229725144480092\n",
      "\n",
      "Predictions for movie 298:\n",
      "\tNeighbor (253): 4.216300953596067\n",
      "\n",
      "Predictions for movie 282:\n",
      "\tNeighbor (253): 4.203912151489827\n",
      "\n",
      "Predictions for movie 83:\n",
      "\tNeighbor (253): 4.343454941880021\n",
      "\n",
      "Predictions for movie 806:\n",
      "\tNeighbor (253): 4.082992872564571\n",
      "\n",
      "Predictions for movie 647:\n",
      "\tNeighbor (253): 4.0492730442054095\n",
      "\n",
      "Predictions for movie 216:\n",
      "\tNeighbor (253): 4.152265106665008\n",
      "\n",
      "Predictions for movie 496:\n",
      "\tNeighbor (253): 4.2880484546251285\n",
      "\n",
      "Predictions for movie 87:\n",
      "\tNeighbor (253): 4.303189599049328\n",
      "\n",
      "Predictions for movie 98:\n",
      "\tNeighbor (253): 4.493862551569059\n",
      "\n",
      "Predictions for movie 487:\n",
      "\tNeighbor (253): 4.386865592617157\n",
      "\n",
      "Predictions for movie 198:\n",
      "\tNeighbor (253): 4.39058609077152\n",
      "\n",
      "Predictions for movie 89:\n",
      "\tNeighbor (253): 4.451245364277529\n",
      "\n",
      "Predictions for movie 465:\n",
      "\tNeighbor (253): 4.0488264431161864\n",
      "\n",
      "Predictions for movie 173:\n",
      "\tNeighbor (253): 4.300440593019045\n",
      "\n",
      "Predictions for movie 747:\n",
      "\tNeighbor (253): 3.9500352588744083\n",
      "\n",
      "Predictions for movie 527:\n",
      "\tNeighbor (253): 4.745296643698097\n",
      "\n",
      "Predictions for movie 50:\n",
      "\tNeighbor (253): 5\n",
      "\n",
      "Predictions for movie 742:\n",
      "\tNeighbor (253): 3.689270005733103\n",
      "\n",
      "Predictions for movie 566:\n",
      "\tNeighbor (253): 3.4302904895678203\n",
      "\n",
      "Predictions for movie 705:\n",
      "\tNeighbor (253): 4.40558476157507\n",
      "\n",
      "Predictions for movie 746:\n",
      "\tNeighbor (253): 4.1662569035561\n",
      "\n",
      "Predictions for movie 203:\n",
      "\tNeighbor (253): 3.6668721412523433\n",
      "\n",
      "Predictions for movie 448:\n",
      "\tNeighbor (253): 4.124126854008146\n",
      "\n",
      "Predictions for movie 259:\n",
      "\tNeighbor (253): 2.825723212832512\n",
      "\n",
      "Predictions for movie 175:\n",
      "\tNeighbor (253): 4.6842998407649965\n",
      "\n",
      "Predictions for movie 313:\n",
      "\tNeighbor (266): 3.249089572154716\n",
      "\n",
      "Predictions for movie 874:\n",
      "\tNeighbor (266): 3.451128974378555\n",
      "\n",
      "Predictions for movie 676:\n",
      "\tNeighbor (266): 4.084297902842344\n",
      "\n",
      "Predictions for movie 508:\n",
      "\tNeighbor (266): 3.5236719390790947\n",
      "\n",
      "Predictions for movie 124:\n",
      "\tNeighbor (266): 4.851923067212781\n",
      "\n"
     ]
    }
   ],
   "source": [
    "from collections import defaultdict\n",
    "\n",
    "# Define a function to get the predictions of a user and their neighbors\n",
    "def get_predictions(user_id, neighbors, df, model):\n",
    "    predictions = defaultdict(list)\n",
    "    for neighbor in neighbors:\n",
    "        movie_ids = df[df['user_id'] == neighbor]['movie_id']\n",
    "        for movie_id in movie_ids:\n",
    "            prediction = model.predict(user_id, movie_id)\n",
    "            predictions[movie_id].append((neighbor, prediction.est))\n",
    "    return predictions\n",
    "\n",
    "# Get the predictions for the first user and their neighbors\n",
    "first_user_predictions = get_predictions(first_user, first_user_neighbors, testset_sorted, knn_model)\n",
    "\n",
    "# Print the predictions for each movie\n",
    "print(\"Predictions for the first user and their neighbors\")\n",
    "for movie_id, predictions in first_user_predictions.items():\n",
    "    print(f\"Predictions for movie {movie_id}:\")\n",
    "    for neighbor, prediction in predictions:\n",
    "        print(f\"\\tNeighbor ({neighbor}): {prediction}\")\n",
    "    print(\"\")\n",
    "\n",
    "# Get the predictions for the last user and their neighbors\n",
    "last_user_predictions = get_predictions(last_user, last_user_neighbors, testset_sorted, knn_model)\n",
    "print(\"Predictions for the last user and their neighbors\")\n",
    "# Print the predictions for each movie\n",
    "for movie_id, predictions in last_user_predictions.items():\n",
    "    print(f\"Predictions for movie {movie_id}:\")\n",
    "    for neighbor, prediction in predictions:\n",
    "        print(f\"\\tNeighbor ({neighbor}): {prediction}\")\n",
    "    print(\"\")\n"
   ],
   "metadata": {
    "collapsed": false
   }
  },
  {
   "cell_type": "markdown",
   "source": [
    "Upon analyzing the predictions and rate history of the retrieved neighbors for the first user, we can observe the following:\n",
    "\n",
    "Some of the neighbors have a relatively small rate history, such as neighbors 703, 545, 605, which may make their predictions less reliable.\n",
    "Neighbors 132, 203, 218, 285, and 334 have provided ratings for some of the same movies that user 259 has rated. This overlap may make their predictions more reliable for user 259.\n",
    "Neighbor 315 has a relatively large rate history and has provided ratings for many of the same movies as user 259, including some highly rated movies. This may make their predictions more reliable for user 259.\n",
    "The ratings provided by the neighbors for the movies in common with user 259 have varied significantly. For example, neighbor 203 has rated movie 50 with a score of 5, while user 259 has rated it with a score of 2. This could indicate different preferences or subjective tastes between users.\n",
    "Some neighbors have provided high ratings for movies that user 259 has not yet rated, which may indicate that they have a different preference for movies.\n",
    "Some neighbors have provided ratings for movies that are not yet rated by user 259. This could help to provide recommendations for movies that user 259 has not yet seen.\n",
    "Overall, we can say that the predictions from neighbors 132, 203, 218, 285, and 315 may be more reliable for user 259. However, given the variation in ratings provided by these neighbors, it is important to consider their ratings in combination with user 259's ratings to provide a more accurate recommendation."
   ],
   "metadata": {
    "collapsed": false
   }
  },
  {
   "cell_type": "markdown",
   "source": [
    "Based on the rate history of the last user and their neighbors, we can observe that:\n",
    "\n",
    "Neighbor 263 has a relatively similar taste to the last user, as they have rated several movies similarly, such as movies 294, 79, 143, 183, and 526. Thus, the prediction for movie 269 based on their rating history could be reliable.\n",
    "\n",
    "Neighbors 751, 752, 734, 670, 470, 546, and 560 have not rated any movie, so we cannot make predictions for their taste.\n",
    "\n",
    "Neighbor 266 has only rated five movies, so their rating history is not significant enough to provide reliable predictions for the last user.\n",
    "\n",
    "Overall, based on the above observations, the prediction for movie 269 based on the rate history of neighbor 263 seems reliable."
   ],
   "metadata": {
    "collapsed": false
   }
  },
  {
   "cell_type": "markdown",
   "source": [
    "- For those users or movies that your model performs poorly on (RR ≤ 0.05), discuss the potential reasons behind."
   ],
   "metadata": {
    "collapsed": false
   }
  },
  {
   "cell_type": "code",
   "execution_count": 75,
   "outputs": [
    {
     "name": "stdout",
     "output_type": "stream",
     "text": [
      "The recall rate is 0.6522\n"
     ]
    }
   ],
   "source": [
    "# Define the threshold for considering a rating as positive\n",
    "threshold = 3.0\n",
    "\n",
    "# Get the rate history and predictions for the first user and their neighbors\n",
    "first_user_rate_history = get_rate_history(first_user, testset_sorted)\n",
    "first_user_predictions = get_predictions(first_user, first_user_neighbors, testset_sorted, knn_model)\n",
    "\n",
    "# Calculate the true positives, false negatives, and false positives for the first user\n",
    "true_positives = 0\n",
    "false_negatives = 0\n",
    "false_positives = 0\n",
    "\n",
    "for movie_id, rating in first_user_rate_history.items():\n",
    "    if rating >= threshold:\n",
    "        if movie_id in first_user_predictions:\n",
    "            for neighbor, prediction in first_user_predictions[movie_id]:\n",
    "                if prediction >= threshold:\n",
    "                    true_positives += 1\n",
    "                else:\n",
    "                    false_negatives += 1\n",
    "        else:\n",
    "            false_negatives += 1\n",
    "    else:\n",
    "        if movie_id in first_user_predictions:\n",
    "            for neighbor, prediction in first_user_predictions[movie_id]:\n",
    "                if prediction >= threshold:\n",
    "                    false_positives += 1\n",
    "\n",
    "# Calculate the recall rate\n",
    "recall_rate = true_positives / (true_positives + false_negatives)\n",
    "\n",
    "# Print the result\n",
    "print(f\"The recall rate is {recall_rate:.4f}\")"
   ],
   "metadata": {
    "collapsed": false
   }
  },
  {
   "cell_type": "code",
   "execution_count": 76,
   "outputs": [],
   "source": [
    "def recall_rate(predictions, actual, threshold):\n",
    "    # Determine the positive ratings based on the threshold value\n",
    "    pos_predictions = np.where(predictions >= threshold, 1, 0)\n",
    "\n",
    "    # Calculate the number of true positive ratings\n",
    "    true_pos = np.sum((pos_predictions == 1) & (actual == 1))\n",
    "\n",
    "    # Calculate the number of false positive ratings\n",
    "    false_pos = np.sum((pos_predictions == 1) & (actual == 0))\n",
    "\n",
    "    # Calculate the precision rate\n",
    "    if true_pos + false_pos == 0:\n",
    "        precision = 0\n",
    "    else:\n",
    "        precision = true_pos / (true_pos + false_pos)\n",
    "\n",
    "    return precision\n"
   ],
   "metadata": {
    "collapsed": false
   }
  },
  {
   "cell_type": "code",
   "execution_count": 77,
   "outputs": [],
   "source": [
    "def get_predictions_by_user_id(user_id, df, model):\n",
    "    predictions = defaultdict(list)\n",
    "    movie_ids = df['movie_id'].unique()\n",
    "    for movie_id in movie_ids:\n",
    "        prediction = model.predict(user_id, movie_id)\n",
    "        predictions[movie_id].append((prediction.est))\n",
    "    return predictions"
   ],
   "metadata": {
    "collapsed": false
   }
  },
  {
   "cell_type": "code",
   "execution_count": 78,
   "outputs": [],
   "source": [
    "def get_actual_value(user_id, predictions, df):\n",
    "    actual = defaultdict(list)\n",
    "    for movie_id in predictions.keys():\n",
    "        rating = df.loc[(df['user_id'] == user_id) & (df['movie_id'] == movie_id), 'rating'].values[0]\n",
    "        actual[movie_id].append((rating))\n",
    "    return predictions"
   ],
   "metadata": {
    "collapsed": false
   }
  },
  {
   "cell_type": "code",
   "execution_count": 79,
   "outputs": [
    {
     "name": "stdout",
     "output_type": "stream",
     "text": [
      "For user:181 The precision rate is 0.00\n",
      "For user:445 The precision rate is 0.00\n",
      "For user:21 The precision rate is 0.00\n",
      "For user:161 The precision rate is 0.00\n",
      "For user:405 The precision rate is 0.00\n",
      "For user:206 The precision rate is 0.00\n",
      "For user:446 The precision rate is 0.00\n"
     ]
    }
   ],
   "source": [
    "threshold = 4.0\n",
    "\n",
    "\n",
    "for user in test_data_df[\"user_id\"].unique():\n",
    "    predictions =get_predictions_by_user_id(user,test_data_df, knn_model)\n",
    "    predictions_arr = np.array([predictions[i][0] for i in sorted(predictions.keys())])\n",
    "    actual = (predictions_arr >= threshold).astype(int)\n",
    "    rr = recall_rate(predictions_arr, actual, threshold)\n",
    "    if(rr<1):\n",
    "        print(f\"For user:{user} The precision rate is {rr:.2f}\")\n"
   ],
   "metadata": {
    "collapsed": false
   }
  },
  {
   "cell_type": "markdown",
   "source": [
    "The above list is not an exhaustive list. You can think of other ways of doing error analysis, e.g., using additional evaluation measures, or discussing outliers, for instance."
   ],
   "metadata": {
    "collapsed": false
   }
  },
  {
   "cell_type": "code",
   "execution_count": 79,
   "outputs": [],
   "source": [],
   "metadata": {
    "collapsed": false
   }
  },
  {
   "cell_type": "markdown",
   "source": [
    "## 4) Week 9 [Feb 27 - Mar 5]: Text Representation\n"
   ],
   "metadata": {
    "collapsed": false
   }
  },
  {
   "cell_type": "markdown",
   "source": [
    "In this part, we will work with the text content from the dataset and will apply NLP techniques to represent movies and users in a vector space."
   ],
   "metadata": {
    "collapsed": false
   }
  },
  {
   "cell_type": "markdown",
   "source": [
    "- Select the column overview from the metadata file and apply the following preprocessing to clean up the data: tokenization, transform to lowercase, remove stopwords, stemming. Report the vocabulary size after preprocessing. There are many libraries you can use, including but not limited to, NLTK, spaCy or CoreNLP (requires Java)."
   ],
   "metadata": {
    "collapsed": false
   }
  },
  {
   "cell_type": "code",
   "execution_count": 80,
   "outputs": [],
   "source": [
    "import nltk\n",
    "from nltk.corpus import stopwords\n",
    "from nltk.stem import PorterStemmer\n",
    "from nltk.tokenize import word_tokenize\n",
    "from nltk.tokenize.treebank import TreebankWordDetokenizer"
   ],
   "metadata": {
    "collapsed": false
   }
  },
  {
   "cell_type": "code",
   "execution_count": 81,
   "outputs": [
    {
     "name": "stdout",
     "output_type": "stream",
     "text": [
      "Total number of items: 45463\n"
     ]
    }
   ],
   "source": [
    "total_items = len(metadata['overview'])\n",
    "print(f'Total number of items: {total_items}')"
   ],
   "metadata": {
    "collapsed": false
   }
  },
  {
   "cell_type": "code",
   "execution_count": 82,
   "outputs": [],
   "source": [
    "#remove nan values\n",
    "# merged_data\n",
    "metadata_clean = metadata.dropna(subset=['overview'])"
   ],
   "metadata": {
    "collapsed": false
   }
  },
  {
   "cell_type": "code",
   "execution_count": 83,
   "outputs": [
    {
     "name": "stderr",
     "output_type": "stream",
     "text": [
      "E:\\Programe\\Anaconda3\\envs\\web\\lib\\site-packages\\ipykernel_launcher.py:19: SettingWithCopyWarning: \n",
      "A value is trying to be set on a copy of a slice from a DataFrame.\n",
      "Try using .loc[row_indexer,col_indexer] = value instead\n",
      "\n",
      "See the caveats in the documentation: https://pandas.pydata.org/pandas-docs/stable/user_guide/indexing.html#returning-a-view-versus-a-copy\n"
     ]
    },
    {
     "name": "stdout",
     "output_type": "stream",
     "text": [
      "Vocabulary size before preprocessing: 172304\n",
      "Vocabulary size after preprocessing: 70731\n"
     ]
    }
   ],
   "source": [
    "vocab_before = len(set(' '.join(metadata_clean['overview']).split()))\n",
    "\n",
    "# Preprocess the title column\n",
    "stemmer = PorterStemmer()\n",
    "stop_words = set(stopwords.words('english'))\n",
    "\n",
    "def preprocess_text(text):\n",
    "    text = text.lower()\n",
    "\n",
    "    tokens = nltk.word_tokenize(text)\n",
    "\n",
    "    stemmed_tokens = [stemmer.stem(token) for token in tokens if token not in stop_words]\n",
    "\n",
    "    preprocessed_text = ' '.join(stemmed_tokens)\n",
    "\n",
    "    return preprocessed_text\n",
    "\n",
    "# Preprocess the 'title' column\n",
    "metadata_clean['overview'] = metadata_clean['overview'].apply(preprocess_text)\n",
    "\n",
    "\n",
    "\n",
    "vocab_after = len(set(' '.join(metadata_clean['overview']).split()))\n",
    "print(f'Vocabulary size before preprocessing: {vocab_before}')\n",
    "print(f'Vocabulary size after preprocessing: {vocab_after}')"
   ],
   "metadata": {
    "collapsed": false
   }
  },
  {
   "cell_type": "code",
   "execution_count": 83,
   "outputs": [],
   "source": [],
   "metadata": {
    "collapsed": false
   }
  },
  {
   "cell_type": "markdown",
   "source": [
    "- Represent each movie in the TF-IDF vector space. You can use your preferred library for data analysis, like, for example, scikit-learn or\n",
    "gensim."
   ],
   "metadata": {
    "collapsed": false
   }
  },
  {
   "cell_type": "code",
   "execution_count": 84,
   "outputs": [],
   "source": [
    "metadata_clean.columns = metadata_clean.columns.str.replace('id', 'metadata_id')\n",
    "\n",
    "# Merge the metadata and mapping tables on the metadata_id\n",
    "metadata_copy = metadata_clean.copy()\n",
    "metadata_copy['metadata_id'] = metadata_copy['metadata_id'].astype(int)\n",
    "\n",
    "\n",
    "movie_data = pd.merge(metadata_copy, mapping_table, left_on=\"metadata_id\", right_on=\"id_in_metadata\")"
   ],
   "metadata": {
    "collapsed": false
   }
  },
  {
   "cell_type": "code",
   "execution_count": 85,
   "outputs": [
    {
     "name": "stdout",
     "output_type": "stream",
     "text": [
      "The shape of the TF-IDF matrix is: (1494, 8919)\n"
     ]
    }
   ],
   "source": [
    "from sklearn.feature_extraction.text import TfidfVectorizer\n",
    "\n",
    "# Define the TF-IDF vectorizer with your preferred parameters\n",
    "tfidf_vectorizer = TfidfVectorizer(stop_words='english')\n",
    "\n",
    "# Fit and transform the overview column to get the TF-IDF matrix\n",
    "# tfidf_matrix = tfidf_vectorizer.fit_transform(metadata_clean['overview'])\n",
    "tfidf_matrix = tfidf_vectorizer.fit_transform(movie_data['overview'])\n",
    "\n",
    "\n",
    "\n",
    "# Print the shape of the TF-IDF matrix\n",
    "print(f\"The shape of the TF-IDF matrix is: {tfidf_matrix.shape}\")"
   ],
   "metadata": {
    "collapsed": false
   }
  },
  {
   "cell_type": "markdown",
   "source": [],
   "metadata": {
    "collapsed": false
   }
  },
  {
   "cell_type": "markdown",
   "source": [
    "- Represent each movie using pretrained word embeddings (e.g., GloVe, word2vec)."
   ],
   "metadata": {
    "collapsed": false
   }
  },
  {
   "cell_type": "code",
   "execution_count": 86,
   "outputs": [
    {
     "data": {
      "text/plain": "       adult                              belongs_to_collection    budget  \\\n0      False  {'id': 10194, 'name': 'Toy Story Collection', ...  30000000   \n1      False                                                NaN  65000000   \n2      False  {'id': 119050, 'name': 'Grumpy Old Men Collect...         0   \n3      False                                                NaN  16000000   \n4      False  {'id': 96871, 'name': 'Father of the Bride Col...         0   \n...      ...                                                ...       ...   \n45461  False                                                NaN         0   \n45462  False                                                NaN         0   \n45463  False                                                NaN         0   \n45464  False                                                NaN         0   \n45465  False                                                NaN         0   \n\n                                                  genres  \\\n0      [{'id': 16, 'name': 'Animation'}, {'id': 35, '...   \n1      [{'id': 12, 'name': 'Adventure'}, {'id': 14, '...   \n2      [{'id': 10749, 'name': 'Romance'}, {'id': 35, ...   \n3      [{'id': 35, 'name': 'Comedy'}, {'id': 18, 'nam...   \n4                         [{'id': 35, 'name': 'Comedy'}]   \n...                                                  ...   \n45461  [{'id': 18, 'name': 'Drama'}, {'id': 10751, 'n...   \n45462                      [{'id': 18, 'name': 'Drama'}]   \n45463  [{'id': 28, 'name': 'Action'}, {'id': 18, 'nam...   \n45464                                                 []   \n45465                                                 []   \n\n                                   homepage metadata_id imdb_metadata_id  \\\n0      http://toystory.disney.com/toy-story         862        tt0114709   \n1                                       NaN        8844        tt0113497   \n2                                       NaN       15602        tt0113228   \n3                                       NaN       31357        tt0114885   \n4                                       NaN       11862        tt0113041   \n...                                     ...         ...              ...   \n45461  http://www.imdb.com/title/tt6209470/      439050        tt6209470   \n45462                                   NaN      111109        tt2028550   \n45463                                   NaN       67758        tt0303758   \n45464                                   NaN      227506        tt0008536   \n45465                                   NaN      461257        tt6980792   \n\n      original_language               original_title  \\\n0                    en                    Toy Story   \n1                    en                      Jumanji   \n2                    en             Grumpier Old Men   \n3                    en            Waiting to Exhale   \n4                    en  Father of the Bride Part II   \n...                 ...                          ...   \n45461                fa                      رگ خواب   \n45462                tl          Siglo ng Pagluluwal   \n45463                en                     Betrayal   \n45464                en          Satana likuyushchiy   \n45465                en                     Queerama   \n\n                                                overview  ... release_date  \\\n0      led woodi , andi 's toy live happili room andi...  ...   1995-10-30   \n1      sibl judi peter discov enchant board game open...  ...   1995-12-15   \n2      famili wed reignit ancient feud next-door neig...  ...   1995-12-22   \n3      cheat , mistreat step , women hold breath , wa...  ...   1995-12-22   \n4      georg bank recov daughter 's wed , receiv news...  ...   1995-02-10   \n...                                                  ...  ...          ...   \n45461                              rise fall man woman .  ...          NaN   \n45462  artist struggl finish work storylin cult play ...  ...   2011-11-17   \n45463  one hit goe wrong , profession assassin end su...  ...   2003-08-01   \n45464  small town live two brother , one minist one h...  ...   1917-10-21   \n45465  50 year decriminalis homosexu uk , director da...  ...   2017-06-09   \n\n           revenue runtime                                   spoken_languages  \\\n0      373554033.0    81.0           [{'iso_639_1': 'en', 'name': 'English'}]   \n1      262797249.0   104.0  [{'iso_639_1': 'en', 'name': 'English'}, {'iso...   \n2              0.0   101.0           [{'iso_639_1': 'en', 'name': 'English'}]   \n3       81452156.0   127.0           [{'iso_639_1': 'en', 'name': 'English'}]   \n4       76578911.0   106.0           [{'iso_639_1': 'en', 'name': 'English'}]   \n...            ...     ...                                                ...   \n45461          0.0    90.0             [{'iso_639_1': 'fa', 'name': 'فارسی'}]   \n45462          0.0   360.0                  [{'iso_639_1': 'tl', 'name': ''}]   \n45463          0.0    90.0           [{'iso_639_1': 'en', 'name': 'English'}]   \n45464          0.0    87.0                                                 []   \n45465          0.0    75.0           [{'iso_639_1': 'en', 'name': 'English'}]   \n\n         status                                            tagline  \\\n0      Released                                                NaN   \n1      Released          Roll the dice and unleash the excitement!   \n2      Released  Still Yelling. Still Fighting. Still Ready for...   \n3      Released  Friends are the people who let you be yourself...   \n4      Released  Just When His World Is Back To Normal... He's ...   \n...         ...                                                ...   \n45461  Released         Rising and falling between a man and woman   \n45462  Released                                                NaN   \n45463  Released                             A deadly game of wits.   \n45464  Released                                                NaN   \n45465  Released                                                NaN   \n\n                             title vmetadata_ideo vote_average vote_count  \n0                        Toy Story          False          7.7     5415.0  \n1                          Jumanji          False          6.9     2413.0  \n2                 Grumpier Old Men          False          6.5       92.0  \n3                Waiting to Exhale          False          6.1       34.0  \n4      Father of the Bride Part II          False          5.7      173.0  \n...                            ...            ...          ...        ...  \n45461                       Subdue          False          4.0        1.0  \n45462          Century of Birthing          False          9.0        3.0  \n45463                     Betrayal          False          3.8        6.0  \n45464             Satan Triumphant          False          0.0        0.0  \n45465                     Queerama          False          0.0        0.0  \n\n[44509 rows x 24 columns]",
      "text/html": "<div>\n<style scoped>\n    .dataframe tbody tr th:only-of-type {\n        vertical-align: middle;\n    }\n\n    .dataframe tbody tr th {\n        vertical-align: top;\n    }\n\n    .dataframe thead th {\n        text-align: right;\n    }\n</style>\n<table border=\"1\" class=\"dataframe\">\n  <thead>\n    <tr style=\"text-align: right;\">\n      <th></th>\n      <th>adult</th>\n      <th>belongs_to_collection</th>\n      <th>budget</th>\n      <th>genres</th>\n      <th>homepage</th>\n      <th>metadata_id</th>\n      <th>imdb_metadata_id</th>\n      <th>original_language</th>\n      <th>original_title</th>\n      <th>overview</th>\n      <th>...</th>\n      <th>release_date</th>\n      <th>revenue</th>\n      <th>runtime</th>\n      <th>spoken_languages</th>\n      <th>status</th>\n      <th>tagline</th>\n      <th>title</th>\n      <th>vmetadata_ideo</th>\n      <th>vote_average</th>\n      <th>vote_count</th>\n    </tr>\n  </thead>\n  <tbody>\n    <tr>\n      <th>0</th>\n      <td>False</td>\n      <td>{'id': 10194, 'name': 'Toy Story Collection', ...</td>\n      <td>30000000</td>\n      <td>[{'id': 16, 'name': 'Animation'}, {'id': 35, '...</td>\n      <td>http://toystory.disney.com/toy-story</td>\n      <td>862</td>\n      <td>tt0114709</td>\n      <td>en</td>\n      <td>Toy Story</td>\n      <td>led woodi , andi 's toy live happili room andi...</td>\n      <td>...</td>\n      <td>1995-10-30</td>\n      <td>373554033.0</td>\n      <td>81.0</td>\n      <td>[{'iso_639_1': 'en', 'name': 'English'}]</td>\n      <td>Released</td>\n      <td>NaN</td>\n      <td>Toy Story</td>\n      <td>False</td>\n      <td>7.7</td>\n      <td>5415.0</td>\n    </tr>\n    <tr>\n      <th>1</th>\n      <td>False</td>\n      <td>NaN</td>\n      <td>65000000</td>\n      <td>[{'id': 12, 'name': 'Adventure'}, {'id': 14, '...</td>\n      <td>NaN</td>\n      <td>8844</td>\n      <td>tt0113497</td>\n      <td>en</td>\n      <td>Jumanji</td>\n      <td>sibl judi peter discov enchant board game open...</td>\n      <td>...</td>\n      <td>1995-12-15</td>\n      <td>262797249.0</td>\n      <td>104.0</td>\n      <td>[{'iso_639_1': 'en', 'name': 'English'}, {'iso...</td>\n      <td>Released</td>\n      <td>Roll the dice and unleash the excitement!</td>\n      <td>Jumanji</td>\n      <td>False</td>\n      <td>6.9</td>\n      <td>2413.0</td>\n    </tr>\n    <tr>\n      <th>2</th>\n      <td>False</td>\n      <td>{'id': 119050, 'name': 'Grumpy Old Men Collect...</td>\n      <td>0</td>\n      <td>[{'id': 10749, 'name': 'Romance'}, {'id': 35, ...</td>\n      <td>NaN</td>\n      <td>15602</td>\n      <td>tt0113228</td>\n      <td>en</td>\n      <td>Grumpier Old Men</td>\n      <td>famili wed reignit ancient feud next-door neig...</td>\n      <td>...</td>\n      <td>1995-12-22</td>\n      <td>0.0</td>\n      <td>101.0</td>\n      <td>[{'iso_639_1': 'en', 'name': 'English'}]</td>\n      <td>Released</td>\n      <td>Still Yelling. Still Fighting. Still Ready for...</td>\n      <td>Grumpier Old Men</td>\n      <td>False</td>\n      <td>6.5</td>\n      <td>92.0</td>\n    </tr>\n    <tr>\n      <th>3</th>\n      <td>False</td>\n      <td>NaN</td>\n      <td>16000000</td>\n      <td>[{'id': 35, 'name': 'Comedy'}, {'id': 18, 'nam...</td>\n      <td>NaN</td>\n      <td>31357</td>\n      <td>tt0114885</td>\n      <td>en</td>\n      <td>Waiting to Exhale</td>\n      <td>cheat , mistreat step , women hold breath , wa...</td>\n      <td>...</td>\n      <td>1995-12-22</td>\n      <td>81452156.0</td>\n      <td>127.0</td>\n      <td>[{'iso_639_1': 'en', 'name': 'English'}]</td>\n      <td>Released</td>\n      <td>Friends are the people who let you be yourself...</td>\n      <td>Waiting to Exhale</td>\n      <td>False</td>\n      <td>6.1</td>\n      <td>34.0</td>\n    </tr>\n    <tr>\n      <th>4</th>\n      <td>False</td>\n      <td>{'id': 96871, 'name': 'Father of the Bride Col...</td>\n      <td>0</td>\n      <td>[{'id': 35, 'name': 'Comedy'}]</td>\n      <td>NaN</td>\n      <td>11862</td>\n      <td>tt0113041</td>\n      <td>en</td>\n      <td>Father of the Bride Part II</td>\n      <td>georg bank recov daughter 's wed , receiv news...</td>\n      <td>...</td>\n      <td>1995-02-10</td>\n      <td>76578911.0</td>\n      <td>106.0</td>\n      <td>[{'iso_639_1': 'en', 'name': 'English'}]</td>\n      <td>Released</td>\n      <td>Just When His World Is Back To Normal... He's ...</td>\n      <td>Father of the Bride Part II</td>\n      <td>False</td>\n      <td>5.7</td>\n      <td>173.0</td>\n    </tr>\n    <tr>\n      <th>...</th>\n      <td>...</td>\n      <td>...</td>\n      <td>...</td>\n      <td>...</td>\n      <td>...</td>\n      <td>...</td>\n      <td>...</td>\n      <td>...</td>\n      <td>...</td>\n      <td>...</td>\n      <td>...</td>\n      <td>...</td>\n      <td>...</td>\n      <td>...</td>\n      <td>...</td>\n      <td>...</td>\n      <td>...</td>\n      <td>...</td>\n      <td>...</td>\n      <td>...</td>\n      <td>...</td>\n    </tr>\n    <tr>\n      <th>45461</th>\n      <td>False</td>\n      <td>NaN</td>\n      <td>0</td>\n      <td>[{'id': 18, 'name': 'Drama'}, {'id': 10751, 'n...</td>\n      <td>http://www.imdb.com/title/tt6209470/</td>\n      <td>439050</td>\n      <td>tt6209470</td>\n      <td>fa</td>\n      <td>رگ خواب</td>\n      <td>rise fall man woman .</td>\n      <td>...</td>\n      <td>NaN</td>\n      <td>0.0</td>\n      <td>90.0</td>\n      <td>[{'iso_639_1': 'fa', 'name': 'فارسی'}]</td>\n      <td>Released</td>\n      <td>Rising and falling between a man and woman</td>\n      <td>Subdue</td>\n      <td>False</td>\n      <td>4.0</td>\n      <td>1.0</td>\n    </tr>\n    <tr>\n      <th>45462</th>\n      <td>False</td>\n      <td>NaN</td>\n      <td>0</td>\n      <td>[{'id': 18, 'name': 'Drama'}]</td>\n      <td>NaN</td>\n      <td>111109</td>\n      <td>tt2028550</td>\n      <td>tl</td>\n      <td>Siglo ng Pagluluwal</td>\n      <td>artist struggl finish work storylin cult play ...</td>\n      <td>...</td>\n      <td>2011-11-17</td>\n      <td>0.0</td>\n      <td>360.0</td>\n      <td>[{'iso_639_1': 'tl', 'name': ''}]</td>\n      <td>Released</td>\n      <td>NaN</td>\n      <td>Century of Birthing</td>\n      <td>False</td>\n      <td>9.0</td>\n      <td>3.0</td>\n    </tr>\n    <tr>\n      <th>45463</th>\n      <td>False</td>\n      <td>NaN</td>\n      <td>0</td>\n      <td>[{'id': 28, 'name': 'Action'}, {'id': 18, 'nam...</td>\n      <td>NaN</td>\n      <td>67758</td>\n      <td>tt0303758</td>\n      <td>en</td>\n      <td>Betrayal</td>\n      <td>one hit goe wrong , profession assassin end su...</td>\n      <td>...</td>\n      <td>2003-08-01</td>\n      <td>0.0</td>\n      <td>90.0</td>\n      <td>[{'iso_639_1': 'en', 'name': 'English'}]</td>\n      <td>Released</td>\n      <td>A deadly game of wits.</td>\n      <td>Betrayal</td>\n      <td>False</td>\n      <td>3.8</td>\n      <td>6.0</td>\n    </tr>\n    <tr>\n      <th>45464</th>\n      <td>False</td>\n      <td>NaN</td>\n      <td>0</td>\n      <td>[]</td>\n      <td>NaN</td>\n      <td>227506</td>\n      <td>tt0008536</td>\n      <td>en</td>\n      <td>Satana likuyushchiy</td>\n      <td>small town live two brother , one minist one h...</td>\n      <td>...</td>\n      <td>1917-10-21</td>\n      <td>0.0</td>\n      <td>87.0</td>\n      <td>[]</td>\n      <td>Released</td>\n      <td>NaN</td>\n      <td>Satan Triumphant</td>\n      <td>False</td>\n      <td>0.0</td>\n      <td>0.0</td>\n    </tr>\n    <tr>\n      <th>45465</th>\n      <td>False</td>\n      <td>NaN</td>\n      <td>0</td>\n      <td>[]</td>\n      <td>NaN</td>\n      <td>461257</td>\n      <td>tt6980792</td>\n      <td>en</td>\n      <td>Queerama</td>\n      <td>50 year decriminalis homosexu uk , director da...</td>\n      <td>...</td>\n      <td>2017-06-09</td>\n      <td>0.0</td>\n      <td>75.0</td>\n      <td>[{'iso_639_1': 'en', 'name': 'English'}]</td>\n      <td>Released</td>\n      <td>NaN</td>\n      <td>Queerama</td>\n      <td>False</td>\n      <td>0.0</td>\n      <td>0.0</td>\n    </tr>\n  </tbody>\n</table>\n<p>44509 rows × 24 columns</p>\n</div>"
     },
     "execution_count": 86,
     "metadata": {},
     "output_type": "execute_result"
    }
   ],
   "source": [
    "metadata_clean"
   ],
   "metadata": {
    "collapsed": false
   }
  },
  {
   "cell_type": "code",
   "execution_count": 87,
   "outputs": [],
   "source": [
    "import gensim.downloader as api\n",
    "glove_embedding_model = api.load(\"glove-wiki-gigaword-300\")"
   ],
   "metadata": {
    "collapsed": false
   }
  },
  {
   "cell_type": "code",
   "execution_count": 88,
   "outputs": [],
   "source": [
    "# metadata_clean.columns = metadata_clean.columns.str.replace('id', 'metadata_id')"
   ],
   "metadata": {
    "collapsed": false
   }
  },
  {
   "cell_type": "code",
   "execution_count": 89,
   "outputs": [
    {
     "data": {
      "text/plain": "       adult                              belongs_to_collection    budget  \\\n0      False  {'id': 10194, 'name': 'Toy Story Collection', ...  30000000   \n1      False                                                NaN  65000000   \n2      False  {'id': 119050, 'name': 'Grumpy Old Men Collect...         0   \n3      False                                                NaN  16000000   \n4      False  {'id': 96871, 'name': 'Father of the Bride Col...         0   \n...      ...                                                ...       ...   \n45461  False                                                NaN         0   \n45462  False                                                NaN         0   \n45463  False                                                NaN         0   \n45464  False                                                NaN         0   \n45465  False                                                NaN         0   \n\n                                                  genres  \\\n0      [{'id': 16, 'name': 'Animation'}, {'id': 35, '...   \n1      [{'id': 12, 'name': 'Adventure'}, {'id': 14, '...   \n2      [{'id': 10749, 'name': 'Romance'}, {'id': 35, ...   \n3      [{'id': 35, 'name': 'Comedy'}, {'id': 18, 'nam...   \n4                         [{'id': 35, 'name': 'Comedy'}]   \n...                                                  ...   \n45461  [{'id': 18, 'name': 'Drama'}, {'id': 10751, 'n...   \n45462                      [{'id': 18, 'name': 'Drama'}]   \n45463  [{'id': 28, 'name': 'Action'}, {'id': 18, 'nam...   \n45464                                                 []   \n45465                                                 []   \n\n                                   homepage metadata_id imdb_metadata_id  \\\n0      http://toystory.disney.com/toy-story         862        tt0114709   \n1                                       NaN        8844        tt0113497   \n2                                       NaN       15602        tt0113228   \n3                                       NaN       31357        tt0114885   \n4                                       NaN       11862        tt0113041   \n...                                     ...         ...              ...   \n45461  http://www.imdb.com/title/tt6209470/      439050        tt6209470   \n45462                                   NaN      111109        tt2028550   \n45463                                   NaN       67758        tt0303758   \n45464                                   NaN      227506        tt0008536   \n45465                                   NaN      461257        tt6980792   \n\n      original_language               original_title  \\\n0                    en                    Toy Story   \n1                    en                      Jumanji   \n2                    en             Grumpier Old Men   \n3                    en            Waiting to Exhale   \n4                    en  Father of the Bride Part II   \n...                 ...                          ...   \n45461                fa                      رگ خواب   \n45462                tl          Siglo ng Pagluluwal   \n45463                en                     Betrayal   \n45464                en          Satana likuyushchiy   \n45465                en                     Queerama   \n\n                                                overview  ... release_date  \\\n0      led woodi , andi 's toy live happili room andi...  ...   1995-10-30   \n1      sibl judi peter discov enchant board game open...  ...   1995-12-15   \n2      famili wed reignit ancient feud next-door neig...  ...   1995-12-22   \n3      cheat , mistreat step , women hold breath , wa...  ...   1995-12-22   \n4      georg bank recov daughter 's wed , receiv news...  ...   1995-02-10   \n...                                                  ...  ...          ...   \n45461                              rise fall man woman .  ...          NaN   \n45462  artist struggl finish work storylin cult play ...  ...   2011-11-17   \n45463  one hit goe wrong , profession assassin end su...  ...   2003-08-01   \n45464  small town live two brother , one minist one h...  ...   1917-10-21   \n45465  50 year decriminalis homosexu uk , director da...  ...   2017-06-09   \n\n           revenue runtime                                   spoken_languages  \\\n0      373554033.0    81.0           [{'iso_639_1': 'en', 'name': 'English'}]   \n1      262797249.0   104.0  [{'iso_639_1': 'en', 'name': 'English'}, {'iso...   \n2              0.0   101.0           [{'iso_639_1': 'en', 'name': 'English'}]   \n3       81452156.0   127.0           [{'iso_639_1': 'en', 'name': 'English'}]   \n4       76578911.0   106.0           [{'iso_639_1': 'en', 'name': 'English'}]   \n...            ...     ...                                                ...   \n45461          0.0    90.0             [{'iso_639_1': 'fa', 'name': 'فارسی'}]   \n45462          0.0   360.0                  [{'iso_639_1': 'tl', 'name': ''}]   \n45463          0.0    90.0           [{'iso_639_1': 'en', 'name': 'English'}]   \n45464          0.0    87.0                                                 []   \n45465          0.0    75.0           [{'iso_639_1': 'en', 'name': 'English'}]   \n\n         status                                            tagline  \\\n0      Released                                                NaN   \n1      Released          Roll the dice and unleash the excitement!   \n2      Released  Still Yelling. Still Fighting. Still Ready for...   \n3      Released  Friends are the people who let you be yourself...   \n4      Released  Just When His World Is Back To Normal... He's ...   \n...         ...                                                ...   \n45461  Released         Rising and falling between a man and woman   \n45462  Released                                                NaN   \n45463  Released                             A deadly game of wits.   \n45464  Released                                                NaN   \n45465  Released                                                NaN   \n\n                             title vmetadata_ideo vote_average vote_count  \n0                        Toy Story          False          7.7     5415.0  \n1                          Jumanji          False          6.9     2413.0  \n2                 Grumpier Old Men          False          6.5       92.0  \n3                Waiting to Exhale          False          6.1       34.0  \n4      Father of the Bride Part II          False          5.7      173.0  \n...                            ...            ...          ...        ...  \n45461                       Subdue          False          4.0        1.0  \n45462          Century of Birthing          False          9.0        3.0  \n45463                     Betrayal          False          3.8        6.0  \n45464             Satan Triumphant          False          0.0        0.0  \n45465                     Queerama          False          0.0        0.0  \n\n[44509 rows x 24 columns]",
      "text/html": "<div>\n<style scoped>\n    .dataframe tbody tr th:only-of-type {\n        vertical-align: middle;\n    }\n\n    .dataframe tbody tr th {\n        vertical-align: top;\n    }\n\n    .dataframe thead th {\n        text-align: right;\n    }\n</style>\n<table border=\"1\" class=\"dataframe\">\n  <thead>\n    <tr style=\"text-align: right;\">\n      <th></th>\n      <th>adult</th>\n      <th>belongs_to_collection</th>\n      <th>budget</th>\n      <th>genres</th>\n      <th>homepage</th>\n      <th>metadata_id</th>\n      <th>imdb_metadata_id</th>\n      <th>original_language</th>\n      <th>original_title</th>\n      <th>overview</th>\n      <th>...</th>\n      <th>release_date</th>\n      <th>revenue</th>\n      <th>runtime</th>\n      <th>spoken_languages</th>\n      <th>status</th>\n      <th>tagline</th>\n      <th>title</th>\n      <th>vmetadata_ideo</th>\n      <th>vote_average</th>\n      <th>vote_count</th>\n    </tr>\n  </thead>\n  <tbody>\n    <tr>\n      <th>0</th>\n      <td>False</td>\n      <td>{'id': 10194, 'name': 'Toy Story Collection', ...</td>\n      <td>30000000</td>\n      <td>[{'id': 16, 'name': 'Animation'}, {'id': 35, '...</td>\n      <td>http://toystory.disney.com/toy-story</td>\n      <td>862</td>\n      <td>tt0114709</td>\n      <td>en</td>\n      <td>Toy Story</td>\n      <td>led woodi , andi 's toy live happili room andi...</td>\n      <td>...</td>\n      <td>1995-10-30</td>\n      <td>373554033.0</td>\n      <td>81.0</td>\n      <td>[{'iso_639_1': 'en', 'name': 'English'}]</td>\n      <td>Released</td>\n      <td>NaN</td>\n      <td>Toy Story</td>\n      <td>False</td>\n      <td>7.7</td>\n      <td>5415.0</td>\n    </tr>\n    <tr>\n      <th>1</th>\n      <td>False</td>\n      <td>NaN</td>\n      <td>65000000</td>\n      <td>[{'id': 12, 'name': 'Adventure'}, {'id': 14, '...</td>\n      <td>NaN</td>\n      <td>8844</td>\n      <td>tt0113497</td>\n      <td>en</td>\n      <td>Jumanji</td>\n      <td>sibl judi peter discov enchant board game open...</td>\n      <td>...</td>\n      <td>1995-12-15</td>\n      <td>262797249.0</td>\n      <td>104.0</td>\n      <td>[{'iso_639_1': 'en', 'name': 'English'}, {'iso...</td>\n      <td>Released</td>\n      <td>Roll the dice and unleash the excitement!</td>\n      <td>Jumanji</td>\n      <td>False</td>\n      <td>6.9</td>\n      <td>2413.0</td>\n    </tr>\n    <tr>\n      <th>2</th>\n      <td>False</td>\n      <td>{'id': 119050, 'name': 'Grumpy Old Men Collect...</td>\n      <td>0</td>\n      <td>[{'id': 10749, 'name': 'Romance'}, {'id': 35, ...</td>\n      <td>NaN</td>\n      <td>15602</td>\n      <td>tt0113228</td>\n      <td>en</td>\n      <td>Grumpier Old Men</td>\n      <td>famili wed reignit ancient feud next-door neig...</td>\n      <td>...</td>\n      <td>1995-12-22</td>\n      <td>0.0</td>\n      <td>101.0</td>\n      <td>[{'iso_639_1': 'en', 'name': 'English'}]</td>\n      <td>Released</td>\n      <td>Still Yelling. Still Fighting. Still Ready for...</td>\n      <td>Grumpier Old Men</td>\n      <td>False</td>\n      <td>6.5</td>\n      <td>92.0</td>\n    </tr>\n    <tr>\n      <th>3</th>\n      <td>False</td>\n      <td>NaN</td>\n      <td>16000000</td>\n      <td>[{'id': 35, 'name': 'Comedy'}, {'id': 18, 'nam...</td>\n      <td>NaN</td>\n      <td>31357</td>\n      <td>tt0114885</td>\n      <td>en</td>\n      <td>Waiting to Exhale</td>\n      <td>cheat , mistreat step , women hold breath , wa...</td>\n      <td>...</td>\n      <td>1995-12-22</td>\n      <td>81452156.0</td>\n      <td>127.0</td>\n      <td>[{'iso_639_1': 'en', 'name': 'English'}]</td>\n      <td>Released</td>\n      <td>Friends are the people who let you be yourself...</td>\n      <td>Waiting to Exhale</td>\n      <td>False</td>\n      <td>6.1</td>\n      <td>34.0</td>\n    </tr>\n    <tr>\n      <th>4</th>\n      <td>False</td>\n      <td>{'id': 96871, 'name': 'Father of the Bride Col...</td>\n      <td>0</td>\n      <td>[{'id': 35, 'name': 'Comedy'}]</td>\n      <td>NaN</td>\n      <td>11862</td>\n      <td>tt0113041</td>\n      <td>en</td>\n      <td>Father of the Bride Part II</td>\n      <td>georg bank recov daughter 's wed , receiv news...</td>\n      <td>...</td>\n      <td>1995-02-10</td>\n      <td>76578911.0</td>\n      <td>106.0</td>\n      <td>[{'iso_639_1': 'en', 'name': 'English'}]</td>\n      <td>Released</td>\n      <td>Just When His World Is Back To Normal... He's ...</td>\n      <td>Father of the Bride Part II</td>\n      <td>False</td>\n      <td>5.7</td>\n      <td>173.0</td>\n    </tr>\n    <tr>\n      <th>...</th>\n      <td>...</td>\n      <td>...</td>\n      <td>...</td>\n      <td>...</td>\n      <td>...</td>\n      <td>...</td>\n      <td>...</td>\n      <td>...</td>\n      <td>...</td>\n      <td>...</td>\n      <td>...</td>\n      <td>...</td>\n      <td>...</td>\n      <td>...</td>\n      <td>...</td>\n      <td>...</td>\n      <td>...</td>\n      <td>...</td>\n      <td>...</td>\n      <td>...</td>\n      <td>...</td>\n    </tr>\n    <tr>\n      <th>45461</th>\n      <td>False</td>\n      <td>NaN</td>\n      <td>0</td>\n      <td>[{'id': 18, 'name': 'Drama'}, {'id': 10751, 'n...</td>\n      <td>http://www.imdb.com/title/tt6209470/</td>\n      <td>439050</td>\n      <td>tt6209470</td>\n      <td>fa</td>\n      <td>رگ خواب</td>\n      <td>rise fall man woman .</td>\n      <td>...</td>\n      <td>NaN</td>\n      <td>0.0</td>\n      <td>90.0</td>\n      <td>[{'iso_639_1': 'fa', 'name': 'فارسی'}]</td>\n      <td>Released</td>\n      <td>Rising and falling between a man and woman</td>\n      <td>Subdue</td>\n      <td>False</td>\n      <td>4.0</td>\n      <td>1.0</td>\n    </tr>\n    <tr>\n      <th>45462</th>\n      <td>False</td>\n      <td>NaN</td>\n      <td>0</td>\n      <td>[{'id': 18, 'name': 'Drama'}]</td>\n      <td>NaN</td>\n      <td>111109</td>\n      <td>tt2028550</td>\n      <td>tl</td>\n      <td>Siglo ng Pagluluwal</td>\n      <td>artist struggl finish work storylin cult play ...</td>\n      <td>...</td>\n      <td>2011-11-17</td>\n      <td>0.0</td>\n      <td>360.0</td>\n      <td>[{'iso_639_1': 'tl', 'name': ''}]</td>\n      <td>Released</td>\n      <td>NaN</td>\n      <td>Century of Birthing</td>\n      <td>False</td>\n      <td>9.0</td>\n      <td>3.0</td>\n    </tr>\n    <tr>\n      <th>45463</th>\n      <td>False</td>\n      <td>NaN</td>\n      <td>0</td>\n      <td>[{'id': 28, 'name': 'Action'}, {'id': 18, 'nam...</td>\n      <td>NaN</td>\n      <td>67758</td>\n      <td>tt0303758</td>\n      <td>en</td>\n      <td>Betrayal</td>\n      <td>one hit goe wrong , profession assassin end su...</td>\n      <td>...</td>\n      <td>2003-08-01</td>\n      <td>0.0</td>\n      <td>90.0</td>\n      <td>[{'iso_639_1': 'en', 'name': 'English'}]</td>\n      <td>Released</td>\n      <td>A deadly game of wits.</td>\n      <td>Betrayal</td>\n      <td>False</td>\n      <td>3.8</td>\n      <td>6.0</td>\n    </tr>\n    <tr>\n      <th>45464</th>\n      <td>False</td>\n      <td>NaN</td>\n      <td>0</td>\n      <td>[]</td>\n      <td>NaN</td>\n      <td>227506</td>\n      <td>tt0008536</td>\n      <td>en</td>\n      <td>Satana likuyushchiy</td>\n      <td>small town live two brother , one minist one h...</td>\n      <td>...</td>\n      <td>1917-10-21</td>\n      <td>0.0</td>\n      <td>87.0</td>\n      <td>[]</td>\n      <td>Released</td>\n      <td>NaN</td>\n      <td>Satan Triumphant</td>\n      <td>False</td>\n      <td>0.0</td>\n      <td>0.0</td>\n    </tr>\n    <tr>\n      <th>45465</th>\n      <td>False</td>\n      <td>NaN</td>\n      <td>0</td>\n      <td>[]</td>\n      <td>NaN</td>\n      <td>461257</td>\n      <td>tt6980792</td>\n      <td>en</td>\n      <td>Queerama</td>\n      <td>50 year decriminalis homosexu uk , director da...</td>\n      <td>...</td>\n      <td>2017-06-09</td>\n      <td>0.0</td>\n      <td>75.0</td>\n      <td>[{'iso_639_1': 'en', 'name': 'English'}]</td>\n      <td>Released</td>\n      <td>NaN</td>\n      <td>Queerama</td>\n      <td>False</td>\n      <td>0.0</td>\n      <td>0.0</td>\n    </tr>\n  </tbody>\n</table>\n<p>44509 rows × 24 columns</p>\n</div>"
     },
     "execution_count": 89,
     "metadata": {},
     "output_type": "execute_result"
    }
   ],
   "source": [
    "metadata_clean"
   ],
   "metadata": {
    "collapsed": false
   }
  },
  {
   "cell_type": "code",
   "execution_count": 90,
   "outputs": [],
   "source": [
    "# # Merge the metadata and mapping tables on the metadata_id\n",
    "# metadata_copy = metadata_clean.copy()\n",
    "# metadata_copy['metadata_id'] = metadata_copy['metadata_id'].astype(int)\n",
    "#\n",
    "#\n",
    "# movie_data = pd.merge(metadata_copy, mapping_table, left_on=\"metadata_id\", right_on=\"id_in_metadata\")"
   ],
   "metadata": {
    "collapsed": false
   }
  },
  {
   "cell_type": "code",
   "execution_count": 91,
   "outputs": [],
   "source": [
    "\n",
    "# Define a function to convert text to a vector using word embeddings\n",
    "def text_to_vector(text):\n",
    "    words = text.lower().split()\n",
    "    vectors = [glove_embedding_model[w] for w in words if w in glove_embedding_model.key_to_index]\n",
    "    if len(vectors) == 0:\n",
    "        return np.zeros(300)\n",
    "    else:\n",
    "        return np.mean(vectors, axis=0)\n",
    "\n",
    "# Apply the text_to_vector function to the overview column to create a new column \"embedding\"\n",
    "movie_data[\"embedding\"] = movie_data[\"overview\"].apply(text_to_vector)\n",
    "# metadata_copy[\"embedding\"] = metadata_copy[\"overview\"].apply(text_to_vector)\n",
    "\n",
    "# Extract the movie_id and embedding columns and save to a new CSV file\n",
    "# movie_embeddings = metadata_copy[[\"metadata_id\", \"embedding\"]]\n",
    "movie_embeddings = movie_data[[\"id_in_movielens\", \"embedding\"]]\n",
    "# movie_embeddings.to_csv(\"movie_embeddings.csv\", index=False)"
   ],
   "metadata": {
    "collapsed": false
   }
  },
  {
   "cell_type": "code",
   "execution_count": 92,
   "outputs": [
    {
     "data": {
      "text/plain": "      id_in_movielens                                          embedding\n0                   1  [-0.10946303, 0.078197874, -0.02056392, -0.127...\n1                 755  [-0.07720704, 0.06704256, -0.033654235, -0.098...\n2                1028  [0.018259447, 0.061489996, 0.063034564, -0.048...\n3                1311  [-0.074486144, -0.008508504, 0.010924811, -0.0...\n4                 756  [-0.14021243, -0.09134251, -0.043068476, -0.05...\n...               ...                                                ...\n1489              217  [-0.31841668, -0.05600701, 0.01332767, -0.1249...\n1490             1329  [-0.06209051, 0.13034874, -0.030291673, 0.1018...\n1491              839  [-0.050440956, 0.05347763, -0.017222112, -0.03...\n1492              166  [-0.035610523, 0.028492294, -0.07466405, -0.19...\n1493              392  [-0.1402371, 0.13628922, -0.040712, 0.04809366...\n\n[1494 rows x 2 columns]",
      "text/html": "<div>\n<style scoped>\n    .dataframe tbody tr th:only-of-type {\n        vertical-align: middle;\n    }\n\n    .dataframe tbody tr th {\n        vertical-align: top;\n    }\n\n    .dataframe thead th {\n        text-align: right;\n    }\n</style>\n<table border=\"1\" class=\"dataframe\">\n  <thead>\n    <tr style=\"text-align: right;\">\n      <th></th>\n      <th>id_in_movielens</th>\n      <th>embedding</th>\n    </tr>\n  </thead>\n  <tbody>\n    <tr>\n      <th>0</th>\n      <td>1</td>\n      <td>[-0.10946303, 0.078197874, -0.02056392, -0.127...</td>\n    </tr>\n    <tr>\n      <th>1</th>\n      <td>755</td>\n      <td>[-0.07720704, 0.06704256, -0.033654235, -0.098...</td>\n    </tr>\n    <tr>\n      <th>2</th>\n      <td>1028</td>\n      <td>[0.018259447, 0.061489996, 0.063034564, -0.048...</td>\n    </tr>\n    <tr>\n      <th>3</th>\n      <td>1311</td>\n      <td>[-0.074486144, -0.008508504, 0.010924811, -0.0...</td>\n    </tr>\n    <tr>\n      <th>4</th>\n      <td>756</td>\n      <td>[-0.14021243, -0.09134251, -0.043068476, -0.05...</td>\n    </tr>\n    <tr>\n      <th>...</th>\n      <td>...</td>\n      <td>...</td>\n    </tr>\n    <tr>\n      <th>1489</th>\n      <td>217</td>\n      <td>[-0.31841668, -0.05600701, 0.01332767, -0.1249...</td>\n    </tr>\n    <tr>\n      <th>1490</th>\n      <td>1329</td>\n      <td>[-0.06209051, 0.13034874, -0.030291673, 0.1018...</td>\n    </tr>\n    <tr>\n      <th>1491</th>\n      <td>839</td>\n      <td>[-0.050440956, 0.05347763, -0.017222112, -0.03...</td>\n    </tr>\n    <tr>\n      <th>1492</th>\n      <td>166</td>\n      <td>[-0.035610523, 0.028492294, -0.07466405, -0.19...</td>\n    </tr>\n    <tr>\n      <th>1493</th>\n      <td>392</td>\n      <td>[-0.1402371, 0.13628922, -0.040712, 0.04809366...</td>\n    </tr>\n  </tbody>\n</table>\n<p>1494 rows × 2 columns</p>\n</div>"
     },
     "execution_count": 92,
     "metadata": {},
     "output_type": "execute_result"
    }
   ],
   "source": [
    "movie_embeddings"
   ],
   "metadata": {
    "collapsed": false
   }
  },
  {
   "cell_type": "markdown",
   "source": [],
   "metadata": {
    "collapsed": false
   }
  },
  {
   "cell_type": "code",
   "execution_count": 93,
   "outputs": [],
   "source": [
    "# import numpy as np\n",
    "# import pandas as pd\n",
    "# import nltk\n",
    "# from gensim.models import KeyedVectors\n",
    "#\n",
    "#\n",
    "#\n",
    "# # Concatenate all the overviews into a single string\n",
    "# corpus = ' '.join(metadata_clean['overview'].tolist())\n",
    "#\n",
    "# # Tokenize the corpus into a list of words\n",
    "# tokens = nltk.word_tokenize(corpus.lower())\n",
    "#\n",
    "# # Load the pretrained GloVe word embedding model\n",
    "# glove_model = glove_embedding_model\n",
    "#\n",
    "# # Create a list of unique words in the corpus\n",
    "# unique_words = list(set(tokens))\n",
    "#\n",
    "# # Remove words that are not in the GloVe model vocabulary\n",
    "# vocab = [word for word in unique_words if word in glove_model.key_to_index]\n",
    "#\n",
    "# # Create a dictionary to store the word embeddings for each word in the vocabulary\n",
    "# word_embeddings = {}\n",
    "# for word in vocab:\n",
    "#     word_embeddings[word] = glove_model[word]\n",
    "#\n",
    "# # Create a dictionary to store the movie embeddings\n",
    "# movie_embeddings = {}\n",
    "# for index, row in mapping_table.iterrows():\n",
    "#     movie_id = row['id_in_metadata']\n",
    "#     metadata_id = row['id_in_metadata']\n",
    "#     overview = metadata_copy[metadata_copy['metadata_id'] == metadata_id]['overview'].iloc[0]\n",
    "#     movie_tokens = nltk.word_tokenize(overview.lower())\n",
    "#     movie_vocab = [word for word in movie_tokens if word in vocab]\n",
    "#     movie_embedding = np.mean([word_embeddings[word] for word in movie_vocab], axis=0)\n",
    "#     movie_embeddings[movie_id] = movie_embedding\n",
    "#\n",
    "# # Convert the movie embeddings dictionary to a pandas dataframe\n",
    "# movie_embeddings_df = pd.DataFrame.from_dict(movie_embeddings, orient='index')\n",
    "# movie_embeddings_df.index.name = 'movie_id'"
   ],
   "metadata": {
    "collapsed": false
   }
  },
  {
   "cell_type": "markdown",
   "source": [
    "- Explore the similarity between movies within the vector spaces by computing their cosine similarity. Compare results obtained with TF-IDF and the word embeddings. Discuss what you find.\n"
   ],
   "metadata": {
    "collapsed": false
   }
  },
  {
   "cell_type": "code",
   "execution_count": 94,
   "outputs": [
    {
     "name": "stdout",
     "output_type": "stream",
     "text": [
      "[[1.         0.02506226 0.         ... 0.         0.         0.        ]\n",
      " [0.02506226 1.         0.0443493  ... 0.01917412 0.         0.        ]\n",
      " [0.         0.0443493  1.         ... 0.06054931 0.         0.        ]\n",
      " ...\n",
      " [0.         0.01917412 0.06054931 ... 1.         0.         0.        ]\n",
      " [0.         0.         0.         ... 0.         1.         0.        ]\n",
      " [0.         0.         0.         ... 0.         0.         1.        ]]\n"
     ]
    }
   ],
   "source": [
    "from sklearn.metrics.pairwise import cosine_similarity\n",
    "\n",
    "# Compute the pairwise cosine similarity between all movies in the TF-IDF matrix\n",
    "cos_sim_tfidf = cosine_similarity(tfidf_matrix)\n",
    "\n",
    "# Print the cosine similarity matrix\n",
    "print(cos_sim_tfidf)"
   ],
   "metadata": {
    "collapsed": false
   }
  },
  {
   "cell_type": "code",
   "execution_count": 95,
   "outputs": [
    {
     "name": "stdout",
     "output_type": "stream",
     "text": [
      "[[1.         0.83947444 0.79715085 ... 0.8175576  0.6259571  0.6029959 ]\n",
      " [0.83947444 1.         0.8238467  ... 0.8765471  0.6306478  0.64319986]\n",
      " [0.79715085 0.8238467  0.99999976 ... 0.8696661  0.5988736  0.6120067 ]\n",
      " ...\n",
      " [0.8175576  0.8765471  0.8696661  ... 1.0000001  0.66331244 0.6749233 ]\n",
      " [0.6259571  0.6306478  0.5988736  ... 0.66331244 1.         0.49783015]\n",
      " [0.6029959  0.64319986 0.6120067  ... 0.6749233  0.49783015 1.        ]]\n"
     ]
    }
   ],
   "source": [
    "# Compute the pairwise cosine similarity between all movies in the embedding space\n",
    "cos_sim_embedding = cosine_similarity(list(movie_embeddings['embedding']))\n",
    "\n",
    "# Print the cosine similarity matrix\n",
    "print(cos_sim_embedding)"
   ],
   "metadata": {
    "collapsed": false
   }
  },
  {
   "cell_type": "markdown",
   "source": [
    "Compare the 2 cosine similarity matrix"
   ],
   "metadata": {
    "collapsed": false
   }
  },
  {
   "cell_type": "code",
   "execution_count": 96,
   "outputs": [],
   "source": [
    "from scipy.stats import pearsonr\n",
    "\n",
    "# Flatten the cosine similarity matrices\n",
    "cos_sim_tfidf_flat = cos_sim_tfidf.flatten()\n",
    "cos_sim_embedding_flat = cos_sim_embedding.flatten()\n",
    "\n"
   ],
   "metadata": {
    "collapsed": false
   }
  },
  {
   "cell_type": "code",
   "execution_count": 97,
   "outputs": [
    {
     "name": "stdout",
     "output_type": "stream",
     "text": [
      "2232036\n",
      "2232036\n"
     ]
    }
   ],
   "source": [
    "print(len(cos_sim_tfidf_flat))\n",
    "print(len(cos_sim_embedding_flat))"
   ],
   "metadata": {
    "collapsed": false
   }
  },
  {
   "cell_type": "code",
   "execution_count": 98,
   "outputs": [
    {
     "name": "stdout",
     "output_type": "stream",
     "text": [
      "The Pearson correlation coefficient is: 0.1758068640854474\n"
     ]
    }
   ],
   "source": [
    "# Compute the Pearson correlation coefficient between the two matrices\n",
    "corr_coef, p_value = pearsonr(cos_sim_tfidf_flat, cos_sim_embedding_flat)\n",
    "\n",
    "# Print the correlation coefficient\n",
    "print(f\"The Pearson correlation coefficient is: {corr_coef}\")"
   ],
   "metadata": {
    "collapsed": false
   }
  },
  {
   "cell_type": "code",
   "execution_count": 98,
   "outputs": [],
   "source": [],
   "metadata": {
    "collapsed": false
   }
  },
  {
   "cell_type": "markdown",
   "source": [
    "# 5) Week 10: Content-Based Recommender System"
   ],
   "metadata": {
    "collapsed": false
   }
  },
  {
   "cell_type": "markdown",
   "source": [
    "- Transform the overview column of each item into a TF-IDF score or other numerical value, e.g., token-count based, that can represent the\n",
    "summaries. Select other factors that can be used as item features, for example genres and production companies."
   ],
   "metadata": {
    "collapsed": false
   }
  },
  {
   "cell_type": "code",
   "execution_count": 99,
   "outputs": [],
   "source": [
    "# Fit and transform the overview column\n",
    "# metadata_clean['overview_tfidf'] = tfidf_vectorizer.fit_transform(metadata_clean['overview']).toarray().tolist()\n",
    "movie_data['overview_tfidf'] = tfidf_vectorizer.fit_transform(movie_data['overview']).toarray().tolist()"
   ],
   "metadata": {
    "collapsed": false
   }
  },
  {
   "cell_type": "code",
   "execution_count": 100,
   "outputs": [],
   "source": [
    "import ast\n",
    "\n",
    "# Define a function to extract the genre names\n",
    "def extract_genres(row):\n",
    "    genres = []\n",
    "    for genre in ast.literal_eval(row['genres']):\n",
    "        genres.append(genre['name'])\n",
    "    return '|'.join(genres)\n",
    "\n",
    "# Define a function to extract the production company names\n",
    "def extract_companies(row):\n",
    "    companies = []\n",
    "    for company in ast.literal_eval(row['production_companies']):\n",
    "        companies.append(company['name'])\n",
    "    return '|'.join(companies)\n",
    "\n",
    "# Apply the functions to the metadata table\n",
    "movie_data['genres'] = movie_data.apply(extract_genres, axis=1)\n",
    "movie_data = movie_data.dropna(subset=['production_companies'])\n",
    "movie_data['production_companies'] = movie_data.apply(extract_companies, axis=1)"
   ],
   "metadata": {
    "collapsed": false
   }
  },
  {
   "cell_type": "code",
   "execution_count": 101,
   "outputs": [],
   "source": [
    "from sklearn.preprocessing import MultiLabelBinarizer\n",
    "\n",
    "# Initialize the MultiLabelBinarizer\n",
    "mlb = MultiLabelBinarizer()\n",
    "\n",
    "# Fit and transform the genres and production_companies columns\n",
    "genres_encoded = mlb.fit_transform(movie_data['genres'].apply(lambda x: x.split('|')))\n",
    "movie_data = movie_data.join(pd.DataFrame(genres_encoded, columns=mlb.classes_).add_prefix('genre_'))\n",
    "# genres_list = genres_encoded.tolist()\n",
    "# movie_data['genres_encoded'] = genres_list\n",
    "\n",
    "\n",
    "production_companies_encoded = mlb.fit_transform(movie_data['production_companies'].apply(lambda x: x.split('|')))\n",
    "movie_data = movie_data.join(pd.DataFrame(production_companies_encoded, columns=mlb.classes_).add_prefix('production_company_'))\n"
   ],
   "metadata": {
    "collapsed": false
   }
  },
  {
   "cell_type": "code",
   "execution_count": 102,
   "outputs": [
    {
     "data": {
      "text/plain": "      adult                              belongs_to_collection    budget  \\\n0     False  {'id': 10194, 'name': 'Toy Story Collection', ...  30000000   \n1     False                                                NaN  65000000   \n2     False  {'id': 119050, 'name': 'Grumpy Old Men Collect...         0   \n3     False                                                NaN  16000000   \n4     False  {'id': 96871, 'name': 'Father of the Bride Col...         0   \n...     ...                                                ...       ...   \n1489  False                                                NaN         0   \n1490  False                                                NaN         0   \n1491  False                                                NaN         0   \n1492  False  {'id': 464784, 'name': 'The Water of the Hills...         0   \n1493  False                                                NaN         0   \n\n                        genres                              homepage  \\\n0      Animation|Comedy|Family  http://toystory.disney.com/toy-story   \n1     Adventure|Fantasy|Family                                   NaN   \n2               Romance|Comedy                                   NaN   \n3         Comedy|Drama|Romance                                   NaN   \n4                       Comedy                                   NaN   \n...                        ...                                   ...   \n1489           Horror|TV Movie                                   NaN   \n1490                                                             NaN   \n1491              Drama|Family                                   NaN   \n1492                     Drama                                   NaN   \n1493        Crime|Drama|Horror                                   NaN   \n\n      metadata_id imdb_metadata_id original_language  \\\n0             862        tt0114709                en   \n1            8844        tt0113497                en   \n2           15602        tt0113228                en   \n3           31357        tt0114885                en   \n4           11862        tt0113041                en   \n...           ...              ...               ...   \n1489        86889        tt0070003                en   \n1490        87169        tt0110400                en   \n1491        51043        tt0113682                en   \n1492        65703        tt0044883                fr   \n1493       210653        tt0043647                es   \n\n                   original_title  \\\n0                       Toy Story   \n1                         Jumanji   \n2                Grumpier Old Men   \n3               Waiting to Exhale   \n4     Father of the Bride Part II   \n...                           ...   \n1489        Bram Stoker's Dracula   \n1490                 The Low Life   \n1491                    Loch Ness   \n1492            Manon des sources   \n1493         El Hombre Sin Rostro   \n\n                                               overview  ...  \\\n0     led woodi , andi 's toy live happili room andi...  ...   \n1     sibl judi peter discov enchant board game open...  ...   \n2     famili wed reignit ancient feud next-door neig...  ...   \n3     cheat , mistreat step , women hold breath , wa...  ...   \n4     georg bank recov daughter 's wed , receiv news...  ...   \n...                                                 ...  ...   \n1489    dracula search woman look like long dead wife .  ...   \n1490  john came hollywood get one big break life . y...  ...   \n1491  dr. dempsey american scientist becom skeptic ....  ...   \n1492  marcel pagnol 's adapt novel manon de sourc , ...  ...   \n1493  faceless killer hunt women stop detect disturb...  ...   \n\n     production_company_Zespół Filmowy TOR  \\\n0                                        0   \n1                                        0   \n2                                        0   \n3                                        0   \n4                                        0   \n...                                    ...   \n1489                                     0   \n1490                                     0   \n1491                                     0   \n1492                                     0   \n1493                                     0   \n\n     production_company_Zeta Entertainment  \\\n0                                        0   \n1                                        0   \n2                                        0   \n3                                        0   \n4                                        0   \n...                                    ...   \n1489                                     0   \n1490                                     0   \n1491                                     0   \n1492                                     0   \n1493                                     0   \n\n     production_company_Zoetrope Studios  \\\n0                                      0   \n1                                      0   \n2                                      0   \n3                                      0   \n4                                      0   \n...                                  ...   \n1489                                   0   \n1490                                   0   \n1491                                   0   \n1492                                   0   \n1493                                   0   \n\n     production_company_Zucker Brothers Productions  \\\n0                                                 0   \n1                                                 0   \n2                                                 0   \n3                                                 0   \n4                                                 0   \n...                                             ...   \n1489                                              0   \n1490                                              0   \n1491                                              0   \n1492                                              0   \n1493                                              0   \n\n     production_company_Zupnik Cinema Group II  \\\n0                                            0   \n1                                            0   \n2                                            0   \n3                                            0   \n4                                            0   \n...                                        ...   \n1489                                         0   \n1490                                         0   \n1491                                         0   \n1492                                         0   \n1493                                         0   \n\n      production_company_Zweites Deutsches Fernsehen (ZDF)  \\\n0                                                     0      \n1                                                     0      \n2                                                     0      \n3                                                     0      \n4                                                     0      \n...                                                 ...      \n1489                                                  0      \n1490                                                  0      \n1491                                                  0      \n1492                                                  0      \n1493                                                  0      \n\n      production_company_cechi gori group  \\\n0                                       0   \n1                                       0   \n2                                       0   \n3                                       0   \n4                                       0   \n...                                   ...   \n1489                                    0   \n1490                                    0   \n1491                                    0   \n1492                                    0   \n1493                                    0   \n\n     production_company_imX Communications  \\\n0                                        0   \n1                                        0   \n2                                        0   \n3                                        0   \n4                                        0   \n...                                    ...   \n1489                                     0   \n1490                                     0   \n1491                                     0   \n1492                                     0   \n1493                                     0   \n\n     production_company_the Canadian Council  \\\n0                                          0   \n1                                          0   \n2                                          0   \n3                                          0   \n4                                          0   \n...                                      ...   \n1489                                       0   \n1490                                       0   \n1491                                       0   \n1492                                       0   \n1493                                       0   \n\n     production_company_west wind entertainment  \n0                                             0  \n1                                             0  \n2                                             0  \n3                                             0  \n4                                             0  \n...                                         ...  \n1489                                          0  \n1490                                          0  \n1491                                          0  \n1492                                          0  \n1493                                          0  \n\n[1494 rows x 1305 columns]",
      "text/html": "<div>\n<style scoped>\n    .dataframe tbody tr th:only-of-type {\n        vertical-align: middle;\n    }\n\n    .dataframe tbody tr th {\n        vertical-align: top;\n    }\n\n    .dataframe thead th {\n        text-align: right;\n    }\n</style>\n<table border=\"1\" class=\"dataframe\">\n  <thead>\n    <tr style=\"text-align: right;\">\n      <th></th>\n      <th>adult</th>\n      <th>belongs_to_collection</th>\n      <th>budget</th>\n      <th>genres</th>\n      <th>homepage</th>\n      <th>metadata_id</th>\n      <th>imdb_metadata_id</th>\n      <th>original_language</th>\n      <th>original_title</th>\n      <th>overview</th>\n      <th>...</th>\n      <th>production_company_Zespół Filmowy TOR</th>\n      <th>production_company_Zeta Entertainment</th>\n      <th>production_company_Zoetrope Studios</th>\n      <th>production_company_Zucker Brothers Productions</th>\n      <th>production_company_Zupnik Cinema Group II</th>\n      <th>production_company_Zweites Deutsches Fernsehen (ZDF)</th>\n      <th>production_company_cechi gori group</th>\n      <th>production_company_imX Communications</th>\n      <th>production_company_the Canadian Council</th>\n      <th>production_company_west wind entertainment</th>\n    </tr>\n  </thead>\n  <tbody>\n    <tr>\n      <th>0</th>\n      <td>False</td>\n      <td>{'id': 10194, 'name': 'Toy Story Collection', ...</td>\n      <td>30000000</td>\n      <td>Animation|Comedy|Family</td>\n      <td>http://toystory.disney.com/toy-story</td>\n      <td>862</td>\n      <td>tt0114709</td>\n      <td>en</td>\n      <td>Toy Story</td>\n      <td>led woodi , andi 's toy live happili room andi...</td>\n      <td>...</td>\n      <td>0</td>\n      <td>0</td>\n      <td>0</td>\n      <td>0</td>\n      <td>0</td>\n      <td>0</td>\n      <td>0</td>\n      <td>0</td>\n      <td>0</td>\n      <td>0</td>\n    </tr>\n    <tr>\n      <th>1</th>\n      <td>False</td>\n      <td>NaN</td>\n      <td>65000000</td>\n      <td>Adventure|Fantasy|Family</td>\n      <td>NaN</td>\n      <td>8844</td>\n      <td>tt0113497</td>\n      <td>en</td>\n      <td>Jumanji</td>\n      <td>sibl judi peter discov enchant board game open...</td>\n      <td>...</td>\n      <td>0</td>\n      <td>0</td>\n      <td>0</td>\n      <td>0</td>\n      <td>0</td>\n      <td>0</td>\n      <td>0</td>\n      <td>0</td>\n      <td>0</td>\n      <td>0</td>\n    </tr>\n    <tr>\n      <th>2</th>\n      <td>False</td>\n      <td>{'id': 119050, 'name': 'Grumpy Old Men Collect...</td>\n      <td>0</td>\n      <td>Romance|Comedy</td>\n      <td>NaN</td>\n      <td>15602</td>\n      <td>tt0113228</td>\n      <td>en</td>\n      <td>Grumpier Old Men</td>\n      <td>famili wed reignit ancient feud next-door neig...</td>\n      <td>...</td>\n      <td>0</td>\n      <td>0</td>\n      <td>0</td>\n      <td>0</td>\n      <td>0</td>\n      <td>0</td>\n      <td>0</td>\n      <td>0</td>\n      <td>0</td>\n      <td>0</td>\n    </tr>\n    <tr>\n      <th>3</th>\n      <td>False</td>\n      <td>NaN</td>\n      <td>16000000</td>\n      <td>Comedy|Drama|Romance</td>\n      <td>NaN</td>\n      <td>31357</td>\n      <td>tt0114885</td>\n      <td>en</td>\n      <td>Waiting to Exhale</td>\n      <td>cheat , mistreat step , women hold breath , wa...</td>\n      <td>...</td>\n      <td>0</td>\n      <td>0</td>\n      <td>0</td>\n      <td>0</td>\n      <td>0</td>\n      <td>0</td>\n      <td>0</td>\n      <td>0</td>\n      <td>0</td>\n      <td>0</td>\n    </tr>\n    <tr>\n      <th>4</th>\n      <td>False</td>\n      <td>{'id': 96871, 'name': 'Father of the Bride Col...</td>\n      <td>0</td>\n      <td>Comedy</td>\n      <td>NaN</td>\n      <td>11862</td>\n      <td>tt0113041</td>\n      <td>en</td>\n      <td>Father of the Bride Part II</td>\n      <td>georg bank recov daughter 's wed , receiv news...</td>\n      <td>...</td>\n      <td>0</td>\n      <td>0</td>\n      <td>0</td>\n      <td>0</td>\n      <td>0</td>\n      <td>0</td>\n      <td>0</td>\n      <td>0</td>\n      <td>0</td>\n      <td>0</td>\n    </tr>\n    <tr>\n      <th>...</th>\n      <td>...</td>\n      <td>...</td>\n      <td>...</td>\n      <td>...</td>\n      <td>...</td>\n      <td>...</td>\n      <td>...</td>\n      <td>...</td>\n      <td>...</td>\n      <td>...</td>\n      <td>...</td>\n      <td>...</td>\n      <td>...</td>\n      <td>...</td>\n      <td>...</td>\n      <td>...</td>\n      <td>...</td>\n      <td>...</td>\n      <td>...</td>\n      <td>...</td>\n      <td>...</td>\n    </tr>\n    <tr>\n      <th>1489</th>\n      <td>False</td>\n      <td>NaN</td>\n      <td>0</td>\n      <td>Horror|TV Movie</td>\n      <td>NaN</td>\n      <td>86889</td>\n      <td>tt0070003</td>\n      <td>en</td>\n      <td>Bram Stoker's Dracula</td>\n      <td>dracula search woman look like long dead wife .</td>\n      <td>...</td>\n      <td>0</td>\n      <td>0</td>\n      <td>0</td>\n      <td>0</td>\n      <td>0</td>\n      <td>0</td>\n      <td>0</td>\n      <td>0</td>\n      <td>0</td>\n      <td>0</td>\n    </tr>\n    <tr>\n      <th>1490</th>\n      <td>False</td>\n      <td>NaN</td>\n      <td>0</td>\n      <td></td>\n      <td>NaN</td>\n      <td>87169</td>\n      <td>tt0110400</td>\n      <td>en</td>\n      <td>The Low Life</td>\n      <td>john came hollywood get one big break life . y...</td>\n      <td>...</td>\n      <td>0</td>\n      <td>0</td>\n      <td>0</td>\n      <td>0</td>\n      <td>0</td>\n      <td>0</td>\n      <td>0</td>\n      <td>0</td>\n      <td>0</td>\n      <td>0</td>\n    </tr>\n    <tr>\n      <th>1491</th>\n      <td>False</td>\n      <td>NaN</td>\n      <td>0</td>\n      <td>Drama|Family</td>\n      <td>NaN</td>\n      <td>51043</td>\n      <td>tt0113682</td>\n      <td>en</td>\n      <td>Loch Ness</td>\n      <td>dr. dempsey american scientist becom skeptic ....</td>\n      <td>...</td>\n      <td>0</td>\n      <td>0</td>\n      <td>0</td>\n      <td>0</td>\n      <td>0</td>\n      <td>0</td>\n      <td>0</td>\n      <td>0</td>\n      <td>0</td>\n      <td>0</td>\n    </tr>\n    <tr>\n      <th>1492</th>\n      <td>False</td>\n      <td>{'id': 464784, 'name': 'The Water of the Hills...</td>\n      <td>0</td>\n      <td>Drama</td>\n      <td>NaN</td>\n      <td>65703</td>\n      <td>tt0044883</td>\n      <td>fr</td>\n      <td>Manon des sources</td>\n      <td>marcel pagnol 's adapt novel manon de sourc , ...</td>\n      <td>...</td>\n      <td>0</td>\n      <td>0</td>\n      <td>0</td>\n      <td>0</td>\n      <td>0</td>\n      <td>0</td>\n      <td>0</td>\n      <td>0</td>\n      <td>0</td>\n      <td>0</td>\n    </tr>\n    <tr>\n      <th>1493</th>\n      <td>False</td>\n      <td>NaN</td>\n      <td>0</td>\n      <td>Crime|Drama|Horror</td>\n      <td>NaN</td>\n      <td>210653</td>\n      <td>tt0043647</td>\n      <td>es</td>\n      <td>El Hombre Sin Rostro</td>\n      <td>faceless killer hunt women stop detect disturb...</td>\n      <td>...</td>\n      <td>0</td>\n      <td>0</td>\n      <td>0</td>\n      <td>0</td>\n      <td>0</td>\n      <td>0</td>\n      <td>0</td>\n      <td>0</td>\n      <td>0</td>\n      <td>0</td>\n    </tr>\n  </tbody>\n</table>\n<p>1494 rows × 1305 columns</p>\n</div>"
     },
     "execution_count": 102,
     "metadata": {},
     "output_type": "execute_result"
    }
   ],
   "source": [
    "movie_data"
   ],
   "metadata": {
    "collapsed": false
   }
  },
  {
   "cell_type": "markdown",
   "source": [
    "- After you represent each movie in a vector space, represent each user in the same vector space. This can be done by using an average of the items the user rates. Instead of a simple average, a weighted average can be used. Note: the user representations and item representations all have the same number of dimensions.\n"
   ],
   "metadata": {
    "collapsed": false
   }
  },
  {
   "cell_type": "code",
   "execution_count": 103,
   "outputs": [],
   "source": [
    "# from sklearn.feature_extraction.text import CountVectorizer\n",
    "#\n",
    "# # create an instance of the CountVectorizer class\n",
    "# count_vectorizer = CountVectorizer()\n",
    "#\n",
    "# # fit the vectorizer on the movie summaries\n",
    "# count_vectorizer.fit(movie_data['overview'])\n",
    "#\n",
    "# # transform the movie summaries into vectors\n",
    "# movie_vectors = count_vectorizer.transform(movie_data['overview'])"
   ],
   "metadata": {
    "collapsed": false
   }
  },
  {
   "cell_type": "code",
   "execution_count": 104,
   "outputs": [],
   "source": [
    "train_data_df_2 = pd.merge(train_data_df, movie_data, left_on=\"movie_id\", right_on=\"id_in_movielens\")"
   ],
   "metadata": {
    "collapsed": false
   }
  },
  {
   "cell_type": "code",
   "execution_count": 105,
   "outputs": [
    {
     "data": {
      "text/plain": "movie_id  1     2     3     4     5     7     8     9     10    11    ...  \\\nuser_id                                                               ...   \n1          5.0   3.0   4.0   3.0   3.0   4.0   1.0   5.0   NaN   2.0  ...   \n2          4.0   NaN   NaN   NaN   NaN   NaN   NaN   NaN   2.0   NaN  ...   \n3          NaN   NaN   NaN   NaN   NaN   NaN   NaN   NaN   NaN   NaN  ...   \n4          NaN   NaN   NaN   NaN   NaN   NaN   NaN   NaN   NaN   4.0  ...   \n5          NaN   NaN   NaN   NaN   NaN   NaN   NaN   NaN   NaN   NaN  ...   \n...        ...   ...   ...   ...   ...   ...   ...   ...   ...   ...  ...   \n939        NaN   NaN   NaN   NaN   NaN   NaN   NaN   5.0   NaN   NaN  ...   \n940        NaN   NaN   NaN   2.0   NaN   4.0   5.0   3.0   NaN   NaN  ...   \n941        5.0   NaN   NaN   NaN   NaN   4.0   NaN   NaN   NaN   NaN  ...   \n942        NaN   NaN   NaN   NaN   NaN   NaN   NaN   NaN   NaN   NaN  ...   \n943        NaN   5.0   NaN   NaN   NaN   NaN   NaN   3.0   NaN   4.0  ...   \n\nmovie_id  1671  1672  1673  1674  1675  1676  1677  1679  1680  1682  \nuser_id                                                               \n1          NaN   NaN   NaN   NaN   NaN   NaN   NaN   NaN   NaN   NaN  \n2          NaN   NaN   NaN   NaN   NaN   NaN   NaN   NaN   NaN   NaN  \n3          NaN   NaN   NaN   NaN   NaN   NaN   NaN   NaN   NaN   NaN  \n4          NaN   NaN   NaN   NaN   NaN   NaN   NaN   NaN   NaN   NaN  \n5          NaN   NaN   NaN   NaN   NaN   NaN   NaN   NaN   NaN   NaN  \n...        ...   ...   ...   ...   ...   ...   ...   ...   ...   ...  \n939        NaN   NaN   NaN   NaN   NaN   NaN   NaN   NaN   NaN   NaN  \n940        NaN   NaN   NaN   NaN   NaN   NaN   NaN   NaN   NaN   NaN  \n941        NaN   NaN   NaN   NaN   NaN   NaN   NaN   NaN   NaN   NaN  \n942        NaN   NaN   NaN   NaN   NaN   NaN   NaN   NaN   NaN   NaN  \n943        NaN   NaN   NaN   NaN   NaN   NaN   NaN   NaN   NaN   NaN  \n\n[943 rows x 1469 columns]",
      "text/html": "<div>\n<style scoped>\n    .dataframe tbody tr th:only-of-type {\n        vertical-align: middle;\n    }\n\n    .dataframe tbody tr th {\n        vertical-align: top;\n    }\n\n    .dataframe thead th {\n        text-align: right;\n    }\n</style>\n<table border=\"1\" class=\"dataframe\">\n  <thead>\n    <tr style=\"text-align: right;\">\n      <th>movie_id</th>\n      <th>1</th>\n      <th>2</th>\n      <th>3</th>\n      <th>4</th>\n      <th>5</th>\n      <th>7</th>\n      <th>8</th>\n      <th>9</th>\n      <th>10</th>\n      <th>11</th>\n      <th>...</th>\n      <th>1671</th>\n      <th>1672</th>\n      <th>1673</th>\n      <th>1674</th>\n      <th>1675</th>\n      <th>1676</th>\n      <th>1677</th>\n      <th>1679</th>\n      <th>1680</th>\n      <th>1682</th>\n    </tr>\n    <tr>\n      <th>user_id</th>\n      <th></th>\n      <th></th>\n      <th></th>\n      <th></th>\n      <th></th>\n      <th></th>\n      <th></th>\n      <th></th>\n      <th></th>\n      <th></th>\n      <th></th>\n      <th></th>\n      <th></th>\n      <th></th>\n      <th></th>\n      <th></th>\n      <th></th>\n      <th></th>\n      <th></th>\n      <th></th>\n      <th></th>\n    </tr>\n  </thead>\n  <tbody>\n    <tr>\n      <th>1</th>\n      <td>5.0</td>\n      <td>3.0</td>\n      <td>4.0</td>\n      <td>3.0</td>\n      <td>3.0</td>\n      <td>4.0</td>\n      <td>1.0</td>\n      <td>5.0</td>\n      <td>NaN</td>\n      <td>2.0</td>\n      <td>...</td>\n      <td>NaN</td>\n      <td>NaN</td>\n      <td>NaN</td>\n      <td>NaN</td>\n      <td>NaN</td>\n      <td>NaN</td>\n      <td>NaN</td>\n      <td>NaN</td>\n      <td>NaN</td>\n      <td>NaN</td>\n    </tr>\n    <tr>\n      <th>2</th>\n      <td>4.0</td>\n      <td>NaN</td>\n      <td>NaN</td>\n      <td>NaN</td>\n      <td>NaN</td>\n      <td>NaN</td>\n      <td>NaN</td>\n      <td>NaN</td>\n      <td>2.0</td>\n      <td>NaN</td>\n      <td>...</td>\n      <td>NaN</td>\n      <td>NaN</td>\n      <td>NaN</td>\n      <td>NaN</td>\n      <td>NaN</td>\n      <td>NaN</td>\n      <td>NaN</td>\n      <td>NaN</td>\n      <td>NaN</td>\n      <td>NaN</td>\n    </tr>\n    <tr>\n      <th>3</th>\n      <td>NaN</td>\n      <td>NaN</td>\n      <td>NaN</td>\n      <td>NaN</td>\n      <td>NaN</td>\n      <td>NaN</td>\n      <td>NaN</td>\n      <td>NaN</td>\n      <td>NaN</td>\n      <td>NaN</td>\n      <td>...</td>\n      <td>NaN</td>\n      <td>NaN</td>\n      <td>NaN</td>\n      <td>NaN</td>\n      <td>NaN</td>\n      <td>NaN</td>\n      <td>NaN</td>\n      <td>NaN</td>\n      <td>NaN</td>\n      <td>NaN</td>\n    </tr>\n    <tr>\n      <th>4</th>\n      <td>NaN</td>\n      <td>NaN</td>\n      <td>NaN</td>\n      <td>NaN</td>\n      <td>NaN</td>\n      <td>NaN</td>\n      <td>NaN</td>\n      <td>NaN</td>\n      <td>NaN</td>\n      <td>4.0</td>\n      <td>...</td>\n      <td>NaN</td>\n      <td>NaN</td>\n      <td>NaN</td>\n      <td>NaN</td>\n      <td>NaN</td>\n      <td>NaN</td>\n      <td>NaN</td>\n      <td>NaN</td>\n      <td>NaN</td>\n      <td>NaN</td>\n    </tr>\n    <tr>\n      <th>5</th>\n      <td>NaN</td>\n      <td>NaN</td>\n      <td>NaN</td>\n      <td>NaN</td>\n      <td>NaN</td>\n      <td>NaN</td>\n      <td>NaN</td>\n      <td>NaN</td>\n      <td>NaN</td>\n      <td>NaN</td>\n      <td>...</td>\n      <td>NaN</td>\n      <td>NaN</td>\n      <td>NaN</td>\n      <td>NaN</td>\n      <td>NaN</td>\n      <td>NaN</td>\n      <td>NaN</td>\n      <td>NaN</td>\n      <td>NaN</td>\n      <td>NaN</td>\n    </tr>\n    <tr>\n      <th>...</th>\n      <td>...</td>\n      <td>...</td>\n      <td>...</td>\n      <td>...</td>\n      <td>...</td>\n      <td>...</td>\n      <td>...</td>\n      <td>...</td>\n      <td>...</td>\n      <td>...</td>\n      <td>...</td>\n      <td>...</td>\n      <td>...</td>\n      <td>...</td>\n      <td>...</td>\n      <td>...</td>\n      <td>...</td>\n      <td>...</td>\n      <td>...</td>\n      <td>...</td>\n      <td>...</td>\n    </tr>\n    <tr>\n      <th>939</th>\n      <td>NaN</td>\n      <td>NaN</td>\n      <td>NaN</td>\n      <td>NaN</td>\n      <td>NaN</td>\n      <td>NaN</td>\n      <td>NaN</td>\n      <td>5.0</td>\n      <td>NaN</td>\n      <td>NaN</td>\n      <td>...</td>\n      <td>NaN</td>\n      <td>NaN</td>\n      <td>NaN</td>\n      <td>NaN</td>\n      <td>NaN</td>\n      <td>NaN</td>\n      <td>NaN</td>\n      <td>NaN</td>\n      <td>NaN</td>\n      <td>NaN</td>\n    </tr>\n    <tr>\n      <th>940</th>\n      <td>NaN</td>\n      <td>NaN</td>\n      <td>NaN</td>\n      <td>2.0</td>\n      <td>NaN</td>\n      <td>4.0</td>\n      <td>5.0</td>\n      <td>3.0</td>\n      <td>NaN</td>\n      <td>NaN</td>\n      <td>...</td>\n      <td>NaN</td>\n      <td>NaN</td>\n      <td>NaN</td>\n      <td>NaN</td>\n      <td>NaN</td>\n      <td>NaN</td>\n      <td>NaN</td>\n      <td>NaN</td>\n      <td>NaN</td>\n      <td>NaN</td>\n    </tr>\n    <tr>\n      <th>941</th>\n      <td>5.0</td>\n      <td>NaN</td>\n      <td>NaN</td>\n      <td>NaN</td>\n      <td>NaN</td>\n      <td>4.0</td>\n      <td>NaN</td>\n      <td>NaN</td>\n      <td>NaN</td>\n      <td>NaN</td>\n      <td>...</td>\n      <td>NaN</td>\n      <td>NaN</td>\n      <td>NaN</td>\n      <td>NaN</td>\n      <td>NaN</td>\n      <td>NaN</td>\n      <td>NaN</td>\n      <td>NaN</td>\n      <td>NaN</td>\n      <td>NaN</td>\n    </tr>\n    <tr>\n      <th>942</th>\n      <td>NaN</td>\n      <td>NaN</td>\n      <td>NaN</td>\n      <td>NaN</td>\n      <td>NaN</td>\n      <td>NaN</td>\n      <td>NaN</td>\n      <td>NaN</td>\n      <td>NaN</td>\n      <td>NaN</td>\n      <td>...</td>\n      <td>NaN</td>\n      <td>NaN</td>\n      <td>NaN</td>\n      <td>NaN</td>\n      <td>NaN</td>\n      <td>NaN</td>\n      <td>NaN</td>\n      <td>NaN</td>\n      <td>NaN</td>\n      <td>NaN</td>\n    </tr>\n    <tr>\n      <th>943</th>\n      <td>NaN</td>\n      <td>5.0</td>\n      <td>NaN</td>\n      <td>NaN</td>\n      <td>NaN</td>\n      <td>NaN</td>\n      <td>NaN</td>\n      <td>3.0</td>\n      <td>NaN</td>\n      <td>4.0</td>\n      <td>...</td>\n      <td>NaN</td>\n      <td>NaN</td>\n      <td>NaN</td>\n      <td>NaN</td>\n      <td>NaN</td>\n      <td>NaN</td>\n      <td>NaN</td>\n      <td>NaN</td>\n      <td>NaN</td>\n      <td>NaN</td>\n    </tr>\n  </tbody>\n</table>\n<p>943 rows × 1469 columns</p>\n</div>"
     },
     "execution_count": 105,
     "metadata": {},
     "output_type": "execute_result"
    }
   ],
   "source": [
    "user_item_matrix = train_data_df_2.pivot_table(index='user_id', columns='movie_id', values='rating')\n",
    "user_item_matrix"
   ],
   "metadata": {
    "collapsed": false
   }
  },
  {
   "cell_type": "code",
   "execution_count": 106,
   "outputs": [],
   "source": [
    "# # Create an empty DataFrame to store the user vectors\n",
    "# user_vector_df = pd.DataFrame(columns=tfidf_vectorizer.get_feature_names_out())\n",
    "#\n",
    "# # Iterate over each user\n",
    "# for user_id in train_data_df_2['user_id'].unique():\n",
    "#     # Get the movies the user has rated and their corresponding ratings\n",
    "#     rated_movies = train_data_df_2[train_data_df_2['user_id'] == user_id]\n",
    "#     ratings = rated_movies['rating']\n",
    "#     movie_ids = rated_movies['movie_id']\n",
    "#\n",
    "#     # Initialize the user vector with zeros\n",
    "#     user_vector = np.zeros((1, tfidf_matrix.shape[1]))\n",
    "#\n",
    "#     # For each rated movie, get its TF-IDF vector and multiply it by the rating\n",
    "#     for i in range(len(ratings)):\n",
    "#         movie_id = movie_ids.iloc[i]\n",
    "#         rating = ratings.iloc[i]\n",
    "#         movie_index = movie_data[movie_data['id_in_movielens'] == movie_id].index[0]\n",
    "#         tfidf_vector = tfidf_matrix[movie_index]\n",
    "#         weighted_tfidf_vector = rating * tfidf_vector\n",
    "#         user_vector += weighted_tfidf_vector.toarray()\n",
    "#\n",
    "#     # Normalize the user vector\n",
    "#     weight_sum = ratings.sum()\n",
    "#     user_vector /= weight_sum\n",
    "#\n",
    "#     # Add the user vector to the DataFrame\n",
    "#     user_vector_df.loc[user_id] = user_vector[0]"
   ],
   "metadata": {
    "collapsed": false
   }
  },
  {
   "cell_type": "code",
   "execution_count": 107,
   "outputs": [],
   "source": [
    "# # Compute the weighted average of the movies each user has rated\n",
    "# user_profiles = {}\n",
    "# for user_id in user_item_matrix.index:\n",
    "#     # Get the movies rated by the user\n",
    "#     rated_movies = user_item_matrix.loc[user_id].dropna().index.tolist()\n",
    "#     # Compute the weighted average of the movies' TF-IDF vectors\n",
    "#     user_vector = np.zeros((1, tfidf_matrix.shape[1]))\n",
    "#     total_weight = 0\n",
    "#     for movie_id in rated_movies:\n",
    "#         # Get the movie's TF-IDF vector\n",
    "#         movie_index = movie_data[movie_data['id_in_movielens'] == movie_id].index[0]\n",
    "#         movie_vector = tfidf_matrix[movie_index].toarray()\n",
    "#         # Get the user's rating for the movie\n",
    "#         rating = user_item_matrix.loc[user_id, movie_id]\n",
    "#         # Compute the weighted average\n",
    "#         user_vector += rating * movie_vector\n",
    "#         total_weight += rating\n",
    "#     user_vector /= total_weight\n",
    "#     user_profiles[user_id] = user_vector"
   ],
   "metadata": {
    "collapsed": false
   }
  },
  {
   "cell_type": "code",
   "execution_count": 108,
   "outputs": [],
   "source": [
    "# user_profiles"
   ],
   "metadata": {
    "collapsed": false
   }
  },
  {
   "cell_type": "code",
   "execution_count": 109,
   "outputs": [],
   "source": [
    "# create a matrix to hold the user vectors\n",
    "user_matrix = np.zeros((len(train_data_df_2['user_id'].unique()), tfidf_matrix.shape[1]))\n",
    "\n",
    "# iterate over each user\n",
    "for i, user_id in enumerate(train_data_df_2['user_id'].unique()):\n",
    "\n",
    "    # get the movie ratings for the user\n",
    "    user_ratings = train_data_df_2[train_data_df_2['user_id'] == user_id][['movie_id', 'rating']]\n",
    "\n",
    "    # calculate the weighted average of the TF-IDF vectors of the movies\n",
    "    user_vector = np.zeros(tfidf_matrix.shape[1])\n",
    "    total_weight = 0\n",
    "    for index, row in user_ratings.iterrows():\n",
    "        movie_id = row['movie_id']\n",
    "        rating = row['rating']\n",
    "        movie_index = movie_data[movie_data['id_in_movielens'] == movie_id].index[0]\n",
    "        movie_vector = tfidf_matrix[movie_index].toarray()[0]\n",
    "        user_vector += rating * movie_vector\n",
    "        total_weight += rating\n",
    "\n",
    "    # normalize the user vector by dividing by the total weight\n",
    "    user_vector /= total_weight\n",
    "\n",
    "    # add the user vector to the user matrix\n",
    "    user_matrix[i] = user_vector"
   ],
   "metadata": {
    "collapsed": false
   }
  },
  {
   "cell_type": "code",
   "execution_count": 110,
   "outputs": [
    {
     "data": {
      "text/plain": "array([[0.00161561, 0.        , 0.        , ..., 0.        , 0.        ,\n        0.        ],\n       [0.        , 0.        , 0.00873919, ..., 0.        , 0.        ,\n        0.        ],\n       [0.0013858 , 0.        , 0.        , ..., 0.        , 0.        ,\n        0.        ],\n       ...,\n       [0.        , 0.        , 0.00605852, ..., 0.        , 0.        ,\n        0.        ],\n       [0.        , 0.        , 0.        , ..., 0.        , 0.        ,\n        0.        ],\n       [0.        , 0.        , 0.        , ..., 0.        , 0.        ,\n        0.        ]])"
     },
     "execution_count": 110,
     "metadata": {},
     "output_type": "execute_result"
    }
   ],
   "source": [
    "user_matrix"
   ],
   "metadata": {
    "collapsed": false
   }
  },
  {
   "cell_type": "markdown",
   "source": [
    "- Calculate the user-item rating for an item by using a similarity metric between the user and the item. A similarity metric such as cosine distance or Euclidean distance can be used.\n"
   ],
   "metadata": {
    "collapsed": false
   }
  },
  {
   "cell_type": "code",
   "execution_count": 111,
   "outputs": [
    {
     "name": "stdout",
     "output_type": "stream",
     "text": [
      "Predicted rating for movie 123: 3.33\n"
     ]
    }
   ],
   "source": [
    "# Select a specific movie\n",
    "movie_id = 123\n",
    "\n",
    "# Calculate cosine similarity between the selected movie and all other movies\n",
    "cos_sim = cosine_similarity(user_matrix, tfidf_matrix)\n",
    "movie_similarities = cos_sim[:, movie_id]\n",
    "\n",
    "# Find the users who have rated the selected movie\n",
    "movie_users = user_item_matrix[movie_id].dropna().index\n",
    "\n",
    "# Calculate the weighted average of their ratings\n",
    "weighted_ratings = []\n",
    "similarity_scores = []\n",
    "for user_id in movie_users:\n",
    "    user_similarity = movie_similarities[user_id]\n",
    "    user_rating = user_item_matrix.loc[user_id, movie_id]\n",
    "    weighted_ratings.append(user_similarity * user_rating)\n",
    "    similarity_scores.append(user_similarity)\n",
    "\n",
    "predicted_rating = np.sum(weighted_ratings) / np.sum(similarity_scores)\n",
    "print(f\"Predicted rating for movie {movie_id}: {predicted_rating:.2f}\")"
   ],
   "metadata": {
    "collapsed": false
   }
  },
  {
   "cell_type": "markdown",
   "source": [
    "- Report Precision@5, MAP@5, MRR@5, hit rate and coverage using ratings ≥ 3 in the test set. Compare the results with the models from previous\n",
    "weeks."
   ],
   "metadata": {
    "collapsed": false
   }
  },
  {
   "cell_type": "markdown",
   "source": [
    "Precision@5"
   ],
   "metadata": {
    "collapsed": false
   }
  },
  {
   "cell_type": "code",
   "execution_count": 112,
   "outputs": [],
   "source": [
    "# from sklearn.metrics import precision_score\n",
    "#\n",
    "# def content_based_precision_at_5(test_data, user_profiles, item_profiles):\n",
    "#     precisions = []\n",
    "#\n",
    "#     for user_id in test_data['user_id'].unique():\n",
    "#         # Generate ranked list of recommendations for user\n",
    "#         user_items = test_data[test_data['user_id'] == user_id]['movie_id']\n",
    "#         item_scores = item_profiles.dot(user_profiles.loc[user_id])\n",
    "#         ranked_items = item_scores.sort_values(ascending=False).index.tolist()\n",
    "#\n",
    "#         # Calculate precision@5 for user\n",
    "#         top_items = ranked_items[:5]\n",
    "#         true_positives = len(set(top_items) & set(user_items))\n",
    "#         precision = true_positives / 5.0\n",
    "#         precisions.append(precision)\n",
    "#\n",
    "#     # Calculate average precision@5 across all users\n",
    "#     avg_precision = sum(precisions) / len(precisions)\n",
    "#\n",
    "#     return avg_precision"
   ],
   "metadata": {
    "collapsed": false
   }
  },
  {
   "cell_type": "code",
   "execution_count": 113,
   "outputs": [
    {
     "data": {
      "text/plain": "       user_id  movie_id  rating  timestamp  id_in_movielens_x  \\\n0            1        10       3  875693118                 10   \n1            7        10       4  891352864                 10   \n2           49        10       3  888066086                 10   \n3           59        10       4  888203234                 10   \n4          108        10       5  879879834                 10   \n...        ...       ...     ...        ...                ...   \n18840      411      1470       3  892845746               1470   \n18841      436      1522       2  887771123               1522   \n18842      437      1121       5  880140466               1121   \n18843      440      1038       5  891550404               1038   \n18844      450      1269       4  882812635               1269   \n\n       id_in_metadata_x adult_x belongs_to_collection_x  budget_x  \\\n0                 31174   False                     NaN         0   \n1                 31174   False                     NaN         0   \n2                 31174   False                     NaN         0   \n3                 31174   False                     NaN         0   \n4                 31174   False                     NaN         0   \n...                 ...     ...                     ...       ...   \n18840             43475   False                     NaN         0   \n18841             41590   False                     NaN         0   \n18842              5967   False                     NaN         0   \n18843             10871   False                     NaN  37000000   \n18844             18299   False                     NaN         0   \n\n                                                genres_x  ...  \\\n0      [{'id': 18, 'name': 'Drama'}, {'id': 10752, 'n...  ...   \n1      [{'id': 18, 'name': 'Drama'}, {'id': 10752, 'n...  ...   \n2      [{'id': 18, 'name': 'Drama'}, {'id': 10752, 'n...  ...   \n3      [{'id': 18, 'name': 'Drama'}, {'id': 10752, 'n...  ...   \n4      [{'id': 18, 'name': 'Drama'}, {'id': 10752, 'n...  ...   \n...                                                  ...  ...   \n18840  [{'id': 14, 'name': 'Fantasy'}, {'id': 16, 'na...  ...   \n18841  [{'id': 18, 'name': 'Drama'}, {'id': 28, 'name...  ...   \n18842  [{'id': 18, 'name': 'Drama'}, {'id': 10749, 'n...  ...   \n18843  [{'id': 28, 'name': 'Action'}, {'id': 12, 'nam...  ...   \n18844  [{'id': 35, 'name': 'Comedy'}, {'id': 18, 'nam...  ...   \n\n      production_company_Zespół Filmowy TOR  \\\n0                                         0   \n1                                         0   \n2                                         0   \n3                                         0   \n4                                         0   \n...                                     ...   \n18840                                     0   \n18841                                     0   \n18842                                     0   \n18843                                     0   \n18844                                     0   \n\n       production_company_Zeta Entertainment  \\\n0                                          0   \n1                                          0   \n2                                          0   \n3                                          0   \n4                                          0   \n...                                      ...   \n18840                                      0   \n18841                                      0   \n18842                                      0   \n18843                                      0   \n18844                                      0   \n\n      production_company_Zoetrope Studios  \\\n0                                       0   \n1                                       0   \n2                                       0   \n3                                       0   \n4                                       0   \n...                                   ...   \n18840                                   0   \n18841                                   0   \n18842                                   0   \n18843                                   0   \n18844                                   0   \n\n      production_company_Zucker Brothers Productions  \\\n0                                                  0   \n1                                                  0   \n2                                                  0   \n3                                                  0   \n4                                                  0   \n...                                              ...   \n18840                                              0   \n18841                                              0   \n18842                                              0   \n18843                                              0   \n18844                                              0   \n\n      production_company_Zupnik Cinema Group II  \\\n0                                             0   \n1                                             0   \n2                                             0   \n3                                             0   \n4                                             0   \n...                                         ...   \n18840                                         0   \n18841                                         0   \n18842                                         0   \n18843                                         0   \n18844                                         0   \n\n      production_company_Zweites Deutsches Fernsehen (ZDF)  \\\n0                                                      0     \n1                                                      0     \n2                                                      0     \n3                                                      0     \n4                                                      0     \n...                                                  ...     \n18840                                                  0     \n18841                                                  0     \n18842                                                  0     \n18843                                                  0     \n18844                                                  0     \n\n      production_company_cechi gori group  \\\n0                                       0   \n1                                       0   \n2                                       0   \n3                                       0   \n4                                       0   \n...                                   ...   \n18840                                   0   \n18841                                   0   \n18842                                   0   \n18843                                   0   \n18844                                   0   \n\n      production_company_imX Communications  \\\n0                                         0   \n1                                         0   \n2                                         0   \n3                                         0   \n4                                         0   \n...                                     ...   \n18840                                     0   \n18841                                     0   \n18842                                     0   \n18843                                     0   \n18844                                     0   \n\n      production_company_the Canadian Council  \\\n0                                           0   \n1                                           0   \n2                                           0   \n3                                           0   \n4                                           0   \n...                                       ...   \n18840                                       0   \n18841                                       0   \n18842                                       0   \n18843                                       0   \n18844                                       0   \n\n      production_company_west wind entertainment  \n0                                              0  \n1                                              0  \n2                                              0  \n3                                              0  \n4                                              0  \n...                                          ...  \n18840                                          0  \n18841                                          0  \n18842                                          0  \n18843                                          0  \n18844                                          0  \n\n[18845 rows x 1336 columns]",
      "text/html": "<div>\n<style scoped>\n    .dataframe tbody tr th:only-of-type {\n        vertical-align: middle;\n    }\n\n    .dataframe tbody tr th {\n        vertical-align: top;\n    }\n\n    .dataframe thead th {\n        text-align: right;\n    }\n</style>\n<table border=\"1\" class=\"dataframe\">\n  <thead>\n    <tr style=\"text-align: right;\">\n      <th></th>\n      <th>user_id</th>\n      <th>movie_id</th>\n      <th>rating</th>\n      <th>timestamp</th>\n      <th>id_in_movielens_x</th>\n      <th>id_in_metadata_x</th>\n      <th>adult_x</th>\n      <th>belongs_to_collection_x</th>\n      <th>budget_x</th>\n      <th>genres_x</th>\n      <th>...</th>\n      <th>production_company_Zespół Filmowy TOR</th>\n      <th>production_company_Zeta Entertainment</th>\n      <th>production_company_Zoetrope Studios</th>\n      <th>production_company_Zucker Brothers Productions</th>\n      <th>production_company_Zupnik Cinema Group II</th>\n      <th>production_company_Zweites Deutsches Fernsehen (ZDF)</th>\n      <th>production_company_cechi gori group</th>\n      <th>production_company_imX Communications</th>\n      <th>production_company_the Canadian Council</th>\n      <th>production_company_west wind entertainment</th>\n    </tr>\n  </thead>\n  <tbody>\n    <tr>\n      <th>0</th>\n      <td>1</td>\n      <td>10</td>\n      <td>3</td>\n      <td>875693118</td>\n      <td>10</td>\n      <td>31174</td>\n      <td>False</td>\n      <td>NaN</td>\n      <td>0</td>\n      <td>[{'id': 18, 'name': 'Drama'}, {'id': 10752, 'n...</td>\n      <td>...</td>\n      <td>0</td>\n      <td>0</td>\n      <td>0</td>\n      <td>0</td>\n      <td>0</td>\n      <td>0</td>\n      <td>0</td>\n      <td>0</td>\n      <td>0</td>\n      <td>0</td>\n    </tr>\n    <tr>\n      <th>1</th>\n      <td>7</td>\n      <td>10</td>\n      <td>4</td>\n      <td>891352864</td>\n      <td>10</td>\n      <td>31174</td>\n      <td>False</td>\n      <td>NaN</td>\n      <td>0</td>\n      <td>[{'id': 18, 'name': 'Drama'}, {'id': 10752, 'n...</td>\n      <td>...</td>\n      <td>0</td>\n      <td>0</td>\n      <td>0</td>\n      <td>0</td>\n      <td>0</td>\n      <td>0</td>\n      <td>0</td>\n      <td>0</td>\n      <td>0</td>\n      <td>0</td>\n    </tr>\n    <tr>\n      <th>2</th>\n      <td>49</td>\n      <td>10</td>\n      <td>3</td>\n      <td>888066086</td>\n      <td>10</td>\n      <td>31174</td>\n      <td>False</td>\n      <td>NaN</td>\n      <td>0</td>\n      <td>[{'id': 18, 'name': 'Drama'}, {'id': 10752, 'n...</td>\n      <td>...</td>\n      <td>0</td>\n      <td>0</td>\n      <td>0</td>\n      <td>0</td>\n      <td>0</td>\n      <td>0</td>\n      <td>0</td>\n      <td>0</td>\n      <td>0</td>\n      <td>0</td>\n    </tr>\n    <tr>\n      <th>3</th>\n      <td>59</td>\n      <td>10</td>\n      <td>4</td>\n      <td>888203234</td>\n      <td>10</td>\n      <td>31174</td>\n      <td>False</td>\n      <td>NaN</td>\n      <td>0</td>\n      <td>[{'id': 18, 'name': 'Drama'}, {'id': 10752, 'n...</td>\n      <td>...</td>\n      <td>0</td>\n      <td>0</td>\n      <td>0</td>\n      <td>0</td>\n      <td>0</td>\n      <td>0</td>\n      <td>0</td>\n      <td>0</td>\n      <td>0</td>\n      <td>0</td>\n    </tr>\n    <tr>\n      <th>4</th>\n      <td>108</td>\n      <td>10</td>\n      <td>5</td>\n      <td>879879834</td>\n      <td>10</td>\n      <td>31174</td>\n      <td>False</td>\n      <td>NaN</td>\n      <td>0</td>\n      <td>[{'id': 18, 'name': 'Drama'}, {'id': 10752, 'n...</td>\n      <td>...</td>\n      <td>0</td>\n      <td>0</td>\n      <td>0</td>\n      <td>0</td>\n      <td>0</td>\n      <td>0</td>\n      <td>0</td>\n      <td>0</td>\n      <td>0</td>\n      <td>0</td>\n    </tr>\n    <tr>\n      <th>...</th>\n      <td>...</td>\n      <td>...</td>\n      <td>...</td>\n      <td>...</td>\n      <td>...</td>\n      <td>...</td>\n      <td>...</td>\n      <td>...</td>\n      <td>...</td>\n      <td>...</td>\n      <td>...</td>\n      <td>...</td>\n      <td>...</td>\n      <td>...</td>\n      <td>...</td>\n      <td>...</td>\n      <td>...</td>\n      <td>...</td>\n      <td>...</td>\n      <td>...</td>\n      <td>...</td>\n    </tr>\n    <tr>\n      <th>18840</th>\n      <td>411</td>\n      <td>1470</td>\n      <td>3</td>\n      <td>892845746</td>\n      <td>1470</td>\n      <td>43475</td>\n      <td>False</td>\n      <td>NaN</td>\n      <td>0</td>\n      <td>[{'id': 14, 'name': 'Fantasy'}, {'id': 16, 'na...</td>\n      <td>...</td>\n      <td>0</td>\n      <td>0</td>\n      <td>0</td>\n      <td>0</td>\n      <td>0</td>\n      <td>0</td>\n      <td>0</td>\n      <td>0</td>\n      <td>0</td>\n      <td>0</td>\n    </tr>\n    <tr>\n      <th>18841</th>\n      <td>436</td>\n      <td>1522</td>\n      <td>2</td>\n      <td>887771123</td>\n      <td>1522</td>\n      <td>41590</td>\n      <td>False</td>\n      <td>NaN</td>\n      <td>0</td>\n      <td>[{'id': 18, 'name': 'Drama'}, {'id': 28, 'name...</td>\n      <td>...</td>\n      <td>0</td>\n      <td>0</td>\n      <td>0</td>\n      <td>0</td>\n      <td>0</td>\n      <td>0</td>\n      <td>0</td>\n      <td>0</td>\n      <td>0</td>\n      <td>0</td>\n    </tr>\n    <tr>\n      <th>18842</th>\n      <td>437</td>\n      <td>1121</td>\n      <td>5</td>\n      <td>880140466</td>\n      <td>1121</td>\n      <td>5967</td>\n      <td>False</td>\n      <td>NaN</td>\n      <td>0</td>\n      <td>[{'id': 18, 'name': 'Drama'}, {'id': 10749, 'n...</td>\n      <td>...</td>\n      <td>0</td>\n      <td>0</td>\n      <td>0</td>\n      <td>0</td>\n      <td>0</td>\n      <td>0</td>\n      <td>0</td>\n      <td>0</td>\n      <td>0</td>\n      <td>0</td>\n    </tr>\n    <tr>\n      <th>18843</th>\n      <td>440</td>\n      <td>1038</td>\n      <td>5</td>\n      <td>891550404</td>\n      <td>1038</td>\n      <td>10871</td>\n      <td>False</td>\n      <td>NaN</td>\n      <td>37000000</td>\n      <td>[{'id': 28, 'name': 'Action'}, {'id': 12, 'nam...</td>\n      <td>...</td>\n      <td>0</td>\n      <td>0</td>\n      <td>0</td>\n      <td>0</td>\n      <td>0</td>\n      <td>0</td>\n      <td>0</td>\n      <td>0</td>\n      <td>0</td>\n      <td>0</td>\n    </tr>\n    <tr>\n      <th>18844</th>\n      <td>450</td>\n      <td>1269</td>\n      <td>4</td>\n      <td>882812635</td>\n      <td>1269</td>\n      <td>18299</td>\n      <td>False</td>\n      <td>NaN</td>\n      <td>0</td>\n      <td>[{'id': 35, 'name': 'Comedy'}, {'id': 18, 'nam...</td>\n      <td>...</td>\n      <td>0</td>\n      <td>0</td>\n      <td>0</td>\n      <td>0</td>\n      <td>0</td>\n      <td>0</td>\n      <td>0</td>\n      <td>0</td>\n      <td>0</td>\n      <td>0</td>\n    </tr>\n  </tbody>\n</table>\n<p>18845 rows × 1336 columns</p>\n</div>"
     },
     "execution_count": 113,
     "metadata": {},
     "output_type": "execute_result"
    }
   ],
   "source": [
    "test_data_df_2 = pd.merge(test_data_df, movie_data, left_on=\"movie_id\", right_on=\"id_in_movielens\")\n",
    "test_data_df_2"
   ],
   "metadata": {
    "collapsed": false
   }
  },
  {
   "cell_type": "code",
   "execution_count": 114,
   "outputs": [],
   "source": [
    "# Filter out movies with ratings < 3 in the test set\n",
    "test_data_df_3= test_data_df_2[test_data_df_2['rating'] >= 3]"
   ],
   "metadata": {
    "collapsed": false
   }
  },
  {
   "cell_type": "code",
   "execution_count": 115,
   "outputs": [
    {
     "name": "stdout",
     "output_type": "stream",
     "text": [
      "Precision@5 for Content-Based Recommender System: 0.021350762527233114\n"
     ]
    }
   ],
   "source": [
    "# Calculate cosine similarity between user and movie vectors\n",
    "user_movie_similarity = cosine_similarity(user_matrix, tfidf_matrix)\n",
    "\n",
    "# Initialize precision\n",
    "precision = 0\n",
    "\n",
    "# Loop through each user in the test set\n",
    "for user_id in test_data_df_3['user_id'].unique():\n",
    "\n",
    "    # Get the indices of the movies the user has seen in the test set\n",
    "    user_test_movie_indices = list(test_data_df_3[test_data_df_3['user_id']==user_id]['movie_id'])\n",
    "\n",
    "    # Get the similarity scores between the user and all the movies\n",
    "    user_similarity_scores = user_movie_similarity[user_id-1]\n",
    "\n",
    "    # Get the indices of the top 5 movies with the highest predicted ratings\n",
    "    top_5_movie_indices = user_similarity_scores.argsort()[::-1][:5]\n",
    "\n",
    "    # Get the indices of the movies the user actually liked\n",
    "    user_liked_movie_indices = [i for i in top_5_movie_indices if i in user_test_movie_indices]\n",
    "\n",
    "    # Calculate precision\n",
    "    precision += len(user_liked_movie_indices)/5\n",
    "\n",
    "# Calculate average precision\n",
    "precision = precision/len(test_data_df_3['user_id'].unique())\n",
    "\n",
    "print(f\"Precision@5 for Content-Based Recommender System: {precision}\")"
   ],
   "metadata": {
    "collapsed": false
   }
  },
  {
   "cell_type": "markdown",
   "source": [
    "MAP@5"
   ],
   "metadata": {
    "collapsed": false
   }
  },
  {
   "cell_type": "code",
   "execution_count": 116,
   "outputs": [
    {
     "name": "stdout",
     "output_type": "stream",
     "text": [
      "MAP@5 for Content-Based Recommender System: 0.01000726216412491\n"
     ]
    }
   ],
   "source": [
    "\n",
    "# Calculate cosine similarity between user and movie vectors\n",
    "user_item_similarity = cosine_similarity(user_matrix, tfidf_matrix)\n",
    "\n",
    "# Initialize variables\n",
    "mapk_cb = []\n",
    "\n",
    "# Loop through each user in the test set\n",
    "for user_id in test_data_df_3['user_id'].unique():\n",
    "\n",
    "    # Get the indices of the movies the user has seen in the test set\n",
    "    user_test_movie_indices = list(test_data_df_3[test_data_df_3['user_id']==user_id]['movie_id'])\n",
    "\n",
    "    # Get the similarity scores between the user and all the movies\n",
    "    user_similarity_scores = user_item_similarity[user_id-1]\n",
    "\n",
    "    # Get the indices of the top 5 movies with the highest predicted ratings\n",
    "    top_5_movie_indices = user_similarity_scores.argsort()[::-1][:5]\n",
    "\n",
    "    # Get the indices of the movies the user actually liked\n",
    "    user_liked_movie_indices = [i for i in top_5_movie_indices if i in user_test_movie_indices]\n",
    "\n",
    "    # Calculate MAP@5\n",
    "    mapk_cb.append(mapk(top_5_movie_indices.tolist(), user_test_movie_indices, 5))\n",
    "\n",
    "# Calculate the average MAP@5 for each model\n",
    "avg_mapk_cb = np.mean(mapk_cb)\n",
    "\n",
    "print(f\"MAP@5 for Content-Based Recommender System: {avg_mapk_cb}\")\n"
   ],
   "metadata": {
    "collapsed": false
   }
  },
  {
   "cell_type": "markdown",
   "source": [
    "MRR@5"
   ],
   "metadata": {
    "collapsed": false
   }
  },
  {
   "cell_type": "code",
   "execution_count": 117,
   "outputs": [
    {
     "name": "stdout",
     "output_type": "stream",
     "text": [
      "MRR@5 for Content-Based Recommender System: 0.046768336964415395\n"
     ]
    }
   ],
   "source": [
    "\n",
    "# Initialize MRR\n",
    "\n",
    "mrrk_cb = []\n",
    "# Loop through each user in the test set\n",
    "for user_id in test_data_df_3['user_id'].unique():\n",
    "\n",
    "    # Get the indices of the movies the user has seen in the test set\n",
    "    user_test_movie_indices = list(test_data_df_3[test_data_df_3['user_id']==user_id]['movie_id'])\n",
    "\n",
    "    # Get the similarity scores between the user and all the movies\n",
    "    user_similarity_scores = user_movie_similarity[user_id-1]\n",
    "\n",
    "    # Get the indices of the top 5 movies with the highest predicted ratings\n",
    "    top_5_movie_indices = user_similarity_scores.argsort()[::-1][:5]\n",
    "\n",
    "    # Get the indices of the movies the user actually liked\n",
    "    user_liked_movie_indices = [i for i in top_5_movie_indices if i in user_test_movie_indices]\n",
    "\n",
    "    # Find the reciprocal rank of the first relevant recommendation in the top 5\n",
    "    mrrk_cb.append(mrrk(top_5_movie_indices.tolist(), user_test_movie_indices, 5))\n",
    "\n",
    "\n",
    "# Calculate average MRR\n",
    "avg_mrrk_cb = np.mean(mrrk_cb)\n",
    "\n",
    "print(f\"MRR@5 for Content-Based Recommender System: {avg_mrrk_cb}\")\n"
   ],
   "metadata": {
    "collapsed": false
   }
  },
  {
   "cell_type": "markdown",
   "source": [
    "Hit rate"
   ],
   "metadata": {
    "collapsed": false
   }
  },
  {
   "cell_type": "code",
   "execution_count": 118,
   "outputs": [
    {
     "name": "stdout",
     "output_type": "stream",
     "text": [
      "Hit rate for Content-Based Recommender System: 0.10021786492374728\n"
     ]
    }
   ],
   "source": [
    "# Initialize hit rate\n",
    "hit_rate = 0\n",
    "\n",
    "# Loop through each user in the test set\n",
    "for user_id in test_data_df_3['user_id'].unique():\n",
    "\n",
    "    # Get the indices of the movies the user has liked in the test set\n",
    "    user_liked_movie_indices = list(test_data_df_3[test_data_df_3['user_id']==user_id]['movie_id'])\n",
    "\n",
    "    # Get the similarity scores between the user and all the movies\n",
    "    user_similarity_scores = user_movie_similarity[user_id-1]\n",
    "\n",
    "    # Get the indices of the top 5 movies with the highest predicted ratings\n",
    "    top_5_movie_indices = user_similarity_scores.argsort()[::-1][:5]\n",
    "\n",
    "    # Get the indices of the movies the user actually liked\n",
    "    user_liked_movie_indices = [i for i in top_5_movie_indices if i in user_liked_movie_indices]\n",
    "\n",
    "    # Calculate hit rate\n",
    "    if len(user_liked_movie_indices) > 0:\n",
    "        hit_rate += 1\n",
    "\n",
    "# Calculate hit rate\n",
    "hit_rate = hit_rate/len(test_data_df_3['user_id'].unique())\n",
    "\n",
    "print(f\"Hit rate for Content-Based Recommender System: {hit_rate}\")\n"
   ],
   "metadata": {
    "collapsed": false
   }
  },
  {
   "cell_type": "markdown",
   "source": [
    "coverage"
   ],
   "metadata": {
    "collapsed": false
   }
  },
  {
   "cell_type": "code",
   "execution_count": 119,
   "outputs": [],
   "source": [
    "# # Get the set of recommended item IDs\n",
    "# recommended_items = set()\n",
    "# for user_id in test_data_df_3['user_id'].unique():\n",
    "#     # Get the indices of the top 5 recommended movies for this user\n",
    "#     top_5_movie_indices = user_movie_similarity[user_id-1].argsort()[::-1][:5]\n",
    "#     # Add the IDs of the recommended movies to the set\n",
    "#     recommended_items.update(list(test_data_df_3.iloc[top_5_movie_indices]['movie_id']))\n",
    "#\n",
    "# # Get the set of all unique item IDs in the item space\n",
    "# all_items = set(list(movie_data['id_in_movielens']))\n",
    "#\n",
    "# # Calculate coverage\n",
    "#\n",
    "# coverage = len(recommended_items) / num_movies * 100\n",
    "# print(\"Coverage for Content-Based Recommender System: {:.2f}%\".format(coverage))"
   ],
   "metadata": {
    "collapsed": false
   }
  },
  {
   "cell_type": "code",
   "execution_count": 120,
   "outputs": [
    {
     "name": "stdout",
     "output_type": "stream",
     "text": [
      "Coverage for Content-Based Recommender System:  80.94%\n"
     ]
    }
   ],
   "source": [
    "# create a dictionary of user recommendations\n",
    "user_recommendations_content_based = {}\n",
    "\n",
    "# loop through each user in the user-item matrix\n",
    "for user_idx, user_vector in enumerate(user_matrix):\n",
    "    # compute the similarity between the user's vector and each movie's vector\n",
    "    movie_similarities = cosine_similarity(user_vector.reshape(1, -1), tfidf_matrix)\n",
    "    # sort the similarities in descending order\n",
    "    sorted_similarities = np.argsort(movie_similarities)[0][::-1]\n",
    "    # select the top 5 movies with the highest similarity\n",
    "    top_5_movie_indices = sorted_similarities[:5]\n",
    "    # get the movie IDs for the top 5 movies\n",
    "    movie_ids = [movie_data.iloc[idx]['id_in_movielens'] for idx in top_5_movie_indices]\n",
    "    # add the movie IDs to the dictionary of recommendations for this user\n",
    "    user_recommendations_content_based[user_idx+1] = movie_ids\n",
    "\n",
    "unique_recommendations = set(user_recommendations_content_based)\n",
    "\n",
    "num_movies = len(test_data_df_3['movie_id'].unique())\n",
    "\n",
    "\n",
    "# Calculate the coverage\n",
    "coverage = len(unique_recommendations) / num_movies * 100\n",
    "print(\"Coverage for Content-Based Recommender System:  {:.2f}%\".format(coverage))"
   ],
   "metadata": {
    "collapsed": false
   }
  },
  {
   "cell_type": "markdown",
   "source": [
    "## 6) Week 11 Hybrid Recommender System"
   ],
   "metadata": {
    "collapsed": false
   }
  },
  {
   "cell_type": "markdown",
   "source": [
    "Create three hybrid recommender systems by combining the collaborative filtering model with the content-based model using the following three strategies:"
   ],
   "metadata": {
    "collapsed": false
   }
  },
  {
   "cell_type": "markdown",
   "source": [
    "1) Weighted strategy that re-ranks the items by combining the individual rankings from the two models with some aggregate function such as the sum, average, minimum or maximum.\n"
   ],
   "metadata": {
    "collapsed": false
   },
   "outputs": [
    {
     "ename": "SyntaxError",
     "evalue": "invalid syntax (1753855533.py, line 1)",
     "output_type": "error",
     "traceback": [
      "\u001B[1;36m  File \u001B[1;32m\"C:\\Users\\Radu\\AppData\\Local\\Temp\\ipykernel_16612\\1753855533.py\"\u001B[1;36m, line \u001B[1;32m1\u001B[0m\n\u001B[1;33m    1) Weighted strategy that re-ranks the items by combining the individual\u001B[0m\n\u001B[1;37m     ^\u001B[0m\n\u001B[1;31mSyntaxError\u001B[0m\u001B[1;31m:\u001B[0m invalid syntax\n"
     ]
    }
   ],
   "execution_count": 355
  },
  {
   "cell_type": "code",
   "execution_count": 121,
   "outputs": [],
   "source": [
    "# Set the weights for each model\n",
    "alpha = 0.6\n",
    "betha = 0.4\n",
    "\n",
    "# Create a dictionary of user recommendations for the hybrid model\n",
    "user_recommendations_hybrid_ws = {}\n",
    "\n",
    "# Loop through each user and their collaborative filtering and content-based recommendations\n",
    "for user in user_recommendations_svd.keys():\n",
    "    cf_recs = user_recommendations_svd[user]\n",
    "    cb_recs = user_recommendations_content_based[user]\n",
    "\n",
    "    # Merge the two recommendation lists into one, keeping only unique movie IDs\n",
    "    merged_recs = set(cf_recs['movie_id']).union(set(cb_recs))\n",
    "    recommendations = []\n",
    "    for movie_id in merged_recs:\n",
    "        cf_rating = cf_recs[cf_recs['movie_id'] == movie_id]['predicted_rating'].values\n",
    "        cf_rating = cf_rating[0] if len(cf_rating) > 0 else 0\n",
    "        cb_rating = 1 if movie_id in cb_recs else 0  # content-based model is binary\n",
    "        weighted_rating = alpha * cf_rating + betha * cb_rating\n",
    "        recommendations.append((movie_id, weighted_rating))\n",
    "    recommendations = sorted(recommendations, key=lambda x: x[1], reverse=True)[:k]\n",
    "\n",
    "    # Add the top 5 recommended movies to the user's recommendation list\n",
    "    user_recommendations_hybrid_ws[user] = [rec[0] for rec in recommendations[:5]]\n"
   ],
   "metadata": {
    "collapsed": false
   }
  },
  {
   "cell_type": "code",
   "execution_count": 122,
   "outputs": [
    {
     "data": {
      "text/plain": "{1: [1449, 511, 357, 408, 98],\n 2: [1449, 357, 483, 427, 408],\n 3: [474, 169, 1449, 483, 408],\n 4: [1449, 48, 1142, 251, 127],\n 5: [1449, 641, 134, 199, 89],\n 6: [1449, 483, 515, 603, 318],\n 7: [408, 1449, 483, 169, 496],\n 8: [313, 1449, 169, 64, 12],\n 9: [1449, 169, 512, 318, 98],\n 10: [1449, 318, 483, 408, 169],\n 11: [169, 408, 1449, 483, 1467],\n 12: [64, 318, 313, 169, 1449],\n 13: [1449, 408, 169, 513, 480],\n 14: [169, 1449, 408, 483, 474],\n 15: [1449, 427, 408, 318, 169],\n 16: [357, 169, 1449, 50, 318],\n 17: [12, 169, 1449, 408, 127],\n 18: [408, 1449, 169, 483, 318],\n 19: [318, 1449, 483, 12, 408],\n 20: [1449, 169, 408, 1367, 1131],\n 21: [1449, 320, 603, 654, 169],\n 22: [1449, 12, 178, 98, 172],\n 23: [320, 1449, 169, 483, 474],\n 24: [1449, 187, 169, 318, 272],\n 25: [1449, 169, 318, 12, 64],\n 26: [408, 1449, 169, 318, 483],\n 27: [1449, 251, 1642, 318, 408],\n 28: [169, 50, 1449, 174, 963],\n 29: [1449, 408, 169, 318, 320],\n 30: [408, 169, 1449, 318, 1368],\n 31: [169, 408, 483, 1524, 1449],\n 32: [12, 483, 318, 64, 1449],\n 33: [1449, 603, 318, 169, 64],\n 34: [357, 1449, 654, 427, 408],\n 35: [1449, 318, 169, 1131, 408],\n 36: [483, 169, 1449, 12, 427],\n 37: [1449, 408, 169, 12, 320],\n 38: [1512, 1449, 1262, 143, 318],\n 39: [1449, 169, 64, 12, 1467],\n 40: [318, 169, 1449, 320, 483],\n 41: [513, 1449, 320, 483, 408],\n 42: [1449, 169, 313, 520, 172],\n 43: [1449, 318, 483, 272, 515],\n 44: [1449, 169, 408, 320, 12],\n 45: [169, 1449, 408, 318, 12],\n 46: [1449, 169, 408, 320, 318],\n 47: [1449, 408, 483, 320, 169],\n 48: [318, 1449, 408, 169, 64],\n 49: [60, 474, 1449, 654, 179],\n 50: [1449, 1642, 603, 178, 1512],\n 51: [174, 22, 318, 169, 515],\n 52: [408, 169, 483, 12, 1449],\n 53: [1449, 318, 169, 408, 1131],\n 54: [1449, 357, 427, 483, 169],\n 55: [169, 318, 483, 64, 408],\n 56: [318, 1449, 169, 64, 174],\n 57: [1449, 313, 483, 1512, 22],\n 58: [408, 272, 1449, 48, 357],\n 59: [127, 1449, 169, 408, 100],\n 60: [1449, 408, 169, 318, 320],\n 61: [318, 1467, 357, 408, 427],\n 62: [169, 1449, 408, 12, 173],\n 63: [320, 408, 169, 1449, 483],\n 64: [483, 169, 1449, 408, 199],\n 65: [318, 1449, 408, 427, 169],\n 66: [1449, 169, 172, 174, 64],\n 67: [64, 318, 169, 966, 1449],\n 68: [1449, 408, 169, 1467, 173],\n 69: [427, 178, 1449, 127, 483],\n 70: [1449, 318, 12, 50, 169],\n 71: [1449, 320, 408, 483, 603],\n 72: [190, 1449, 357, 1131, 1512],\n 73: [127, 1449, 180, 357, 474],\n 74: [1449, 408, 169, 318, 272],\n 75: [1449, 187, 127, 12, 483],\n 76: [1449, 408, 134, 285, 357],\n 77: [1449, 12, 661, 1062, 169],\n 78: [1449, 169, 1467, 12, 251],\n 79: [318, 1449, 12, 64, 483],\n 80: [408, 1449, 169, 318, 12],\n 81: [318, 1449, 169, 64, 483],\n 82: [1449, 199, 408, 480, 427],\n 83: [313, 22, 143, 169, 1449],\n 84: [1449, 169, 272, 483, 12],\n 85: [1449, 318, 408, 427, 169],\n 86: [318, 483, 169, 320, 357],\n 87: [1449, 64, 318, 313, 1467],\n 88: [1449, 178, 603, 474, 483],\n 89: [1449, 318, 272, 408, 12],\n 90: [603, 1449, 483, 408, 169],\n 91: [169, 64, 318, 408, 1449],\n 92: [1449, 318, 483, 357, 272],\n 93: [1449, 483, 318, 169, 64],\n 94: [408, 320, 483, 169, 1449],\n 95: [1449, 169, 408, 318, 483],\n 96: [1449, 408, 169, 50, 483],\n 97: [1449, 187, 867, 12, 134],\n 98: [1449, 357, 427, 272, 1142],\n 99: [12, 318, 50, 357, 480],\n 100: [169, 318, 1449, 1524, 408],\n 101: [1449, 64, 318, 169, 408],\n 102: [1449, 318, 169, 408, 483],\n 103: [1449, 169, 318, 12, 408],\n 104: [174, 172, 1449, 169, 318],\n 105: [1449, 357, 12, 427, 408],\n 106: [1449, 169, 357, 408, 190],\n 107: [1449, 169, 50, 483, 12],\n 108: [1449, 169, 483, 318, 12],\n 109: [1449, 313, 169, 613, 96],\n 110: [1449, 318, 169, 496, 483],\n 111: [169, 1131, 1449, 12, 64],\n 112: [1449, 318, 408, 169, 483],\n 113: [318, 1449, 1512, 169, 1131],\n 114: [1449, 169, 12, 408, 199],\n 115: [320, 408, 60, 1449, 169],\n 116: [1449, 408, 318, 963, 64],\n 117: [1449, 318, 12, 483, 169],\n 118: [515, 483, 134, 170, 89],\n 119: [1449, 408, 513, 867, 1131],\n 120: [1449, 318, 178, 64, 12],\n 121: [408, 1449, 169, 483, 1142],\n 122: [483, 408, 302, 169, 1449],\n 123: [1449, 474, 357, 320, 427],\n 124: [408, 1449, 169, 483, 1512],\n 125: [174, 22, 169, 50, 318],\n 126: [1449, 1467, 12, 169, 483],\n 127: [1449, 64, 1367, 1512, 430],\n 128: [1449, 318, 1524, 169, 1512],\n 129: [408, 1449, 515, 318, 272],\n 130: [169, 318, 408, 1064, 357],\n 131: [1449, 318, 320, 169, 408],\n 132: [1449, 357, 408, 169, 921],\n 133: [1449, 867, 169, 963, 408],\n 134: [1449, 1512, 318, 313, 613],\n 135: [1449, 408, 483, 169, 474],\n 136: [169, 1449, 408, 603, 12],\n 137: [50, 169, 172, 483, 1467],\n 138: [1449, 169, 318, 408, 357],\n 139: [169, 408, 318, 474, 1449],\n 140: [408, 1449, 169, 318, 320],\n 141: [241, 318, 64, 300, 79],\n 142: [1449, 318, 12, 169, 483],\n 143: [1449, 169, 318, 64, 357],\n 144: [1449, 50, 483, 169, 427],\n 145: [169, 199, 50, 1524, 172],\n 146: [318, 357, 1449, 1131, 427],\n 147: [1449, 408, 318, 169, 320],\n 148: [1449, 318, 169, 313, 1467],\n 149: [318, 1449, 483, 169, 408],\n 150: [1449, 318, 1467, 169, 190],\n 151: [1449, 169, 318, 1524, 320],\n 152: [64, 169, 174, 22, 318],\n 153: [1449, 318, 1131, 603, 1298],\n 154: [1449, 127, 180, 408, 357],\n 155: [1449, 169, 318, 12, 357],\n 156: [1449, 408, 169, 12, 483],\n 157: [408, 1449, 483, 318, 169],\n 158: [1449, 12, 483, 357, 199],\n 159: [313, 408, 169, 357, 657],\n 160: [1449, 357, 178, 641, 320],\n 161: [1449, 408, 169, 318, 98],\n 162: [318, 1449, 169, 483, 867],\n 163: [1449, 169, 318, 1467, 64],\n 164: [1449, 408, 169, 318, 1131],\n 165: [1449, 408, 483, 613, 1524],\n 166: [50, 22, 64, 174, 12],\n 167: [169, 408, 1449, 1642, 178],\n 168: [613, 1449, 22, 318, 272],\n 169: [1449, 169, 408, 272, 318],\n 170: [1449, 318, 169, 313, 408],\n 171: [408, 169, 1449, 12, 483],\n 172: [318, 1449, 169, 867, 1467],\n 173: [357, 408, 313, 603, 318],\n 174: [427, 408, 963, 1449, 272],\n 175: [318, 1449, 483, 174, 143],\n 176: [408, 1449, 169, 320, 178],\n 177: [1449, 357, 169, 408, 318],\n 178: [22, 169, 408, 96, 1449],\n 179: [272, 512, 318, 64, 1512],\n 180: [408, 1449, 1642, 169, 357],\n 181: [1449, 318, 64, 169, 22],\n 182: [1449, 318, 483, 427, 64],\n 183: [1449, 408, 318, 427, 169],\n 184: [1449, 320, 408, 515, 427],\n 185: [1449, 318, 483, 427, 408],\n 186: [133, 318, 69, 169, 483],\n 187: [408, 1449, 483, 318, 12],\n 188: [1449, 408, 427, 357, 169],\n 189: [483, 408, 357, 480, 1449],\n 190: [64, 1449, 318, 12, 22],\n 191: [1449, 408, 169, 1131, 318],\n 192: [320, 408, 318, 169, 1449],\n 193: [1449, 427, 318, 357, 483],\n 194: [1449, 169, 408, 64, 12],\n 195: [1449, 12, 64, 427, 357],\n 196: [1449, 320, 483, 318, 474],\n 197: [174, 496, 64, 169, 318],\n 198: [1449, 357, 12, 408, 483],\n 199: [169, 1449, 285, 134, 12],\n 200: [1449, 318, 64, 50, 357],\n 201: [1449, 320, 474, 169, 512],\n 202: [1449, 169, 174, 1131, 963],\n 203: [318, 1449, 169, 64, 1524],\n 204: [1449, 408, 169, 483, 515],\n 205: [1449, 169, 408, 318, 867],\n 206: [408, 1449, 169, 515, 1064],\n 207: [318, 1449, 427, 251, 169],\n 208: [1449, 318, 169, 1064, 64],\n 209: [169, 1449, 174, 408, 50],\n 210: [1449, 169, 408, 427, 320],\n 211: [966, 318, 1449, 483, 272],\n 212: [169, 190, 1449, 408, 64],\n 213: [1449, 169, 357, 318, 12],\n 214: [1449, 56, 408, 657, 178],\n 215: [1449, 318, 483, 169, 12],\n 216: [1449, 357, 12, 180, 483],\n 217: [408, 1449, 606, 603, 357],\n 218: [318, 1449, 169, 408, 483],\n 219: [1449, 134, 408, 474, 12],\n 220: [169, 1449, 408, 515, 483],\n 221: [1449, 408, 357, 169, 318],\n 222: [1449, 22, 169, 357, 12],\n 223: [1449, 966, 169, 22, 318],\n 224: [79, 318, 174, 22, 496],\n 225: [64, 483, 357, 1449, 318],\n 226: [318, 1449, 169, 173, 64],\n 227: [1449, 408, 483, 169, 474],\n 228: [318, 1449, 408, 64, 22],\n 229: [1449, 169, 408, 1131, 320],\n 230: [318, 966, 169, 50, 1449],\n 231: [1449, 169, 408, 318, 657],\n 232: [408, 318, 1449, 169, 483],\n 233: [1449, 1131, 427, 169, 251],\n 234: [427, 408, 603, 483, 318],\n 235: [320, 1449, 169, 474, 408],\n 236: [357, 408, 1131, 190, 963],\n 237: [1449, 318, 12, 320, 1131],\n 238: [1449, 318, 357, 320, 12],\n 239: [127, 100, 1449, 656, 513],\n 240: [408, 1449, 169, 923, 515],\n 241: [1449, 318, 357, 483, 408],\n 242: [408, 169, 1449, 318, 483],\n 243: [408, 1449, 169, 483, 320],\n 244: [515, 1449, 178, 190, 272],\n 245: [1449, 169, 408, 603, 12],\n 246: [483, 89, 127, 1449, 100],\n 247: [1449, 318, 169, 1367, 408],\n 248: [1449, 408, 12, 474, 515],\n 249: [1449, 357, 474, 169, 180],\n 250: [318, 1449, 427, 64, 357],\n 251: [1449, 169, 408, 318, 483],\n 252: [320, 1524, 408, 315, 318],\n 253: [64, 1449, 408, 169, 483],\n 254: [318, 169, 408, 174, 50],\n 255: [320, 251, 357, 515, 191],\n 256: [1449, 169, 318, 408, 313],\n 257: [318, 408, 320, 1449, 169],\n 258: [1449, 318, 483, 313, 169],\n 259: [318, 1449, 169, 408, 320],\n 260: [1449, 408, 169, 483, 318],\n 261: [169, 408, 613, 318, 313],\n 262: [1449, 483, 318, 408, 1512],\n 263: [427, 408, 318, 1449, 483],\n 264: [169, 1449, 12, 408, 50],\n 265: [318, 1449, 169, 64, 613],\n 266: [408, 169, 320, 483, 1449],\n 267: [357, 1449, 187, 318, 603],\n 268: [1449, 320, 483, 169, 199],\n 269: [320, 474, 9, 60, 180],\n 270: [318, 963, 357, 169, 190],\n 271: [318, 408, 483, 1449, 199],\n 272: [1449, 169, 408, 12, 603],\n 273: [1449, 169, 318, 12, 483],\n 274: [1449, 169, 408, 64, 357],\n 275: [1449, 318, 1131, 483, 64],\n 276: [169, 1449, 408, 357, 127],\n 277: [318, 1449, 169, 64, 408],\n 278: [1449, 169, 272, 318, 408],\n 279: [1194, 1449, 1599, 251, 320],\n 280: [1449, 408, 515, 483, 657],\n 281: [408, 169, 12, 1449, 1131],\n 282: [1449, 169, 483, 408, 515],\n 283: [1449, 169, 483, 408, 357],\n 284: [1449, 318, 169, 483, 357],\n 285: [1449, 169, 12, 483, 408],\n 286: [1449, 427, 318, 12, 603],\n 287: [318, 1449, 169, 408, 357],\n 288: [318, 1449, 320, 483, 496],\n 289: [169, 408, 1449, 867, 357],\n 290: [169, 1449, 408, 1064, 96],\n 291: [318, 169, 1449, 408, 357],\n 292: [318, 1449, 357, 408, 178],\n 293: [1449, 474, 408, 12, 134],\n 294: [1449, 12, 318, 483, 169],\n 295: [515, 169, 1449, 408, 318],\n 296: [1449, 427, 318, 302, 408],\n 297: [408, 1449, 169, 318, 483],\n 298: [169, 1449, 64, 12, 408],\n 299: [318, 1449, 320, 357, 1524],\n 300: [320, 1449, 1131, 318, 427],\n 301: [1449, 169, 313, 483, 357],\n 302: [427, 318, 408, 357, 1449],\n 303: [1449, 483, 169, 178, 134],\n 304: [1269, 169, 1449, 64, 318],\n 305: [1449, 320, 169, 483, 1131],\n 306: [1449, 408, 427, 511, 480],\n 307: [1449, 12, 173, 318, 320],\n 308: [1449, 12, 320, 474, 483],\n 309: [169, 318, 12, 1449, 50],\n 310: [318, 357, 427, 12, 199],\n 311: [318, 1449, 169, 515, 313],\n 312: [1449, 408, 12, 318, 64],\n 313: [1449, 169, 408, 199, 12],\n 314: [1449, 64, 313, 169, 1512],\n 315: [483, 408, 357, 320, 1449],\n 316: [318, 315, 408, 272, 133],\n 317: [1449, 318, 867, 169, 12],\n 318: [169, 1449, 408, 483, 1524],\n 319: [408, 1449, 318, 169, 64],\n 320: [1449, 318, 169, 408, 64],\n 321: [515, 1449, 318, 320, 483],\n 322: [169, 408, 318, 1449, 12],\n 323: [318, 408, 12, 357, 169],\n 324: [189, 320, 64, 1064, 178],\n 325: [483, 474, 1449, 603, 320],\n 326: [1449, 169, 83, 318, 496],\n 327: [408, 1449, 320, 169, 474],\n 328: [1449, 169, 408, 1131, 966],\n 329: [1449, 408, 483, 357, 318],\n 330: [169, 1449, 79, 22, 313],\n 331: [1449, 408, 867, 169, 12],\n 332: [169, 1449, 408, 318, 272],\n 333: [169, 408, 318, 1449, 64],\n 334: [1449, 408, 320, 100, 357],\n 335: [1449, 318, 474, 315, 483],\n 336: [169, 12, 318, 64, 172],\n 337: [1449, 313, 318, 408, 613],\n 338: [1449, 134, 60, 285, 56],\n 339: [1449, 408, 320, 603, 12],\n 340: [96, 318, 64, 22, 496],\n 341: [1449, 318, 169, 515, 408],\n 342: [1449, 474, 134, 483, 100],\n 343: [654, 483, 12, 285, 320],\n 344: [134, 474, 1449, 483, 12],\n 345: [1449, 408, 483, 169, 127],\n 346: [169, 174, 1449, 408, 513],\n 347: [64, 1449, 313, 318, 79],\n 348: [318, 1449, 169, 408, 483],\n 349: [1449, 408, 169, 318, 483],\n 350: [1449, 320, 134, 408, 474],\n 351: [169, 1449, 408, 318, 320],\n 352: [515, 1449, 483, 169, 318],\n 353: [408, 318, 12, 1467, 169],\n 354: [320, 483, 408, 1449, 474],\n 355: [483, 357, 169, 1449, 318],\n 356: [1449, 357, 169, 318, 963],\n 357: [64, 966, 169, 1449, 408],\n 358: [923, 83, 1642, 483, 408],\n 359: [169, 483, 318, 357, 603],\n 360: [320, 408, 1449, 134, 603],\n 361: [1449, 483, 318, 134, 408],\n 362: [318, 357, 1449, 64, 427],\n 363: [169, 483, 1449, 357, 320],\n 364: [1449, 318, 408, 313, 169],\n 365: [408, 1449, 318, 98, 64],\n 366: [320, 515, 1194, 408, 923],\n 367: [169, 1449, 408, 483, 12],\n 368: [1449, 408, 169, 318, 12],\n 369: [169, 408, 12, 64, 963],\n 370: [1449, 474, 483, 178, 357],\n 371: [318, 169, 408, 1449, 483],\n 372: [169, 1449, 318, 64, 408],\n 373: [318, 1449, 408, 1131, 251],\n 374: [313, 1449, 1131, 169, 427],\n 375: [1449, 408, 169, 318, 483],\n 376: [408, 169, 1449, 318, 483],\n 377: [1449, 169, 483, 12, 199],\n 378: [1449, 169, 483, 408, 427],\n 379: [1449, 408, 483, 169, 603],\n 380: [1449, 408, 169, 603, 483],\n 381: [1449, 603, 474, 12, 320],\n 382: [60, 1524, 474, 408, 1449],\n 383: [603, 1449, 474, 318, 169],\n 384: [169, 1449, 408, 318, 515],\n 385: [408, 647, 867, 474, 285],\n 386: [1449, 483, 408, 318, 169],\n 387: [169, 134, 180, 302, 285],\n 388: [64, 318, 1449, 12, 169],\n 389: [1449, 169, 320, 408, 12],\n 390: [318, 1449, 408, 169, 427],\n 391: [1449, 178, 169, 867, 408],\n 392: [427, 1449, 408, 511, 357],\n 393: [318, 1449, 169, 966, 1131],\n 394: [1449, 318, 169, 320, 483],\n 395: [169, 408, 483, 1449, 174],\n 396: [1449, 169, 408, 318, 483],\n 397: [1449, 187, 603, 64, 511],\n 398: [64, 318, 1449, 169, 22],\n 399: [1449, 408, 169, 483, 867],\n 400: [169, 318, 64, 483, 1449],\n 401: [1449, 408, 169, 1064, 427],\n 402: [1449, 169, 272, 320, 1131],\n 403: [1449, 169, 408, 96, 966],\n 404: [1449, 169, 96, 313, 174],\n 405: [96, 318, 172, 496, 169],\n 406: [1449, 169, 408, 320, 12],\n 407: [318, 12, 1449, 64, 480],\n 408: [1449, 169, 483, 603, 408],\n 409: [408, 169, 272, 187, 197],\n 410: [408, 169, 199, 12, 483],\n 411: [1449, 483, 169, 408, 427],\n 412: [50, 1449, 318, 1131, 483],\n 413: [318, 483, 320, 1449, 408],\n 414: [1449, 408, 12, 320, 169],\n 415: [408, 1449, 169, 12, 318],\n 416: [1449, 64, 22, 169, 178],\n 417: [318, 1449, 408, 64, 272],\n 418: [64, 313, 357, 1449, 1512],\n 419: [1449, 169, 427, 318, 483],\n 420: [1449, 320, 169, 483, 511],\n 421: [1449, 169, 408, 480, 199],\n 422: [318, 169, 1449, 178, 408],\n 423: [320, 408, 318, 1449, 169],\n 424: [1449, 169, 408, 511, 318],\n 425: [1449, 483, 408, 480, 318],\n 426: [1449, 408, 603, 169, 480],\n 427: [648, 170, 657, 1203, 223],\n 428: [169, 408, 1449, 1467, 318],\n 429: [169, 1449, 408, 318, 511],\n 430: [1449, 357, 427, 408, 483],\n 431: [169, 1449, 318, 64, 313],\n 432: [1449, 318, 64, 483, 963],\n 433: [1449, 408, 169, 515, 170],\n 434: [313, 1449, 1062, 199, 520],\n 435: [1449, 408, 320, 483, 173],\n 436: [169, 1131, 408, 1449, 963],\n 437: [1449, 427, 647, 197, 474],\n 438: [318, 169, 1449, 867, 966],\n 439: [483, 1449, 318, 169, 1131],\n 440: [169, 1449, 408, 178, 190],\n 442: [1449, 357, 408, 169, 474],\n 444: [318, 1449, 169, 357, 408],\n 445: [1449, 318, 169, 427, 357],\n 446: [408, 427, 1449, 318, 169],\n 447: [64, 357, 1449, 169, 172],\n 448: [483, 127, 1449, 187, 199],\n 449: [320, 408, 474, 483, 654],\n 450: [1449, 408, 64, 515, 480],\n 451: [313, 169, 96, 966, 1449],\n 452: [408, 1449, 12, 169, 1524],\n 453: [1449, 169, 89, 64, 408],\n 454: [1449, 1467, 966, 408, 613],\n 455: [1449, 169, 408, 483, 357],\n 456: [1449, 169, 408, 178, 318],\n 457: [408, 1449, 480, 427, 302],\n 458: [1449, 320, 60, 89, 1131],\n 459: [169, 1449, 408, 96, 966],\n 460: [1449, 483, 474, 408, 320],\n 462: [318, 1449, 64, 1467, 357]}"
     },
     "execution_count": 122,
     "metadata": {},
     "output_type": "execute_result"
    }
   ],
   "source": [
    "user_recommendations_hybrid_ws"
   ],
   "metadata": {
    "collapsed": false
   }
  },
  {
   "cell_type": "markdown",
   "source": [
    "2. Switching strategy that uses the recommendations from the collaborative filtering model for some users and the recommendations from the contentbased model for other users chosen by a predefined condition.\n"
   ],
   "metadata": {
    "collapsed": false
   }
  },
  {
   "cell_type": "code",
   "execution_count": 123,
   "outputs": [],
   "source": [
    "# # Set the threshold for the number of ratings needed to use collaborative filtering\n",
    "# cf_threshold = 5\n",
    "#\n",
    "# # Create a dictionary of user recommendations for the hybrid model\n",
    "# user_recommendations_hybrid_ss = {}\n",
    "#\n",
    "# # Loop through each user and their collaborative filtering and content-based recommendations\n",
    "# for user in user_recommendations_svd.keys():\n",
    "#     cf_recs = user_recommendations_svd[user]\n",
    "#     cb_recs = user_recommendations_content_based[user]\n",
    "#\n",
    "#     # Determine which model to use based on the number of ratings the user has given\n",
    "#     # Use Borda Count to combine the two recommendation lists\n",
    "#     merged_recs = set(cf_recs['movie_id']).union(set(cb_recs))\n",
    "#     borda_scores = {}\n",
    "#     for movie_id in merged_recs:\n",
    "#         cf_rank = cf_recs[cf_recs['movie_id'] == movie_id].index.tolist()[0] if movie_id in cf_recs['movie_id'].tolist() else len(cf_recs)\n",
    "#         cb_rank = cb_recs.index(movie_id) if movie_id in cb_recs else len(cb_recs)\n",
    "#         borda_scores[movie_id] = cf_rank + cb_rank\n",
    "#         print(borda_scores[movie_id])\n",
    "#     recs = pd.DataFrame(list(borda_scores.items()), columns=['movie_id', 'borda_score'])\n",
    "#     recs = recs.sort_values(by=['borda_score']).reset_index(drop=True)\n",
    "#\n",
    "#     # Add the top 5 recommended movies to the user's recommendation list\n",
    "#     user_recommendations_hybrid_ss[user] = recs['movie_id'][:5].tolist()"
   ],
   "metadata": {
    "collapsed": false
   }
  },
  {
   "cell_type": "code",
   "execution_count": 124,
   "outputs": [],
   "source": [
    "# user_recommendations_hybrid_ss"
   ],
   "metadata": {
    "collapsed": false
   }
  },
  {
   "cell_type": "code",
   "execution_count": 125,
   "outputs": [],
   "source": [
    "borda_scores= [(1449, 4), (230, 4), (169, 3), (181, 3), (408, 2), (144, 2), (178, 1), (550, 1), (318, 0), (226, 0)]"
   ],
   "metadata": {
    "collapsed": false
   }
  },
  {
   "cell_type": "code",
   "execution_count": 126,
   "outputs": [],
   "source": [
    "import random\n",
    "\n",
    "# Define the Borda Count function\n",
    "def borda_count(rankings):\n",
    "    borda_scores = {}\n",
    "    for ranking in rankings:\n",
    "        for i, movie_id in enumerate(ranking):\n",
    "            borda_scores[movie_id] = borda_scores.get(movie_id, 0) + len(ranking) - i - 1\n",
    "    return sorted(borda_scores.items(), key=lambda x: x[1], reverse=True)\n",
    "\n",
    "def calculate_points(borda_scores):\n",
    "    points = {}\n",
    "    for movie_id, score in borda_scores:\n",
    "        points[movie_id] = points.get(movie_id, 0) + score\n",
    "    result = [(movie_id, points.get(movie_id, 0)) for movie_id, score in borda_scores]\n",
    "    result = sorted(result, key=lambda x: (x[1], x[0]), reverse=True)\n",
    "    return result\n",
    "\n",
    "# Create a dictionary of user recommendations for the hybrid model\n",
    "user_recommendations_hybrid_ss = {}\n",
    "\n",
    "# Loop through each user and their collaborative filtering and content-based recommendations\n",
    "for user in user_recommendations_svd.keys():\n",
    "    cf_recs = user_recommendations_svd[user]\n",
    "    cb_recs = user_recommendations_content_based[user]\n",
    "\n",
    "    rankings = [cf_recs['movie_id'].tolist(), cb_recs]\n",
    "    borda_scores = borda_count(rankings)\n",
    "    points = calculate_points(borda_scores)\n",
    "    # print(borda_scores)\n",
    "    hybrid_rec_user=[]\n",
    "    for i in range( int(len(points)/2)):\n",
    "        if points[2*i][1] == points[2*i+1][1]:\n",
    "            if random.random() < 0.5:\n",
    "                hybrid_rec_user.append((points[2*i][0]))\n",
    "            else:\n",
    "                hybrid_rec_user.append((points[2*i+1][0]))\n",
    "        else:\n",
    "            hybrid_rec_user.append(points[2*i][0])\n",
    "    # Add the top 5 recommended movies to the user's recommendation list\n",
    "    user_recommendations_hybrid_ss[user] = hybrid_rec_user[:5]"
   ],
   "metadata": {
    "collapsed": false
   }
  },
  {
   "cell_type": "markdown",
   "source": [
    "obs: as a tie breaker I used the random function to randomly pick one of the 2 moviesId with equal scores."
   ],
   "metadata": {
    "collapsed": false
   }
  },
  {
   "cell_type": "code",
   "execution_count": 127,
   "outputs": [
    {
     "data": {
      "text/plain": "{1: [1449, 172, 357, 408, 246],\n 2: [1449, 242, 100, 275, 285],\n 3: [505, 493, 522, 483, 79],\n 4: [1142, 48, 127, 279, 690],\n 5: [1449, 385, 134, 4, 89],\n 6: [1449, 656, 127, 675, 9],\n 7: [408, 79, 479, 169],\n 8: [313, 181, 515, 64],\n 9: [1449, 181, 385, 523, 50],\n 10: [1449, 318, 483, 172, 169],\n 11: [169, 181, 100, 483, 1467],\n 12: [181, 313, 257, 64],\n 13: [1101, 408, 584, 7, 70],\n 14: [60, 1449, 1439, 517, 474],\n 15: [512, 521, 408, 318, 169],\n 16: [357, 1449, 333, 169, 224],\n 17: [88, 378, 77, 408, 178],\n 18: [408, 1449, 169, 183, 318],\n 19: [318, 493, 483, 12],\n 20: [268, 169, 64, 175, 1131],\n 21: [460, 79, 603, 654, 169],\n 22: [1449, 12, 641, 28, 199],\n 23: [515, 116, 285, 582, 236],\n 24: [79, 187, 169, 318, 726],\n 25: [133, 169, 181, 12, 603],\n 26: [408, 1449, 169, 79],\n 27: [107, 1074, 50, 181, 408],\n 28: [428, 500, 304, 174, 1439],\n 29: [1, 118, 934, 866, 320],\n 30: [408, 96, 195, 69],\n 31: [348, 408, 210, 64, 1449],\n 32: [12, 257, 147, 742, 866],\n 33: [1449, 175, 318, 169, 230],\n 34: [7, 319, 654, 294, 281],\n 35: [1449, 258, 169, 1131, 744],\n 36: [50, 483, 127, 12, 717],\n 37: [1449, 7, 98, 12, 195],\n 38: [143, 1449, 261, 1262, 318],\n 39: [1, 169, 678, 338, 294],\n 40: [318, 385, 1449, 320, 118],\n 41: [194, 320, 45, 12],\n 42: [963, 169, 313, 100, 172],\n 43: [512, 133, 483, 272, 611],\n 44: [508, 169, 408, 147, 1011],\n 45: [169, 1012, 408, 318, 12],\n 46: [1449, 747, 408, 320, 318],\n 47: [123, 1439, 69, 79, 194],\n 48: [318, 1449, 479, 169, 126],\n 49: [474, 60, 1439, 654],\n 50: [69, 282, 79, 178, 1512],\n 51: [174, 22, 187, 169, 515],\n 52: [408, 116, 9, 12],\n 53: [1449, 318, 169, 385, 1131],\n 54: [288, 357, 427, 483, 169],\n 55: [96, 318, 483, 516, 269],\n 56: [318, 127, 169, 64, 1086],\n 57: [181, 482, 172, 423, 22],\n 58: [408, 100, 318, 48, 79],\n 59: [132, 515, 627, 588, 427],\n 60: [471, 300, 169, 318, 50],\n 61: [318, 512, 357, 408],\n 62: [169, 1449, 275, 12, 268],\n 63: [320, 408, 169, 8, 483],\n 64: [268, 246, 1449, 408, 199],\n 65: [318, 1449, 176, 427, 98],\n 66: [7, 147, 1011, 174, 12],\n 67: [64, 79, 169, 685],\n 68: [1449, 1, 149, 475, 276],\n 69: [966, 132, 427, 482],\n 70: [1449, 318, 12, 50, 842],\n 71: [1449, 11, 408, 483, 409],\n 72: [486, 1449, 451, 1131, 433],\n 73: [515, 141, 180, 357, 199],\n 74: [298, 100, 237, 282, 272],\n 75: [164, 230, 127, 12, 210],\n 76: [385, 123, 134, 285, 357],\n 77: [1449, 12, 661, 1062, 169],\n 78: [230, 183, 176, 28, 257],\n 79: [573, 1449, 12, 64, 483],\n 80: [408, 48, 603, 318, 199],\n 81: [45, 127, 1439, 1611, 150],\n 82: [1449, 181, 515, 334, 298],\n 83: [313, 22, 143, 169, 70],\n 84: [1449, 169, 272, 483, 12],\n 85: [603, 109, 408, 479, 169],\n 86: [318, 127, 526, 320, 357],\n 87: [60, 512, 318, 45, 387],\n 88: [1449, 611, 603, 474, 123],\n 89: [1449, 428, 272, 1439, 650],\n 90: [603, 50, 181, 230, 169],\n 91: [486, 505, 611, 408, 1449],\n 92: [1449, 318, 483, 357, 272],\n 93: [1449, 483, 318, 69, 38],\n 94: [123, 320, 483, 282, 1449],\n 95: [50, 172, 647, 318, 483],\n 96: [520, 515, 169, 429, 230],\n 97: [1449, 187, 867, 150, 896],\n 98: [1449, 357, 100, 272, 1142],\n 99: [1296, 500, 304, 357, 302],\n 100: [169, 318, 79, 1524, 327],\n 101: [1449, 90, 237, 169, 408],\n 102: [513, 318, 169, 654, 483],\n 103: [521, 611, 318, 429, 79],\n 104: [408, 172, 1449, 100, 318],\n 105: [172, 181, 50, 427, 203],\n 106: [1449, 169, 597, 123, 304],\n 107: [1449, 169, 50, 483, 521],\n 108: [428, 1439, 385, 429, 12],\n 109: [1449, 313, 169, 613, 96],\n 110: [31, 318, 169, 22, 186],\n 111: [169, 1131, 387, 79, 64],\n 112: [428, 127, 408, 47, 517],\n 113: [611, 517, 169, 479],\n 114: [1449, 428, 12, 408, 199],\n 115: [320, 408, 288, 219, 169],\n 116: [1439, 408, 318, 69, 605],\n 117: [1449, 275, 12, 483, 169],\n 118: [515, 1439, 79, 620, 170],\n 119: [385, 230, 123, 79, 257],\n 120: [1449, 318, 423, 750, 343],\n 121: [408, 496, 169, 483, 47],\n 122: [483, 408, 302, 169, 1439],\n 123: [428, 133, 357, 735, 427],\n 124: [408, 95, 169, 181],\n 125: [174, 100, 147, 118, 318],\n 126: [428, 1439, 12, 169, 47],\n 127: [345, 385, 1367, 1512, 45],\n 128: [181, 318, 1524, 169, 265],\n 129: [96, 515, 526, 195],\n 130: [1439, 428, 408, 385, 357],\n 131: [723, 1439, 1640, 385, 408],\n 132: [1449, 357, 408, 169, 134],\n 133: [1449, 867, 169, 963, 286],\n 134: [100, 1512, 318, 294, 740],\n 135: [79, 1416, 230, 169, 474],\n 136: [611, 387, 1449, 428, 12],\n 137: [50, 257, 172, 181, 1012],\n 138: [477, 1095, 288, 408, 975],\n 139: [385, 408, 409, 79, 1449],\n 140: [257, 866, 169, 237, 320],\n 141: [1, 318, 338, 300, 342],\n 142: [79, 340, 56, 475, 483],\n 143: [1449, 7, 150, 64, 357],\n 144: [1449, 428, 483, 169, 427],\n 145: [169, 199, 50, 1524, 279],\n 146: [318, 385, 1449, 611, 427],\n 147: [1449, 1439, 505, 662, 611],\n 148: [428, 318, 500, 45, 1467],\n 149: [127, 319, 79, 939, 408],\n 150: [1449, 257, 1467, 7, 190],\n 151: [1449, 242, 303, 297, 320],\n 152: [246, 268, 22, 127, 169],\n 153: [408, 175, 1131, 513, 428],\n 154: [1449, 127, 100, 109, 357],\n 155: [1449, 169, 318, 150, 662],\n 156: [150, 408, 169, 9, 181],\n 157: [408, 1449, 102, 172, 932],\n 158: [230, 12, 385, 357, 199],\n 159: [313, 288, 26, 357, 657],\n 160: [304, 500, 257, 230, 320],\n 161: [1449, 408, 169, 229, 109],\n 162: [318, 1449, 385, 181, 867],\n 163: [1405, 169, 100, 123, 64],\n 164: [385, 79, 1439, 684, 1131],\n 165: [1449, 408, 429, 613, 662],\n 166: [150, 22, 64, 174],\n 167: [169, 408, 50, 172, 178],\n 168: [613, 1449, 64, 427, 272],\n 169: [79, 169, 662, 272, 318],\n 170: [1449, 318, 169, 313, 127],\n 171: [611, 169, 1449, 12, 483],\n 172: [1449, 45, 169, 79],\n 173: [588, 385, 318, 132, 313],\n 174: [150, 408, 963, 1449, 272],\n 175: [318, 273, 286, 11],\n 176: [1439, 169, 320, 408],\n 177: [1449, 357, 169, 181, 318],\n 178: [106, 169, 717, 96, 866],\n 179: [109, 512, 318, 64, 79],\n 180: [408, 1642, 662, 451],\n 181: [1449, 318, 64, 169, 332],\n 182: [123, 100, 483, 181, 408],\n 183: [1449, 500, 318, 1611, 169],\n 184: [1449, 320, 408, 515, 427],\n 185: [1449, 1199, 597, 427, 408],\n 186: [133, 60, 69, 47],\n 187: [408, 1449, 500, 318],\n 188: [1439, 428, 387, 357, 169],\n 189: [100, 408, 357, 9, 181],\n 190: [500, 1449, 50, 181, 22],\n 191: [1449, 181, 127, 187, 318],\n 192: [230, 181, 50, 257, 1449],\n 193: [1449, 257, 318, 603, 127],\n 194: [515, 50, 408, 64, 118],\n 195: [1449, 288, 64, 257, 357],\n 196: [1449, 932, 100, 318, 147],\n 197: [611, 1451, 64, 169, 318],\n 198: [1449, 69, 12, 181, 172],\n 199: [169, 268, 285, 258, 12],\n 200: [1449, 428, 512, 50, 357],\n 201: [1449, 194, 474, 169, 512],\n 202: [1449, 169, 60, 429, 1451],\n 203: [100, 257, 169, 64, 1524],\n 204: [1449, 7, 181, 237, 515],\n 205: [1449, 169, 408, 318, 867],\n 206: [408, 1449, 169, 515, 1064],\n 207: [257, 1449, 329, 181, 169],\n 208: [1449, 318, 169, 1064, 64],\n 209: [428, 1449, 542, 408, 107],\n 210: [1449, 512, 150, 427, 1085],\n 211: [966, 318, 385, 483],\n 212: [169, 190, 1449, 477, 748],\n 213: [888, 975, 1278, 756, 288],\n 214: [1449, 56, 127, 657, 117],\n 215: [1449, 79, 483, 187, 12],\n 216: [1449, 385, 48, 428, 483],\n 217: [1449, 500, 603, 304],\n 218: [1449, 133, 318, 187],\n 219: [1449, 134, 408, 474, 12],\n 220: [303, 1449, 194, 12, 483],\n 221: [147, 408, 357, 235, 318],\n 222: [1449, 22, 169, 357, 12],\n 223: [1449, 966, 169, 22, 755],\n 224: [79, 318, 181, 22],\n 225: [79, 318, 385, 1449, 64],\n 226: [327, 1449, 169, 876, 64],\n 227: [409, 123, 298, 169, 96],\n 228: [181, 1449, 50, 79, 22],\n 229: [100, 169, 408, 1131, 932],\n 230: [268, 246, 327, 333, 1449],\n 231: [1449, 235, 15, 318, 258],\n 232: [1233, 1449, 181, 100],\n 233: [1449, 1131, 427, 1023, 1640],\n 234: [428, 150, 127, 483, 318],\n 235: [320, 1449, 169, 474, 385],\n 236: [357, 127, 147, 117, 291],\n 237: [611, 429, 230, 385, 1131],\n 238: [385, 318, 357, 79, 746],\n 239: [127, 100, 79, 50, 513],\n 240: [408, 1449, 60, 45, 515],\n 241: [1449, 111, 357, 483, 408],\n 242: [408, 45, 127, 318],\n 243: [428, 230, 169, 385, 320],\n 244: [1449, 408, 172, 272],\n 245: [150, 127, 408, 187, 12],\n 246: [483, 89, 127, 159, 175],\n 247: [69, 318, 169, 620, 147],\n 248: [1449, 408, 181, 474, 50],\n 249: [1449, 357, 127, 169, 313],\n 250: [181, 427, 50, 357],\n 251: [1449, 245, 300, 318, 483],\n 252: [100, 127, 276, 320, 742],\n 253: [64, 1449, 50, 318, 483],\n 254: [318, 150, 174],\n 255: [320, 251, 150, 1677, 191],\n 256: [477, 169, 50, 408, 313],\n 257: [257, 181, 109, 1449, 298],\n 258: [1439, 79, 69, 194, 169],\n 259: [1449, 169, 500, 320],\n 260: [1449, 408, 410, 194, 412],\n 261: [268, 408, 257, 123, 313],\n 262: [1449, 483, 486, 512, 127],\n 263: [427, 268, 318, 288, 483],\n 264: [297, 169, 12, 275, 50],\n 265: [318, 181, 169, 123, 613],\n 266: [408, 169, 320, 483, 300],\n 267: [357, 331, 187, 125, 603],\n 268: [1449, 873, 483, 181, 199],\n 269: [320, 474, 127, 11, 181],\n 270: [127, 187, 357, 963, 656],\n 271: [300, 408, 483, 1449, 199],\n 272: [79, 169, 257, 12, 603],\n 273: [1449, 387, 318, 12, 483],\n 274: [1449, 169, 1296, 107, 175],\n 275: [50, 318, 1131, 168, 164],\n 276: [294, 1449, 408, 357, 25],\n 277: [79, 611, 123, 230, 385],\n 278: [268, 246, 272, 318, 408],\n 279: [1194, 69, 1599, 486, 320],\n 280: [1449, 408, 515, 483, 1375],\n 281: [242, 169, 181, 123, 1131],\n 282: [230, 385, 483, 408, 515],\n 283: [1449, 127, 483, 591, 357],\n 284: [1449, 318, 302, 483, 428],\n 285: [1449, 169, 10, 190, 408],\n 286: [1449, 181, 50, 12, 603],\n 287: [428, 1449, 305, 408, 357],\n 288: [1449, 318, 96, 175],\n 289: [385, 408, 1449, 867, 357],\n 290: [428, 1449, 408, 1064, 96],\n 291: [100, 588, 611, 408, 603],\n 292: [318, 515, 357, 408, 178],\n 293: [1449, 257, 408, 298, 742],\n 294: [181, 12, 318, 483, 288],\n 295: [169, 515, 318, 611, 1268],\n 296: [69, 427, 318, 302, 588],\n 297: [408, 1449, 169, 1121, 921],\n 298: [127, 1449, 64, 12, 9],\n 299: [111, 269, 320, 357, 1524],\n 300: [268, 246, 1131, 320, 427],\n 301: [1449, 172, 313, 483, 69],\n 302: [428, 60, 408, 172, 181],\n 303: [522, 483, 521, 196, 134],\n 304: [1269, 50, 95, 294, 318],\n 305: [1449, 183, 169, 79, 1131],\n 306: [318, 588, 427, 511, 480],\n 307: [133, 12, 520, 318, 429],\n 308: [1449, 12, 320, 474, 129],\n 309: [169, 318, 12, 230, 226],\n 310: [100, 357, 147, 12, 199],\n 311: [257, 127, 169, 515, 298],\n 312: [408, 1449, 12, 318, 64],\n 313: [123, 588, 408, 144, 7],\n 314: [1449, 1439, 313, 169, 428],\n 315: [1023, 408, 357, 878, 1444],\n 316: [318, 864, 292, 181, 223],\n 317: [1449, 662, 428, 169, 932],\n 318: [169, 1449, 45, 483, 150],\n 319: [1449, 318, 169, 64],\n 320: [1449, 230, 169, 408, 515],\n 321: [230, 542, 515, 320],\n 322: [169, 408, 273, 329, 12],\n 323: [132, 12, 357, 169],\n 324: [189, 169, 1064, 64],\n 325: [1439, 474, 88, 603, 69],\n 326: [230, 181, 83, 50, 496],\n 327: [408, 318, 320, 169],\n 328: [181, 172, 50, 79, 474],\n 329: [1449, 408, 483, 357, 7],\n 330: [318, 1449, 133, 22, 132],\n 331: [181, 408, 172, 45, 12],\n 332: [458, 1085, 408, 318, 272],\n 333: [230, 429, 318, 1449, 561],\n 334: [1449, 408, 181, 50, 357],\n 335: [1449, 515, 474, 315, 408],\n 336: [169, 12, 318, 64, 1677],\n 337: [1439, 313, 79, 408, 47],\n 338: [1449, 134, 60, 285, 56],\n 339: [172, 318, 320, 257, 12],\n 340: [96, 181, 64, 22, 496],\n 341: [1439, 318, 45, 515, 47],\n 342: [282, 474, 932, 106, 717],\n 343: [654, 181, 12, 50, 866],\n 344: [134, 474, 385, 123, 409],\n 345: [230, 409, 385, 542, 615],\n 346: [169, 181, 409, 408, 932],\n 347: [64, 1449, 313, 60, 79],\n 348: [1449, 169, 408, 210],\n 349: [1449, 1439, 169, 939, 181],\n 350: [1449, 320, 134, 408, 474],\n 351: [512, 428, 169, 385, 320],\n 352: [1449, 483, 127, 515],\n 353: [408, 79, 542, 1467, 169],\n 354: [50, 483, 405, 1449, 474],\n 355: [60, 45, 512, 428, 113],\n 356: [181, 357, 13, 318, 742],\n 357: [1449, 79, 542, 230, 966],\n 358: [429, 83, 230, 483, 132],\n 359: [169, 483, 257, 230, 385],\n 360: [932, 408, 1449, 134, 603],\n 361: [1449, 483, 318, 134, 144],\n 362: [318, 79, 1449, 521, 520],\n 363: [79, 483, 1449, 393, 100],\n 364: [684, 318, 408, 174, 50],\n 365: [175, 408, 60, 98],\n 366: [428, 60, 1439, 923, 387],\n 367: [169, 246, 150, 9, 12],\n 368: [428, 408, 169, 318, 1200],\n 369: [169, 1439, 12, 64, 334],\n 370: [1449, 474, 483, 178, 678],\n 371: [318, 181, 408, 1449, 483],\n 372: [169, 257, 318, 64, 408],\n 373: [318, 172, 408, 523],\n 374: [409, 230, 222, 169, 257],\n 375: [1449, 408, 521, 318, 483],\n 376: [45, 165, 126, 318, 106],\n 377: [1449, 169, 45, 486, 199],\n 378: [127, 79, 483, 194, 385],\n 379: [1449, 605, 483, 69],\n 380: [1449, 408, 169, 313, 483],\n 381: [1323, 904, 1368, 1377, 100],\n 382: [60, 1524, 100, 291, 181],\n 383: [603, 1449, 474, 1, 181],\n 384: [169, 408, 187, 385, 515],\n 385: [408, 647, 313, 172, 285],\n 386: [428, 433, 408, 1017, 320],\n 387: [409, 134, 393, 38, 285],\n 388: [64, 69, 313, 41, 939],\n 389: [50, 169, 320, 408, 12],\n 390: [318, 1449, 408, 542, 427],\n 391: [1449, 230, 169, 176, 408],\n 392: [427, 428, 408, 79, 357],\n 393: [385, 257, 169, 966, 1496],\n 394: [486, 1439, 1041, 385, 483],\n 395: [385, 408, 470, 1449, 550],\n 396: [1449, 181, 79, 515, 550],\n 397: [1449, 550, 100, 64, 511],\n 398: [64, 318, 512, 169, 47],\n 399: [1439, 408, 1405, 483, 867],\n 400: [181, 79, 150, 433, 1449],\n 401: [181, 408, 169, 1395, 427],\n 402: [611, 662, 79, 320, 1131],\n 403: [60, 385, 408, 96, 966],\n 404: [1439, 79, 385, 313, 174],\n 405: [96, 127, 172, 496, 521],\n 406: [230, 127, 408, 229, 12],\n 407: [318, 12, 1449, 64],\n 408: [428, 175, 385, 318, 79],\n 409: [385, 169, 257, 187, 7],\n 410: [127, 169, 199, 521, 806],\n 411: [127, 230, 169, 176, 427],\n 412: [181, 318, 1131, 483],\n 413: [318, 428, 542, 60, 408],\n 414: [194, 79, 12, 320, 181],\n 415: [408, 385, 88, 12],\n 416: [1449, 64, 50, 169, 246],\n 417: [318, 1449, 408, 521, 1439],\n 418: [611, 79, 60, 50, 1512],\n 419: [428, 132, 521, 1439, 611],\n 420: [428, 888, 123, 483, 433],\n 421: [226, 150, 408, 480, 199],\n 422: [318, 169, 1449, 319, 408],\n 423: [320, 408, 963, 1449, 385],\n 424: [1449, 169, 408, 511, 318],\n 425: [864, 268, 246, 480, 181],\n 426: [955, 408, 603, 169, 476],\n 427: [170, 1203, 648, 657, 223],\n 428: [169, 408, 238, 216, 242],\n 429: [60, 45, 1439, 318, 511],\n 430: [1449, 47, 127, 428, 483],\n 431: [479, 1449, 79, 64, 7],\n 432: [385, 318, 123, 175, 963],\n 433: [1449, 172, 433, 50, 133],\n 434: [258, 1449, 631, 433, 616],\n 435: [268, 408, 320, 690, 173],\n 436: [127, 1131, 70, 588, 521],\n 437: [50, 100, 647, 197, 474],\n 438: [318, 1449, 286, 520],\n 439: [70, 1449, 318, 26, 1131],\n 440: [408, 1449, 45, 178, 190],\n 442: [181, 357, 1640, 50, 474],\n 444: [318, 45, 1439, 486, 60],\n 445: [88, 781, 175, 427, 186],\n 446: [408, 88, 181, 216, 169],\n 447: [64, 428, 132, 169, 172],\n 448: [483, 1439, 133, 611, 199],\n 449: [127, 408, 429, 517, 279],\n 450: [1449, 187, 50, 172, 480],\n 451: [520, 318, 226, 966, 1449],\n 452: [408, 428, 12, 603, 517],\n 453: [1449, 169, 89, 64, 408],\n 454: [1449, 50, 385, 408, 613],\n 455: [127, 194, 187, 483, 357],\n 456: [230, 169, 144, 178, 318],\n 457: [60, 1449, 480, 650, 302],\n 458: [611, 387, 60, 521, 1131],\n 459: [169, 127, 611, 385, 966],\n 460: [387, 319, 45, 865, 305],\n 462: [318, 385, 64, 512, 79]}"
     },
     "execution_count": 127,
     "metadata": {},
     "output_type": "execute_result"
    }
   ],
   "source": [
    "user_recommendations_hybrid_ss"
   ],
   "metadata": {
    "collapsed": false
   }
  },
  {
   "cell_type": "markdown",
   "source": [
    "3. Meta-level strategy where a level of one model is used as input to the other model.\n"
   ],
   "metadata": {
    "collapsed": false
   }
  },
  {
   "cell_type": "code",
   "execution_count": null,
   "outputs": [],
   "source": [],
   "metadata": {
    "collapsed": false
   }
  }
 ],
 "metadata": {
  "kernelspec": {
   "display_name": "Python 3 (ipykernel)",
   "language": "python",
   "name": "python3"
  },
  "language_info": {
   "codemirror_mode": {
    "name": "ipython",
    "version": 3
   },
   "file_extension": ".py",
   "mimetype": "text/x-python",
   "name": "python",
   "nbconvert_exporter": "python",
   "pygments_lexer": "ipython3",
   "version": "3.7.16"
  }
 },
 "nbformat": 4,
 "nbformat_minor": 5
}
