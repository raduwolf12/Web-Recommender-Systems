{
 "cells": [
  {
   "cell_type": "markdown",
   "metadata": {},
   "source": [
    "Nice read on \"How to set up Anaconda and Jupyter Notebook the right way\": https://towardsdatascience.com/how-to-set-up-anaconda-and-jupyter-notebook-the-right-way-de3b7623ea4a"
   ]
  },
  {
   "cell_type": "code",
   "execution_count": null,
   "metadata": {},
   "outputs": [],
   "source": [
    "import json\n",
    "import pandas as pd\n",
    "import gzip"
   ]
  },
  {
   "cell_type": "markdown",
   "metadata": {},
   "source": [
    "# Familiarize Yourself with the Dataset\n",
    "In the lab sessions, we will work with the \"All Beauty\" category of the Amazon Review Data, and we will use the 5-core subset. You can download the dataset and find information about it here: https://nijianmo.github.io/amazon/index.html"
   ]
  },
  {
   "cell_type": "markdown",
   "metadata": {},
   "source": [
    "## Exercise 1\n",
    "Download and import the 5-core dataset."
   ]
  },
  {
   "cell_type": "code",
   "execution_count": null,
   "metadata": {},
   "outputs": [],
   "source": [
    "def parse(path):\n",
    "    g = gzip.open(path, 'rb')\n",
    "    for l in g:\n",
    "        yield json.loads(l)\n",
    "\n",
    "def getDF(path):\n",
    "    i = 0\n",
    "    df = {}\n",
    "    for d in parse(path):\n",
    "        df[i] = d\n",
    "        i += 1\n",
    "    return pd.DataFrame.from_dict(df, orient='index')\n",
    "\n",
    "df = getDF('All_Beauty_5.json.gz')\n",
    "\n",
    "# If you unzip the folder manually, you may simply run the following command:\n",
    "# df = pd.read_json(\"All_Beauty_5.json\", lines=True)"
   ]
  },
  {
   "cell_type": "markdown",
   "metadata": {},
   "source": [
    "## Exercise 2\n",
    "\n",
    "### 2.1 \n",
    "Sort the dataset entries by the user id (`reviewerID`), product id (`asin`) and rating timestamp (`unixReviewTime`). Then, clean the dataset from missing ratings and duplicates (cases where the same user has rated the same item multiple times) if any. Keep the last entry only. How many observations does the cleaned dataset have?"
   ]
  },
  {
   "cell_type": "code",
   "execution_count": null,
   "metadata": {},
   "outputs": [],
   "source": [
    "def data_cleaning(df):\n",
    "    \n",
    "    # Write your code here\n",
    "    \n",
    "    return df_cleaned\n",
    "\n",
    "df = data_cleaning(df)"
   ]
  },
  {
   "cell_type": "markdown",
   "metadata": {},
   "source": [
    "### 2.2\n",
    "Create a test set by extracting the latest positively rated item (rating $\\geq 4$) by each user. Remove users that do not appear in the training set. How many observations does the training and test set have?"
   ]
  },
  {
   "cell_type": "code",
   "execution_count": null,
   "metadata": {},
   "outputs": [],
   "source": [
    "def data_split(df):\n",
    "    df_positive = df[df['overall']>=4]\n",
    "    \n",
    "    # Write your code here\n",
    "    \n",
    "    return training, test"
   ]
  },
  {
   "cell_type": "code",
   "execution_count": null,
   "metadata": {},
   "outputs": [],
   "source": [
    "df_train, df_test = data_split(df)\n",
    "\n",
    "print(\"Observations in training set:\", len(df_train))\n",
    "print(\"Observations in test set:\", len(df_test))"
   ]
  },
  {
   "cell_type": "markdown",
   "metadata": {},
   "source": [
    "## Exercise 3\n",
    "\n",
    "Compute the number of ratings per item in the training set. How does a barplot of the number of ratings ordered by decreasing frequency look like?\n",
    "\n",
    "Reflect on how it will affect the prediction process of a recommender system if only a small fraction of the items are rated frequently."
   ]
  },
  {
   "cell_type": "code",
   "execution_count": null,
   "metadata": {},
   "outputs": [],
   "source": [
    "import matplotlib.pyplot as plt \n",
    "\n",
    "# Write your code here\n",
    "\n",
    "plt.show()"
   ]
  },
  {
   "cell_type": "markdown",
   "metadata": {},
   "source": [
    "# Collaborative Filtering Recommender System"
   ]
  },
  {
   "cell_type": "markdown",
   "metadata": {},
   "source": [
    "## Exercise 1\n",
    "In this exercise, we are going to predict the rating of a single user-item pair using a neighborhood-based method.\n",
    "\n",
    "### 1.1\n",
    "- Represent the ratings from the training set in a user-item matrix where the rows represent users and the columns represent items.\n",
    "- Fill unobserved ratings with $0$.\n",
    "- Compute the cosine similarities between the user with `reviewerID`='A25C2M3QF9G7OQ' and all users that have rated the item with `asin`='B00EYZY6LQ'.\n",
    "- What are the similarities and what are the ratings given by these users on item 'B00EYZY6LQ'?"
   ]
  },
  {
   "cell_type": "code",
   "execution_count": null,
   "metadata": {},
   "outputs": [],
   "source": [
    "from sklearn.metrics.pairwise import cosine_similarity\n",
    "import numpy as np"
   ]
  },
  {
   "cell_type": "code",
   "execution_count": null,
   "metadata": {},
   "outputs": [],
   "source": [
    "# Loading and preparing data\n",
    "user_item_matrix = df_train.pivot_table(index='reviewerID',columns='asin',values='overall')\n",
    "user_item_matrix = user_item_matrix.fillna(0)\n",
    "target_user = user_item_matrix.loc[['A25C2M3QF9G7OQ']]\n",
    "input_users = user_item_matrix[user_item_matrix['B00EYZY6LQ']>0]\n",
    "users = pd.concat([target_user, input_users])\n",
    "\n",
    "# Write your code here to compute cosine similarity and report results\n",
    "\n"
   ]
  },
  {
   "cell_type": "markdown",
   "metadata": {},
   "source": [
    "### 1.2\n",
    "Predict the rating for user 'A25C2M3QF9G7OQ' on item 'B00EYZY6LQ' based on the ratings from the $3$ most similar users, using a weighted (by similarity) average. What is the prediction?"
   ]
  },
  {
   "cell_type": "code",
   "execution_count": null,
   "metadata": {},
   "outputs": [],
   "source": [
    "k = 3\n",
    "target_item_k = target_item.sort_values(by=#Complete, \n",
    "                                        ascending=False)[:k]\n",
    "\n",
    "prediction_KNN = # Write your code\n",
    "\n",
    "print('Predicted rating:', prediction_KNN)"
   ]
  },
  {
   "cell_type": "code",
   "execution_count": null,
   "metadata": {},
   "outputs": [],
   "source": [
    "### Recommended: Save the dataframe to load them in the next Session\n",
    "\n",
    "df_train.to_pickle(\"train_dataframe.pkl\")\n",
    "df_test.to_pickle(\"test_dataframe.pkl\")"
   ]
  }
 ],
 "metadata": {
  "kernelspec": {
   "display_name": "Python 3 (ipykernel)",
   "language": "python",
   "name": "python3"
  },
  "language_info": {
   "codemirror_mode": {
    "name": "ipython",
    "version": 3
   },
   "file_extension": ".py",
   "mimetype": "text/x-python",
   "name": "python",
   "nbconvert_exporter": "python",
   "pygments_lexer": "ipython3",
   "version": "3.8.12"
  },
  "vscode": {
   "interpreter": {
    "hash": "9d100993f59938743787fbf22e44e47f6c0fee60bf7a77a836d7556dea9ba969"
   }
  }
 },
 "nbformat": 4,
 "nbformat_minor": 2
}
