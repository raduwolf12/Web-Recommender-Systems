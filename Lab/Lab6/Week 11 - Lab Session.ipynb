{
 "cells": [
  {
   "cell_type": "markdown",
   "id": "0e3937cf",
   "metadata": {},
   "source": [
    "# Hybrid Recommender System"
   ]
  },
  {
   "cell_type": "code",
   "execution_count": 1,
   "id": "8277c499",
   "metadata": {},
   "outputs": [],
   "source": [
    "import pandas as pd\n",
    "import numpy as np"
   ]
  },
  {
   "attachments": {},
   "cell_type": "markdown",
   "id": "bfc7fc47",
   "metadata": {},
   "source": [
    "# Exercise 1\n",
    "\n",
    "In this exercise, we are going to try out different methods, that can be used to combine rankings from multiple models.\n",
    "\n",
    "Below you can see a toy dataframe with the scores of how likely a user will like 5 different items estimated with 2 different models:\n",
    "- Model 1: rating predictions from a collaborative filtering model\n",
    "- Model 2: cosine similarities from a content-based model"
   ]
  },
  {
   "cell_type": "code",
   "execution_count": 2,
   "id": "dd62acb4",
   "metadata": {},
   "outputs": [],
   "source": [
    "d = {'item_id': ['I1', 'I2', 'I3', 'I4', 'I5'],\n",
    "     'model1_score': [1.2, 2.8, 3.0, 4.5, 5.0],\n",
    "     'model2_score': [0.8, 0.5, 0.2, 0.9, 0.4]}\n",
    "df = pd.DataFrame(data=d)"
   ]
  },
  {
   "cell_type": "markdown",
   "id": "e87e4613",
   "metadata": {},
   "source": [
    "## 1.1\n",
    "\n",
    "Rank the 5 items according to the scores from model 1 and 2 respectively (higher score is better in both models)."
   ]
  },
  {
   "cell_type": "code",
   "execution_count": 1,
   "id": "4a2f5f2b",
   "metadata": {},
   "outputs": [],
   "source": [
    "#<YOUR CODE HERE>"
   ]
  },
  {
   "attachments": {},
   "cell_type": "markdown",
   "id": "deaf053f",
   "metadata": {},
   "source": [
    "## 1.2\n",
    "\n",
    "Normalize the scores from the 2 models (by subtracting the mean and dividing with the standard deviation) and compute a combined rank using the **Weighted Sum** method with $\\alpha=\\beta=1$. Round the results to 3 decimal points."
   ]
  },
  {
   "cell_type": "code",
   "execution_count": null,
   "id": "e971c7f7",
   "metadata": {},
   "outputs": [],
   "source": [
    "df['model1_score_norm'] = #<YOUR CODE HERE>\n",
    "df['model2_score_norm'] = #<YOUR CODE HERE>\n",
    "\n",
    "df['weighted_sum'] = #<YOUR CODE HERE>\n",
    "\n",
    "#<YOUR CODE HERE>"
   ]
  },
  {
   "cell_type": "markdown",
   "id": "096e54e5",
   "metadata": {},
   "source": [
    "## 1.3\n",
    "\n",
    "Merge the ranking from the 2 models using the **Borda Fuse** method."
   ]
  },
  {
   "cell_type": "code",
   "execution_count": 3,
   "id": "de7839fb",
   "metadata": {},
   "outputs": [],
   "source": [
    "#<YOUR CODE HERE>"
   ]
  },
  {
   "cell_type": "markdown",
   "id": "9216a243",
   "metadata": {},
   "source": [
    "## 1.4\n",
    "\n",
    "Merge the ranking from the 2 models using the **Reciprocal Rank Fusion** method with $k=0$."
   ]
  },
  {
   "cell_type": "code",
   "execution_count": 4,
   "id": "405182cd",
   "metadata": {},
   "outputs": [],
   "source": [
    "#<YOUR CODE HERE>"
   ]
  },
  {
   "attachments": {},
   "cell_type": "markdown",
   "id": "d40cbc81",
   "metadata": {},
   "source": [
    "# Exercise 2\n",
    "\n",
    "In this exercise, we are going to predict the rating of a single user-item pair using a hybrid method, where we use the user profiles from a content-based method as input to a collaborative filtering (neighborhood-based) method.\n",
    "\n",
    "Download and load the provided dataframe containing content-based user profiles of the user with reviewerID `A25C2M3QF9G7OQ` and all users that have rated the item with asin `B00EYZY6LQ`."
   ]
  },
  {
   "cell_type": "code",
   "execution_count": 18,
   "id": "8ef31637",
   "metadata": {},
   "outputs": [],
   "source": [
    "user_profiles = pd.read_pickle(\"user_profiles.pkl\")"
   ]
  },
  {
   "cell_type": "markdown",
   "id": "76eb1563",
   "metadata": {},
   "source": [
    "## 2.1 \n",
    "\n",
    "Compute the cosine similarities between user `A25C2M3QF9G7OQ` and the other users based on their user profiles. \n",
    "What are the similarities and what are the ratings given by these users on item `B00EYZY6LQ`?"
   ]
  },
  {
   "cell_type": "code",
   "execution_count": null,
   "id": "c9b60d01",
   "metadata": {},
   "outputs": [],
   "source": [
    "from sklearn.metrics.pairwise import cosine_similarity\n",
    "\n",
    "# Load data generated in Session 1 or the provided data splits (see Absalon, W7 Lab)\n",
    "df_train = pd.read_pickle(\"train_dataframe.pkl\")\n",
    "df_test = pd.read_pickle(\"test_dataframe.pkl\")\n",
    "\n",
    "user_item_matrix = df_train.pivot_table(index='reviewerID', columns='asin', values='overall')\n",
    "user_item_matrix = user_item_matrix.fillna(0)\n",
    "input_users = user_item_matrix[user_item_matrix['B00EYZY6LQ']>0]\n",
    "\n",
    "#<YOUR CODE HERE>"
   ]
  },
  {
   "cell_type": "markdown",
   "id": "8ebfe271",
   "metadata": {},
   "source": [
    "## 2.2\n",
    "\n",
    "Predict the rating for user `A25C2M3QF9G7OQ` on item `B00EYZY6LQ` based on the ratings from the $3$ most similar users, using a weighted (by similarity) average. What is the prediction (round it to 2 decimal points)?"
   ]
  },
  {
   "cell_type": "code",
   "execution_count": null,
   "id": "c72f35c2",
   "metadata": {},
   "outputs": [],
   "source": [
    "k = 3\n",
    "#<YOUR CODE HERE>\n",
    "prediction_hybrid = #<YOUR CODE HERE>\n",
    "\n",
    "print(f'Predicted rating: {round(prediction_hybrid,2)}')"
   ]
  }
 ],
 "metadata": {
  "kernelspec": {
   "display_name": "Python 3 (ipykernel)",
   "language": "python",
   "name": "python3"
  },
  "language_info": {
   "codemirror_mode": {
    "name": "ipython",
    "version": 3
   },
   "file_extension": ".py",
   "mimetype": "text/x-python",
   "name": "python",
   "nbconvert_exporter": "python",
   "pygments_lexer": "ipython3",
   "version": "3.10.9"
  }
 },
 "nbformat": 4,
 "nbformat_minor": 5
}
