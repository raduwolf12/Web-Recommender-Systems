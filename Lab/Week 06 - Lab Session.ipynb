{
 "cells": [
  {
   "cell_type": "markdown",
   "metadata": {},
   "source": [
    "Nice read on \"How to set up Anaconda and Jupyter Notebook the right way\": https://towardsdatascience.com/how-to-set-up-anaconda-and-jupyter-notebook-the-right-way-de3b7623ea4a"
   ]
  },
  {
   "cell_type": "code",
   "execution_count": 258,
   "metadata": {},
   "outputs": [],
   "source": [
    "import json\n",
    "import pandas as pd\n",
    "import gzip\n",
    "import numpy as np"
   ]
  },
  {
   "cell_type": "markdown",
   "metadata": {},
   "source": [
    "# Familiarize Yourself with the Dataset\n",
    "In the lab sessions, we will work with the \"All Beauty\" category of the Amazon Review Data, and we will use the 5-core subset. You can download the dataset and find information about it here: https://nijianmo.github.io/amazon/index.html"
   ]
  },
  {
   "cell_type": "markdown",
   "metadata": {},
   "source": [
    "## Exercise 1\n",
    "Download and import the 5-core dataset."
   ]
  },
  {
   "cell_type": "code",
   "execution_count": 259,
   "metadata": {},
   "outputs": [],
   "source": [
    "def parse(path):\n",
    "    g = gzip.open(path, 'rb')\n",
    "    for l in g:\n",
    "        yield json.loads(l)\n",
    "\n",
    "# def getDF(path):\n",
    "#     i = 0\n",
    "#     df = {}\n",
    "#     for d in parse(path):\n",
    "#         df[i] = d\n",
    "#         i += 1\n",
    "#     return pd.DataFrame.from_dict(path, orient='index')\n",
    "\n",
    "# df = getDF('All_Beauty_5.json.gz')\n",
    "\n",
    "# If you unzip the folder manually, you may simply run the following command:\n",
    "df = pd.read_json(\"All_Beauty_5.json\", lines=True)"
   ]
  },
  {
   "cell_type": "code",
   "execution_count": 260,
   "metadata": {},
   "outputs": [
    {
     "data": {
      "text/plain": [
       "(5269, 12)"
      ]
     },
     "execution_count": 260,
     "metadata": {},
     "output_type": "execute_result"
    }
   ],
   "source": [
    "df.shape"
   ]
  },
  {
   "cell_type": "code",
   "execution_count": 261,
   "metadata": {},
   "outputs": [
    {
     "data": {
      "text/html": [
       "<div>\n",
       "<style scoped>\n",
       "    .dataframe tbody tr th:only-of-type {\n",
       "        vertical-align: middle;\n",
       "    }\n",
       "\n",
       "    .dataframe tbody tr th {\n",
       "        vertical-align: top;\n",
       "    }\n",
       "\n",
       "    .dataframe thead th {\n",
       "        text-align: right;\n",
       "    }\n",
       "</style>\n",
       "<table border=\"1\" class=\"dataframe\">\n",
       "  <thead>\n",
       "    <tr style=\"text-align: right;\">\n",
       "      <th></th>\n",
       "      <th>overall</th>\n",
       "      <th>verified</th>\n",
       "      <th>reviewTime</th>\n",
       "      <th>reviewerID</th>\n",
       "      <th>asin</th>\n",
       "      <th>style</th>\n",
       "      <th>reviewerName</th>\n",
       "      <th>reviewText</th>\n",
       "      <th>summary</th>\n",
       "      <th>unixReviewTime</th>\n",
       "      <th>vote</th>\n",
       "      <th>image</th>\n",
       "    </tr>\n",
       "  </thead>\n",
       "  <tbody>\n",
       "    <tr>\n",
       "      <th>0</th>\n",
       "      <td>5</td>\n",
       "      <td>True</td>\n",
       "      <td>09 1, 2016</td>\n",
       "      <td>A3CIUOJXQ5VDQ2</td>\n",
       "      <td>B0000530HU</td>\n",
       "      <td>{'Size:': ' 7.0 oz', 'Flavor:': ' Classic Ice ...</td>\n",
       "      <td>Shelly F</td>\n",
       "      <td>As advertised. Reasonably priced</td>\n",
       "      <td>Five Stars</td>\n",
       "      <td>1472688000</td>\n",
       "      <td>NaN</td>\n",
       "      <td>NaN</td>\n",
       "    </tr>\n",
       "    <tr>\n",
       "      <th>1</th>\n",
       "      <td>5</td>\n",
       "      <td>True</td>\n",
       "      <td>11 14, 2013</td>\n",
       "      <td>A3H7T87S984REU</td>\n",
       "      <td>B0000530HU</td>\n",
       "      <td>{'Size:': ' 7.0 oz', 'Flavor:': ' Classic Ice ...</td>\n",
       "      <td>houserules18</td>\n",
       "      <td>Like the oder and the feel when I put it on my...</td>\n",
       "      <td>Good for the face</td>\n",
       "      <td>1384387200</td>\n",
       "      <td>NaN</td>\n",
       "      <td>NaN</td>\n",
       "    </tr>\n",
       "    <tr>\n",
       "      <th>2</th>\n",
       "      <td>1</td>\n",
       "      <td>True</td>\n",
       "      <td>08 18, 2013</td>\n",
       "      <td>A3J034YH7UG4KT</td>\n",
       "      <td>B0000530HU</td>\n",
       "      <td>{'Size:': ' 7.0 oz', 'Flavor:': ' Classic Ice ...</td>\n",
       "      <td>Adam</td>\n",
       "      <td>I bought this to smell nice after I shave.  Wh...</td>\n",
       "      <td>Smells awful</td>\n",
       "      <td>1376784000</td>\n",
       "      <td>NaN</td>\n",
       "      <td>NaN</td>\n",
       "    </tr>\n",
       "    <tr>\n",
       "      <th>3</th>\n",
       "      <td>5</td>\n",
       "      <td>False</td>\n",
       "      <td>05 3, 2011</td>\n",
       "      <td>A2UEO5XR3598GI</td>\n",
       "      <td>B0000530HU</td>\n",
       "      <td>{'Size:': ' 7.0 oz', 'Flavor:': ' Classic Ice ...</td>\n",
       "      <td>Rich K</td>\n",
       "      <td>HEY!! I am an Aqua Velva Man and absolutely lo...</td>\n",
       "      <td>Truth is There IS Nothing Like an AQUA VELVA MAN.</td>\n",
       "      <td>1304380800</td>\n",
       "      <td>25</td>\n",
       "      <td>NaN</td>\n",
       "    </tr>\n",
       "    <tr>\n",
       "      <th>4</th>\n",
       "      <td>5</td>\n",
       "      <td>True</td>\n",
       "      <td>05 6, 2011</td>\n",
       "      <td>A3SFRT223XXWF7</td>\n",
       "      <td>B00006L9LC</td>\n",
       "      <td>{'Size:': ' 200ml/6.7oz'}</td>\n",
       "      <td>C. C. Christian</td>\n",
       "      <td>If you ever want to feel pampered by a shampoo...</td>\n",
       "      <td>Bvlgari Shampoo</td>\n",
       "      <td>1304640000</td>\n",
       "      <td>3</td>\n",
       "      <td>NaN</td>\n",
       "    </tr>\n",
       "    <tr>\n",
       "      <th>...</th>\n",
       "      <td>...</td>\n",
       "      <td>...</td>\n",
       "      <td>...</td>\n",
       "      <td>...</td>\n",
       "      <td>...</td>\n",
       "      <td>...</td>\n",
       "      <td>...</td>\n",
       "      <td>...</td>\n",
       "      <td>...</td>\n",
       "      <td>...</td>\n",
       "      <td>...</td>\n",
       "      <td>...</td>\n",
       "    </tr>\n",
       "    <tr>\n",
       "      <th>5264</th>\n",
       "      <td>5</td>\n",
       "      <td>True</td>\n",
       "      <td>08 23, 2018</td>\n",
       "      <td>AUX122XW8ONG6</td>\n",
       "      <td>B01DLR9IDI</td>\n",
       "      <td>{'Design:': ' ETA-C6B5F7C374'}</td>\n",
       "      <td>Amzon Customer</td>\n",
       "      <td>I have genetic undereye darkness. Ive accepted...</td>\n",
       "      <td>Pretty Sweet!!!</td>\n",
       "      <td>1534982400</td>\n",
       "      <td>2</td>\n",
       "      <td>NaN</td>\n",
       "    </tr>\n",
       "    <tr>\n",
       "      <th>5265</th>\n",
       "      <td>5</td>\n",
       "      <td>True</td>\n",
       "      <td>08 23, 2018</td>\n",
       "      <td>AUX122XW8ONG6</td>\n",
       "      <td>B01DLR9IDI</td>\n",
       "      <td>{'Design:': ' ETA-7117EE3788'}</td>\n",
       "      <td>Amzon Customer</td>\n",
       "      <td>I absolutely love this eye gel.</td>\n",
       "      <td>As advertised</td>\n",
       "      <td>1534982400</td>\n",
       "      <td>NaN</td>\n",
       "      <td>NaN</td>\n",
       "    </tr>\n",
       "    <tr>\n",
       "      <th>5266</th>\n",
       "      <td>5</td>\n",
       "      <td>True</td>\n",
       "      <td>08 23, 2018</td>\n",
       "      <td>AUX122XW8ONG6</td>\n",
       "      <td>B01DLR9IDI</td>\n",
       "      <td>{'Design:': ' ETA-BF66BD2F87'}</td>\n",
       "      <td>Amzon Customer</td>\n",
       "      <td>The eye gel is easy to apply and I use it morn...</td>\n",
       "      <td>I'm very happy with</td>\n",
       "      <td>1534982400</td>\n",
       "      <td>NaN</td>\n",
       "      <td>NaN</td>\n",
       "    </tr>\n",
       "    <tr>\n",
       "      <th>5267</th>\n",
       "      <td>5</td>\n",
       "      <td>True</td>\n",
       "      <td>08 23, 2018</td>\n",
       "      <td>AUX122XW8ONG6</td>\n",
       "      <td>B01DLR9IDI</td>\n",
       "      <td>{'Design:': ' ETA-03868FCB34'}</td>\n",
       "      <td>Amzon Customer</td>\n",
       "      <td>Ok this eye gel is good stuff.</td>\n",
       "      <td>Does it's thing!</td>\n",
       "      <td>1534982400</td>\n",
       "      <td>NaN</td>\n",
       "      <td>NaN</td>\n",
       "    </tr>\n",
       "    <tr>\n",
       "      <th>5268</th>\n",
       "      <td>5</td>\n",
       "      <td>True</td>\n",
       "      <td>08 23, 2018</td>\n",
       "      <td>AUX122XW8ONG6</td>\n",
       "      <td>B01DLR9IDI</td>\n",
       "      <td>{'Design:': ' ETA-C4893097E9'}</td>\n",
       "      <td>Amzon Customer</td>\n",
       "      <td>This is the first eye gel/cream that actually ...</td>\n",
       "      <td>Happy</td>\n",
       "      <td>1534982400</td>\n",
       "      <td>NaN</td>\n",
       "      <td>NaN</td>\n",
       "    </tr>\n",
       "  </tbody>\n",
       "</table>\n",
       "<p>5269 rows × 12 columns</p>\n",
       "</div>"
      ],
      "text/plain": [
       "      overall  verified   reviewTime      reviewerID        asin  \\\n",
       "0           5      True   09 1, 2016  A3CIUOJXQ5VDQ2  B0000530HU   \n",
       "1           5      True  11 14, 2013  A3H7T87S984REU  B0000530HU   \n",
       "2           1      True  08 18, 2013  A3J034YH7UG4KT  B0000530HU   \n",
       "3           5     False   05 3, 2011  A2UEO5XR3598GI  B0000530HU   \n",
       "4           5      True   05 6, 2011  A3SFRT223XXWF7  B00006L9LC   \n",
       "...       ...       ...          ...             ...         ...   \n",
       "5264        5      True  08 23, 2018   AUX122XW8ONG6  B01DLR9IDI   \n",
       "5265        5      True  08 23, 2018   AUX122XW8ONG6  B01DLR9IDI   \n",
       "5266        5      True  08 23, 2018   AUX122XW8ONG6  B01DLR9IDI   \n",
       "5267        5      True  08 23, 2018   AUX122XW8ONG6  B01DLR9IDI   \n",
       "5268        5      True  08 23, 2018   AUX122XW8ONG6  B01DLR9IDI   \n",
       "\n",
       "                                                  style     reviewerName  \\\n",
       "0     {'Size:': ' 7.0 oz', 'Flavor:': ' Classic Ice ...         Shelly F   \n",
       "1     {'Size:': ' 7.0 oz', 'Flavor:': ' Classic Ice ...     houserules18   \n",
       "2     {'Size:': ' 7.0 oz', 'Flavor:': ' Classic Ice ...             Adam   \n",
       "3     {'Size:': ' 7.0 oz', 'Flavor:': ' Classic Ice ...           Rich K   \n",
       "4                             {'Size:': ' 200ml/6.7oz'}  C. C. Christian   \n",
       "...                                                 ...              ...   \n",
       "5264                     {'Design:': ' ETA-C6B5F7C374'}   Amzon Customer   \n",
       "5265                     {'Design:': ' ETA-7117EE3788'}   Amzon Customer   \n",
       "5266                     {'Design:': ' ETA-BF66BD2F87'}   Amzon Customer   \n",
       "5267                     {'Design:': ' ETA-03868FCB34'}   Amzon Customer   \n",
       "5268                     {'Design:': ' ETA-C4893097E9'}   Amzon Customer   \n",
       "\n",
       "                                             reviewText  \\\n",
       "0                      As advertised. Reasonably priced   \n",
       "1     Like the oder and the feel when I put it on my...   \n",
       "2     I bought this to smell nice after I shave.  Wh...   \n",
       "3     HEY!! I am an Aqua Velva Man and absolutely lo...   \n",
       "4     If you ever want to feel pampered by a shampoo...   \n",
       "...                                                 ...   \n",
       "5264  I have genetic undereye darkness. Ive accepted...   \n",
       "5265                    I absolutely love this eye gel.   \n",
       "5266  The eye gel is easy to apply and I use it morn...   \n",
       "5267                     Ok this eye gel is good stuff.   \n",
       "5268  This is the first eye gel/cream that actually ...   \n",
       "\n",
       "                                                summary  unixReviewTime vote  \\\n",
       "0                                            Five Stars      1472688000  NaN   \n",
       "1                                     Good for the face      1384387200  NaN   \n",
       "2                                          Smells awful      1376784000  NaN   \n",
       "3     Truth is There IS Nothing Like an AQUA VELVA MAN.      1304380800   25   \n",
       "4                                       Bvlgari Shampoo      1304640000    3   \n",
       "...                                                 ...             ...  ...   \n",
       "5264                                    Pretty Sweet!!!      1534982400    2   \n",
       "5265                                      As advertised      1534982400  NaN   \n",
       "5266                                I'm very happy with      1534982400  NaN   \n",
       "5267                                   Does it's thing!      1534982400  NaN   \n",
       "5268                                              Happy      1534982400  NaN   \n",
       "\n",
       "     image  \n",
       "0      NaN  \n",
       "1      NaN  \n",
       "2      NaN  \n",
       "3      NaN  \n",
       "4      NaN  \n",
       "...    ...  \n",
       "5264   NaN  \n",
       "5265   NaN  \n",
       "5266   NaN  \n",
       "5267   NaN  \n",
       "5268   NaN  \n",
       "\n",
       "[5269 rows x 12 columns]"
      ]
     },
     "execution_count": 261,
     "metadata": {},
     "output_type": "execute_result"
    }
   ],
   "source": [
    "df"
   ]
  },
  {
   "cell_type": "markdown",
   "metadata": {},
   "source": [
    "## Exercise 2\n",
    "\n",
    "### 2.1 \n",
    "Sort the dataset entries by the user id (`reviewerID`), product id (`asin`) and rating timestamp (`unixReviewTime`). Then, clean the dataset from missing ratings and duplicates (cases where the same user has rated the same item multiple times) if any. Keep the last entry only. How many observations does the cleaned dataset have?"
   ]
  },
  {
   "cell_type": "code",
   "execution_count": 262,
   "metadata": {},
   "outputs": [
    {
     "data": {
      "text/plain": [
       "(4092, 12)"
      ]
     },
     "execution_count": 262,
     "metadata": {},
     "output_type": "execute_result"
    }
   ],
   "source": [
    "def data_cleaning(df):\n",
    "    \n",
    "    # Write your code here\n",
    "    df_cleaned = df.sort_values(by=[\"reviewerID\", \"asin\",\"unixReviewTime\"])\n",
    "#     df_cleaned= df_cleaned.drop_duplicates(subset=['reviewerID', 'asin'])\n",
    "    df_cleaned= df_cleaned.drop_duplicates(subset=['reviewerID', 'asin'])\n",
    "#     df_cleaned= df_cleaned.dropna(axis='index')\n",
    "    df_cleaned= df_cleaned.dropna(subset=['overall'])\n",
    "    \n",
    "    return df_cleaned\n",
    "\n",
    "df = data_cleaning(df)\n",
    "\n",
    "# df.head()\n",
    "df.shape"
   ]
  },
  {
   "cell_type": "code",
   "execution_count": 263,
   "metadata": {},
   "outputs": [
    {
     "name": "stdout",
     "output_type": "stream",
     "text": [
      "rows: 4092\n"
     ]
    }
   ],
   "source": [
    "print(\"rows:\", df.shape[0])"
   ]
  },
  {
   "cell_type": "markdown",
   "metadata": {},
   "source": [
    "### 2.2\n",
    "Create a test set by extracting the latest positively rated item (rating $\\geq 4$) by each user. Remove users that do not appear in the training set. How many observations does the training and test set have?"
   ]
  },
  {
   "cell_type": "code",
   "execution_count": 264,
   "metadata": {},
   "outputs": [
    {
     "data": {
      "text/plain": [
       "3871"
      ]
     },
     "execution_count": 264,
     "metadata": {},
     "output_type": "execute_result"
    }
   ],
   "source": [
    "df[df['overall']>=4].shape[0]"
   ]
  },
  {
   "cell_type": "code",
   "execution_count": 265,
   "metadata": {},
   "outputs": [],
   "source": [
    "# def data_split(df):\n",
    "#     df_positive = df[df['overall']>=4]\n",
    "    \n",
    "     \n",
    "#     # Get the unique user IDs\n",
    "#     user_ids = np.unique(df_positive['reviewerID'])\n",
    "    \n",
    "#     # Randomly assign each user to either the training set or the test set\n",
    "#     np.random.shuffle(user_ids)\n",
    "#     num_train_users = int(len(user_ids) * 0.8)  # 80% of users in the training set\n",
    "#     train_users = set(user_ids[:num_train_users])\n",
    "    \n",
    "#     # Split the data based on the user IDs\n",
    "#     training = df_positive[df_positive['reviewerID'].isin(train_users)]\n",
    "    \n",
    "    \n",
    "#     test = df_positive.sort_values('unixReviewTime').groupby('reviewerID').tail(1)\n",
    "#     single_ratings = df_positive.groupby('reviewerID').filter(lambda x: len(x) == 1)\n",
    "#     test = test[~test['reviewerID'].isin(single_ratings['reviewerID'])]\n",
    "    \n",
    "#     return training, test"
   ]
  },
  {
   "cell_type": "code",
   "execution_count": 266,
   "metadata": {},
   "outputs": [],
   "source": [
    "# def data_split(df):\n",
    "#     df_positive = df[df['overall'] >= 4]\n",
    "#     print(df_positive.shape[0])\n",
    "#     # Get the unique user IDs\n",
    "# #     user_ids = np.unique(df_positive['reviewerID'])\n",
    "#     user_ids = np.unique(df_positive['reviewerID'])\n",
    "\n",
    "    \n",
    "#     # get latest positively rated item for each user\n",
    "#     test = df_positive.sort_values('unixReviewTime').groupby('reviewerID').tail(1)\n",
    "    \n",
    "#     # remove users that only have one positively rated item\n",
    "#     single_ratings = df_positive.groupby('reviewerID').filter(lambda x: len(x) == 1)\n",
    "#     test = test[~test['reviewerID'].isin(single_ratings['reviewerID'])]\n",
    "    \n",
    "#     # remove test set from positive ratings to get training set\n",
    "#     training = df_positive[~df_positive.index.isin(test.index)]\n",
    "    \n",
    "#     return training, test \n",
    "# # aproape bun mai trebuie modificat idk"
   ]
  },
  {
   "cell_type": "code",
   "execution_count": 270,
   "metadata": {},
   "outputs": [],
   "source": [
    "def data_split(df):\n",
    "    df_positive = df[df['overall'] >= 4] #reviewuri de peste 4 stele\n",
    "#     print(df_positive.shape[0])\n",
    "    \n",
    "    test = df_positive.sort_values('unixReviewTime').groupby('reviewerID').tail(1)\n",
    "#     print(test.shape[0])\n",
    "        \n",
    "    training = df[~df[['unixReviewTime', 'reviewerID']].isin(test[['unixReviewTime', 'reviewerID']]).all(axis=1)]\n",
    "\n",
    "    \n",
    "    users_with_one_review = df.groupby('reviewerID').size()[df.groupby('reviewerID').size() == 1].index\n",
    "#     print(len(users_with_one_review))\n",
    "    \n",
    "    test = test[~test['reviewerID'].isin(users_with_one_review)]\n",
    "\n",
    "    \n",
    "    \n",
    "    return training, test "
   ]
  },
  {
   "cell_type": "code",
   "execution_count": 271,
   "metadata": {},
   "outputs": [
    {
     "name": "stdout",
     "output_type": "stream",
     "text": [
      "Observations in training set: 3133\n",
      "Observations in test set: 949\n"
     ]
    }
   ],
   "source": [
    "df_train, df_test = data_split(df)\n",
    "\n",
    "print(\"Observations in training set:\", len(df_train))\n",
    "print(\"Observations in test set:\", len(df_test))"
   ]
  },
  {
   "cell_type": "markdown",
   "metadata": {},
   "source": [
    "## Exercise 3\n",
    "\n",
    "Compute the number of ratings per item in the training set. How does a barplot of the number of ratings ordered by decreasing frequency look like?\n",
    "\n",
    "Reflect on how it will affect the prediction process of a recommender system if only a small fraction of the items are rated frequently."
   ]
  },
  {
   "cell_type": "code",
   "execution_count": 273,
   "metadata": {},
   "outputs": [
    {
     "data": {
      "image/png": "[encoded data removed]",
      "text/plain": [
       "<Figure size 1000x600 with 1 Axes>"
      ]
     },
     "metadata": {},
     "output_type": "display_data"
    }
   ],
   "source": [
    "import matplotlib.pyplot as plt \n",
    "\n",
    "# Write your code here\n",
    "item_counts = df_train['asin'].value_counts()\n",
    "plt.figure(figsize=(10, 6))\n",
    "plt.bar(range(len(item_counts)), item_counts.values)\n",
    "plt.xlabel('Item id')\n",
    "plt.ylabel('Number of ratings(Frequency)')\n",
    "plt.show()"
   ]
  },
  {
   "cell_type": "markdown",
   "metadata": {},
   "source": [
    "# Collaborative Filtering Recommender System"
   ]
  },
  {
   "cell_type": "markdown",
   "metadata": {},
   "source": [
    "## Exercise 1\n",
    "In this exercise, we are going to predict the rating of a single user-item pair using a neighborhood-based method.\n",
    "\n",
    "### 1.1\n",
    "- Represent the ratings from the training set in a user-item matrix where the rows represent users and the columns represent items.\n",
    "- Fill unobserved ratings with $0$.\n",
    "- Compute the cosine similarities between the user with `reviewerID`='A25C2M3QF9G7OQ' and all users that have rated the item with `asin`='B00EYZY6LQ'.\n",
    "- What are the similarities and what are the ratings given by these users on item 'B00EYZY6LQ'?"
   ]
  },
  {
   "cell_type": "code",
   "execution_count": 274,
   "metadata": {},
   "outputs": [],
   "source": [
    "from sklearn.metrics.pairwise import cosine_similarity\n",
    "import numpy as np"
   ]
  },
  {
   "cell_type": "code",
   "execution_count": 275,
   "metadata": {},
   "outputs": [
    {
     "name": "stdout",
     "output_type": "stream",
     "text": [
      "asin            B0000530HU  B00006L9LC  B00021DJ32  B0002JHI1I  B0006O10P4  \\\n",
      "reviewerID                                                                   \n",
      "A105A034ZG9EHO         0.0         0.0         0.0         0.0         0.0   \n",
      "A10JB7YPWZGRF4         0.0         0.0         0.0         0.0         0.0   \n",
      "A10M2MLE2R0L6K         0.0         0.0         0.0         0.0         0.0   \n",
      "A10P0NAKKRYKTZ         0.0         0.0         0.0         0.0         0.0   \n",
      "A10ZJZNO4DAVB          0.0         5.0         0.0         0.0         0.0   \n",
      "...                    ...         ...         ...         ...         ...   \n",
      "AZCOSCQG73JZ1          0.0         0.0         0.0         0.0         0.0   \n",
      "AZD3ON9ZMEGL6          0.0         0.0         0.0         0.0         0.0   \n",
      "AZFYUPGEE6KLW          0.0         5.0         0.0         0.0         0.0   \n",
      "AZJMUP77WBQZQ          0.0         0.0         0.0         0.0         0.0   \n",
      "AZRD4IZU6TBFV          0.0         0.0         0.0         0.0         0.0   \n",
      "\n",
      "asin            B0009RF9DW  B000FI4S1E  B000FOI48G  B000FTYALG  B000GLRREU  \\\n",
      "reviewerID                                                                   \n",
      "A105A034ZG9EHO         5.0         5.0         0.0         0.0         0.0   \n",
      "A10JB7YPWZGRF4         0.0         5.0         0.0         0.0         0.0   \n",
      "A10M2MLE2R0L6K         0.0         0.0         0.0         0.0         0.0   \n",
      "A10P0NAKKRYKTZ         5.0         5.0         0.0         0.0         0.0   \n",
      "A10ZJZNO4DAVB          0.0         0.0         0.0         0.0         0.0   \n",
      "...                    ...         ...         ...         ...         ...   \n",
      "AZCOSCQG73JZ1          0.0         0.0         0.0         0.0         0.0   \n",
      "AZD3ON9ZMEGL6          5.0         5.0         0.0         0.0         0.0   \n",
      "AZFYUPGEE6KLW          0.0         0.0         0.0         0.0         0.0   \n",
      "AZJMUP77WBQZQ          0.0         0.0         0.0         0.0         0.0   \n",
      "AZRD4IZU6TBFV          5.0         5.0         0.0         0.0         0.0   \n",
      "\n",
      "asin            ...  B00VARTPKS  B00VG1AV5Q  B00W259T7G  B016V8YWBC  \\\n",
      "reviewerID      ...                                                   \n",
      "A105A034ZG9EHO  ...         0.0         0.0         0.0         0.0   \n",
      "A10JB7YPWZGRF4  ...         0.0         0.0         0.0         0.0   \n",
      "A10M2MLE2R0L6K  ...         0.0         0.0         5.0         0.0   \n",
      "A10P0NAKKRYKTZ  ...         0.0         0.0         0.0         0.0   \n",
      "A10ZJZNO4DAVB   ...         0.0         0.0         0.0         0.0   \n",
      "...             ...         ...         ...         ...         ...   \n",
      "AZCOSCQG73JZ1   ...         0.0         0.0         0.0         0.0   \n",
      "AZD3ON9ZMEGL6   ...         0.0         0.0         0.0         0.0   \n",
      "AZFYUPGEE6KLW   ...         0.0         0.0         0.0         0.0   \n",
      "AZJMUP77WBQZQ   ...         0.0         0.0         0.0         0.0   \n",
      "AZRD4IZU6TBFV   ...         0.0         0.0         0.0         0.0   \n",
      "\n",
      "asin            B019809F9Y  B019FWRG3C  B019LAI4HU  B019V2KYZS  B01BNEYGQU  \\\n",
      "reviewerID                                                                   \n",
      "A105A034ZG9EHO         0.0         0.0         0.0         0.0         0.0   \n",
      "A10JB7YPWZGRF4         0.0         0.0         0.0         0.0         0.0   \n",
      "A10M2MLE2R0L6K         0.0         0.0         0.0         0.0         0.0   \n",
      "A10P0NAKKRYKTZ         0.0         0.0         0.0         0.0         0.0   \n",
      "A10ZJZNO4DAVB          0.0         0.0         0.0         0.0         0.0   \n",
      "...                    ...         ...         ...         ...         ...   \n",
      "AZCOSCQG73JZ1          0.0         0.0         0.0         0.0         0.0   \n",
      "AZD3ON9ZMEGL6          0.0         0.0         0.0         0.0         0.0   \n",
      "AZFYUPGEE6KLW          0.0         0.0         0.0         0.0         0.0   \n",
      "AZJMUP77WBQZQ          0.0         0.0         0.0         0.0         0.0   \n",
      "AZRD4IZU6TBFV          0.0         0.0         0.0         0.0         0.0   \n",
      "\n",
      "asin            B01E7UKR38  \n",
      "reviewerID                  \n",
      "A105A034ZG9EHO         0.0  \n",
      "A10JB7YPWZGRF4         0.0  \n",
      "A10M2MLE2R0L6K         0.0  \n",
      "A10P0NAKKRYKTZ         0.0  \n",
      "A10ZJZNO4DAVB          0.0  \n",
      "...                    ...  \n",
      "AZCOSCQG73JZ1          0.0  \n",
      "AZD3ON9ZMEGL6          0.0  \n",
      "AZFYUPGEE6KLW          0.0  \n",
      "AZJMUP77WBQZQ          0.0  \n",
      "AZRD4IZU6TBFV          0.0  \n",
      "\n",
      "[981 rows x 76 columns]\n",
      "----------------------------------------------------------------------------------------------------------------\n",
      "[[1.         0.07924289 0.24514517 0.05863363 0.47398156 0.27580986\n",
      "  0.         0.         0.68283473 0.         0.         0.21337148\n",
      "  0.24514517 0.10567049]\n",
      " [0.07924289 1.         0.45456865 0.30955962 0.30273091 0.39777864\n",
      "  0.29160592 0.34647946 0.37516124 0.34366087 0.60209088 0.52753496\n",
      "  0.25253814 0.48985763]\n",
      " [0.24514517 0.45456865 1.         0.18685877 0.3866946  0.67505274\n",
      "  0.28867513 0.34299717 0.64993368 0.34020691 0.33113309 0.6092718\n",
      "  0.5        0.26940795]\n",
      " [0.05863363 0.30955962 0.18685877 1.         0.39741503 0.16818604\n",
      "  0.3020723  0.37173378 0.13879521 0.2949678  0.44550088 0.29275144\n",
      "  0.18685877 0.44300291]\n",
      " [0.47398156 0.30273091 0.3866946  0.39741503 1.         0.40243551\n",
      "  0.16744367 0.19895273 0.33210915 0.19733426 0.19207106 0.31133136\n",
      "  0.3866946  0.1562679 ]\n",
      " [0.27580986 0.39777864 0.67505274 0.16818604 0.40243551 1.\n",
      "  0.25982792 0.42449216 0.42829334 0.30621014 0.47686891 0.61693589\n",
      "  0.50628956 0.2424861 ]\n",
      " [0.         0.29160592 0.28867513 0.3020723  0.16744367 0.25982792\n",
      "  1.         0.39605902 0.21442251 0.54997194 0.38235956 0.20100756\n",
      "  0.28867513 0.51847585]\n",
      " [0.         0.34647946 0.34299717 0.37173378 0.19895273 0.42449216\n",
      "  0.39605902 1.         0.2547719  0.46676003 0.45431085 0.46273811\n",
      "  0.34299717 0.55443699]\n",
      " [0.68283473 0.37516124 0.64993368 0.13879521 0.33210915 0.42829334\n",
      "  0.21442251 0.2547719  1.         0.25269935 0.24595948 0.53336925\n",
      "  0.41781451 0.2001112 ]\n",
      " [0.         0.34366087 0.34020691 0.2949678  0.19733426 0.30621014\n",
      "  0.54997194 0.46676003 0.25269935 1.         0.45061506 0.23688968\n",
      "  0.34020691 0.61102965]\n",
      " [0.         0.60209088 0.33113309 0.44550088 0.19207106 0.47686891\n",
      "  0.38235956 0.45431085 0.24595948 0.45061506 1.         0.64560017\n",
      "  0.33113309 0.35683955]\n",
      " [0.21337148 0.52753496 0.6092718  0.29275144 0.31133136 0.61693589\n",
      "  0.20100756 0.46273811 0.53336925 0.23688968 0.64560017 1.\n",
      "  0.39167473 0.18759162]\n",
      " [0.24514517 0.25253814 0.5        0.18685877 0.3866946  0.50628956\n",
      "  0.28867513 0.34299717 0.41781451 0.34020691 0.33113309 0.39167473\n",
      "  1.         0.26940795]\n",
      " [0.10567049 0.48985763 0.26940795 0.44300291 0.1562679  0.2424861\n",
      "  0.51847585 0.55443699 0.2001112  0.61102965 0.35683955 0.18759162\n",
      "  0.26940795 1.        ]]\n",
      "----------------------------------------------------------------------------------------------------------------\n",
      "\n",
      "Ratings on B00EYZY6LQ:\n",
      "reviewerID\n",
      "A1F7YU6O5RU432    5.0\n",
      "A1R1BFJCMWX0Y3    3.0\n",
      "A1UQBFCERIP7VJ    5.0\n",
      "A22CW0ZHY3NJH8    3.0\n",
      "A2LW5AL0KQ9P1M    4.0\n",
      "A2PD27UKAD3Q00    5.0\n",
      "A2WW57XX2UVLM6    4.0\n",
      "A2ZY49IDE6TY5I    4.0\n",
      "A39WWMBA0299ZF    5.0\n",
      "A3M6TSEV71537G    5.0\n",
      "A3S3R88HA0HZG3    4.0\n",
      "A914TQVHI872U     5.0\n",
      "AOEUN9718KVRD     3.0\n",
      "Name: B00EYZY6LQ, dtype: float64\n"
     ]
    }
   ],
   "source": [
    "# Loading and preparing data\n",
    "user_item_matrix = df_train.pivot_table(index='reviewerID',columns='asin',values='overall')\n",
    "user_item_matrix = user_item_matrix.fillna(0)\n",
    "target_user = user_item_matrix.loc[['A25C2M3QF9G7OQ']]\n",
    "input_users = user_item_matrix[user_item_matrix['B00EYZY6LQ']>0]\n",
    "users = pd.concat([target_user, input_users])\n",
    "\n",
    "# Write your code here to compute cosine similarity and report results\n",
    "\n",
    "# Represent the ratings from the training set in a user-item matrix \n",
    "user_item_matrix = df_train.pivot_table(index='reviewerID', columns='asin', values='overall')\n",
    "\n",
    "# Fill unobserved ratings with 0\n",
    "user_item_matrix = user_item_matrix.fillna(0)\n",
    "\n",
    "\n",
    "# Print the user-item matrix\n",
    "print(user_item_matrix)\n",
    "print(\"----------------------------------------------------------------------------------------------------------------\")\n",
    "\n",
    "#Compute the cosine similarities between the user with reviewerID=‘A25C2M3QF9G7OQ’\n",
    "# and all users that have rated the item with asin=‘B00EYZY6LQ\n",
    "\n",
    "# Get the ratings of the target user and the input users for the target item\n",
    "target_user = user_item_matrix.loc[['A25C2M3QF9G7OQ']]\n",
    "input_users = user_item_matrix[user_item_matrix['B00EYZY6LQ'] > 0]\n",
    "\n",
    "# Concatenate the target user and input users into a single matrix\n",
    "users = pd.concat([target_user, input_users])\n",
    "\n",
    "# Compute the cosine similarities between the target user and input users\n",
    "similarities = cosine_similarity(users)\n",
    "\n",
    "# Print the similarities\n",
    "print(similarities)\n",
    "print(\"----------------------------------------------------------------------------------------------------------------\")\n",
    "# Print the ratings given by the input users on the item 'B00EYZY6LQ'\n",
    "print(\"\\nRatings on B00EYZY6LQ:\")\n",
    "print(input_users.loc[:, 'B00EYZY6LQ'])\n"
   ]
  },
  {
   "cell_type": "markdown",
   "metadata": {},
   "source": [
    "### 1.2\n",
    "Predict the rating for user 'A25C2M3QF9G7OQ' on item 'B00EYZY6LQ' based on the ratings from the $3$ most similar users, using a weighted (by similarity) average. What is the prediction?"
   ]
  },
  {
   "cell_type": "code",
   "execution_count": 276,
   "metadata": {},
   "outputs": [
    {
     "name": "stdout",
     "output_type": "stream",
     "text": [
      "Predicted rating: 3.6691519555591072\n"
     ]
    }
   ],
   "source": [
    "k = 3\n",
    "# target_item_k = target_item.sort_values(by='B00EYZY6LQ', ascending=False)[:k]\n",
    "\n",
    "# similarity_scores = cosine_similarities[1:] # ignore first element, which is similarity of target_user with itself\n",
    "# nearest_neighbor_ratings = target_item_k.loc[input_users.index]\n",
    "# prediction_KNN = np.dot(similarity_scores, nearest_neighbor_ratings) / np.sum(similarity_scores)\n",
    "\n",
    "\n",
    "# print('Predicted rating:', prediction_KNN)\n",
    "\n",
    "# Nu mi a iesit sa fac folosing ala de sus XD\n",
    "top_similar_users = np.argsort(similarities[0, 1:])[::-1][:k]\n",
    "\n",
    "# Get the ratings of the top 3 most similar users on the target item\n",
    "top_similar_users_ratings = input_users.iloc[top_similar_users, :]['B00EYZY6LQ']\n",
    "\n",
    "# Compute the weighted average of the top 3 most similar users' ratings on the target item\n",
    "prediction_KNN = np.average(top_similar_users_ratings, weights=similarities[0, top_similar_users + 1])\n",
    "\n",
    "print('Predicted rating:', prediction_KNN)"
   ]
  },
  {
   "cell_type": "code",
   "execution_count": 277,
   "metadata": {},
   "outputs": [],
   "source": [
    "### Recommended: Save the dataframe to load them in the next Session\n",
    "\n",
    "df_train.to_pickle(\"train_dataframe.pkl\")\n",
    "df_test.to_pickle(\"test_dataframe.pkl\")"
   ]
  },
  {
   "cell_type": "code",
   "execution_count": null,
   "metadata": {},
   "outputs": [],
   "source": []
  }
 ],
 "metadata": {
  "kernelspec": {
   "display_name": "Python 3 (ipykernel)",
   "language": "python",
   "name": "python3"
  },
  "language_info": {
   "codemirror_mode": {
    "name": "ipython",
    "version": 3
   },
   "file_extension": ".py",
   "mimetype": "text/x-python",
   "name": "python",
   "nbconvert_exporter": "python",
   "pygments_lexer": "ipython3",
   "version": "3.7.16"
  },
  "vscode": {
   "interpreter": {
    "hash": "9d100993f59938743787fbf22e44e47f6c0fee60bf7a77a836d7556dea9ba969"
   }
  }
 },
 "nbformat": 4,
 "nbformat_minor": 2
}
