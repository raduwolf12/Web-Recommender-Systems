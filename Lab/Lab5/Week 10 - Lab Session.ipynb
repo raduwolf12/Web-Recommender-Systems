{
 "cells": [
  {
   "cell_type": "markdown",
   "id": "ae6011ca",
   "metadata": {},
   "source": [
    "# Content-based recommendation"
   ]
  },
  {
   "cell_type": "code",
   "execution_count": null,
   "id": "a48d8fe7",
   "metadata": {},
   "outputs": [],
   "source": [
    "# Load data generated in Session 1 or the provided data splits (see Absalon, W7 Lab)\n",
    "import pandas as pd\n",
    "\n",
    "df_train = pd.read_pickle(\"train_dataframe.pkl\")\n",
    "df_test = pd.read_pickle(\"test_dataframe.pkl\")"
   ]
  },
  {
   "cell_type": "markdown",
   "id": "4a455b8a",
   "metadata": {},
   "source": [
    "# Exercise 1\n",
    "Based on the TF-IDF vectors obtained in the Exercise 2 from Week 09, represent each user in the same vector space. Amongst other feasible solutions, you can represent a user (user profile) by computing the weighted mean of the items vectors. For all users, compute the cosine similarity with all products that they have not rated in the training set  (**unobserved ratings**). What are the top-5 recommended items for user `A39WWMBA0299ZF`? Print out the top-5 items for said user and their similarity score, rounded to three decimal places.  "
   ]
  },
  {
   "cell_type": "code",
   "execution_count": null,
   "id": "403ff409",
   "metadata": {},
   "outputs": [],
   "source": [
    "import os\n",
    "import pickle \n",
    "import numpy as np\n",
    "from collections import defaultdict\n",
    "from sklearn.metrics.pairwise import cosine_similarity\n",
    "from pprint import pprint\n",
    "from typing import Dict, Any, List\n",
    "\n",
    "# Load TF-IDF\n",
    "with open('W09_tfidf.pickle', 'rb') as handle:\n",
    "    X_tfidf = pickle.load(handle)\n",
    "with open('W09_map_asin_id.pickle', 'rb') as handle:\n",
    "    map_asin_id = pickle.load(handle)\n",
    "\n",
    "\n",
    "\n",
    "def get_top_k_user_i(predictions: Dict[str, Dict[str,float]],\n",
    "                     user_id: str, \n",
    "                     k: int) -> List[Any]:\n",
    "    \"\"\"Retrieve the top-K recommended items for a given user.\n",
    "    Args:\n",
    "        predictions: A dictionary containing the similarities \n",
    "            between users and items (e.g., keys are user ids, \n",
    "            values are dictionaries containing the similary \n",
    "            of the corresponding user to each item)\n",
    "        user_id(str): The user we want to extract top-K recommendations for \n",
    "        k(int): The number of recommendation to output for each user.\n",
    "    Returns:\n",
    "    List of recommended items  \n",
    "    \"\"\"\n",
    "    top_k = []\n",
    "    \n",
    "    # YOUR CODE HERE\n",
    "    \n",
    "    return top_k"
   ]
  },
  {
   "cell_type": "code",
   "execution_count": null,
   "id": "ae34ce47",
   "metadata": {},
   "outputs": [],
   "source": [
    "# YOUR CODE HERE\n",
    "\n",
    "K = 5\n",
    "user_id = 'A39WWMBA0299ZF' \n",
    "topk = get_top_k_user_i( )\n",
    "print(f\"Top-{K} recommended items for user '{user_id}':\")\n",
    "pprint(topk)"
   ]
  },
  {
   "cell_type": "markdown",
   "id": "599f2bbe",
   "metadata": {},
   "source": [
    "# Exercise 2\n",
    "\n"
   ]
  },
  {
   "cell_type": "markdown",
   "id": "1a7805a3",
   "metadata": {},
   "source": [
    "Compute the hit rate for the content-based recommender system from Exercise 1. Evaluate the hit rate based on the top-5, top-10 and top-20 recommendations, averaged over the total number of users. Round your final answer to 3 decimal places. Remember that, as we are evaluating the system, you should compute the hit rate over the **test set**. How well/bad does this content-based approach perform compared to the Collaborative Filtering?"
   ]
  },
  {
   "cell_type": "code",
   "execution_count": null,
   "id": "c7455795",
   "metadata": {},
   "outputs": [],
   "source": [
    "\n",
    "# YOUR CODE HERE\n"
   ]
  },
  {
   "cell_type": "markdown",
   "id": "b1d74d43",
   "metadata": {},
   "source": [
    "# Exercise 3\n",
    "\n",
    "Repeat Exercise 1 and 2, this time representing the products and users in a word2vec vector space. You may use the gensim library and download the 300-dimension embeddings from Google. Source: https://radimrehurek.com/gensim/models/word2vec.html#pretrained-models\n",
    "\n",
    "\n",
    "Remember to follow the same preprocessing pipeline as instructed in W9."
   ]
  },
  {
   "cell_type": "code",
   "execution_count": null,
   "id": "15528c37",
   "metadata": {},
   "outputs": [],
   "source": [
    "#uncomment and run the following line to install gensim\n",
    "# !pip install gensim"
   ]
  },
  {
   "cell_type": "code",
   "execution_count": null,
   "id": "ca33a843",
   "metadata": {},
   "outputs": [],
   "source": [
    "import gensim.downloader\n",
    "word2vec_vectors = gensim.downloader.load('word2vec-google-news-300')\n",
    "\n",
    "\n",
    "# YOUR CODE FROM WEEK 09 HERE\n",
    "\n",
    "\n"
   ]
  },
  {
   "cell_type": "code",
   "execution_count": null,
   "id": "06322fb1",
   "metadata": {},
   "outputs": [],
   "source": [
    "# NEW CODE HERE \n",
    "\n",
    "# Represent items in the vector space \n",
    "\n",
    "# Compute user profiles\n",
    "\n",
    "# Cosine similarities \n",
    "\n",
    "\n",
    "K = 5\n",
    "user_id = 'A39WWMBA0299ZF'\n",
    "topk = get_top_k_user_i( )\n",
    "print(f\"Top-{K} recommended items for user '{user_id}':\")\n",
    "pprint(topk)"
   ]
  },
  {
   "cell_type": "code",
   "execution_count": null,
   "id": "033cc0c1",
   "metadata": {},
   "outputs": [],
   "source": [
    "# Get top-K for all users in the test set \n",
    "\n",
    "top_5 = {}\n",
    "for user_id in test_users:\n",
    "    top_5[user_id] = get_top_k_user_i( )\n",
    "print(\"Hit Rate (top-5): {:.3f}\".format(hit_rate(top_5, df_test)))\n",
    "top_10 = {}\n",
    "for user_id in test_users:\n",
    "    top_10[user_id] = get_top_k_user_i( )\n",
    "print(\"Hit Rate (top-10): {:.3f}\".format(hit_rate(top_10, df_test)))\n",
    "top_20 = {}\n",
    "for user_id in test_users:\n",
    "    top_20[user_id] = get_top_k_user_i( )\n",
    "print(\"Hit Rate (top-20): {:.3f}\".format(hit_rate(top_20, df_test)))"
   ]
  }
 ],
 "metadata": {
  "kernelspec": {
   "display_name": "Python 3 (ipykernel)",
   "language": "python",
   "name": "python3"
  },
  "language_info": {
   "codemirror_mode": {
    "name": "ipython",
    "version": 3
   },
   "file_extension": ".py",
   "mimetype": "text/x-python",
   "name": "python",
   "nbconvert_exporter": "python",
   "pygments_lexer": "ipython3",
   "version": "3.8.12"
  }
 },
 "nbformat": 4,
 "nbformat_minor": 5
}
