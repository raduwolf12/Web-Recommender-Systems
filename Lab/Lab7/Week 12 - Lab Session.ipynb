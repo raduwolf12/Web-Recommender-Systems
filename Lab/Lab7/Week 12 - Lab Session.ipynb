{
 "cells": [
  {
   "cell_type": "markdown",
   "id": "3a33f280",
   "metadata": {},
   "source": [
    "# Explainable Recommender Systems {-}\n",
    "\n",
    "Exercises in this lab focus on explanations that are **integrated into the model**, both collaborative filtering and content-based recommender systems. Please refer to explainable recommender systems lecture slides by Christina Lioma, pages 159-169.\n",
    "\n",
    "Please refer to this supplementary resources for an example of template-based approach for generating textual explanations: https://explainablerecsys.github.io/recsys2022/ "
   ]
  },
  {
   "cell_type": "code",
   "execution_count": null,
   "id": "ac1a03f9",
   "metadata": {},
   "outputs": [],
   "source": [
    "import pandas as pd\n",
    "from sklearn.metrics.pairwise import cosine_similarity\n",
    "import numpy as np\n",
    "import matplotlib.pyplot as plt"
   ]
  },
  {
   "cell_type": "markdown",
   "id": "5073ff44",
   "metadata": {},
   "source": [
    "## Exercise 1: Explanations based on user-based collaborative filtering {-}\n",
    "In this exercise, we are going to explain the prediction from a neighborhood-based collaborative filtering recommender system. \n",
    "\n",
    "The explanation is in the form of ratings of similar users."
   ]
  },
  {
   "cell_type": "markdown",
   "id": "a34be57f",
   "metadata": {},
   "source": [
    "### 1.1 {-}\n",
    "Refer back to Lab Week 6, Collaborative Filtering, Exercise 1.1-1.2, where you computed the cosine similarities (based on ratings) between the user with reviewerID `A25C2M3QF9G7OQ` and all users that have rated the item with asin `B00EYZY6LQ`.\n",
    "\n",
    "Now, predict the rating for user `A25C2M3QF9G7OQ` on item `B00EYZY6LQ` based on the ratings from the $8$ most similar users (previously it was $3$), using a weighted (by similarity) average. What is the predicted rating (rounded to 3 decimal places)?"
   ]
  },
  {
   "cell_type": "code",
   "execution_count": null,
   "id": "c0b6a1e3",
   "metadata": {},
   "outputs": [],
   "source": [
    "# Load data splits from Week 6, the files are also uploaded in Absalon under Week 7\n",
    "train_df = pd.read_pickle(\"train_dataframe.pkl\") \n",
    "test_df = pd.read_pickle(\"test_dataframe.pkl\")\n",
    "\n",
    "#<YOUR CODE HERE>\n",
    "\n",
    "print('Predicted rating for user A25C2M3QF9G7OQ on item B00EYZY6LQ:', round(prediction_KNN,3))"
   ]
  },
  {
   "cell_type": "markdown",
   "id": "ec2f0f83",
   "metadata": {},
   "source": [
    "### 1.2 {-}\n",
    "Visualize an explanation of the prediction for the user by plotting a bar plot of the $8$ neighbors' ratings of this beauty product.\n",
    "\n",
    "The x-axis should be the rating (1-5) and the y-axis should be the number of neighbours with that rating of the beauty product."
   ]
  },
  {
   "cell_type": "code",
   "execution_count": null,
   "id": "6e5f2056",
   "metadata": {},
   "outputs": [],
   "source": [
    "neigbors_rating = []\n",
    "neigbors_number = []\n",
    "\n",
    "#<YOUR CODE HERE>\n",
    "\n",
    "%matplotlib inline\n",
    "plt.bar(neigbors_rating, neigbors_number)\n",
    "plt.xticks(neigbors_rating)\n",
    "plt.yticks(range(1, np.max(neigbors_number)+1))\n",
    "plt.xlabel('Rating')\n",
    "plt.ylabel('Number of neighbors')\n",
    "plt.title('Your neighbors’ ratings for this beauty product')\n",
    "plt.show()"
   ]
  },
  {
   "cell_type": "markdown",
   "id": "47677c56",
   "metadata": {},
   "source": [
    "## Exercise 2: Explanations based on content-based recommender system {-}\n",
    "\n",
    "In this exercise, we are going to explain the prediction from a content-based recommender system. \n",
    "\n",
    "The explanation is in the form of the item features that are similar to the items that have been rated by a user. \n",
    "\n",
    "### 2.1 {-}\n",
    "\n",
    "Print **all** the items rated by the user with reviewerID `A39WWMBA0299ZF` (in `train_df`) and look at all the `title` given in the metadata.\n",
    "\n",
    "_Hint_: there should be 3 items."
   ]
  },
  {
   "cell_type": "code",
   "execution_count": null,
   "id": "f4ce4c30",
   "metadata": {},
   "outputs": [],
   "source": [
    "# uncomment and run this line to see enlarge the column width of pandas dataframe\n",
    "# pd.set_option('display.max_colwidth', None)"
   ]
  },
  {
   "cell_type": "code",
   "execution_count": null,
   "id": "52f2d6aa",
   "metadata": {},
   "outputs": [],
   "source": [
    "user_id = 'A39WWMBA0299ZF'\n",
    "\n",
    "#<YOUR CODE HERE>\n"
   ]
  },
  {
   "cell_type": "markdown",
   "id": "7c0abd8d",
   "metadata": {},
   "source": [
    "### 2.2 {-}\n",
    "\n",
    "Recall that in Lab Week 10, Exercise 1, we used a content-based recommender system based on TF-IDF to get the top-5 recommended items for user `A39WWMBA0299ZF`. The recommended items are in this order: 'B019FWRG3C', 'B00W259T7G', 'B00IJHY54S', 'B0006O10P4', 'B000LIBUBY'\n",
    "\n",
    "Print the item titles given in the metadata. What do these titles have in common with the titles of item rated by the user?\n",
    "\n",
    "Check if one of the recommended items is in the test set (`test_df`)."
   ]
  },
  {
   "cell_type": "code",
   "execution_count": null,
   "id": "440e3736",
   "metadata": {},
   "outputs": [],
   "source": [
    "recommended_item = ['B019FWRG3C', 'B00W259T7G', 'B00IJHY54S', 'B0006O10P4', 'B000LIBUBY']"
   ]
  },
  {
   "cell_type": "code",
   "execution_count": null,
   "id": "1ab0675a",
   "metadata": {},
   "outputs": [],
   "source": [
    "print(\"These are the titles of the recommended items:\")\n",
    "\n",
    "#<YOUR CODE HERE>\n"
   ]
  },
  {
   "cell_type": "code",
   "execution_count": null,
   "id": "2226c8be",
   "metadata": {},
   "outputs": [],
   "source": [
    "print(f\"Item {test_df[test_df.reviewerID=='A39WWMBA0299ZF'].asin.values[0]} is rated by the user in the test set.\")"
   ]
  }
 ],
 "metadata": {
  "kernelspec": {
   "display_name": "Python 3 (ipykernel)",
   "language": "python",
   "name": "python3"
  },
  "language_info": {
   "codemirror_mode": {
    "name": "ipython",
    "version": 3
   },
   "file_extension": ".py",
   "mimetype": "text/x-python",
   "name": "python",
   "nbconvert_exporter": "python",
   "pygments_lexer": "ipython3",
   "version": "3.8.12"
  }
 },
 "nbformat": 4,
 "nbformat_minor": 5
}
